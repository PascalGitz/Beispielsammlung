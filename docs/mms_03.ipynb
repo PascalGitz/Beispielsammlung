{
 "cells": [
  {
   "cell_type": "code",
   "execution_count": 1,
   "metadata": {},
   "outputs": [],
   "source": [
    "%run \"..\\src\\utils\\style_and_packages.ipynb\""
   ]
  },
  {
   "cell_type": "markdown",
   "metadata": {},
   "source": [
    "# Beispiel: Balken mit Tilger{#sec-tilger}\n",
    "\n",
    "\n",
    "## Aufgabenstellung\n",
    "\n",
    "Das Beispiel ist die Weiterführung der Aufgabe in @sec-ems_untilg.\n",
    "Ein einfacher Balken mit einer Einzelmasse, welcher in dieser Aufgabe mit Tilger ausgestattet ist, ist in @fig-mms_tilg_tilger dargestellt. Die Masse erfährt eine dynamische Einwirkung durch die Funktion $F(t)$. \n",
    "\n",
    "![Statisches System des Balkens mit Tilger](../images/aufgabe_mms_tilg_system.svg){#fig-mms_tilg_tilger}\n",
    "\n",
    "Gesucht:\n",
    "\n",
    "- Normierte Eigenform\n",
    "- Maximale dynamische Verformung mittels stationärer Lösung\n",
    "- Maximale dynamische Beschleunigung mittels stationärer Lösung\n",
    "\n",
    "Gegeben:\n",
    "\n",
    "\n",
    "\n",
    "\n"
   ]
  },
  {
   "cell_type": "code",
   "execution_count": 2,
   "metadata": {},
   "outputs": [],
   "source": [
    "E, I, m_H, m_T, k_T, L, F_0, omega, delta_11, delta_12 = sp.symbols('E, I, m_H, m_T, k_T, L, F_0, omega, delta_11, delta_12')\n",
    "\n",
    "t = sp.symbols('t')\n",
    "\n",
    "k_T, k_H = sp.symbols('k_T, k_H')\n",
    "\n",
    "omega_n =sp.symbols('omega_n')\n",
    "\n",
    "phi_11, phi_21, phi_12, phi_22 = sp.symbols('phi_11, phi_21, phi_12, phi_22')\n"
   ]
  },
  {
   "cell_type": "code",
   "execution_count": 3,
   "metadata": {},
   "outputs": [
    {
     "data": {
      "text/markdown": [
       "|   |   |\n",
       "|---|---|\n",
       "| $E = \\frac{200000 \\text{N}}{\\text{mm}^{2}}$ | $F_{0} = 800.0 \\text{N}$ |\n",
       "| $I = 200000000 \\text{mm}^{4}$ | $L = 5 \\text{m}$ |\n",
       "| $k_{T} = \\frac{90000 \\text{N}}{\\text{m}}$ | $m_{H} = \\frac{2000 \\text{N} \\text{s}^{2}}{\\text{m}}$ |\n",
       "| $m_{T} = \\frac{150 \\text{N} \\text{s}^{2}}{\\text{m}}$ | $\\omega = \\frac{12.6}{\\text{s}}$ |\n",
       "| $\\phi_{11} = 1$ | $\\phi_{12} = 1$ |\n",
       "| $\\zeta = 0.0$ | |\n"
      ],
      "text/plain": [
       "<IPython.core.display.Markdown object>"
      ]
     },
     "metadata": {},
     "output_type": "display_data"
    }
   ],
   "source": [
    "#| label: tbl-parameter_mms4\n",
    "#| tbl-cap: Parameter der Aufgabenstellung\n",
    "\n",
    "params = {E: 200*10**3 *unit.N/unit.mm**2,\n",
    "          I:2*10**8*unit.mm**4,\n",
    "          m_H:2000*unit.N*unit.second**2/unit.m,\n",
    "          m_T:150*unit.N*unit.second**2/unit.m,\n",
    "          k_T:90*10**3*unit.N/unit.m,\n",
    "          L:5*unit.m,\n",
    "          F_0:0.8*10**3*unit.N,\n",
    "          omega:12.6/unit.second,\n",
    "          phi_11:1,\n",
    "          phi_12:1,\n",
    "          zeta:0.0         \n",
    "          }\n",
    "\n",
    "render.dict_to_table(params)"
   ]
  },
  {
   "cell_type": "markdown",
   "metadata": {},
   "source": [
    "\n",
    "$$\n",
    "F(t) = F_0 \\cdot \\sin(\\omega\\cdot t) = 0.8 \\text{kN} \\cdot (12.6 \\frac{\\text{rad}}{\\text{s}}\\cdot t)\n",
    "$$"
   ]
  },
  {
   "cell_type": "markdown",
   "metadata": {},
   "source": [
    "{{< pagebreak >}}\n",
    "\n",
    "## Musterlösung"
   ]
  },
  {
   "cell_type": "code",
   "execution_count": 4,
   "metadata": {},
   "outputs": [],
   "source": [
    "F_t = F_0 * sp.sin(omega*t)"
   ]
  },
  {
   "cell_type": "markdown",
   "metadata": {},
   "source": [
    "### Bemerkung Tilgerauslegung\n",
    "\n",
    "Die Auslegung des Tilgers kann folgender massen geschehen:\n",
    "\n",
    "- Tilgermasse $5\\%$ von der Masse des Hauptträgers.\n",
    "- Optimale Frequenz bestimmen: \n",
    "$$\n",
    "f_{T,opt} =\\frac{f_H}{1+\\frac{m_T}{m_H}}\n",
    "$${#eq-mms_tilg_optimale_frequenz}\n",
    "- Daraus die optimale Steifigkeit bestimmen:\n",
    "$$\n",
    "k_{T,opt} = (2 \\pi f_{T,opt})^2\n",
    "$${#eq-mms_tilg_optimale_steif}\n"
   ]
  },
  {
   "cell_type": "markdown",
   "metadata": {},
   "source": [
    "### Steifigkeitsmatrix $\\mathbf{K}$\n",
    "\n",
    "\n",
    "![Auslenkung am ersten Freiheitsgrad](../images/aufgabe_mms_tilg_auslenk2.svg){#fig-mms_tilg_auslenkung_1}\n",
    "\n",
    "\n",
    "Wichtig dabei sind die Richtungen der Kräfte. Als Denkstütze gilt folgendes:\n",
    "\n",
    "- Der Auslenkung um $u$ wirkt die Federkraft entgegen, welche $k u$ entspricht.\n",
    "- Zusätzlich wirkt die Trägheitskraft der Auslenkung entgegen, welche $m u''$ entspricht.\n",
    "- Nach der Betrachtung des ausgelenkten Punkts, kann mittels *Actio-Reactio*-Prinzip das \"*Stockwerk*\" ins Gleichgewicht gebracht werden.\n",
    "- Vorzeichen sind gegen der Bewegungsrichtig positiv.\n",
    "\n",
    "![Auslenkung am zweiten Freiheitsgrad](../images/aufgabe_mms_tilg_auslenk1.svg){#fig-mms_tilg_auslenkung_2}\n"
   ]
  },
  {
   "cell_type": "code",
   "execution_count": 5,
   "metadata": {},
   "outputs": [
    {
     "data": {
      "text/latex": [
       "\\begin{equation}\\mathbf{K} = \\left[\\begin{matrix}k_{H} + k_{T} & - k_{T}\\\\- k_{T} & k_{T}\\end{matrix}\\right]\\end{equation}"
      ],
      "text/plain": [
       "    ⎡k_H + k_T  -k_T⎤\n",
       "K = ⎢               ⎥\n",
       "    ⎣  -k_T     k_T ⎦"
      ]
     },
     "metadata": {},
     "output_type": "display_data"
    },
    {
     "data": {
      "text/latex": [
       "\\begin{equation}\\mathbf{K} = \\left[\\begin{matrix}\\frac{2010000 \\text{N}}{\\text{m}} & - \\frac{90000 \\text{N}}{\\text{m}}\\\\- \\frac{90000 \\text{N}}{\\text{m}} & \\frac{90000 \\text{N}}{\\text{m}}\\end{matrix}\\right]\\end{equation}"
      ],
      "text/plain": [
       "    ⎡2010000⋅newton  -90000⋅newton ⎤\n",
       "    ⎢──────────────  ──────────────⎥\n",
       "    ⎢    meter           meter     ⎥\n",
       "K = ⎢                              ⎥\n",
       "    ⎢-90000⋅newton    90000⋅newton ⎥\n",
       "    ⎢──────────────   ──────────── ⎥\n",
       "    ⎣    meter           meter     ⎦"
      ]
     },
     "metadata": {},
     "output_type": "display_data"
    }
   ],
   "source": [
    "\n",
    "params['k_H'] = (48 * E*I / (2*L)**3).subs(params).simplify()\n",
    "K = sp.Matrix([[k_H + k_T, -k_T],[-k_T, k_T]])\n",
    "\n",
    "\n",
    "render.eq_display(sp.MatrixSymbol('K', 2,2), K,\n",
    "                  sp.MatrixSymbol('K', 2,2), K.subs(params),\n",
    "                  )"
   ]
  },
  {
   "cell_type": "markdown",
   "metadata": {},
   "source": [
    "### Eigenvektoren\n",
    "#### Massenmatrix $\\mathbf{M}$ \n",
    "\n",
    "Die Massenmatrix folgt dem Aufbau der Steifigkeitsmatrix. Es gelten die gleichen Vorzeichenregelungen. Die Einträge beziehen sich auf @fig-mms_tilg_auslenkung_2 und @fig-mms_tilg_auslenkung_1."
   ]
  },
  {
   "cell_type": "code",
   "execution_count": 6,
   "metadata": {},
   "outputs": [
    {
     "data": {
      "text/latex": [
       "\\begin{equation}\\mathbf{M} = \\left[\\begin{matrix}m_{H} & 0\\\\0 & m_{T}\\end{matrix}\\right]\\end{equation}"
      ],
      "text/plain": [
       "    ⎡m_H   0 ⎤\n",
       "M = ⎢        ⎥\n",
       "    ⎣ 0   m_T⎦"
      ]
     },
     "metadata": {},
     "output_type": "display_data"
    },
    {
     "data": {
      "text/latex": [
       "\\begin{equation}\\mathbf{M} = \\left[\\begin{matrix}\\frac{2000 \\text{N} \\text{s}^{2}}{\\text{m}} & 0\\\\0 & \\frac{150 \\text{N} \\text{s}^{2}}{\\text{m}}\\end{matrix}\\right]\\end{equation}"
      ],
      "text/plain": [
       "    ⎡                  2                    ⎤\n",
       "    ⎢2000⋅newton⋅second                     ⎥\n",
       "    ⎢───────────────────          0         ⎥\n",
       "    ⎢       meter                           ⎥\n",
       "M = ⎢                                       ⎥\n",
       "    ⎢                                      2⎥\n",
       "    ⎢                     150⋅newton⋅second ⎥\n",
       "    ⎢         0           ──────────────────⎥\n",
       "    ⎣                           meter       ⎦"
      ]
     },
     "metadata": {},
     "output_type": "display_data"
    }
   ],
   "source": [
    "M = sp.Matrix([[m_H, 0],[0, m_T]])\n",
    "\n",
    "render.eq_display(sp.MatrixSymbol('M', 2,2), M,\n",
    "                  sp.MatrixSymbol('M', 2,2), M.subs(params))"
   ]
  },
  {
   "cell_type": "markdown",
   "metadata": {},
   "source": [
    "#### Eigenkreisfrequenzen \n",
    "Bei einem Mehrmassenschwinger gibt es entsprechend den Freiheitsgraden Eigenkreisfrequenzen $\\omega_n$. Diese lassen sich anhand folgender Gleichung bestimmen:\n",
    "\n",
    "$$\n",
    "\\det{[\\mathbf{K}-\\omega_n^2 \\mathbf{M}]=0}\n",
    "$${#eq-mms_tilg_eigenkreisfrequenzen}"
   ]
  },
  {
   "cell_type": "code",
   "execution_count": 7,
   "metadata": {},
   "outputs": [
    {
     "data": {
      "text/latex": [
       "\\begin{equation}\\omega_{1} = \\frac{23.3}{\\text{s}}\\end{equation}"
      ],
      "text/plain": [
       "      23.3 \n",
       "ω₁ = ──────\n",
       "     second"
      ]
     },
     "metadata": {},
     "output_type": "display_data"
    },
    {
     "data": {
      "text/latex": [
       "\\begin{equation}\\omega_{2} = \\frac{32.6}{\\text{s}}\\end{equation}"
      ],
      "text/plain": [
       "      32.6 \n",
       "ω₂ = ──────\n",
       "     second"
      ]
     },
     "metadata": {},
     "output_type": "display_data"
    }
   ],
   "source": [
    "eq_omega = sp.det(K-omega_n**2*M)\n",
    "\n",
    "omega_n_solve = sp.solve(eq_omega, omega_n)\n",
    "omega_1 = omega_n_solve[1]\n",
    "omega_2 = omega_n_solve[3]\n",
    "\n",
    "render.eq_display('omega_1', omega_1.subs(params).simplify().evalf(3),\n",
    "                  'omega_2', omega_2.subs(params).simplify().evalf(3))"
   ]
  },
  {
   "cell_type": "markdown",
   "metadata": {},
   "source": [
    "#### Eigenvektoren $\\phi$\n",
    "\n",
    "$$\n",
    "\\phi_n = \\begin{bmatrix}\n",
    "\\phi_{1n}\\\\\n",
    "\\phi_{2n} \n",
    "\\end{bmatrix}\n",
    "$${#eq-mms_tilg_eigenvek}\n",
    "$$\n",
    "[\\mathbf{K}-\\omega_n^2 \\mathbf{M}]\\cdot \\begin{bmatrix}\n",
    "\\phi_{1n}\\\\\n",
    "\\phi_{2n} \n",
    "\\end{bmatrix}\n",
    "=0$${#eq-mms_tilg_eigenvek_eq}\n",
    "\n",
    "\n",
    "Dazu ist die entsprechende Normierung aus der Aufgabenstellung zu berücksichtigen."
   ]
  },
  {
   "cell_type": "code",
   "execution_count": 8,
   "metadata": {},
   "outputs": [
    {
     "data": {
      "text/latex": [
       "\\begin{equation}\\left[\\begin{matrix}\\frac{- k_{T} m_{T} \\phi_{21} + \\frac{\\phi_{11} \\left(- k_{T} m_{H} + m_{T} \\left(k_{H} + k_{T}\\right) + \\sqrt{k_{H}^{2} m_{T}^{2} - 2 k_{H} k_{T} m_{H} m_{T} + 2 k_{H} k_{T} m_{T}^{2} + k_{T}^{2} m_{H}^{2} + 2 k_{T}^{2} m_{H} m_{T} + k_{T}^{2} m_{T}^{2}}\\right)}{2}}{m_{T}}\\\\\\frac{- k_{T} m_{H} \\phi_{11} + \\frac{\\phi_{21} \\left(k_{T} m_{H} - m_{T} \\left(k_{H} + k_{T}\\right) + \\sqrt{k_{H}^{2} m_{T}^{2} - 2 k_{H} k_{T} m_{H} m_{T} + 2 k_{H} k_{T} m_{T}^{2} + k_{T}^{2} m_{H}^{2} + 2 k_{T}^{2} m_{H} m_{T} + k_{T}^{2} m_{T}^{2}}\\right)}{2}}{m_{H}}\\end{matrix}\\right] = \\left[\\begin{matrix}0\\\\0\\end{matrix}\\right]\\end{equation}"
      ],
      "text/plain": [
       "⎡                   ⎛                                _________________________\n",
       "⎢                   ⎜                               ╱    2    2               \n",
       "⎢               φ₁₁⋅⎝-k_T⋅m_H + m_T⋅(k_H + k_T) + ╲╱  k_H ⋅m_T  - 2⋅k_H⋅k_T⋅m_\n",
       "⎢-k_T⋅m_T⋅φ₂₁ + ──────────────────────────────────────────────────────────────\n",
       "⎢                                                                             \n",
       "⎢─────────────────────────────────────────────────────────────────────────────\n",
       "⎢                                                                     m_T     \n",
       "⎢                                                                             \n",
       "⎢                   ⎛                               __________________________\n",
       "⎢                   ⎜                              ╱    2    2                \n",
       "⎢               φ₂₁⋅⎝k_T⋅m_H - m_T⋅(k_H + k_T) + ╲╱  k_H ⋅m_T  - 2⋅k_H⋅k_T⋅m_H\n",
       "⎢-k_T⋅m_H⋅φ₁₁ + ──────────────────────────────────────────────────────────────\n",
       "⎢                                                                             \n",
       "⎢─────────────────────────────────────────────────────────────────────────────\n",
       "⎣                                                                     m_H     \n",
       "\n",
       "________________________________________________________________⎞⎤      \n",
       "                     2      2    2        2              2    2 ⎟⎥      \n",
       "H⋅m_T + 2⋅k_H⋅k_T⋅m_T  + k_T ⋅m_H  + 2⋅k_T ⋅m_H⋅m_T + k_T ⋅m_T  ⎠⎥      \n",
       "─────────────────────────────────────────────────────────────────⎥      \n",
       " 2                                                               ⎥      \n",
       "─────────────────────────────────────────────────────────────────⎥      \n",
       "                                                                 ⎥   ⎡0⎤\n",
       "                                                                 ⎥ = ⎢ ⎥\n",
       "_______________________________________________________________⎞ ⎥   ⎣0⎦\n",
       "                    2      2    2        2              2    2 ⎟ ⎥      \n",
       "⋅m_T + 2⋅k_H⋅k_T⋅m_T  + k_T ⋅m_H  + 2⋅k_T ⋅m_H⋅m_T + k_T ⋅m_T  ⎠ ⎥      \n",
       "──────────────────────────────────────────────────────────────── ⎥      \n",
       "2                                                                ⎥      \n",
       "──────────────────────────────────────────────────────────────── ⎥      \n",
       "                                                                 ⎦      "
      ]
     },
     "metadata": {},
     "output_type": "display_data"
    },
    {
     "data": {
      "text/latex": [
       "\\begin{equation}\\mathbf{\\phi}_{1} = \\left[\\begin{matrix}1.0\\\\10.3\\end{matrix}\\right]\\end{equation}"
      ],
      "text/plain": [
       "     ⎡1.0 ⎤\n",
       "φ₁ = ⎢    ⎥\n",
       "     ⎣10.3⎦"
      ]
     },
     "metadata": {},
     "output_type": "display_data"
    }
   ],
   "source": [
    "\n",
    "phi_1 = sp.Matrix([[phi_11], [phi_21]])\n",
    "\n",
    "phi_21 = list(sp.solve((K-omega_1**2 *M)*phi_1, phi_21).values())[0]\n",
    "\n",
    "params['phi_21'] = phi_21.subs(params).simplify() \n",
    "\n",
    "\n",
    "\n",
    "\n",
    "render.eq_display(sp.simplify((K-omega_1**2 *M)*phi_1),sp.Matrix([[0],[0]]),\n",
    "                  sp.MatrixSymbol('phi_1', 2,1),sp.simplify(phi_1.subs(params)).evalf(3))\n"
   ]
  },
  {
   "cell_type": "code",
   "execution_count": 9,
   "metadata": {},
   "outputs": [
    {
     "data": {
      "text/latex": [
       "\\begin{equation}\\left[\\begin{matrix}\\frac{- k_{T} m_{T} \\phi_{22} + \\frac{\\phi_{12} \\left(- k_{T} m_{H} + m_{T} \\left(k_{H} + k_{T}\\right) - \\sqrt{k_{H}^{2} m_{T}^{2} - 2 k_{H} k_{T} m_{H} m_{T} + 2 k_{H} k_{T} m_{T}^{2} + k_{T}^{2} m_{H}^{2} + 2 k_{T}^{2} m_{H} m_{T} + k_{T}^{2} m_{T}^{2}}\\right)}{2}}{m_{T}}\\\\\\frac{- k_{T} m_{H} \\phi_{12} + \\frac{\\phi_{22} \\left(k_{T} m_{H} - m_{T} \\left(k_{H} + k_{T}\\right) - \\sqrt{k_{H}^{2} m_{T}^{2} - 2 k_{H} k_{T} m_{H} m_{T} + 2 k_{H} k_{T} m_{T}^{2} + k_{T}^{2} m_{H}^{2} + 2 k_{T}^{2} m_{H} m_{T} + k_{T}^{2} m_{T}^{2}}\\right)}{2}}{m_{H}}\\end{matrix}\\right] = \\left[\\begin{matrix}0\\\\0\\end{matrix}\\right]\\end{equation}"
      ],
      "text/plain": [
       "⎡                   ⎛                                _________________________\n",
       "⎢                   ⎜                               ╱    2    2               \n",
       "⎢               φ₁₂⋅⎝-k_T⋅m_H + m_T⋅(k_H + k_T) - ╲╱  k_H ⋅m_T  - 2⋅k_H⋅k_T⋅m_\n",
       "⎢-k_T⋅m_T⋅φ₂₂ + ──────────────────────────────────────────────────────────────\n",
       "⎢                                                                             \n",
       "⎢─────────────────────────────────────────────────────────────────────────────\n",
       "⎢                                                                     m_T     \n",
       "⎢                                                                             \n",
       "⎢                   ⎛                               __________________________\n",
       "⎢                   ⎜                              ╱    2    2                \n",
       "⎢               φ₂₂⋅⎝k_T⋅m_H - m_T⋅(k_H + k_T) - ╲╱  k_H ⋅m_T  - 2⋅k_H⋅k_T⋅m_H\n",
       "⎢-k_T⋅m_H⋅φ₁₂ + ──────────────────────────────────────────────────────────────\n",
       "⎢                                                                             \n",
       "⎢─────────────────────────────────────────────────────────────────────────────\n",
       "⎣                                                                     m_H     \n",
       "\n",
       "________________________________________________________________⎞⎤      \n",
       "                     2      2    2        2              2    2 ⎟⎥      \n",
       "H⋅m_T + 2⋅k_H⋅k_T⋅m_T  + k_T ⋅m_H  + 2⋅k_T ⋅m_H⋅m_T + k_T ⋅m_T  ⎠⎥      \n",
       "─────────────────────────────────────────────────────────────────⎥      \n",
       " 2                                                               ⎥      \n",
       "─────────────────────────────────────────────────────────────────⎥      \n",
       "                                                                 ⎥   ⎡0⎤\n",
       "                                                                 ⎥ = ⎢ ⎥\n",
       "_______________________________________________________________⎞ ⎥   ⎣0⎦\n",
       "                    2      2    2        2              2    2 ⎟ ⎥      \n",
       "⋅m_T + 2⋅k_H⋅k_T⋅m_T  + k_T ⋅m_H  + 2⋅k_T ⋅m_H⋅m_T + k_T ⋅m_T  ⎠ ⎥      \n",
       "──────────────────────────────────────────────────────────────── ⎥      \n",
       "2                                                                ⎥      \n",
       "──────────────────────────────────────────────────────────────── ⎥      \n",
       "                                                                 ⎦      "
      ]
     },
     "metadata": {},
     "output_type": "display_data"
    },
    {
     "data": {
      "text/latex": [
       "\\begin{equation}\\mathbf{\\phi}_{2} = \\left[\\begin{matrix}1.0\\\\-1.3\\end{matrix}\\right]\\end{equation}"
      ],
      "text/plain": [
       "     ⎡1.0 ⎤\n",
       "φ₂ = ⎢    ⎥\n",
       "     ⎣-1.3⎦"
      ]
     },
     "metadata": {},
     "output_type": "display_data"
    }
   ],
   "source": [
    "phi_2 = sp.Matrix([[phi_12], [phi_22]])\n",
    "\n",
    "phi_22 = list(sp.solve((K-omega_2**2 *M)*phi_2, phi_22).values())[0]\n",
    "\n",
    "params['phi_22'] = phi_22.subs(params).simplify() \n",
    "\n",
    "\n",
    "\n",
    "\n",
    "render.eq_display(sp.simplify((K-omega_2**2 *M)*phi_2),sp.Matrix([[0],[0]]),\n",
    "                  sp.MatrixSymbol('phi_2', 2,1),sp.simplify(phi_2.subs(params)).evalf(3))\n"
   ]
  },
  {
   "cell_type": "markdown",
   "metadata": {},
   "source": [
    "#### Orthogonalitätsbedingung \n",
    "\n",
    "Zur Entkoppelung des Systems wird die Orthogonalität der Eigenvektoren kontrolliert. Siehe @sec-mms_nach_ortho für eine ausführliche Erklärung."
   ]
  },
  {
   "cell_type": "code",
   "execution_count": 10,
   "metadata": {},
   "outputs": [
    {
     "data": {
      "text/latex": [
       "\\begin{equation}\\mathbf{\\phi}_{1}^{T} \\mathbf{M} \\mathbf{\\phi}_{1} = \\left[\\begin{matrix}\\frac{1.79 \\cdot 10^{4} \\text{N} \\text{s}^{2}}{\\text{m}}\\end{matrix}\\right]\\end{equation}"
      ],
      "text/plain": [
       "           ⎡                     2⎤\n",
       "  T        ⎢1.79e+4⋅newton⋅second ⎥\n",
       "φ₁ ⋅M⋅φ₁ = ⎢──────────────────────⎥\n",
       "           ⎣        meter         ⎦"
      ]
     },
     "metadata": {},
     "output_type": "display_data"
    },
    {
     "data": {
      "text/latex": [
       "\\begin{equation}\\mathbf{\\phi}_{2}^{T} \\mathbf{M} \\mathbf{\\phi}_{2} = \\left[\\begin{matrix}\\frac{2.25 \\cdot 10^{3} \\text{N} \\text{s}^{2}}{\\text{m}}\\end{matrix}\\right]\\end{equation}"
      ],
      "text/plain": [
       "           ⎡                     2⎤\n",
       "  T        ⎢2.25e+3⋅newton⋅second ⎥\n",
       "φ₂ ⋅M⋅φ₂ = ⎢──────────────────────⎥\n",
       "           ⎣        meter         ⎦"
      ]
     },
     "metadata": {},
     "output_type": "display_data"
    },
    {
     "data": {
      "text/latex": [
       "\\begin{equation}\\mathbf{\\phi}_{2}^{T} \\mathbf{M} \\mathbf{\\phi}_{1} = \\left[\\begin{matrix}\\frac{6.103516 \\cdot 10^{-5} \\text{N} \\text{s}^{2}}{\\text{m}}\\end{matrix}\\right]\\end{equation}"
      ],
      "text/plain": [
       "           ⎡                         2⎤\n",
       "  T        ⎢6.103516e-5⋅newton⋅second ⎥\n",
       "φ₂ ⋅M⋅φ₁ = ⎢──────────────────────────⎥\n",
       "           ⎣          meter           ⎦"
      ]
     },
     "metadata": {},
     "output_type": "display_data"
    },
    {
     "data": {
      "text/latex": [
       "\\begin{equation}\\mathbf{\\phi}_{1}^{T} \\mathbf{M} \\mathbf{\\phi}_{2} = \\left[\\begin{matrix}\\frac{6.103516 \\cdot 10^{-5} \\text{N} \\text{s}^{2}}{\\text{m}}\\end{matrix}\\right]\\end{equation}"
      ],
      "text/plain": [
       "           ⎡                         2⎤\n",
       "  T        ⎢6.103516e-5⋅newton⋅second ⎥\n",
       "φ₁ ⋅M⋅φ₂ = ⎢──────────────────────────⎥\n",
       "           ⎣          meter           ⎦"
      ]
     },
     "metadata": {},
     "output_type": "display_data"
    }
   ],
   "source": [
    "render.eq_display(sp.MatrixSymbol('phi_1',2,1).T*sp.MatrixSymbol('M', 2,2)*sp.MatrixSymbol('phi_1',2,1),(phi_1.T*M*phi_1).subs(params).evalf(3),\n",
    "                  \n",
    "                  sp.MatrixSymbol('phi_2',2,1).T*sp.MatrixSymbol('M', 2,2)*sp.MatrixSymbol('phi_2',2,1),(phi_2.T*M*phi_2).subs(params).evalf(3),\n",
    "\n",
    "                  sp.MatrixSymbol('phi_2',2,1).T*sp.MatrixSymbol('M', 2,2)*sp.MatrixSymbol('phi_1',2,1),sp.simplify((phi_2.T*M*phi_1)).subs(params).evalf(7),\n",
    "\n",
    "                  sp.MatrixSymbol('phi_1',2,1).T*sp.MatrixSymbol('M', 2,2)*sp.MatrixSymbol('phi_2',2,1),(phi_1.T*M*phi_2).subs(params).evalf(7))"
   ]
  },
  {
   "cell_type": "markdown",
   "metadata": {},
   "source": [
    "Es sind kleine numerische Differenzen zu erkennen welche nicht relevant sind."
   ]
  },
  {
   "cell_type": "code",
   "execution_count": 11,
   "metadata": {},
   "outputs": [
    {
     "data": {
      "text/latex": [
       "\\begin{equation}\\mathbf{\\phi}_{1}^{T} \\mathbf{K} \\mathbf{\\phi}_{1} = \\left[\\begin{matrix}\\frac{9.7 \\cdot 10^{6} \\text{N}}{\\text{m}}\\end{matrix}\\right]\\end{equation}"
      ],
      "text/plain": [
       "  T        ⎡9.7e+6⋅newton⎤\n",
       "φ₁ ⋅K⋅φ₁ = ⎢─────────────⎥\n",
       "           ⎣    meter    ⎦"
      ]
     },
     "metadata": {},
     "output_type": "display_data"
    },
    {
     "data": {
      "text/latex": [
       "\\begin{equation}\\mathbf{\\phi}_{2}^{T} \\mathbf{K} \\mathbf{\\phi}_{2} = \\left[\\begin{matrix}\\frac{2.39 \\cdot 10^{6} \\text{N}}{\\text{m}}\\end{matrix}\\right]\\end{equation}"
      ],
      "text/plain": [
       "  T        ⎡2.39e+6⋅newton⎤\n",
       "φ₂ ⋅K⋅φ₂ = ⎢──────────────⎥\n",
       "           ⎣    meter     ⎦"
      ]
     },
     "metadata": {},
     "output_type": "display_data"
    },
    {
     "data": {
      "text/latex": [
       "\\begin{equation}\\mathbf{\\phi}_{2}^{T} \\mathbf{K} \\mathbf{\\phi}_{1} = \\left[\\begin{matrix}0\\end{matrix}\\right]\\end{equation}"
      ],
      "text/plain": [
       "  T           \n",
       "φ₂ ⋅K⋅φ₁ = [0]"
      ]
     },
     "metadata": {},
     "output_type": "display_data"
    },
    {
     "data": {
      "text/latex": [
       "\\begin{equation}\\mathbf{\\phi}_{1}^{T} \\mathbf{K} \\mathbf{\\phi}_{2} = \\left[\\begin{matrix}0\\end{matrix}\\right]\\end{equation}"
      ],
      "text/plain": [
       "  T           \n",
       "φ₁ ⋅K⋅φ₂ = [0]"
      ]
     },
     "metadata": {},
     "output_type": "display_data"
    }
   ],
   "source": [
    "render.eq_display(sp.MatrixSymbol('phi_1',2,1).T*sp.MatrixSymbol('K', 2,2)*sp.MatrixSymbol('phi_1',2,1),sp.simplify((phi_1.T*K*phi_1).subs(params)).evalf(3),\n",
    "                  \n",
    "                  sp.MatrixSymbol('phi_2',2,1).T*sp.MatrixSymbol('K', 2,2)*sp.MatrixSymbol('phi_2',2,1),sp.simplify((phi_2.T*K*phi_2).subs(params)).evalf(3),\n",
    "\n",
    "                  sp.MatrixSymbol('phi_2',2,1).T*sp.MatrixSymbol('K', 2,2)*sp.MatrixSymbol('phi_1',2,1),sp.simplify((phi_2.T*K*phi_1).subs(params)).evalf(3),\n",
    "                  \n",
    "                  sp.MatrixSymbol('phi_1',2,1).T*sp.MatrixSymbol('K', 2,2)*sp.MatrixSymbol('phi_2',2,1),sp.simplify((phi_1.T*K*phi_2).subs(params)).evalf(3))"
   ]
  },
  {
   "cell_type": "markdown",
   "metadata": {},
   "source": [
    "### Modale Analyse\n",
    "\n",
    "Die Bewegungsgleichung für einen ungedämpften, periodisch, harmonisch angeregten Mehrmassenschwinger lässt sich folgend beschreiben:\n",
    "\n",
    "$$\n",
    "\\mathbf{M u''(t) + K u = F(t)}\n",
    "$${#eq-mms_tilg_bewegungsgleichung_nohomo}\n",
    "\n",
    "Die Matrix-Gleichung beschreibt ein System aus Differentialgleichungen. Die Modale Analyse zielt darauf ab, diese zu entkoppeln. Bezogen auf den Mehrmassenschwinger heisst eine Entkoppelung, dass diese in Einmassenschwinger aufgeteilt werden. Dies wird nun schrittweise durchgeführt."
   ]
  },
  {
   "cell_type": "markdown",
   "metadata": {},
   "source": [
    "#### Modal- und Spektralmatrix\n",
    "\n",
    "Mittels der Modal- und Spektralmatrix können die generalisierten Grössen ermittelt werden. Diese sind die Eigenschaften der einzelnen Einmassenschwinger. Die generalisierten Werte besitzen keine physikalische Bedeutung, sie sind abhängig von der Wahl der Eigenvektoren, welche bekanntlich von der Normierung abhängen.\n",
    "\n",
    "\n",
    "Anhand der Bewegungsgleichung können die generalisierten Grössen bestimmt werden, es gilt:\n",
    "\n",
    "$$\\Phi^T M \\Phi u''(t) + \\Phi^T K \\Phi u(t) = \\Phi^T F(t)$$\n",
    "\n",
    "$$M^*u''(t) + K^* u(t) = F^* (t)$$\n",
    "\n",
    "Alle $N$-Eigenwerte und alle $N$-Eigenvektoren können kompakt\n",
    "mit Matrizen ausgedrückt werden:\n"
   ]
  },
  {
   "cell_type": "code",
   "execution_count": 12,
   "metadata": {},
   "outputs": [
    {
     "data": {
      "text/latex": [
       "\\begin{equation}Modalmatrix = \\Phi\\end{equation}"
      ],
      "text/plain": [
       "Modalmatrix = Φ"
      ]
     },
     "metadata": {},
     "output_type": "display_data"
    },
    {
     "data": {
      "text/latex": [
       "\\begin{equation}\\mathbf{\\Phi} = \\left[\\begin{matrix}1.0 & 1.0\\\\10.3 & -1.295\\end{matrix}\\right]\\end{equation}"
      ],
      "text/plain": [
       "    ⎡1.0    1.0  ⎤\n",
       "Φ = ⎢            ⎥\n",
       "    ⎣10.3  -1.295⎦"
      ]
     },
     "metadata": {},
     "output_type": "display_data"
    },
    {
     "data": {
      "text/latex": [
       "\\begin{equation}Spektralmatrix = \\Omega^{2}\\end{equation}"
      ],
      "text/plain": [
       "                  2\n",
       "Spektralmatrix = Ω "
      ]
     },
     "metadata": {},
     "output_type": "display_data"
    },
    {
     "data": {
      "text/latex": [
       "\\begin{equation}\\mathbf{\\Omega}^{2} = \\left[\\begin{matrix}\\frac{541.7}{\\text{s}^{2}} & 0\\\\0 & \\frac{1063.0}{\\text{s}^{2}}\\end{matrix}\\right]\\end{equation}"
      ],
      "text/plain": [
       "     ⎡ 541.7          ⎤\n",
       "     ⎢───────     0   ⎥\n",
       "     ⎢      2         ⎥\n",
       "     ⎢second          ⎥\n",
       "Ω² = ⎢                ⎥\n",
       "     ⎢          1063.0⎥\n",
       "     ⎢   0     ───────⎥\n",
       "     ⎢               2⎥\n",
       "     ⎣         second ⎦"
      ]
     },
     "metadata": {},
     "output_type": "display_data"
    }
   ],
   "source": [
    "Phi = sp.Matrix([[phi_1, phi_2]])\n",
    "Omega = sp.Matrix([[omega_1, 0],[0, omega_2]])\n",
    "\n",
    "render.eq_display('Modalmatrix', 'Phi',\n",
    "                  sp.MatrixSymbol('Phi', 2, 2), Phi.subs(params).evalf(4),\n",
    "                  'Spektralmatrix', 'Omega^2',\n",
    "                  sp.MatrixSymbol('Omega^2', 2, 2), (Omega**2).subs(params).evalf(4))"
   ]
  },
  {
   "cell_type": "markdown",
   "metadata": {},
   "source": [
    "#### Generalisierte Grössen\n"
   ]
  },
  {
   "cell_type": "code",
   "execution_count": 13,
   "metadata": {},
   "outputs": [
    {
     "data": {
      "text/latex": [
       "\\begin{equation}\\mathbf{M}^{\\star} = \\left[\\begin{matrix}\\frac{17898.0 \\text{N} \\text{s}^{2}}{\\text{m}} & 0\\\\0 & \\frac{2251.6 \\text{N} \\text{s}^{2}}{\\text{m}}\\end{matrix}\\right]\\end{equation}"
      ],
      "text/plain": [
       "           ⎡                     2                       ⎤\n",
       "           ⎢17898.0⋅newton⋅second                        ⎥\n",
       "           ⎢──────────────────────            0          ⎥\n",
       "           ⎢        meter                                ⎥\n",
       "M__\\star = ⎢                                             ⎥\n",
       "           ⎢                                            2⎥\n",
       "           ⎢                        2251.6⋅newton⋅second ⎥\n",
       "           ⎢          0             ─────────────────────⎥\n",
       "           ⎣                                meter        ⎦"
      ]
     },
     "metadata": {},
     "output_type": "display_data"
    },
    {
     "data": {
      "text/latex": [
       "\\begin{equation}\\mathbf{K}^{\\star} = \\left[\\begin{matrix}\\frac{9.6959 \\cdot 10^{6} \\text{N}}{\\text{m}} & 0\\\\0 & \\frac{2.3941 \\cdot 10^{6} \\text{N}}{\\text{m}}\\end{matrix}\\right]\\end{equation}"
      ],
      "text/plain": [
       "           ⎡9.6959e+6⋅newton                  ⎤\n",
       "           ⎢────────────────         0        ⎥\n",
       "           ⎢     meter                        ⎥\n",
       "K__\\star = ⎢                                  ⎥\n",
       "           ⎢                  2.3941e+6⋅newton⎥\n",
       "           ⎢       0          ────────────────⎥\n",
       "           ⎣                       meter      ⎦"
      ]
     },
     "metadata": {},
     "output_type": "display_data"
    },
    {
     "data": {
      "text/latex": [
       "\\begin{equation}\\mathbf{F(t)} = \\left[\\begin{matrix}800.0 \\sin{\\left(\\frac{12.6 t}{\\text{s}} \\right)} \\text{N}\\\\0\\end{matrix}\\right]\\end{equation}"
      ],
      "text/plain": [
       "       ⎡         ⎛12.6⋅t⎞       ⎤\n",
       "       ⎢800.0⋅sin⎜──────⎟⋅newton⎥\n",
       "F(t) = ⎢         ⎝second⎠       ⎥\n",
       "       ⎢                        ⎥\n",
       "       ⎣           0            ⎦"
      ]
     },
     "metadata": {},
     "output_type": "display_data"
    },
    {
     "data": {
      "text/latex": [
       "\\begin{equation}\\mathbf{F(t)}^{\\star} = \\left[\\begin{matrix}800.0 \\sin{\\left(\\frac{12.6 t}{\\text{s}} \\right)} \\text{N}\\\\800.0 \\sin{\\left(\\frac{12.6 t}{\\text{s}} \\right)} \\text{N}\\end{matrix}\\right]\\end{equation}"
      ],
      "text/plain": [
       "              ⎡         ⎛12.6⋅t⎞       ⎤\n",
       "              ⎢800.0⋅sin⎜──────⎟⋅newton⎥\n",
       "              ⎢         ⎝second⎠       ⎥\n",
       "F(t)__\\star = ⎢                        ⎥\n",
       "              ⎢         ⎛12.6⋅t⎞       ⎥\n",
       "              ⎢800.0⋅sin⎜──────⎟⋅newton⎥\n",
       "              ⎣         ⎝second⎠       ⎦"
      ]
     },
     "metadata": {},
     "output_type": "display_data"
    }
   ],
   "source": [
    "M_star = Phi.T * M * Phi\n",
    "K_star = Phi.T * K * Phi\n",
    "F_t_matrix = sp.Matrix([[F_t],[0]])\n",
    "F_t_star = Phi.T * F_t_matrix\n",
    "\n",
    "render.eq_display(sp.MatrixSymbol('M^\\star', 2,2),sp.simplify(M_star.subs(params)).evalf(5),\n",
    "                  sp.MatrixSymbol('K^\\star', 2,2),sp.simplify(K_star.subs(params)).evalf(5),\n",
    "                  sp.MatrixSymbol('F(t)', 2,1),sp.simplify(F_t_matrix.subs(params)).evalf(5),\n",
    "                  sp.MatrixSymbol('F(t)^\\star', 2,1),sp.simplify(F_t_star.subs(params)).evalf(5))"
   ]
  },
  {
   "cell_type": "markdown",
   "metadata": {},
   "source": [
    "#### Kontrolle der modalen Transformation\n",
    "\n",
    "Die entkoppelten Einmassenschwinger müssen das Verhalten des gesamten Systems abbilden, aus diesem Grund dürfen sich die Eigenkreisfrequenzen nach der Transformation nicht ändern. Dies wird folgend kontrolliert:"
   ]
  },
  {
   "cell_type": "code",
   "execution_count": 14,
   "metadata": {},
   "outputs": [
    {
     "data": {
      "text/latex": [
       "\\begin{equation}\\omega_{1} = \\frac{23.3}{\\text{s}}\\end{equation}"
      ],
      "text/plain": [
       "      23.3 \n",
       "ω₁ = ──────\n",
       "     second"
      ]
     },
     "metadata": {},
     "output_type": "display_data"
    },
    {
     "data": {
      "text/latex": [
       "\\begin{equation}\\omega_{1 modal} = \\frac{23.3}{\\text{s}}\\end{equation}"
      ],
      "text/plain": [
       "             23.3 \n",
       "ω_1_modal = ──────\n",
       "            second"
      ]
     },
     "metadata": {},
     "output_type": "display_data"
    },
    {
     "data": {
      "text/latex": [
       "\\begin{equation}\\omega_{2} = \\frac{32.61}{\\text{s}}\\end{equation}"
      ],
      "text/plain": [
       "     32.61 \n",
       "ω₂ = ──────\n",
       "     second"
      ]
     },
     "metadata": {},
     "output_type": "display_data"
    },
    {
     "data": {
      "text/latex": [
       "\\begin{equation}\\omega_{2 modal} = \\frac{32.61}{\\text{s}}\\end{equation}"
      ],
      "text/plain": [
       "            32.61 \n",
       "ω_2_modal = ──────\n",
       "            second"
      ]
     },
     "metadata": {},
     "output_type": "display_data"
    }
   ],
   "source": [
    "omega_1_kontrolle = sp.sqrt(K_star[0] / M_star[0])\n",
    "omega_2_kontrolle = sp.sqrt(K_star[3] / M_star[3])\n",
    "\n",
    "render.eq_display('omega_1', omega_1.subs(params).simplify().evalf(3),\n",
    "                  'omega_1_modal', omega_1_kontrolle.subs(params).simplify().evalf(3),\n",
    "                  'omega_2', omega_2.subs(params).simplify().evalf(4),\n",
    "                  'omega_2_modal', omega_2_kontrolle.subs(params).simplify().evalf(4))\n",
    "\n",
    "\n"
   ]
  },
  {
   "cell_type": "markdown",
   "metadata": {},
   "source": [
    "#### Modale Höhen\n",
    "\n",
    "Die modalen Höhen bestimmen sich aus @eq-mms_tilg_modale_hoehe:\n",
    "\n",
    "$$\n",
    "H_n = \\frac{L_n^\\theta}{L_n}\n",
    "$${#eq-mms_tilg_modale_hoehe}\n",
    "\n",
    "\n",
    "$$\n",
    "L_n = \\phi_n^T \\cdot \\mathbf{M 1}\n",
    "$${#eq-mms_tilg_L_n}\n",
    "\n",
    "$$\n",
    "L_n^\\theta = \\sum_{j=1}^N H_j \\cdot m_j \\cdot \\phi_{jn}\n",
    "$${#eq-mms_tilg_L_n_theta}\n",
    "\n",
    "[Wie sind modale Höhen mit diesem Beispiel zu bestimmen?]{.underline}"
   ]
  },
  {
   "cell_type": "markdown",
   "metadata": {},
   "source": [
    "### Stationäre Antwort\n",
    "\n",
    "Die stationäre Antwort wird mittels des Vergrösserungsfaktors bestimmt.\n",
    "\n",
    "Die entkoppelte Differentialgleichung ist nun die folgende:\n",
    "\n",
    "$$\n",
    "m^\\star_1 q_1''(t) + k^\\star_1 q_1(t) = F^\\star_1(t) = F^\\star_1 \\sin(\\omega t)\n",
    "$${#eq-mms_tilger_erste_bewegungsgleichung}\n",
    "\n",
    "$$\n",
    "m^\\star_2 q_2''(t) + k^\\star_2 q_2(t) = F^\\star_2(t) = F^\\star_2 \\sin(\\omega t)\n",
    "$${#eq-mms_tilger_zweite_bewegungsgleichung}\n",
    "\n",
    "Lösen lässt sich dies mit dem bekannten Ansatz:\n",
    "\n",
    "$$\n",
    "q_n(t) = A_n \\sin(\\omega t) + B_n \\cos(\\omega)\n",
    "$${#eq-mms_tilger_ansatzfunktion}\n",
    "\n",
    "Hier wird jedoch mit dem Vorgehen des Vergrösserungsfaktors verfahren:\n"
   ]
  },
  {
   "cell_type": "markdown",
   "metadata": {},
   "source": [
    "#### Verformung"
   ]
  },
  {
   "cell_type": "code",
   "execution_count": 15,
   "metadata": {},
   "outputs": [
    {
     "data": {
      "text/latex": [
       "\\begin{equation}V_{1}{\\left(\\omega \\right)} = \\frac{1}{\\sqrt{\\frac{4 \\omega^{2} \\zeta_{}^{2}}{\\omega_{1}^{2}} + \\left(- \\frac{\\omega^{2}}{\\omega_{1}^{2}} + 1\\right)^{2}}}\\end{equation}"
      ],
      "text/plain": [
       "                       1               \n",
       "V₁(ω) = ───────────────────────────────\n",
       "               ________________________\n",
       "              ╱                      2 \n",
       "             ╱     2  2   ⎛    2    ⎞  \n",
       "            ╱   4⋅ω ⋅ζ    ⎜   ω     ⎟  \n",
       "           ╱    ─────── + ⎜- ─── + 1⎟  \n",
       "          ╱         2     ⎜    2    ⎟  \n",
       "        ╲╱        ω₁      ⎝  ω₁     ⎠  "
      ]
     },
     "metadata": {},
     "output_type": "display_data"
    },
    {
     "data": {
      "text/latex": [
       "\\begin{equation}V_{1}{\\left(\\omega \\right)} = 1.41\\end{equation}"
      ],
      "text/plain": [
       "V₁(ω) = 1.41"
      ]
     },
     "metadata": {},
     "output_type": "display_data"
    },
    {
     "data": {
      "text/latex": [
       "\\begin{equation}q_{1 stat} = 0.0825 \\text{mm}\\end{equation}"
      ],
      "text/plain": [
       "q₁ ₛₜₐₜ = 0.0825⋅millimeter"
      ]
     },
     "metadata": {},
     "output_type": "display_data"
    },
    {
     "data": {
      "text/latex": [
       "\\begin{equation}q_{1 max} = q_{1 stat} V_{1}{\\left(\\omega \\right)}\\end{equation}"
      ],
      "text/plain": [
       "q₁ ₘₐₓ = q₁ ₛₜₐₜ⋅V₁(ω)"
      ]
     },
     "metadata": {},
     "output_type": "display_data"
    },
    {
     "data": {
      "text/latex": [
       "\\begin{equation}q_{1 max} = 0.117 \\text{mm}\\end{equation}"
      ],
      "text/plain": [
       "q₁ ₘₐₓ = 0.117⋅millimeter"
      ]
     },
     "metadata": {},
     "output_type": "display_data"
    }
   ],
   "source": [
    "zeta = sp.symbols('zeta')\n",
    "\n",
    "V_1_omega = 1/(sp.sqrt((1-(omega/omega_1)**2)**2 + (2*zeta*(omega/omega_1))**2))\n",
    "\n",
    "q_1_stat = F_0 / K_star[0]\n",
    "q_1_max = q_1_stat*V_1_omega\n",
    "\n",
    "render.eq_display('V_1(omega)', '1/(sqrt((1-(omega/omega_1)**2)**2 + (2*zeta_*(omega/omega_1))**2))',\n",
    "                  'V_1(omega)', V_1_omega.subs(params).simplify().evalf(3),\n",
    "                  'q_1_stat', unit.convert_to(q_1_stat.subs(params).simplify().evalf(3), unit.mm),\n",
    "                  'q_1_max', 'q_1_stat * V_1(omega)',\n",
    "                  'q_1_max', unit.convert_to(q_1_max.subs(params).simplify().evalf(3), unit.mm),)"
   ]
  },
  {
   "cell_type": "code",
   "execution_count": 16,
   "metadata": {},
   "outputs": [
    {
     "data": {
      "text/latex": [
       "\\begin{equation}V_{2}{\\left(\\omega \\right)} = \\frac{1}{\\sqrt{\\frac{4 \\omega^{2} \\zeta_{}^{2}}{\\omega_{2}^{2}} + \\left(- \\frac{\\omega^{2}}{\\omega_{2}^{2}} + 1\\right)^{2}}}\\end{equation}"
      ],
      "text/plain": [
       "                       1               \n",
       "V₂(ω) = ───────────────────────────────\n",
       "               ________________________\n",
       "              ╱                      2 \n",
       "             ╱     2  2   ⎛    2    ⎞  \n",
       "            ╱   4⋅ω ⋅ζ    ⎜   ω     ⎟  \n",
       "           ╱    ─────── + ⎜- ─── + 1⎟  \n",
       "          ╱         2     ⎜    2    ⎟  \n",
       "        ╲╱        ω₂      ⎝  ω₂     ⎠  "
      ]
     },
     "metadata": {},
     "output_type": "display_data"
    },
    {
     "data": {
      "text/latex": [
       "\\begin{equation}V_{2}{\\left(\\omega \\right)} = 1.18\\end{equation}"
      ],
      "text/plain": [
       "V₂(ω) = 1.18"
      ]
     },
     "metadata": {},
     "output_type": "display_data"
    },
    {
     "data": {
      "text/latex": [
       "\\begin{equation}q_{2 stat} = 0.334 \\text{mm}\\end{equation}"
      ],
      "text/plain": [
       "q₂ ₛₜₐₜ = 0.334⋅millimeter"
      ]
     },
     "metadata": {},
     "output_type": "display_data"
    },
    {
     "data": {
      "text/latex": [
       "\\begin{equation}q_{2 max} = q_{2 stat} V_{2}{\\left(\\omega \\right)}\\end{equation}"
      ],
      "text/plain": [
       "q₂ ₘₐₓ = q₂ ₛₜₐₜ⋅V₂(ω)"
      ]
     },
     "metadata": {},
     "output_type": "display_data"
    },
    {
     "data": {
      "text/latex": [
       "\\begin{equation}q_{2 max} = 0.393 \\text{mm}\\end{equation}"
      ],
      "text/plain": [
       "q₂ ₘₐₓ = 0.393⋅millimeter"
      ]
     },
     "metadata": {},
     "output_type": "display_data"
    }
   ],
   "source": [
    "\n",
    "V_2_omega = 1/(sp.sqrt((1-(omega/omega_2)**2)**2 + (2*zeta*(omega/omega_2))**2))\n",
    "\n",
    "q_2_stat = F_0 / K_star[3]\n",
    "q_2_max = q_2_stat*V_2_omega\n",
    "\n",
    "\n",
    "\n",
    "render.eq_display('V_2(omega)', '1/(sqrt((1-(omega/omega_2)**2)**2 + (2*zeta_*(omega/omega_2))**2))',\n",
    "                  'V_2(omega)', V_2_omega.subs(params).simplify().evalf(3),\n",
    "                  'q_2_stat', unit.convert_to(q_2_stat.subs(params).simplify().evalf(3), unit.mm),\n",
    "                  'q_2_max', 'q_2_stat * V_2(omega)',\n",
    "                  'q_2_max', unit.convert_to(q_2_max.subs(params).simplify().evalf(3), unit.mm))"
   ]
  },
  {
   "cell_type": "markdown",
   "metadata": {},
   "source": [
    "##### Effektive Deformation\n",
    "\n",
    "Die effektiven Grössen resultieren durch Multiplikation mit dem Eigenvektor. Für die erste Eigenkreisfrequenz:"
   ]
  },
  {
   "cell_type": "code",
   "execution_count": 17,
   "metadata": {},
   "outputs": [
    {
     "data": {
      "text/latex": [
       "\\begin{equation}u_{1 stat} = \\phi_{1} q_{1 max}\\end{equation}"
      ],
      "text/plain": [
       "u₁ ₛₜₐₜ = φ₁⋅q₁ ₘₐₓ"
      ]
     },
     "metadata": {},
     "output_type": "display_data"
    },
    {
     "data": {
      "text/latex": [
       "\\begin{equation}\\left[\\begin{matrix}u_{11stat}\\\\u_{21stat}\\end{matrix}\\right] = \\left[\\begin{matrix}0.117 \\text{mm}\\\\1.2 \\text{mm}\\end{matrix}\\right]\\end{equation}"
      ],
      "text/plain": [
       "⎡u₁₁ₛₜₐₜ⎤   ⎡0.117⋅millimeter⎤\n",
       "⎢       ⎥ = ⎢                ⎥\n",
       "⎣u₂₁ₛₜₐₜ⎦   ⎣ 1.2⋅millimeter ⎦"
      ]
     },
     "metadata": {},
     "output_type": "display_data"
    }
   ],
   "source": [
    "u_1_stat = q_1_max*phi_1\n",
    "u_2_stat = q_2_max*phi_2\n",
    "u_stat = u_1_stat + u_2_stat\n",
    "\n",
    "render.eq_display(\"u_1_stat\",\"q_1_max*phi_1\",\n",
    "'Matrix([[u_11stat],[u_21stat]])',unit.convert_to(u_1_stat.subs(params).evalf(3),unit.mm))"
   ]
  },
  {
   "cell_type": "markdown",
   "metadata": {},
   "source": [
    "Sowie für die zweite Eigenkreisfrequenz:"
   ]
  },
  {
   "cell_type": "code",
   "execution_count": 18,
   "metadata": {},
   "outputs": [
    {
     "data": {
      "text/latex": [
       "\\begin{equation}u_{2 stat} = \\phi_{2} q_{2 max}\\end{equation}"
      ],
      "text/plain": [
       "u₂ ₛₜₐₜ = φ₂⋅q₂ ₘₐₓ"
      ]
     },
     "metadata": {},
     "output_type": "display_data"
    },
    {
     "data": {
      "text/latex": [
       "\\begin{equation}\\left[\\begin{matrix}u_{12stat}\\\\u_{22stat}\\end{matrix}\\right] = \\left[\\begin{matrix}0.393 \\text{mm}\\\\- 0.509 \\text{mm}\\end{matrix}\\right]\\end{equation}"
      ],
      "text/plain": [
       "⎡u₁₂ₛₜₐₜ⎤   ⎡0.393⋅millimeter ⎤\n",
       "⎢       ⎥ = ⎢                 ⎥\n",
       "⎣u₂₂ₛₜₐₜ⎦   ⎣-0.509⋅millimeter⎦"
      ]
     },
     "metadata": {},
     "output_type": "display_data"
    }
   ],
   "source": [
    "render.eq_display(\"u_2_stat\",\"q_2_max*phi_2\",\n",
    "'Matrix([[u_12stat],[u_22stat]])',unit.convert_to(u_2_stat.subs(params).evalf(3),unit.mm))"
   ]
  },
  {
   "cell_type": "markdown",
   "metadata": {},
   "source": [
    "Durch Addition der beiden Verformungen: [Sollte hier die SRSS-Regel verwendet werden?]{.underline}"
   ]
  },
  {
   "cell_type": "code",
   "execution_count": 19,
   "metadata": {},
   "outputs": [
    {
     "data": {
      "text/latex": [
       "\\begin{equation}u_{stat} = u_{1 stat} + u_{2 stat}\\end{equation}"
      ],
      "text/plain": [
       "uₛₜₐₜ = u₁ ₛₜₐₜ + u₂ ₛₜₐₜ"
      ]
     },
     "metadata": {},
     "output_type": "display_data"
    },
    {
     "data": {
      "text/latex": [
       "\\begin{equation}\\left[\\begin{matrix}u_{1max}\\\\u_{2max}\\end{matrix}\\right] = \\left[\\begin{matrix}0.51 \\text{mm}\\\\0.693 \\text{mm}\\end{matrix}\\right]\\end{equation}"
      ],
      "text/plain": [
       "⎡u₁ₘₐₓ⎤   ⎡0.51⋅millimeter ⎤\n",
       "⎢     ⎥ = ⎢                ⎥\n",
       "⎣u₂ₘₐₓ⎦   ⎣0.693⋅millimeter⎦"
      ]
     },
     "metadata": {},
     "output_type": "display_data"
    }
   ],
   "source": [
    "render.eq_display(\"u_stat\" , \"u_1_stat + u_2_stat\",\n",
    "'Matrix([[u_1max],[u_2max]])',unit.convert_to(u_stat.subs(params).evalf(3),unit.mm))\n"
   ]
  },
  {
   "cell_type": "markdown",
   "metadata": {},
   "source": [
    "#### Beschleunigung"
   ]
  },
  {
   "cell_type": "code",
   "execution_count": 20,
   "metadata": {},
   "outputs": [
    {
     "data": {
      "text/latex": [
       "\\begin{equation}V_{a1 \\omega} = \\frac{V_{1 \\omega} \\omega^{2}}{\\omega_{1}^{2}}\\end{equation}"
      ],
      "text/plain": [
       "                2\n",
       "         V_1_ω⋅ω \n",
       "V_a1_ω = ────────\n",
       "             2   \n",
       "           ω₁    "
      ]
     },
     "metadata": {},
     "output_type": "display_data"
    },
    {
     "data": {
      "text/latex": [
       "\\begin{equation}V_{a1}{\\left(\\omega \\right)} = 0.415\\end{equation}"
      ],
      "text/plain": [
       "Vₐ₁(ω) = 0.415"
      ]
     },
     "metadata": {},
     "output_type": "display_data"
    },
    {
     "data": {
      "text/latex": [
       "\\begin{equation}\\frac{d^{2}}{d t^{2}} q_{max} = \\frac{0.0185 \\text{m}}{\\text{s}^{2}}\\end{equation}"
      ],
      "text/plain": [
       "  2                     \n",
       " d          0.0185⋅meter\n",
       "───(qₘₐₓ) = ────────────\n",
       "  2                 2   \n",
       "dt            second    "
      ]
     },
     "metadata": {},
     "output_type": "display_data"
    }
   ],
   "source": [
    "V_a1_omega = omega**2 / omega_1**2 * V_1_omega\n",
    "\n",
    "q_2_1_max =  F_0 / M_star[0] * V_a1_omega\n",
    "\n",
    "render.eq_display(\"V_a1_omega\" , \"omega**2 / omega_1**2 * V_1_omega\",\n",
    "'V_a1(omega)', V_a1_omega.subs(params).simplify().evalf(3),\n",
    "                  'Derivative(q_max,t,2)', q_2_1_max.subs(params).simplify().evalf(3))"
   ]
  },
  {
   "cell_type": "code",
   "execution_count": 21,
   "metadata": {},
   "outputs": [
    {
     "data": {
      "text/latex": [
       "\\begin{equation}V_{a2}{\\left(\\omega \\right)} = 0.176\\end{equation}"
      ],
      "text/plain": [
       "Vₐ₂(ω) = 0.176"
      ]
     },
     "metadata": {},
     "output_type": "display_data"
    },
    {
     "data": {
      "text/latex": [
       "\\begin{equation}\\frac{d^{2}}{d t^{2}} q_{max} = \\frac{0.0624 \\text{m}}{\\text{s}^{2}}\\end{equation}"
      ],
      "text/plain": [
       "  2                     \n",
       " d          0.0624⋅meter\n",
       "───(qₘₐₓ) = ────────────\n",
       "  2                 2   \n",
       "dt            second    "
      ]
     },
     "metadata": {},
     "output_type": "display_data"
    }
   ],
   "source": [
    "V_a2_omega = omega**2 / omega_2**2 * V_2_omega\n",
    "\n",
    "q_2_2_max =  F_0 / M_star[3] * V_a2_omega\n",
    "\n",
    "render.eq_display('V_a2(omega)', V_a2_omega.subs(params).simplify().evalf(3),'Derivative(q_max,t,2)', q_2_2_max.subs(params).simplify().evalf(3))"
   ]
  },
  {
   "cell_type": "markdown",
   "metadata": {},
   "source": [
    "##### Effektive Beschleunigung\n",
    "\n",
    "Gleiches Vorgehen wie bei der Deformation."
   ]
  },
  {
   "cell_type": "code",
   "execution_count": 22,
   "metadata": {},
   "outputs": [
    {
     "data": {
      "text/latex": [
       "\\begin{equation}\\left[\\begin{matrix}\\frac{d^{2}}{d t^{2}} u_{1max}\\\\\\frac{d^{2}}{d t^{2}} u_{2max}\\end{matrix}\\right] = \\left[\\begin{matrix}\\frac{0.0809 \\text{m}}{\\text{s}^{2}}\\\\\\frac{0.11 \\text{m}}{\\text{s}^{2}}\\end{matrix}\\right]\\end{equation}"
      ],
      "text/plain": [
       "⎡  2       ⎤                 \n",
       "⎢ d        ⎥   ⎡0.0809⋅meter⎤\n",
       "⎢───(u₁ₘₐₓ)⎥   ⎢────────────⎥\n",
       "⎢  2       ⎥   ⎢        2   ⎥\n",
       "⎢dt        ⎥   ⎢  second    ⎥\n",
       "⎢          ⎥ = ⎢            ⎥\n",
       "⎢  2       ⎥   ⎢ 0.11⋅meter ⎥\n",
       "⎢ d        ⎥   ⎢ ────────── ⎥\n",
       "⎢───(u₂ₘₐₓ)⎥   ⎢        2   ⎥\n",
       "⎢  2       ⎥   ⎣  second    ⎦\n",
       "⎣dt        ⎦                 "
      ]
     },
     "metadata": {},
     "output_type": "display_data"
    }
   ],
   "source": [
    "u_2_1_stat = q_2_1_max*phi_1\n",
    "u_2_2_stat = q_2_2_max*phi_2\n",
    "u_2_stat = u_2_1_stat + u_2_2_stat\n",
    "\n",
    "render.eq_display('Matrix([[Derivative(u_1max,t,2)],[Derivative(u_2max,t,2)]])',u_2_stat.subs(params).evalf(3))\n"
   ]
  }
 ],
 "metadata": {
  "kernelspec": {
   "display_name": "Python 3 (ipykernel)",
   "language": "python",
   "name": "python3"
  },
  "language_info": {
   "codemirror_mode": {
    "name": "ipython",
    "version": 3
   },
   "file_extension": ".py",
   "mimetype": "text/x-python",
   "name": "python",
   "nbconvert_exporter": "python",
   "pygments_lexer": "ipython3",
   "version": "3.10.12"
  }
 },
 "nbformat": 4,
 "nbformat_minor": 4
}
