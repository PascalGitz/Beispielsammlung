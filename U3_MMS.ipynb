{
 "cells": [
  {
   "cell_type": "raw",
   "metadata": {},
   "source": [
    "---\n",
    "title: \"Mehrmassenschwinger\"\n",
    "\n",
    "---"
   ]
  },
  {
   "cell_type": "code",
   "execution_count": 1,
   "metadata": {},
   "outputs": [],
   "source": [
    "import sympy as sp \n",
    "from sympycalcs import render, convert\n",
    "import sympy.physics.units as unit\n",
    "from sympy.abc import *\n",
    "\n",
    "import matplotlib.pyplot as plt\n",
    "\n",
    "sp.init_printing(use_latex='mathjax', latex_mode='equation')"
   ]
  },
  {
   "cell_type": "markdown",
   "metadata": {
    "vscode": {
     "languageId": "python"
    }
   },
   "source": [
    "## Beispiel: Eigenvektoren mit Nachgiebigkeitsmatrix\n",
    "\n",
    "Das System in @fig-system zeigt einen Rahmen, welcher als Zweimassenschwinger modelliert werden kann.\n",
    "\n",
    "\n",
    "![Statisches System des 2-Massenschwingers](bilder/mms1.jpg){#fig-system width=50%}\n",
    "\n",
    "Gesucht:\n",
    "\n",
    "-  Eigenkreisfrequenz $\\omega$ \n",
    "-  Eigenformen - Normierung auf \n",
    "$$\\phi_1^T = \n",
    "\\begin{bmatrix}\n",
    "1 &  \\\\\n",
    "\\end{bmatrix} $$\n",
    "$$\\phi_2^T =\n",
    "\\begin{bmatrix}\n",
    "1 &  \\\\\n",
    "\\end{bmatrix}$$\n",
    "\n",
    "- Skizze der Eigenformen \n",
    "\n",
    "Gegeben:\n",
    "\n",
    "- Biegesteifigkeit aller Stäbe $E\\cdot I = 20\\cdot 10^{12} \\text{Nmm}^2$\n",
    "- Dehnsteifigkeit aller Stäbe $E\\cdot A = \\infty$\n",
    "- Einzelmassen $m_1 = 1000 \\text{kg}$ und $m_2 = 1000 \\text{kg}$\n",
    "- Länge $l = 4000 \\text{mm}$"
   ]
  },
  {
   "cell_type": "markdown",
   "metadata": {},
   "source": [
    "{{< pagebreak >}}\n",
    "### Musterlösung"
   ]
  },
  {
   "cell_type": "code",
   "execution_count": 2,
   "metadata": {},
   "outputs": [
    {
     "data": {
      "text/markdown": [
       "| Parameter | - |\n",
       "|---|---|\n",
       "| $EI = 20000000000000 \\text{mm}^{2} \\text{N}$ | $m_{1} = \\frac{1000 \\text{N} \\text{s}^{2}}{\\text{m}}$ |\n",
       "| $m_{2} = \\frac{1000 \\text{N} \\text{s}^{2}}{\\text{m}}$ | $l = 4 \\text{m}$ |\n"
      ],
      "text/plain": [
       "<IPython.core.display.Markdown object>"
      ]
     },
     "metadata": {},
     "output_type": "display_data"
    }
   ],
   "source": [
    "params = {'EI': 20*10**12 *unit.N*unit.mm**2,\n",
    "          'm_1':1000*unit.N*unit.second**2/unit.m,\n",
    "          'm_2':1000*unit.N*unit.second**2/unit.m,\n",
    "          'l':4*unit.m,\n",
    "          }\n",
    "\n",
    "          \n",
    "render.dict_to_table(params)"
   ]
  },
  {
   "cell_type": "code",
   "execution_count": 3,
   "metadata": {},
   "outputs": [],
   "source": [
    "omega, t,  l, m_1, m_2, EI = sp.symbols('omega, t,  l, m_1, m_2, EI')\n",
    "\n",
    "omega_n = sp.symbols('omega_n')"
   ]
  },
  {
   "cell_type": "markdown",
   "metadata": {},
   "source": [
    "#### Nachgiebigkeitsmatrix $\\mathbf{D}$ {#sec-nachgiebigkeit}\n",
    "\n",
    "Die Steifigkeitsmatrix lässt sich durch Invertierung der Nachgiebigkeitsmatrix beschreiben. Die Nachgiebigkeitsmatrix $\\mathbf{D}$ beschreibt die Deformation an einem Massenpunkt. Die Einträge der $\\mathbf{D}$ - Matrix beschreiben die Deformationen für unterschiedliche Laststellungen.\n",
    "\n",
    "$$\\mathbf{K} = \\mathbf{D^{-1}}$$\n",
    "\n",
    "![Balken mit 2 Einzelmassen](bilder/bsp_nachgib.jpg){#fig-2mms}\n",
    "\n",
    "Für einen 2-Massenschwinger, wie in @fig-2mms , hat die Nachgiebigkeitsmatrix folgende Form:\n",
    "\n",
    "$$\\mathbf{D} = \\frac{1}{EI}\\cdot \\begin{bmatrix}\n",
    "\\delta_{11} & \\delta_{12}\\\\\n",
    "\\delta_{21} & \\delta_{22} \n",
    "\\end{bmatrix}$$\n",
    "\n",
    "wobei gilt:\n",
    "\n",
    "$\\delta_{ab}$ : $a$ ist die Lastsituation, $b$ ist die Masse.\n",
    "\n",
    "\n",
    "##### Anwendung \n",
    "\n",
    "![Schnittgrössen für beide Lastfälle zur Bestimmung der Deformation](bilder/rahmen_def.jpg){#fig-schnittgrössen}\n",
    "\n",
    "$$\\delta_{ab} = \\frac{1}{EI}\\int_{0}^{l} M_a\\bar{M_b} \\,dx$$\n",
    "\n",
    "Es werden 2 Laststellungen betrachtet, jeweils an einem Massenpunkt. Dabei ist Beachtung der Einheit der Einwirkung zu schenken. Diese wird einheitslos angesetzt."
   ]
  },
  {
   "cell_type": "code",
   "execution_count": 4,
   "metadata": {},
   "outputs": [
    {
     "data": {
      "text/latex": [
       "\\begin{equation}\\delta_{11} = \\frac{2 l^{3}}{3 EI}\\end{equation}"
      ],
      "text/plain": [
       "         3\n",
       "      2⋅l \n",
       "δ₁₁ = ────\n",
       "      3⋅EI"
      ]
     },
     "metadata": {},
     "output_type": "display_data"
    },
    {
     "data": {
      "text/latex": [
       "\\begin{equation}\\delta_{12} = \\frac{5 l^{3}}{6 EI}\\end{equation}"
      ],
      "text/plain": [
       "         3\n",
       "      5⋅l \n",
       "δ₁₂ = ────\n",
       "      6⋅EI"
      ]
     },
     "metadata": {},
     "output_type": "display_data"
    },
    {
     "data": {
      "text/latex": [
       "\\begin{equation}\\delta_{21} = \\frac{5 l^{3}}{6 EI}\\end{equation}"
      ],
      "text/plain": [
       "         3\n",
       "      5⋅l \n",
       "δ₂₁ = ────\n",
       "      6⋅EI"
      ]
     },
     "metadata": {},
     "output_type": "display_data"
    },
    {
     "data": {
      "text/latex": [
       "\\begin{equation}\\delta_{22} = \\frac{5 l^{3}}{3 EI}\\end{equation}"
      ],
      "text/plain": [
       "         3\n",
       "      5⋅l \n",
       "δ₂₂ = ────\n",
       "      3⋅EI"
      ]
     },
     "metadata": {},
     "output_type": "display_data"
    }
   ],
   "source": [
    "delta_11 = 1/(EI) * (sp.Rational(1,3) * -l*-l*1*l)* 2\n",
    "delta_12 = 1/(EI) * ((sp.Rational(1,3) * -l*-l*1*l) + (sp.Rational(1,2) * -l*-l*1*l))\n",
    "delta_21 = delta_12\n",
    "delta_22 = 1/(EI) * ((sp.Rational(1,3) * -l*-l*1*l)* 2 + -l*-l*1*l)\n",
    "\n",
    "render.eq_display('delta_11', delta_11,\n",
    "                  'delta_12', delta_12,\n",
    "                  'delta_21', delta_21,\n",
    "                  'delta_22', delta_22)\n"
   ]
  },
  {
   "cell_type": "code",
   "execution_count": 5,
   "metadata": {},
   "outputs": [
    {
     "data": {
      "text/latex": [
       "\\begin{equation}D = \\left[\\begin{matrix}\\frac{2 l^{3}}{3 EI} & \\frac{5 l^{3}}{6 EI}\\\\\\frac{5 l^{3}}{6 EI} & \\frac{5 l^{3}}{3 EI}\\end{matrix}\\right]\\end{equation}"
      ],
      "text/plain": [
       "    ⎡   3     3⎤\n",
       "    ⎢2⋅l   5⋅l ⎥\n",
       "    ⎢────  ────⎥\n",
       "    ⎢3⋅EI  6⋅EI⎥\n",
       "D = ⎢          ⎥\n",
       "    ⎢   3     3⎥\n",
       "    ⎢5⋅l   5⋅l ⎥\n",
       "    ⎢────  ────⎥\n",
       "    ⎣6⋅EI  3⋅EI⎦"
      ]
     },
     "metadata": {},
     "output_type": "display_data"
    },
    {
     "data": {
      "text/latex": [
       "\\begin{equation}K = \\left[\\begin{matrix}\\frac{4 EI}{l^{3}} & - \\frac{2 EI}{l^{3}}\\\\- \\frac{2 EI}{l^{3}} & \\frac{8 EI}{5 l^{3}}\\end{matrix}\\right]\\end{equation}"
      ],
      "text/plain": [
       "    ⎡ 4⋅EI   -2⋅EI ⎤\n",
       "    ⎢ ────   ──────⎥\n",
       "    ⎢   3       3  ⎥\n",
       "    ⎢  l       l   ⎥\n",
       "K = ⎢              ⎥\n",
       "    ⎢-2⋅EI    8⋅EI ⎥\n",
       "    ⎢──────   ──── ⎥\n",
       "    ⎢   3        3 ⎥\n",
       "    ⎣  l      5⋅l  ⎦"
      ]
     },
     "metadata": {},
     "output_type": "display_data"
    }
   ],
   "source": [
    "D = sp.Matrix([[delta_11, delta_12],[delta_21, delta_22]])\n",
    "K = D.inv()\n",
    "render.eq_display(sp.MatrixSymbol('D', 2,2), D,\n",
    "                  sp.MatrixSymbol('K', 2,2), K)"
   ]
  },
  {
   "cell_type": "markdown",
   "metadata": {},
   "source": [
    "#### Eigenvektoren\n",
    "\n",
    "Die Bewegungsgleichung für einen ungedämpften, frei schwingenden Mehrmassenschwinger lässt sich folgender massen aufstellen:\n",
    "\n",
    "$$\\mathbf{M u''(t) + K u(t)} = 0$$\n",
    "\n",
    "Die Modale Analyse entkoppelt die Gleichungen um diese unabhängig von einander zu lösen."
   ]
  },
  {
   "cell_type": "markdown",
   "metadata": {},
   "source": [
    "##### Massenmatrix $\\mathbf{M}$"
   ]
  },
  {
   "cell_type": "code",
   "execution_count": 6,
   "metadata": {},
   "outputs": [
    {
     "data": {
      "text/latex": [
       "\\begin{equation}M = \\left[\\begin{matrix}m_{1} & 0\\\\0 & m_{2}\\end{matrix}\\right]\\end{equation}"
      ],
      "text/plain": [
       "    ⎡m₁  0 ⎤\n",
       "M = ⎢      ⎥\n",
       "    ⎣0   m₂⎦"
      ]
     },
     "metadata": {},
     "output_type": "display_data"
    }
   ],
   "source": [
    "M = sp.Matrix([[m_1,0],[0,m_2]])\n",
    "\n",
    "render.eq_display(sp.MatrixSymbol('M',2,2), M)"
   ]
  },
  {
   "cell_type": "markdown",
   "metadata": {},
   "source": [
    "##### Eigenkreisfrequenzen \n",
    "Bei einem Mehrmassenschwinger gibt es entsprechend den Freiheitsgraden Eigenkreisfrequenzen $\\omega_n$. Diese lassen sich anhand @eq-eigenkreisfrequenzen bestimmen:\n",
    "\n",
    "$$\n",
    "\\det{[\\mathbf{K}-\\omega_n^2 \\mathbf{M}]=0}\n",
    "$${#eq-eigenkreisfrequenzen}"
   ]
  },
  {
   "cell_type": "code",
   "execution_count": 7,
   "metadata": {},
   "outputs": [
    {
     "data": {
      "text/latex": [
       "\\begin{equation}\\omega_{1} = \\frac{12.1}{\\text{s}}\\end{equation}"
      ],
      "text/plain": [
       "      12.1 \n",
       "ω₁ = ──────\n",
       "     second"
      ]
     },
     "metadata": {},
     "output_type": "display_data"
    },
    {
     "data": {
      "text/latex": [
       "\\begin{equation}\\omega_{2} = \\frac{40.0}{\\text{s}}\\end{equation}"
      ],
      "text/plain": [
       "      40.0 \n",
       "ω₂ = ──────\n",
       "     second"
      ]
     },
     "metadata": {},
     "output_type": "display_data"
    }
   ],
   "source": [
    "eq_omega = sp.det(K-omega_n**2*M)\n",
    "\n",
    "omega_n_solve = sp.solve(eq_omega, omega_n)\n",
    "omega_1 = omega_n_solve[1]\n",
    "omega_2 = omega_n_solve[3]\n",
    "\n",
    "render.eq_display('omega_1', omega_1.subs(params).simplify().evalf(3),\n",
    "                  'omega_2', omega_2.subs(params).simplify().evalf(3))"
   ]
  },
  {
   "cell_type": "markdown",
   "metadata": {},
   "source": [
    "##### Eigenvektoren $\\mathbf{\\phi}$\n",
    "$$\n",
    "\\phi_n = \\begin{bmatrix}\n",
    "\\phi_{1n}\\\\\n",
    "\\phi_{2n} \n",
    "\\end{bmatrix}\n",
    "$$\n",
    "$$\n",
    "[\\mathbf{K}-\\omega_n^2 \\mathbf{M}]\\cdot \\begin{bmatrix}\n",
    "\\phi_{1n}\\\\\n",
    "\\phi_{2n} \n",
    "\\end{bmatrix}\n",
    "=0$$\n",
    "\n",
    "\n",
    "\n",
    "Dazu ist die entsprechende Normierung aus der Aufgabenstellung zu berücksichtigen."
   ]
  },
  {
   "cell_type": "code",
   "execution_count": 8,
   "metadata": {},
   "outputs": [
    {
     "data": {
      "text/latex": [
       "\\begin{equation}\\left[\\begin{matrix}- \\frac{2 EI \\phi_{21}}{l^{3}} + \\phi_{11} \\cdot \\left(\\frac{4 EI}{l^{3}} - m_{1} \\cdot \\left(\\frac{4 EI}{5 l^{3} m_{2}} + \\frac{2 EI}{l^{3} m_{1}} - \\frac{2 EI \\sqrt{4 m_{1}^{2} + 5 m_{1} m_{2} + 25 m_{2}^{2}}}{5 l^{3} m_{1} m_{2}}\\right)\\right)\\\\- \\frac{2 EI \\phi_{11}}{l^{3}} + \\phi_{21} \\cdot \\left(\\frac{8 EI}{5 l^{3}} - m_{2} \\cdot \\left(\\frac{4 EI}{5 l^{3} m_{2}} + \\frac{2 EI}{l^{3} m_{1}} - \\frac{2 EI \\sqrt{4 m_{1}^{2} + 5 m_{1} m_{2} + 25 m_{2}^{2}}}{5 l^{3} m_{1} m_{2}}\\right)\\right)\\end{matrix}\\right] = \\left[\\begin{matrix}0\\\\0\\end{matrix}\\right]\\end{equation}"
      ],
      "text/plain": [
       "⎡                 ⎛          ⎛                          ______________________\n",
       "⎢                 ⎜          ⎜                         ╱     2                \n",
       "⎢  2⋅EI⋅φ₂₁       ⎜4⋅EI      ⎜  4⋅EI     2⋅EI   2⋅EI⋅╲╱  4⋅m₁  + 5⋅m₁⋅m₂ + 25⋅\n",
       "⎢- ──────── + φ₁₁⋅⎜──── - m₁⋅⎜─────── + ───── - ──────────────────────────────\n",
       "⎢      3          ⎜  3       ⎜   3       3                     3              \n",
       "⎢     l           ⎝ l        ⎝5⋅l ⋅m₂   l ⋅m₁               5⋅l ⋅m₁⋅m₂        \n",
       "⎢                                                                             \n",
       "⎢                 ⎛          ⎛                          ______________________\n",
       "⎢                 ⎜          ⎜                         ╱     2                \n",
       "⎢  2⋅EI⋅φ₁₁       ⎜8⋅EI      ⎜  4⋅EI     2⋅EI   2⋅EI⋅╲╱  4⋅m₁  + 5⋅m₁⋅m₂ + 25⋅\n",
       "⎢- ──────── + φ₂₁⋅⎜──── - m₂⋅⎜─────── + ───── - ──────────────────────────────\n",
       "⎢      3          ⎜   3      ⎜   3       3                     3              \n",
       "⎣     l           ⎝5⋅l       ⎝5⋅l ⋅m₂   l ⋅m₁               5⋅l ⋅m₁⋅m₂        \n",
       "\n",
       "____⎞⎞⎤      \n",
       "  2 ⎟⎟⎥      \n",
       "m₂  ⎟⎟⎥      \n",
       "────⎟⎟⎥      \n",
       "    ⎟⎟⎥      \n",
       "    ⎠⎠⎥   ⎡0⎤\n",
       "      ⎥ = ⎢ ⎥\n",
       "____⎞⎞⎥   ⎣0⎦\n",
       "  2 ⎟⎟⎥      \n",
       "m₂  ⎟⎟⎥      \n",
       "────⎟⎟⎥      \n",
       "    ⎟⎟⎥      \n",
       "    ⎠⎠⎦      "
      ]
     },
     "metadata": {},
     "output_type": "display_data"
    },
    {
     "data": {
      "text/latex": [
       "\\begin{equation}\\phi_{1} = \\left[\\begin{matrix}1.0\\\\1.77\\end{matrix}\\right]\\end{equation}"
      ],
      "text/plain": [
       "     ⎡1.0 ⎤\n",
       "φ₁ = ⎢    ⎥\n",
       "     ⎣1.77⎦"
      ]
     },
     "metadata": {},
     "output_type": "display_data"
    }
   ],
   "source": [
    "phi_11, phi_21, phi_12, phi_22 = sp.symbols('phi_11, phi_21, phi_12, phi_22')\n",
    "params['phi_11'] = 1\n",
    "\n",
    "phi_1 = sp.Matrix([[phi_11], [phi_21]])\n",
    "\n",
    "phi_21 = list(sp.solve((K-omega_1**2 *M)*phi_1, phi_21).values())[0]\n",
    "\n",
    "params['phi_21'] = phi_21.subs(params).simplify() \n",
    "\n",
    "\n",
    "\n",
    "\n",
    "render.eq_display((K-omega_1**2 *M)*phi_1,sp.Matrix([[0],[0]]),\n",
    "                  sp.MatrixSymbol('phi_1', 2,1),sp.simplify(phi_1.subs(params)).evalf(3))\n"
   ]
  },
  {
   "cell_type": "code",
   "execution_count": 9,
   "metadata": {},
   "outputs": [
    {
     "data": {
      "text/latex": [
       "\\begin{equation}\\left[\\begin{matrix}- \\frac{2 EI \\phi_{22}}{l^{3}} + \\phi_{12} \\cdot \\left(\\frac{4 EI}{l^{3}} - m_{1} \\cdot \\left(\\frac{4 EI}{5 l^{3} m_{2}} + \\frac{2 EI}{l^{3} m_{1}} + \\frac{2 EI \\sqrt{4 m_{1}^{2} + 5 m_{1} m_{2} + 25 m_{2}^{2}}}{5 l^{3} m_{1} m_{2}}\\right)\\right)\\\\- \\frac{2 EI \\phi_{12}}{l^{3}} + \\phi_{22} \\cdot \\left(\\frac{8 EI}{5 l^{3}} - m_{2} \\cdot \\left(\\frac{4 EI}{5 l^{3} m_{2}} + \\frac{2 EI}{l^{3} m_{1}} + \\frac{2 EI \\sqrt{4 m_{1}^{2} + 5 m_{1} m_{2} + 25 m_{2}^{2}}}{5 l^{3} m_{1} m_{2}}\\right)\\right)\\end{matrix}\\right] = \\left[\\begin{matrix}0\\\\0\\end{matrix}\\right]\\end{equation}"
      ],
      "text/plain": [
       "⎡                 ⎛          ⎛                          ______________________\n",
       "⎢                 ⎜          ⎜                         ╱     2                \n",
       "⎢  2⋅EI⋅φ₂₂       ⎜4⋅EI      ⎜  4⋅EI     2⋅EI   2⋅EI⋅╲╱  4⋅m₁  + 5⋅m₁⋅m₂ + 25⋅\n",
       "⎢- ──────── + φ₁₂⋅⎜──── - m₁⋅⎜─────── + ───── + ──────────────────────────────\n",
       "⎢      3          ⎜  3       ⎜   3       3                     3              \n",
       "⎢     l           ⎝ l        ⎝5⋅l ⋅m₂   l ⋅m₁               5⋅l ⋅m₁⋅m₂        \n",
       "⎢                                                                             \n",
       "⎢                 ⎛          ⎛                          ______________________\n",
       "⎢                 ⎜          ⎜                         ╱     2                \n",
       "⎢  2⋅EI⋅φ₁₂       ⎜8⋅EI      ⎜  4⋅EI     2⋅EI   2⋅EI⋅╲╱  4⋅m₁  + 5⋅m₁⋅m₂ + 25⋅\n",
       "⎢- ──────── + φ₂₂⋅⎜──── - m₂⋅⎜─────── + ───── + ──────────────────────────────\n",
       "⎢      3          ⎜   3      ⎜   3       3                     3              \n",
       "⎣     l           ⎝5⋅l       ⎝5⋅l ⋅m₂   l ⋅m₁               5⋅l ⋅m₁⋅m₂        \n",
       "\n",
       "____⎞⎞⎤      \n",
       "  2 ⎟⎟⎥      \n",
       "m₂  ⎟⎟⎥      \n",
       "────⎟⎟⎥      \n",
       "    ⎟⎟⎥      \n",
       "    ⎠⎠⎥   ⎡0⎤\n",
       "      ⎥ = ⎢ ⎥\n",
       "____⎞⎞⎥   ⎣0⎦\n",
       "  2 ⎟⎟⎥      \n",
       "m₂  ⎟⎟⎥      \n",
       "────⎟⎟⎥      \n",
       "    ⎟⎟⎥      \n",
       "    ⎠⎠⎦      "
      ]
     },
     "metadata": {},
     "output_type": "display_data"
    },
    {
     "data": {
      "text/latex": [
       "\\begin{equation}\\phi_{2} = \\left[\\begin{matrix}1.0\\\\-0.566\\end{matrix}\\right]\\end{equation}"
      ],
      "text/plain": [
       "     ⎡ 1.0  ⎤\n",
       "φ₂ = ⎢      ⎥\n",
       "     ⎣-0.566⎦"
      ]
     },
     "metadata": {},
     "output_type": "display_data"
    }
   ],
   "source": [
    "params['phi_12'] = 1\n",
    "\n",
    "phi_2 = sp.Matrix([[phi_12], [phi_22]])\n",
    "\n",
    "phi_22 = list(sp.solve((K-omega_2**2 *M)*phi_2, phi_22).values())[0]\n",
    "\n",
    "params['phi_22'] = phi_22.subs(params).simplify() \n",
    "\n",
    "\n",
    "\n",
    "\n",
    "render.eq_display((K-omega_2**2 *M)*phi_2,sp.Matrix([[0],[0]]),\n",
    "                  sp.MatrixSymbol('phi_2', 2,1),sp.simplify(phi_2.subs(params)).evalf(3))\n"
   ]
  },
  {
   "cell_type": "markdown",
   "metadata": {},
   "source": [
    "##### Orthogonalitätsbedingung\n",
    "Zur effektiven Entkoppelung der Gleichungen muss die Orthogonalitätsbedingung eingehalten sein. Durch die Orthogonalität der Vektoren $\\phi_1$ und $\\phi_2$ kann mittels einem Einmassenschwingers sämtliches Verhalten von $\\phi_1$ beschrieben werden und mittels einem zweiten Einmassenschwinger sämtliches Verhalten von $\\phi_2$. Ist die Orthogonalität nicht gegeben, so müsste der erste Einmassenschwinger Anteile aus $\\phi_1$ und $\\phi_2$ beschreiben.\n",
    "\n",
    "Dies gilt es für die Massenmatrix zu kontrollieren:\n",
    "\n",
    "$$\\phi_1^T \\mathbf{ M } \\phi_1 \\neq 0$$\n",
    "\n",
    "$$\\phi_2^T \\mathbf{ M } \\phi_2 \\neq 0$$\n",
    "\n",
    "$$\\phi_2^T \\mathbf{ M } \\phi_1 = 0$$\n",
    "\n",
    "Sowohl auch für die Steifigkeitsmatrix:\n",
    "\n",
    "$$\\phi_1^T \\mathbf{ K } \\phi_1 \\neq 0$$\n",
    "\n",
    "$$\\phi_2^T \\mathbf{ K } \\phi_2 \\neq 0$$\n",
    "\n",
    "$$\\phi_2^T \\mathbf{ K } \\phi_1 = 0$$\n",
    "\n",
    "\n",
    "Angewendet auf die Aufgabe:"
   ]
  },
  {
   "cell_type": "code",
   "execution_count": 10,
   "metadata": {},
   "outputs": [
    {
     "data": {
      "text/latex": [
       "\\begin{equation}\\phi_{1}^{T} M \\phi_{1} = \\left[\\begin{matrix}\\frac{4.12 \\cdot 10^{3} \\text{N} \\text{s}^{2}}{\\text{m}}\\end{matrix}\\right]\\end{equation}"
      ],
      "text/plain": [
       "           ⎡                     2⎤\n",
       "  T        ⎢4.12e+3⋅newton⋅second ⎥\n",
       "φ₁ ⋅M⋅φ₁ = ⎢──────────────────────⎥\n",
       "           ⎣        meter         ⎦"
      ]
     },
     "metadata": {},
     "output_type": "display_data"
    },
    {
     "data": {
      "text/latex": [
       "\\begin{equation}\\phi_{2}^{T} M \\phi_{2} = \\left[\\begin{matrix}\\frac{1.32 \\cdot 10^{3} \\text{N} \\text{s}^{2}}{\\text{m}}\\end{matrix}\\right]\\end{equation}"
      ],
      "text/plain": [
       "           ⎡                     2⎤\n",
       "  T        ⎢1.32e+3⋅newton⋅second ⎥\n",
       "φ₂ ⋅M⋅φ₂ = ⎢──────────────────────⎥\n",
       "           ⎣        meter         ⎦"
      ]
     },
     "metadata": {},
     "output_type": "display_data"
    },
    {
     "data": {
      "text/latex": [
       "\\begin{equation}\\phi_{2}^{T} M \\phi_{1} = \\left[\\begin{matrix}0\\end{matrix}\\right]\\end{equation}"
      ],
      "text/plain": [
       "  T           \n",
       "φ₂ ⋅M⋅φ₁ = [0]"
      ]
     },
     "metadata": {},
     "output_type": "display_data"
    },
    {
     "data": {
      "text/latex": [
       "\\begin{equation}\\phi_{1}^{T} M \\phi_{2} = \\left[\\begin{matrix}0\\end{matrix}\\right]\\end{equation}"
      ],
      "text/plain": [
       "  T           \n",
       "φ₁ ⋅M⋅φ₂ = [0]"
      ]
     },
     "metadata": {},
     "output_type": "display_data"
    }
   ],
   "source": [
    "render.eq_display(sp.MatrixSymbol('phi_1',2,1).T*sp.MatrixSymbol('M', 2,2)*sp.MatrixSymbol('phi_1',2,1),(phi_1.T*M*phi_1).subs(params).evalf(3),\n",
    "                  \n",
    "                  sp.MatrixSymbol('phi_2',2,1).T*sp.MatrixSymbol('M', 2,2)*sp.MatrixSymbol('phi_2',2,1),(phi_2.T*M*phi_2).subs(params).evalf(3),\n",
    "\n",
    "                  sp.MatrixSymbol('phi_2',2,1).T*sp.MatrixSymbol('M', 2,2)*sp.MatrixSymbol('phi_1',2,1),(phi_2.T*M*phi_1).subs(params).evalf(3),\n",
    "\n",
    "                  sp.MatrixSymbol('phi_1',2,1).T*sp.MatrixSymbol('M', 2,2)*sp.MatrixSymbol('phi_2',2,1),(phi_1.T*M*phi_2).subs(params).evalf(3))"
   ]
  },
  {
   "cell_type": "markdown",
   "metadata": {},
   "source": [
    "Für die Steifigkeitsmatrix:"
   ]
  },
  {
   "cell_type": "code",
   "execution_count": 11,
   "metadata": {},
   "outputs": [
    {
     "data": {
      "text/latex": [
       "\\begin{equation}\\phi_{1}^{T} K \\phi_{1} = \\left[\\begin{matrix}\\frac{6.02 \\cdot 10^{5} \\text{N}}{\\text{m}}\\end{matrix}\\right]\\end{equation}"
      ],
      "text/plain": [
       "  T        ⎡6.02e+5⋅newton⎤\n",
       "φ₁ ⋅K⋅φ₁ = ⎢──────────────⎥\n",
       "           ⎣    meter     ⎦"
      ]
     },
     "metadata": {},
     "output_type": "display_data"
    },
    {
     "data": {
      "text/latex": [
       "\\begin{equation}\\phi_{2}^{T} K \\phi_{2} = \\left[\\begin{matrix}\\frac{2.12 \\cdot 10^{6} \\text{N}}{\\text{m}}\\end{matrix}\\right]\\end{equation}"
      ],
      "text/plain": [
       "  T        ⎡2.12e+6⋅newton⎤\n",
       "φ₂ ⋅K⋅φ₂ = ⎢──────────────⎥\n",
       "           ⎣    meter     ⎦"
      ]
     },
     "metadata": {},
     "output_type": "display_data"
    },
    {
     "data": {
      "text/latex": [
       "\\begin{equation}\\phi_{2}^{T} K \\phi_{1} = \\left[\\begin{matrix}0\\end{matrix}\\right]\\end{equation}"
      ],
      "text/plain": [
       "  T           \n",
       "φ₂ ⋅K⋅φ₁ = [0]"
      ]
     },
     "metadata": {},
     "output_type": "display_data"
    },
    {
     "data": {
      "text/latex": [
       "\\begin{equation}\\phi_{1}^{T} K \\phi_{2} = \\left[\\begin{matrix}0\\end{matrix}\\right]\\end{equation}"
      ],
      "text/plain": [
       "  T           \n",
       "φ₁ ⋅K⋅φ₂ = [0]"
      ]
     },
     "metadata": {},
     "output_type": "display_data"
    }
   ],
   "source": [
    "render.eq_display(sp.MatrixSymbol('phi_1',2,1).T*sp.MatrixSymbol('K', 2,2)*sp.MatrixSymbol('phi_1',2,1),sp.simplify((phi_1.T*K*phi_1).subs(params)).evalf(3),\n",
    "                  \n",
    "                  sp.MatrixSymbol('phi_2',2,1).T*sp.MatrixSymbol('K', 2,2)*sp.MatrixSymbol('phi_2',2,1),sp.simplify((phi_2.T*K*phi_2).subs(params)).evalf(3),\n",
    "\n",
    "                  sp.MatrixSymbol('phi_2',2,1).T*sp.MatrixSymbol('K', 2,2)*sp.MatrixSymbol('phi_1',2,1),sp.simplify((phi_2.T*K*phi_1).subs(params)).evalf(3),\n",
    "                  \n",
    "                  sp.MatrixSymbol('phi_1',2,1).T*sp.MatrixSymbol('K', 2,2)*sp.MatrixSymbol('phi_2',2,1),sp.simplify((phi_1.T*K*phi_2).subs(params)).evalf(3))"
   ]
  },
  {
   "cell_type": "markdown",
   "metadata": {},
   "source": [
    "#### Eigenformen\n",
    "\n",
    "![Die beiden Eigenformen skizziert](bilder/eigenformen.jpg){#fig-eigenformen}"
   ]
  },
  {
   "cell_type": "markdown",
   "metadata": {},
   "source": [
    "{{< pagebreak >}}\n",
    "\n",
    "## Beispiel: Eigenvektoren mit direkt bestimmter Steifigkeitsmatrix\n",
    "\n",
    "Das System in @fig-system_mms2 zeigt ein Rahmentragwerk, welches als Zweimassenschwinger modelliert werden kann.\n",
    "\n",
    "![Statisches System des Rahmentragwerks](bilder/system_mms2.jpg){#fig-system_mms2}\n",
    "\n",
    "Gesucht:\n",
    "\n",
    "-  Eigenkreisfrequenz $\\omega$ \n",
    "-  Eigenformen - Normierung auf \n",
    "$$\\phi_1^T = \n",
    "\\begin{bmatrix}\n",
    " &  1\\\\\n",
    "\\end{bmatrix} $$\n",
    "$$\\phi_2^T =\n",
    "\\begin{bmatrix}\n",
    " &  1\\\\\n",
    "\\end{bmatrix}$$\n",
    "\n",
    "- Skizze der Eigenformen \n",
    "\n",
    "Gegeben:\n",
    "\n",
    "- Elastizitätsmodul der Stützen $E = 30000 \\text{N}/{mm}^2$\n",
    "- Flächenträgheitsmoment der Stützen $I = 2 \\cdot 10^9 \\text{mm}^4$\n",
    "- Dehnsteifigkeit aller Stäbe $E\\cdot A = \\infty$\n",
    "- Einzelmassen $m = 20000 \\text{kg}$"
   ]
  },
  {
   "cell_type": "markdown",
   "metadata": {},
   "source": [
    "{{< pagebreak >}}\n",
    "\n",
    "### Musterlösung"
   ]
  },
  {
   "cell_type": "code",
   "execution_count": 12,
   "metadata": {},
   "outputs": [
    {
     "data": {
      "text/markdown": [
       "| Parameter | - |\n",
       "|---|---|\n",
       "| $E = \\frac{30000 \\text{N}}{\\text{mm}^{2}}$ | $I = 2000000000 \\text{mm}^{4}$ |\n",
       "| $m_{1} = \\frac{40000 \\text{N} \\text{s}^{2}}{\\text{m}}$ | $m_{2} = \\frac{20000 \\text{N} \\text{s}^{2}}{\\text{m}}$ |\n",
       "| $l = 4 \\text{m}$ | $H = 3.2 \\text{m}$ |\n"
      ],
      "text/plain": [
       "<IPython.core.display.Markdown object>"
      ]
     },
     "metadata": {},
     "output_type": "display_data"
    }
   ],
   "source": [
    "params = {'E': 30*10**3 *unit.N/unit.mm**2,\n",
    "          'I':2*10**9*unit.mm**4,\n",
    "          'm_1':2*20000*unit.N*unit.second**2/unit.m,\n",
    "          'm_2':20000*unit.N*unit.second**2/unit.m,\n",
    "          'l':4*unit.m,\n",
    "          'H':3.2*unit.m,\n",
    "          }\n",
    "\n",
    "\n",
    "render.dict_to_table(params)"
   ]
  },
  {
   "cell_type": "code",
   "execution_count": 13,
   "metadata": {},
   "outputs": [],
   "source": [
    "omega, t,  l, m_1, m_2, E,I, H = sp.symbols('omega, t,  l, m_1, m_2, E, I, H')\n",
    "\n",
    "omega_n = sp.symbols('omega_n')"
   ]
  },
  {
   "cell_type": "markdown",
   "metadata": {},
   "source": [
    "#### Eigenkreisfrequenzen\n",
    "##### Steifigkeitsmatrix $\\mathbf{K}$\n",
    "\n",
    "Zur Bestimmung der Steifigkeitsmatrix ist das System an jedem Freiheitsgrad auszulenken, wie in @fig-steifigkeit dargestellt ist.\n",
    "\n",
    "![Auslenkung der Freiheitsgrade zur Bestimmung der Steifigkeit](bilder/steifigkeit_mms2.jpg){#fig-steifigkeit}\n",
    "\n",
    "Wichtig dabei sind die Richtungen der Kräfte. Als Denkstütze gilt folgendes:\n",
    "\n",
    "- Der Auslenkung um $u$ wirkt die Federkraft entgegen, welche $k u$ entspricht.\n",
    "- Zusätzlich wirkt die Trägheitskraft der Auslenkung entgegen, welche $m u''$ entspricht.\n",
    "- Nach der Betrachtung des ausgelenkten Punkts, kann mittels *Actio-Reactio*-Prinzip das \"*Stockwerk*\" ins Gleichgewicht gebracht werden.\n",
    "- Vorzeichen sind gegen der Bewegungsrichtig positiv."
   ]
  },
  {
   "cell_type": "markdown",
   "metadata": {},
   "source": [
    "##### Horizontale Steifigkeit\n",
    "\n",
    "Für entsprechende Anwendungsfälle gibt es fertige Lösungen zur Bestimmung der Steifigkeit. Gemäss @fig-system_mms2 ist die Stütze am Fuss- und Kopfpunkt eingespannt. Somit resultiert die Steifigkeit zu:\n",
    "\n",
    "$$k_{Stuetze} = \\frac{12EI_{Stuetze}}{H^3}$$\n",
    "\n",
    "Diese gilt für eine einzelne Stütze."
   ]
  },
  {
   "cell_type": "code",
   "execution_count": 14,
   "metadata": {},
   "outputs": [
    {
     "data": {
      "text/latex": [
       "\\begin{equation}K = \\left[\\begin{matrix}k_{1} + k_{2} & - k_{2}\\\\- k_{2} & k_{2}\\end{matrix}\\right]\\end{equation}"
      ],
      "text/plain": [
       "    ⎡k₁ + k₂  -k₂⎤\n",
       "K = ⎢            ⎥\n",
       "    ⎣  -k₂    k₂ ⎦"
      ]
     },
     "metadata": {},
     "output_type": "display_data"
    },
    {
     "data": {
      "text/latex": [
       "\\begin{equation}K = \\left[\\begin{matrix}\\frac{1.31836 \\cdot 10^{8} \\text{N}}{\\text{m}} & - \\frac{4.39453 \\cdot 10^{7} \\text{N}}{\\text{m}}\\\\- \\frac{4.39453 \\cdot 10^{7} \\text{N}}{\\text{m}} & \\frac{4.39453 \\cdot 10^{7} \\text{N}}{\\text{m}}\\end{matrix}\\right]\\end{equation}"
      ],
      "text/plain": [
       "    ⎡ 1.31836e+8⋅newton   -4.39453e+7⋅newton ⎤\n",
       "    ⎢ ─────────────────   ───────────────────⎥\n",
       "    ⎢       meter                meter       ⎥\n",
       "K = ⎢                                        ⎥\n",
       "    ⎢-4.39453e+7⋅newton    4.39453e+7⋅newton ⎥\n",
       "    ⎢───────────────────   ───────────────── ⎥\n",
       "    ⎣       meter                meter       ⎦"
      ]
     },
     "metadata": {},
     "output_type": "display_data"
    }
   ],
   "source": [
    "k_1, k_2 = sp.symbols('k_1, k_2')\n",
    "\n",
    "params['k_1'] = 2*(12 * 2*E*I / H**3).subs(params).simplify().evalf(6)\n",
    "params['k_2'] = 2*(12 * E*I / H**3).subs(params).simplify().evalf(6)\n",
    "K = sp.Matrix([[k_1 + k_2, -k_2],[-k_2, k_2]])\n",
    "\n",
    "\n",
    "render.eq_display(sp.MatrixSymbol('K', 2,2), K,\n",
    "                  sp.MatrixSymbol('K', 2,2), K.subs(params),\n",
    "                  )"
   ]
  },
  {
   "cell_type": "markdown",
   "metadata": {},
   "source": [
    "#### Eigenvektoren\n",
    "##### Massenmatrix $\\mathbf{M}$ \n",
    "\n",
    "Die Massenmatrix folgt dem gleichen Aufbau wie die Steifigkeitsmatrix. Es gelten die gleichen Vorzeichenregelungen."
   ]
  },
  {
   "cell_type": "code",
   "execution_count": 15,
   "metadata": {},
   "outputs": [
    {
     "data": {
      "text/latex": [
       "\\begin{equation}M = \\left[\\begin{matrix}m_{1} & 0\\\\0 & m_{2}\\end{matrix}\\right]\\end{equation}"
      ],
      "text/plain": [
       "    ⎡m₁  0 ⎤\n",
       "M = ⎢      ⎥\n",
       "    ⎣0   m₂⎦"
      ]
     },
     "metadata": {},
     "output_type": "display_data"
    },
    {
     "data": {
      "text/latex": [
       "\\begin{equation}M = \\left[\\begin{matrix}\\frac{40000 \\text{N} \\text{s}^{2}}{\\text{m}} & 0\\\\0 & \\frac{20000 \\text{N} \\text{s}^{2}}{\\text{m}}\\end{matrix}\\right]\\end{equation}"
      ],
      "text/plain": [
       "    ⎡                   2                      ⎤\n",
       "    ⎢40000⋅newton⋅second                       ⎥\n",
       "    ⎢────────────────────           0          ⎥\n",
       "    ⎢       meter                              ⎥\n",
       "M = ⎢                                          ⎥\n",
       "    ⎢                                         2⎥\n",
       "    ⎢                      20000⋅newton⋅second ⎥\n",
       "    ⎢         0            ────────────────────⎥\n",
       "    ⎣                             meter        ⎦"
      ]
     },
     "metadata": {},
     "output_type": "display_data"
    }
   ],
   "source": [
    "m_1, m_2 = sp.symbols('m_1, m_2')\n",
    "M = sp.Matrix([[m_1, 0],[0, m_2]])\n",
    "\n",
    "render.eq_display(sp.MatrixSymbol('M', 2,2), M,\n",
    "                  sp.MatrixSymbol('M', 2,2), M.subs(params))"
   ]
  },
  {
   "cell_type": "markdown",
   "metadata": {},
   "source": [
    "##### Eigenkreisfrequenzen \n",
    "Bei einem Mehrmassenschwinger gibt es entsprechend den Freiheitsgraden Eigenkreisfrequenzen $\\omega_n$. Diese lassen sich anhand folgender Gleichung bestimmen:\n",
    "\n",
    "$$\\det{[\\mathbf{K}-\\omega_n^2 \\mathbf{M}]=0}$$"
   ]
  },
  {
   "cell_type": "code",
   "execution_count": 16,
   "metadata": {},
   "outputs": [
    {
     "data": {
      "text/latex": [
       "\\begin{equation}\\omega_{1} = \\frac{33.1}{\\text{s}}\\end{equation}"
      ],
      "text/plain": [
       "      33.1 \n",
       "ω₁ = ──────\n",
       "     second"
      ]
     },
     "metadata": {},
     "output_type": "display_data"
    },
    {
     "data": {
      "text/latex": [
       "\\begin{equation}\\omega_{2} = \\frac{66.3}{\\text{s}}\\end{equation}"
      ],
      "text/plain": [
       "      66.3 \n",
       "ω₂ = ──────\n",
       "     second"
      ]
     },
     "metadata": {},
     "output_type": "display_data"
    }
   ],
   "source": [
    "eq_omega = sp.det(K-omega_n**2*M)\n",
    "\n",
    "omega_n_solve = sp.solve(eq_omega, omega_n)\n",
    "omega_1 = omega_n_solve[1]\n",
    "omega_2 = omega_n_solve[3]\n",
    "\n",
    "render.eq_display('omega_1', omega_1.subs(params).simplify().evalf(3),\n",
    "                  'omega_2', omega_2.subs(params).simplify().evalf(3))"
   ]
  },
  {
   "cell_type": "markdown",
   "metadata": {},
   "source": [
    "##### Eigenvektoren $\\phi$"
   ]
  },
  {
   "cell_type": "code",
   "execution_count": 17,
   "metadata": {},
   "outputs": [
    {
     "data": {
      "text/latex": [
       "\\begin{equation}\\left[\\begin{matrix}\\frac{- k_{2} m_{2} \\phi_{21} + \\frac{\\phi_{11} \\left(- k_{2} m_{1} + m_{2} \\left(k_{1} + k_{2}\\right) + \\sqrt{k_{1}^{2} m_{2}^{2} - 2 k_{1} k_{2} m_{1} m_{2} + 2 k_{1} k_{2} m_{2}^{2} + k_{2}^{2} m_{1}^{2} + 2 k_{2}^{2} m_{1} m_{2} + k_{2}^{2} m_{2}^{2}}\\right)}{2}}{m_{2}}\\\\\\frac{- k_{2} m_{1} \\phi_{11} + \\frac{\\phi_{21} \\left(k_{2} m_{1} - m_{2} \\left(k_{1} + k_{2}\\right) + \\sqrt{k_{1}^{2} m_{2}^{2} - 2 k_{1} k_{2} m_{1} m_{2} + 2 k_{1} k_{2} m_{2}^{2} + k_{2}^{2} m_{1}^{2} + 2 k_{2}^{2} m_{1} m_{2} + k_{2}^{2} m_{2}^{2}}\\right)}{2}}{m_{1}}\\end{matrix}\\right] = \\left[\\begin{matrix}0\\\\0\\end{matrix}\\right]\\end{equation}"
      ],
      "text/plain": [
       "⎡                 ⎛                           ________________________________\n",
       "⎢                 ⎜                          ╱   2   2                        \n",
       "⎢             φ₁₁⋅⎝-k₂⋅m₁ + m₂⋅(k₁ + k₂) + ╲╱  k₁ ⋅m₂  - 2⋅k₁⋅k₂⋅m₁⋅m₂ + 2⋅k₁⋅\n",
       "⎢-k₂⋅m₂⋅φ₂₁ + ────────────────────────────────────────────────────────────────\n",
       "⎢                                                                 2           \n",
       "⎢─────────────────────────────────────────────────────────────────────────────\n",
       "⎢                                                           m₂                \n",
       "⎢                                                                             \n",
       "⎢                 ⎛                          _________________________________\n",
       "⎢                 ⎜                         ╱   2   2                         \n",
       "⎢             φ₂₁⋅⎝k₂⋅m₁ - m₂⋅(k₁ + k₂) + ╲╱  k₁ ⋅m₂  - 2⋅k₁⋅k₂⋅m₁⋅m₂ + 2⋅k₁⋅k\n",
       "⎢-k₂⋅m₁⋅φ₁₁ + ────────────────────────────────────────────────────────────────\n",
       "⎢                                                                 2           \n",
       "⎢─────────────────────────────────────────────────────────────────────────────\n",
       "⎣                                                          m₁                 \n",
       "\n",
       "_________________________________________⎞⎤      \n",
       "     2     2   2       2           2   2 ⎟⎥      \n",
       "k₂⋅m₂  + k₂ ⋅m₁  + 2⋅k₂ ⋅m₁⋅m₂ + k₂ ⋅m₂  ⎠⎥      \n",
       "──────────────────────────────────────────⎥      \n",
       "                                          ⎥      \n",
       "──────────────────────────────────────────⎥      \n",
       "                                          ⎥   ⎡0⎤\n",
       "                                          ⎥ = ⎢ ⎥\n",
       "________________________________________⎞ ⎥   ⎣0⎦\n",
       "    2     2   2       2           2   2 ⎟ ⎥      \n",
       "₂⋅m₂  + k₂ ⋅m₁  + 2⋅k₂ ⋅m₁⋅m₂ + k₂ ⋅m₂  ⎠ ⎥      \n",
       "───────────────────────────────────────── ⎥      \n",
       "                                          ⎥      \n",
       "───────────────────────────────────────── ⎥      \n",
       "                                          ⎦      "
      ]
     },
     "metadata": {},
     "output_type": "display_data"
    },
    {
     "data": {
      "text/latex": [
       "\\begin{equation}\\phi_{1} = \\left[\\begin{matrix}0.5\\\\1.0\\end{matrix}\\right]\\end{equation}"
      ],
      "text/plain": [
       "     ⎡0.5⎤\n",
       "φ₁ = ⎢   ⎥\n",
       "     ⎣1.0⎦"
      ]
     },
     "metadata": {},
     "output_type": "display_data"
    }
   ],
   "source": [
    "phi_11, phi_21, phi_12, phi_22 = sp.symbols('phi_11, phi_21, phi_12, phi_22')\n",
    "params['phi_21'] = 1\n",
    "\n",
    "phi_1 = sp.Matrix([[phi_11], [phi_21]])\n",
    "\n",
    "phi_11 = list(sp.solve((K-omega_1**2 *M)*phi_1, phi_11).values())[0]\n",
    "\n",
    "params['phi_11'] = phi_11.subs(params).simplify() \n",
    "\n",
    "\n",
    "\n",
    "\n",
    "render.eq_display(sp.simplify((K-omega_1**2 *M)*phi_1),sp.Matrix([[0],[0]]),\n",
    "                  sp.MatrixSymbol('phi_1', 2,1),sp.simplify(phi_1.subs(params)).evalf(3))"
   ]
  },
  {
   "cell_type": "code",
   "execution_count": 18,
   "metadata": {},
   "outputs": [
    {
     "data": {
      "text/latex": [
       "\\begin{equation}\\left[\\begin{matrix}\\frac{- k_{2} m_{2} \\phi_{22} + \\frac{\\phi_{12} \\left(- k_{2} m_{1} + m_{2} \\left(k_{1} + k_{2}\\right) - \\sqrt{k_{1}^{2} m_{2}^{2} - 2 k_{1} k_{2} m_{1} m_{2} + 2 k_{1} k_{2} m_{2}^{2} + k_{2}^{2} m_{1}^{2} + 2 k_{2}^{2} m_{1} m_{2} + k_{2}^{2} m_{2}^{2}}\\right)}{2}}{m_{2}}\\\\\\frac{- k_{2} m_{1} \\phi_{12} + \\frac{\\phi_{22} \\left(k_{2} m_{1} - m_{2} \\left(k_{1} + k_{2}\\right) - \\sqrt{k_{1}^{2} m_{2}^{2} - 2 k_{1} k_{2} m_{1} m_{2} + 2 k_{1} k_{2} m_{2}^{2} + k_{2}^{2} m_{1}^{2} + 2 k_{2}^{2} m_{1} m_{2} + k_{2}^{2} m_{2}^{2}}\\right)}{2}}{m_{1}}\\end{matrix}\\right] = \\left[\\begin{matrix}0\\\\0\\end{matrix}\\right]\\end{equation}"
      ],
      "text/plain": [
       "⎡                 ⎛                           ________________________________\n",
       "⎢                 ⎜                          ╱   2   2                        \n",
       "⎢             φ₁₂⋅⎝-k₂⋅m₁ + m₂⋅(k₁ + k₂) - ╲╱  k₁ ⋅m₂  - 2⋅k₁⋅k₂⋅m₁⋅m₂ + 2⋅k₁⋅\n",
       "⎢-k₂⋅m₂⋅φ₂₂ + ────────────────────────────────────────────────────────────────\n",
       "⎢                                                                 2           \n",
       "⎢─────────────────────────────────────────────────────────────────────────────\n",
       "⎢                                                           m₂                \n",
       "⎢                                                                             \n",
       "⎢                 ⎛                          _________________________________\n",
       "⎢                 ⎜                         ╱   2   2                         \n",
       "⎢             φ₂₂⋅⎝k₂⋅m₁ - m₂⋅(k₁ + k₂) - ╲╱  k₁ ⋅m₂  - 2⋅k₁⋅k₂⋅m₁⋅m₂ + 2⋅k₁⋅k\n",
       "⎢-k₂⋅m₁⋅φ₁₂ + ────────────────────────────────────────────────────────────────\n",
       "⎢                                                                 2           \n",
       "⎢─────────────────────────────────────────────────────────────────────────────\n",
       "⎣                                                          m₁                 \n",
       "\n",
       "_________________________________________⎞⎤      \n",
       "     2     2   2       2           2   2 ⎟⎥      \n",
       "k₂⋅m₂  + k₂ ⋅m₁  + 2⋅k₂ ⋅m₁⋅m₂ + k₂ ⋅m₂  ⎠⎥      \n",
       "──────────────────────────────────────────⎥      \n",
       "                                          ⎥      \n",
       "──────────────────────────────────────────⎥      \n",
       "                                          ⎥   ⎡0⎤\n",
       "                                          ⎥ = ⎢ ⎥\n",
       "________________________________________⎞ ⎥   ⎣0⎦\n",
       "    2     2   2       2           2   2 ⎟ ⎥      \n",
       "₂⋅m₂  + k₂ ⋅m₁  + 2⋅k₂ ⋅m₁⋅m₂ + k₂ ⋅m₂  ⎠ ⎥      \n",
       "───────────────────────────────────────── ⎥      \n",
       "                                          ⎥      \n",
       "───────────────────────────────────────── ⎥      \n",
       "                                          ⎦      "
      ]
     },
     "metadata": {},
     "output_type": "display_data"
    },
    {
     "data": {
      "text/latex": [
       "\\begin{equation}\\phi_{2} = \\left[\\begin{matrix}-1.0\\\\1.0\\end{matrix}\\right]\\end{equation}"
      ],
      "text/plain": [
       "     ⎡-1.0⎤\n",
       "φ₂ = ⎢    ⎥\n",
       "     ⎣1.0 ⎦"
      ]
     },
     "metadata": {},
     "output_type": "display_data"
    }
   ],
   "source": [
    "params['phi_22'] = 1\n",
    "\n",
    "phi_2 = sp.Matrix([[phi_12], [phi_22]])\n",
    "\n",
    "phi_12 = list(sp.solve((K-omega_2**2 *M)*phi_2, phi_12).values())[0]\n",
    "\n",
    "params['phi_12'] = phi_12.subs(params).simplify() \n",
    "\n",
    "\n",
    "\n",
    "\n",
    "render.eq_display(sp.simplify((K-omega_2**2 *M)*phi_2),sp.Matrix([[0],[0]]),\n",
    "                  sp.MatrixSymbol('phi_2', 2,1),sp.simplify(phi_2.subs(params)).evalf(3))"
   ]
  },
  {
   "cell_type": "markdown",
   "metadata": {},
   "source": [
    "##### Orthogonalitätsbedingung\n",
    "\n",
    "Zur Entkoppelung der Gleichungen muss die Orthogonalitätsbedingung eingehalten sein.\n",
    "\n",
    "Dies gilt es für die Massenmatrix zu kontrollieren:\n",
    "\n",
    "$$\\phi_1^T \\mathbf{ M } \\phi_1 \\neq 0$$\n",
    "\n",
    "$$\\phi_2^T \\mathbf{ M } \\phi_2 \\neq 0$$\n",
    "\n",
    "$$\\phi_2^T \\mathbf{ M } \\phi_1 = 0$$\n",
    "\n",
    "Sowohl auch für die Steifigkeitsmatrix:\n",
    "\n",
    "$$\\phi_1^T \\mathbf{ K } \\phi_1 \\neq 0$$\n",
    "\n",
    "$$\\phi_2^T \\mathbf{ K } \\phi_2 \\neq 0$$\n",
    "\n",
    "$$\\phi_2^T \\mathbf{ K } \\phi_1 = 0$$\n",
    "\n",
    "Angewendet auf die Aufgabe:\n"
   ]
  },
  {
   "cell_type": "code",
   "execution_count": 19,
   "metadata": {},
   "outputs": [
    {
     "data": {
      "text/latex": [
       "\\begin{equation}\\phi_{1}^{T} M \\phi_{1} = \\left[\\begin{matrix}\\frac{3.0 \\cdot 10^{4} \\text{N} \\text{s}^{2}}{\\text{m}}\\end{matrix}\\right]\\end{equation}"
      ],
      "text/plain": [
       "           ⎡                    2⎤\n",
       "  T        ⎢3.0e+4⋅newton⋅second ⎥\n",
       "φ₁ ⋅M⋅φ₁ = ⎢─────────────────────⎥\n",
       "           ⎣        meter        ⎦"
      ]
     },
     "metadata": {},
     "output_type": "display_data"
    },
    {
     "data": {
      "text/latex": [
       "\\begin{equation}\\phi_{2}^{T} M \\phi_{2} = \\left[\\begin{matrix}\\frac{6.0 \\cdot 10^{4} \\text{N} \\text{s}^{2}}{\\text{m}}\\end{matrix}\\right]\\end{equation}"
      ],
      "text/plain": [
       "           ⎡                    2⎤\n",
       "  T        ⎢6.0e+4⋅newton⋅second ⎥\n",
       "φ₂ ⋅M⋅φ₂ = ⎢─────────────────────⎥\n",
       "           ⎣        meter        ⎦"
      ]
     },
     "metadata": {},
     "output_type": "display_data"
    },
    {
     "data": {
      "text/latex": [
       "\\begin{equation}\\phi_{2}^{T} M \\phi_{1} = \\left[\\begin{matrix}0\\end{matrix}\\right]\\end{equation}"
      ],
      "text/plain": [
       "  T           \n",
       "φ₂ ⋅M⋅φ₁ = [0]"
      ]
     },
     "metadata": {},
     "output_type": "display_data"
    },
    {
     "data": {
      "text/latex": [
       "\\begin{equation}\\phi_{1}^{T} M \\phi_{2} = \\left[\\begin{matrix}0\\end{matrix}\\right]\\end{equation}"
      ],
      "text/plain": [
       "  T           \n",
       "φ₁ ⋅M⋅φ₂ = [0]"
      ]
     },
     "metadata": {},
     "output_type": "display_data"
    }
   ],
   "source": [
    "render.eq_display(sp.MatrixSymbol('phi_1',2,1).T*sp.MatrixSymbol('M', 2,2)*sp.MatrixSymbol('phi_1',2,1),(phi_1.T*M*phi_1).subs(params).evalf(3),\n",
    "                  \n",
    "                  sp.MatrixSymbol('phi_2',2,1).T*sp.MatrixSymbol('M', 2,2)*sp.MatrixSymbol('phi_2',2,1),(phi_2.T*M*phi_2).subs(params).evalf(3),\n",
    "\n",
    "                  sp.MatrixSymbol('phi_2',2,1).T*sp.MatrixSymbol('M', 2,2)*sp.MatrixSymbol('phi_1',2,1),(phi_2.T*M*phi_1).subs(params).evalf(3),\n",
    "\n",
    "                  sp.MatrixSymbol('phi_1',2,1).T*sp.MatrixSymbol('M', 2,2)*sp.MatrixSymbol('phi_2',2,1),(phi_1.T*M*phi_2).subs(params).evalf(3))"
   ]
  },
  {
   "cell_type": "markdown",
   "metadata": {},
   "source": [
    "Für die Steifigkeitsmatrix:"
   ]
  },
  {
   "cell_type": "code",
   "execution_count": 20,
   "metadata": {},
   "outputs": [
    {
     "data": {
      "text/latex": [
       "\\begin{equation}\\phi_{1}^{T} K \\phi_{1} = \\left[\\begin{matrix}\\frac{3.3 \\cdot 10^{7} \\text{N}}{\\text{m}}\\end{matrix}\\right]\\end{equation}"
      ],
      "text/plain": [
       "  T        ⎡3.3e+7⋅newton⎤\n",
       "φ₁ ⋅K⋅φ₁ = ⎢─────────────⎥\n",
       "           ⎣    meter    ⎦"
      ]
     },
     "metadata": {},
     "output_type": "display_data"
    },
    {
     "data": {
      "text/latex": [
       "\\begin{equation}\\phi_{2}^{T} K \\phi_{2} = \\left[\\begin{matrix}\\frac{2.64 \\cdot 10^{8} \\text{N}}{\\text{m}}\\end{matrix}\\right]\\end{equation}"
      ],
      "text/plain": [
       "  T        ⎡2.64e+8⋅newton⎤\n",
       "φ₂ ⋅K⋅φ₂ = ⎢──────────────⎥\n",
       "           ⎣    meter     ⎦"
      ]
     },
     "metadata": {},
     "output_type": "display_data"
    },
    {
     "data": {
      "text/latex": [
       "\\begin{equation}\\phi_{2}^{T} K \\phi_{1} = \\left[\\begin{matrix}0\\end{matrix}\\right]\\end{equation}"
      ],
      "text/plain": [
       "  T           \n",
       "φ₂ ⋅K⋅φ₁ = [0]"
      ]
     },
     "metadata": {},
     "output_type": "display_data"
    },
    {
     "data": {
      "text/latex": [
       "\\begin{equation}\\phi_{1}^{T} K \\phi_{2} = \\left[\\begin{matrix}0\\end{matrix}\\right]\\end{equation}"
      ],
      "text/plain": [
       "  T           \n",
       "φ₁ ⋅K⋅φ₂ = [0]"
      ]
     },
     "metadata": {},
     "output_type": "display_data"
    }
   ],
   "source": [
    "render.eq_display(sp.MatrixSymbol('phi_1',2,1).T*sp.MatrixSymbol('K', 2,2)*sp.MatrixSymbol('phi_1',2,1),sp.simplify((phi_1.T*K*phi_1).subs(params)).evalf(3),\n",
    "                  \n",
    "                  sp.MatrixSymbol('phi_2',2,1).T*sp.MatrixSymbol('K', 2,2)*sp.MatrixSymbol('phi_2',2,1),sp.simplify((phi_2.T*K*phi_2).subs(params)).evalf(3),\n",
    "\n",
    "                  sp.MatrixSymbol('phi_2',2,1).T*sp.MatrixSymbol('K', 2,2)*sp.MatrixSymbol('phi_1',2,1),sp.simplify((phi_2.T*K*phi_1).subs(params)).evalf(4),\n",
    "                  \n",
    "                  sp.MatrixSymbol('phi_1',2,1).T*sp.MatrixSymbol('K', 2,2)*sp.MatrixSymbol('phi_2',2,1),sp.simplify((phi_1.T*K*phi_2).subs(params)).evalf(4))"
   ]
  },
  {
   "cell_type": "markdown",
   "metadata": {},
   "source": [
    "#### Eigenformen\n",
    "\n",
    "![Die beiden Eigenformen skizziert](bilder/eigenformen_mms2.jpg){#fig-eigenformen}"
   ]
  }
 ],
 "metadata": {
  "kernelspec": {
   "display_name": "engineering",
   "language": "python",
   "name": "python3"
  },
  "language_info": {
   "codemirror_mode": {
    "name": "ipython",
    "version": 3
   },
   "file_extension": ".py",
   "mimetype": "text/x-python",
   "name": "python",
   "nbconvert_exporter": "python",
   "pygments_lexer": "ipython3",
   "version": "3.10.10"
  },
  "orig_nbformat": 4
 },
 "nbformat": 4,
 "nbformat_minor": 2
}
