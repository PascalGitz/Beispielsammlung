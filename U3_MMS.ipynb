{
 "cells": [
  {
   "cell_type": "code",
   "execution_count": 1,
   "metadata": {},
   "outputs": [],
   "source": [
    "%config InlineBackend.figure_formats = ['svg']\n",
    "\n",
    "import sympy as sp \n",
    "from sympycalcs import render, convert\n",
    "import sympy.physics.units as unit\n",
    "from sympy.abc import *\n",
    "import numpy as np\n",
    "\n",
    "\n",
    "import matplotlib.pyplot as plt\n",
    "\n",
    "sp.init_printing(use_latex='mathjax', latex_mode='equation*')"
   ]
  },
  {
   "cell_type": "markdown",
   "metadata": {
    "vscode": {
     "languageId": "python"
    }
   },
   "source": [
    "# Beispiel: Eigenvektoren und Nachgiebigkeitsmatrix\n",
    "\n",
    "## Aufgabenstellung\n",
    "\n",
    "Das System in @fig-system zeigt einen Rahmen, welcher als Zweimassenschwinger modelliert werden kann.\n",
    "\n",
    "\n",
    "![Statisches System des 2-Massenschwingers](bilder/mms1.jpg){#fig-system width=50%}\n",
    "\n",
    "Gesucht:\n",
    "\n",
    "-  Eigenkreisfrequenz $\\omega$ \n",
    "-  Eigenformen - Normierung auf \n",
    "$$\\phi_1^T = \n",
    "\\begin{bmatrix}\n",
    "1 &  \\\\\n",
    "\\end{bmatrix} $$\n",
    "$$\\phi_2^T =\n",
    "\\begin{bmatrix}\n",
    "1 &  \\\\\n",
    "\\end{bmatrix}$$\n",
    "\n",
    "- Skizze der Eigenformen \n",
    "\n",
    "Gegeben:\n",
    "\n",
    "- Biegesteifigkeit aller Stäbe $E\\cdot I = 20\\cdot 10^{12} \\text{Nmm}^2$\n",
    "- Dehnsteifigkeit aller Stäbe $E\\cdot A = \\infty$\n",
    "- Einzelmassen $m_1 = 1000 \\text{kg}$ und $m_2 = 1000 \\text{kg}$\n",
    "- Länge $l = 4000 \\text{mm}$"
   ]
  },
  {
   "cell_type": "markdown",
   "metadata": {},
   "source": [
    "{{< pagebreak >}}\n",
    "## Musterlösung"
   ]
  },
  {
   "cell_type": "code",
   "execution_count": 2,
   "metadata": {},
   "outputs": [
    {
     "data": {
      "text/markdown": [
       "| Parameter |  |\n",
       "|---|---|\n",
       "| $EI = 20000000000000 \\text{mm}^{2} \\text{N}$ | $l = 4 \\text{m}$ |\n",
       "| $m_{1} = \\frac{1000 \\text{N} \\text{s}^{2}}{\\text{m}}$ | $m_{2} = \\frac{1000 \\text{N} \\text{s}^{2}}{\\text{m}}$ |\n"
      ],
      "text/plain": [
       "<IPython.core.display.Markdown object>"
      ]
     },
     "metadata": {},
     "output_type": "display_data"
    }
   ],
   "source": [
    "#| label: tbl-parameter_mms1\n",
    "#| tbl-cap: Verwendete Parameter\n",
    "\n",
    "params = {'EI': 20*10**12 *unit.N*unit.mm**2,\n",
    "          'm_1':1000*unit.N*unit.second**2/unit.m,\n",
    "          'm_2':1000*unit.N*unit.second**2/unit.m,\n",
    "          'l':4*unit.m,\n",
    "          }\n",
    "\n",
    "          \n",
    "render.dict_to_table(params)"
   ]
  },
  {
   "cell_type": "code",
   "execution_count": 3,
   "metadata": {},
   "outputs": [],
   "source": [
    "omega, t,  l, m_1, m_2, EI = sp.symbols('omega, t,  l, m_1, m_2, EI')\n",
    "\n",
    "omega_n = sp.symbols('omega_n')"
   ]
  },
  {
   "cell_type": "markdown",
   "metadata": {},
   "source": [
    "### Nachgiebigkeitsmatrix $\\mathbf{D}$ {#sec-nachgiebigkeit}\n",
    "\n",
    "Die Steifigkeitsmatrix lässt sich durch Invertierung der Nachgiebigkeitsmatrix beschreiben. Die Nachgiebigkeitsmatrix $\\mathbf{D}$ beschreibt die Deformation an einem Massenpunkt. Die Einträge der $\\mathbf{D}$ - Matrix beschreiben die Deformationen für unterschiedliche Laststellungen.\n",
    "\n",
    "$$\\mathbf{K} = \\mathbf{D^{-1}}$$\n",
    "\n",
    "![Balken mit 2 Einzelmassen](bilder/bsp_nachgib.jpg){#fig-2mms}\n",
    "\n",
    "Für einen 2-Massenschwinger, wie in @fig-2mms , hat die Nachgiebigkeitsmatrix folgende Form:\n",
    "\n",
    "$$\\mathbf{D} = \\frac{1}{EI}\\cdot \\begin{bmatrix}\n",
    "\\delta_{11} & \\delta_{12}\\\\\n",
    "\\delta_{21} & \\delta_{22} \n",
    "\\end{bmatrix}$$\n",
    "\n",
    "wobei gilt:\n",
    "\n",
    "$\\delta_{ab}$ : $a$ ist die Lastsituation, $b$ ist die Masse.\n",
    "\n",
    "\n",
    "#### Anwendung \n",
    "\n",
    "![Schnittgrössen für beide Lastfälle zur Bestimmung der Deformation](bilder/rahmen_def.jpg){#fig-schnittgrössen}\n",
    "\n",
    "$$\\delta_{ab} = \\frac{1}{EI}\\int_{0}^{l} M_a\\bar{M_b} \\,dx$$\n",
    "\n",
    "Es werden 2 Laststellungen betrachtet, jeweils an einem Massenpunkt. Dabei ist Beachtung der Einheit der Einwirkung zu schenken. Diese wird einheitslos angesetzt."
   ]
  },
  {
   "cell_type": "code",
   "execution_count": 4,
   "metadata": {},
   "outputs": [
    {
     "data": {
      "text/latex": [
       "\\begin{equation*}\\delta_{11} = \\frac{2 l^{3}}{3 EI}\\end{equation*}"
      ],
      "text/plain": [
       "         3\n",
       "      2⋅l \n",
       "δ₁₁ = ────\n",
       "      3⋅EI"
      ]
     },
     "metadata": {},
     "output_type": "display_data"
    },
    {
     "data": {
      "text/latex": [
       "\\begin{equation*}\\delta_{12} = \\frac{5 l^{3}}{6 EI}\\end{equation*}"
      ],
      "text/plain": [
       "         3\n",
       "      5⋅l \n",
       "δ₁₂ = ────\n",
       "      6⋅EI"
      ]
     },
     "metadata": {},
     "output_type": "display_data"
    },
    {
     "data": {
      "text/latex": [
       "\\begin{equation*}\\delta_{21} = \\frac{5 l^{3}}{6 EI}\\end{equation*}"
      ],
      "text/plain": [
       "         3\n",
       "      5⋅l \n",
       "δ₂₁ = ────\n",
       "      6⋅EI"
      ]
     },
     "metadata": {},
     "output_type": "display_data"
    },
    {
     "data": {
      "text/latex": [
       "\\begin{equation*}\\delta_{22} = \\frac{5 l^{3}}{3 EI}\\end{equation*}"
      ],
      "text/plain": [
       "         3\n",
       "      5⋅l \n",
       "δ₂₂ = ────\n",
       "      3⋅EI"
      ]
     },
     "metadata": {},
     "output_type": "display_data"
    }
   ],
   "source": [
    "delta_11 = 1/(EI) * (sp.Rational(1,3) * -l*-l*1*l)* 2\n",
    "delta_12 = 1/(EI) * ((sp.Rational(1,3) * -l*-l*1*l) + (sp.Rational(1,2) * -l*-l*1*l))\n",
    "delta_21 = delta_12\n",
    "delta_22 = 1/(EI) * ((sp.Rational(1,3) * -l*-l*1*l)* 2 + -l*-l*1*l)\n",
    "\n",
    "render.eq_display('delta_11', delta_11,\n",
    "                  'delta_12', delta_12,\n",
    "                  'delta_21', delta_21,\n",
    "                  'delta_22', delta_22)\n"
   ]
  },
  {
   "cell_type": "code",
   "execution_count": 5,
   "metadata": {},
   "outputs": [
    {
     "data": {
      "text/latex": [
       "\\begin{equation*}D = \\left[\\begin{matrix}\\frac{2 l^{3}}{3 EI} & \\frac{5 l^{3}}{6 EI}\\\\\\frac{5 l^{3}}{6 EI} & \\frac{5 l^{3}}{3 EI}\\end{matrix}\\right]\\end{equation*}"
      ],
      "text/plain": [
       "    ⎡   3     3⎤\n",
       "    ⎢2⋅l   5⋅l ⎥\n",
       "    ⎢────  ────⎥\n",
       "    ⎢3⋅EI  6⋅EI⎥\n",
       "D = ⎢          ⎥\n",
       "    ⎢   3     3⎥\n",
       "    ⎢5⋅l   5⋅l ⎥\n",
       "    ⎢────  ────⎥\n",
       "    ⎣6⋅EI  3⋅EI⎦"
      ]
     },
     "metadata": {},
     "output_type": "display_data"
    },
    {
     "data": {
      "text/latex": [
       "\\begin{equation*}K = \\left[\\begin{matrix}\\frac{4 EI}{l^{3}} & - \\frac{2 EI}{l^{3}}\\\\- \\frac{2 EI}{l^{3}} & \\frac{8 EI}{5 l^{3}}\\end{matrix}\\right]\\end{equation*}"
      ],
      "text/plain": [
       "    ⎡ 4⋅EI   -2⋅EI ⎤\n",
       "    ⎢ ────   ──────⎥\n",
       "    ⎢   3       3  ⎥\n",
       "    ⎢  l       l   ⎥\n",
       "K = ⎢              ⎥\n",
       "    ⎢-2⋅EI    8⋅EI ⎥\n",
       "    ⎢──────   ──── ⎥\n",
       "    ⎢   3        3 ⎥\n",
       "    ⎣  l      5⋅l  ⎦"
      ]
     },
     "metadata": {},
     "output_type": "display_data"
    }
   ],
   "source": [
    "D = sp.Matrix([[delta_11, delta_12],[delta_21, delta_22]])\n",
    "K = D.inv()\n",
    "render.eq_display(sp.MatrixSymbol('D', 2,2), D,\n",
    "                  sp.MatrixSymbol('K', 2,2), K)"
   ]
  },
  {
   "cell_type": "markdown",
   "metadata": {},
   "source": [
    "### Eigenvektoren\n",
    "\n",
    "Die Bewegungsgleichung für einen ungedämpften, frei schwingenden Mehrmassenschwinger lässt sich folgender massen aufstellen:\n",
    "\n",
    "$$\\mathbf{M u''(t) + K u(t)} = 0$$\n",
    "\n",
    "Die Modale Analyse entkoppelt die Gleichungen um diese unabhängig von einander zu lösen."
   ]
  },
  {
   "cell_type": "markdown",
   "metadata": {},
   "source": [
    "#### Massenmatrix $\\mathbf{M}$"
   ]
  },
  {
   "cell_type": "code",
   "execution_count": 6,
   "metadata": {},
   "outputs": [
    {
     "data": {
      "text/latex": [
       "\\begin{equation*}M = \\left[\\begin{matrix}m_{1} & 0\\\\0 & m_{2}\\end{matrix}\\right]\\end{equation*}"
      ],
      "text/plain": [
       "    ⎡m₁  0 ⎤\n",
       "M = ⎢      ⎥\n",
       "    ⎣0   m₂⎦"
      ]
     },
     "metadata": {},
     "output_type": "display_data"
    }
   ],
   "source": [
    "M = sp.Matrix([[m_1,0],[0,m_2]])\n",
    "\n",
    "render.eq_display(sp.MatrixSymbol('M',2,2), M)"
   ]
  },
  {
   "cell_type": "markdown",
   "metadata": {},
   "source": [
    "#### Eigenkreisfrequenzen \n",
    "Bei einem Mehrmassenschwinger gibt es entsprechend den Freiheitsgraden Eigenkreisfrequenzen $\\omega_n$. Diese lassen sich anhand @eq-eigenkreisfrequenzen bestimmen:\n",
    "\n",
    "$$\n",
    "\\det{[\\mathbf{K}-\\omega_n^2 \\mathbf{M}]=0}\n",
    "$${#eq-eigenkreisfrequenzen}"
   ]
  },
  {
   "cell_type": "code",
   "execution_count": 7,
   "metadata": {},
   "outputs": [
    {
     "data": {
      "text/latex": [
       "\\begin{equation*}\\omega_{1} = \\frac{12.1}{\\text{s}}\\end{equation*}"
      ],
      "text/plain": [
       "      12.1 \n",
       "ω₁ = ──────\n",
       "     second"
      ]
     },
     "metadata": {},
     "output_type": "display_data"
    },
    {
     "data": {
      "text/latex": [
       "\\begin{equation*}\\omega_{2} = \\frac{40.0}{\\text{s}}\\end{equation*}"
      ],
      "text/plain": [
       "      40.0 \n",
       "ω₂ = ──────\n",
       "     second"
      ]
     },
     "metadata": {},
     "output_type": "display_data"
    }
   ],
   "source": [
    "eq_omega = sp.det(K-omega_n**2*M)\n",
    "\n",
    "omega_n_solve = sp.solve(eq_omega, omega_n)\n",
    "omega_1 = omega_n_solve[1]\n",
    "omega_2 = omega_n_solve[3]\n",
    "\n",
    "render.eq_display('omega_1', omega_1.subs(params).simplify().evalf(3),\n",
    "                  'omega_2', omega_2.subs(params).simplify().evalf(3))"
   ]
  },
  {
   "cell_type": "markdown",
   "metadata": {},
   "source": [
    "#### Eigenvektoren $\\mathbf{\\phi}$\n",
    "$$\n",
    "\\phi_n = \\begin{bmatrix}\n",
    "\\phi_{1n}\\\\\n",
    "\\phi_{2n} \n",
    "\\end{bmatrix}\n",
    "$$\n",
    "$$\n",
    "[\\mathbf{K}-\\omega_n^2 \\mathbf{M}]\\cdot \\begin{bmatrix}\n",
    "\\phi_{1n}\\\\\n",
    "\\phi_{2n} \n",
    "\\end{bmatrix}\n",
    "=0$$\n",
    "\n",
    "\n",
    "\n",
    "Dazu ist die entsprechende Normierung aus der Aufgabenstellung zu berücksichtigen."
   ]
  },
  {
   "cell_type": "code",
   "execution_count": 8,
   "metadata": {},
   "outputs": [
    {
     "data": {
      "text/latex": [
       "\\begin{equation*}\\left[\\begin{matrix}- \\frac{2 EI \\phi_{21}}{l^{3}} + \\phi_{11} \\cdot \\left(\\frac{4 EI}{l^{3}} - m_{1} \\cdot \\left(\\frac{4 EI}{5 l^{3} m_{2}} + \\frac{2 EI}{l^{3} m_{1}} - \\frac{2 EI \\sqrt{4 m_{1}^{2} + 5 m_{1} m_{2} + 25 m_{2}^{2}}}{5 l^{3} m_{1} m_{2}}\\right)\\right)\\\\- \\frac{2 EI \\phi_{11}}{l^{3}} + \\phi_{21} \\cdot \\left(\\frac{8 EI}{5 l^{3}} - m_{2} \\cdot \\left(\\frac{4 EI}{5 l^{3} m_{2}} + \\frac{2 EI}{l^{3} m_{1}} - \\frac{2 EI \\sqrt{4 m_{1}^{2} + 5 m_{1} m_{2} + 25 m_{2}^{2}}}{5 l^{3} m_{1} m_{2}}\\right)\\right)\\end{matrix}\\right] = \\left[\\begin{matrix}0\\\\0\\end{matrix}\\right]\\end{equation*}"
      ],
      "text/plain": [
       "⎡                 ⎛          ⎛                          ______________________\n",
       "⎢                 ⎜          ⎜                         ╱     2                \n",
       "⎢  2⋅EI⋅φ₂₁       ⎜4⋅EI      ⎜  4⋅EI     2⋅EI   2⋅EI⋅╲╱  4⋅m₁  + 5⋅m₁⋅m₂ + 25⋅\n",
       "⎢- ──────── + φ₁₁⋅⎜──── - m₁⋅⎜─────── + ───── - ──────────────────────────────\n",
       "⎢      3          ⎜  3       ⎜   3       3                     3              \n",
       "⎢     l           ⎝ l        ⎝5⋅l ⋅m₂   l ⋅m₁               5⋅l ⋅m₁⋅m₂        \n",
       "⎢                                                                             \n",
       "⎢                 ⎛          ⎛                          ______________________\n",
       "⎢                 ⎜          ⎜                         ╱     2                \n",
       "⎢  2⋅EI⋅φ₁₁       ⎜8⋅EI      ⎜  4⋅EI     2⋅EI   2⋅EI⋅╲╱  4⋅m₁  + 5⋅m₁⋅m₂ + 25⋅\n",
       "⎢- ──────── + φ₂₁⋅⎜──── - m₂⋅⎜─────── + ───── - ──────────────────────────────\n",
       "⎢      3          ⎜   3      ⎜   3       3                     3              \n",
       "⎣     l           ⎝5⋅l       ⎝5⋅l ⋅m₂   l ⋅m₁               5⋅l ⋅m₁⋅m₂        \n",
       "\n",
       "____⎞⎞⎤      \n",
       "  2 ⎟⎟⎥      \n",
       "m₂  ⎟⎟⎥      \n",
       "────⎟⎟⎥      \n",
       "    ⎟⎟⎥      \n",
       "    ⎠⎠⎥   ⎡0⎤\n",
       "      ⎥ = ⎢ ⎥\n",
       "____⎞⎞⎥   ⎣0⎦\n",
       "  2 ⎟⎟⎥      \n",
       "m₂  ⎟⎟⎥      \n",
       "────⎟⎟⎥      \n",
       "    ⎟⎟⎥      \n",
       "    ⎠⎠⎦      "
      ]
     },
     "metadata": {},
     "output_type": "display_data"
    },
    {
     "data": {
      "text/latex": [
       "\\begin{equation*}\\phi_{1} = \\left[\\begin{matrix}1.0\\\\1.77\\end{matrix}\\right]\\end{equation*}"
      ],
      "text/plain": [
       "     ⎡1.0 ⎤\n",
       "φ₁ = ⎢    ⎥\n",
       "     ⎣1.77⎦"
      ]
     },
     "metadata": {},
     "output_type": "display_data"
    }
   ],
   "source": [
    "phi_11, phi_21, phi_12, phi_22 = sp.symbols('phi_11, phi_21, phi_12, phi_22')\n",
    "params['phi_11'] = 1\n",
    "\n",
    "phi_1 = sp.Matrix([[phi_11], [phi_21]])\n",
    "\n",
    "phi_21 = list(sp.solve((K-omega_1**2 *M)*phi_1, phi_21).values())[0]\n",
    "\n",
    "params['phi_21'] = phi_21.subs(params).simplify() \n",
    "\n",
    "\n",
    "\n",
    "\n",
    "render.eq_display((K-omega_1**2 *M)*phi_1,sp.Matrix([[0],[0]]),\n",
    "                  sp.MatrixSymbol('phi_1', 2,1),sp.simplify(phi_1.subs(params)).evalf(3))\n"
   ]
  },
  {
   "cell_type": "code",
   "execution_count": 9,
   "metadata": {},
   "outputs": [
    {
     "data": {
      "text/latex": [
       "\\begin{equation*}\\left[\\begin{matrix}- \\frac{2 EI \\phi_{22}}{l^{3}} + \\phi_{12} \\cdot \\left(\\frac{4 EI}{l^{3}} - m_{1} \\cdot \\left(\\frac{4 EI}{5 l^{3} m_{2}} + \\frac{2 EI}{l^{3} m_{1}} + \\frac{2 EI \\sqrt{4 m_{1}^{2} + 5 m_{1} m_{2} + 25 m_{2}^{2}}}{5 l^{3} m_{1} m_{2}}\\right)\\right)\\\\- \\frac{2 EI \\phi_{12}}{l^{3}} + \\phi_{22} \\cdot \\left(\\frac{8 EI}{5 l^{3}} - m_{2} \\cdot \\left(\\frac{4 EI}{5 l^{3} m_{2}} + \\frac{2 EI}{l^{3} m_{1}} + \\frac{2 EI \\sqrt{4 m_{1}^{2} + 5 m_{1} m_{2} + 25 m_{2}^{2}}}{5 l^{3} m_{1} m_{2}}\\right)\\right)\\end{matrix}\\right] = \\left[\\begin{matrix}0\\\\0\\end{matrix}\\right]\\end{equation*}"
      ],
      "text/plain": [
       "⎡                 ⎛          ⎛                          ______________________\n",
       "⎢                 ⎜          ⎜                         ╱     2                \n",
       "⎢  2⋅EI⋅φ₂₂       ⎜4⋅EI      ⎜  4⋅EI     2⋅EI   2⋅EI⋅╲╱  4⋅m₁  + 5⋅m₁⋅m₂ + 25⋅\n",
       "⎢- ──────── + φ₁₂⋅⎜──── - m₁⋅⎜─────── + ───── + ──────────────────────────────\n",
       "⎢      3          ⎜  3       ⎜   3       3                     3              \n",
       "⎢     l           ⎝ l        ⎝5⋅l ⋅m₂   l ⋅m₁               5⋅l ⋅m₁⋅m₂        \n",
       "⎢                                                                             \n",
       "⎢                 ⎛          ⎛                          ______________________\n",
       "⎢                 ⎜          ⎜                         ╱     2                \n",
       "⎢  2⋅EI⋅φ₁₂       ⎜8⋅EI      ⎜  4⋅EI     2⋅EI   2⋅EI⋅╲╱  4⋅m₁  + 5⋅m₁⋅m₂ + 25⋅\n",
       "⎢- ──────── + φ₂₂⋅⎜──── - m₂⋅⎜─────── + ───── + ──────────────────────────────\n",
       "⎢      3          ⎜   3      ⎜   3       3                     3              \n",
       "⎣     l           ⎝5⋅l       ⎝5⋅l ⋅m₂   l ⋅m₁               5⋅l ⋅m₁⋅m₂        \n",
       "\n",
       "____⎞⎞⎤      \n",
       "  2 ⎟⎟⎥      \n",
       "m₂  ⎟⎟⎥      \n",
       "────⎟⎟⎥      \n",
       "    ⎟⎟⎥      \n",
       "    ⎠⎠⎥   ⎡0⎤\n",
       "      ⎥ = ⎢ ⎥\n",
       "____⎞⎞⎥   ⎣0⎦\n",
       "  2 ⎟⎟⎥      \n",
       "m₂  ⎟⎟⎥      \n",
       "────⎟⎟⎥      \n",
       "    ⎟⎟⎥      \n",
       "    ⎠⎠⎦      "
      ]
     },
     "metadata": {},
     "output_type": "display_data"
    },
    {
     "data": {
      "text/latex": [
       "\\begin{equation*}\\phi_{2} = \\left[\\begin{matrix}1.0\\\\-0.566\\end{matrix}\\right]\\end{equation*}"
      ],
      "text/plain": [
       "     ⎡ 1.0  ⎤\n",
       "φ₂ = ⎢      ⎥\n",
       "     ⎣-0.566⎦"
      ]
     },
     "metadata": {},
     "output_type": "display_data"
    }
   ],
   "source": [
    "params['phi_12'] = 1\n",
    "\n",
    "phi_2 = sp.Matrix([[phi_12], [phi_22]])\n",
    "\n",
    "phi_22 = list(sp.solve((K-omega_2**2 *M)*phi_2, phi_22).values())[0]\n",
    "\n",
    "params['phi_22'] = phi_22.subs(params).simplify() \n",
    "\n",
    "\n",
    "\n",
    "\n",
    "render.eq_display((K-omega_2**2 *M)*phi_2,sp.Matrix([[0],[0]]),\n",
    "                  sp.MatrixSymbol('phi_2', 2,1),sp.simplify(phi_2.subs(params)).evalf(3))\n"
   ]
  },
  {
   "cell_type": "markdown",
   "metadata": {},
   "source": [
    "#### Orthogonalitätsbedingung\n",
    "Zur effektiven Entkoppelung der Gleichungen muss die Orthogonalitätsbedingung eingehalten sein. Durch die Orthogonalität der Vektoren $\\phi_1$ und $\\phi_2$ kann mittels einem Einmassenschwingers sämtliches Verhalten von $\\phi_1$ beschrieben werden und mittels einem zweiten Einmassenschwinger sämtliches Verhalten von $\\phi_2$. Ist die Orthogonalität nicht gegeben, so müsste der erste Einmassenschwinger Anteile aus $\\phi_1$ und $\\phi_2$ beschreiben.\n",
    "\n",
    "Dies gilt es für die Massenmatrix zu kontrollieren:\n",
    "\n",
    "$$\\phi_1^T \\mathbf{ M } \\phi_1 \\neq 0$$\n",
    "\n",
    "$$\\phi_2^T \\mathbf{ M } \\phi_2 \\neq 0$$\n",
    "\n",
    "$$\\phi_2^T \\mathbf{ M } \\phi_1 = 0$$\n",
    "\n",
    "Sowohl auch für die Steifigkeitsmatrix:\n",
    "\n",
    "$$\\phi_1^T \\mathbf{ K } \\phi_1 \\neq 0$$\n",
    "\n",
    "$$\\phi_2^T \\mathbf{ K } \\phi_2 \\neq 0$$\n",
    "\n",
    "$$\\phi_2^T \\mathbf{ K } \\phi_1 = 0$$\n",
    "\n",
    "\n",
    "Angewendet auf die Aufgabe:"
   ]
  },
  {
   "cell_type": "code",
   "execution_count": 10,
   "metadata": {},
   "outputs": [
    {
     "data": {
      "text/latex": [
       "\\begin{equation*}\\phi_{1}^{T} M \\phi_{1} = \\left[\\begin{matrix}\\frac{4.12 \\cdot 10^{3} \\text{N} \\text{s}^{2}}{\\text{m}}\\end{matrix}\\right]\\end{equation*}"
      ],
      "text/plain": [
       "           ⎡                     2⎤\n",
       "  T        ⎢4.12e+3⋅newton⋅second ⎥\n",
       "φ₁ ⋅M⋅φ₁ = ⎢──────────────────────⎥\n",
       "           ⎣        meter         ⎦"
      ]
     },
     "metadata": {},
     "output_type": "display_data"
    },
    {
     "data": {
      "text/latex": [
       "\\begin{equation*}\\phi_{2}^{T} M \\phi_{2} = \\left[\\begin{matrix}\\frac{1.32 \\cdot 10^{3} \\text{N} \\text{s}^{2}}{\\text{m}}\\end{matrix}\\right]\\end{equation*}"
      ],
      "text/plain": [
       "           ⎡                     2⎤\n",
       "  T        ⎢1.32e+3⋅newton⋅second ⎥\n",
       "φ₂ ⋅M⋅φ₂ = ⎢──────────────────────⎥\n",
       "           ⎣        meter         ⎦"
      ]
     },
     "metadata": {},
     "output_type": "display_data"
    },
    {
     "data": {
      "text/latex": [
       "\\begin{equation*}\\phi_{2}^{T} M \\phi_{1} = \\left[\\begin{matrix}0\\end{matrix}\\right]\\end{equation*}"
      ],
      "text/plain": [
       "  T           \n",
       "φ₂ ⋅M⋅φ₁ = [0]"
      ]
     },
     "metadata": {},
     "output_type": "display_data"
    },
    {
     "data": {
      "text/latex": [
       "\\begin{equation*}\\phi_{1}^{T} M \\phi_{2} = \\left[\\begin{matrix}0\\end{matrix}\\right]\\end{equation*}"
      ],
      "text/plain": [
       "  T           \n",
       "φ₁ ⋅M⋅φ₂ = [0]"
      ]
     },
     "metadata": {},
     "output_type": "display_data"
    }
   ],
   "source": [
    "render.eq_display(sp.MatrixSymbol('phi_1',2,1).T*sp.MatrixSymbol('M', 2,2)*sp.MatrixSymbol('phi_1',2,1),(phi_1.T*M*phi_1).subs(params).evalf(3),\n",
    "                  \n",
    "                  sp.MatrixSymbol('phi_2',2,1).T*sp.MatrixSymbol('M', 2,2)*sp.MatrixSymbol('phi_2',2,1),(phi_2.T*M*phi_2).subs(params).evalf(3),\n",
    "\n",
    "                  sp.MatrixSymbol('phi_2',2,1).T*sp.MatrixSymbol('M', 2,2)*sp.MatrixSymbol('phi_1',2,1),(phi_2.T*M*phi_1).subs(params).evalf(3),\n",
    "\n",
    "                  sp.MatrixSymbol('phi_1',2,1).T*sp.MatrixSymbol('M', 2,2)*sp.MatrixSymbol('phi_2',2,1),(phi_1.T*M*phi_2).subs(params).evalf(3))"
   ]
  },
  {
   "cell_type": "markdown",
   "metadata": {},
   "source": [
    "Für die Steifigkeitsmatrix:"
   ]
  },
  {
   "cell_type": "code",
   "execution_count": 11,
   "metadata": {},
   "outputs": [
    {
     "data": {
      "text/latex": [
       "\\begin{equation*}\\phi_{1}^{T} K \\phi_{1} = \\left[\\begin{matrix}\\frac{6.02 \\cdot 10^{5} \\text{N}}{\\text{m}}\\end{matrix}\\right]\\end{equation*}"
      ],
      "text/plain": [
       "  T        ⎡6.02e+5⋅newton⎤\n",
       "φ₁ ⋅K⋅φ₁ = ⎢──────────────⎥\n",
       "           ⎣    meter     ⎦"
      ]
     },
     "metadata": {},
     "output_type": "display_data"
    },
    {
     "data": {
      "text/latex": [
       "\\begin{equation*}\\phi_{2}^{T} K \\phi_{2} = \\left[\\begin{matrix}\\frac{2.12 \\cdot 10^{6} \\text{N}}{\\text{m}}\\end{matrix}\\right]\\end{equation*}"
      ],
      "text/plain": [
       "  T        ⎡2.12e+6⋅newton⎤\n",
       "φ₂ ⋅K⋅φ₂ = ⎢──────────────⎥\n",
       "           ⎣    meter     ⎦"
      ]
     },
     "metadata": {},
     "output_type": "display_data"
    },
    {
     "data": {
      "text/latex": [
       "\\begin{equation*}\\phi_{2}^{T} K \\phi_{1} = \\left[\\begin{matrix}0\\end{matrix}\\right]\\end{equation*}"
      ],
      "text/plain": [
       "  T           \n",
       "φ₂ ⋅K⋅φ₁ = [0]"
      ]
     },
     "metadata": {},
     "output_type": "display_data"
    },
    {
     "data": {
      "text/latex": [
       "\\begin{equation*}\\phi_{1}^{T} K \\phi_{2} = \\left[\\begin{matrix}0\\end{matrix}\\right]\\end{equation*}"
      ],
      "text/plain": [
       "  T           \n",
       "φ₁ ⋅K⋅φ₂ = [0]"
      ]
     },
     "metadata": {},
     "output_type": "display_data"
    }
   ],
   "source": [
    "render.eq_display(sp.MatrixSymbol('phi_1',2,1).T*sp.MatrixSymbol('K', 2,2)*sp.MatrixSymbol('phi_1',2,1),sp.simplify((phi_1.T*K*phi_1).subs(params)).evalf(3),\n",
    "                  \n",
    "                  sp.MatrixSymbol('phi_2',2,1).T*sp.MatrixSymbol('K', 2,2)*sp.MatrixSymbol('phi_2',2,1),sp.simplify((phi_2.T*K*phi_2).subs(params)).evalf(3),\n",
    "\n",
    "                  sp.MatrixSymbol('phi_2',2,1).T*sp.MatrixSymbol('K', 2,2)*sp.MatrixSymbol('phi_1',2,1),sp.simplify((phi_2.T*K*phi_1).subs(params)).evalf(3),\n",
    "                  \n",
    "                  sp.MatrixSymbol('phi_1',2,1).T*sp.MatrixSymbol('K', 2,2)*sp.MatrixSymbol('phi_2',2,1),sp.simplify((phi_1.T*K*phi_2).subs(params)).evalf(3))"
   ]
  },
  {
   "cell_type": "markdown",
   "metadata": {},
   "source": [
    "### Eigenformen\n",
    "\n",
    "![Die beiden Eigenformen skizziert](bilder/eigenformen.jpg){#fig-eigenformen}"
   ]
  },
  {
   "cell_type": "markdown",
   "metadata": {},
   "source": [
    "{{< pagebreak >}}\n",
    "\n",
    "# Beispiel: Eigenvektoren mit direkt bestimmter Steifigkeitsmatrix{#sec-mms_rahmen}\n",
    "\n",
    "## Aufgabenstellung\n",
    "\n",
    "\n",
    "Das System in @fig-system_mms2 zeigt ein Rahmentragwerk, welches als Zweimassenschwinger modelliert werden kann.\n",
    "\n",
    "![Statisches System des Rahmentragwerks](bilder/system_mms2.jpg){#fig-system_mms2 width=70%}\n",
    "\n",
    "Gesucht:\n",
    "\n",
    "-  Eigenkreisfrequenz $\\omega$ \n",
    "-  Eigenformen - Normierung auf \n",
    "$$\\phi_1^T = \n",
    "\\begin{bmatrix}\n",
    " &  1\\\\\n",
    "\\end{bmatrix} $$\n",
    "$$\\phi_2^T =\n",
    "\\begin{bmatrix}\n",
    " &  1\\\\\n",
    "\\end{bmatrix}$$\n",
    "\n",
    "- Skizze der Eigenformen \n",
    "\n",
    "Gegeben:\n",
    "\n",
    "- Elastizitätsmodul der Stützen $E = 30000 \\text{N}/{mm}^2$\n",
    "- Flächenträgheitsmoment der Stützen $I = 2 \\cdot 10^9 \\text{mm}^4$\n",
    "- Dehnsteifigkeit aller Stäbe $E\\cdot A = \\infty$\n",
    "- Einzelmassen $m = 20000 \\text{kg}$"
   ]
  },
  {
   "cell_type": "markdown",
   "metadata": {},
   "source": [
    "{{< pagebreak >}}\n",
    "\n",
    "## Musterlösung"
   ]
  },
  {
   "cell_type": "code",
   "execution_count": 12,
   "metadata": {},
   "outputs": [
    {
     "data": {
      "text/markdown": [
       "| Parameter |  |\n",
       "|---|---|\n",
       "| $E = \\frac{30000 \\text{N}}{\\text{mm}^{2}}$ | $H = 3.2 \\text{m}$ |\n",
       "| $I = 2000000000 \\text{mm}^{4}$ | $l = 4 \\text{m}$ |\n",
       "| $m_{1} = \\frac{40000 \\text{N} \\text{s}^{2}}{\\text{m}}$ | $m_{2} = \\frac{20000 \\text{N} \\text{s}^{2}}{\\text{m}}$ |\n"
      ],
      "text/plain": [
       "<IPython.core.display.Markdown object>"
      ]
     },
     "metadata": {},
     "output_type": "display_data"
    }
   ],
   "source": [
    "#| label: tbl-parameter_mms2\n",
    "#| tbl-cap: Verwendete Parameter\n",
    "\n",
    "params = {'E': 30*10**3 *unit.N/unit.mm**2,\n",
    "          'I':2*10**9*unit.mm**4,\n",
    "          'm_1':2*20000*unit.N*unit.second**2/unit.m,\n",
    "          'm_2':20000*unit.N*unit.second**2/unit.m,\n",
    "          'l':4*unit.m,\n",
    "          'H':3.2*unit.m,\n",
    "          }\n",
    "\n",
    "\n",
    "render.dict_to_table(params)"
   ]
  },
  {
   "cell_type": "code",
   "execution_count": 13,
   "metadata": {},
   "outputs": [],
   "source": [
    "omega, t,  l, m_1, m_2, E,I, H = sp.symbols('omega, t,  l, m_1, m_2, E, I, H')\n",
    "\n",
    "omega_n = sp.symbols('omega_n')"
   ]
  },
  {
   "cell_type": "markdown",
   "metadata": {},
   "source": [
    "### Eigenkreisfrequenzen\n",
    "#### Steifigkeitsmatrix $\\mathbf{K}$\n",
    "\n",
    "Zur Bestimmung der Steifigkeitsmatrix ist das System an jedem Freiheitsgrad auszulenken, wie in @fig-steifigkeit dargestellt ist.\n",
    "\n",
    "![Auslenkung der Freiheitsgrade zur Bestimmung der Steifigkeit](bilder/steifigkeit_mms2.jpg){#fig-steifigkeit}\n",
    "\n",
    "Wichtig dabei sind die Richtungen der Kräfte. Als Denkstütze gilt folgendes:\n",
    "\n",
    "- Der Auslenkung um $u$ wirkt die Federkraft entgegen, welche $k u$ entspricht.\n",
    "- Zusätzlich wirkt die Trägheitskraft der Auslenkung entgegen, welche $m u''$ entspricht.\n",
    "- Nach der Betrachtung des ausgelenkten Punkts, kann mittels *Actio-Reactio*-Prinzip das \"*Stockwerk*\" ins Gleichgewicht gebracht werden.\n",
    "- Vorzeichen sind gegen der Bewegungsrichtig positiv."
   ]
  },
  {
   "cell_type": "markdown",
   "metadata": {},
   "source": [
    "#### Horizontale Steifigkeit\n",
    "\n",
    "Für entsprechende Anwendungsfälle gibt es fertige Lösungen zur Bestimmung der Steifigkeit. Gemäss @fig-system_mms2 ist die Stütze am Fuss- und Kopfpunkt eingespannt. Somit resultiert die Steifigkeit zu:\n",
    "\n",
    "$$k_{Stuetze} = \\frac{12EI_{Stuetze}}{H^3}$$\n",
    "\n",
    "Diese gilt für eine einzelne Stütze."
   ]
  },
  {
   "cell_type": "code",
   "execution_count": 14,
   "metadata": {},
   "outputs": [
    {
     "data": {
      "text/latex": [
       "\\begin{equation*}K = \\left[\\begin{matrix}k_{1} + k_{2} & - k_{2}\\\\- k_{2} & k_{2}\\end{matrix}\\right]\\end{equation*}"
      ],
      "text/plain": [
       "    ⎡k₁ + k₂  -k₂⎤\n",
       "K = ⎢            ⎥\n",
       "    ⎣  -k₂    k₂ ⎦"
      ]
     },
     "metadata": {},
     "output_type": "display_data"
    },
    {
     "data": {
      "text/latex": [
       "\\begin{equation*}K = \\left[\\begin{matrix}\\frac{1.31836 \\cdot 10^{8} \\text{N}}{\\text{m}} & - \\frac{4.39453 \\cdot 10^{7} \\text{N}}{\\text{m}}\\\\- \\frac{4.39453 \\cdot 10^{7} \\text{N}}{\\text{m}} & \\frac{4.39453 \\cdot 10^{7} \\text{N}}{\\text{m}}\\end{matrix}\\right]\\end{equation*}"
      ],
      "text/plain": [
       "    ⎡ 1.31836e+8⋅newton   -4.39453e+7⋅newton ⎤\n",
       "    ⎢ ─────────────────   ───────────────────⎥\n",
       "    ⎢       meter                meter       ⎥\n",
       "K = ⎢                                        ⎥\n",
       "    ⎢-4.39453e+7⋅newton    4.39453e+7⋅newton ⎥\n",
       "    ⎢───────────────────   ───────────────── ⎥\n",
       "    ⎣       meter                meter       ⎦"
      ]
     },
     "metadata": {},
     "output_type": "display_data"
    }
   ],
   "source": [
    "k_1, k_2 = sp.symbols('k_1, k_2')\n",
    "\n",
    "params['k_1'] = 2*(12 * 2*E*I / H**3).subs(params).simplify().evalf(6)\n",
    "params['k_2'] = 2*(12 * E*I / H**3).subs(params).simplify().evalf(6)\n",
    "K = sp.Matrix([[k_1 + k_2, -k_2],[-k_2, k_2]])\n",
    "\n",
    "\n",
    "render.eq_display(sp.MatrixSymbol('K', 2,2), K,\n",
    "                  sp.MatrixSymbol('K', 2,2), K.subs(params),\n",
    "                  )"
   ]
  },
  {
   "cell_type": "markdown",
   "metadata": {},
   "source": [
    "### Eigenvektoren\n",
    "#### Massenmatrix $\\mathbf{M}$ \n",
    "\n",
    "Die Massenmatrix folgt dem gleichen Aufbau wie die Steifigkeitsmatrix. Es gelten die gleichen Vorzeichenregelungen."
   ]
  },
  {
   "cell_type": "code",
   "execution_count": 15,
   "metadata": {},
   "outputs": [
    {
     "data": {
      "text/latex": [
       "\\begin{equation*}M = \\left[\\begin{matrix}m_{1} & 0\\\\0 & m_{2}\\end{matrix}\\right]\\end{equation*}"
      ],
      "text/plain": [
       "    ⎡m₁  0 ⎤\n",
       "M = ⎢      ⎥\n",
       "    ⎣0   m₂⎦"
      ]
     },
     "metadata": {},
     "output_type": "display_data"
    },
    {
     "data": {
      "text/latex": [
       "\\begin{equation*}M = \\left[\\begin{matrix}\\frac{40000 \\text{N} \\text{s}^{2}}{\\text{m}} & 0\\\\0 & \\frac{20000 \\text{N} \\text{s}^{2}}{\\text{m}}\\end{matrix}\\right]\\end{equation*}"
      ],
      "text/plain": [
       "    ⎡                   2                      ⎤\n",
       "    ⎢40000⋅newton⋅second                       ⎥\n",
       "    ⎢────────────────────           0          ⎥\n",
       "    ⎢       meter                              ⎥\n",
       "M = ⎢                                          ⎥\n",
       "    ⎢                                         2⎥\n",
       "    ⎢                      20000⋅newton⋅second ⎥\n",
       "    ⎢         0            ────────────────────⎥\n",
       "    ⎣                             meter        ⎦"
      ]
     },
     "metadata": {},
     "output_type": "display_data"
    }
   ],
   "source": [
    "m_1, m_2 = sp.symbols('m_1, m_2')\n",
    "M = sp.Matrix([[m_1, 0],[0, m_2]])\n",
    "\n",
    "render.eq_display(sp.MatrixSymbol('M', 2,2), M,\n",
    "                  sp.MatrixSymbol('M', 2,2), M.subs(params))"
   ]
  },
  {
   "cell_type": "markdown",
   "metadata": {},
   "source": [
    "#### Eigenkreisfrequenzen \n",
    "Bei einem Mehrmassenschwinger gibt es entsprechend den Freiheitsgraden Eigenkreisfrequenzen $\\omega_n$. Diese lassen sich anhand folgender Gleichung bestimmen:\n",
    "\n",
    "$$\\det{[\\mathbf{K}-\\omega_n^2 \\mathbf{M}]=0}$$"
   ]
  },
  {
   "cell_type": "code",
   "execution_count": 16,
   "metadata": {},
   "outputs": [
    {
     "data": {
      "text/latex": [
       "\\begin{equation*}\\omega_{1} = \\frac{33.1}{\\text{s}}\\end{equation*}"
      ],
      "text/plain": [
       "      33.1 \n",
       "ω₁ = ──────\n",
       "     second"
      ]
     },
     "metadata": {},
     "output_type": "display_data"
    },
    {
     "data": {
      "text/latex": [
       "\\begin{equation*}\\omega_{2} = \\frac{66.3}{\\text{s}}\\end{equation*}"
      ],
      "text/plain": [
       "      66.3 \n",
       "ω₂ = ──────\n",
       "     second"
      ]
     },
     "metadata": {},
     "output_type": "display_data"
    }
   ],
   "source": [
    "eq_omega = sp.det(K-omega_n**2*M)\n",
    "\n",
    "omega_n_solve = sp.solve(eq_omega, omega_n)\n",
    "omega_1 = omega_n_solve[1]\n",
    "omega_2 = omega_n_solve[3]\n",
    "\n",
    "render.eq_display('omega_1', omega_1.subs(params).simplify().evalf(3),\n",
    "                  'omega_2', omega_2.subs(params).simplify().evalf(3))"
   ]
  },
  {
   "cell_type": "markdown",
   "metadata": {},
   "source": [
    "#### Eigenvektoren $\\phi$"
   ]
  },
  {
   "cell_type": "code",
   "execution_count": 17,
   "metadata": {},
   "outputs": [
    {
     "data": {
      "text/latex": [
       "\\begin{equation*}\\left[\\begin{matrix}\\frac{- k_{2} m_{2} \\phi_{21} + \\frac{\\phi_{11} \\left(- k_{2} m_{1} + m_{2} \\left(k_{1} + k_{2}\\right) + \\sqrt{k_{1}^{2} m_{2}^{2} - 2 k_{1} k_{2} m_{1} m_{2} + 2 k_{1} k_{2} m_{2}^{2} + k_{2}^{2} m_{1}^{2} + 2 k_{2}^{2} m_{1} m_{2} + k_{2}^{2} m_{2}^{2}}\\right)}{2}}{m_{2}}\\\\\\frac{- k_{2} m_{1} \\phi_{11} + \\frac{\\phi_{21} \\left(k_{2} m_{1} - m_{2} \\left(k_{1} + k_{2}\\right) + \\sqrt{k_{1}^{2} m_{2}^{2} - 2 k_{1} k_{2} m_{1} m_{2} + 2 k_{1} k_{2} m_{2}^{2} + k_{2}^{2} m_{1}^{2} + 2 k_{2}^{2} m_{1} m_{2} + k_{2}^{2} m_{2}^{2}}\\right)}{2}}{m_{1}}\\end{matrix}\\right] = \\left[\\begin{matrix}0\\\\0\\end{matrix}\\right]\\end{equation*}"
      ],
      "text/plain": [
       "⎡                 ⎛                           ________________________________\n",
       "⎢                 ⎜                          ╱   2   2                        \n",
       "⎢             φ₁₁⋅⎝-k₂⋅m₁ + m₂⋅(k₁ + k₂) + ╲╱  k₁ ⋅m₂  - 2⋅k₁⋅k₂⋅m₁⋅m₂ + 2⋅k₁⋅\n",
       "⎢-k₂⋅m₂⋅φ₂₁ + ────────────────────────────────────────────────────────────────\n",
       "⎢                                                                 2           \n",
       "⎢─────────────────────────────────────────────────────────────────────────────\n",
       "⎢                                                           m₂                \n",
       "⎢                                                                             \n",
       "⎢                 ⎛                          _________________________________\n",
       "⎢                 ⎜                         ╱   2   2                         \n",
       "⎢             φ₂₁⋅⎝k₂⋅m₁ - m₂⋅(k₁ + k₂) + ╲╱  k₁ ⋅m₂  - 2⋅k₁⋅k₂⋅m₁⋅m₂ + 2⋅k₁⋅k\n",
       "⎢-k₂⋅m₁⋅φ₁₁ + ────────────────────────────────────────────────────────────────\n",
       "⎢                                                                 2           \n",
       "⎢─────────────────────────────────────────────────────────────────────────────\n",
       "⎣                                                          m₁                 \n",
       "\n",
       "_________________________________________⎞⎤      \n",
       "     2     2   2       2           2   2 ⎟⎥      \n",
       "k₂⋅m₂  + k₂ ⋅m₁  + 2⋅k₂ ⋅m₁⋅m₂ + k₂ ⋅m₂  ⎠⎥      \n",
       "──────────────────────────────────────────⎥      \n",
       "                                          ⎥      \n",
       "──────────────────────────────────────────⎥      \n",
       "                                          ⎥   ⎡0⎤\n",
       "                                          ⎥ = ⎢ ⎥\n",
       "________________________________________⎞ ⎥   ⎣0⎦\n",
       "    2     2   2       2           2   2 ⎟ ⎥      \n",
       "₂⋅m₂  + k₂ ⋅m₁  + 2⋅k₂ ⋅m₁⋅m₂ + k₂ ⋅m₂  ⎠ ⎥      \n",
       "───────────────────────────────────────── ⎥      \n",
       "                                          ⎥      \n",
       "───────────────────────────────────────── ⎥      \n",
       "                                          ⎦      "
      ]
     },
     "metadata": {},
     "output_type": "display_data"
    },
    {
     "data": {
      "text/latex": [
       "\\begin{equation*}\\phi_{1} = \\left[\\begin{matrix}0.5\\\\1.0\\end{matrix}\\right]\\end{equation*}"
      ],
      "text/plain": [
       "     ⎡0.5⎤\n",
       "φ₁ = ⎢   ⎥\n",
       "     ⎣1.0⎦"
      ]
     },
     "metadata": {},
     "output_type": "display_data"
    }
   ],
   "source": [
    "phi_11, phi_21, phi_12, phi_22 = sp.symbols('phi_11, phi_21, phi_12, phi_22')\n",
    "params['phi_21'] = 1\n",
    "\n",
    "phi_1 = sp.Matrix([[phi_11], [phi_21]])\n",
    "\n",
    "phi_11 = list(sp.solve((K-omega_1**2 *M)*phi_1, phi_11).values())[0]\n",
    "\n",
    "params['phi_11'] = phi_11.subs(params).simplify() \n",
    "\n",
    "\n",
    "\n",
    "\n",
    "render.eq_display(sp.simplify((K-omega_1**2 *M)*phi_1),sp.Matrix([[0],[0]]),\n",
    "                  sp.MatrixSymbol('phi_1', 2,1),sp.simplify(phi_1.subs(params)).evalf(3))"
   ]
  },
  {
   "cell_type": "code",
   "execution_count": 18,
   "metadata": {},
   "outputs": [
    {
     "data": {
      "text/latex": [
       "\\begin{equation*}\\left[\\begin{matrix}\\frac{- k_{2} m_{2} \\phi_{22} + \\frac{\\phi_{12} \\left(- k_{2} m_{1} + m_{2} \\left(k_{1} + k_{2}\\right) - \\sqrt{k_{1}^{2} m_{2}^{2} - 2 k_{1} k_{2} m_{1} m_{2} + 2 k_{1} k_{2} m_{2}^{2} + k_{2}^{2} m_{1}^{2} + 2 k_{2}^{2} m_{1} m_{2} + k_{2}^{2} m_{2}^{2}}\\right)}{2}}{m_{2}}\\\\\\frac{- k_{2} m_{1} \\phi_{12} + \\frac{\\phi_{22} \\left(k_{2} m_{1} - m_{2} \\left(k_{1} + k_{2}\\right) - \\sqrt{k_{1}^{2} m_{2}^{2} - 2 k_{1} k_{2} m_{1} m_{2} + 2 k_{1} k_{2} m_{2}^{2} + k_{2}^{2} m_{1}^{2} + 2 k_{2}^{2} m_{1} m_{2} + k_{2}^{2} m_{2}^{2}}\\right)}{2}}{m_{1}}\\end{matrix}\\right] = \\left[\\begin{matrix}0\\\\0\\end{matrix}\\right]\\end{equation*}"
      ],
      "text/plain": [
       "⎡                 ⎛                           ________________________________\n",
       "⎢                 ⎜                          ╱   2   2                        \n",
       "⎢             φ₁₂⋅⎝-k₂⋅m₁ + m₂⋅(k₁ + k₂) - ╲╱  k₁ ⋅m₂  - 2⋅k₁⋅k₂⋅m₁⋅m₂ + 2⋅k₁⋅\n",
       "⎢-k₂⋅m₂⋅φ₂₂ + ────────────────────────────────────────────────────────────────\n",
       "⎢                                                                 2           \n",
       "⎢─────────────────────────────────────────────────────────────────────────────\n",
       "⎢                                                           m₂                \n",
       "⎢                                                                             \n",
       "⎢                 ⎛                          _________________________________\n",
       "⎢                 ⎜                         ╱   2   2                         \n",
       "⎢             φ₂₂⋅⎝k₂⋅m₁ - m₂⋅(k₁ + k₂) - ╲╱  k₁ ⋅m₂  - 2⋅k₁⋅k₂⋅m₁⋅m₂ + 2⋅k₁⋅k\n",
       "⎢-k₂⋅m₁⋅φ₁₂ + ────────────────────────────────────────────────────────────────\n",
       "⎢                                                                 2           \n",
       "⎢─────────────────────────────────────────────────────────────────────────────\n",
       "⎣                                                          m₁                 \n",
       "\n",
       "_________________________________________⎞⎤      \n",
       "     2     2   2       2           2   2 ⎟⎥      \n",
       "k₂⋅m₂  + k₂ ⋅m₁  + 2⋅k₂ ⋅m₁⋅m₂ + k₂ ⋅m₂  ⎠⎥      \n",
       "──────────────────────────────────────────⎥      \n",
       "                                          ⎥      \n",
       "──────────────────────────────────────────⎥      \n",
       "                                          ⎥   ⎡0⎤\n",
       "                                          ⎥ = ⎢ ⎥\n",
       "________________________________________⎞ ⎥   ⎣0⎦\n",
       "    2     2   2       2           2   2 ⎟ ⎥      \n",
       "₂⋅m₂  + k₂ ⋅m₁  + 2⋅k₂ ⋅m₁⋅m₂ + k₂ ⋅m₂  ⎠ ⎥      \n",
       "───────────────────────────────────────── ⎥      \n",
       "                                          ⎥      \n",
       "───────────────────────────────────────── ⎥      \n",
       "                                          ⎦      "
      ]
     },
     "metadata": {},
     "output_type": "display_data"
    },
    {
     "data": {
      "text/latex": [
       "\\begin{equation*}\\phi_{2} = \\left[\\begin{matrix}-1.0\\\\1.0\\end{matrix}\\right]\\end{equation*}"
      ],
      "text/plain": [
       "     ⎡-1.0⎤\n",
       "φ₂ = ⎢    ⎥\n",
       "     ⎣1.0 ⎦"
      ]
     },
     "metadata": {},
     "output_type": "display_data"
    }
   ],
   "source": [
    "params['phi_22'] = 1\n",
    "\n",
    "phi_2 = sp.Matrix([[phi_12], [phi_22]])\n",
    "\n",
    "phi_12 = list(sp.solve((K-omega_2**2 *M)*phi_2, phi_12).values())[0]\n",
    "\n",
    "params['phi_12'] = phi_12.subs(params).simplify() \n",
    "\n",
    "\n",
    "\n",
    "\n",
    "render.eq_display(sp.simplify((K-omega_2**2 *M)*phi_2),sp.Matrix([[0],[0]]),\n",
    "                  sp.MatrixSymbol('phi_2', 2,1),sp.simplify(phi_2.subs(params)).evalf(3))"
   ]
  },
  {
   "cell_type": "markdown",
   "metadata": {},
   "source": [
    "#### Orthogonalitätsbedingung\n",
    "\n",
    "Zur Entkoppelung der Gleichungen muss die Orthogonalitätsbedingung eingehalten sein.\n",
    "\n",
    "Dies gilt es für die Massenmatrix zu kontrollieren:\n",
    "\n",
    "$$\\phi_1^T \\mathbf{ M } \\phi_1 \\neq 0$$\n",
    "\n",
    "$$\\phi_2^T \\mathbf{ M } \\phi_2 \\neq 0$$\n",
    "\n",
    "$$\\phi_2^T \\mathbf{ M } \\phi_1 = 0$$\n",
    "\n",
    "Sowohl auch für die Steifigkeitsmatrix:\n",
    "\n",
    "$$\\phi_1^T \\mathbf{ K } \\phi_1 \\neq 0$$\n",
    "\n",
    "$$\\phi_2^T \\mathbf{ K } \\phi_2 \\neq 0$$\n",
    "\n",
    "$$\\phi_2^T \\mathbf{ K } \\phi_1 = 0$$\n",
    "\n",
    "Angewendet auf die Aufgabe:\n"
   ]
  },
  {
   "cell_type": "code",
   "execution_count": 19,
   "metadata": {},
   "outputs": [
    {
     "data": {
      "text/latex": [
       "\\begin{equation*}\\phi_{1}^{T} M \\phi_{1} = \\left[\\begin{matrix}\\frac{3.0 \\cdot 10^{4} \\text{N} \\text{s}^{2}}{\\text{m}}\\end{matrix}\\right]\\end{equation*}"
      ],
      "text/plain": [
       "           ⎡                    2⎤\n",
       "  T        ⎢3.0e+4⋅newton⋅second ⎥\n",
       "φ₁ ⋅M⋅φ₁ = ⎢─────────────────────⎥\n",
       "           ⎣        meter        ⎦"
      ]
     },
     "metadata": {},
     "output_type": "display_data"
    },
    {
     "data": {
      "text/latex": [
       "\\begin{equation*}\\phi_{2}^{T} M \\phi_{2} = \\left[\\begin{matrix}\\frac{6.0 \\cdot 10^{4} \\text{N} \\text{s}^{2}}{\\text{m}}\\end{matrix}\\right]\\end{equation*}"
      ],
      "text/plain": [
       "           ⎡                    2⎤\n",
       "  T        ⎢6.0e+4⋅newton⋅second ⎥\n",
       "φ₂ ⋅M⋅φ₂ = ⎢─────────────────────⎥\n",
       "           ⎣        meter        ⎦"
      ]
     },
     "metadata": {},
     "output_type": "display_data"
    },
    {
     "data": {
      "text/latex": [
       "\\begin{equation*}\\phi_{2}^{T} M \\phi_{1} = \\left[\\begin{matrix}0\\end{matrix}\\right]\\end{equation*}"
      ],
      "text/plain": [
       "  T           \n",
       "φ₂ ⋅M⋅φ₁ = [0]"
      ]
     },
     "metadata": {},
     "output_type": "display_data"
    },
    {
     "data": {
      "text/latex": [
       "\\begin{equation*}\\phi_{1}^{T} M \\phi_{2} = \\left[\\begin{matrix}0\\end{matrix}\\right]\\end{equation*}"
      ],
      "text/plain": [
       "  T           \n",
       "φ₁ ⋅M⋅φ₂ = [0]"
      ]
     },
     "metadata": {},
     "output_type": "display_data"
    }
   ],
   "source": [
    "render.eq_display(sp.MatrixSymbol('phi_1',2,1).T*sp.MatrixSymbol('M', 2,2)*sp.MatrixSymbol('phi_1',2,1),(phi_1.T*M*phi_1).subs(params).evalf(3),\n",
    "                  \n",
    "                  sp.MatrixSymbol('phi_2',2,1).T*sp.MatrixSymbol('M', 2,2)*sp.MatrixSymbol('phi_2',2,1),(phi_2.T*M*phi_2).subs(params).evalf(3),\n",
    "\n",
    "                  sp.MatrixSymbol('phi_2',2,1).T*sp.MatrixSymbol('M', 2,2)*sp.MatrixSymbol('phi_1',2,1),(phi_2.T*M*phi_1).subs(params).evalf(3),\n",
    "\n",
    "                  sp.MatrixSymbol('phi_1',2,1).T*sp.MatrixSymbol('M', 2,2)*sp.MatrixSymbol('phi_2',2,1),(phi_1.T*M*phi_2).subs(params).evalf(3))"
   ]
  },
  {
   "cell_type": "markdown",
   "metadata": {},
   "source": [
    "Für die Steifigkeitsmatrix:"
   ]
  },
  {
   "cell_type": "code",
   "execution_count": 20,
   "metadata": {},
   "outputs": [
    {
     "data": {
      "text/latex": [
       "\\begin{equation*}\\phi_{1}^{T} K \\phi_{1} = \\left[\\begin{matrix}\\frac{3.3 \\cdot 10^{7} \\text{N}}{\\text{m}}\\end{matrix}\\right]\\end{equation*}"
      ],
      "text/plain": [
       "  T        ⎡3.3e+7⋅newton⎤\n",
       "φ₁ ⋅K⋅φ₁ = ⎢─────────────⎥\n",
       "           ⎣    meter    ⎦"
      ]
     },
     "metadata": {},
     "output_type": "display_data"
    },
    {
     "data": {
      "text/latex": [
       "\\begin{equation*}\\phi_{2}^{T} K \\phi_{2} = \\left[\\begin{matrix}\\frac{2.64 \\cdot 10^{8} \\text{N}}{\\text{m}}\\end{matrix}\\right]\\end{equation*}"
      ],
      "text/plain": [
       "  T        ⎡2.64e+8⋅newton⎤\n",
       "φ₂ ⋅K⋅φ₂ = ⎢──────────────⎥\n",
       "           ⎣    meter     ⎦"
      ]
     },
     "metadata": {},
     "output_type": "display_data"
    },
    {
     "data": {
      "text/latex": [
       "\\begin{equation*}\\phi_{2}^{T} K \\phi_{1} = \\left[\\begin{matrix}0\\end{matrix}\\right]\\end{equation*}"
      ],
      "text/plain": [
       "  T           \n",
       "φ₂ ⋅K⋅φ₁ = [0]"
      ]
     },
     "metadata": {},
     "output_type": "display_data"
    },
    {
     "data": {
      "text/latex": [
       "\\begin{equation*}\\phi_{1}^{T} K \\phi_{2} = \\left[\\begin{matrix}0\\end{matrix}\\right]\\end{equation*}"
      ],
      "text/plain": [
       "  T           \n",
       "φ₁ ⋅K⋅φ₂ = [0]"
      ]
     },
     "metadata": {},
     "output_type": "display_data"
    }
   ],
   "source": [
    "render.eq_display(sp.MatrixSymbol('phi_1',2,1).T*sp.MatrixSymbol('K', 2,2)*sp.MatrixSymbol('phi_1',2,1),sp.simplify((phi_1.T*K*phi_1).subs(params)).evalf(3),\n",
    "                  \n",
    "                  sp.MatrixSymbol('phi_2',2,1).T*sp.MatrixSymbol('K', 2,2)*sp.MatrixSymbol('phi_2',2,1),sp.simplify((phi_2.T*K*phi_2).subs(params)).evalf(3),\n",
    "\n",
    "                  sp.MatrixSymbol('phi_2',2,1).T*sp.MatrixSymbol('K', 2,2)*sp.MatrixSymbol('phi_1',2,1),sp.simplify((phi_2.T*K*phi_1).subs(params)).evalf(4),\n",
    "                  \n",
    "                  sp.MatrixSymbol('phi_1',2,1).T*sp.MatrixSymbol('K', 2,2)*sp.MatrixSymbol('phi_2',2,1),sp.simplify((phi_1.T*K*phi_2).subs(params)).evalf(4))"
   ]
  },
  {
   "cell_type": "markdown",
   "metadata": {},
   "source": [
    "### Eigenformen\n",
    "\n",
    "![Die beiden Eigenformen skizziert](bilder/eigenformen_mms2.jpg){#fig-eigenformen}"
   ]
  },
  {
   "cell_type": "markdown",
   "metadata": {},
   "source": [
    "{{< pagebreak >}}\n",
    "\n",
    "# Beispiel: Balken ohne Tilger\n",
    "\n",
    "## Aufgabenstellung\n",
    "\n",
    "Ein einfacher Balken mit einer Einzelmasse, welcher in dieser Aufgabe ohne Tilger ausgestattet ist, ist in @fig-system_ohne_tilger dargestellt. Die Masse erfährt eine dynamische Einwirkung durch die Funktion $F(t)$. Das Beispiel wird in @sec-tilger weitergeführt.\n",
    "\n",
    "![Statisches System des Balkens ohne Tilger](bilder/mms3system.jpg){#fig-system_ohne_tilger}\n",
    "\n",
    "Gesucht:\n",
    "\n",
    "- Maximale dynamische Verformung mittels stationärer Lösung\n",
    "- Maximale dynamische Beschleunigung mittels stationärer Lösung\n",
    "\n",
    "Gegeben:\n",
    "\n",
    "- Biegestab $E = 200000 \\text{N}/{mm}^2$\n",
    "- Flächenträgheitsmoment des Stabs $I = 2 \\cdot 10^8 \\text{mm}^4$\n",
    "- Punktmasse $m_H = 2000 \\text{kg}$\n",
    "\n",
    "$$\n",
    "F(t) = F_0 \\cdot \\sin(\\omega\\cdot t) = 0.8 \\text{kN} \\cdot (12.6 \\frac{\\text{rad}}{\\text{s}}\\cdot t)\n",
    "$$"
   ]
  },
  {
   "cell_type": "markdown",
   "metadata": {},
   "source": [
    "{{< pagebreak >}}\n",
    "\n",
    "## Musterlösung"
   ]
  },
  {
   "cell_type": "code",
   "execution_count": 21,
   "metadata": {},
   "outputs": [
    {
     "data": {
      "text/markdown": [
       "| Parameter |  |\n",
       "|---|---|\n",
       "| $E = \\frac{200000 \\text{N}}{\\text{mm}^{2}}$ | $F_{0} = 800.0 \\text{N}$ |\n",
       "| $I = 200000000 \\text{mm}^{4}$ | $l = 5 \\text{m}$ |\n",
       "| $m_{H} = \\frac{2000 \\text{N} \\text{s}^{2}}{\\text{m}}$ | $\\omega = \\frac{12.6}{\\text{s}}$ |\n",
       "| $\\phi_{11} = 1$ | $\\phi_{12} = 1$ |\n",
       "| $\\zeta = 0.0$ | |\n"
      ],
      "text/plain": [
       "<IPython.core.display.Markdown object>"
      ]
     },
     "metadata": {},
     "output_type": "display_data"
    }
   ],
   "source": [
    "#| label: tbl-parameter_mms3\n",
    "#| tbl-cap: Verwendete Parameter\n",
    "\n",
    "params = {'E': 200*10**3 *unit.N/unit.mm**2,\n",
    "          'I':2*10**8*unit.mm**4,\n",
    "          'm_H':2000*unit.N*unit.second**2/unit.m,\n",
    "          'l':5*unit.m,\n",
    "          'F_0':0.8*10**3*unit.N,\n",
    "          'omega':12.6/unit.second,\n",
    "          'phi_11':1,\n",
    "          'phi_12':1,\n",
    "          'zeta':0.0         \n",
    "          }\n",
    "\n",
    "render.dict_to_table(params)"
   ]
  },
  {
   "cell_type": "code",
   "execution_count": 22,
   "metadata": {},
   "outputs": [],
   "source": [
    "E, I, m_H, zeta,  l, F_0, omega, delta_11, delta_12 = sp.symbols('E, I, m_H, zeta, l, F_0, omega, delta_11, delta_12')\n",
    "\n",
    "t = sp.symbols('t')"
   ]
  },
  {
   "cell_type": "code",
   "execution_count": 23,
   "metadata": {},
   "outputs": [],
   "source": [
    "F_t = F_0 * sp.sin(omega*t)"
   ]
  },
  {
   "cell_type": "markdown",
   "metadata": {},
   "source": [
    "### Steifigkeit $k$"
   ]
  },
  {
   "cell_type": "code",
   "execution_count": 24,
   "metadata": {},
   "outputs": [
    {
     "data": {
      "text/latex": [
       "\\begin{equation*}k_{H} = \\frac{6 E I}{l^{3}}\\end{equation*}"
      ],
      "text/plain": [
       "      6⋅E⋅I\n",
       "k_H = ─────\n",
       "         3 \n",
       "        l  "
      ]
     },
     "metadata": {},
     "output_type": "display_data"
    },
    {
     "data": {
      "text/latex": [
       "\\begin{equation*}k_{H} = \\frac{1.92 \\cdot 10^{6} \\text{N}}{\\text{m}}\\end{equation*}"
      ],
      "text/plain": [
       "      1.92e+6⋅newton\n",
       "k_H = ──────────────\n",
       "          meter     "
      ]
     },
     "metadata": {},
     "output_type": "display_data"
    }
   ],
   "source": [
    "k_H = 48 * (E*I) / (2*l)**3\n",
    "\n",
    "\n",
    "render.eq_display('k_H', k_H,\n",
    "                  'k_H',k_H.subs(params).simplify().evalf(3))\n"
   ]
  },
  {
   "cell_type": "markdown",
   "metadata": {},
   "source": [
    "### Eigenkreisfrequenz $\\omega$"
   ]
  },
  {
   "cell_type": "code",
   "execution_count": 25,
   "metadata": {},
   "outputs": [
    {
     "data": {
      "text/latex": [
       "\\begin{equation*}\\omega_{n} = \\sqrt{6} \\sqrt{\\frac{E I}{l^{3} m_{H}}}\\end{equation*}"
      ],
      "text/plain": [
       "             ________\n",
       "            ╱  E⋅I   \n",
       "ωₙ = √6⋅   ╱  ────── \n",
       "          ╱    3     \n",
       "        ╲╱    l ⋅m_H "
      ]
     },
     "metadata": {},
     "output_type": "display_data"
    },
    {
     "data": {
      "text/latex": [
       "\\begin{equation*}\\omega_{n} = \\frac{31.0}{\\text{s}}\\end{equation*}"
      ],
      "text/plain": [
       "      31.0 \n",
       "ωₙ = ──────\n",
       "     second"
      ]
     },
     "metadata": {},
     "output_type": "display_data"
    }
   ],
   "source": [
    "omega_n = sp.sqrt(k_H / m_H)\n",
    "\n",
    "render.eq_display('omega_n', omega_n,\n",
    "                  'omega_n', omega_n.subs(params).simplify().evalf(3))"
   ]
  },
  {
   "cell_type": "markdown",
   "metadata": {},
   "source": [
    "### Vergrösserungsfaktor $V(\\omega)$"
   ]
  },
  {
   "cell_type": "code",
   "execution_count": 26,
   "metadata": {},
   "outputs": [
    {
     "data": {
      "text/latex": [
       "\\begin{equation*}V{\\left(\\omega \\right)} = \\frac{1}{\\sqrt{\\frac{4 \\omega^{2} \\zeta_{}^{2}}{\\omega_{n}^{2}} + \\left(- \\frac{\\omega^{2}}{\\omega_{n}^{2}} + 1\\right)^{2}}}\\end{equation*}"
      ],
      "text/plain": [
       "                      1               \n",
       "V(ω) = ───────────────────────────────\n",
       "              ________________________\n",
       "             ╱                      2 \n",
       "            ╱     2  2   ⎛    2    ⎞  \n",
       "           ╱   4⋅ω ⋅ζ    ⎜   ω     ⎟  \n",
       "          ╱    ─────── + ⎜- ─── + 1⎟  \n",
       "         ╱         2     ⎜    2    ⎟  \n",
       "       ╲╱        ωₙ      ⎝  ωₙ     ⎠  "
      ]
     },
     "metadata": {},
     "output_type": "display_data"
    },
    {
     "data": {
      "text/latex": [
       "\\begin{equation*}V{\\left(\\omega \\right)} = 1.2\\end{equation*}"
      ],
      "text/plain": [
       "V(ω) = 1.2"
      ]
     },
     "metadata": {},
     "output_type": "display_data"
    }
   ],
   "source": [
    "V_omega = 1/(sp.sqrt((1-(omega/omega_n)**2)**2 + (2*zeta*(omega/omega_n))**2))\n",
    "\n",
    "render.eq_display('V(omega)', '1/(sqrt((1-(omega/omega_n)**2)**2 + (2*zeta_*(omega/omega_n))**2))',\n",
    "                  'V(omega)', V_omega.subs(params).simplify().evalf(3))"
   ]
  },
  {
   "cell_type": "markdown",
   "metadata": {},
   "source": [
    "### Stationäre Lösung\n",
    "\n",
    "#### Statische Deformation"
   ]
  },
  {
   "cell_type": "code",
   "execution_count": 27,
   "metadata": {},
   "outputs": [
    {
     "data": {
      "text/latex": [
       "\\begin{equation*}u_{0} = \\frac{F_{0}}{k_{H}}\\end{equation*}"
      ],
      "text/plain": [
       "      F₀\n",
       "u₀ = ───\n",
       "     k_H"
      ]
     },
     "metadata": {},
     "output_type": "display_data"
    },
    {
     "data": {
      "text/latex": [
       "\\begin{equation*}u_{0} = \\frac{F_{0} l^{3}}{6 E I}\\end{equation*}"
      ],
      "text/plain": [
       "         3\n",
       "     F₀⋅l \n",
       "u₀ = ─────\n",
       "     6⋅E⋅I"
      ]
     },
     "metadata": {},
     "output_type": "display_data"
    },
    {
     "data": {
      "text/latex": [
       "\\begin{equation*}u_{0} = 0.4167 \\text{mm}\\end{equation*}"
      ],
      "text/plain": [
       "u₀ = 0.4167⋅millimeter"
      ]
     },
     "metadata": {},
     "output_type": "display_data"
    }
   ],
   "source": [
    "u_0 = F_0 / k_H\n",
    "\n",
    "render.eq_display('u_0', 'F_0 / k_H',\n",
    "                  'u_0', u_0,\n",
    "                  'u_0', unit.convert_to(u_0.subs(params).simplify().evalf(4), unit.mm))"
   ]
  },
  {
   "cell_type": "markdown",
   "metadata": {},
   "source": [
    "#### Stationäre maximale Deformation"
   ]
  },
  {
   "cell_type": "code",
   "execution_count": 28,
   "metadata": {},
   "outputs": [
    {
     "data": {
      "text/latex": [
       "\\begin{equation*}u_{stat} = u_{0} V{\\left(\\omega \\right)}\\end{equation*}"
      ],
      "text/plain": [
       "uₛₜₐₜ = u₀⋅V(ω)"
      ]
     },
     "metadata": {},
     "output_type": "display_data"
    },
    {
     "data": {
      "text/latex": [
       "\\begin{equation*}u_{stat} = \\frac{F_{0} l^{3}}{6 E I \\sqrt{\\left(1 - \\frac{l^{3} m_{H} \\omega^{2}}{6 E I}\\right)^{2} + \\frac{2 l^{3} m_{H} \\omega^{2} \\zeta^{2}}{3 E I}}}\\end{equation*}"
      ],
      "text/plain": [
       "                                 3                     \n",
       "                             F₀⋅l                      \n",
       "uₛₜₐₜ = ───────────────────────────────────────────────\n",
       "                    ___________________________________\n",
       "                   ╱                2                  \n",
       "                  ╱  ⎛     3      2⎞       3      2  2 \n",
       "                 ╱   ⎜    l ⋅m_H⋅ω ⎟    2⋅l ⋅m_H⋅ω ⋅ζ  \n",
       "        6⋅E⋅I⋅  ╱    ⎜1 - ─────────⎟  + ────────────── \n",
       "              ╲╱     ⎝      6⋅E⋅I  ⎠        3⋅E⋅I      "
      ]
     },
     "metadata": {},
     "output_type": "display_data"
    },
    {
     "data": {
      "text/latex": [
       "\\begin{equation*}u_{stat} = 0.499 \\text{mm}\\end{equation*}"
      ],
      "text/plain": [
       "uₛₜₐₜ = 0.499⋅millimeter"
      ]
     },
     "metadata": {},
     "output_type": "display_data"
    }
   ],
   "source": [
    "u_stat = u_0 * V_omega\n",
    "\n",
    "render.eq_display('u_stat', 'u_0 * V(omega)',\n",
    "                  'u_stat', u_stat,\n",
    "                  'u_stat', unit.convert_to(u_stat.subs(params).simplify().evalf(3), unit.mm))"
   ]
  },
  {
   "cell_type": "markdown",
   "metadata": {},
   "source": [
    "#### Stationäre maximale Beschleunigung"
   ]
  },
  {
   "cell_type": "code",
   "execution_count": 29,
   "metadata": {},
   "outputs": [
    {
     "data": {
      "text/latex": [
       "\\begin{equation*}V_{a}{\\left(\\omega \\right)} = \\frac{V_{\\omega} \\omega^{2}}{\\omega_{n}^{2}}\\end{equation*}"
      ],
      "text/plain": [
       "             2\n",
       "        V_ω⋅ω \n",
       "Vₐ(ω) = ──────\n",
       "           2  \n",
       "         ωₙ   "
      ]
     },
     "metadata": {},
     "output_type": "display_data"
    },
    {
     "data": {
      "text/latex": [
       "\\begin{equation*}V_{a}{\\left(\\omega \\right)} = 0.198\\end{equation*}"
      ],
      "text/plain": [
       "Vₐ(ω) = 0.198"
      ]
     },
     "metadata": {},
     "output_type": "display_data"
    },
    {
     "data": {
      "text/latex": [
       "\\begin{equation*}\\frac{d^{2}}{d t^{2}} u_{stat} = \\frac{0.0793 \\text{m}}{\\text{s}^{2}}\\end{equation*}"
      ],
      "text/plain": [
       "  2                      \n",
       " d           0.0793⋅meter\n",
       "───(uₛₜₐₜ) = ────────────\n",
       "  2                  2   \n",
       "dt             second    "
      ]
     },
     "metadata": {},
     "output_type": "display_data"
    }
   ],
   "source": [
    "V_a_omega = omega**2 / omega_n**2 * V_omega\n",
    "\n",
    "u_2_stat =  F_0 / m_H * V_a_omega\n",
    "\n",
    "render.eq_display('V_a(omega)', \"omega**2 / omega_n**2 * V_omega\",\n",
    "                  'V_a(omega)', V_a_omega.subs(params).simplify().evalf(3),\n",
    "                  'Derivative(u_stat,t,2)', u_2_stat.subs(params).simplify().evalf(3))"
   ]
  },
  {
   "cell_type": "markdown",
   "metadata": {},
   "source": [
    "{{< pagebreak >}}\n",
    "\n",
    "# Beispiel: Balken mit Tilger{#sec-tilger}\n",
    "\n",
    "\n",
    "## Aufgabenstellung\n",
    "\n",
    "Ein einfacher Balken mit einer Einzelmasse, welcher in dieser Aufgabe mit Tilger ausgestattet ist, ist in @fig-tilger dargestellt. Die Masse erfährt eine dynamische Einwirkung durch die Funktion $F(t)$. \n",
    "\n",
    "![Statisches System des Balkens mit Tilger](bilder/mms4system.jpg){#fig-tilger}\n",
    "\n",
    "Gesucht:\n",
    "\n",
    "- Maximale dynamische Verformung mittels stationärer Lösung\n",
    "- Maximale dynamische Beschleunigung mittels stationärer Lösung\n",
    "\n",
    "Gegeben:\n",
    "\n",
    "- Biegestab $E = 200000 \\text{N}/{mm}^2$\n",
    "- Flächenträgheitsmoment des Stabs $I = 2 \\cdot 10^8 \\text{mm}^4$\n",
    "- Punktmasse $m_H = 2000 \\text{kg}$\n",
    "- Tilgermasse $m_T = 150 \\text{kg}$\n",
    "-  Eigenformen - Normierung auf \n",
    "$$\\phi_1^T = \n",
    "\\begin{bmatrix}\n",
    " 1 &  \\\\\n",
    "\\end{bmatrix} $$\n",
    "$$\\phi_2^T =\n",
    "\\begin{bmatrix}\n",
    " 1 &  \\\\\n",
    "\\end{bmatrix}$$\n",
    "\n",
    "\n",
    "$$\n",
    "F(t) = F_0 \\cdot \\sin(\\omega\\cdot t) = 0.8 \\text{kN} \\cdot (12.6 \\frac{\\text{rad}}{\\text{s}}\\cdot t)\n",
    "$$"
   ]
  },
  {
   "cell_type": "markdown",
   "metadata": {},
   "source": [
    "{{< pagebreak >}}\n",
    "\n",
    "## Musterlösung"
   ]
  },
  {
   "cell_type": "code",
   "execution_count": 30,
   "metadata": {},
   "outputs": [
    {
     "data": {
      "text/markdown": [
       "| Parameter |  |\n",
       "|---|---|\n",
       "| $E = \\frac{200000 \\text{N}}{\\text{mm}^{2}}$ | $F_{0} = 800.0 \\text{N}$ |\n",
       "| $I = 200000000 \\text{mm}^{4}$ | $k_{T} = \\frac{90000 \\text{N}}{\\text{m}}$ |\n",
       "| $l = 5 \\text{m}$ | $m_{H} = \\frac{2000 \\text{N} \\text{s}^{2}}{\\text{m}}$ |\n",
       "| $m_{T} = \\frac{100 \\text{N} \\text{s}^{2}}{\\text{m}}$ | $\\omega = \\frac{12.6}{\\text{s}}$ |\n",
       "| $\\phi_{11} = 1$ | $\\phi_{12} = 1$ |\n",
       "| $\\zeta = 0.0$ | |\n"
      ],
      "text/plain": [
       "<IPython.core.display.Markdown object>"
      ]
     },
     "metadata": {},
     "output_type": "display_data"
    }
   ],
   "source": [
    "#| label: tbl-parameter_mms4\n",
    "#| tbl-cap: Verwendete Parameter\n",
    "\n",
    "params = {'E': 200*10**3 *unit.N/unit.mm**2,\n",
    "          'I':2*10**8*unit.mm**4,\n",
    "          'm_H':2000*unit.N*unit.second**2/unit.m,\n",
    "          'm_T':100*unit.N*unit.second**2/unit.m,\n",
    "          'k_T':90*10**3*unit.N/unit.m,\n",
    "          'l':5*unit.m,\n",
    "          'F_0':0.8*10**3*unit.N,\n",
    "          'omega':12.6/unit.second,\n",
    "          'phi_11':1,\n",
    "          'phi_12':1,\n",
    "          'zeta':0.0         \n",
    "          }\n",
    "\n",
    "render.dict_to_table(params)"
   ]
  },
  {
   "cell_type": "code",
   "execution_count": 31,
   "metadata": {},
   "outputs": [],
   "source": [
    "E, I, m_H, m_T, k_T, l, F_0, omega, delta_11, delta_12 = sp.symbols('E, I, m_H, m_T, k_T, l, F_0, omega, delta_11, delta_12')\n",
    "\n",
    "t = sp.symbols('t')"
   ]
  },
  {
   "cell_type": "code",
   "execution_count": 32,
   "metadata": {},
   "outputs": [],
   "source": [
    "F_t = F_0 * sp.sin(omega*t)"
   ]
  },
  {
   "cell_type": "markdown",
   "metadata": {},
   "source": [
    "### Bemerkung Tilgerauslegung\n",
    "\n",
    "Die Auslegung des Tilgers kann folgender massen geschehen:\n",
    "\n",
    "- Tilgermasse $5\\%$ von der Masse des Hauptträgers.\n",
    "- Optimale Frequenz bestimmen: $$f_{T,opt} =\\frac{f_H}{1+\\frac{m_T}{m_H}}$$\n",
    "- Daraus die optimale Steifigkeit bestimmen:$$k_{T,opt} = (2 \\pi f_{T,opt})^2$$"
   ]
  },
  {
   "cell_type": "markdown",
   "metadata": {},
   "source": [
    "### Steifigkeitsmatrix $\\mathbf{K}$\n",
    "\n",
    "\n",
    "![Verformungen an den beiden Freiheitsgraden](bilder/mms3_steifigkeit.jpg){#fig-verformungen}\n",
    "\n",
    "\n",
    "Wichtig dabei sind die Richtungen der Kräfte. Als Denkstütze gilt folgendes:\n",
    "\n",
    "- Der Auslenkung um $u$ wirkt die Federkraft entgegen, welche $k u$ entspricht.\n",
    "- Zusätzlich wirkt die Trägheitskraft der Auslenkung entgegen, welche $m u''$ entspricht.\n",
    "- Nach der Betrachtung des ausgelenkten Punkts, kann mittels *Actio-Reactio*-Prinzip das \"*Stockwerk*\" ins Gleichgewicht gebracht werden.\n",
    "- Vorzeichen sind gegen der Bewegungsrichtig positiv."
   ]
  },
  {
   "cell_type": "code",
   "execution_count": 33,
   "metadata": {},
   "outputs": [
    {
     "data": {
      "text/latex": [
       "\\begin{equation*}K = \\left[\\begin{matrix}k_{H} + k_{T} & - k_{T}\\\\- k_{T} & k_{T}\\end{matrix}\\right]\\end{equation*}"
      ],
      "text/plain": [
       "    ⎡k_H + k_T  -k_T⎤\n",
       "K = ⎢               ⎥\n",
       "    ⎣  -k_T     k_T ⎦"
      ]
     },
     "metadata": {},
     "output_type": "display_data"
    },
    {
     "data": {
      "text/latex": [
       "\\begin{equation*}K = \\left[\\begin{matrix}\\frac{2010000 \\text{N}}{\\text{m}} & - \\frac{90000 \\text{N}}{\\text{m}}\\\\- \\frac{90000 \\text{N}}{\\text{m}} & \\frac{90000 \\text{N}}{\\text{m}}\\end{matrix}\\right]\\end{equation*}"
      ],
      "text/plain": [
       "    ⎡2010000⋅newton  -90000⋅newton ⎤\n",
       "    ⎢──────────────  ──────────────⎥\n",
       "    ⎢    meter           meter     ⎥\n",
       "K = ⎢                              ⎥\n",
       "    ⎢-90000⋅newton    90000⋅newton ⎥\n",
       "    ⎢──────────────   ──────────── ⎥\n",
       "    ⎣    meter           meter     ⎦"
      ]
     },
     "metadata": {},
     "output_type": "display_data"
    }
   ],
   "source": [
    "k_T, k_H = sp.symbols('k_T, k_H')\n",
    "\n",
    "params['k_H'] = (48 * E*I / (2*l)**3).subs(params).simplify()\n",
    "K = sp.Matrix([[k_H + k_T, -k_T],[-k_T, k_T]])\n",
    "\n",
    "\n",
    "render.eq_display(sp.MatrixSymbol('K', 2,2), K,\n",
    "                  sp.MatrixSymbol('K', 2,2), K.subs(params),\n",
    "                  )"
   ]
  },
  {
   "cell_type": "markdown",
   "metadata": {},
   "source": [
    "### Eigenvektoren\n",
    "#### Massenmatrix $\\mathbf{M}$ \n",
    "\n",
    "Die Massenmatrix folgt dem gleichen Aufbau der Steifigkeitsmatrix. Es gelten die gleichen Vorzeichenregelungen. Die Einträge beziehen sich auf @fig-verformungen ."
   ]
  },
  {
   "cell_type": "code",
   "execution_count": 34,
   "metadata": {},
   "outputs": [
    {
     "data": {
      "text/latex": [
       "\\begin{equation*}M = \\left[\\begin{matrix}m_{H} & 0\\\\0 & m_{T}\\end{matrix}\\right]\\end{equation*}"
      ],
      "text/plain": [
       "    ⎡m_H   0 ⎤\n",
       "M = ⎢        ⎥\n",
       "    ⎣ 0   m_T⎦"
      ]
     },
     "metadata": {},
     "output_type": "display_data"
    },
    {
     "data": {
      "text/latex": [
       "\\begin{equation*}M = \\left[\\begin{matrix}\\frac{2000 \\text{N} \\text{s}^{2}}{\\text{m}} & 0\\\\0 & \\frac{100 \\text{N} \\text{s}^{2}}{\\text{m}}\\end{matrix}\\right]\\end{equation*}"
      ],
      "text/plain": [
       "    ⎡                  2                    ⎤\n",
       "    ⎢2000⋅newton⋅second                     ⎥\n",
       "    ⎢───────────────────          0         ⎥\n",
       "    ⎢       meter                           ⎥\n",
       "M = ⎢                                       ⎥\n",
       "    ⎢                                      2⎥\n",
       "    ⎢                     100⋅newton⋅second ⎥\n",
       "    ⎢         0           ──────────────────⎥\n",
       "    ⎣                           meter       ⎦"
      ]
     },
     "metadata": {},
     "output_type": "display_data"
    }
   ],
   "source": [
    "M = sp.Matrix([[m_H, 0],[0, m_T]])\n",
    "\n",
    "render.eq_display(sp.MatrixSymbol('M', 2,2), M,\n",
    "                  sp.MatrixSymbol('M', 2,2), M.subs(params))"
   ]
  },
  {
   "cell_type": "markdown",
   "metadata": {},
   "source": [
    "#### Eigenkreisfrequenzen \n",
    "Bei einem Mehrmassenschwinger gibt es entsprechend den Freiheitsgraden Eigenkreisfrequenzen $\\omega_n$. Diese lassen sich anhand folgender Gleichung bestimmen:\n",
    "\n",
    "$$\\det{[\\mathbf{K}-\\omega_n^2 \\mathbf{M}]=0}$$"
   ]
  },
  {
   "cell_type": "code",
   "execution_count": 35,
   "metadata": {},
   "outputs": [
    {
     "data": {
      "text/latex": [
       "\\begin{equation*}\\omega_{1} = \\frac{27.3}{\\text{s}}\\end{equation*}"
      ],
      "text/plain": [
       "      27.3 \n",
       "ω₁ = ──────\n",
       "     second"
      ]
     },
     "metadata": {},
     "output_type": "display_data"
    },
    {
     "data": {
      "text/latex": [
       "\\begin{equation*}\\omega_{2} = \\frac{34.1}{\\text{s}}\\end{equation*}"
      ],
      "text/plain": [
       "      34.1 \n",
       "ω₂ = ──────\n",
       "     second"
      ]
     },
     "metadata": {},
     "output_type": "display_data"
    }
   ],
   "source": [
    "omega_n =sp.symbols('omega_n')\n",
    "eq_omega = sp.det(K-omega_n**2*M)\n",
    "\n",
    "omega_n_solve = sp.solve(eq_omega, omega_n)\n",
    "omega_1 = omega_n_solve[1]\n",
    "omega_2 = omega_n_solve[3]\n",
    "\n",
    "render.eq_display('omega_1', omega_1.subs(params).simplify().evalf(3),\n",
    "                  'omega_2', omega_2.subs(params).simplify().evalf(3))"
   ]
  },
  {
   "cell_type": "markdown",
   "metadata": {},
   "source": [
    "#### Eigenvektoren $\\mathbf{\\phi}$\n",
    "\n",
    "$$\n",
    "\\phi_n = \\begin{bmatrix}\n",
    "\\phi_{1n}\\\\\n",
    "\\phi_{2n} \n",
    "\\end{bmatrix}\n",
    "$$\n",
    "$$\n",
    "[\\mathbf{K}-\\omega_n^2 \\mathbf{M}]\\cdot \\begin{bmatrix}\n",
    "\\phi_{1n}\\\\\n",
    "\\phi_{2n} \n",
    "\\end{bmatrix}\n",
    "=0$$\n",
    "\n",
    "\n",
    "Dazu ist die entsprechende Normierung aus der Aufgabenstellung zu berücksichtigen."
   ]
  },
  {
   "cell_type": "code",
   "execution_count": 36,
   "metadata": {},
   "outputs": [
    {
     "data": {
      "text/latex": [
       "\\begin{equation*}\\left[\\begin{matrix}\\frac{- k_{T} m_{T} \\phi_{21} + \\frac{\\phi_{11} \\left(- k_{T} m_{H} + m_{T} \\left(k_{H} + k_{T}\\right) + \\sqrt{k_{H}^{2} m_{T}^{2} - 2 k_{H} k_{T} m_{H} m_{T} + 2 k_{H} k_{T} m_{T}^{2} + k_{T}^{2} m_{H}^{2} + 2 k_{T}^{2} m_{H} m_{T} + k_{T}^{2} m_{T}^{2}}\\right)}{2}}{m_{T}}\\\\\\frac{- k_{T} m_{H} \\phi_{11} + \\frac{\\phi_{21} \\left(k_{T} m_{H} - m_{T} \\left(k_{H} + k_{T}\\right) + \\sqrt{k_{H}^{2} m_{T}^{2} - 2 k_{H} k_{T} m_{H} m_{T} + 2 k_{H} k_{T} m_{T}^{2} + k_{T}^{2} m_{H}^{2} + 2 k_{T}^{2} m_{H} m_{T} + k_{T}^{2} m_{T}^{2}}\\right)}{2}}{m_{H}}\\end{matrix}\\right] = \\left[\\begin{matrix}0\\\\0\\end{matrix}\\right]\\end{equation*}"
      ],
      "text/plain": [
       "⎡                   ⎛                                _________________________\n",
       "⎢                   ⎜                               ╱    2    2               \n",
       "⎢               φ₁₁⋅⎝-k_T⋅m_H + m_T⋅(k_H + k_T) + ╲╱  k_H ⋅m_T  - 2⋅k_H⋅k_T⋅m_\n",
       "⎢-k_T⋅m_T⋅φ₂₁ + ──────────────────────────────────────────────────────────────\n",
       "⎢                                                                             \n",
       "⎢─────────────────────────────────────────────────────────────────────────────\n",
       "⎢                                                                     m_T     \n",
       "⎢                                                                             \n",
       "⎢                   ⎛                               __________________________\n",
       "⎢                   ⎜                              ╱    2    2                \n",
       "⎢               φ₂₁⋅⎝k_T⋅m_H - m_T⋅(k_H + k_T) + ╲╱  k_H ⋅m_T  - 2⋅k_H⋅k_T⋅m_H\n",
       "⎢-k_T⋅m_H⋅φ₁₁ + ──────────────────────────────────────────────────────────────\n",
       "⎢                                                                             \n",
       "⎢─────────────────────────────────────────────────────────────────────────────\n",
       "⎣                                                                     m_H     \n",
       "\n",
       "________________________________________________________________⎞⎤      \n",
       "                     2      2    2        2              2    2 ⎟⎥      \n",
       "H⋅m_T + 2⋅k_H⋅k_T⋅m_T  + k_T ⋅m_H  + 2⋅k_T ⋅m_H⋅m_T + k_T ⋅m_T  ⎠⎥      \n",
       "─────────────────────────────────────────────────────────────────⎥      \n",
       " 2                                                               ⎥      \n",
       "─────────────────────────────────────────────────────────────────⎥      \n",
       "                                                                 ⎥   ⎡0⎤\n",
       "                                                                 ⎥ = ⎢ ⎥\n",
       "_______________________________________________________________⎞ ⎥   ⎣0⎦\n",
       "                    2      2    2        2              2    2 ⎟ ⎥      \n",
       "⋅m_T + 2⋅k_H⋅k_T⋅m_T  + k_T ⋅m_H  + 2⋅k_T ⋅m_H⋅m_T + k_T ⋅m_T  ⎠ ⎥      \n",
       "──────────────────────────────────────────────────────────────── ⎥      \n",
       "2                                                                ⎥      \n",
       "──────────────────────────────────────────────────────────────── ⎥      \n",
       "                                                                 ⎦      "
      ]
     },
     "metadata": {},
     "output_type": "display_data"
    },
    {
     "data": {
      "text/latex": [
       "\\begin{equation*}\\phi_{1} = \\left[\\begin{matrix}1.0\\\\5.79\\end{matrix}\\right]\\end{equation*}"
      ],
      "text/plain": [
       "     ⎡1.0 ⎤\n",
       "φ₁ = ⎢    ⎥\n",
       "     ⎣5.79⎦"
      ]
     },
     "metadata": {},
     "output_type": "display_data"
    }
   ],
   "source": [
    "phi_11, phi_21, phi_12, phi_22 = sp.symbols('phi_11, phi_21, phi_12, phi_22')\n",
    "\n",
    "phi_1 = sp.Matrix([[phi_11], [phi_21]])\n",
    "\n",
    "phi_21 = list(sp.solve((K-omega_1**2 *M)*phi_1, phi_21).values())[0]\n",
    "\n",
    "params['phi_21'] = phi_21.subs(params).simplify() \n",
    "\n",
    "\n",
    "\n",
    "\n",
    "render.eq_display(sp.simplify((K-omega_1**2 *M)*phi_1),sp.Matrix([[0],[0]]),\n",
    "                  sp.MatrixSymbol('phi_1', 2,1),sp.simplify(phi_1.subs(params)).evalf(3))\n"
   ]
  },
  {
   "cell_type": "code",
   "execution_count": 37,
   "metadata": {},
   "outputs": [
    {
     "data": {
      "text/latex": [
       "\\begin{equation*}\\left[\\begin{matrix}\\frac{- k_{T} m_{T} \\phi_{22} + \\frac{\\phi_{12} \\left(- k_{T} m_{H} + m_{T} \\left(k_{H} + k_{T}\\right) - \\sqrt{k_{H}^{2} m_{T}^{2} - 2 k_{H} k_{T} m_{H} m_{T} + 2 k_{H} k_{T} m_{T}^{2} + k_{T}^{2} m_{H}^{2} + 2 k_{T}^{2} m_{H} m_{T} + k_{T}^{2} m_{T}^{2}}\\right)}{2}}{m_{T}}\\\\\\frac{- k_{T} m_{H} \\phi_{12} + \\frac{\\phi_{22} \\left(k_{T} m_{H} - m_{T} \\left(k_{H} + k_{T}\\right) - \\sqrt{k_{H}^{2} m_{T}^{2} - 2 k_{H} k_{T} m_{H} m_{T} + 2 k_{H} k_{T} m_{T}^{2} + k_{T}^{2} m_{H}^{2} + 2 k_{T}^{2} m_{H} m_{T} + k_{T}^{2} m_{T}^{2}}\\right)}{2}}{m_{H}}\\end{matrix}\\right] = \\left[\\begin{matrix}0\\\\0\\end{matrix}\\right]\\end{equation*}"
      ],
      "text/plain": [
       "⎡                   ⎛                                _________________________\n",
       "⎢                   ⎜                               ╱    2    2               \n",
       "⎢               φ₁₂⋅⎝-k_T⋅m_H + m_T⋅(k_H + k_T) - ╲╱  k_H ⋅m_T  - 2⋅k_H⋅k_T⋅m_\n",
       "⎢-k_T⋅m_T⋅φ₂₂ + ──────────────────────────────────────────────────────────────\n",
       "⎢                                                                             \n",
       "⎢─────────────────────────────────────────────────────────────────────────────\n",
       "⎢                                                                     m_T     \n",
       "⎢                                                                             \n",
       "⎢                   ⎛                               __________________________\n",
       "⎢                   ⎜                              ╱    2    2                \n",
       "⎢               φ₂₂⋅⎝k_T⋅m_H - m_T⋅(k_H + k_T) - ╲╱  k_H ⋅m_T  - 2⋅k_H⋅k_T⋅m_H\n",
       "⎢-k_T⋅m_H⋅φ₁₂ + ──────────────────────────────────────────────────────────────\n",
       "⎢                                                                             \n",
       "⎢─────────────────────────────────────────────────────────────────────────────\n",
       "⎣                                                                     m_H     \n",
       "\n",
       "________________________________________________________________⎞⎤      \n",
       "                     2      2    2        2              2    2 ⎟⎥      \n",
       "H⋅m_T + 2⋅k_H⋅k_T⋅m_T  + k_T ⋅m_H  + 2⋅k_T ⋅m_H⋅m_T + k_T ⋅m_T  ⎠⎥      \n",
       "─────────────────────────────────────────────────────────────────⎥      \n",
       " 2                                                               ⎥      \n",
       "─────────────────────────────────────────────────────────────────⎥      \n",
       "                                                                 ⎥   ⎡0⎤\n",
       "                                                                 ⎥ = ⎢ ⎥\n",
       "_______________________________________________________________⎞ ⎥   ⎣0⎦\n",
       "                    2      2    2        2              2    2 ⎟ ⎥      \n",
       "⋅m_T + 2⋅k_H⋅k_T⋅m_T  + k_T ⋅m_H  + 2⋅k_T ⋅m_H⋅m_T + k_T ⋅m_T  ⎠ ⎥      \n",
       "──────────────────────────────────────────────────────────────── ⎥      \n",
       "2                                                                ⎥      \n",
       "──────────────────────────────────────────────────────────────── ⎥      \n",
       "                                                                 ⎦      "
      ]
     },
     "metadata": {},
     "output_type": "display_data"
    },
    {
     "data": {
      "text/latex": [
       "\\begin{equation*}\\phi_{2} = \\left[\\begin{matrix}1.0\\\\-3.46\\end{matrix}\\right]\\end{equation*}"
      ],
      "text/plain": [
       "     ⎡ 1.0 ⎤\n",
       "φ₂ = ⎢     ⎥\n",
       "     ⎣-3.46⎦"
      ]
     },
     "metadata": {},
     "output_type": "display_data"
    }
   ],
   "source": [
    "phi_2 = sp.Matrix([[phi_12], [phi_22]])\n",
    "\n",
    "phi_22 = list(sp.solve((K-omega_2**2 *M)*phi_2, phi_22).values())[0]\n",
    "\n",
    "params['phi_22'] = phi_22.subs(params).simplify() \n",
    "\n",
    "\n",
    "\n",
    "\n",
    "render.eq_display(sp.simplify((K-omega_2**2 *M)*phi_2),sp.Matrix([[0],[0]]),\n",
    "                  sp.MatrixSymbol('phi_2', 2,1),sp.simplify(phi_2.subs(params)).evalf(3))\n"
   ]
  },
  {
   "cell_type": "markdown",
   "metadata": {},
   "source": [
    "#### Orthogonalitätsbedingung\n",
    "\n",
    "Zur effektiven Entkoppelung der Gleichungen muss die Orthogonalitätsbedingung eingehalten sein. \n",
    "Dies gilt es für die Massenmatrix zu kontrollieren:\n",
    "\n",
    "$$\\phi_1^T \\mathbf{ M } \\phi_1 \\neq 0$$\n",
    "\n",
    "$$\\phi_2^T \\mathbf{ M } \\phi_2 \\neq 0$$\n",
    "\n",
    "$$\\phi_2^T \\mathbf{ M } \\phi_1 = 0$$\n",
    "\n",
    "Sowohl auch für die Steifigkeitsmatrix:\n",
    "\n",
    "$$\\phi_1^T \\mathbf{ K } \\phi_1 \\neq 0$$\n",
    "\n",
    "$$\\phi_2^T \\mathbf{ K } \\phi_2 \\neq 0$$\n",
    "\n",
    "$$\\phi_2^T \\mathbf{ K } \\phi_1 = 0$$\n",
    "\n",
    "\n",
    "Angewendet auf die Aufgabe:\n",
    "\n"
   ]
  },
  {
   "cell_type": "code",
   "execution_count": 38,
   "metadata": {},
   "outputs": [
    {
     "data": {
      "text/latex": [
       "\\begin{equation*}\\phi_{1}^{T} M \\phi_{1} = \\left[\\begin{matrix}\\frac{5.35 \\cdot 10^{3} \\text{N} \\text{s}^{2}}{\\text{m}}\\end{matrix}\\right]\\end{equation*}"
      ],
      "text/plain": [
       "           ⎡                     2⎤\n",
       "  T        ⎢5.35e+3⋅newton⋅second ⎥\n",
       "φ₁ ⋅M⋅φ₁ = ⎢──────────────────────⎥\n",
       "           ⎣        meter         ⎦"
      ]
     },
     "metadata": {},
     "output_type": "display_data"
    },
    {
     "data": {
      "text/latex": [
       "\\begin{equation*}\\phi_{2}^{T} M \\phi_{2} = \\left[\\begin{matrix}\\frac{3.19 \\cdot 10^{3} \\text{N} \\text{s}^{2}}{\\text{m}}\\end{matrix}\\right]\\end{equation*}"
      ],
      "text/plain": [
       "           ⎡                     2⎤\n",
       "  T        ⎢3.19e+3⋅newton⋅second ⎥\n",
       "φ₂ ⋅M⋅φ₂ = ⎢──────────────────────⎥\n",
       "           ⎣        meter         ⎦"
      ]
     },
     "metadata": {},
     "output_type": "display_data"
    },
    {
     "data": {
      "text/latex": [
       "\\begin{equation*}\\phi_{2}^{T} M \\phi_{1} = \\left[\\begin{matrix}\\frac{3.051758 \\cdot 10^{-5} \\text{N} \\text{s}^{2}}{\\text{m}}\\end{matrix}\\right]\\end{equation*}"
      ],
      "text/plain": [
       "           ⎡                         2⎤\n",
       "  T        ⎢3.051758e-5⋅newton⋅second ⎥\n",
       "φ₂ ⋅M⋅φ₁ = ⎢──────────────────────────⎥\n",
       "           ⎣          meter           ⎦"
      ]
     },
     "metadata": {},
     "output_type": "display_data"
    },
    {
     "data": {
      "text/latex": [
       "\\begin{equation*}\\phi_{1}^{T} M \\phi_{2} = \\left[\\begin{matrix}\\frac{3.051758 \\cdot 10^{-5} \\text{N} \\text{s}^{2}}{\\text{m}}\\end{matrix}\\right]\\end{equation*}"
      ],
      "text/plain": [
       "           ⎡                         2⎤\n",
       "  T        ⎢3.051758e-5⋅newton⋅second ⎥\n",
       "φ₁ ⋅M⋅φ₂ = ⎢──────────────────────────⎥\n",
       "           ⎣          meter           ⎦"
      ]
     },
     "metadata": {},
     "output_type": "display_data"
    }
   ],
   "source": [
    "render.eq_display(sp.MatrixSymbol('phi_1',2,1).T*sp.MatrixSymbol('M', 2,2)*sp.MatrixSymbol('phi_1',2,1),(phi_1.T*M*phi_1).subs(params).evalf(3),\n",
    "                  \n",
    "                  sp.MatrixSymbol('phi_2',2,1).T*sp.MatrixSymbol('M', 2,2)*sp.MatrixSymbol('phi_2',2,1),(phi_2.T*M*phi_2).subs(params).evalf(3),\n",
    "\n",
    "                  sp.MatrixSymbol('phi_2',2,1).T*sp.MatrixSymbol('M', 2,2)*sp.MatrixSymbol('phi_1',2,1),sp.simplify((phi_2.T*M*phi_1)).subs(params).evalf(7),\n",
    "\n",
    "                  sp.MatrixSymbol('phi_1',2,1).T*sp.MatrixSymbol('M', 2,2)*sp.MatrixSymbol('phi_2',2,1),(phi_1.T*M*phi_2).subs(params).evalf(7))"
   ]
  },
  {
   "cell_type": "markdown",
   "metadata": {},
   "source": [
    "Es ist eine kleine numerische Differenz zu erkennen."
   ]
  },
  {
   "cell_type": "code",
   "execution_count": 39,
   "metadata": {},
   "outputs": [
    {
     "data": {
      "text/latex": [
       "\\begin{equation*}\\phi_{1}^{T} K \\phi_{1} = \\left[\\begin{matrix}\\frac{3.98 \\cdot 10^{6} \\text{N}}{\\text{m}}\\end{matrix}\\right]\\end{equation*}"
      ],
      "text/plain": [
       "  T        ⎡3.98e+6⋅newton⎤\n",
       "φ₁ ⋅K⋅φ₁ = ⎢──────────────⎥\n",
       "           ⎣    meter     ⎦"
      ]
     },
     "metadata": {},
     "output_type": "display_data"
    },
    {
     "data": {
      "text/latex": [
       "\\begin{equation*}\\phi_{2}^{T} K \\phi_{2} = \\left[\\begin{matrix}\\frac{3.71 \\cdot 10^{6} \\text{N}}{\\text{m}}\\end{matrix}\\right]\\end{equation*}"
      ],
      "text/plain": [
       "  T        ⎡3.71e+6⋅newton⎤\n",
       "φ₂ ⋅K⋅φ₂ = ⎢──────────────⎥\n",
       "           ⎣    meter     ⎦"
      ]
     },
     "metadata": {},
     "output_type": "display_data"
    },
    {
     "data": {
      "text/latex": [
       "\\begin{equation*}\\phi_{2}^{T} K \\phi_{1} = \\left[\\begin{matrix}0\\end{matrix}\\right]\\end{equation*}"
      ],
      "text/plain": [
       "  T           \n",
       "φ₂ ⋅K⋅φ₁ = [0]"
      ]
     },
     "metadata": {},
     "output_type": "display_data"
    },
    {
     "data": {
      "text/latex": [
       "\\begin{equation*}\\phi_{1}^{T} K \\phi_{2} = \\left[\\begin{matrix}0\\end{matrix}\\right]\\end{equation*}"
      ],
      "text/plain": [
       "  T           \n",
       "φ₁ ⋅K⋅φ₂ = [0]"
      ]
     },
     "metadata": {},
     "output_type": "display_data"
    }
   ],
   "source": [
    "render.eq_display(sp.MatrixSymbol('phi_1',2,1).T*sp.MatrixSymbol('K', 2,2)*sp.MatrixSymbol('phi_1',2,1),sp.simplify((phi_1.T*K*phi_1).subs(params)).evalf(3),\n",
    "                  \n",
    "                  sp.MatrixSymbol('phi_2',2,1).T*sp.MatrixSymbol('K', 2,2)*sp.MatrixSymbol('phi_2',2,1),sp.simplify((phi_2.T*K*phi_2).subs(params)).evalf(3),\n",
    "\n",
    "                  sp.MatrixSymbol('phi_2',2,1).T*sp.MatrixSymbol('K', 2,2)*sp.MatrixSymbol('phi_1',2,1),sp.simplify((phi_2.T*K*phi_1).subs(params)).evalf(3),\n",
    "                  \n",
    "                  sp.MatrixSymbol('phi_1',2,1).T*sp.MatrixSymbol('K', 2,2)*sp.MatrixSymbol('phi_2',2,1),sp.simplify((phi_1.T*K*phi_2).subs(params)).evalf(3))"
   ]
  },
  {
   "cell_type": "markdown",
   "metadata": {},
   "source": [
    "### Modale Analyse\n",
    "\n",
    "Die Bewegungsgleichung für einen ungedämpften, periodisch, harmonisch angeregten Mehrmassenschwinger lässt sich folgend beschreiben:\n",
    "\n",
    "$$\\mathbf{M u''(t) + K u = F(t)}$$\n",
    "\n",
    "Die Matrix-Gleichung beschreibt ein System aus Differentialgleichungen. Die Modale Analyse zielt darauf ab, diese zu entkoppeln. Bezogen auf den Mehrmassenschwinger heisst eine Entkoppelung, dass diese in Einmassenschwinger aufgeteilt werden. Dies wird nun schrittweise durchgeführt."
   ]
  },
  {
   "cell_type": "markdown",
   "metadata": {},
   "source": [
    "#### Modal- und Spektralmatrix\n",
    "\n",
    "Mittels der Modal- und Spektralmatrix können die generalisierten Grössen ermittelt werden. Diese sind die eigenschaften der einzelnen Einmassenschwinger. Die generalisierten Werte besitzen keine physikalischen Werte, sie sind abhängig von der Wahl der Eigenvektoren, welche bekanntlich von der Normierung abhängen.\n",
    "\n",
    "\n",
    "Aufgrund der Bewegungsgleichung können die generalisierten Grössen bestimmt werden, es gilt:\n",
    "\n",
    "$$\\Phi^T M \\Phi u''(t) + \\Phi^T K \\Phi u(t) = \\Phi^T F(t)$$\n",
    "\n",
    "$$M^*u''(t) + K^* u(t) = F^* (t)$$\n",
    "\n",
    "Alle $N$-Eigenwerte und alle $N$-Eigenvektoren können kompakt\n",
    "mit Matrizen ausgedrückt werden:\n"
   ]
  },
  {
   "cell_type": "code",
   "execution_count": 40,
   "metadata": {},
   "outputs": [
    {
     "data": {
      "text/latex": [
       "\\begin{equation*}Modalmatrix = \\Phi\\end{equation*}"
      ],
      "text/plain": [
       "Modalmatrix = Φ"
      ]
     },
     "metadata": {},
     "output_type": "display_data"
    },
    {
     "data": {
      "text/latex": [
       "\\begin{equation*}\\Phi = \\left[\\begin{matrix}1.0 & 1.0\\\\5.788 & -3.455\\end{matrix}\\right]\\end{equation*}"
      ],
      "text/plain": [
       "    ⎡ 1.0    1.0  ⎤\n",
       "Φ = ⎢             ⎥\n",
       "    ⎣5.788  -3.455⎦"
      ]
     },
     "metadata": {},
     "output_type": "display_data"
    },
    {
     "data": {
      "text/latex": [
       "\\begin{equation*}Spektralmatrix = \\Omega^{2}\\end{equation*}"
      ],
      "text/plain": [
       "                  2\n",
       "Spektralmatrix = Ω "
      ]
     },
     "metadata": {},
     "output_type": "display_data"
    },
    {
     "data": {
      "text/latex": [
       "\\begin{equation*}\\Omega^{2} = \\left[\\begin{matrix}\\frac{744.5}{\\text{s}^{2}} & 0\\\\0 & \\frac{1160.0}{\\text{s}^{2}}\\end{matrix}\\right]\\end{equation*}"
      ],
      "text/plain": [
       "     ⎡ 744.5          ⎤\n",
       "     ⎢───────     0   ⎥\n",
       "     ⎢      2         ⎥\n",
       "     ⎢second          ⎥\n",
       "Ω² = ⎢                ⎥\n",
       "     ⎢          1160.0⎥\n",
       "     ⎢   0     ───────⎥\n",
       "     ⎢               2⎥\n",
       "     ⎣         second ⎦"
      ]
     },
     "metadata": {},
     "output_type": "display_data"
    }
   ],
   "source": [
    "Phi = sp.Matrix([[phi_1, phi_2]])\n",
    "Omega = sp.Matrix([[omega_1, 0],[0, omega_2]])\n",
    "\n",
    "render.eq_display('Modalmatrix', 'Phi',\n",
    "                  sp.MatrixSymbol('Phi', 2, 2), Phi.subs(params).evalf(4),\n",
    "                  'Spektralmatrix', 'Omega^2',\n",
    "                  sp.MatrixSymbol('Omega^2', 2, 2), (Omega**2).subs(params).evalf(4))"
   ]
  },
  {
   "cell_type": "markdown",
   "metadata": {},
   "source": [
    "#### Generalisierte Grössen\n"
   ]
  },
  {
   "cell_type": "code",
   "execution_count": 41,
   "metadata": {},
   "outputs": [
    {
     "data": {
      "text/latex": [
       "\\begin{equation*}M^{\\star} = \\left[\\begin{matrix}\\frac{5350.6 \\text{N} \\text{s}^{2}}{\\text{m}} & 0\\\\0 & \\frac{3193.8 \\text{N} \\text{s}^{2}}{\\text{m}}\\end{matrix}\\right]\\end{equation*}"
      ],
      "text/plain": [
       "           ⎡                    2                       ⎤\n",
       "           ⎢5350.6⋅newton⋅second                        ⎥\n",
       "           ⎢─────────────────────            0          ⎥\n",
       "           ⎢        meter                               ⎥\n",
       "M__\\star = ⎢                                            ⎥\n",
       "           ⎢                                           2⎥\n",
       "           ⎢                       3193.8⋅newton⋅second ⎥\n",
       "           ⎢          0            ─────────────────────⎥\n",
       "           ⎣                               meter        ⎦"
      ]
     },
     "metadata": {},
     "output_type": "display_data"
    },
    {
     "data": {
      "text/latex": [
       "\\begin{equation*}K^{\\star} = \\left[\\begin{matrix}\\frac{3.9837 \\cdot 10^{6} \\text{N}}{\\text{m}} & 0\\\\0 & \\frac{3.7063 \\cdot 10^{6} \\text{N}}{\\text{m}}\\end{matrix}\\right]\\end{equation*}"
      ],
      "text/plain": [
       "           ⎡3.9837e+6⋅newton                  ⎤\n",
       "           ⎢────────────────         0        ⎥\n",
       "           ⎢     meter                        ⎥\n",
       "K__\\star = ⎢                                  ⎥\n",
       "           ⎢                  3.7063e+6⋅newton⎥\n",
       "           ⎢       0          ────────────────⎥\n",
       "           ⎣                       meter      ⎦"
      ]
     },
     "metadata": {},
     "output_type": "display_data"
    },
    {
     "data": {
      "text/latex": [
       "\\begin{equation*}F(t) = \\left[\\begin{matrix}800.0 \\sin{\\left(\\frac{12.6 t}{\\text{s}} \\right)} \\text{N}\\\\0\\end{matrix}\\right]\\end{equation*}"
      ],
      "text/plain": [
       "       ⎡         ⎛12.6⋅t⎞       ⎤\n",
       "       ⎢800.0⋅sin⎜──────⎟⋅newton⎥\n",
       "F(t) = ⎢         ⎝second⎠       ⎥\n",
       "       ⎢                        ⎥\n",
       "       ⎣           0            ⎦"
      ]
     },
     "metadata": {},
     "output_type": "display_data"
    },
    {
     "data": {
      "text/latex": [
       "\\begin{equation*}F(t)^{\\star} = \\left[\\begin{matrix}800.0 \\sin{\\left(\\frac{12.6 t}{\\text{s}} \\right)} \\text{N}\\\\800.0 \\sin{\\left(\\frac{12.6 t}{\\text{s}} \\right)} \\text{N}\\end{matrix}\\right]\\end{equation*}"
      ],
      "text/plain": [
       "              ⎡         ⎛12.6⋅t⎞       ⎤\n",
       "              ⎢800.0⋅sin⎜──────⎟⋅newton⎥\n",
       "              ⎢         ⎝second⎠       ⎥\n",
       "F(t)__\\star = ⎢                        ⎥\n",
       "              ⎢         ⎛12.6⋅t⎞       ⎥\n",
       "              ⎢800.0⋅sin⎜──────⎟⋅newton⎥\n",
       "              ⎣         ⎝second⎠       ⎦"
      ]
     },
     "metadata": {},
     "output_type": "display_data"
    }
   ],
   "source": [
    "M_star = Phi.T * M * Phi\n",
    "K_star = Phi.T * K * Phi\n",
    "F_t_matrix = sp.Matrix([[F_t],[0]])\n",
    "F_t_star = Phi.T * F_t_matrix\n",
    "\n",
    "render.eq_display(sp.MatrixSymbol('M^\\star', 2,2),sp.simplify(M_star.subs(params)).evalf(5),\n",
    "                  sp.MatrixSymbol('K^\\star', 2,2),sp.simplify(K_star.subs(params)).evalf(5),\n",
    "                  sp.MatrixSymbol('F(t)', 2,1),sp.simplify(F_t_matrix.subs(params)).evalf(5),\n",
    "                  sp.MatrixSymbol('F(t)^\\star', 2,1),sp.simplify(F_t_star.subs(params)).evalf(5))"
   ]
  },
  {
   "cell_type": "markdown",
   "metadata": {},
   "source": [
    "#### Kontrolle der modalen Transformation"
   ]
  },
  {
   "cell_type": "code",
   "execution_count": 42,
   "metadata": {},
   "outputs": [
    {
     "data": {
      "text/latex": [
       "\\begin{equation*}\\omega_{1} = \\frac{27.3}{\\text{s}}\\end{equation*}"
      ],
      "text/plain": [
       "      27.3 \n",
       "ω₁ = ──────\n",
       "     second"
      ]
     },
     "metadata": {},
     "output_type": "display_data"
    },
    {
     "data": {
      "text/latex": [
       "\\begin{equation*}\\omega_{1 modal} = \\frac{27.3}{\\text{s}}\\end{equation*}"
      ],
      "text/plain": [
       "             27.3 \n",
       "ω_1_modal = ──────\n",
       "            second"
      ]
     },
     "metadata": {},
     "output_type": "display_data"
    },
    {
     "data": {
      "text/latex": [
       "\\begin{equation*}\\omega_{2} = \\frac{34.07}{\\text{s}}\\end{equation*}"
      ],
      "text/plain": [
       "     34.07 \n",
       "ω₂ = ──────\n",
       "     second"
      ]
     },
     "metadata": {},
     "output_type": "display_data"
    },
    {
     "data": {
      "text/latex": [
       "\\begin{equation*}\\omega_{2 modal} = \\frac{34.07}{\\text{s}}\\end{equation*}"
      ],
      "text/plain": [
       "            34.07 \n",
       "ω_2_modal = ──────\n",
       "            second"
      ]
     },
     "metadata": {},
     "output_type": "display_data"
    }
   ],
   "source": [
    "omega_1_kontrolle = sp.sqrt(K_star[0] / M_star[0])\n",
    "omega_2_kontrolle = sp.sqrt(K_star[3] / M_star[3])\n",
    "\n",
    "render.eq_display('omega_1', omega_1.subs(params).simplify().evalf(3),\n",
    "                  'omega_1_modal', omega_1_kontrolle.subs(params).simplify().evalf(3),\n",
    "                  'omega_2', omega_2.subs(params).simplify().evalf(4),\n",
    "                  'omega_2_modal', omega_2_kontrolle.subs(params).simplify().evalf(4))\n",
    "\n",
    "\n"
   ]
  },
  {
   "cell_type": "markdown",
   "metadata": {},
   "source": [
    "### Stationäre Antwort\n",
    "\n",
    "Die stationäre Antwort wird mittels des Vergrösserungsfaktors bestimmt.\n",
    "\n",
    "Die entkoppelte Differentialgleichung ist nun die folgende:\n",
    "\n",
    "$$m^\\star_1 q_1''(t) + k^\\star_1 q_1(t) = F^\\star_1(t) = F^\\star_1 \\sin(\\omega t)$$\n",
    "\n",
    "$$m^\\star_2 q_2''(t) + k^\\star_2 q_2(t) = F^\\star_2(t) = F^\\star_2 \\sin(\\omega t)$$\n",
    "\n",
    "Lösen lässt sich dies mit dem bekannten Ansatz:\n",
    "\n",
    "$$q_n(t) = A_n \\sin(\\omega t) + B_n \\cos(\\omega)$$\n",
    "\n",
    "Hier wird jedoch mit dem Vorgehen des Vergrösserungsfaktors verfahren:\n"
   ]
  },
  {
   "cell_type": "markdown",
   "metadata": {},
   "source": [
    "#### Verformung"
   ]
  },
  {
   "cell_type": "code",
   "execution_count": 43,
   "metadata": {},
   "outputs": [
    {
     "data": {
      "text/latex": [
       "\\begin{equation*}V_{1}{\\left(\\omega \\right)} = \\frac{1}{\\sqrt{\\frac{4 \\omega^{2} \\zeta_{}^{2}}{\\omega_{1}^{2}} + \\left(- \\frac{\\omega^{2}}{\\omega_{1}^{2}} + 1\\right)^{2}}}\\end{equation*}"
      ],
      "text/plain": [
       "                       1               \n",
       "V₁(ω) = ───────────────────────────────\n",
       "               ________________________\n",
       "              ╱                      2 \n",
       "             ╱     2  2   ⎛    2    ⎞  \n",
       "            ╱   4⋅ω ⋅ζ    ⎜   ω     ⎟  \n",
       "           ╱    ─────── + ⎜- ─── + 1⎟  \n",
       "          ╱         2     ⎜    2    ⎟  \n",
       "        ╲╱        ω₁      ⎝  ω₁     ⎠  "
      ]
     },
     "metadata": {},
     "output_type": "display_data"
    },
    {
     "data": {
      "text/latex": [
       "\\begin{equation*}V_{1}{\\left(\\omega \\right)} = 1.27\\end{equation*}"
      ],
      "text/plain": [
       "V₁(ω) = 1.27"
      ]
     },
     "metadata": {},
     "output_type": "display_data"
    },
    {
     "data": {
      "text/latex": [
       "\\begin{equation*}q_{1 stat} = 0.201 \\text{mm}\\end{equation*}"
      ],
      "text/plain": [
       "q₁ ₛₜₐₜ = 0.201⋅millimeter"
      ]
     },
     "metadata": {},
     "output_type": "display_data"
    },
    {
     "data": {
      "text/latex": [
       "\\begin{equation*}q_{1 max} = 0.255 \\text{mm}\\end{equation*}"
      ],
      "text/plain": [
       "q₁ ₘₐₓ = 0.255⋅millimeter"
      ]
     },
     "metadata": {},
     "output_type": "display_data"
    }
   ],
   "source": [
    "zeta = sp.symbols('zeta')\n",
    "\n",
    "V_1_omega = 1/(sp.sqrt((1-(omega/omega_1)**2)**2 + (2*zeta*(omega/omega_1))**2))\n",
    "\n",
    "q_1_stat = F_0 / K_star[0]\n",
    "q_1_max = q_1_stat*V_1_omega\n",
    "\n",
    "render.eq_display('V_1(omega)', '1/(sqrt((1-(omega/omega_1)**2)**2 + (2*zeta_*(omega/omega_1))**2))',\n",
    "                  'V_1(omega)', V_1_omega.subs(params).simplify().evalf(3),\n",
    "                  'q_1_stat', unit.convert_to(q_1_stat.subs(params).simplify().evalf(3), unit.mm),\n",
    "                  'q_1_max', unit.convert_to(q_1_max.subs(params).simplify().evalf(3), unit.mm),)"
   ]
  },
  {
   "cell_type": "code",
   "execution_count": 44,
   "metadata": {},
   "outputs": [
    {
     "data": {
      "text/latex": [
       "\\begin{equation*}V_{2}{\\left(\\omega \\right)} = \\frac{1}{\\sqrt{\\frac{4 \\omega^{2} \\zeta_{}^{2}}{\\omega_{2}^{2}} + \\left(- \\frac{\\omega^{2}}{\\omega_{2}^{2}} + 1\\right)^{2}}}\\end{equation*}"
      ],
      "text/plain": [
       "                       1               \n",
       "V₂(ω) = ───────────────────────────────\n",
       "               ________________________\n",
       "              ╱                      2 \n",
       "             ╱     2  2   ⎛    2    ⎞  \n",
       "            ╱   4⋅ω ⋅ζ    ⎜   ω     ⎟  \n",
       "           ╱    ─────── + ⎜- ─── + 1⎟  \n",
       "          ╱         2     ⎜    2    ⎟  \n",
       "        ╲╱        ω₂      ⎝  ω₂     ⎠  "
      ]
     },
     "metadata": {},
     "output_type": "display_data"
    },
    {
     "data": {
      "text/latex": [
       "\\begin{equation*}V_{2}{\\left(\\omega \\right)} = 1.16\\end{equation*}"
      ],
      "text/plain": [
       "V₂(ω) = 1.16"
      ]
     },
     "metadata": {},
     "output_type": "display_data"
    },
    {
     "data": {
      "text/latex": [
       "\\begin{equation*}q_{2 stat} = 0.216 \\text{mm}\\end{equation*}"
      ],
      "text/plain": [
       "q₂ ₛₜₐₜ = 0.216⋅millimeter"
      ]
     },
     "metadata": {},
     "output_type": "display_data"
    },
    {
     "data": {
      "text/latex": [
       "\\begin{equation*}q_{2 max} = 0.25 \\text{mm}\\end{equation*}"
      ],
      "text/plain": [
       "q₂ ₘₐₓ = 0.25⋅millimeter"
      ]
     },
     "metadata": {},
     "output_type": "display_data"
    }
   ],
   "source": [
    "\n",
    "V_2_omega = 1/(sp.sqrt((1-(omega/omega_2)**2)**2 + (2*zeta*(omega/omega_2))**2))\n",
    "\n",
    "q_2_stat = F_0 / K_star[3]\n",
    "q_2_max = q_2_stat*V_2_omega\n",
    "\n",
    "\n",
    "\n",
    "render.eq_display('V_2(omega)', '1/(sqrt((1-(omega/omega_2)**2)**2 + (2*zeta_*(omega/omega_2))**2))',\n",
    "                  'V_2(omega)', V_2_omega.subs(params).simplify().evalf(3),\n",
    "                  'q_2_stat', unit.convert_to(q_2_stat.subs(params).simplify().evalf(3), unit.mm),\n",
    "                  'q_2_max', unit.convert_to(q_2_max.subs(params).simplify().evalf(3), unit.mm))"
   ]
  },
  {
   "cell_type": "markdown",
   "metadata": {},
   "source": [
    "##### Effektive Deformation\n",
    "\n",
    "Die effektiven Grössen resultieren durch Multiplikation mit dem Eigenvektor. Für die erste Eigenkreisfrequenz:"
   ]
  },
  {
   "cell_type": "code",
   "execution_count": 45,
   "metadata": {},
   "outputs": [
    {
     "data": {
      "text/latex": [
       "\\begin{equation*}u_{1 stat} = \\phi_{1} q_{1 max}\\end{equation*}"
      ],
      "text/plain": [
       "u₁ ₛₜₐₜ = φ₁⋅q₁ ₘₐₓ"
      ]
     },
     "metadata": {},
     "output_type": "display_data"
    },
    {
     "data": {
      "text/latex": [
       "\\begin{equation*}\\left[\\begin{matrix}u_{11stat}\\\\u_{21stat}\\end{matrix}\\right] = \\left[\\begin{matrix}0.255 \\text{mm}\\\\1.48 \\text{mm}\\end{matrix}\\right]\\end{equation*}"
      ],
      "text/plain": [
       "⎡u₁₁ₛₜₐₜ⎤   ⎡0.255⋅millimeter⎤\n",
       "⎢       ⎥ = ⎢                ⎥\n",
       "⎣u₂₁ₛₜₐₜ⎦   ⎣1.48⋅millimeter ⎦"
      ]
     },
     "metadata": {},
     "output_type": "display_data"
    }
   ],
   "source": [
    "u_1_stat = q_1_max*phi_1\n",
    "u_2_stat = q_2_max*phi_2\n",
    "u_stat = u_1_stat + u_2_stat\n",
    "\n",
    "render.eq_display(\"u_1_stat\",\"q_1_max*phi_1\",\n",
    "'Matrix([[u_11stat],[u_21stat]])',unit.convert_to(u_1_stat.subs(params).evalf(3),unit.mm))"
   ]
  },
  {
   "cell_type": "markdown",
   "metadata": {},
   "source": [
    "Sowie für die zweite Eigenkreisfrequenz:"
   ]
  },
  {
   "cell_type": "code",
   "execution_count": 46,
   "metadata": {},
   "outputs": [
    {
     "data": {
      "text/latex": [
       "\\begin{equation*}u_{2 stat} = \\phi_{2} q_{2 max}\\end{equation*}"
      ],
      "text/plain": [
       "u₂ ₛₜₐₜ = φ₂⋅q₂ ₘₐₓ"
      ]
     },
     "metadata": {},
     "output_type": "display_data"
    },
    {
     "data": {
      "text/latex": [
       "\\begin{equation*}\\left[\\begin{matrix}u_{12stat}\\\\u_{22stat}\\end{matrix}\\right] = \\left[\\begin{matrix}0.25 \\text{mm}\\\\- 0.864 \\text{mm}\\end{matrix}\\right]\\end{equation*}"
      ],
      "text/plain": [
       "⎡u₁₂ₛₜₐₜ⎤   ⎡ 0.25⋅millimeter ⎤\n",
       "⎢       ⎥ = ⎢                 ⎥\n",
       "⎣u₂₂ₛₜₐₜ⎦   ⎣-0.864⋅millimeter⎦"
      ]
     },
     "metadata": {},
     "output_type": "display_data"
    }
   ],
   "source": [
    "render.eq_display(\"u_2_stat\",\"q_2_max*phi_2\",\n",
    "'Matrix([[u_12stat],[u_22stat]])',unit.convert_to(u_2_stat.subs(params).evalf(3),unit.mm))"
   ]
  },
  {
   "cell_type": "markdown",
   "metadata": {},
   "source": [
    "Durch Addition der beiden Verformungen:"
   ]
  },
  {
   "cell_type": "code",
   "execution_count": 47,
   "metadata": {},
   "outputs": [
    {
     "data": {
      "text/latex": [
       "\\begin{equation*}u_{stat} = u_{1 stat} + u_{2 stat}\\end{equation*}"
      ],
      "text/plain": [
       "uₛₜₐₜ = u₁ ₛₜₐₜ + u₂ ₛₜₐₜ"
      ]
     },
     "metadata": {},
     "output_type": "display_data"
    },
    {
     "data": {
      "text/latex": [
       "\\begin{equation*}\\left[\\begin{matrix}u_{1max}\\\\u_{2max}\\end{matrix}\\right] = \\left[\\begin{matrix}0.505 \\text{mm}\\\\0.613 \\text{mm}\\end{matrix}\\right]\\end{equation*}"
      ],
      "text/plain": [
       "⎡u₁ₘₐₓ⎤   ⎡0.505⋅millimeter⎤\n",
       "⎢     ⎥ = ⎢                ⎥\n",
       "⎣u₂ₘₐₓ⎦   ⎣0.613⋅millimeter⎦"
      ]
     },
     "metadata": {},
     "output_type": "display_data"
    }
   ],
   "source": [
    "render.eq_display(\"u_stat\" , \"u_1_stat + u_2_stat\",\n",
    "'Matrix([[u_1max],[u_2max]])',unit.convert_to(u_stat.subs(params).evalf(3),unit.mm))\n"
   ]
  },
  {
   "cell_type": "markdown",
   "metadata": {},
   "source": [
    "#### Beschleunigung"
   ]
  },
  {
   "cell_type": "code",
   "execution_count": 48,
   "metadata": {},
   "outputs": [
    {
     "data": {
      "text/latex": [
       "\\begin{equation*}V_{a1 \\omega} = \\frac{V_{1 \\omega} \\omega^{2}}{\\omega_{1}^{2}}\\end{equation*}"
      ],
      "text/plain": [
       "                2\n",
       "         V_1_ω⋅ω \n",
       "V_a1_ω = ────────\n",
       "             2   \n",
       "           ω₁    "
      ]
     },
     "metadata": {},
     "output_type": "display_data"
    },
    {
     "data": {
      "text/latex": [
       "\\begin{equation*}V_{a1}{\\left(\\omega \\right)} = 0.271\\end{equation*}"
      ],
      "text/plain": [
       "Vₐ₁(ω) = 0.271"
      ]
     },
     "metadata": {},
     "output_type": "display_data"
    },
    {
     "data": {
      "text/latex": [
       "\\begin{equation*}\\frac{d^{2}}{d t^{2}} q_{max} = \\frac{0.0405 \\text{m}}{\\text{s}^{2}}\\end{equation*}"
      ],
      "text/plain": [
       "  2                     \n",
       " d          0.0405⋅meter\n",
       "───(qₘₐₓ) = ────────────\n",
       "  2                 2   \n",
       "dt            second    "
      ]
     },
     "metadata": {},
     "output_type": "display_data"
    }
   ],
   "source": [
    "V_a1_omega = omega**2 / omega_1**2 * V_1_omega\n",
    "\n",
    "q_2_1_max =  F_0 / M_star[0] * V_a1_omega\n",
    "\n",
    "render.eq_display(\"V_a1_omega\" , \"omega**2 / omega_1**2 * V_1_omega\",\n",
    "'V_a1(omega)', V_a1_omega.subs(params).simplify().evalf(3),\n",
    "                  'Derivative(q_max,t,2)', q_2_1_max.subs(params).simplify().evalf(3))"
   ]
  },
  {
   "cell_type": "code",
   "execution_count": 49,
   "metadata": {},
   "outputs": [
    {
     "data": {
      "text/latex": [
       "\\begin{equation*}V_{a2}{\\left(\\omega \\right)} = 0.158\\end{equation*}"
      ],
      "text/plain": [
       "Vₐ₂(ω) = 0.158"
      ]
     },
     "metadata": {},
     "output_type": "display_data"
    },
    {
     "data": {
      "text/latex": [
       "\\begin{equation*}\\frac{d^{2}}{d t^{2}} q_{max} = \\frac{0.0397 \\text{m}}{\\text{s}^{2}}\\end{equation*}"
      ],
      "text/plain": [
       "  2                     \n",
       " d          0.0397⋅meter\n",
       "───(qₘₐₓ) = ────────────\n",
       "  2                 2   \n",
       "dt            second    "
      ]
     },
     "metadata": {},
     "output_type": "display_data"
    }
   ],
   "source": [
    "V_a2_omega = omega**2 / omega_2**2 * V_2_omega\n",
    "\n",
    "q_2_2_max =  F_0 / M_star[3] * V_a2_omega\n",
    "\n",
    "render.eq_display('V_a2(omega)', V_a2_omega.subs(params).simplify().evalf(3),'Derivative(q_max,t,2)', q_2_2_max.subs(params).simplify().evalf(3))"
   ]
  },
  {
   "cell_type": "markdown",
   "metadata": {},
   "source": [
    "##### Effektive Beschleunigung\n",
    "\n",
    "Gleiches Vorgehen wie bei der Deformation."
   ]
  },
  {
   "cell_type": "code",
   "execution_count": 50,
   "metadata": {},
   "outputs": [
    {
     "data": {
      "text/latex": [
       "\\begin{equation*}\\left[\\begin{matrix}\\frac{d^{2}}{d t^{2}} u_{1max}\\\\\\frac{d^{2}}{d t^{2}} u_{2max}\\end{matrix}\\right] = \\left[\\begin{matrix}\\frac{0.0802 \\text{m}}{\\text{s}^{2}}\\\\\\frac{0.0975 \\text{m}}{\\text{s}^{2}}\\end{matrix}\\right]\\end{equation*}"
      ],
      "text/plain": [
       "⎡  2       ⎤                 \n",
       "⎢ d        ⎥   ⎡0.0802⋅meter⎤\n",
       "⎢───(u₁ₘₐₓ)⎥   ⎢────────────⎥\n",
       "⎢  2       ⎥   ⎢        2   ⎥\n",
       "⎢dt        ⎥   ⎢  second    ⎥\n",
       "⎢          ⎥ = ⎢            ⎥\n",
       "⎢  2       ⎥   ⎢0.0975⋅meter⎥\n",
       "⎢ d        ⎥   ⎢────────────⎥\n",
       "⎢───(u₂ₘₐₓ)⎥   ⎢        2   ⎥\n",
       "⎢  2       ⎥   ⎣  second    ⎦\n",
       "⎣dt        ⎦                 "
      ]
     },
     "metadata": {},
     "output_type": "display_data"
    }
   ],
   "source": [
    "u_2_1_stat = q_2_1_max*phi_1\n",
    "u_2_2_stat = q_2_2_max*phi_2\n",
    "u_2_stat = u_2_1_stat + u_2_2_stat\n",
    "\n",
    "render.eq_display('Matrix([[Derivative(u_1max,t,2)],[Derivative(u_2max,t,2)]])',u_2_stat.subs(params).evalf(3))\n"
   ]
  },
  {
   "cell_type": "markdown",
   "metadata": {},
   "source": [
    "{{< pagebreak >}}\n",
    "\n",
    "# Beispiel: Antwortspektrenverfahren an einem Rahmen\n",
    "\n",
    "\n",
    "## Aufgabenstellung\n",
    "\n",
    "Dies ist eine Weiterführung des bereits bekannten Rahmentragwerks aus @sec-mms_rahmen.\n",
    "\n",
    "![Statisches System des Rahmentragwerks](bilder/mms5.jpg){#fig-system width=70%}\n",
    "\n",
    "\n",
    "\n",
    "Gesucht:\n",
    "\n",
    "-  Eigenkreisfrequenz $\\omega$ \n",
    "-  Eigenformen - Normierung auf \n",
    "$$\\phi_1^T = \n",
    "\\begin{bmatrix}\n",
    " &  1\\\\\n",
    "\\end{bmatrix} $$\n",
    "$$\\phi_2^T =\n",
    "\\begin{bmatrix}\n",
    " &  1\\\\\n",
    "\\end{bmatrix}$$\n",
    "\n",
    "- Skizze der Eigenformen \n",
    "- Statische Ersatzkräfte mit elastischem Antwortspektrum aus [@SIA261_2020] Abs. 16.2.3 auf Stockwerksebene. Überlagerung mit der SRSS-Methode.\n",
    "\n",
    "Gegeben:\n",
    "\n",
    "- Elastizitätsmodul der Stützen $E = 30000 \\text{N}/{mm}^2$\n",
    "- Flächenträgheitsmoment der Stützen $I = 2 \\cdot 10^9 \\text{mm}^4$\n",
    "- Dehnsteifigkeit aller Stäbe $E\\cdot A = \\infty$\n",
    "- Einzelmassen $m = 20000 \\text{kg}$\n",
    "- Baugrundklasse B\n",
    "- Erdbebenzone Z2"
   ]
  },
  {
   "cell_type": "markdown",
   "metadata": {},
   "source": [
    "{{< pagebreak >}}\n",
    "\n",
    "## Musterlösung \n",
    "\n",
    "[Bei dieser Musterlösung bin ich nicht ganz sattelfest, müssen wir zusammen besprechen Stephan]{.underline}"
   ]
  },
  {
   "cell_type": "code",
   "execution_count": 51,
   "metadata": {},
   "outputs": [
    {
     "data": {
      "text/markdown": [
       "| Parameter |  |\n",
       "|---|---|\n",
       "| $E = \\frac{30000 \\text{N}}{\\text{mm}^{2}}$ | $H = 3.2 \\text{m}$ |\n",
       "| $I = 2000000000 \\text{mm}^{4}$ | $m_{1} = \\frac{40000 \\text{N} \\text{s}^{2}}{\\text{m}}$ |\n",
       "| $m_{2} = \\frac{20000 \\text{N} \\text{s}^{2}}{\\text{m}}$ | |\n"
      ],
      "text/plain": [
       "<IPython.core.display.Markdown object>"
      ]
     },
     "metadata": {},
     "output_type": "display_data"
    }
   ],
   "source": [
    "#| label: tbl-parameter_mms5\n",
    "#| tbl-cap: Verwendete Parameter\n",
    "\n",
    "params = {'E': 30*10**3 *unit.N/unit.mm**2,\n",
    "          'I':2*10**9*unit.mm**4,\n",
    "          'm_1':2*20000*unit.N*unit.second**2/unit.m,\n",
    "          'm_2':20000*unit.N*unit.second**2/unit.m,\n",
    "          'H':3.2*unit.m,\n",
    "          \n",
    "          }\n",
    "render.dict_to_table(params)"
   ]
  },
  {
   "cell_type": "code",
   "execution_count": 52,
   "metadata": {},
   "outputs": [],
   "source": [
    "omega, t,  l, m_1, m_2, E,I, H = sp.symbols('omega, t,  l, m_1, m_2, E, I, H')\n",
    "\n",
    "omega_n = sp.symbols('omega_n')"
   ]
  },
  {
   "cell_type": "markdown",
   "metadata": {},
   "source": [
    "### Steifigkeitsmatrix $\\mathbf{K}$\n",
    "\n",
    "Zur Bestimmung der Steifigkeitsmatrix ist das System an jedem Freiheitsgrad auszulenken, wie in @fig-steifigkeit dargestellt ist.\n",
    "\n",
    "![Auslenkung der Freiheitsgrade zur Bestimmung der Steifigkeit](bilder/steifigkeit_mms2.jpg){#fig-steifigkeit}\n",
    "\n",
    "Wichtig dabei sind die Richtungen der Kräfte. Als Denkstütze gilt folgendes:\n",
    "- Der Auslenkung um $u$ wirkt die Federkraft entgegen, welche $k u$ entspricht.\n",
    "- Zusätzlich wirkt die Trägheitskraft der Auslenkung entgegen, welche $m u''$ entspricht.\n",
    "- Nach der Betrachtung des ausgelenkten Punkts, kann mittels *Actio-Reactio*-Prinzip das \"*Stockwerk*\" ins Gleichgewicht gebracht werden.\n",
    "- Vorzeichen sind gegen der Bewegungsrichtig positiv."
   ]
  },
  {
   "cell_type": "markdown",
   "metadata": {},
   "source": [
    "#### Horizontale Steifigkeit\n",
    "\n",
    "Die horizontale Steifigkeit des Systems lässt sich mittels der Formel für Rahmen bestimmen.\n",
    "\n",
    "$$k_{Stütze} = \\frac{12EI_{Stütze}}{H^3}$$\n",
    "\n",
    "Diese gilt für eine einzelne Stütze."
   ]
  },
  {
   "cell_type": "code",
   "execution_count": 53,
   "metadata": {},
   "outputs": [
    {
     "data": {
      "text/latex": [
       "\\begin{equation*}K = \\left[\\begin{matrix}k_{1} + k_{2} & - k_{2}\\\\- k_{2} & k_{2}\\end{matrix}\\right]\\end{equation*}"
      ],
      "text/plain": [
       "    ⎡k₁ + k₂  -k₂⎤\n",
       "K = ⎢            ⎥\n",
       "    ⎣  -k₂    k₂ ⎦"
      ]
     },
     "metadata": {},
     "output_type": "display_data"
    },
    {
     "data": {
      "text/latex": [
       "\\begin{equation*}K = \\left[\\begin{matrix}\\frac{1.31836 \\cdot 10^{8} \\text{N}}{\\text{m}} & - \\frac{4.39453 \\cdot 10^{7} \\text{N}}{\\text{m}}\\\\- \\frac{4.39453 \\cdot 10^{7} \\text{N}}{\\text{m}} & \\frac{4.39453 \\cdot 10^{7} \\text{N}}{\\text{m}}\\end{matrix}\\right]\\end{equation*}"
      ],
      "text/plain": [
       "    ⎡ 1.31836e+8⋅newton   -4.39453e+7⋅newton ⎤\n",
       "    ⎢ ─────────────────   ───────────────────⎥\n",
       "    ⎢       meter                meter       ⎥\n",
       "K = ⎢                                        ⎥\n",
       "    ⎢-4.39453e+7⋅newton    4.39453e+7⋅newton ⎥\n",
       "    ⎢───────────────────   ───────────────── ⎥\n",
       "    ⎣       meter                meter       ⎦"
      ]
     },
     "metadata": {},
     "output_type": "display_data"
    }
   ],
   "source": [
    "k_1, k_2 = sp.symbols('k_1, k_2')\n",
    "\n",
    "params['k_1'] = 2*(12 * 2*E*I / H**3).subs(params).simplify().evalf(6)\n",
    "params['k_2'] = 2*(12 * E*I / H**3).subs(params).simplify().evalf(6)\n",
    "K = sp.Matrix([[k_1 + k_2, -k_2],[-k_2, k_2]])\n",
    "\n",
    "\n",
    "render.eq_display(sp.MatrixSymbol('K', 2,2), K,\n",
    "                  sp.MatrixSymbol('K', 2,2), K.subs(params),\n",
    "                  )"
   ]
  },
  {
   "cell_type": "markdown",
   "metadata": {},
   "source": [
    "### Eigenvektoren\n",
    "#### Massenmatrix $\\mathbf{M}$ \n",
    "\n",
    "Die Massenmatrix folgt dem gleichen Aufbau wie die Steifigkeitsmatrix. Es gelten die gleichen Vorzeichenregelungen."
   ]
  },
  {
   "cell_type": "code",
   "execution_count": 54,
   "metadata": {},
   "outputs": [
    {
     "data": {
      "text/latex": [
       "\\begin{equation*}M = \\left[\\begin{matrix}m_{1} & 0\\\\0 & m_{2}\\end{matrix}\\right]\\end{equation*}"
      ],
      "text/plain": [
       "    ⎡m₁  0 ⎤\n",
       "M = ⎢      ⎥\n",
       "    ⎣0   m₂⎦"
      ]
     },
     "metadata": {},
     "output_type": "display_data"
    },
    {
     "data": {
      "text/latex": [
       "\\begin{equation*}M = \\left[\\begin{matrix}\\frac{40000 \\text{N} \\text{s}^{2}}{\\text{m}} & 0\\\\0 & \\frac{20000 \\text{N} \\text{s}^{2}}{\\text{m}}\\end{matrix}\\right]\\end{equation*}"
      ],
      "text/plain": [
       "    ⎡                   2                      ⎤\n",
       "    ⎢40000⋅newton⋅second                       ⎥\n",
       "    ⎢────────────────────           0          ⎥\n",
       "    ⎢       meter                              ⎥\n",
       "M = ⎢                                          ⎥\n",
       "    ⎢                                         2⎥\n",
       "    ⎢                      20000⋅newton⋅second ⎥\n",
       "    ⎢         0            ────────────────────⎥\n",
       "    ⎣                             meter        ⎦"
      ]
     },
     "metadata": {},
     "output_type": "display_data"
    }
   ],
   "source": [
    "m_1, m_2 = sp.symbols('m_1, m_2')\n",
    "M = sp.Matrix([[m_1, 0],[0, m_2]])\n",
    "\n",
    "render.eq_display(sp.MatrixSymbol('M', 2,2), M,\n",
    "                  sp.MatrixSymbol('M', 2,2), M.subs(params))"
   ]
  },
  {
   "cell_type": "markdown",
   "metadata": {},
   "source": [
    "#### Eigenkreisfrequenzen \n",
    "Bei einem Mehrmassenschwinger gibt es entsprechend den Freiheitsgraden Eigenkreisfrequenzen $\\omega_n$. Diese lassen sich anhand folgender Gleichung bestimmen:\n",
    "\n",
    "$$\\det{[\\mathbf{K}-\\omega_n^2 \\mathbf{M}]=0}$$"
   ]
  },
  {
   "cell_type": "code",
   "execution_count": 55,
   "metadata": {},
   "outputs": [
    {
     "data": {
      "text/latex": [
       "\\begin{equation*}\\omega_{1} = \\frac{33.1}{\\text{s}}\\end{equation*}"
      ],
      "text/plain": [
       "      33.1 \n",
       "ω₁ = ──────\n",
       "     second"
      ]
     },
     "metadata": {},
     "output_type": "display_data"
    },
    {
     "data": {
      "text/latex": [
       "\\begin{equation*}\\omega_{2} = \\frac{66.3}{\\text{s}}\\end{equation*}"
      ],
      "text/plain": [
       "      66.3 \n",
       "ω₂ = ──────\n",
       "     second"
      ]
     },
     "metadata": {},
     "output_type": "display_data"
    }
   ],
   "source": [
    "eq_omega = sp.det(K-omega_n**2*M)\n",
    "\n",
    "omega_n_solve = sp.solve(eq_omega, omega_n)\n",
    "omega_1 = omega_n_solve[1]\n",
    "omega_2 = omega_n_solve[3]\n",
    "\n",
    "render.eq_display('omega_1', omega_1.subs(params).simplify().evalf(3),\n",
    "                  'omega_2', omega_2.subs(params).simplify().evalf(3))"
   ]
  },
  {
   "cell_type": "markdown",
   "metadata": {},
   "source": [
    "#### Eigenvektoren $\\phi$"
   ]
  },
  {
   "cell_type": "code",
   "execution_count": 56,
   "metadata": {},
   "outputs": [
    {
     "data": {
      "text/latex": [
       "\\begin{equation*}\\left[\\begin{matrix}\\frac{- k_{2} m_{2} \\phi_{21} + \\frac{\\phi_{11} \\left(- k_{2} m_{1} + m_{2} \\left(k_{1} + k_{2}\\right) + \\sqrt{k_{1}^{2} m_{2}^{2} - 2 k_{1} k_{2} m_{1} m_{2} + 2 k_{1} k_{2} m_{2}^{2} + k_{2}^{2} m_{1}^{2} + 2 k_{2}^{2} m_{1} m_{2} + k_{2}^{2} m_{2}^{2}}\\right)}{2}}{m_{2}}\\\\\\frac{- k_{2} m_{1} \\phi_{11} + \\frac{\\phi_{21} \\left(k_{2} m_{1} - m_{2} \\left(k_{1} + k_{2}\\right) + \\sqrt{k_{1}^{2} m_{2}^{2} - 2 k_{1} k_{2} m_{1} m_{2} + 2 k_{1} k_{2} m_{2}^{2} + k_{2}^{2} m_{1}^{2} + 2 k_{2}^{2} m_{1} m_{2} + k_{2}^{2} m_{2}^{2}}\\right)}{2}}{m_{1}}\\end{matrix}\\right] = \\left[\\begin{matrix}0\\\\0\\end{matrix}\\right]\\end{equation*}"
      ],
      "text/plain": [
       "⎡                 ⎛                           ________________________________\n",
       "⎢                 ⎜                          ╱   2   2                        \n",
       "⎢             φ₁₁⋅⎝-k₂⋅m₁ + m₂⋅(k₁ + k₂) + ╲╱  k₁ ⋅m₂  - 2⋅k₁⋅k₂⋅m₁⋅m₂ + 2⋅k₁⋅\n",
       "⎢-k₂⋅m₂⋅φ₂₁ + ────────────────────────────────────────────────────────────────\n",
       "⎢                                                                 2           \n",
       "⎢─────────────────────────────────────────────────────────────────────────────\n",
       "⎢                                                           m₂                \n",
       "⎢                                                                             \n",
       "⎢                 ⎛                          _________________________________\n",
       "⎢                 ⎜                         ╱   2   2                         \n",
       "⎢             φ₂₁⋅⎝k₂⋅m₁ - m₂⋅(k₁ + k₂) + ╲╱  k₁ ⋅m₂  - 2⋅k₁⋅k₂⋅m₁⋅m₂ + 2⋅k₁⋅k\n",
       "⎢-k₂⋅m₁⋅φ₁₁ + ────────────────────────────────────────────────────────────────\n",
       "⎢                                                                 2           \n",
       "⎢─────────────────────────────────────────────────────────────────────────────\n",
       "⎣                                                          m₁                 \n",
       "\n",
       "_________________________________________⎞⎤      \n",
       "     2     2   2       2           2   2 ⎟⎥      \n",
       "k₂⋅m₂  + k₂ ⋅m₁  + 2⋅k₂ ⋅m₁⋅m₂ + k₂ ⋅m₂  ⎠⎥      \n",
       "──────────────────────────────────────────⎥      \n",
       "                                          ⎥      \n",
       "──────────────────────────────────────────⎥      \n",
       "                                          ⎥   ⎡0⎤\n",
       "                                          ⎥ = ⎢ ⎥\n",
       "________________________________________⎞ ⎥   ⎣0⎦\n",
       "    2     2   2       2           2   2 ⎟ ⎥      \n",
       "₂⋅m₂  + k₂ ⋅m₁  + 2⋅k₂ ⋅m₁⋅m₂ + k₂ ⋅m₂  ⎠ ⎥      \n",
       "───────────────────────────────────────── ⎥      \n",
       "                                          ⎥      \n",
       "───────────────────────────────────────── ⎥      \n",
       "                                          ⎦      "
      ]
     },
     "metadata": {},
     "output_type": "display_data"
    },
    {
     "data": {
      "text/latex": [
       "\\begin{equation*}\\phi_{1} = \\left[\\begin{matrix}0.5\\\\1.0\\end{matrix}\\right]\\end{equation*}"
      ],
      "text/plain": [
       "     ⎡0.5⎤\n",
       "φ₁ = ⎢   ⎥\n",
       "     ⎣1.0⎦"
      ]
     },
     "metadata": {},
     "output_type": "display_data"
    }
   ],
   "source": [
    "phi_11, phi_21, phi_12, phi_22 = sp.symbols('phi_11, phi_21, phi_12, phi_22')\n",
    "params['phi_21'] = 1\n",
    "\n",
    "phi_1 = sp.Matrix([[phi_11], [phi_21]])\n",
    "\n",
    "phi_11 = list(sp.solve((K-omega_1**2 *M)*phi_1, phi_11).values())[0]\n",
    "\n",
    "params['phi_11'] = phi_11.subs(params).simplify() \n",
    "\n",
    "\n",
    "\n",
    "\n",
    "render.eq_display(sp.simplify((K-omega_1**2 *M)*phi_1),sp.Matrix([[0],[0]]),\n",
    "                  sp.MatrixSymbol('phi_1', 2,1),sp.simplify(phi_1.subs(params)).evalf(3))"
   ]
  },
  {
   "cell_type": "code",
   "execution_count": 57,
   "metadata": {},
   "outputs": [
    {
     "data": {
      "text/latex": [
       "\\begin{equation*}\\left[\\begin{matrix}\\frac{- k_{2} m_{2} \\phi_{22} + \\frac{\\phi_{12} \\left(- k_{2} m_{1} + m_{2} \\left(k_{1} + k_{2}\\right) - \\sqrt{k_{1}^{2} m_{2}^{2} - 2 k_{1} k_{2} m_{1} m_{2} + 2 k_{1} k_{2} m_{2}^{2} + k_{2}^{2} m_{1}^{2} + 2 k_{2}^{2} m_{1} m_{2} + k_{2}^{2} m_{2}^{2}}\\right)}{2}}{m_{2}}\\\\\\frac{- k_{2} m_{1} \\phi_{12} + \\frac{\\phi_{22} \\left(k_{2} m_{1} - m_{2} \\left(k_{1} + k_{2}\\right) - \\sqrt{k_{1}^{2} m_{2}^{2} - 2 k_{1} k_{2} m_{1} m_{2} + 2 k_{1} k_{2} m_{2}^{2} + k_{2}^{2} m_{1}^{2} + 2 k_{2}^{2} m_{1} m_{2} + k_{2}^{2} m_{2}^{2}}\\right)}{2}}{m_{1}}\\end{matrix}\\right] = \\left[\\begin{matrix}0\\\\0\\end{matrix}\\right]\\end{equation*}"
      ],
      "text/plain": [
       "⎡                 ⎛                           ________________________________\n",
       "⎢                 ⎜                          ╱   2   2                        \n",
       "⎢             φ₁₂⋅⎝-k₂⋅m₁ + m₂⋅(k₁ + k₂) - ╲╱  k₁ ⋅m₂  - 2⋅k₁⋅k₂⋅m₁⋅m₂ + 2⋅k₁⋅\n",
       "⎢-k₂⋅m₂⋅φ₂₂ + ────────────────────────────────────────────────────────────────\n",
       "⎢                                                                 2           \n",
       "⎢─────────────────────────────────────────────────────────────────────────────\n",
       "⎢                                                           m₂                \n",
       "⎢                                                                             \n",
       "⎢                 ⎛                          _________________________________\n",
       "⎢                 ⎜                         ╱   2   2                         \n",
       "⎢             φ₂₂⋅⎝k₂⋅m₁ - m₂⋅(k₁ + k₂) - ╲╱  k₁ ⋅m₂  - 2⋅k₁⋅k₂⋅m₁⋅m₂ + 2⋅k₁⋅k\n",
       "⎢-k₂⋅m₁⋅φ₁₂ + ────────────────────────────────────────────────────────────────\n",
       "⎢                                                                 2           \n",
       "⎢─────────────────────────────────────────────────────────────────────────────\n",
       "⎣                                                          m₁                 \n",
       "\n",
       "_________________________________________⎞⎤      \n",
       "     2     2   2       2           2   2 ⎟⎥      \n",
       "k₂⋅m₂  + k₂ ⋅m₁  + 2⋅k₂ ⋅m₁⋅m₂ + k₂ ⋅m₂  ⎠⎥      \n",
       "──────────────────────────────────────────⎥      \n",
       "                                          ⎥      \n",
       "──────────────────────────────────────────⎥      \n",
       "                                          ⎥   ⎡0⎤\n",
       "                                          ⎥ = ⎢ ⎥\n",
       "________________________________________⎞ ⎥   ⎣0⎦\n",
       "    2     2   2       2           2   2 ⎟ ⎥      \n",
       "₂⋅m₂  + k₂ ⋅m₁  + 2⋅k₂ ⋅m₁⋅m₂ + k₂ ⋅m₂  ⎠ ⎥      \n",
       "───────────────────────────────────────── ⎥      \n",
       "                                          ⎥      \n",
       "───────────────────────────────────────── ⎥      \n",
       "                                          ⎦      "
      ]
     },
     "metadata": {},
     "output_type": "display_data"
    },
    {
     "data": {
      "text/latex": [
       "\\begin{equation*}\\phi_{2} = \\left[\\begin{matrix}-1.0\\\\1.0\\end{matrix}\\right]\\end{equation*}"
      ],
      "text/plain": [
       "     ⎡-1.0⎤\n",
       "φ₂ = ⎢    ⎥\n",
       "     ⎣1.0 ⎦"
      ]
     },
     "metadata": {},
     "output_type": "display_data"
    }
   ],
   "source": [
    "params['phi_22'] = 1\n",
    "\n",
    "phi_2 = sp.Matrix([[phi_12], [phi_22]])\n",
    "\n",
    "phi_12 = list(sp.solve((K-omega_2**2 *M)*phi_2, phi_12).values())[0]\n",
    "\n",
    "params['phi_12'] = phi_12.subs(params).simplify() \n",
    "\n",
    "\n",
    "\n",
    "\n",
    "render.eq_display(sp.simplify((K-omega_2**2 *M)*phi_2),sp.Matrix([[0],[0]]),\n",
    "                  sp.MatrixSymbol('phi_2', 2,1),sp.simplify(phi_2.subs(params)).evalf(3))"
   ]
  },
  {
   "cell_type": "markdown",
   "metadata": {},
   "source": [
    "#### Orthogonalitätsbedingung\n",
    "\n",
    "Zur effektiven Entkoppelung der Gleichungen muss die Orthogonalitätsbedingung eingehalten sein. Dies gilt es für die Massenmatrix zu kontrollieren:\n",
    "\n",
    "Dies gilt es für die Massenmatrix zu kontrollieren:\n",
    "\n",
    "$$\\phi_1^T \\mathbf{ M } \\phi_1 \\neq 0$$\n",
    "\n",
    "$$\\phi_2^T \\mathbf{ M } \\phi_2 \\neq 0$$\n",
    "\n",
    "$$\\phi_2^T \\mathbf{ M } \\phi_1 = 0$$\n",
    "\n",
    "Sowohl auch für die Steifigkeitsmatrix:\n",
    "\n",
    "$$\\phi_1^T \\mathbf{ K } \\phi_1 \\neq 0$$\n",
    "\n",
    "$$\\phi_2^T \\mathbf{ K } \\phi_2 \\neq 0$$\n",
    "\n",
    "$$\\phi_2^T \\mathbf{ K } \\phi_1 = 0$$\n",
    "\n",
    "\n",
    "Angewendet auf die Aufgabe:\n"
   ]
  },
  {
   "cell_type": "code",
   "execution_count": 58,
   "metadata": {},
   "outputs": [
    {
     "data": {
      "text/latex": [
       "\\begin{equation*}\\phi_{1}^{T} M \\phi_{1} = \\left[\\begin{matrix}\\frac{3.0 \\cdot 10^{4} \\text{N} \\text{s}^{2}}{\\text{m}}\\end{matrix}\\right]\\end{equation*}"
      ],
      "text/plain": [
       "           ⎡                    2⎤\n",
       "  T        ⎢3.0e+4⋅newton⋅second ⎥\n",
       "φ₁ ⋅M⋅φ₁ = ⎢─────────────────────⎥\n",
       "           ⎣        meter        ⎦"
      ]
     },
     "metadata": {},
     "output_type": "display_data"
    },
    {
     "data": {
      "text/latex": [
       "\\begin{equation*}\\phi_{2}^{T} M \\phi_{2} = \\left[\\begin{matrix}\\frac{6.0 \\cdot 10^{4} \\text{N} \\text{s}^{2}}{\\text{m}}\\end{matrix}\\right]\\end{equation*}"
      ],
      "text/plain": [
       "           ⎡                    2⎤\n",
       "  T        ⎢6.0e+4⋅newton⋅second ⎥\n",
       "φ₂ ⋅M⋅φ₂ = ⎢─────────────────────⎥\n",
       "           ⎣        meter        ⎦"
      ]
     },
     "metadata": {},
     "output_type": "display_data"
    },
    {
     "data": {
      "text/latex": [
       "\\begin{equation*}\\phi_{2}^{T} M \\phi_{1} = \\left[\\begin{matrix}0\\end{matrix}\\right]\\end{equation*}"
      ],
      "text/plain": [
       "  T           \n",
       "φ₂ ⋅M⋅φ₁ = [0]"
      ]
     },
     "metadata": {},
     "output_type": "display_data"
    },
    {
     "data": {
      "text/latex": [
       "\\begin{equation*}\\phi_{1}^{T} M \\phi_{2} = \\left[\\begin{matrix}0\\end{matrix}\\right]\\end{equation*}"
      ],
      "text/plain": [
       "  T           \n",
       "φ₁ ⋅M⋅φ₂ = [0]"
      ]
     },
     "metadata": {},
     "output_type": "display_data"
    }
   ],
   "source": [
    "render.eq_display(sp.MatrixSymbol('phi_1',2,1).T*sp.MatrixSymbol('M', 2,2)*sp.MatrixSymbol('phi_1',2,1),(phi_1.T*M*phi_1).subs(params).evalf(3),\n",
    "                  \n",
    "                  sp.MatrixSymbol('phi_2',2,1).T*sp.MatrixSymbol('M', 2,2)*sp.MatrixSymbol('phi_2',2,1),(phi_2.T*M*phi_2).subs(params).evalf(3),\n",
    "\n",
    "                  sp.MatrixSymbol('phi_2',2,1).T*sp.MatrixSymbol('M', 2,2)*sp.MatrixSymbol('phi_1',2,1),(phi_2.T*M*phi_1).subs(params).evalf(3),\n",
    "\n",
    "                  sp.MatrixSymbol('phi_1',2,1).T*sp.MatrixSymbol('M', 2,2)*sp.MatrixSymbol('phi_2',2,1),(phi_1.T*M*phi_2).subs(params).evalf(3))"
   ]
  },
  {
   "cell_type": "markdown",
   "metadata": {},
   "source": [
    "Für die Steifigkeitsmatrix:"
   ]
  },
  {
   "cell_type": "code",
   "execution_count": 59,
   "metadata": {},
   "outputs": [
    {
     "data": {
      "text/latex": [
       "\\begin{equation*}\\phi_{1}^{T} K \\phi_{1} = \\left[\\begin{matrix}\\frac{3.3 \\cdot 10^{7} \\text{N}}{\\text{m}}\\end{matrix}\\right]\\end{equation*}"
      ],
      "text/plain": [
       "  T        ⎡3.3e+7⋅newton⎤\n",
       "φ₁ ⋅K⋅φ₁ = ⎢─────────────⎥\n",
       "           ⎣    meter    ⎦"
      ]
     },
     "metadata": {},
     "output_type": "display_data"
    },
    {
     "data": {
      "text/latex": [
       "\\begin{equation*}\\phi_{2}^{T} K \\phi_{2} = \\left[\\begin{matrix}\\frac{2.64 \\cdot 10^{8} \\text{N}}{\\text{m}}\\end{matrix}\\right]\\end{equation*}"
      ],
      "text/plain": [
       "  T        ⎡2.64e+8⋅newton⎤\n",
       "φ₂ ⋅K⋅φ₂ = ⎢──────────────⎥\n",
       "           ⎣    meter     ⎦"
      ]
     },
     "metadata": {},
     "output_type": "display_data"
    },
    {
     "data": {
      "text/latex": [
       "\\begin{equation*}\\phi_{2}^{T} K \\phi_{1} = \\left[\\begin{matrix}0\\end{matrix}\\right]\\end{equation*}"
      ],
      "text/plain": [
       "  T           \n",
       "φ₂ ⋅K⋅φ₁ = [0]"
      ]
     },
     "metadata": {},
     "output_type": "display_data"
    },
    {
     "data": {
      "text/latex": [
       "\\begin{equation*}\\phi_{1}^{T} K \\phi_{2} = \\left[\\begin{matrix}0\\end{matrix}\\right]\\end{equation*}"
      ],
      "text/plain": [
       "  T           \n",
       "φ₁ ⋅K⋅φ₂ = [0]"
      ]
     },
     "metadata": {},
     "output_type": "display_data"
    }
   ],
   "source": [
    "render.eq_display(sp.MatrixSymbol('phi_1',2,1).T*sp.MatrixSymbol('K', 2,2)*sp.MatrixSymbol('phi_1',2,1),sp.simplify((phi_1.T*K*phi_1).subs(params)).evalf(3),\n",
    "                  \n",
    "                  sp.MatrixSymbol('phi_2',2,1).T*sp.MatrixSymbol('K', 2,2)*sp.MatrixSymbol('phi_2',2,1),sp.simplify((phi_2.T*K*phi_2).subs(params)).evalf(3),\n",
    "\n",
    "                  sp.MatrixSymbol('phi_2',2,1).T*sp.MatrixSymbol('K', 2,2)*sp.MatrixSymbol('phi_1',2,1),sp.simplify((phi_2.T*K*phi_1).subs(params)).evalf(4),\n",
    "                  \n",
    "                  sp.MatrixSymbol('phi_1',2,1).T*sp.MatrixSymbol('K', 2,2)*sp.MatrixSymbol('phi_2',2,1),sp.simplify((phi_1.T*K*phi_2).subs(params)).evalf(4))"
   ]
  },
  {
   "cell_type": "markdown",
   "metadata": {},
   "source": [
    "#### Eigenformen\n",
    "\n",
    "![Die beiden Eigenformen skizziert](bilder/eigenformen_mms2.jpg){#fig-eigenformen}"
   ]
  },
  {
   "cell_type": "markdown",
   "metadata": {},
   "source": [
    "### Modale Analyse\n",
    "\n",
    "Die Bewegungsgleichung für einen ungedämpften, frei schwingenden Mehrmassenschwinger lässt sich folgend beschreiben:\n",
    "\n",
    "$$\\mathbf{M u''(t) + K u = 0}$$\n",
    "\n",
    "Die Matrix-Gleichung beschreibt ein System aus Differentialgleichungen. Die Modale Analyse zielt darauf ab, diese zu entkoppeln. Bezogen auf den Mehrmassenschwinger heisst eine Entkoppelung, dass diese in Einmassenschwinger aufgeteilt werden. Dies wird nun schrittweise durchgeführt."
   ]
  },
  {
   "cell_type": "markdown",
   "metadata": {},
   "source": [
    "#### Modal- und Spektralmatrix\n",
    "\n",
    "Mittels der Modal- und Spektralmatrix können die generalisierten Grössen ermittelt werden. Diese sind die eigenschaften der einzelnen Einmassenschwinger. Die generalisierten Werte besitzen keine physikalischen Werte, sie sind abhängig von der Wahl der Eigenvektoren, welche bekanntlich von der Normierung abhängen.\n",
    "\n",
    "\n",
    "Aufgrund der Bewegungsgleichung können die generalisierten Grössen bestimmt werden, es gilt:\n",
    "\n",
    "$$\\mathbf{\\Phi^T M \\Phi u''(t) + \\Phi^T K \\Phi u(t) = 0}$$\n",
    "\n",
    "$$\\mathbf{M^*u''(t) + K^* u(t) = 0}$$\n",
    "\n",
    "Alle $N$-Eigenwerte und alle $N$-Eigenvektoren können kompakt\n",
    "mit Matrizen ausgedrückt werden:\n"
   ]
  },
  {
   "cell_type": "code",
   "execution_count": 60,
   "metadata": {},
   "outputs": [
    {
     "data": {
      "text/latex": [
       "\\begin{equation*}Modalmatrix = \\Phi\\end{equation*}"
      ],
      "text/plain": [
       "Modalmatrix = Φ"
      ]
     },
     "metadata": {},
     "output_type": "display_data"
    },
    {
     "data": {
      "text/latex": [
       "\\begin{equation*}\\Phi = \\left[\\begin{matrix}0.5 & -1.0\\\\1.0 & 1.0\\end{matrix}\\right]\\end{equation*}"
      ],
      "text/plain": [
       "    ⎡0.5  -1.0⎤\n",
       "Φ = ⎢         ⎥\n",
       "    ⎣1.0  1.0 ⎦"
      ]
     },
     "metadata": {},
     "output_type": "display_data"
    },
    {
     "data": {
      "text/latex": [
       "\\begin{equation*}Spektralmatrix = \\Omega^{2}\\end{equation*}"
      ],
      "text/plain": [
       "                  2\n",
       "Spektralmatrix = Ω "
      ]
     },
     "metadata": {},
     "output_type": "display_data"
    },
    {
     "data": {
      "text/latex": [
       "\\begin{equation*}\\Omega^{2} = \\left[\\begin{matrix}\\frac{1099.0}{\\text{s}^{2}} & 0\\\\0 & \\frac{4395.0}{\\text{s}^{2}}\\end{matrix}\\right]\\end{equation*}"
      ],
      "text/plain": [
       "     ⎡ 1099.0         ⎤\n",
       "     ⎢───────     0   ⎥\n",
       "     ⎢      2         ⎥\n",
       "     ⎢second          ⎥\n",
       "Ω² = ⎢                ⎥\n",
       "     ⎢          4395.0⎥\n",
       "     ⎢   0     ───────⎥\n",
       "     ⎢               2⎥\n",
       "     ⎣         second ⎦"
      ]
     },
     "metadata": {},
     "output_type": "display_data"
    }
   ],
   "source": [
    "Phi = sp.Matrix([[phi_1, phi_2]])\n",
    "Omega = sp.Matrix([[omega_1, 0],[0, omega_2]])\n",
    "\n",
    "render.eq_display('Modalmatrix', 'Phi',\n",
    "                  sp.MatrixSymbol('Phi', 2, 2), Phi.subs(params).evalf(4),\n",
    "                  'Spektralmatrix', 'Omega^2',\n",
    "                  sp.MatrixSymbol('Omega^2', 2, 2), (Omega**2).subs(params).evalf(4))"
   ]
  },
  {
   "cell_type": "markdown",
   "metadata": {},
   "source": [
    "#### Generalisierte Grössen\n"
   ]
  },
  {
   "cell_type": "code",
   "execution_count": 61,
   "metadata": {},
   "outputs": [
    {
     "data": {
      "text/latex": [
       "\\begin{equation*}M^{\\star} = \\left[\\begin{matrix}\\frac{30000.0 \\text{N} \\text{s}^{2}}{\\text{m}} & 0\\\\0 & \\frac{60000.0 \\text{N} \\text{s}^{2}}{\\text{m}}\\end{matrix}\\right]\\end{equation*}"
      ],
      "text/plain": [
       "           ⎡                     2                        ⎤\n",
       "           ⎢30000.0⋅newton⋅second                         ⎥\n",
       "           ⎢──────────────────────            0           ⎥\n",
       "           ⎢        meter                                 ⎥\n",
       "M__\\star = ⎢                                              ⎥\n",
       "           ⎢                                             2⎥\n",
       "           ⎢                        60000.0⋅newton⋅second ⎥\n",
       "           ⎢          0             ──────────────────────⎥\n",
       "           ⎣                                meter         ⎦"
      ]
     },
     "metadata": {},
     "output_type": "display_data"
    },
    {
     "data": {
      "text/latex": [
       "\\begin{equation*}K^{\\star} = \\left[\\begin{matrix}\\frac{3.2959 \\cdot 10^{7} \\text{N}}{\\text{m}} & 0\\\\0 & \\frac{2.6367 \\cdot 10^{8} \\text{N}}{\\text{m}}\\end{matrix}\\right]\\end{equation*}"
      ],
      "text/plain": [
       "           ⎡3.2959e+7⋅newton                  ⎤\n",
       "           ⎢────────────────         0        ⎥\n",
       "           ⎢     meter                        ⎥\n",
       "K__\\star = ⎢                                  ⎥\n",
       "           ⎢                  2.6367e+8⋅newton⎥\n",
       "           ⎢       0          ────────────────⎥\n",
       "           ⎣                       meter      ⎦"
      ]
     },
     "metadata": {},
     "output_type": "display_data"
    }
   ],
   "source": [
    "M_star = Phi.T * M * Phi\n",
    "K_star = Phi.T * K * Phi\n",
    "\n",
    "\n",
    "render.eq_display(sp.MatrixSymbol('M^\\star', 2,2),sp.simplify(M_star.subs(params)).evalf(5),\n",
    "                  sp.MatrixSymbol('K^\\star', 2,2),sp.simplify(K_star.subs(params)).evalf(5))\n",
    "                 "
   ]
  },
  {
   "cell_type": "markdown",
   "metadata": {},
   "source": [
    "#### Kontrolle der modalen Transformation"
   ]
  },
  {
   "cell_type": "code",
   "execution_count": 62,
   "metadata": {},
   "outputs": [
    {
     "data": {
      "text/latex": [
       "\\begin{equation*}\\omega_{1} = \\frac{33.1}{\\text{s}}\\end{equation*}"
      ],
      "text/plain": [
       "      33.1 \n",
       "ω₁ = ──────\n",
       "     second"
      ]
     },
     "metadata": {},
     "output_type": "display_data"
    },
    {
     "data": {
      "text/latex": [
       "\\begin{equation*}\\omega_{1 modal} = \\frac{33.1}{\\text{s}}\\end{equation*}"
      ],
      "text/plain": [
       "             33.1 \n",
       "ω_1_modal = ──────\n",
       "            second"
      ]
     },
     "metadata": {},
     "output_type": "display_data"
    },
    {
     "data": {
      "text/latex": [
       "\\begin{equation*}\\omega_{2} = \\frac{66.29}{\\text{s}}\\end{equation*}"
      ],
      "text/plain": [
       "     66.29 \n",
       "ω₂ = ──────\n",
       "     second"
      ]
     },
     "metadata": {},
     "output_type": "display_data"
    },
    {
     "data": {
      "text/latex": [
       "\\begin{equation*}\\omega_{2 modal} = \\frac{66.29}{\\text{s}}\\end{equation*}"
      ],
      "text/plain": [
       "            66.29 \n",
       "ω_2_modal = ──────\n",
       "            second"
      ]
     },
     "metadata": {},
     "output_type": "display_data"
    }
   ],
   "source": [
    "omega_1_kontrolle = sp.sqrt(K_star[0] / M_star[0])\n",
    "omega_2_kontrolle = sp.sqrt(K_star[3] / M_star[3])\n",
    "\n",
    "render.eq_display('omega_1', omega_1.subs(params).simplify().evalf(3),\n",
    "                  'omega_1_modal', omega_1_kontrolle.subs(params).simplify().evalf(3),\n",
    "                  'omega_2', omega_2.subs(params).simplify().evalf(4),\n",
    "                  'omega_2_modal', omega_2_kontrolle.subs(params).simplify().evalf(4))\n",
    "\n",
    "\n"
   ]
  },
  {
   "cell_type": "markdown",
   "metadata": {},
   "source": [
    "#### Partizipationsfaktor $\\Gamma$"
   ]
  },
  {
   "cell_type": "markdown",
   "metadata": {},
   "source": [
    "Die Verteilung des Partizipationsfaktor gibt einen direkten Hinweis, welcher Eigenmode an der Gesamtanwort den grössten Einfluss (beteiligt bzw. partizipiert) hat.\n",
    "\n",
    "$$\\Gamma_n = \\frac{\\Phi_n^T \\mathbf{M 1}}{\\Phi_n^T \\mathbf{M}\\Phi_n}$$\n",
    "\n",
    "In allgemeiner Form lautet der Partizipationsfaktor:\n",
    "\n",
    "$$\\Gamma_n = \\frac{\\Phi_n^T \\mathbf{M r^\\star}}{\\Phi_n^T \\mathbf{M}\\Phi_n}$$\n",
    "\n",
    "$\\mathbf{r^\\star}$ beschreibt die Starrkörperverschiebung infolge der Erdbebenanregung $u_g$ am Fusspunktb des Gesamtsystems.\n",
    "\n",
    "\n",
    "\n",
    "$$\\mathbf{r^\\star} = \\begin{bmatrix}\n",
    "FHG_1 \\\\\n",
    "FHG_2 \n",
    "\\end{bmatrix}=\n",
    "\\begin{bmatrix}\n",
    "\\cos(0) \\\\\n",
    "\\cos(0) \n",
    "\\end{bmatrix}=\n",
    "\\begin{bmatrix}\n",
    "1 \\\\\n",
    "1 \n",
    "\\end{bmatrix}= \\mathbf{1}$$\n"
   ]
  },
  {
   "cell_type": "code",
   "execution_count": 63,
   "metadata": {},
   "outputs": [
    {
     "data": {
      "text/latex": [
       "\\begin{equation*}\\Gamma_{1} = \\frac{m_{1} \\phi_{11} + m_{2} \\phi_{21}}{m_{1} \\phi_{11}^{2} + m_{2} \\phi_{21}^{2}}\\end{equation*}"
      ],
      "text/plain": [
       "      m₁⋅φ₁₁ + m₂⋅φ₂₁ \n",
       "Γ₁ = ─────────────────\n",
       "           2         2\n",
       "     m₁⋅φ₁₁  + m₂⋅φ₂₁ "
      ]
     },
     "metadata": {},
     "output_type": "display_data"
    },
    {
     "data": {
      "text/latex": [
       "\\begin{equation*}\\Gamma_{1} = 1.33\\end{equation*}"
      ],
      "text/plain": [
       "Γ₁ = 1.33"
      ]
     },
     "metadata": {},
     "output_type": "display_data"
    },
    {
     "data": {
      "text/latex": [
       "\\begin{equation*}\\Gamma_{2} = \\frac{m_{1} \\phi_{12} + m_{2} \\phi_{22}}{m_{1} \\phi_{12}^{2} + m_{2} \\phi_{22}^{2}}\\end{equation*}"
      ],
      "text/plain": [
       "      m₁⋅φ₁₂ + m₂⋅φ₂₂ \n",
       "Γ₂ = ─────────────────\n",
       "           2         2\n",
       "     m₁⋅φ₁₂  + m₂⋅φ₂₂ "
      ]
     },
     "metadata": {},
     "output_type": "display_data"
    },
    {
     "data": {
      "text/latex": [
       "\\begin{equation*}\\Gamma_{2} = -0.333\\end{equation*}"
      ],
      "text/plain": [
       "Γ₂ = -0.333"
      ]
     },
     "metadata": {},
     "output_type": "display_data"
    },
    {
     "data": {
      "text/latex": [
       "\\begin{equation*}\\Gamma^{2}_{n} = \\left[\\begin{matrix}1.78\\\\0.111\\end{matrix}\\right]\\end{equation*}"
      ],
      "text/plain": [
       "      ⎡1.78 ⎤\n",
       "Γ²ₙ = ⎢     ⎥\n",
       "      ⎣0.111⎦"
      ]
     },
     "metadata": {},
     "output_type": "display_data"
    }
   ],
   "source": [
    "one_vec = sp.ones(2,1)\n",
    "\n",
    "gamma_1 = (phi_1.T*M*one_vec)[0]/(phi_1.T*M*phi_1)[0]\n",
    "gamma_2 = (phi_2.T*M*one_vec)[0]/(phi_2.T*M*phi_2)[0]\n",
    "gamma_sqr = sp.Matrix([[gamma_1**2],[gamma_2**2]])\n",
    "render.eq_display('Gamma_1', gamma_1,\n",
    "                  'Gamma_1', gamma_1.subs(params).evalf(3),\n",
    "                  'Gamma_2', gamma_2,\n",
    "                  'Gamma_2', gamma_2.subs(params).evalf(3),\n",
    "                  sp.MatrixSymbol('Gamma^2_n',2,1),gamma_sqr.subs(params).evalf(3))"
   ]
  },
  {
   "cell_type": "markdown",
   "metadata": {},
   "source": [
    "#### Effektive Modale Massen\n",
    "\n",
    "Durch Multiplikation der Modalen Massen mit dem Partizipationsfaktor resultieren die effektiven Modalen Massen."
   ]
  },
  {
   "cell_type": "code",
   "execution_count": 64,
   "metadata": {},
   "outputs": [
    {
     "data": {
      "text/latex": [
       "\\begin{equation*}m_{1eff} = \\frac{5.33 \\cdot 10^{4} \\text{N} \\text{s}^{2}}{\\text{m}}\\end{equation*}"
      ],
      "text/plain": [
       "                              2\n",
       "         5.33e+4⋅newton⋅second \n",
       "m_1eff = ──────────────────────\n",
       "                 meter         "
      ]
     },
     "metadata": {},
     "output_type": "display_data"
    },
    {
     "data": {
      "text/latex": [
       "\\begin{equation*}m_{2eff} = \\frac{6.67 \\cdot 10^{3} \\text{N} \\text{s}^{2}}{\\text{m}}\\end{equation*}"
      ],
      "text/plain": [
       "                              2\n",
       "         6.67e+3⋅newton⋅second \n",
       "m_2eff = ──────────────────────\n",
       "                 meter         "
      ]
     },
     "metadata": {},
     "output_type": "display_data"
    },
    {
     "data": {
      "text/latex": [
       "\\begin{equation*}m_{tot} = \\frac{6.0 \\cdot 10^{4} \\text{N} \\text{s}^{2}}{\\text{m}}\\end{equation*}"
      ],
      "text/plain": [
       "                           2\n",
       "       6.0e+4⋅newton⋅second \n",
       "mₜₒₜ = ─────────────────────\n",
       "               meter        "
      ]
     },
     "metadata": {},
     "output_type": "display_data"
    }
   ],
   "source": [
    "m_1_eff = gamma_1**2 * M_star[0]\n",
    "m_2_eff = gamma_2**2 * M_star[3]\n",
    "\n",
    "render.eq_display('m_1eff', m_1_eff.subs(params).evalf(3),\n",
    "                  'm_2eff', m_2_eff.subs(params).evalf(3),\n",
    "                  'm_tot', (m_1_eff+m_2_eff).subs(params).evalf(3))\n"
   ]
  },
  {
   "cell_type": "markdown",
   "metadata": {},
   "source": [
    "#### Modale Höhen"
   ]
  },
  {
   "cell_type": "code",
   "execution_count": 65,
   "metadata": {},
   "outputs": [
    {
     "data": {
      "text/latex": [
       "\\begin{equation*}h_{1} = \\frac{H m_{1} \\phi_{11} + H m_{2} \\phi_{12}}{m_{1} \\phi_{11} + m_{2} \\phi_{12}}\\end{equation*}"
      ],
      "text/plain": [
       "     H⋅m₁⋅φ₁₁ + H⋅m₂⋅φ₁₂\n",
       "h₁ = ───────────────────\n",
       "       m₁⋅φ₁₁ + m₂⋅φ₁₂  "
      ]
     },
     "metadata": {},
     "output_type": "display_data"
    },
    {
     "data": {
      "text/latex": [
       "\\begin{equation*}\\text{False}\\end{equation*}"
      ],
      "text/plain": [
       "False"
      ]
     },
     "metadata": {},
     "output_type": "display_data"
    },
    {
     "data": {
      "text/latex": [
       "\\begin{equation*}h_{2} = \\frac{H m_{1} \\phi_{21} + H m_{2} \\phi_{22}}{m_{1} \\phi_{21} + m_{2} \\phi_{22}}\\end{equation*}"
      ],
      "text/plain": [
       "     H⋅m₁⋅φ₂₁ + H⋅m₂⋅φ₂₂\n",
       "h₂ = ───────────────────\n",
       "       m₁⋅φ₂₁ + m₂⋅φ₂₂  "
      ]
     },
     "metadata": {},
     "output_type": "display_data"
    },
    {
     "data": {
      "text/latex": [
       "\\begin{equation*}h_{2} = 3.2 \\text{m}\\end{equation*}"
      ],
      "text/plain": [
       "h₂ = 3.2⋅meter"
      ]
     },
     "metadata": {},
     "output_type": "display_data"
    }
   ],
   "source": [
    "\n",
    "h_1_star = (H*m_1*phi_11 + H*m_2*phi_12)  / (m_1 * phi_11 + m_2 * phi_12)\n",
    "h_2_star = (H*m_1*phi_21 + H*m_2*phi_22)  / (m_1 * phi_21 + m_2 * phi_22)\n",
    "\n",
    "render.eq_display(\"h_1\" , \"(H*m_1*phi_11 + H*m_2*phi_12)  / (m_1 * phi_11 + m_2 * phi_12)\",\n",
    "'h_1', h_1_star.subs(params),\n",
    "\"h_2\" , \"(H*m_1*phi_21 + H*m_2*phi_22)  / (m_1 * phi_21 + m_2 * phi_22)\",\n",
    "'h_2', h_2_star.subs(params))"
   ]
  },
  {
   "cell_type": "markdown",
   "metadata": {},
   "source": [
    "### Elastisches Antwortspektrum\n",
    "\n",
    "Dem Vorgehen nach [@SIA261_2020] Abs. 16.2.3.1 entsprechend, werden folgende Parameter definiert:\n",
    "\n",
    "- Baugrundklasse B\n",
    "- Erdbebenzone Z2\n",
    "- $a_{gd} = 1.0 \\text{ m}/\\text{s}^2$"
   ]
  },
  {
   "cell_type": "code",
   "execution_count": 66,
   "metadata": {},
   "outputs": [],
   "source": [
    "T_B = 0.08*unit.second\n",
    "T_C = 0.35*unit.second\n",
    "T_D = 2*unit.second\n",
    "S=1.2\n",
    "eta = 1.0\n",
    "a_gd = 1*unit.m/unit.second**2"
   ]
  },
  {
   "cell_type": "markdown",
   "metadata": {},
   "source": [
    "#### Grundschwingzeit\n",
    "\n",
    "Die Grundschwingzeit kann anhand der bereits ermittelten Eigenkreisfrequenzen ermittelt werden."
   ]
  },
  {
   "cell_type": "code",
   "execution_count": 67,
   "metadata": {},
   "outputs": [
    {
     "data": {
      "text/latex": [
       "\\begin{equation*}T_{1} = 0.19 \\text{s}\\end{equation*}"
      ],
      "text/plain": [
       "T₁ = 0.19⋅second"
      ]
     },
     "metadata": {},
     "output_type": "display_data"
    },
    {
     "data": {
      "text/latex": [
       "\\begin{equation*}T_{2} = 0.0948 \\text{s}\\end{equation*}"
      ],
      "text/plain": [
       "T₂ = 0.0948⋅second"
      ]
     },
     "metadata": {},
     "output_type": "display_data"
    }
   ],
   "source": [
    "T_1 = (omega_1 /(2*sp.pi))**-1\n",
    "T_2 = (omega_2 /(2*sp.pi))**-1\n",
    "\n",
    "render.eq_display('T_1', T_1.subs(params).evalf(3),\n",
    "                  'T_2', T_2.subs(params).evalf(3),\n",
    "                  )"
   ]
  },
  {
   "cell_type": "markdown",
   "metadata": {},
   "source": [
    "#### Elastisches Antwortspektrum"
   ]
  },
  {
   "cell_type": "code",
   "execution_count": 68,
   "metadata": {},
   "outputs": [],
   "source": [
    "def antwortspektrum(a_gd,T, Baugrundklasse='A', eta=1):\n",
    "    from sympy.physics.units import second\n",
    "\n",
    "    # Baugrundklassen\n",
    "    Baugrundklassen = {\n",
    "        'A': {\n",
    "            'T_B':0.07*second,\n",
    "            'T_C':0.25*second,\n",
    "            'T_D':2.0*second,\n",
    "            'S':1.0,\n",
    "        },\n",
    "        'B': {\n",
    "            'T_B':0.08*second,\n",
    "            'T_C':0.35*second,\n",
    "            'T_D':2.0*second,\n",
    "            'S':1.2,\n",
    "        },\n",
    "        'C': {\n",
    "            'T_B':0.10*second,\n",
    "            'T_C':0.4*second,\n",
    "            'T_D':2.0*second,\n",
    "            'S':1.45,\n",
    "        },\n",
    "        'D': {\n",
    "            'T_B':0.10*second,\n",
    "            'T_C':0.5*second,\n",
    "            'T_D':2.0*second,\n",
    "            'S':1.7,\n",
    "        },\n",
    "        'E': {\n",
    "            'T_B':0.09*second,\n",
    "            'T_C':0.25*second,\n",
    "            'T_D':2.0*second,\n",
    "            'S':1.7,\n",
    "        }\n",
    "    }\n",
    "\n",
    "    # Gewünschte Baugrundklasse auswählen\n",
    "    params = Baugrundklassen[Baugrundklasse]\n",
    "    T_B = params['T_B']\n",
    "    T_C = params['T_C']\n",
    "    T_D = params['T_D']\n",
    "    S = params['S']\n",
    "\n",
    "    if T<=T_B:\n",
    "        render.eq_display('S_e','a_gd*S_*(1+(2.5*eta_-1)*T/T_B)')\n",
    "        return a_gd * S *(1+(2.5*eta-1)*T/T_B)\n",
    "    \n",
    "    if T_B<T<=T_C:\n",
    "        render.eq_display('S_e','2.5*a_gd*S_*eta')\n",
    "        return 2.5*a_gd*S*eta\n",
    "    \n",
    "    if T_C<T<=T_D:\n",
    "        render.eq_display('S_e', '2.5*a_gd*S_*eta*T_C/T')\n",
    "        return 2.5*a_gd*S*eta*T_C/T\n",
    "    \n",
    "    if T_D<=T:\n",
    "        render.eq_display('S_e', '2.5*a_gd*S_*eta*T_C*T_D/T**2')\n",
    "        return 2.5*a_gd*S*eta*T_C*T_D/T**2\n",
    "    \n",
    "    else:\n",
    "        print('Falsche Eingabe')\n"
   ]
  },
  {
   "cell_type": "code",
   "execution_count": 69,
   "metadata": {},
   "outputs": [
    {
     "data": {
      "text/latex": [
       "\\begin{equation*}S_{e} = 2.5 S_{} a_{gd} \\eta\\end{equation*}"
      ],
      "text/plain": [
       "Sₑ = 2.5⋅S⋅a_gd⋅η"
      ]
     },
     "metadata": {},
     "output_type": "display_data"
    },
    {
     "data": {
      "text/latex": [
       "\\begin{equation*}S_{e 1} = \\frac{3.0 \\text{m}}{\\text{s}^{2}}\\end{equation*}"
      ],
      "text/plain": [
       "       3.0⋅meter\n",
       "Sₑ ₁ = ─────────\n",
       "              2 \n",
       "        second  "
      ]
     },
     "metadata": {},
     "output_type": "display_data"
    }
   ],
   "source": [
    "\n",
    "S_e_1 = antwortspektrum(a_gd, T_1.subs(params).evalf(3), Baugrundklasse='B')\n",
    "render.eq_display('S_e_1', S_e_1.evalf(3))"
   ]
  },
  {
   "cell_type": "code",
   "execution_count": 70,
   "metadata": {},
   "outputs": [
    {
     "data": {
      "text/latex": [
       "\\begin{equation*}S_{e} = 2.5 S_{} a_{gd} \\eta\\end{equation*}"
      ],
      "text/plain": [
       "Sₑ = 2.5⋅S⋅a_gd⋅η"
      ]
     },
     "metadata": {},
     "output_type": "display_data"
    },
    {
     "data": {
      "text/latex": [
       "\\begin{equation*}S_{e 2} = \\frac{3.0 \\text{m}}{\\text{s}^{2}}\\end{equation*}"
      ],
      "text/plain": [
       "       3.0⋅meter\n",
       "Sₑ ₂ = ─────────\n",
       "              2 \n",
       "        second  "
      ]
     },
     "metadata": {},
     "output_type": "display_data"
    }
   ],
   "source": [
    "S_e_2 = antwortspektrum(a_gd, T_2.subs(params).evalf(3), Baugrundklasse='B')\n",
    "\n",
    "render.eq_display('S_e_2', S_e_2.evalf(3))"
   ]
  },
  {
   "cell_type": "markdown",
   "metadata": {},
   "source": [
    "#### Bemessungsspektrum\n",
    "\n",
    "Es wird lediglich auf charakteristischem Niveau die Kräfte bestimmt"
   ]
  },
  {
   "cell_type": "code",
   "execution_count": 71,
   "metadata": {},
   "outputs": [],
   "source": [
    "q = 1.5\n",
    "yf = 1.5"
   ]
  },
  {
   "cell_type": "code",
   "execution_count": 72,
   "metadata": {},
   "outputs": [],
   "source": [
    "def bemessungsspektrum(T_B, T_C, T_D, q, yf, S, a_gd,T):\n",
    "    g = 9.81*unit.m/unit.second**2\n",
    "    if T<=T_B:\n",
    "        render.eq_display('S_d','yf*a_gd/g*S_*(0.67+(2.5/q-0.67)*T/T_B)')\n",
    "        return yf*a_gd/g*S*(0.67+(2.5/q-0.67)*T/T_B)\n",
    "    \n",
    "    if T_B<T<=T_C:\n",
    "        render.eq_display('S_d','2.5*yf*a_gd/g*S_/q')\n",
    "        return 2.5*yf*a_gd/g*S/q\n",
    "    \n",
    "    if T_C<T<=T_D:\n",
    "        render.eq_display('S_e', '2.5*yf*a_gd/g*S_*T_C/(T*q)')\n",
    "        return 2.5*yf*a_gd/g*S*T_C/(T*q)\n",
    "    \n",
    "    if T_D<=T:\n",
    "        return max([2.5*yf*a_gd/g*S*T_C*T_D/(T**2*q),0.1*yf*a_gd/g])\n",
    "    \n",
    "    else:\n",
    "        print('Falsche Eingabe')"
   ]
  },
  {
   "cell_type": "markdown",
   "metadata": {},
   "source": [
    "#### Einwirkungen"
   ]
  },
  {
   "cell_type": "code",
   "execution_count": 73,
   "metadata": {},
   "outputs": [
    {
     "data": {
      "text/latex": [
       "\\begin{equation*}f_{11} = S_{e 1} \\gamma_{1} m_{1 eff} \\phi_{11}\\end{equation*}"
      ],
      "text/plain": [
       "f₁₁ = Sₑ ₁⋅γ₁⋅m_1_eff⋅φ₁₁"
      ]
     },
     "metadata": {},
     "output_type": "display_data"
    },
    {
     "data": {
      "text/latex": [
       "\\begin{equation*}f_{21} = S_{e 1} \\gamma_{1} m_{2 eff} \\phi_{21}\\end{equation*}"
      ],
      "text/plain": [
       "f₂₁ = Sₑ ₁⋅γ₁⋅m_2_eff⋅φ₂₁"
      ]
     },
     "metadata": {},
     "output_type": "display_data"
    },
    {
     "data": {
      "text/latex": [
       "\\begin{equation*}f_{12} = S_{e 2} \\gamma_{2} m_{1 eff} \\phi_{12}\\end{equation*}"
      ],
      "text/plain": [
       "f₁₂ = Sₑ ₂⋅γ₂⋅m_1_eff⋅φ₁₂"
      ]
     },
     "metadata": {},
     "output_type": "display_data"
    },
    {
     "data": {
      "text/latex": [
       "\\begin{equation*}f_{22} = S_{e 2} \\gamma_{2} m_{2 eff} \\phi_{22}\\end{equation*}"
      ],
      "text/plain": [
       "f₂₂ = Sₑ ₂⋅γ₂⋅m_2_eff⋅φ₂₂"
      ]
     },
     "metadata": {},
     "output_type": "display_data"
    },
    {
     "data": {
      "text/latex": [
       "\\begin{equation*}f_{jn} = \\left[\\begin{matrix}1.07 \\cdot 10^{5} \\text{N} & 5.33 \\cdot 10^{4} \\text{N}\\\\5.33 \\cdot 10^{4} \\text{N} & - 6.67 \\cdot 10^{3} \\text{N}\\end{matrix}\\right]\\end{equation*}"
      ],
      "text/plain": [
       "       ⎡1.07e+5⋅newton  5.33e+4⋅newton ⎤\n",
       "f_jn = ⎢                               ⎥\n",
       "       ⎣5.33e+4⋅newton  -6.67e+3⋅newton⎦"
      ]
     },
     "metadata": {},
     "output_type": "display_data"
    }
   ],
   "source": [
    "f_11 = gamma_1*m_1_eff*phi_11*S_e_1\n",
    "f_21 = gamma_1*m_2_eff*phi_21*S_e_1\n",
    "\n",
    "f_12 = gamma_2*m_1_eff*phi_12*S_e_2\n",
    "f_22 = gamma_2*m_2_eff*phi_22*S_e_2\n",
    "\n",
    "\n",
    "f_jn = sp.Matrix([[f_11, f_12],[f_12,f_22]])\n",
    "\n",
    "render.eq_display(\"f_11 \", \"gamma_1*m_1_eff*phi_11*S_e_1\",\n",
    "\"f_21\" , \"gamma_1*m_2_eff*phi_21*S_e_1\",\n",
    "\"f_12\" , \"gamma_2*m_1_eff*phi_12*S_e_2\",\n",
    "\"f_22\" , \"gamma_2*m_2_eff*phi_22*S_e_2\",\n",
    "\n",
    "\n",
    "sp.MatrixSymbol('f_jn', 2,2),f_jn.subs(params).evalf(3))"
   ]
  },
  {
   "cell_type": "markdown",
   "metadata": {},
   "source": [
    "#### Deformation"
   ]
  },
  {
   "cell_type": "code",
   "execution_count": 74,
   "metadata": {},
   "outputs": [
    {
     "data": {
      "text/latex": [
       "\\begin{equation*}u_{11} = \\frac{S_{e 1} \\gamma_{1} \\phi_{11}}{\\omega_{1}^{2}}\\end{equation*}"
      ],
      "text/plain": [
       "      Sₑ ₁⋅γ₁⋅φ₁₁\n",
       "u₁₁ = ───────────\n",
       "            2    \n",
       "          ω₁     "
      ]
     },
     "metadata": {},
     "output_type": "display_data"
    },
    {
     "data": {
      "text/latex": [
       "\\begin{equation*}u_{21} = \\frac{S_{e 1} \\gamma_{1} \\phi_{21}}{\\omega_{1}^{2}}\\end{equation*}"
      ],
      "text/plain": [
       "      Sₑ ₁⋅γ₁⋅φ₂₁\n",
       "u₂₁ = ───────────\n",
       "            2    \n",
       "          ω₁     "
      ]
     },
     "metadata": {},
     "output_type": "display_data"
    },
    {
     "data": {
      "text/latex": [
       "\\begin{equation*}u_{12} = \\frac{S_{e 2} \\gamma_{2} \\phi_{12}}{\\omega_{2}^{2}}\\end{equation*}"
      ],
      "text/plain": [
       "      Sₑ ₂⋅γ₂⋅φ₁₂\n",
       "u₁₂ = ───────────\n",
       "            2    \n",
       "          ω₂     "
      ]
     },
     "metadata": {},
     "output_type": "display_data"
    },
    {
     "data": {
      "text/latex": [
       "\\begin{equation*}u_{22} = \\frac{S_{e 2} \\gamma_{2} \\phi_{22}}{\\omega_{2}^{2}}\\end{equation*}"
      ],
      "text/plain": [
       "      Sₑ ₂⋅γ₂⋅φ₂₂\n",
       "u₂₂ = ───────────\n",
       "            2    \n",
       "          ω₂     "
      ]
     },
     "metadata": {},
     "output_type": "display_data"
    },
    {
     "data": {
      "text/latex": [
       "\\begin{equation*}u_{jn} = \\left[\\begin{matrix}1.82 \\text{mm} & 0.228 \\text{mm}\\\\0.228 \\text{mm} & - 0.228 \\text{mm}\\end{matrix}\\right]\\end{equation*}"
      ],
      "text/plain": [
       "       ⎡1.82⋅millimeter   0.228⋅millimeter ⎤\n",
       "u_jn = ⎢                                   ⎥\n",
       "       ⎣0.228⋅millimeter  -0.228⋅millimeter⎦"
      ]
     },
     "metadata": {},
     "output_type": "display_data"
    }
   ],
   "source": [
    "u_11 = gamma_1*phi_11*S_e_1/omega_1**2\n",
    "u_21 = gamma_1*phi_21*S_e_1/omega_1**2\n",
    "u_12 = gamma_2*phi_12*S_e_2/omega_2**2\n",
    "u_22 = gamma_2*phi_22*S_e_2/omega_2**2\n",
    "\n",
    "\n",
    "u_jn = sp.Matrix([[u_11, u_12],[u_12,u_22]])\n",
    "\n",
    "render.eq_display(\"u_11\" ,\" gamma_1*phi_11*S_e_1/omega_1**2\",\n",
    "\"u_21\" , \"gamma_1*phi_21*S_e_1/omega_1**2\",\n",
    "\"u_12\" , \"gamma_2*phi_12*S_e_2/omega_2**2\",\n",
    "\"u_22\" ,\"gamma_2*phi_22*S_e_2/omega_2**2\",\n",
    "    \n",
    "    sp.MatrixSymbol('u_jn', 2,2),unit.convert_to(u_jn.subs(params).evalf(3),unit.mm))"
   ]
  },
  {
   "cell_type": "markdown",
   "metadata": {},
   "source": [
    "### Überlagerung der EMS\n",
    "\n",
    "Um die Entkoppelung rückzuführen gilt es die erhaltenen Resultate zu überlagern. Dabei gibt es unterschiedliche Ansätze. Bei weit auseinander liegenden Eigenfrequenzen kann die SRSS-Überlagerung verwendet werden.\n",
    "\n",
    "$$V_{b2max} = \\sqrt{\\sum_{n=1}^2 f_{j,n}^2}$$"
   ]
  },
  {
   "cell_type": "code",
   "execution_count": 75,
   "metadata": {},
   "outputs": [
    {
     "data": {
      "text/latex": [
       "\\begin{equation*}V_{b1 max} = \\sqrt{f_{11}^{2} + f_{12}^{2}}\\end{equation*}"
      ],
      "text/plain": [
       "              _____________\n",
       "             ╱    2      2 \n",
       "V_b1_max = ╲╱  f₁₁  + f₁₂  "
      ]
     },
     "metadata": {},
     "output_type": "display_data"
    },
    {
     "data": {
      "text/latex": [
       "\\begin{equation*}V_{b1max} = 1.19 \\cdot 10^{5} \\text{N}\\end{equation*}"
      ],
      "text/plain": [
       "V_b1max = 1.19e+5⋅newton"
      ]
     },
     "metadata": {},
     "output_type": "display_data"
    },
    {
     "data": {
      "text/latex": [
       "\\begin{equation*}V_{b2 max} = \\sqrt{f_{21}^{2} + f_{22}^{2}}\\end{equation*}"
      ],
      "text/plain": [
       "              _____________\n",
       "             ╱    2      2 \n",
       "V_b2_max = ╲╱  f₂₁  + f₂₂  "
      ]
     },
     "metadata": {},
     "output_type": "display_data"
    },
    {
     "data": {
      "text/latex": [
       "\\begin{equation*}V_{b2max} = 2.75 \\cdot 10^{4} \\text{N}\\end{equation*}"
      ],
      "text/plain": [
       "V_b2max = 2.75e+4⋅newton"
      ]
     },
     "metadata": {},
     "output_type": "display_data"
    }
   ],
   "source": [
    "V_b1_max = sp.sqrt(f_11**2 + f_12**2)\n",
    "V_b2_max = sp.sqrt(f_21**2 + f_22**2)\n",
    "\n",
    "render.eq_display(\"V_b1_max\" ,\"sqrt(f_11**2 + f_12**2)\",\n",
    "'V_b1max',V_b1_max.subs(params).evalf(3),\n",
    "\"V_b2_max\" , \"sqrt(f_21**2 + f_22**2)\",\n",
    "'V_b2max', V_b2_max.subs(params).evalf(3))"
   ]
  },
  {
   "cell_type": "markdown",
   "metadata": {},
   "source": [
    "Deformationen:\n",
    "\n",
    "$$u_{bn} = \\sqrt{\\sum_{n=1}^2 u_{j,n}^2}$$"
   ]
  },
  {
   "cell_type": "code",
   "execution_count": 76,
   "metadata": {},
   "outputs": [
    {
     "data": {
      "text/latex": [
       "\\begin{equation*}u_{b1} = \\sqrt{u_{11}^{2} + u_{12}^{2}}\\end{equation*}"
      ],
      "text/plain": [
       "          _____________\n",
       "         ╱    2      2 \n",
       "u_b1 = ╲╱  u₁₁  + u₁₂  "
      ]
     },
     "metadata": {},
     "output_type": "display_data"
    },
    {
     "data": {
      "text/latex": [
       "\\begin{equation*}u_{b1} = 1.83 \\text{mm}\\end{equation*}"
      ],
      "text/plain": [
       "u_b1 = 1.83⋅millimeter"
      ]
     },
     "metadata": {},
     "output_type": "display_data"
    },
    {
     "data": {
      "text/latex": [
       "\\begin{equation*}u_{b2} = \\sqrt{u_{21}^{2} + u_{22}^{2}}\\end{equation*}"
      ],
      "text/plain": [
       "          _____________\n",
       "         ╱    2      2 \n",
       "u_b2 = ╲╱  u₂₁  + u₂₂  "
      ]
     },
     "metadata": {},
     "output_type": "display_data"
    },
    {
     "data": {
      "text/latex": [
       "\\begin{equation*}u_{b2} = 3.65 \\text{mm}\\end{equation*}"
      ],
      "text/plain": [
       "u_b2 = 3.65⋅millimeter"
      ]
     },
     "metadata": {},
     "output_type": "display_data"
    }
   ],
   "source": [
    "u_b1 = sp.sqrt(u_11**2 + u_12**2)\n",
    "u_b2 = sp.sqrt(u_21**2 + u_22**2)\n",
    "\n",
    "render.eq_display(\n",
    "\"u_b1\" , \"sqrt(u_11**2 + u_12**2)\",\n",
    "'u_b1',unit.convert_to(u_b1.subs(params).evalf(3), unit.mm),\n",
    "\"u_b2\", \"sqrt(u_21**2 + u_22**2)\",\n",
    "'u_b2', unit.convert_to(u_b2.subs(params).evalf(3),unit.mm))"
   ]
  },
  {
   "cell_type": "markdown",
   "metadata": {},
   "source": [
    "[Skizze mit Schnittgrössen ergänzen]{.underline}"
   ]
  },
  {
   "cell_type": "markdown",
   "metadata": {},
   "source": [
    "{{< pagebreak >}}\n",
    "# Beispiel: Antwortspektrenverfahren an einem zweistöckigen Gebäude\n",
    "\n",
    "\n",
    "## Aufgabenstellung\n",
    "\n",
    "![Statisches System des zweistöckigen Gebäudes](bilder/zweistoeckig_objekt.jpg){#fig-zweistock}\n",
    "\n",
    "![Antwortspektren nach SIA261:2020](bilder/antwortspektren_norm.jpg){#fig-antwortspektren}\n",
    "\n",
    "Gesucht:\n",
    "\n",
    "- Eigenfrequenzen $\\omega_n$ \n",
    "- Darstellung der Eigenformen\n",
    "- Modal- und Spektralmatrix\n",
    "- Maximale Gesamtverformung mittels SRSS-Kombinationsregel aus dem Antwortspektrum der Pseudobeschleunigung (Kurve E in @fig-antwortspektren)\n",
    "- Resultierende Schnittgrössen\n",
    "\n",
    "Gegeben:\n",
    "\n",
    "- Biegesteifigkeit Stützen $EI_{(a-c)} = 1.2 \\cdot 10^6 \\text{Nmm}^2$\n",
    "- Biegesteifigkeit Stützen $EI_{(d)} = 1.0 \\cdot 10^6 \\text{Nmm}^2$\n",
    "- Massen $m_1 = 2.1 \\text{t}$ und $m_2 = 4.8 \\text{t}$\n",
    "- Stockwerkshöhen $H_1 = 3.81\\text{m}$ und $H_2 = 3 \\text{m}$\n",
    "\n",
    "\n",
    "Korrekte Angaben zur Ermittlung des Antwortspektrums\n"
   ]
  },
  {
   "cell_type": "markdown",
   "metadata": {},
   "source": [
    "{{< pagebreak >}}\n",
    "## Musterlösung\n"
   ]
  },
  {
   "cell_type": "code",
   "execution_count": 77,
   "metadata": {},
   "outputs": [
    {
     "data": {
      "text/markdown": [
       "| Parameter |  |\n",
       "|---|---|\n",
       "| $EI_{ac} = 550000.0 \\text{m}^{2} \\text{N}$ | $EI_{d} = 250000.0 \\text{m}^{2} \\text{N}$ |\n",
       "| $H_{1} = 3.81 \\text{m}$ | $H_{2} = 3 \\text{m}$ |\n",
       "| $m_{1} = \\frac{2100 \\text{N} \\text{s}^{2}}{\\text{m}}$ | $m_{2} = \\frac{4800 \\text{N} \\text{s}^{2}}{\\text{m}}$ |\n"
      ],
      "text/plain": [
       "<IPython.core.display.Markdown object>"
      ]
     },
     "metadata": {},
     "output_type": "display_data"
    }
   ],
   "source": [
    "#| label: tbl-parameter_mms6\n",
    "#| tbl-cap: Verwendete Parameter\n",
    "\n",
    "params = {'EI_ac': 5.5*10**5 *unit.N*unit.m**2,\n",
    "'EI_d': 2.5*10**5 *unit.N*unit.m**2,\n",
    "          'm_1':2100*unit.N*unit.second**2/unit.m,\n",
    "          'm_2':4800*unit.N*unit.second**2/unit.m,\n",
    "          'H_1':3.81*unit.m,\n",
    "          'H_2':3*unit.m,\n",
    "          }\n",
    "\n",
    "params_plot = convert.param_value(params)\n",
    "render.dict_to_table(params)"
   ]
  },
  {
   "cell_type": "markdown",
   "metadata": {},
   "source": [
    "\n",
    "![Modellierung als Zweimassenschwinger](bilder/mms_6_modell.png){#fig-modell_mms6}"
   ]
  },
  {
   "cell_type": "markdown",
   "metadata": {},
   "source": [
    "### Massenmatrix $M$"
   ]
  },
  {
   "cell_type": "code",
   "execution_count": 78,
   "metadata": {},
   "outputs": [],
   "source": [
    "m_1, m_2 = sp.symbols('m_1, m_2')"
   ]
  },
  {
   "cell_type": "code",
   "execution_count": 79,
   "metadata": {},
   "outputs": [
    {
     "data": {
      "text/latex": [
       "\\begin{equation*}M = \\left[\\begin{matrix}m_{1} & 0\\\\0 & m_{2}\\end{matrix}\\right]\\end{equation*}"
      ],
      "text/plain": [
       "    ⎡m₁  0 ⎤\n",
       "M = ⎢      ⎥\n",
       "    ⎣0   m₂⎦"
      ]
     },
     "metadata": {},
     "output_type": "display_data"
    },
    {
     "data": {
      "text/latex": [
       "\\begin{equation*}M = \\left[\\begin{matrix}\\frac{2100 \\text{N} \\text{s}^{2}}{\\text{m}} & 0\\\\0 & \\frac{4800 \\text{N} \\text{s}^{2}}{\\text{m}}\\end{matrix}\\right]\\end{equation*}"
      ],
      "text/plain": [
       "    ⎡                  2                     ⎤\n",
       "    ⎢2100⋅newton⋅second                      ⎥\n",
       "    ⎢───────────────────           0         ⎥\n",
       "    ⎢       meter                            ⎥\n",
       "M = ⎢                                        ⎥\n",
       "    ⎢                                       2⎥\n",
       "    ⎢                     4800⋅newton⋅second ⎥\n",
       "    ⎢         0           ───────────────────⎥\n",
       "    ⎣                            meter       ⎦"
      ]
     },
     "metadata": {},
     "output_type": "display_data"
    }
   ],
   "source": [
    "M = sp.Matrix([[m_1,0],[0,m_2]])\n",
    "\n",
    "render.eq_display(sp.MatrixSymbol('M', 2, 2), M,\n",
    "                  sp.MatrixSymbol('M', 2, 2), M.subs(params))"
   ]
  },
  {
   "cell_type": "markdown",
   "metadata": {},
   "source": [
    "### Steifigkeitsmatrix $K$\n",
    "\n",
    "#### Steifigkeit der Stockwerke\n",
    "Die Steifigkeit des Systems in @fig-modell_mms6 entspricht der Geschosssteifigkeit. Dazu sind die Steifigkeiten der Stützen zu addieren."
   ]
  },
  {
   "cell_type": "code",
   "execution_count": 80,
   "metadata": {},
   "outputs": [],
   "source": [
    "EI_ac, EI_d, H_1, H_2 = sp.symbols(\"EI_ac, EI_d, H_1, H_2\")\n"
   ]
  },
  {
   "cell_type": "code",
   "execution_count": 81,
   "metadata": {},
   "outputs": [
    {
     "data": {
      "text/latex": [
       "\\begin{equation*}k_{1} = \\frac{24 EI_{ac}}{H_{1}^{3}}\\end{equation*}"
      ],
      "text/plain": [
       "     24⋅EI_ac\n",
       "k₁ = ────────\n",
       "         3   \n",
       "       H₁    "
      ]
     },
     "metadata": {},
     "output_type": "display_data"
    },
    {
     "data": {
      "text/latex": [
       "\\begin{equation*}k_{1} = \\frac{2.39 \\cdot 10^{5} \\text{N}}{\\text{m}}\\end{equation*}"
      ],
      "text/plain": [
       "     2.39e+5⋅newton\n",
       "k₁ = ──────────────\n",
       "         meter     "
      ]
     },
     "metadata": {},
     "output_type": "display_data"
    },
    {
     "data": {
      "text/latex": [
       "\\begin{equation*}k_{2} = \\frac{12 EI_{ac}}{H_{2}^{3}} + \\frac{12 EI_{d}}{H_{2}^{3}}\\end{equation*}"
      ],
      "text/plain": [
       "     12⋅EI_ac   12⋅EI_d\n",
       "k₂ = ──────── + ───────\n",
       "         3          3  \n",
       "       H₂         H₂   "
      ]
     },
     "metadata": {},
     "output_type": "display_data"
    },
    {
     "data": {
      "text/latex": [
       "\\begin{equation*}k_{2} = \\frac{3.56 \\cdot 10^{5} \\text{N}}{\\text{m}}\\end{equation*}"
      ],
      "text/plain": [
       "     3.56e+5⋅newton\n",
       "k₂ = ──────────────\n",
       "         meter     "
      ]
     },
     "metadata": {},
     "output_type": "display_data"
    }
   ],
   "source": [
    "k_1 = 12 * EI_ac /H_1**3 * 2\n",
    "k_2 = 12*EI_ac / H_2**3 + 12*EI_d / H_2**3\n",
    "\n",
    "render.eq_display(\"k_1\", k_1,\n",
    "'k_1', k_1.subs(params).simplify().evalf(3),\n",
    "\"k_2\", k_2,\n",
    "'k_2', k_2.subs(params).simplify().evalf(3))"
   ]
  },
  {
   "cell_type": "markdown",
   "metadata": {},
   "source": [
    "Abgefüllt in die Steifigkeitsmatrix"
   ]
  },
  {
   "cell_type": "code",
   "execution_count": 82,
   "metadata": {},
   "outputs": [
    {
     "data": {
      "text/latex": [
       "\\begin{equation*}K = \\left[\\begin{matrix}k_{1} + k_{2} & - k_{2}\\\\- k_{2} & k_{2}\\end{matrix}\\right]\\end{equation*}"
      ],
      "text/plain": [
       "    ⎡k₁ + k₂  -k₂⎤\n",
       "K = ⎢            ⎥\n",
       "    ⎣  -k₂    k₂ ⎦"
      ]
     },
     "metadata": {},
     "output_type": "display_data"
    },
    {
     "data": {
      "text/latex": [
       "\\begin{equation*}K = \\left[\\begin{matrix}\\frac{12 EI_{ac}}{H_{2}^{3}} + \\frac{24 EI_{ac}}{H_{1}^{3}} + \\frac{12 EI_{d}}{H_{2}^{3}} & - \\frac{12 EI_{ac}}{H_{2}^{3}} - \\frac{12 EI_{d}}{H_{2}^{3}}\\\\- \\frac{12 EI_{ac}}{H_{2}^{3}} - \\frac{12 EI_{d}}{H_{2}^{3}} & \\frac{12 EI_{ac}}{H_{2}^{3}} + \\frac{12 EI_{d}}{H_{2}^{3}}\\end{matrix}\\right]\\end{equation*}"
      ],
      "text/plain": [
       "    ⎡12⋅EI_ac   24⋅EI_ac   12⋅EI_d    12⋅EI_ac   12⋅EI_d⎤\n",
       "    ⎢──────── + ──────── + ───────  - ──────── - ───────⎥\n",
       "    ⎢    3          3          3          3          3  ⎥\n",
       "    ⎢  H₂         H₁         H₂         H₂         H₂   ⎥\n",
       "K = ⎢                                                   ⎥\n",
       "    ⎢      12⋅EI_ac   12⋅EI_d        12⋅EI_ac   12⋅EI_d ⎥\n",
       "    ⎢    - ──────── - ───────        ──────── + ─────── ⎥\n",
       "    ⎢          3          3              3          3   ⎥\n",
       "    ⎣        H₂         H₂             H₂         H₂    ⎦"
      ]
     },
     "metadata": {},
     "output_type": "display_data"
    },
    {
     "data": {
      "text/latex": [
       "\\begin{equation*}K = \\left[\\begin{matrix}\\frac{5.94 \\cdot 10^{5} \\text{N}}{\\text{m}} & - \\frac{3.56 \\cdot 10^{5} \\text{N}}{\\text{m}}\\\\- \\frac{3.56 \\cdot 10^{5} \\text{N}}{\\text{m}} & \\frac{3.56 \\cdot 10^{5} \\text{N}}{\\text{m}}\\end{matrix}\\right]\\end{equation*}"
      ],
      "text/plain": [
       "    ⎡ 5.94e+5⋅newton   -3.56e+5⋅newton ⎤\n",
       "    ⎢ ──────────────   ────────────────⎥\n",
       "    ⎢     meter             meter      ⎥\n",
       "K = ⎢                                  ⎥\n",
       "    ⎢-3.56e+5⋅newton    3.56e+5⋅newton ⎥\n",
       "    ⎢────────────────   ────────────── ⎥\n",
       "    ⎣     meter             meter      ⎦"
      ]
     },
     "metadata": {},
     "output_type": "display_data"
    }
   ],
   "source": [
    "K = sp.Matrix([[k_1 + k_2, -k_2],[-k_2, k_2]])\n",
    "\n",
    "render.eq_display(sp.MatrixSymbol('K', 2, 2), \"Matrix([[k_1 + k_2, -k_2],[-k_2, k_2]])\",\n",
    "sp.MatrixSymbol('K', 2, 2), K,\n",
    "                  sp.MatrixSymbol('K', 2, 2), K.subs(params).evalf(3))"
   ]
  },
  {
   "cell_type": "markdown",
   "metadata": {},
   "source": [
    "### Eigenvektoren "
   ]
  },
  {
   "cell_type": "markdown",
   "metadata": {},
   "source": [
    "#### Eigenkreisfrequenzen \n",
    "Bei einem Mehrmassenschwinger gibt es entsprechend den Freiheitsgraden Eigenkreisfrequenzen $\\omega_n$. Diese lassen sich anhand folgender Gleichung bestimmen:\n",
    "\n",
    "$$\\det{[\\mathbf{K}-\\omega_n^2 \\mathbf{M}]=0}$$"
   ]
  },
  {
   "cell_type": "code",
   "execution_count": 83,
   "metadata": {},
   "outputs": [
    {
     "data": {
      "text/latex": [
       "\\begin{equation*}\\omega_{1} = \\frac{5.04}{\\text{s}}\\end{equation*}"
      ],
      "text/plain": [
       "      5.04 \n",
       "ω₁ = ──────\n",
       "     second"
      ]
     },
     "metadata": {},
     "output_type": "display_data"
    },
    {
     "data": {
      "text/latex": [
       "\\begin{equation*}\\omega_{2} = \\frac{18.2}{\\text{s}}\\end{equation*}"
      ],
      "text/plain": [
       "      18.2 \n",
       "ω₂ = ──────\n",
       "     second"
      ]
     },
     "metadata": {},
     "output_type": "display_data"
    }
   ],
   "source": [
    "omega_n =sp.symbols('omega_n')\n",
    "eq_omega = sp.det(K-omega_n**2*M)\n",
    "\n",
    "omega_n_solve = sp.solve(eq_omega, omega_n)\n",
    "omega_1 = omega_n_solve[1]\n",
    "omega_2 = omega_n_solve[3]\n",
    "\n",
    "render.eq_display('omega_1', omega_1.subs(params).simplify().evalf(3),\n",
    "                  'omega_2', omega_2.subs(params).simplify().evalf(3))"
   ]
  },
  {
   "cell_type": "markdown",
   "metadata": {},
   "source": [
    "#### Eigenvektoren $\\phi$\n",
    "Durch das Einsetzen der bestimmten Eigenkreisfrequenzen lassen sich die Eigenvektoren bestimmen. \n",
    "Beide Einträge des Eigenvektors sind voneinander abhängig und lassen sich dem entsprechen beliebig definieren. Grundsätzlich wird der maximale Eigenwert zu $1$ gesetzt.\n",
    "\n",
    "$$\\mathbf{K} - \\omega_n^2 \\mathbf{M} \\phi_n= 0$$"
   ]
  },
  {
   "cell_type": "code",
   "execution_count": 84,
   "metadata": {},
   "outputs": [
    {
     "data": {
      "text/latex": [
       "\\begin{equation*}\\phi_{1} = \\left[\\begin{matrix}0.657\\\\1.0\\end{matrix}\\right]\\end{equation*}"
      ],
      "text/plain": [
       "     ⎡0.657⎤\n",
       "φ₁ = ⎢     ⎥\n",
       "     ⎣ 1.0 ⎦"
      ]
     },
     "metadata": {},
     "output_type": "display_data"
    }
   ],
   "source": [
    "phi_11, phi_21 = sp.symbols('phi_11, phi_21')\n",
    "params['phi_11'] = 1 \n",
    "\n",
    "\n",
    "phi_1 = sp.Matrix([[phi_11], [phi_21]])\n",
    "phi_21 = list(sp.solve((K-omega_1**2 *M)*phi_1, phi_21).values())[0]\n",
    "\n",
    "\n",
    "params['phi_21'] = phi_21.subs(params).simplify() \n",
    "params['phi_11'] = 1/phi_21.subs(params).simplify() \n",
    "params['phi_21'] = 1\n",
    "\n",
    "\n",
    "render.eq_display(sp.MatrixSymbol('phi_1', 2,1),sp.simplify(phi_1.subs(params)).evalf(3))"
   ]
  },
  {
   "cell_type": "code",
   "execution_count": 85,
   "metadata": {},
   "outputs": [
    {
     "data": {
      "text/latex": [
       "\\begin{equation*}\\phi_{2} = \\left[\\begin{matrix}1.0\\\\-0.288\\end{matrix}\\right]\\end{equation*}"
      ],
      "text/plain": [
       "     ⎡ 1.0  ⎤\n",
       "φ₂ = ⎢      ⎥\n",
       "     ⎣-0.288⎦"
      ]
     },
     "metadata": {},
     "output_type": "display_data"
    }
   ],
   "source": [
    "phi_12, phi_22 = sp.symbols('phi_12, phi_22')\n",
    "params['phi_12'] = 1\n",
    "\n",
    "phi_2 = sp.Matrix([[phi_12], [phi_22]])\n",
    "\n",
    "phi_22 = list(sp.solve((K-omega_2**2 *M)*phi_2, phi_22).values())[0]\n",
    "\n",
    "params['phi_22'] = phi_22.subs(params).simplify() \n",
    "\n",
    "\n",
    "\n",
    "\n",
    "render.eq_display(sp.MatrixSymbol('phi_2', 2,1),sp.simplify(phi_2.subs(params)).evalf(3))"
   ]
  },
  {
   "cell_type": "markdown",
   "metadata": {},
   "source": [
    "#### Darstellung der Eigenvektoren \n",
    "\n",
    "Die Darstellung der Eigenvektoren besteht aus der Biegedeformation mit den Eigenvektoren entsprechenden Kopfauslenkungen. Für den Fall einer beidseitigen Einspannung und einer Verschiebung an den Knoten, entspricht die Deformation der @eq-deformation_geloest.\n",
    "\n",
    "$$\n",
    "w(x) = \\Delta_A + (\\Delta_B- \\Delta_A)(3\\xi^2 - 2 \\xi^3)\n",
    "$${#eq-deformation_geloest}\n",
    "\n",
    "mit \n",
    "$$\n",
    "\\xi = \\frac{x}{l}\n",
    "$$\n",
    "\n",
    "wobei $x$ die Laufvariable ist und $l$ die Stablänge, oder in diesem Fall die Stockwerkshöhe."
   ]
  },
  {
   "cell_type": "markdown",
   "metadata": {},
   "source": [
    "Für den ersten Eigenvektor"
   ]
  },
  {
   "cell_type": "code",
   "execution_count": 86,
   "metadata": {},
   "outputs": [
    {
     "data": {
      "text/latex": [
       "\\begin{equation*}w{\\left(x \\right)} = \\Delta_{A} + \\left(- \\Delta_{A} + \\Delta_{B}\\right) \\left(\\frac{3 x^{2}}{l^{2}} - \\frac{2 x^{3}}{l^{3}}\\right)\\end{equation*}"
      ],
      "text/plain": [
       "                          ⎛   2      3⎞\n",
       "                          ⎜3⋅x    2⋅x ⎟\n",
       "w(x) = Δ_A + (-Δ_A + Δ_B)⋅⎜──── - ────⎟\n",
       "                          ⎜  2      3 ⎟\n",
       "                          ⎝ l      l  ⎠"
      ]
     },
     "metadata": {},
     "output_type": "display_data"
    },
    {
     "data": {
      "text/latex": [
       "\\begin{equation*}w{\\left(x \\right)} = \\Delta_{A} + \\left(- \\Delta_{A} + \\Delta_{B}\\right) \\left(\\frac{44.0 \\left(0.26 x - 1.0\\right)^{2}}{l^{2}} - \\frac{1.1 \\cdot 10^{2} \\left(0.26 x - 1.0\\right)^{3}}{l^{3}}\\right)\\end{equation*}"
      ],
      "text/plain": [
       "                          ⎛                   2                        3⎞\n",
       "                          ⎜44.0⋅(0.26⋅x - 1.0)    1.1e+2⋅(0.26⋅x - 1.0) ⎟\n",
       "w(x) = Δ_A + (-Δ_A + Δ_B)⋅⎜──────────────────── - ──────────────────────⎟\n",
       "                          ⎜          2                       3          ⎟\n",
       "                          ⎝         l                       l           ⎠"
      ]
     },
     "metadata": {},
     "output_type": "display_data"
    },
    {
     "data": {
      "text/latex": [
       "\\begin{equation*}w = \\begin{cases} - 0.024 x^{3} + 0.14 x^{2} & \\text{for}\\: x \\leq 3.81 \\\\- 1.4 \\left(0.26 x - 1.0\\right)^{3} + 1.7 \\left(0.26 x - 1.0\\right)^{2} + 0.66 & \\text{for}\\: x \\geq 3.81 \\end{cases}\\end{equation*}"
      ],
      "text/plain": [
       "    ⎧                        3         2                             \n",
       "    ⎪               - 0.024⋅x  + 0.14⋅x                  for x ≤ 3.81\n",
       "w = ⎨                                                                \n",
       "    ⎪                    3                     2                     \n",
       "    ⎩- 1.4⋅(0.26⋅x - 1.0)  + 1.7⋅(0.26⋅x - 1.0)  + 0.66  for x ≥ 3.81"
      ]
     },
     "metadata": {},
     "output_type": "display_data"
    }
   ],
   "source": [
    "Delta_A, Delta_B, zeta = sp.symbols('Delta_A, Delta_B, zeta')\n",
    "\n",
    "\n",
    "\n",
    "#Ansatzfunktion für Teil 1 der Funktion\n",
    "zeta = x/l\n",
    "w_ansatz = Delta_A + (Delta_B-Delta_A)*(3*zeta**2 - 2*zeta**3)\n",
    "render.eq_display('w(x)', w_ansatz)\n",
    "\n",
    "w_1_x = w_ansatz.subs(Delta_A, 0).subs(Delta_B, phi_11.subs(params)).subs(l,H_1.subs(params_plot))\n",
    "\n",
    "\n",
    "\n",
    "\n",
    "#Ansatzfunktion für Teil 2 der Funktion\n",
    "zeta = (x-H_1.subs(params_plot))/l\n",
    "w_ansatz = Delta_A + (Delta_B-Delta_A)*(3*zeta**2 - 2*zeta**3)\n",
    "render.eq_display('w(x)', w_ansatz.evalf(2))\n",
    "\n",
    "w_2_x = w_ansatz.subs(Delta_A, phi_11.subs(params)).subs(Delta_B, phi_21.subs(params)).subs(l,H_2.subs(params_plot))\n",
    "\n",
    "\n",
    "\n",
    "#Zusammengestellt\n",
    "w_eigenform_1 = sp.Eq(w,sp.Piecewise((w_1_x, x<=H_1.subs(params_plot)),(w_2_x, x>=H_1.subs(params_plot))))\n",
    "render.eq_display(w_eigenform_1.lhs, w_eigenform_1.rhs.evalf(2))\n"
   ]
  },
  {
   "cell_type": "markdown",
   "metadata": {},
   "source": [
    "Für den zweiten Eigenvektor. (Es bedingt eine Verschiebung der Laufvariable $x$ um die $H_1$)"
   ]
  },
  {
   "cell_type": "code",
   "execution_count": 87,
   "metadata": {},
   "outputs": [
    {
     "data": {
      "text/latex": [
       "\\begin{equation*}w{\\left(x \\right)} = \\Delta_{A} + \\left(- \\Delta_{A} + \\Delta_{B}\\right) \\left(\\frac{3 x^{2}}{l^{2}} - \\frac{2 x^{3}}{l^{3}}\\right)\\end{equation*}"
      ],
      "text/plain": [
       "                          ⎛   2      3⎞\n",
       "                          ⎜3⋅x    2⋅x ⎟\n",
       "w(x) = Δ_A + (-Δ_A + Δ_B)⋅⎜──── - ────⎟\n",
       "                          ⎜  2      3 ⎟\n",
       "                          ⎝ l      l  ⎠"
      ]
     },
     "metadata": {},
     "output_type": "display_data"
    },
    {
     "data": {
      "text/latex": [
       "\\begin{equation*}w{\\left(x \\right)} = \\Delta_{A} + \\left(- \\Delta_{A} + \\Delta_{B}\\right) \\left(\\frac{44.0 \\left(0.26 x - 1.0\\right)^{2}}{l^{2}} - \\frac{1.1 \\cdot 10^{2} \\left(0.26 x - 1.0\\right)^{3}}{l^{3}}\\right)\\end{equation*}"
      ],
      "text/plain": [
       "                          ⎛                   2                        3⎞\n",
       "                          ⎜44.0⋅(0.26⋅x - 1.0)    1.1e+2⋅(0.26⋅x - 1.0) ⎟\n",
       "w(x) = Δ_A + (-Δ_A + Δ_B)⋅⎜──────────────────── - ──────────────────────⎟\n",
       "                          ⎜          2                       3          ⎟\n",
       "                          ⎝         l                       l           ⎠"
      ]
     },
     "metadata": {},
     "output_type": "display_data"
    },
    {
     "data": {
      "text/latex": [
       "\\begin{equation*}w = \\begin{cases} - 0.036 x^{3} + 0.21 x^{2} & \\text{for}\\: x \\leq 3.81 \\\\5.3 \\left(0.26 x - 1.0\\right)^{3} - 6.2 \\left(0.26 x - 1.0\\right)^{2} + 1.0 & \\text{for}\\: x \\geq 3.81 \\end{cases}\\end{equation*}"
      ],
      "text/plain": [
       "    ⎧                      3         2                            \n",
       "    ⎪             - 0.036⋅x  + 0.21⋅x                 for x ≤ 3.81\n",
       "w = ⎨                                                             \n",
       "    ⎪                  3                     2                    \n",
       "    ⎩5.3⋅(0.26⋅x - 1.0)  - 6.2⋅(0.26⋅x - 1.0)  + 1.0  for x ≥ 3.81"
      ]
     },
     "metadata": {},
     "output_type": "display_data"
    }
   ],
   "source": [
    "Delta_A, Delta_B, zeta = sp.symbols('Delta_A, Delta_B, zeta')\n",
    "\n",
    "\n",
    "\n",
    "#Ansatzfunktion für Teil 1 der Funktion\n",
    "zeta = x/l\n",
    "w_ansatz = Delta_A + (Delta_B-Delta_A)*(3*zeta**2 - 2*zeta**3)\n",
    "render.eq_display('w(x)', w_ansatz)\n",
    "\n",
    "w_12_x = w_ansatz.subs(Delta_A, 0).subs(Delta_B, phi_12.subs(params)).subs(l,H_1.subs(params_plot))\n",
    "\n",
    "\n",
    "\n",
    "\n",
    "#Ansatzfunktion für Teil 2 der Funktion\n",
    "zeta = (x-H_1.subs(params_plot))/l\n",
    "w_ansatz = Delta_A + (Delta_B-Delta_A)*(3*zeta**2 - 2*zeta**3)\n",
    "render.eq_display('w(x)', w_ansatz.evalf(2))\n",
    "\n",
    "w_22_x = w_ansatz.subs(Delta_A, phi_12.subs(params)).subs(Delta_B, phi_22.subs(params)).subs(l,H_2.subs(params_plot))\n",
    "\n",
    "\n",
    "\n",
    "#Zusammengestellt\n",
    "w_eigenform_2 = sp.Eq(w,sp.Piecewise((w_12_x, x<=H_1.subs(params_plot)),(w_22_x, x>=H_1.subs(params_plot))))\n",
    "render.eq_display(w_eigenform_2.lhs, w_eigenform_2.rhs.evalf(2))\n"
   ]
  },
  {
   "cell_type": "code",
   "execution_count": 88,
   "metadata": {},
   "outputs": [
    {
     "data": {
      "image/svg+xml": [
       "<?xml version=\"1.0\" encoding=\"utf-8\" standalone=\"no\"?>\n",
       "<!DOCTYPE svg PUBLIC \"-//W3C//DTD SVG 1.1//EN\"\n",
       "  \"http://www.w3.org/Graphics/SVG/1.1/DTD/svg11.dtd\">\n",
       "<svg xmlns:xlink=\"http://www.w3.org/1999/xlink\" width=\"385.455568pt\" height=\"312.310125pt\" viewBox=\"0 0 385.455568 312.310125\" xmlns=\"http://www.w3.org/2000/svg\" version=\"1.1\">\n",
       " <metadata>\n",
       "  <rdf:RDF xmlns:dc=\"http://purl.org/dc/elements/1.1/\" xmlns:cc=\"http://creativecommons.org/ns#\" xmlns:rdf=\"http://www.w3.org/1999/02/22-rdf-syntax-ns#\">\n",
       "   <cc:Work>\n",
       "    <dc:type rdf:resource=\"http://purl.org/dc/dcmitype/StillImage\"/>\n",
       "    <dc:date>2023-08-09T12:36:10.612902</dc:date>\n",
       "    <dc:format>image/svg+xml</dc:format>\n",
       "    <dc:creator>\n",
       "     <cc:Agent>\n",
       "      <dc:title>Matplotlib v3.7.1, https://matplotlib.org/</dc:title>\n",
       "     </cc:Agent>\n",
       "    </dc:creator>\n",
       "   </cc:Work>\n",
       "  </rdf:RDF>\n",
       " </metadata>\n",
       " <defs>\n",
       "  <style type=\"text/css\">*{stroke-linejoin: round; stroke-linecap: butt}</style>\n",
       " </defs>\n",
       " <g id=\"figure_1\">\n",
       "  <g id=\"patch_1\">\n",
       "   <path d=\"M 0 312.310125 \n",
       "L 385.455568 312.310125 \n",
       "L 385.455568 0 \n",
       "L 0 0 \n",
       "z\n",
       "\" style=\"fill: #ffffff\"/>\n",
       "  </g>\n",
       "  <g id=\"axes_1\">\n",
       "   <g id=\"patch_2\">\n",
       "    <path d=\"M 20.5625 288.432 \n",
       "L 182.889773 288.432 \n",
       "L 182.889773 22.32 \n",
       "L 20.5625 22.32 \n",
       "z\n",
       "\" style=\"fill: #ffffff\"/>\n",
       "   </g>\n",
       "   <g id=\"matplotlib.axis_1\">\n",
       "    <g id=\"xtick_1\">\n",
       "     <g id=\"line2d_1\">\n",
       "      <defs>\n",
       "       <path id=\"m839e0e2db9\" d=\"M 0 0 \n",
       "L 0 3.5 \n",
       "\" style=\"stroke: #000000; stroke-width: 0.8\"/>\n",
       "      </defs>\n",
       "      <g>\n",
       "       <use xlink:href=\"#m839e0e2db9\" x=\"27.941012\" y=\"288.432\" style=\"stroke: #000000; stroke-width: 0.8\"/>\n",
       "      </g>\n",
       "     </g>\n",
       "     <g id=\"text_1\">\n",
       "      <!-- 0.00 -->\n",
       "      <g transform=\"translate(16.8082 303.030437) scale(0.1 -0.1)\">\n",
       "       <defs>\n",
       "        <path id=\"DejaVuSans-30\" d=\"M 2034 4250 \n",
       "Q 1547 4250 1301 3770 \n",
       "Q 1056 3291 1056 2328 \n",
       "Q 1056 1369 1301 889 \n",
       "Q 1547 409 2034 409 \n",
       "Q 2525 409 2770 889 \n",
       "Q 3016 1369 3016 2328 \n",
       "Q 3016 3291 2770 3770 \n",
       "Q 2525 4250 2034 4250 \n",
       "z\n",
       "M 2034 4750 \n",
       "Q 2819 4750 3233 4129 \n",
       "Q 3647 3509 3647 2328 \n",
       "Q 3647 1150 3233 529 \n",
       "Q 2819 -91 2034 -91 \n",
       "Q 1250 -91 836 529 \n",
       "Q 422 1150 422 2328 \n",
       "Q 422 3509 836 4129 \n",
       "Q 1250 4750 2034 4750 \n",
       "z\n",
       "\" transform=\"scale(0.015625)\"/>\n",
       "        <path id=\"DejaVuSans-2e\" d=\"M 684 794 \n",
       "L 1344 794 \n",
       "L 1344 0 \n",
       "L 684 0 \n",
       "L 684 794 \n",
       "z\n",
       "\" transform=\"scale(0.015625)\"/>\n",
       "       </defs>\n",
       "       <use xlink:href=\"#DejaVuSans-30\"/>\n",
       "       <use xlink:href=\"#DejaVuSans-2e\" x=\"63.623047\"/>\n",
       "       <use xlink:href=\"#DejaVuSans-30\" x=\"95.410156\"/>\n",
       "       <use xlink:href=\"#DejaVuSans-30\" x=\"159.033203\"/>\n",
       "      </g>\n",
       "     </g>\n",
       "    </g>\n",
       "    <g id=\"xtick_2\">\n",
       "     <g id=\"line2d_2\">\n",
       "      <g>\n",
       "       <use xlink:href=\"#m839e0e2db9\" x=\"64.833574\" y=\"288.432\" style=\"stroke: #000000; stroke-width: 0.8\"/>\n",
       "      </g>\n",
       "     </g>\n",
       "     <g id=\"text_2\">\n",
       "      <!-- 0.25 -->\n",
       "      <g transform=\"translate(53.700762 303.030437) scale(0.1 -0.1)\">\n",
       "       <defs>\n",
       "        <path id=\"DejaVuSans-32\" d=\"M 1228 531 \n",
       "L 3431 531 \n",
       "L 3431 0 \n",
       "L 469 0 \n",
       "L 469 531 \n",
       "Q 828 903 1448 1529 \n",
       "Q 2069 2156 2228 2338 \n",
       "Q 2531 2678 2651 2914 \n",
       "Q 2772 3150 2772 3378 \n",
       "Q 2772 3750 2511 3984 \n",
       "Q 2250 4219 1831 4219 \n",
       "Q 1534 4219 1204 4116 \n",
       "Q 875 4013 500 3803 \n",
       "L 500 4441 \n",
       "Q 881 4594 1212 4672 \n",
       "Q 1544 4750 1819 4750 \n",
       "Q 2544 4750 2975 4387 \n",
       "Q 3406 4025 3406 3419 \n",
       "Q 3406 3131 3298 2873 \n",
       "Q 3191 2616 2906 2266 \n",
       "Q 2828 2175 2409 1742 \n",
       "Q 1991 1309 1228 531 \n",
       "z\n",
       "\" transform=\"scale(0.015625)\"/>\n",
       "        <path id=\"DejaVuSans-35\" d=\"M 691 4666 \n",
       "L 3169 4666 \n",
       "L 3169 4134 \n",
       "L 1269 4134 \n",
       "L 1269 2991 \n",
       "Q 1406 3038 1543 3061 \n",
       "Q 1681 3084 1819 3084 \n",
       "Q 2600 3084 3056 2656 \n",
       "Q 3513 2228 3513 1497 \n",
       "Q 3513 744 3044 326 \n",
       "Q 2575 -91 1722 -91 \n",
       "Q 1428 -91 1123 -41 \n",
       "Q 819 9 494 109 \n",
       "L 494 744 \n",
       "Q 775 591 1075 516 \n",
       "Q 1375 441 1709 441 \n",
       "Q 2250 441 2565 725 \n",
       "Q 2881 1009 2881 1497 \n",
       "Q 2881 1984 2565 2268 \n",
       "Q 2250 2553 1709 2553 \n",
       "Q 1456 2553 1204 2497 \n",
       "Q 953 2441 691 2322 \n",
       "L 691 4666 \n",
       "z\n",
       "\" transform=\"scale(0.015625)\"/>\n",
       "       </defs>\n",
       "       <use xlink:href=\"#DejaVuSans-30\"/>\n",
       "       <use xlink:href=\"#DejaVuSans-2e\" x=\"63.623047\"/>\n",
       "       <use xlink:href=\"#DejaVuSans-32\" x=\"95.410156\"/>\n",
       "       <use xlink:href=\"#DejaVuSans-35\" x=\"159.033203\"/>\n",
       "      </g>\n",
       "     </g>\n",
       "    </g>\n",
       "    <g id=\"xtick_3\">\n",
       "     <g id=\"line2d_3\">\n",
       "      <g>\n",
       "       <use xlink:href=\"#m839e0e2db9\" x=\"101.726136\" y=\"288.432\" style=\"stroke: #000000; stroke-width: 0.8\"/>\n",
       "      </g>\n",
       "     </g>\n",
       "     <g id=\"text_3\">\n",
       "      <!-- 0.50 -->\n",
       "      <g transform=\"translate(90.593324 303.030437) scale(0.1 -0.1)\">\n",
       "       <use xlink:href=\"#DejaVuSans-30\"/>\n",
       "       <use xlink:href=\"#DejaVuSans-2e\" x=\"63.623047\"/>\n",
       "       <use xlink:href=\"#DejaVuSans-35\" x=\"95.410156\"/>\n",
       "       <use xlink:href=\"#DejaVuSans-30\" x=\"159.033203\"/>\n",
       "      </g>\n",
       "     </g>\n",
       "    </g>\n",
       "    <g id=\"xtick_4\">\n",
       "     <g id=\"line2d_4\">\n",
       "      <g>\n",
       "       <use xlink:href=\"#m839e0e2db9\" x=\"138.618698\" y=\"288.432\" style=\"stroke: #000000; stroke-width: 0.8\"/>\n",
       "      </g>\n",
       "     </g>\n",
       "     <g id=\"text_4\">\n",
       "      <!-- 0.75 -->\n",
       "      <g transform=\"translate(127.485886 303.030437) scale(0.1 -0.1)\">\n",
       "       <defs>\n",
       "        <path id=\"DejaVuSans-37\" d=\"M 525 4666 \n",
       "L 3525 4666 \n",
       "L 3525 4397 \n",
       "L 1831 0 \n",
       "L 1172 0 \n",
       "L 2766 4134 \n",
       "L 525 4134 \n",
       "L 525 4666 \n",
       "z\n",
       "\" transform=\"scale(0.015625)\"/>\n",
       "       </defs>\n",
       "       <use xlink:href=\"#DejaVuSans-30\"/>\n",
       "       <use xlink:href=\"#DejaVuSans-2e\" x=\"63.623047\"/>\n",
       "       <use xlink:href=\"#DejaVuSans-37\" x=\"95.410156\"/>\n",
       "       <use xlink:href=\"#DejaVuSans-35\" x=\"159.033203\"/>\n",
       "      </g>\n",
       "     </g>\n",
       "    </g>\n",
       "    <g id=\"xtick_5\">\n",
       "     <g id=\"line2d_5\">\n",
       "      <g>\n",
       "       <use xlink:href=\"#m839e0e2db9\" x=\"175.51126\" y=\"288.432\" style=\"stroke: #000000; stroke-width: 0.8\"/>\n",
       "      </g>\n",
       "     </g>\n",
       "     <g id=\"text_5\">\n",
       "      <!-- 1.00 -->\n",
       "      <g transform=\"translate(164.378448 303.030437) scale(0.1 -0.1)\">\n",
       "       <defs>\n",
       "        <path id=\"DejaVuSans-31\" d=\"M 794 531 \n",
       "L 1825 531 \n",
       "L 1825 4091 \n",
       "L 703 3866 \n",
       "L 703 4441 \n",
       "L 1819 4666 \n",
       "L 2450 4666 \n",
       "L 2450 531 \n",
       "L 3481 531 \n",
       "L 3481 0 \n",
       "L 794 0 \n",
       "L 794 531 \n",
       "z\n",
       "\" transform=\"scale(0.015625)\"/>\n",
       "       </defs>\n",
       "       <use xlink:href=\"#DejaVuSans-31\"/>\n",
       "       <use xlink:href=\"#DejaVuSans-2e\" x=\"63.623047\"/>\n",
       "       <use xlink:href=\"#DejaVuSans-30\" x=\"95.410156\"/>\n",
       "       <use xlink:href=\"#DejaVuSans-30\" x=\"159.033203\"/>\n",
       "      </g>\n",
       "     </g>\n",
       "    </g>\n",
       "   </g>\n",
       "   <g id=\"matplotlib.axis_2\">\n",
       "    <g id=\"ytick_1\">\n",
       "     <g id=\"line2d_6\">\n",
       "      <defs>\n",
       "       <path id=\"mcf1ae7a303\" d=\"M 0 0 \n",
       "L -3.5 0 \n",
       "\" style=\"stroke: #000000; stroke-width: 0.8\"/>\n",
       "      </defs>\n",
       "      <g>\n",
       "       <use xlink:href=\"#mcf1ae7a303\" x=\"20.5625\" y=\"276.336\" style=\"stroke: #000000; stroke-width: 0.8\"/>\n",
       "      </g>\n",
       "     </g>\n",
       "     <g id=\"text_6\">\n",
       "      <!-- 0 -->\n",
       "      <g transform=\"translate(7.2 280.135219) scale(0.1 -0.1)\">\n",
       "       <use xlink:href=\"#DejaVuSans-30\"/>\n",
       "      </g>\n",
       "     </g>\n",
       "    </g>\n",
       "    <g id=\"ytick_2\">\n",
       "     <g id=\"line2d_7\">\n",
       "      <g>\n",
       "       <use xlink:href=\"#mcf1ae7a303\" x=\"20.5625\" y=\"240.811771\" style=\"stroke: #000000; stroke-width: 0.8\"/>\n",
       "      </g>\n",
       "     </g>\n",
       "     <g id=\"text_7\">\n",
       "      <!-- 1 -->\n",
       "      <g transform=\"translate(7.2 244.61099) scale(0.1 -0.1)\">\n",
       "       <use xlink:href=\"#DejaVuSans-31\"/>\n",
       "      </g>\n",
       "     </g>\n",
       "    </g>\n",
       "    <g id=\"ytick_3\">\n",
       "     <g id=\"line2d_8\">\n",
       "      <g>\n",
       "       <use xlink:href=\"#mcf1ae7a303\" x=\"20.5625\" y=\"205.287542\" style=\"stroke: #000000; stroke-width: 0.8\"/>\n",
       "      </g>\n",
       "     </g>\n",
       "     <g id=\"text_8\">\n",
       "      <!-- 2 -->\n",
       "      <g transform=\"translate(7.2 209.086761) scale(0.1 -0.1)\">\n",
       "       <use xlink:href=\"#DejaVuSans-32\"/>\n",
       "      </g>\n",
       "     </g>\n",
       "    </g>\n",
       "    <g id=\"ytick_4\">\n",
       "     <g id=\"line2d_9\">\n",
       "      <g>\n",
       "       <use xlink:href=\"#mcf1ae7a303\" x=\"20.5625\" y=\"169.763313\" style=\"stroke: #000000; stroke-width: 0.8\"/>\n",
       "      </g>\n",
       "     </g>\n",
       "     <g id=\"text_9\">\n",
       "      <!-- 3 -->\n",
       "      <g transform=\"translate(7.2 173.562532) scale(0.1 -0.1)\">\n",
       "       <defs>\n",
       "        <path id=\"DejaVuSans-33\" d=\"M 2597 2516 \n",
       "Q 3050 2419 3304 2112 \n",
       "Q 3559 1806 3559 1356 \n",
       "Q 3559 666 3084 287 \n",
       "Q 2609 -91 1734 -91 \n",
       "Q 1441 -91 1130 -33 \n",
       "Q 819 25 488 141 \n",
       "L 488 750 \n",
       "Q 750 597 1062 519 \n",
       "Q 1375 441 1716 441 \n",
       "Q 2309 441 2620 675 \n",
       "Q 2931 909 2931 1356 \n",
       "Q 2931 1769 2642 2001 \n",
       "Q 2353 2234 1838 2234 \n",
       "L 1294 2234 \n",
       "L 1294 2753 \n",
       "L 1863 2753 \n",
       "Q 2328 2753 2575 2939 \n",
       "Q 2822 3125 2822 3475 \n",
       "Q 2822 3834 2567 4026 \n",
       "Q 2313 4219 1838 4219 \n",
       "Q 1578 4219 1281 4162 \n",
       "Q 984 4106 628 3988 \n",
       "L 628 4550 \n",
       "Q 988 4650 1302 4700 \n",
       "Q 1616 4750 1894 4750 \n",
       "Q 2613 4750 3031 4423 \n",
       "Q 3450 4097 3450 3541 \n",
       "Q 3450 3153 3228 2886 \n",
       "Q 3006 2619 2597 2516 \n",
       "z\n",
       "\" transform=\"scale(0.015625)\"/>\n",
       "       </defs>\n",
       "       <use xlink:href=\"#DejaVuSans-33\"/>\n",
       "      </g>\n",
       "     </g>\n",
       "    </g>\n",
       "    <g id=\"ytick_5\">\n",
       "     <g id=\"line2d_10\">\n",
       "      <g>\n",
       "       <use xlink:href=\"#mcf1ae7a303\" x=\"20.5625\" y=\"134.239084\" style=\"stroke: #000000; stroke-width: 0.8\"/>\n",
       "      </g>\n",
       "     </g>\n",
       "     <g id=\"text_10\">\n",
       "      <!-- 4 -->\n",
       "      <g transform=\"translate(7.2 138.038302) scale(0.1 -0.1)\">\n",
       "       <defs>\n",
       "        <path id=\"DejaVuSans-34\" d=\"M 2419 4116 \n",
       "L 825 1625 \n",
       "L 2419 1625 \n",
       "L 2419 4116 \n",
       "z\n",
       "M 2253 4666 \n",
       "L 3047 4666 \n",
       "L 3047 1625 \n",
       "L 3713 1625 \n",
       "L 3713 1100 \n",
       "L 3047 1100 \n",
       "L 3047 0 \n",
       "L 2419 0 \n",
       "L 2419 1100 \n",
       "L 313 1100 \n",
       "L 313 1709 \n",
       "L 2253 4666 \n",
       "z\n",
       "\" transform=\"scale(0.015625)\"/>\n",
       "       </defs>\n",
       "       <use xlink:href=\"#DejaVuSans-34\"/>\n",
       "      </g>\n",
       "     </g>\n",
       "    </g>\n",
       "    <g id=\"ytick_6\">\n",
       "     <g id=\"line2d_11\">\n",
       "      <g>\n",
       "       <use xlink:href=\"#mcf1ae7a303\" x=\"20.5625\" y=\"98.714855\" style=\"stroke: #000000; stroke-width: 0.8\"/>\n",
       "      </g>\n",
       "     </g>\n",
       "     <g id=\"text_11\">\n",
       "      <!-- 5 -->\n",
       "      <g transform=\"translate(7.2 102.514073) scale(0.1 -0.1)\">\n",
       "       <use xlink:href=\"#DejaVuSans-35\"/>\n",
       "      </g>\n",
       "     </g>\n",
       "    </g>\n",
       "    <g id=\"ytick_7\">\n",
       "     <g id=\"line2d_12\">\n",
       "      <g>\n",
       "       <use xlink:href=\"#mcf1ae7a303\" x=\"20.5625\" y=\"63.190626\" style=\"stroke: #000000; stroke-width: 0.8\"/>\n",
       "      </g>\n",
       "     </g>\n",
       "     <g id=\"text_12\">\n",
       "      <!-- 6 -->\n",
       "      <g transform=\"translate(7.2 66.989844) scale(0.1 -0.1)\">\n",
       "       <defs>\n",
       "        <path id=\"DejaVuSans-36\" d=\"M 2113 2584 \n",
       "Q 1688 2584 1439 2293 \n",
       "Q 1191 2003 1191 1497 \n",
       "Q 1191 994 1439 701 \n",
       "Q 1688 409 2113 409 \n",
       "Q 2538 409 2786 701 \n",
       "Q 3034 994 3034 1497 \n",
       "Q 3034 2003 2786 2293 \n",
       "Q 2538 2584 2113 2584 \n",
       "z\n",
       "M 3366 4563 \n",
       "L 3366 3988 \n",
       "Q 3128 4100 2886 4159 \n",
       "Q 2644 4219 2406 4219 \n",
       "Q 1781 4219 1451 3797 \n",
       "Q 1122 3375 1075 2522 \n",
       "Q 1259 2794 1537 2939 \n",
       "Q 1816 3084 2150 3084 \n",
       "Q 2853 3084 3261 2657 \n",
       "Q 3669 2231 3669 1497 \n",
       "Q 3669 778 3244 343 \n",
       "Q 2819 -91 2113 -91 \n",
       "Q 1303 -91 875 529 \n",
       "Q 447 1150 447 2328 \n",
       "Q 447 3434 972 4092 \n",
       "Q 1497 4750 2381 4750 \n",
       "Q 2619 4750 2861 4703 \n",
       "Q 3103 4656 3366 4563 \n",
       "z\n",
       "\" transform=\"scale(0.015625)\"/>\n",
       "       </defs>\n",
       "       <use xlink:href=\"#DejaVuSans-36\"/>\n",
       "      </g>\n",
       "     </g>\n",
       "    </g>\n",
       "    <g id=\"ytick_8\">\n",
       "     <g id=\"line2d_13\">\n",
       "      <g>\n",
       "       <use xlink:href=\"#mcf1ae7a303\" x=\"20.5625\" y=\"27.666396\" style=\"stroke: #000000; stroke-width: 0.8\"/>\n",
       "      </g>\n",
       "     </g>\n",
       "     <g id=\"text_13\">\n",
       "      <!-- 7 -->\n",
       "      <g transform=\"translate(7.2 31.465615) scale(0.1 -0.1)\">\n",
       "       <use xlink:href=\"#DejaVuSans-37\"/>\n",
       "      </g>\n",
       "     </g>\n",
       "    </g>\n",
       "   </g>\n",
       "   <g id=\"line2d_14\">\n",
       "    <path d=\"M 27.941012 276.336 \n",
       "L 28.052251 273.672216 \n",
       "L 28.380053 271.008432 \n",
       "L 28.974216 268.102486 \n",
       "L 29.804025 265.196541 \n",
       "L 30.85796 262.290595 \n",
       "L 32.239281 259.142486 \n",
       "L 33.855471 255.994378 \n",
       "L 35.841847 252.604108 \n",
       "L 38.232744 248.971676 \n",
       "L 41.057701 245.097081 \n",
       "L 44.339956 240.980324 \n",
       "L 48.094853 236.621405 \n",
       "L 52.557771 231.778162 \n",
       "L 58.001528 226.208432 \n",
       "L 64.712088 219.670054 \n",
       "L 74.760825 210.22573 \n",
       "L 89.958699 195.938162 \n",
       "L 96.828485 189.157622 \n",
       "L 102.163103 183.587892 \n",
       "L 106.50793 178.744649 \n",
       "L 110.138104 174.38573 \n",
       "L 113.286523 170.268973 \n",
       "L 115.971281 166.394378 \n",
       "L 118.218204 162.761946 \n",
       "L 120.059259 159.371676 \n",
       "L 121.531044 156.223568 \n",
       "L 122.758847 153.075459 \n",
       "L 123.662985 150.169514 \n",
       "L 124.335232 147.263568 \n",
       "L 124.73791 144.599784 \n",
       "L 124.927181 141.936 \n",
       "L 125.164179 136.850595 \n",
       "L 125.618175 133.702486 \n",
       "L 126.300729 130.554378 \n",
       "L 127.27345 127.164108 \n",
       "L 128.473566 123.773838 \n",
       "L 129.989548 120.141405 \n",
       "L 131.842527 116.266811 \n",
       "L 134.182654 111.907892 \n",
       "L 137.051416 107.064649 \n",
       "L 140.628467 101.494919 \n",
       "L 145.264194 94.714378 \n",
       "L 161.580752 71.224649 \n",
       "L 164.880264 65.897081 \n",
       "L 167.482917 61.296 \n",
       "L 169.690854 56.937081 \n",
       "L 171.408732 53.062486 \n",
       "L 172.783014 49.430054 \n",
       "L 173.837741 46.039784 \n",
       "L 174.652391 42.649514 \n",
       "L 175.176809 39.501405 \n",
       "L 175.448677 36.595459 \n",
       "L 175.51126 34.416 \n",
       "L 175.51126 34.416 \n",
       "\" clip-path=\"url(#p4e1495aea9)\" style=\"fill: none; stroke: #1f77b4; stroke-width: 1.5; stroke-linecap: square\"/>\n",
       "   </g>\n",
       "   <g id=\"line2d_15\">\n",
       "    <path d=\"M 20.5625 140.988687 \n",
       "L 182.889773 140.988687 \n",
       "\" clip-path=\"url(#p4e1495aea9)\" style=\"fill: none; stroke-dasharray: 3.7,1.6; stroke-dashoffset: 0; stroke: #808080\"/>\n",
       "   </g>\n",
       "   <g id=\"line2d_16\">\n",
       "    <path d=\"M 20.5625 34.416 \n",
       "L 182.889773 34.416 \n",
       "\" clip-path=\"url(#p4e1495aea9)\" style=\"fill: none; stroke-dasharray: 3.7,1.6; stroke-dashoffset: 0; stroke: #808080\"/>\n",
       "   </g>\n",
       "   <g id=\"line2d_17\">\n",
       "    <path d=\"M 175.51126 288.432 \n",
       "L 175.51126 22.32 \n",
       "\" clip-path=\"url(#p4e1495aea9)\" style=\"fill: none; stroke-dasharray: 3.7,1.6; stroke-dashoffset: 0; stroke: #808080\"/>\n",
       "   </g>\n",
       "   <g id=\"line2d_18\">\n",
       "    <path d=\"M 124.94137 288.432 \n",
       "L 124.94137 22.32 \n",
       "\" clip-path=\"url(#p4e1495aea9)\" style=\"fill: none; stroke-dasharray: 3.7,1.6; stroke-dashoffset: 0; stroke: #808080\"/>\n",
       "   </g>\n",
       "   <g id=\"line2d_19\">\n",
       "    <path d=\"M 27.941012 288.432 \n",
       "L 27.941012 22.32 \n",
       "\" clip-path=\"url(#p4e1495aea9)\" style=\"fill: none; stroke-dasharray: 5.55,2.4; stroke-dashoffset: 0; stroke: #000000; stroke-width: 1.5\"/>\n",
       "   </g>\n",
       "   <g id=\"patch_3\">\n",
       "    <path d=\"M 20.5625 288.432 \n",
       "L 20.5625 22.32 \n",
       "\" style=\"fill: none; stroke: #000000; stroke-width: 0.8; stroke-linejoin: miter; stroke-linecap: square\"/>\n",
       "   </g>\n",
       "   <g id=\"patch_4\">\n",
       "    <path d=\"M 182.889773 288.432 \n",
       "L 182.889773 22.32 \n",
       "\" style=\"fill: none; stroke: #000000; stroke-width: 0.8; stroke-linejoin: miter; stroke-linecap: square\"/>\n",
       "   </g>\n",
       "   <g id=\"patch_5\">\n",
       "    <path d=\"M 20.5625 288.432 \n",
       "L 182.889773 288.432 \n",
       "\" style=\"fill: none; stroke: #000000; stroke-width: 0.8; stroke-linejoin: miter; stroke-linecap: square\"/>\n",
       "   </g>\n",
       "   <g id=\"patch_6\">\n",
       "    <path d=\"M 20.5625 22.32 \n",
       "L 182.889773 22.32 \n",
       "\" style=\"fill: none; stroke: #000000; stroke-width: 0.8; stroke-linejoin: miter; stroke-linecap: square\"/>\n",
       "   </g>\n",
       "   <g id=\"text_14\">\n",
       "    <!-- $\\phi_1$ -->\n",
       "    <g transform=\"translate(94.886136 16.32) scale(0.12 -0.12)\">\n",
       "     <defs>\n",
       "      <path id=\"DejaVuSans-Oblique-3d5\" d=\"M 2991 4863 \n",
       "L 2738 3572 \n",
       "Q 3363 3572 3684 3094 \n",
       "Q 4016 2606 3850 1747 \n",
       "Q 3681 888 3159 400 \n",
       "Q 2653 -78 2028 -78 \n",
       "L 1784 -1331 \n",
       "L 1213 -1331 \n",
       "L 1456 -78 \n",
       "Q 834 -78 509 400 \n",
       "Q 178 888 347 1747 \n",
       "Q 513 2606 1034 3094 \n",
       "Q 1544 3572 2166 3572 \n",
       "L 2419 4863 \n",
       "L 2991 4863 \n",
       "z\n",
       "M 2128 434 \n",
       "Q 2481 434 2784 756 \n",
       "Q 3116 1116 3244 1747 \n",
       "Q 3369 2372 3169 2738 \n",
       "Q 2991 3059 2638 3059 \n",
       "L 2128 434 \n",
       "z\n",
       "M 1556 434 \n",
       "L 2066 3059 \n",
       "Q 1716 3059 1413 2738 \n",
       "Q 1072 2372 953 1747 \n",
       "Q 834 1116 1028 756 \n",
       "Q 1203 434 1556 434 \n",
       "z\n",
       "\" transform=\"scale(0.015625)\"/>\n",
       "     </defs>\n",
       "     <use xlink:href=\"#DejaVuSans-Oblique-3d5\" transform=\"translate(0 0.015625)\"/>\n",
       "     <use xlink:href=\"#DejaVuSans-31\" transform=\"translate(65.966797 -16.390625) scale(0.7)\"/>\n",
       "    </g>\n",
       "   </g>\n",
       "  </g>\n",
       "  <g id=\"axes_2\">\n",
       "   <g id=\"patch_7\">\n",
       "    <path d=\"M 215.355227 288.432 \n",
       "L 377.6825 288.432 \n",
       "L 377.6825 22.32 \n",
       "L 215.355227 22.32 \n",
       "z\n",
       "\" style=\"fill: #ffffff\"/>\n",
       "   </g>\n",
       "   <g id=\"matplotlib.axis_3\">\n",
       "    <g id=\"xtick_6\">\n",
       "     <g id=\"line2d_20\">\n",
       "      <g>\n",
       "       <use xlink:href=\"#m839e0e2db9\" x=\"255.693086\" y=\"288.432\" style=\"stroke: #000000; stroke-width: 0.8\"/>\n",
       "      </g>\n",
       "     </g>\n",
       "     <g id=\"text_15\">\n",
       "      <!-- 0.0 -->\n",
       "      <g transform=\"translate(247.741523 303.030437) scale(0.1 -0.1)\">\n",
       "       <use xlink:href=\"#DejaVuSans-30\"/>\n",
       "       <use xlink:href=\"#DejaVuSans-2e\" x=\"63.623047\"/>\n",
       "       <use xlink:href=\"#DejaVuSans-30\" x=\"95.410156\"/>\n",
       "      </g>\n",
       "     </g>\n",
       "    </g>\n",
       "    <g id=\"xtick_7\">\n",
       "     <g id=\"line2d_21\">\n",
       "      <g>\n",
       "       <use xlink:href=\"#m839e0e2db9\" x=\"312.998545\" y=\"288.432\" style=\"stroke: #000000; stroke-width: 0.8\"/>\n",
       "      </g>\n",
       "     </g>\n",
       "     <g id=\"text_16\">\n",
       "      <!-- 0.5 -->\n",
       "      <g transform=\"translate(305.046983 303.030437) scale(0.1 -0.1)\">\n",
       "       <use xlink:href=\"#DejaVuSans-30\"/>\n",
       "       <use xlink:href=\"#DejaVuSans-2e\" x=\"63.623047\"/>\n",
       "       <use xlink:href=\"#DejaVuSans-35\" x=\"95.410156\"/>\n",
       "      </g>\n",
       "     </g>\n",
       "    </g>\n",
       "    <g id=\"xtick_8\">\n",
       "     <g id=\"line2d_22\">\n",
       "      <g>\n",
       "       <use xlink:href=\"#m839e0e2db9\" x=\"370.304005\" y=\"288.432\" style=\"stroke: #000000; stroke-width: 0.8\"/>\n",
       "      </g>\n",
       "     </g>\n",
       "     <g id=\"text_17\">\n",
       "      <!-- 1.0 -->\n",
       "      <g transform=\"translate(362.352443 303.030437) scale(0.1 -0.1)\">\n",
       "       <use xlink:href=\"#DejaVuSans-31\"/>\n",
       "       <use xlink:href=\"#DejaVuSans-2e\" x=\"63.623047\"/>\n",
       "       <use xlink:href=\"#DejaVuSans-30\" x=\"95.410156\"/>\n",
       "      </g>\n",
       "     </g>\n",
       "    </g>\n",
       "   </g>\n",
       "   <g id=\"matplotlib.axis_4\">\n",
       "    <g id=\"ytick_9\">\n",
       "     <g id=\"line2d_23\">\n",
       "      <g>\n",
       "       <use xlink:href=\"#mcf1ae7a303\" x=\"215.355227\" y=\"276.336\" style=\"stroke: #000000; stroke-width: 0.8\"/>\n",
       "      </g>\n",
       "     </g>\n",
       "     <g id=\"text_18\">\n",
       "      <!-- 0 -->\n",
       "      <g transform=\"translate(201.992727 280.135219) scale(0.1 -0.1)\">\n",
       "       <use xlink:href=\"#DejaVuSans-30\"/>\n",
       "      </g>\n",
       "     </g>\n",
       "    </g>\n",
       "    <g id=\"ytick_10\">\n",
       "     <g id=\"line2d_24\">\n",
       "      <g>\n",
       "       <use xlink:href=\"#mcf1ae7a303\" x=\"215.355227\" y=\"240.811771\" style=\"stroke: #000000; stroke-width: 0.8\"/>\n",
       "      </g>\n",
       "     </g>\n",
       "     <g id=\"text_19\">\n",
       "      <!-- 1 -->\n",
       "      <g transform=\"translate(201.992727 244.61099) scale(0.1 -0.1)\">\n",
       "       <use xlink:href=\"#DejaVuSans-31\"/>\n",
       "      </g>\n",
       "     </g>\n",
       "    </g>\n",
       "    <g id=\"ytick_11\">\n",
       "     <g id=\"line2d_25\">\n",
       "      <g>\n",
       "       <use xlink:href=\"#mcf1ae7a303\" x=\"215.355227\" y=\"205.287542\" style=\"stroke: #000000; stroke-width: 0.8\"/>\n",
       "      </g>\n",
       "     </g>\n",
       "     <g id=\"text_20\">\n",
       "      <!-- 2 -->\n",
       "      <g transform=\"translate(201.992727 209.086761) scale(0.1 -0.1)\">\n",
       "       <use xlink:href=\"#DejaVuSans-32\"/>\n",
       "      </g>\n",
       "     </g>\n",
       "    </g>\n",
       "    <g id=\"ytick_12\">\n",
       "     <g id=\"line2d_26\">\n",
       "      <g>\n",
       "       <use xlink:href=\"#mcf1ae7a303\" x=\"215.355227\" y=\"169.763313\" style=\"stroke: #000000; stroke-width: 0.8\"/>\n",
       "      </g>\n",
       "     </g>\n",
       "     <g id=\"text_21\">\n",
       "      <!-- 3 -->\n",
       "      <g transform=\"translate(201.992727 173.562532) scale(0.1 -0.1)\">\n",
       "       <use xlink:href=\"#DejaVuSans-33\"/>\n",
       "      </g>\n",
       "     </g>\n",
       "    </g>\n",
       "    <g id=\"ytick_13\">\n",
       "     <g id=\"line2d_27\">\n",
       "      <g>\n",
       "       <use xlink:href=\"#mcf1ae7a303\" x=\"215.355227\" y=\"134.239084\" style=\"stroke: #000000; stroke-width: 0.8\"/>\n",
       "      </g>\n",
       "     </g>\n",
       "     <g id=\"text_22\">\n",
       "      <!-- 4 -->\n",
       "      <g transform=\"translate(201.992727 138.038302) scale(0.1 -0.1)\">\n",
       "       <use xlink:href=\"#DejaVuSans-34\"/>\n",
       "      </g>\n",
       "     </g>\n",
       "    </g>\n",
       "    <g id=\"ytick_14\">\n",
       "     <g id=\"line2d_28\">\n",
       "      <g>\n",
       "       <use xlink:href=\"#mcf1ae7a303\" x=\"215.355227\" y=\"98.714855\" style=\"stroke: #000000; stroke-width: 0.8\"/>\n",
       "      </g>\n",
       "     </g>\n",
       "     <g id=\"text_23\">\n",
       "      <!-- 5 -->\n",
       "      <g transform=\"translate(201.992727 102.514073) scale(0.1 -0.1)\">\n",
       "       <use xlink:href=\"#DejaVuSans-35\"/>\n",
       "      </g>\n",
       "     </g>\n",
       "    </g>\n",
       "    <g id=\"ytick_15\">\n",
       "     <g id=\"line2d_29\">\n",
       "      <g>\n",
       "       <use xlink:href=\"#mcf1ae7a303\" x=\"215.355227\" y=\"63.190626\" style=\"stroke: #000000; stroke-width: 0.8\"/>\n",
       "      </g>\n",
       "     </g>\n",
       "     <g id=\"text_24\">\n",
       "      <!-- 6 -->\n",
       "      <g transform=\"translate(201.992727 66.989844) scale(0.1 -0.1)\">\n",
       "       <use xlink:href=\"#DejaVuSans-36\"/>\n",
       "      </g>\n",
       "     </g>\n",
       "    </g>\n",
       "    <g id=\"ytick_16\">\n",
       "     <g id=\"line2d_30\">\n",
       "      <g>\n",
       "       <use xlink:href=\"#mcf1ae7a303\" x=\"215.355227\" y=\"27.666396\" style=\"stroke: #000000; stroke-width: 0.8\"/>\n",
       "      </g>\n",
       "     </g>\n",
       "     <g id=\"text_25\">\n",
       "      <!-- 7 -->\n",
       "      <g transform=\"translate(201.992727 31.465615) scale(0.1 -0.1)\">\n",
       "       <use xlink:href=\"#DejaVuSans-37\"/>\n",
       "      </g>\n",
       "     </g>\n",
       "    </g>\n",
       "   </g>\n",
       "   <g id=\"line2d_31\">\n",
       "    <path d=\"M 255.693086 276.336 \n",
       "L 255.801841 273.914378 \n",
       "L 256.122854 271.492757 \n",
       "L 256.711726 268.828973 \n",
       "L 257.537414 266.165189 \n",
       "L 258.589434 263.501405 \n",
       "L 259.982903 260.595459 \n",
       "L 261.619635 257.689514 \n",
       "L 263.651491 254.541405 \n",
       "L 266.121212 251.151135 \n",
       "L 268.861827 247.760865 \n",
       "L 272.074254 244.128432 \n",
       "L 276.027376 240.011676 \n",
       "L 280.533433 235.652757 \n",
       "L 285.871797 230.809514 \n",
       "L 292.363271 225.239784 \n",
       "L 300.340599 218.701405 \n",
       "L 312.550713 209.014919 \n",
       "L 328.673254 196.180324 \n",
       "L 336.521846 189.641946 \n",
       "L 342.590583 184.314378 \n",
       "L 347.777177 179.471135 \n",
       "L 352.122157 175.112216 \n",
       "L 355.688942 171.237622 \n",
       "L 358.750371 167.605189 \n",
       "L 361.337121 164.214919 \n",
       "L 363.640488 160.824649 \n",
       "L 365.506692 157.676541 \n",
       "L 366.980958 154.770595 \n",
       "L 368.202785 151.864649 \n",
       "L 369.089408 149.200865 \n",
       "L 369.74199 146.537081 \n",
       "L 370.150046 143.873297 \n",
       "L 370.299991 141.451676 \n",
       "L 370.220063 139.514378 \n",
       "L 369.920212 137.819243 \n",
       "L 369.409675 136.124108 \n",
       "L 368.577364 134.186811 \n",
       "L 367.489816 132.249514 \n",
       "L 366.157668 130.312216 \n",
       "L 364.379875 128.132757 \n",
       "L 362.321119 125.953297 \n",
       "L 359.72251 123.531676 \n",
       "L 356.509801 120.867892 \n",
       "L 352.9528 118.204108 \n",
       "L 348.712265 115.298162 \n",
       "L 343.734751 112.150054 \n",
       "L 337.553909 108.517622 \n",
       "L 330.519844 104.643027 \n",
       "L 321.690545 100.041946 \n",
       "L 310.009345 94.230054 \n",
       "L 285.468253 82.364108 \n",
       "L 271.781706 75.583568 \n",
       "L 262.47807 70.740324 \n",
       "L 255.021116 66.623568 \n",
       "L 248.872148 62.991135 \n",
       "L 243.562079 59.600865 \n",
       "L 239.053203 56.452757 \n",
       "L 235.292277 53.546811 \n",
       "L 232.214571 50.883027 \n",
       "L 229.747611 48.461405 \n",
       "L 227.8146 46.281946 \n",
       "L 226.169431 44.102486 \n",
       "L 224.960949 42.165189 \n",
       "L 224.002501 40.227892 \n",
       "L 223.304725 38.290595 \n",
       "L 222.916366 36.595459 \n",
       "L 222.742855 34.900324 \n",
       "L 222.73374 34.416 \n",
       "L 222.73374 34.416 \n",
       "\" clip-path=\"url(#pe3b37c222a)\" style=\"fill: none; stroke: #1f77b4; stroke-width: 1.5; stroke-linecap: square\"/>\n",
       "   </g>\n",
       "   <g id=\"line2d_32\">\n",
       "    <path d=\"M 215.355227 140.988687 \n",
       "L 377.6825 140.988687 \n",
       "\" clip-path=\"url(#pe3b37c222a)\" style=\"fill: none; stroke-dasharray: 3.7,1.6; stroke-dashoffset: 0; stroke: #808080\"/>\n",
       "   </g>\n",
       "   <g id=\"line2d_33\">\n",
       "    <path d=\"M 215.355227 34.416 \n",
       "L 377.6825 34.416 \n",
       "\" clip-path=\"url(#pe3b37c222a)\" style=\"fill: none; stroke-dasharray: 3.7,1.6; stroke-dashoffset: 0; stroke: #808080\"/>\n",
       "   </g>\n",
       "   <g id=\"line2d_34\">\n",
       "    <path d=\"M 222.73374 288.432 \n",
       "L 222.73374 22.32 \n",
       "\" clip-path=\"url(#pe3b37c222a)\" style=\"fill: none; stroke-dasharray: 3.7,1.6; stroke-dashoffset: 0; stroke: #808080\"/>\n",
       "   </g>\n",
       "   <g id=\"line2d_35\">\n",
       "    <path d=\"M 370.304005 288.432 \n",
       "L 370.304005 22.32 \n",
       "\" clip-path=\"url(#pe3b37c222a)\" style=\"fill: none; stroke-dasharray: 3.7,1.6; stroke-dashoffset: 0; stroke: #808080\"/>\n",
       "   </g>\n",
       "   <g id=\"line2d_36\">\n",
       "    <path d=\"M 255.693086 288.432 \n",
       "L 255.693086 22.32 \n",
       "\" clip-path=\"url(#pe3b37c222a)\" style=\"fill: none; stroke-dasharray: 5.55,2.4; stroke-dashoffset: 0; stroke: #000000; stroke-width: 1.5\"/>\n",
       "   </g>\n",
       "   <g id=\"patch_8\">\n",
       "    <path d=\"M 215.355227 288.432 \n",
       "L 215.355227 22.32 \n",
       "\" style=\"fill: none; stroke: #000000; stroke-width: 0.8; stroke-linejoin: miter; stroke-linecap: square\"/>\n",
       "   </g>\n",
       "   <g id=\"patch_9\">\n",
       "    <path d=\"M 377.6825 288.432 \n",
       "L 377.6825 22.32 \n",
       "\" style=\"fill: none; stroke: #000000; stroke-width: 0.8; stroke-linejoin: miter; stroke-linecap: square\"/>\n",
       "   </g>\n",
       "   <g id=\"patch_10\">\n",
       "    <path d=\"M 215.355227 288.432 \n",
       "L 377.6825 288.432 \n",
       "\" style=\"fill: none; stroke: #000000; stroke-width: 0.8; stroke-linejoin: miter; stroke-linecap: square\"/>\n",
       "   </g>\n",
       "   <g id=\"patch_11\">\n",
       "    <path d=\"M 215.355227 22.32 \n",
       "L 377.6825 22.32 \n",
       "\" style=\"fill: none; stroke: #000000; stroke-width: 0.8; stroke-linejoin: miter; stroke-linecap: square\"/>\n",
       "   </g>\n",
       "   <g id=\"text_26\">\n",
       "    <!-- $\\phi_2$ -->\n",
       "    <g transform=\"translate(289.678864 16.32) scale(0.12 -0.12)\">\n",
       "     <use xlink:href=\"#DejaVuSans-Oblique-3d5\" transform=\"translate(0 0.015625)\"/>\n",
       "     <use xlink:href=\"#DejaVuSans-32\" transform=\"translate(65.966797 -16.390625) scale(0.7)\"/>\n",
       "    </g>\n",
       "   </g>\n",
       "  </g>\n",
       " </g>\n",
       " <defs>\n",
       "  <clipPath id=\"p4e1495aea9\">\n",
       "   <rect x=\"20.5625\" y=\"22.32\" width=\"162.327273\" height=\"266.112\"/>\n",
       "  </clipPath>\n",
       "  <clipPath id=\"pe3b37c222a\">\n",
       "   <rect x=\"215.355227\" y=\"22.32\" width=\"162.327273\" height=\"266.112\"/>\n",
       "  </clipPath>\n",
       " </defs>\n",
       "</svg>\n"
      ],
      "text/plain": [
       "<Figure size 640x480 with 2 Axes>"
      ]
     },
     "metadata": {},
     "output_type": "display_data"
    }
   ],
   "source": [
    "#| label: fig-eigenvektoren\n",
    "#| fig-cap: \"Deformation des Mehrmassenschwingers anhand der Eigenvektoren\"\n",
    "\n",
    "\n",
    "\n",
    "#Numerische Daten generieren\n",
    "w_eigenform_1_lamb = sp.lambdify(x, w_eigenform_1.rhs)\n",
    "w_eigenform_2_lamb = sp.lambdify(x, w_eigenform_2.rhs)\n",
    "\n",
    "x_array = np.linspace(0, float((H_1+H_2).subs(params_plot)), 1000)\n",
    "\n",
    "w_1_array = w_eigenform_1_lamb(x_array)\n",
    "w_2_array = w_eigenform_2_lamb(x_array)\n",
    "\n",
    "\n",
    "# Figure und Axes erstellen\n",
    "fig, (ax1, ax2) = plt.subplots(1, 2)\n",
    "\n",
    "# Ersten Plot erstellen\n",
    "\n",
    "ax1.plot(w_1_array, x_array)\n",
    "ax1.set_title('$\\phi_1$')\n",
    "\n",
    "## Horizontale Linien\n",
    "ax1.axhline(H_1.subs(params_plot),linestyle='dashed', color='gray',linewidth=1)\n",
    "ax1.axhline((H_1+H_2).subs(params_plot),linestyle='dashed', color='gray',linewidth=1)\n",
    "\n",
    "ax1.axvline(phi_21.subs(params),linestyle='dashed', color='gray',linewidth=1)\n",
    "ax1.axvline(phi_11.subs(params),linestyle='dashed', color='gray',linewidth=1)\n",
    "\n",
    "ax1.axvline(0,linestyle='dashed', color='black')\n",
    "\n",
    "\n",
    "\n",
    "\n",
    "# Zweiten Plot erstellen\n",
    "\n",
    "ax2.plot(w_2_array, x_array)\n",
    "ax2.set_title('$\\phi_2$')\n",
    "\n",
    "## Horizontale Linien\n",
    "ax2.axhline(H_1.subs(params_plot),linestyle='dashed', color='gray',linewidth=1)\n",
    "ax2.axhline((H_1+H_2).subs(params_plot),linestyle='dashed', color='gray',linewidth=1)\n",
    "\n",
    "ax2.axvline(phi_22.subs(params),linestyle='dashed', color='gray',linewidth=1)\n",
    "ax2.axvline(phi_12.subs(params),linestyle='dashed', color='gray',linewidth=1)\n",
    "\n",
    "ax2.axvline(0,linestyle='dashed', color='black')\n",
    "\n",
    "\n",
    "# Plots anzeigen\n",
    "plt.show()\n",
    "\n",
    "\n"
   ]
  },
  {
   "cell_type": "markdown",
   "metadata": {},
   "source": [
    "### Modale Analyse\n",
    "\n",
    "Die Modale Analyse zielt darauf ab, den Zweimassenschwinger zu entkoppeln. Dazu wird in einem ersten Schritt die Orthogonalitätsbedingung kontrolliert. Diese muss erfüllt sein um eine Entkoppelung durchzuführen."
   ]
  },
  {
   "cell_type": "markdown",
   "metadata": {},
   "source": [
    "#### Orthogonalitätsbedingung\n",
    "\n",
    "Angewendet auf die Massenmatrix:\n",
    "Es zeigen sich kleine numerische Unreinheiten, welche vernachlässigt werden können."
   ]
  },
  {
   "cell_type": "code",
   "execution_count": 89,
   "metadata": {},
   "outputs": [
    {
     "data": {
      "text/latex": [
       "\\begin{equation*}\\phi_{1}^{T} M \\phi_{1} = \\left[\\begin{matrix}\\frac{5.71 \\cdot 10^{3} \\text{N} \\text{s}^{2}}{\\text{m}}\\end{matrix}\\right]\\end{equation*}"
      ],
      "text/plain": [
       "           ⎡                     2⎤\n",
       "  T        ⎢5.71e+3⋅newton⋅second ⎥\n",
       "φ₁ ⋅M⋅φ₁ = ⎢──────────────────────⎥\n",
       "           ⎣        meter         ⎦"
      ]
     },
     "metadata": {},
     "output_type": "display_data"
    },
    {
     "data": {
      "text/latex": [
       "\\begin{equation*}\\phi_{2}^{T} M \\phi_{2} = \\left[\\begin{matrix}\\frac{2.5 \\cdot 10^{3} \\text{N} \\text{s}^{2}}{\\text{m}}\\end{matrix}\\right]\\end{equation*}"
      ],
      "text/plain": [
       "           ⎡                    2⎤\n",
       "  T        ⎢2.5e+3⋅newton⋅second ⎥\n",
       "φ₂ ⋅M⋅φ₂ = ⎢─────────────────────⎥\n",
       "           ⎣        meter        ⎦"
      ]
     },
     "metadata": {},
     "output_type": "display_data"
    },
    {
     "data": {
      "text/latex": [
       "\\begin{equation*}\\phi_{2}^{T} M \\phi_{1} = \\left[\\begin{matrix}\\frac{1.59 \\cdot 10^{-12} \\text{N} \\text{s}^{2}}{\\text{m}}\\end{matrix}\\right]\\end{equation*}"
      ],
      "text/plain": [
       "           ⎡                      2⎤\n",
       "  T        ⎢1.59e-12⋅newton⋅second ⎥\n",
       "φ₂ ⋅M⋅φ₁ = ⎢───────────────────────⎥\n",
       "           ⎣         meter         ⎦"
      ]
     },
     "metadata": {},
     "output_type": "display_data"
    },
    {
     "data": {
      "text/latex": [
       "\\begin{equation*}\\phi_{1}^{T} M \\phi_{2} = \\left[\\begin{matrix}\\frac{1.59 \\cdot 10^{-12} \\text{N} \\text{s}^{2}}{\\text{m}}\\end{matrix}\\right]\\end{equation*}"
      ],
      "text/plain": [
       "           ⎡                      2⎤\n",
       "  T        ⎢1.59e-12⋅newton⋅second ⎥\n",
       "φ₁ ⋅M⋅φ₂ = ⎢───────────────────────⎥\n",
       "           ⎣         meter         ⎦"
      ]
     },
     "metadata": {},
     "output_type": "display_data"
    }
   ],
   "source": [
    "render.eq_display(sp.MatrixSymbol('phi_1',2,1).T*sp.MatrixSymbol('M', 2,2)*sp.MatrixSymbol('phi_1',2,1),(phi_1.T*M*phi_1).subs(params).evalf(3),\n",
    "                  \n",
    "                  sp.MatrixSymbol('phi_2',2,1).T*sp.MatrixSymbol('M', 2,2)*sp.MatrixSymbol('phi_2',2,1),(phi_2.T*M*phi_2).subs(params).evalf(3),\n",
    "\n",
    "                  sp.MatrixSymbol('phi_2',2,1).T*sp.MatrixSymbol('M', 2,2)*sp.MatrixSymbol('phi_1',2,1),(phi_2.T*M*phi_1).subs(params).evalf(3),\n",
    "\n",
    "                  sp.MatrixSymbol('phi_1',2,1).T*sp.MatrixSymbol('M', 2,2)*sp.MatrixSymbol('phi_2',2,1),(phi_1.T*M*phi_2).subs(params).evalf(3))"
   ]
  },
  {
   "cell_type": "markdown",
   "metadata": {},
   "source": [
    "Für die Steifigkeitsmatrix:"
   ]
  },
  {
   "cell_type": "code",
   "execution_count": 90,
   "metadata": {},
   "outputs": [
    {
     "data": {
      "text/latex": [
       "\\begin{equation*}\\phi_{1}^{T} K \\phi_{1} = \\left[\\begin{matrix}\\frac{1.45 \\cdot 10^{5} \\text{N}}{\\text{m}}\\end{matrix}\\right]\\end{equation*}"
      ],
      "text/plain": [
       "  T        ⎡1.45e+5⋅newton⎤\n",
       "φ₁ ⋅K⋅φ₁ = ⎢──────────────⎥\n",
       "           ⎣    meter     ⎦"
      ]
     },
     "metadata": {},
     "output_type": "display_data"
    },
    {
     "data": {
      "text/latex": [
       "\\begin{equation*}\\phi_{2}^{T} K \\phi_{2} = \\left[\\begin{matrix}\\frac{8.28 \\cdot 10^{5} \\text{N}}{\\text{m}}\\end{matrix}\\right]\\end{equation*}"
      ],
      "text/plain": [
       "  T        ⎡8.28e+5⋅newton⎤\n",
       "φ₂ ⋅K⋅φ₂ = ⎢──────────────⎥\n",
       "           ⎣    meter     ⎦"
      ]
     },
     "metadata": {},
     "output_type": "display_data"
    },
    {
     "data": {
      "text/latex": [
       "\\begin{equation*}\\phi_{2}^{T} K \\phi_{1} = \\left[\\begin{matrix}\\frac{9.459 \\cdot 10^{-11} \\text{N}}{\\text{m}}\\end{matrix}\\right]\\end{equation*}"
      ],
      "text/plain": [
       "  T        ⎡9.459e-11⋅newton⎤\n",
       "φ₂ ⋅K⋅φ₁ = ⎢────────────────⎥\n",
       "           ⎣     meter      ⎦"
      ]
     },
     "metadata": {},
     "output_type": "display_data"
    },
    {
     "data": {
      "text/latex": [
       "\\begin{equation*}\\phi_{1}^{T} K \\phi_{2} = \\left[\\begin{matrix}\\frac{9.459 \\cdot 10^{-11} \\text{N}}{\\text{m}}\\end{matrix}\\right]\\end{equation*}"
      ],
      "text/plain": [
       "  T        ⎡9.459e-11⋅newton⎤\n",
       "φ₁ ⋅K⋅φ₂ = ⎢────────────────⎥\n",
       "           ⎣     meter      ⎦"
      ]
     },
     "metadata": {},
     "output_type": "display_data"
    }
   ],
   "source": [
    "render.eq_display(sp.MatrixSymbol('phi_1',2,1).T*sp.MatrixSymbol('K', 2,2)*sp.MatrixSymbol('phi_1',2,1),sp.simplify((phi_1.T*K*phi_1).subs(params)).evalf(3),\n",
    "                  \n",
    "                  sp.MatrixSymbol('phi_2',2,1).T*sp.MatrixSymbol('K', 2,2)*sp.MatrixSymbol('phi_2',2,1),sp.simplify((phi_2.T*K*phi_2).subs(params)).evalf(3),\n",
    "\n",
    "                  sp.MatrixSymbol('phi_2',2,1).T*sp.MatrixSymbol('K', 2,2)*sp.MatrixSymbol('phi_1',2,1),sp.simplify((phi_2.T*K*phi_1).subs(params)).evalf(4),\n",
    "                  \n",
    "                  sp.MatrixSymbol('phi_1',2,1).T*sp.MatrixSymbol('K', 2,2)*sp.MatrixSymbol('phi_2',2,1),sp.simplify((phi_1.T*K*phi_2).subs(params)).evalf(4))"
   ]
  },
  {
   "cell_type": "markdown",
   "metadata": {},
   "source": [
    "#### Modal- und Spektralmatrix\n",
    "\n",
    "Mittels der Modal- und Spektralmatrix lassen sich die generalisierten Grössen effizient ermitteln."
   ]
  },
  {
   "cell_type": "code",
   "execution_count": 91,
   "metadata": {},
   "outputs": [
    {
     "data": {
      "text/latex": [
       "\\begin{equation*}Modalmatrix = \\Phi\\end{equation*}"
      ],
      "text/plain": [
       "Modalmatrix = Φ"
      ]
     },
     "metadata": {},
     "output_type": "display_data"
    },
    {
     "data": {
      "text/latex": [
       "\\begin{equation*}\\Phi = \\left[\\begin{matrix}0.6573 & 1.0\\\\1.0 & -0.2876\\end{matrix}\\right]\\end{equation*}"
      ],
      "text/plain": [
       "    ⎡0.6573    1.0  ⎤\n",
       "Φ = ⎢               ⎥\n",
       "    ⎣ 1.0    -0.2876⎦"
      ]
     },
     "metadata": {},
     "output_type": "display_data"
    },
    {
     "data": {
      "text/latex": [
       "\\begin{equation*}Spektralmatrix = \\Omega^{2}\\end{equation*}"
      ],
      "text/plain": [
       "                  2\n",
       "Spektralmatrix = Ω "
      ]
     },
     "metadata": {},
     "output_type": "display_data"
    },
    {
     "data": {
      "text/latex": [
       "\\begin{equation*}\\Omega^{2} = \\left[\\begin{matrix}\\frac{25.38}{\\text{s}^{2}} & 0\\\\0 & \\frac{331.7}{\\text{s}^{2}}\\end{matrix}\\right]\\end{equation*}"
      ],
      "text/plain": [
       "     ⎡ 25.38          ⎤\n",
       "     ⎢───────     0   ⎥\n",
       "     ⎢      2         ⎥\n",
       "     ⎢second          ⎥\n",
       "Ω² = ⎢                ⎥\n",
       "     ⎢          331.7 ⎥\n",
       "     ⎢   0     ───────⎥\n",
       "     ⎢               2⎥\n",
       "     ⎣         second ⎦"
      ]
     },
     "metadata": {},
     "output_type": "display_data"
    }
   ],
   "source": [
    "Phi = sp.Matrix([[phi_1, phi_2]])\n",
    "Omega = sp.Matrix([[omega_1, 0],[0, omega_2]])\n",
    "\n",
    "render.eq_display('Modalmatrix', 'Phi',\n",
    "                  sp.MatrixSymbol('Phi', 2, 2), Phi.subs(params).evalf(4),\n",
    "                  'Spektralmatrix', 'Omega^2',\n",
    "                  sp.MatrixSymbol('Omega^2', 2, 2), (Omega**2).subs(params).evalf(4))"
   ]
  },
  {
   "cell_type": "markdown",
   "metadata": {},
   "source": [
    "#### Generalisierte Grössen"
   ]
  },
  {
   "cell_type": "code",
   "execution_count": 92,
   "metadata": {},
   "outputs": [
    {
     "data": {
      "text/latex": [
       "\\begin{equation*}M^{\\star} = \\left[\\begin{matrix}\\frac{5707.3 \\text{N} \\text{s}^{2}}{\\text{m}} & \\frac{1.5916 \\cdot 10^{-12} \\text{N} \\text{s}^{2}}{\\text{m}}\\\\\\frac{1.5916 \\cdot 10^{-12} \\text{N} \\text{s}^{2}}{\\text{m}} & \\frac{2497.0 \\text{N} \\text{s}^{2}}{\\text{m}}\\end{matrix}\\right]\\end{equation*}"
      ],
      "text/plain": [
       "           ⎡                      2                            2⎤\n",
       "           ⎢  5707.3⋅newton⋅second     1.5916e-12⋅newton⋅second ⎥\n",
       "           ⎢  ─────────────────────    ─────────────────────────⎥\n",
       "           ⎢          meter                      meter          ⎥\n",
       "M__\\star = ⎢                                                    ⎥\n",
       "           ⎢                        2                        2  ⎥\n",
       "           ⎢1.5916e-12⋅newton⋅second     2497.0⋅newton⋅second   ⎥\n",
       "           ⎢─────────────────────────    ─────────────────────  ⎥\n",
       "           ⎣          meter                      meter          ⎦"
      ]
     },
     "metadata": {},
     "output_type": "display_data"
    },
    {
     "data": {
      "text/latex": [
       "\\begin{equation*}K^{\\star} = \\left[\\begin{matrix}\\frac{1.4487 \\cdot 10^{5} \\text{N}}{\\text{m}} & \\frac{9.4587 \\cdot 10^{-11} \\text{N}}{\\text{m}}\\\\\\frac{9.4587 \\cdot 10^{-11} \\text{N}}{\\text{m}} & \\frac{8.2813 \\cdot 10^{5} \\text{N}}{\\text{m}}\\end{matrix}\\right]\\end{equation*}"
      ],
      "text/plain": [
       "           ⎡1.4487e+5⋅newton   9.4587e-11⋅newton⎤\n",
       "           ⎢────────────────   ─────────────────⎥\n",
       "           ⎢     meter               meter      ⎥\n",
       "K__\\star = ⎢                                    ⎥\n",
       "           ⎢9.4587e-11⋅newton  8.2813e+5⋅newton ⎥\n",
       "           ⎢─────────────────  ──────────────── ⎥\n",
       "           ⎣      meter             meter       ⎦"
      ]
     },
     "metadata": {},
     "output_type": "display_data"
    }
   ],
   "source": [
    "M_star = Phi.T * M * Phi\n",
    "K_star = Phi.T * K * Phi\n",
    "\n",
    "\n",
    "render.eq_display(sp.MatrixSymbol('M^\\star', 2,2),sp.simplify(M_star.subs(params)).evalf(5),\n",
    "                  sp.MatrixSymbol('K^\\star', 2,2),sp.simplify(K_star.subs(params)).evalf(5))\n",
    "                 "
   ]
  },
  {
   "cell_type": "markdown",
   "metadata": {},
   "source": [
    "#### Kontrolle der modalen Transformation\n",
    "\n",
    "Die Eigenkreisfrequenzen ändern sich durch die Transformation nicht."
   ]
  },
  {
   "cell_type": "code",
   "execution_count": 93,
   "metadata": {},
   "outputs": [
    {
     "data": {
      "text/latex": [
       "\\begin{equation*}\\omega_{1} = \\frac{5.04}{\\text{s}}\\end{equation*}"
      ],
      "text/plain": [
       "      5.04 \n",
       "ω₁ = ──────\n",
       "     second"
      ]
     },
     "metadata": {},
     "output_type": "display_data"
    },
    {
     "data": {
      "text/latex": [
       "\\begin{equation*}\\omega_{1 modal} = \\frac{5.04}{\\text{s}}\\end{equation*}"
      ],
      "text/plain": [
       "             5.04 \n",
       "ω_1_modal = ──────\n",
       "            second"
      ]
     },
     "metadata": {},
     "output_type": "display_data"
    },
    {
     "data": {
      "text/latex": [
       "\\begin{equation*}\\omega_{2} = \\frac{18.21}{\\text{s}}\\end{equation*}"
      ],
      "text/plain": [
       "     18.21 \n",
       "ω₂ = ──────\n",
       "     second"
      ]
     },
     "metadata": {},
     "output_type": "display_data"
    },
    {
     "data": {
      "text/latex": [
       "\\begin{equation*}\\omega_{2 modal} = \\frac{18.21}{\\text{s}}\\end{equation*}"
      ],
      "text/plain": [
       "            18.21 \n",
       "ω_2_modal = ──────\n",
       "            second"
      ]
     },
     "metadata": {},
     "output_type": "display_data"
    }
   ],
   "source": [
    "omega_1_kontrolle = sp.sqrt(K_star[0] / M_star[0])\n",
    "omega_2_kontrolle = sp.sqrt(K_star[3] / M_star[3])\n",
    "\n",
    "render.eq_display('omega_1', omega_1.subs(params).simplify().evalf(3),\n",
    "                  'omega_1_modal', omega_1_kontrolle.subs(params).simplify().evalf(3),\n",
    "                  'omega_2', omega_2.subs(params).simplify().evalf(4),\n",
    "                  'omega_2_modal', omega_2_kontrolle.subs(params).simplify().evalf(4))\n",
    "\n",
    "\n"
   ]
  },
  {
   "cell_type": "markdown",
   "metadata": {},
   "source": [
    "#### Partizipationsfaktor $\\Gamma$"
   ]
  },
  {
   "cell_type": "markdown",
   "metadata": {},
   "source": [
    "Die Verteilung des Partizipationsfaktor gibt einen direkten Hinweis, welcher Eigenmode an der Gesamtanwort den grössten Einfluss (beteiligt bzw. partizipiert) hat.\n",
    "\n",
    "$$\\Gamma_n = \\frac{\\Phi_n^T \\mathbf{M 1}}{\\Phi_n^T \\mathbf{M}\\Phi_n}$$\n",
    "\n",
    "In allgemeiner Form lautet der Partizipationsfaktor:\n",
    "\n",
    "$$\n",
    "\\Gamma_n = \\frac{\\Phi_n^T \\mathbf{M r^\\star}}{\\Phi_n^T \\mathbf{M}\\Phi_n}\n",
    "$${#eq-split_part}\n",
    "\n",
    "$\\mathbf{r^\\star}$ beschreibt die Starrkörperverschiebung infolge der Erdbebenanregung $u_g$ am Fusspunkt des Gesamtsystems.\n",
    "\n",
    "\n",
    "\n",
    "$$\\mathbf{r^\\star} = \\begin{bmatrix}\n",
    "FHG_1 \\\\\n",
    "FHG_2 \n",
    "\\end{bmatrix}=\n",
    "\\begin{bmatrix}\n",
    "\\cos(0) \\\\\n",
    "\\cos(0) \n",
    "\\end{bmatrix}=\n",
    "\\begin{bmatrix}\n",
    "1 \\\\\n",
    "1 \n",
    "\\end{bmatrix}= \\mathbf{1}$$\n",
    "\n",
    "Die Partizipationsmatrix lässt sich direkt durch folgende Gleichung ermitteln:\n",
    "\n",
    "$$\n",
    "\\Gamma = M^{\\star-1} \\cdot \\Phi^T \\cdot M \\cdot 1\n",
    "$${#eq-matrix_part}\n",
    "\n",
    "Gelöst mit @eq-matrix_part:"
   ]
  },
  {
   "cell_type": "code",
   "execution_count": 94,
   "metadata": {},
   "outputs": [
    {
     "data": {
      "text/latex": [
       "\\begin{equation*}\\Gamma = \\left[\\begin{matrix}1.08\\\\0.288\\end{matrix}\\right]\\end{equation*}"
      ],
      "text/plain": [
       "    ⎡1.08 ⎤\n",
       "Γ = ⎢     ⎥\n",
       "    ⎣0.288⎦"
      ]
     },
     "metadata": {},
     "output_type": "display_data"
    }
   ],
   "source": [
    "Gamma = M_star**-1 * Phi.T * M*one_vec \n",
    "\n",
    "render.eq_display(\n",
    "    sp.MatrixSymbol('Gamma',2,1), Gamma.subs(params).evalf(3))"
   ]
  },
  {
   "cell_type": "markdown",
   "metadata": {},
   "source": [
    "Gelöst mit @eq-split_part:"
   ]
  },
  {
   "cell_type": "code",
   "execution_count": 95,
   "metadata": {},
   "outputs": [
    {
     "data": {
      "text/latex": [
       "\\begin{equation*}\\Gamma_{1} = \\frac{m_{1} \\phi_{11} + m_{2} \\phi_{21}}{m_{1} \\phi_{11}^{2} + m_{2} \\phi_{21}^{2}}\\end{equation*}"
      ],
      "text/plain": [
       "      m₁⋅φ₁₁ + m₂⋅φ₂₁ \n",
       "Γ₁ = ─────────────────\n",
       "           2         2\n",
       "     m₁⋅φ₁₁  + m₂⋅φ₂₁ "
      ]
     },
     "metadata": {},
     "output_type": "display_data"
    },
    {
     "data": {
      "text/latex": [
       "\\begin{equation*}\\Gamma_{1} = 1.08\\end{equation*}"
      ],
      "text/plain": [
       "Γ₁ = 1.08"
      ]
     },
     "metadata": {},
     "output_type": "display_data"
    },
    {
     "data": {
      "text/latex": [
       "\\begin{equation*}\\Gamma_{2} = \\frac{m_{1} \\phi_{12} + m_{2} \\phi_{22}}{m_{1} \\phi_{12}^{2} + m_{2} \\phi_{22}^{2}}\\end{equation*}"
      ],
      "text/plain": [
       "      m₁⋅φ₁₂ + m₂⋅φ₂₂ \n",
       "Γ₂ = ─────────────────\n",
       "           2         2\n",
       "     m₁⋅φ₁₂  + m₂⋅φ₂₂ "
      ]
     },
     "metadata": {},
     "output_type": "display_data"
    },
    {
     "data": {
      "text/latex": [
       "\\begin{equation*}\\Gamma_{2} = 0.288\\end{equation*}"
      ],
      "text/plain": [
       "Γ₂ = 0.288"
      ]
     },
     "metadata": {},
     "output_type": "display_data"
    },
    {
     "data": {
      "text/latex": [
       "\\begin{equation*}\\Gamma^{2}_{n} = \\left[\\begin{matrix}1.17\\\\0.0831\\end{matrix}\\right]\\end{equation*}"
      ],
      "text/plain": [
       "      ⎡ 1.17 ⎤\n",
       "Γ²ₙ = ⎢      ⎥\n",
       "      ⎣0.0831⎦"
      ]
     },
     "metadata": {},
     "output_type": "display_data"
    }
   ],
   "source": [
    "one_vec = sp.ones(2,1)\n",
    "\n",
    "gamma_1 = (phi_1.T*M*one_vec)[0]/(phi_1.T*M*phi_1)[0]\n",
    "gamma_2 = (phi_2.T*M*one_vec)[0]/(phi_2.T*M*phi_2)[0]\n",
    "gamma_sqr = sp.Matrix([[gamma_1**2],[gamma_2**2]])\n",
    "render.eq_display('Gamma_1', gamma_1,\n",
    "                  'Gamma_1', gamma_1.subs(params).evalf(3),\n",
    "                  'Gamma_2', gamma_2,\n",
    "                  'Gamma_2', gamma_2.subs(params).evalf(3),\n",
    "                  sp.MatrixSymbol('Gamma^2_n',2,1),gamma_sqr.subs(params).evalf(3))"
   ]
  },
  {
   "cell_type": "markdown",
   "metadata": {},
   "source": [
    "### Elastisches Antwortspektrum\n",
    "\n",
    "Aus der Aufgabenstellung darf nach [@SIA261_2020] Abs. 16.2.3.1 Kurve $E$ gewählt werden."
   ]
  },
  {
   "cell_type": "code",
   "execution_count": 96,
   "metadata": {},
   "outputs": [],
   "source": [
    "a_gd = 1 *unit.m /unit.second**2"
   ]
  },
  {
   "cell_type": "markdown",
   "metadata": {},
   "source": [
    "#### Grundschwingzeit\n",
    "\n",
    "Die Grundschwingzeit kann anhand der bereits ermittelten Eigenkreisfrequenzen ermittelt werden."
   ]
  },
  {
   "cell_type": "code",
   "execution_count": 97,
   "metadata": {},
   "outputs": [
    {
     "data": {
      "text/latex": [
       "\\begin{equation*}T_{1} = 1.25 \\text{s}\\end{equation*}"
      ],
      "text/plain": [
       "T₁ = 1.25⋅second"
      ]
     },
     "metadata": {},
     "output_type": "display_data"
    },
    {
     "data": {
      "text/latex": [
       "\\begin{equation*}T_{2} = 0.345 \\text{s}\\end{equation*}"
      ],
      "text/plain": [
       "T₂ = 0.345⋅second"
      ]
     },
     "metadata": {},
     "output_type": "display_data"
    }
   ],
   "source": [
    "T_1 = (omega_1 /(2*sp.pi))**-1\n",
    "T_2 = (omega_2 /(2*sp.pi))**-1\n",
    "\n",
    "render.eq_display('T_1', T_1.subs(params).evalf(3),\n",
    "                  'T_2', T_2.subs(params).evalf(3),\n",
    "                  )"
   ]
  },
  {
   "cell_type": "markdown",
   "metadata": {},
   "source": [
    "#### Elastisches Antwortspektrum"
   ]
  },
  {
   "cell_type": "code",
   "execution_count": 98,
   "metadata": {},
   "outputs": [
    {
     "data": {
      "text/latex": [
       "\\begin{equation*}S_{e} = \\frac{2.5 S_{} T_{C} a_{gd} \\eta}{T}\\end{equation*}"
      ],
      "text/plain": [
       "     2.5⋅S⋅T_C⋅a_gd⋅η\n",
       "Sₑ = ────────────────\n",
       "            T        "
      ]
     },
     "metadata": {},
     "output_type": "display_data"
    },
    {
     "data": {
      "text/latex": [
       "\\begin{equation*}S_{e 1} = \\frac{0.852 \\text{m}}{\\text{s}^{2}}\\end{equation*}"
      ],
      "text/plain": [
       "       0.852⋅meter\n",
       "Sₑ ₁ = ───────────\n",
       "               2  \n",
       "         second   "
      ]
     },
     "metadata": {},
     "output_type": "display_data"
    }
   ],
   "source": [
    "\n",
    "S_e_1 = antwortspektrum(a_gd, T_1.subs(params).evalf(3), Baugrundklasse='E')\n",
    "render.eq_display('S_e_1', S_e_1.evalf(3))"
   ]
  },
  {
   "cell_type": "code",
   "execution_count": 99,
   "metadata": {},
   "outputs": [
    {
     "data": {
      "text/latex": [
       "\\begin{equation*}S_{e} = \\frac{2.5 S_{} T_{C} a_{gd} \\eta}{T}\\end{equation*}"
      ],
      "text/plain": [
       "     2.5⋅S⋅T_C⋅a_gd⋅η\n",
       "Sₑ = ────────────────\n",
       "            T        "
      ]
     },
     "metadata": {},
     "output_type": "display_data"
    },
    {
     "data": {
      "text/latex": [
       "\\begin{equation*}S_{e 2} = \\frac{3.08 \\text{m}}{\\text{s}^{2}}\\end{equation*}"
      ],
      "text/plain": [
       "       3.08⋅meter\n",
       "Sₑ ₂ = ──────────\n",
       "              2  \n",
       "        second   "
      ]
     },
     "metadata": {},
     "output_type": "display_data"
    }
   ],
   "source": [
    "S_e_2 = antwortspektrum(a_gd, T_2.subs(params).evalf(3), Baugrundklasse = 'E')\n",
    "\n",
    "render.eq_display('S_e_2', S_e_2.evalf(3))"
   ]
  },
  {
   "cell_type": "markdown",
   "metadata": {},
   "source": [
    "### Maximale Deformation\n",
    "\n",
    "Die maximale Deformation resultiert aus der Beschleunigung $S_e$ und der Eigenkreisfrequenz $\\omega_n^2$. Für die Modalen EMS gilt es diese anhand der Partizipationsfaktoren zu gewichten. Zur effektiven Bestimmung der Auslenkung sind die Resultate der EMS mittels SRSS-Regel zu überlagern."
   ]
  },
  {
   "cell_type": "code",
   "execution_count": 100,
   "metadata": {},
   "outputs": [
    {
     "data": {
      "text/latex": [
       "\\begin{equation*}q_{1 max} = \\frac{\\Gamma_{1} S_{e 1}}{\\omega_{1}^{2}}\\end{equation*}"
      ],
      "text/plain": [
       "         Γ₁⋅Sₑ ₁\n",
       "q₁ ₘₐₓ = ───────\n",
       "             2  \n",
       "           ω₁   "
      ]
     },
     "metadata": {},
     "output_type": "display_data"
    },
    {
     "data": {
      "text/latex": [
       "\\begin{equation*}q_{1 max} = 0.0364 \\text{m}\\end{equation*}"
      ],
      "text/plain": [
       "q₁ ₘₐₓ = 0.0364⋅meter"
      ]
     },
     "metadata": {},
     "output_type": "display_data"
    },
    {
     "data": {
      "text/latex": [
       "\\begin{equation*}q_{2 max} = \\frac{\\Gamma_{2} S_{e 2}}{\\omega_{2}^{2}}\\end{equation*}"
      ],
      "text/plain": [
       "         Γ₂⋅Sₑ ₂\n",
       "q₂ ₘₐₓ = ───────\n",
       "             2  \n",
       "           ω₂   "
      ]
     },
     "metadata": {},
     "output_type": "display_data"
    },
    {
     "data": {
      "text/latex": [
       "\\begin{equation*}q_{2 max} = 0.00268 \\text{m}\\end{equation*}"
      ],
      "text/plain": [
       "q₂ ₘₐₓ = 0.00268⋅meter"
      ]
     },
     "metadata": {},
     "output_type": "display_data"
    }
   ],
   "source": [
    "q_1_max = Gamma[0] * S_e_1 / omega_1**2\n",
    "q_2_max = Gamma[1] * S_e_2 / omega_2**2\n",
    "\n",
    "render.eq_display('q_1_max',\"Gamma_1 * S_e_1 / omega_1**2\",\n",
    "'q_1_max', q_1_max.subs(params).evalf(3),\n",
    "'q_2_max',\"Gamma_2 * S_e_2 / omega_2**2\",\n",
    "'q_2_max', q_2_max.subs(params).evalf(3))\n"
   ]
  },
  {
   "cell_type": "markdown",
   "metadata": {},
   "source": [
    "Um die Entkoppelung rückzuführen gilt es die erhaltenen Resultate zu überlagern. Dabei gibt es unterschiedliche Ansätze. Bei weit auseinander liegenden Eigenfrequenzen kann die SRSS-Überlagerung verwendet werden.\n",
    "\n",
    "$$u_{max} = \\sqrt{\\sum_{n=1}^2 (q_{n} \\cdot \\phi_n)^2}$$"
   ]
  },
  {
   "cell_type": "code",
   "execution_count": 101,
   "metadata": {},
   "outputs": [
    {
     "data": {
      "text/latex": [
       "\\begin{equation*}u_{max} = \\left[\\begin{matrix}0.024 \\text{m}\\\\0.0364 \\text{m}\\end{matrix}\\right]\\end{equation*}"
      ],
      "text/plain": [
       "       ⎡0.024⋅meter ⎤\n",
       "uₘₐₓ = ⎢            ⎥\n",
       "       ⎣0.0364⋅meter⎦"
      ]
     },
     "metadata": {},
     "output_type": "display_data"
    }
   ],
   "source": [
    "u_max = ((phi_1*q_1_max).applyfunc(lambda x: x**2)+(phi_2*q_2_max).applyfunc(lambda x: x**2)).applyfunc(sp.sqrt)\n",
    "\n",
    "\n",
    "render.eq_display(sp.MatrixSymbol('u_max', 2,1), u_max.subs(params).evalf(3))"
   ]
  },
  {
   "cell_type": "code",
   "execution_count": 102,
   "metadata": {},
   "outputs": [],
   "source": [
    "Delta_A, Delta_B, zeta = sp.symbols('Delta_A, Delta_B, zeta')\n",
    "\n",
    "\n",
    "\n",
    "#Ansatzfunktion für Teil 1 der Funktion\n",
    "zeta = x/l\n",
    "w_ansatz = Delta_A + (Delta_B-Delta_A)*(3*zeta**2 - 2*zeta**3)\n",
    "\n",
    "w_1_x = w_ansatz.subs(Delta_A, 0).subs(Delta_B, u_max[0].subs(params)/unit.m).subs(l,H_1.subs(params_plot))\n",
    "\n",
    "\n",
    "\n",
    "\n",
    "#Ansatzfunktion für Teil 2 der Funktion\n",
    "zeta = (x-H_1.subs(params_plot))/l\n",
    "w_ansatz = Delta_A + (Delta_B-Delta_A)*(3*zeta**2 - 2*zeta**3)\n",
    "\n",
    "w_2_x = w_ansatz.subs(Delta_A, u_max[0].subs(params)/unit.m).subs(Delta_B, u_max[1].subs(params)/unit.m).subs(l,H_2.subs(params_plot))\n",
    "\n",
    "\n",
    "\n",
    "#Zusammengestellt\n",
    "w_eigenform_1 = sp.Eq(w,sp.Piecewise((w_1_x, x<=H_1.subs(params_plot)),(w_2_x, x>=H_1.subs(params_plot))))\n"
   ]
  },
  {
   "cell_type": "code",
   "execution_count": 103,
   "metadata": {},
   "outputs": [
    {
     "data": {
      "image/svg+xml": [
       "<?xml version=\"1.0\" encoding=\"utf-8\" standalone=\"no\"?>\n",
       "<!DOCTYPE svg PUBLIC \"-//W3C//DTD SVG 1.1//EN\"\n",
       "  \"http://www.w3.org/Graphics/SVG/1.1/DTD/svg11.dtd\">\n",
       "<svg xmlns:xlink=\"http://www.w3.org/1999/xlink\" width=\"398.560625pt\" height=\"310.86825pt\" viewBox=\"0 0 398.560625 310.86825\" xmlns=\"http://www.w3.org/2000/svg\" version=\"1.1\">\n",
       " <metadata>\n",
       "  <rdf:RDF xmlns:dc=\"http://purl.org/dc/elements/1.1/\" xmlns:cc=\"http://creativecommons.org/ns#\" xmlns:rdf=\"http://www.w3.org/1999/02/22-rdf-syntax-ns#\">\n",
       "   <cc:Work>\n",
       "    <dc:type rdf:resource=\"http://purl.org/dc/dcmitype/StillImage\"/>\n",
       "    <dc:date>2023-08-09T12:36:11.944280</dc:date>\n",
       "    <dc:format>image/svg+xml</dc:format>\n",
       "    <dc:creator>\n",
       "     <cc:Agent>\n",
       "      <dc:title>Matplotlib v3.7.1, https://matplotlib.org/</dc:title>\n",
       "     </cc:Agent>\n",
       "    </dc:creator>\n",
       "   </cc:Work>\n",
       "  </rdf:RDF>\n",
       " </metadata>\n",
       " <defs>\n",
       "  <style type=\"text/css\">*{stroke-linejoin: round; stroke-linecap: butt}</style>\n",
       " </defs>\n",
       " <g id=\"figure_1\">\n",
       "  <g id=\"patch_1\">\n",
       "   <path d=\"M 0 310.86825 \n",
       "L 398.560625 310.86825 \n",
       "L 398.560625 0 \n",
       "L 0 0 \n",
       "z\n",
       "\" style=\"fill: #ffffff\"/>\n",
       "  </g>\n",
       "  <g id=\"axes_1\">\n",
       "   <g id=\"patch_2\">\n",
       "    <path d=\"M 34.240625 273.312 \n",
       "L 391.360625 273.312 \n",
       "L 391.360625 7.2 \n",
       "L 34.240625 7.2 \n",
       "z\n",
       "\" style=\"fill: #ffffff\"/>\n",
       "   </g>\n",
       "   <g id=\"matplotlib.axis_1\">\n",
       "    <g id=\"xtick_1\">\n",
       "     <g id=\"line2d_1\">\n",
       "      <defs>\n",
       "       <path id=\"m74330cea67\" d=\"M 0 0 \n",
       "L 0 3.5 \n",
       "\" style=\"stroke: #000000; stroke-width: 0.8\"/>\n",
       "      </defs>\n",
       "      <g>\n",
       "       <use xlink:href=\"#m74330cea67\" x=\"50.473352\" y=\"273.312\" style=\"stroke: #000000; stroke-width: 0.8\"/>\n",
       "      </g>\n",
       "     </g>\n",
       "     <g id=\"text_1\">\n",
       "      <!-- 0.000 -->\n",
       "      <g transform=\"translate(36.15929 287.910437) scale(0.1 -0.1)\">\n",
       "       <defs>\n",
       "        <path id=\"DejaVuSans-30\" d=\"M 2034 4250 \n",
       "Q 1547 4250 1301 3770 \n",
       "Q 1056 3291 1056 2328 \n",
       "Q 1056 1369 1301 889 \n",
       "Q 1547 409 2034 409 \n",
       "Q 2525 409 2770 889 \n",
       "Q 3016 1369 3016 2328 \n",
       "Q 3016 3291 2770 3770 \n",
       "Q 2525 4250 2034 4250 \n",
       "z\n",
       "M 2034 4750 \n",
       "Q 2819 4750 3233 4129 \n",
       "Q 3647 3509 3647 2328 \n",
       "Q 3647 1150 3233 529 \n",
       "Q 2819 -91 2034 -91 \n",
       "Q 1250 -91 836 529 \n",
       "Q 422 1150 422 2328 \n",
       "Q 422 3509 836 4129 \n",
       "Q 1250 4750 2034 4750 \n",
       "z\n",
       "\" transform=\"scale(0.015625)\"/>\n",
       "        <path id=\"DejaVuSans-2e\" d=\"M 684 794 \n",
       "L 1344 794 \n",
       "L 1344 0 \n",
       "L 684 0 \n",
       "L 684 794 \n",
       "z\n",
       "\" transform=\"scale(0.015625)\"/>\n",
       "       </defs>\n",
       "       <use xlink:href=\"#DejaVuSans-30\"/>\n",
       "       <use xlink:href=\"#DejaVuSans-2e\" x=\"63.623047\"/>\n",
       "       <use xlink:href=\"#DejaVuSans-30\" x=\"95.410156\"/>\n",
       "       <use xlink:href=\"#DejaVuSans-30\" x=\"159.033203\"/>\n",
       "       <use xlink:href=\"#DejaVuSans-30\" x=\"222.65625\"/>\n",
       "      </g>\n",
       "     </g>\n",
       "    </g>\n",
       "    <g id=\"xtick_2\">\n",
       "     <g id=\"line2d_2\">\n",
       "      <g>\n",
       "       <use xlink:href=\"#m74330cea67\" x=\"95.117918\" y=\"273.312\" style=\"stroke: #000000; stroke-width: 0.8\"/>\n",
       "      </g>\n",
       "     </g>\n",
       "     <g id=\"text_2\">\n",
       "      <!-- 0.005 -->\n",
       "      <g transform=\"translate(80.803855 287.910437) scale(0.1 -0.1)\">\n",
       "       <defs>\n",
       "        <path id=\"DejaVuSans-35\" d=\"M 691 4666 \n",
       "L 3169 4666 \n",
       "L 3169 4134 \n",
       "L 1269 4134 \n",
       "L 1269 2991 \n",
       "Q 1406 3038 1543 3061 \n",
       "Q 1681 3084 1819 3084 \n",
       "Q 2600 3084 3056 2656 \n",
       "Q 3513 2228 3513 1497 \n",
       "Q 3513 744 3044 326 \n",
       "Q 2575 -91 1722 -91 \n",
       "Q 1428 -91 1123 -41 \n",
       "Q 819 9 494 109 \n",
       "L 494 744 \n",
       "Q 775 591 1075 516 \n",
       "Q 1375 441 1709 441 \n",
       "Q 2250 441 2565 725 \n",
       "Q 2881 1009 2881 1497 \n",
       "Q 2881 1984 2565 2268 \n",
       "Q 2250 2553 1709 2553 \n",
       "Q 1456 2553 1204 2497 \n",
       "Q 953 2441 691 2322 \n",
       "L 691 4666 \n",
       "z\n",
       "\" transform=\"scale(0.015625)\"/>\n",
       "       </defs>\n",
       "       <use xlink:href=\"#DejaVuSans-30\"/>\n",
       "       <use xlink:href=\"#DejaVuSans-2e\" x=\"63.623047\"/>\n",
       "       <use xlink:href=\"#DejaVuSans-30\" x=\"95.410156\"/>\n",
       "       <use xlink:href=\"#DejaVuSans-30\" x=\"159.033203\"/>\n",
       "       <use xlink:href=\"#DejaVuSans-35\" x=\"222.65625\"/>\n",
       "      </g>\n",
       "     </g>\n",
       "    </g>\n",
       "    <g id=\"xtick_3\">\n",
       "     <g id=\"line2d_3\">\n",
       "      <g>\n",
       "       <use xlink:href=\"#m74330cea67\" x=\"139.762484\" y=\"273.312\" style=\"stroke: #000000; stroke-width: 0.8\"/>\n",
       "      </g>\n",
       "     </g>\n",
       "     <g id=\"text_3\">\n",
       "      <!-- 0.010 -->\n",
       "      <g transform=\"translate(125.448421 287.910437) scale(0.1 -0.1)\">\n",
       "       <defs>\n",
       "        <path id=\"DejaVuSans-31\" d=\"M 794 531 \n",
       "L 1825 531 \n",
       "L 1825 4091 \n",
       "L 703 3866 \n",
       "L 703 4441 \n",
       "L 1819 4666 \n",
       "L 2450 4666 \n",
       "L 2450 531 \n",
       "L 3481 531 \n",
       "L 3481 0 \n",
       "L 794 0 \n",
       "L 794 531 \n",
       "z\n",
       "\" transform=\"scale(0.015625)\"/>\n",
       "       </defs>\n",
       "       <use xlink:href=\"#DejaVuSans-30\"/>\n",
       "       <use xlink:href=\"#DejaVuSans-2e\" x=\"63.623047\"/>\n",
       "       <use xlink:href=\"#DejaVuSans-30\" x=\"95.410156\"/>\n",
       "       <use xlink:href=\"#DejaVuSans-31\" x=\"159.033203\"/>\n",
       "       <use xlink:href=\"#DejaVuSans-30\" x=\"222.65625\"/>\n",
       "      </g>\n",
       "     </g>\n",
       "    </g>\n",
       "    <g id=\"xtick_4\">\n",
       "     <g id=\"line2d_4\">\n",
       "      <g>\n",
       "       <use xlink:href=\"#m74330cea67\" x=\"184.407049\" y=\"273.312\" style=\"stroke: #000000; stroke-width: 0.8\"/>\n",
       "      </g>\n",
       "     </g>\n",
       "     <g id=\"text_4\">\n",
       "      <!-- 0.015 -->\n",
       "      <g transform=\"translate(170.092987 287.910437) scale(0.1 -0.1)\">\n",
       "       <use xlink:href=\"#DejaVuSans-30\"/>\n",
       "       <use xlink:href=\"#DejaVuSans-2e\" x=\"63.623047\"/>\n",
       "       <use xlink:href=\"#DejaVuSans-30\" x=\"95.410156\"/>\n",
       "       <use xlink:href=\"#DejaVuSans-31\" x=\"159.033203\"/>\n",
       "       <use xlink:href=\"#DejaVuSans-35\" x=\"222.65625\"/>\n",
       "      </g>\n",
       "     </g>\n",
       "    </g>\n",
       "    <g id=\"xtick_5\">\n",
       "     <g id=\"line2d_5\">\n",
       "      <g>\n",
       "       <use xlink:href=\"#m74330cea67\" x=\"229.051615\" y=\"273.312\" style=\"stroke: #000000; stroke-width: 0.8\"/>\n",
       "      </g>\n",
       "     </g>\n",
       "     <g id=\"text_5\">\n",
       "      <!-- 0.020 -->\n",
       "      <g transform=\"translate(214.737552 287.910437) scale(0.1 -0.1)\">\n",
       "       <defs>\n",
       "        <path id=\"DejaVuSans-32\" d=\"M 1228 531 \n",
       "L 3431 531 \n",
       "L 3431 0 \n",
       "L 469 0 \n",
       "L 469 531 \n",
       "Q 828 903 1448 1529 \n",
       "Q 2069 2156 2228 2338 \n",
       "Q 2531 2678 2651 2914 \n",
       "Q 2772 3150 2772 3378 \n",
       "Q 2772 3750 2511 3984 \n",
       "Q 2250 4219 1831 4219 \n",
       "Q 1534 4219 1204 4116 \n",
       "Q 875 4013 500 3803 \n",
       "L 500 4441 \n",
       "Q 881 4594 1212 4672 \n",
       "Q 1544 4750 1819 4750 \n",
       "Q 2544 4750 2975 4387 \n",
       "Q 3406 4025 3406 3419 \n",
       "Q 3406 3131 3298 2873 \n",
       "Q 3191 2616 2906 2266 \n",
       "Q 2828 2175 2409 1742 \n",
       "Q 1991 1309 1228 531 \n",
       "z\n",
       "\" transform=\"scale(0.015625)\"/>\n",
       "       </defs>\n",
       "       <use xlink:href=\"#DejaVuSans-30\"/>\n",
       "       <use xlink:href=\"#DejaVuSans-2e\" x=\"63.623047\"/>\n",
       "       <use xlink:href=\"#DejaVuSans-30\" x=\"95.410156\"/>\n",
       "       <use xlink:href=\"#DejaVuSans-32\" x=\"159.033203\"/>\n",
       "       <use xlink:href=\"#DejaVuSans-30\" x=\"222.65625\"/>\n",
       "      </g>\n",
       "     </g>\n",
       "    </g>\n",
       "    <g id=\"xtick_6\">\n",
       "     <g id=\"line2d_6\">\n",
       "      <g>\n",
       "       <use xlink:href=\"#m74330cea67\" x=\"273.696181\" y=\"273.312\" style=\"stroke: #000000; stroke-width: 0.8\"/>\n",
       "      </g>\n",
       "     </g>\n",
       "     <g id=\"text_6\">\n",
       "      <!-- 0.025 -->\n",
       "      <g transform=\"translate(259.382118 287.910437) scale(0.1 -0.1)\">\n",
       "       <use xlink:href=\"#DejaVuSans-30\"/>\n",
       "       <use xlink:href=\"#DejaVuSans-2e\" x=\"63.623047\"/>\n",
       "       <use xlink:href=\"#DejaVuSans-30\" x=\"95.410156\"/>\n",
       "       <use xlink:href=\"#DejaVuSans-32\" x=\"159.033203\"/>\n",
       "       <use xlink:href=\"#DejaVuSans-35\" x=\"222.65625\"/>\n",
       "      </g>\n",
       "     </g>\n",
       "    </g>\n",
       "    <g id=\"xtick_7\">\n",
       "     <g id=\"line2d_7\">\n",
       "      <g>\n",
       "       <use xlink:href=\"#m74330cea67\" x=\"318.340746\" y=\"273.312\" style=\"stroke: #000000; stroke-width: 0.8\"/>\n",
       "      </g>\n",
       "     </g>\n",
       "     <g id=\"text_7\">\n",
       "      <!-- 0.030 -->\n",
       "      <g transform=\"translate(304.026684 287.910437) scale(0.1 -0.1)\">\n",
       "       <defs>\n",
       "        <path id=\"DejaVuSans-33\" d=\"M 2597 2516 \n",
       "Q 3050 2419 3304 2112 \n",
       "Q 3559 1806 3559 1356 \n",
       "Q 3559 666 3084 287 \n",
       "Q 2609 -91 1734 -91 \n",
       "Q 1441 -91 1130 -33 \n",
       "Q 819 25 488 141 \n",
       "L 488 750 \n",
       "Q 750 597 1062 519 \n",
       "Q 1375 441 1716 441 \n",
       "Q 2309 441 2620 675 \n",
       "Q 2931 909 2931 1356 \n",
       "Q 2931 1769 2642 2001 \n",
       "Q 2353 2234 1838 2234 \n",
       "L 1294 2234 \n",
       "L 1294 2753 \n",
       "L 1863 2753 \n",
       "Q 2328 2753 2575 2939 \n",
       "Q 2822 3125 2822 3475 \n",
       "Q 2822 3834 2567 4026 \n",
       "Q 2313 4219 1838 4219 \n",
       "Q 1578 4219 1281 4162 \n",
       "Q 984 4106 628 3988 \n",
       "L 628 4550 \n",
       "Q 988 4650 1302 4700 \n",
       "Q 1616 4750 1894 4750 \n",
       "Q 2613 4750 3031 4423 \n",
       "Q 3450 4097 3450 3541 \n",
       "Q 3450 3153 3228 2886 \n",
       "Q 3006 2619 2597 2516 \n",
       "z\n",
       "\" transform=\"scale(0.015625)\"/>\n",
       "       </defs>\n",
       "       <use xlink:href=\"#DejaVuSans-30\"/>\n",
       "       <use xlink:href=\"#DejaVuSans-2e\" x=\"63.623047\"/>\n",
       "       <use xlink:href=\"#DejaVuSans-30\" x=\"95.410156\"/>\n",
       "       <use xlink:href=\"#DejaVuSans-33\" x=\"159.033203\"/>\n",
       "       <use xlink:href=\"#DejaVuSans-30\" x=\"222.65625\"/>\n",
       "      </g>\n",
       "     </g>\n",
       "    </g>\n",
       "    <g id=\"xtick_8\">\n",
       "     <g id=\"line2d_8\">\n",
       "      <g>\n",
       "       <use xlink:href=\"#m74330cea67\" x=\"362.985312\" y=\"273.312\" style=\"stroke: #000000; stroke-width: 0.8\"/>\n",
       "      </g>\n",
       "     </g>\n",
       "     <g id=\"text_8\">\n",
       "      <!-- 0.035 -->\n",
       "      <g transform=\"translate(348.671249 287.910437) scale(0.1 -0.1)\">\n",
       "       <use xlink:href=\"#DejaVuSans-30\"/>\n",
       "       <use xlink:href=\"#DejaVuSans-2e\" x=\"63.623047\"/>\n",
       "       <use xlink:href=\"#DejaVuSans-30\" x=\"95.410156\"/>\n",
       "       <use xlink:href=\"#DejaVuSans-33\" x=\"159.033203\"/>\n",
       "       <use xlink:href=\"#DejaVuSans-35\" x=\"222.65625\"/>\n",
       "      </g>\n",
       "     </g>\n",
       "    </g>\n",
       "    <g id=\"text_9\">\n",
       "     <!-- $u$ [m] -->\n",
       "     <g transform=\"translate(199.250625 301.588562) scale(0.1 -0.1)\">\n",
       "      <defs>\n",
       "       <path id=\"DejaVuSans-Oblique-75\" d=\"M 428 1388 \n",
       "L 838 3500 \n",
       "L 1416 3500 \n",
       "L 1006 1409 \n",
       "Q 975 1256 961 1147 \n",
       "Q 947 1038 947 966 \n",
       "Q 947 700 1109 554 \n",
       "Q 1272 409 1569 409 \n",
       "Q 2031 409 2368 721 \n",
       "Q 2706 1034 2809 1563 \n",
       "L 3194 3500 \n",
       "L 3769 3500 \n",
       "L 3091 0 \n",
       "L 2516 0 \n",
       "L 2631 550 \n",
       "Q 2388 244 2052 76 \n",
       "Q 1716 -91 1338 -91 \n",
       "Q 878 -91 622 161 \n",
       "Q 366 413 366 863 \n",
       "Q 366 956 381 1097 \n",
       "Q 397 1238 428 1388 \n",
       "z\n",
       "\" transform=\"scale(0.015625)\"/>\n",
       "       <path id=\"DejaVuSans-20\" transform=\"scale(0.015625)\"/>\n",
       "       <path id=\"DejaVuSans-5b\" d=\"M 550 4863 \n",
       "L 1875 4863 \n",
       "L 1875 4416 \n",
       "L 1125 4416 \n",
       "L 1125 -397 \n",
       "L 1875 -397 \n",
       "L 1875 -844 \n",
       "L 550 -844 \n",
       "L 550 4863 \n",
       "z\n",
       "\" transform=\"scale(0.015625)\"/>\n",
       "       <path id=\"DejaVuSans-6d\" d=\"M 3328 2828 \n",
       "Q 3544 3216 3844 3400 \n",
       "Q 4144 3584 4550 3584 \n",
       "Q 5097 3584 5394 3201 \n",
       "Q 5691 2819 5691 2113 \n",
       "L 5691 0 \n",
       "L 5113 0 \n",
       "L 5113 2094 \n",
       "Q 5113 2597 4934 2840 \n",
       "Q 4756 3084 4391 3084 \n",
       "Q 3944 3084 3684 2787 \n",
       "Q 3425 2491 3425 1978 \n",
       "L 3425 0 \n",
       "L 2847 0 \n",
       "L 2847 2094 \n",
       "Q 2847 2600 2669 2842 \n",
       "Q 2491 3084 2119 3084 \n",
       "Q 1678 3084 1418 2786 \n",
       "Q 1159 2488 1159 1978 \n",
       "L 1159 0 \n",
       "L 581 0 \n",
       "L 581 3500 \n",
       "L 1159 3500 \n",
       "L 1159 2956 \n",
       "Q 1356 3278 1631 3431 \n",
       "Q 1906 3584 2284 3584 \n",
       "Q 2666 3584 2933 3390 \n",
       "Q 3200 3197 3328 2828 \n",
       "z\n",
       "\" transform=\"scale(0.015625)\"/>\n",
       "       <path id=\"DejaVuSans-5d\" d=\"M 1947 4863 \n",
       "L 1947 -844 \n",
       "L 622 -844 \n",
       "L 622 -397 \n",
       "L 1369 -397 \n",
       "L 1369 4416 \n",
       "L 622 4416 \n",
       "L 622 4863 \n",
       "L 1947 4863 \n",
       "z\n",
       "\" transform=\"scale(0.015625)\"/>\n",
       "      </defs>\n",
       "      <use xlink:href=\"#DejaVuSans-Oblique-75\" transform=\"translate(0 0.015625)\"/>\n",
       "      <use xlink:href=\"#DejaVuSans-20\" transform=\"translate(63.378906 0.015625)\"/>\n",
       "      <use xlink:href=\"#DejaVuSans-5b\" transform=\"translate(95.166016 0.015625)\"/>\n",
       "      <use xlink:href=\"#DejaVuSans-6d\" transform=\"translate(134.179688 0.015625)\"/>\n",
       "      <use xlink:href=\"#DejaVuSans-5d\" transform=\"translate(231.591797 0.015625)\"/>\n",
       "     </g>\n",
       "    </g>\n",
       "   </g>\n",
       "   <g id=\"matplotlib.axis_2\">\n",
       "    <g id=\"ytick_1\">\n",
       "     <g id=\"line2d_9\">\n",
       "      <defs>\n",
       "       <path id=\"m81c64afbe0\" d=\"M 0 0 \n",
       "L -3.5 0 \n",
       "\" style=\"stroke: #000000; stroke-width: 0.8\"/>\n",
       "      </defs>\n",
       "      <g>\n",
       "       <use xlink:href=\"#m81c64afbe0\" x=\"34.240625\" y=\"261.216\" style=\"stroke: #000000; stroke-width: 0.8\"/>\n",
       "      </g>\n",
       "     </g>\n",
       "     <g id=\"text_10\">\n",
       "      <!-- 0 -->\n",
       "      <g transform=\"translate(20.878125 265.015219) scale(0.1 -0.1)\">\n",
       "       <use xlink:href=\"#DejaVuSans-30\"/>\n",
       "      </g>\n",
       "     </g>\n",
       "    </g>\n",
       "    <g id=\"ytick_2\">\n",
       "     <g id=\"line2d_10\">\n",
       "      <g>\n",
       "       <use xlink:href=\"#m81c64afbe0\" x=\"34.240625\" y=\"225.691771\" style=\"stroke: #000000; stroke-width: 0.8\"/>\n",
       "      </g>\n",
       "     </g>\n",
       "     <g id=\"text_11\">\n",
       "      <!-- 1 -->\n",
       "      <g transform=\"translate(20.878125 229.49099) scale(0.1 -0.1)\">\n",
       "       <use xlink:href=\"#DejaVuSans-31\"/>\n",
       "      </g>\n",
       "     </g>\n",
       "    </g>\n",
       "    <g id=\"ytick_3\">\n",
       "     <g id=\"line2d_11\">\n",
       "      <g>\n",
       "       <use xlink:href=\"#m81c64afbe0\" x=\"34.240625\" y=\"190.167542\" style=\"stroke: #000000; stroke-width: 0.8\"/>\n",
       "      </g>\n",
       "     </g>\n",
       "     <g id=\"text_12\">\n",
       "      <!-- 2 -->\n",
       "      <g transform=\"translate(20.878125 193.966761) scale(0.1 -0.1)\">\n",
       "       <use xlink:href=\"#DejaVuSans-32\"/>\n",
       "      </g>\n",
       "     </g>\n",
       "    </g>\n",
       "    <g id=\"ytick_4\">\n",
       "     <g id=\"line2d_12\">\n",
       "      <g>\n",
       "       <use xlink:href=\"#m81c64afbe0\" x=\"34.240625\" y=\"154.643313\" style=\"stroke: #000000; stroke-width: 0.8\"/>\n",
       "      </g>\n",
       "     </g>\n",
       "     <g id=\"text_13\">\n",
       "      <!-- 3 -->\n",
       "      <g transform=\"translate(20.878125 158.442532) scale(0.1 -0.1)\">\n",
       "       <use xlink:href=\"#DejaVuSans-33\"/>\n",
       "      </g>\n",
       "     </g>\n",
       "    </g>\n",
       "    <g id=\"ytick_5\">\n",
       "     <g id=\"line2d_13\">\n",
       "      <g>\n",
       "       <use xlink:href=\"#m81c64afbe0\" x=\"34.240625\" y=\"119.119084\" style=\"stroke: #000000; stroke-width: 0.8\"/>\n",
       "      </g>\n",
       "     </g>\n",
       "     <g id=\"text_14\">\n",
       "      <!-- 4 -->\n",
       "      <g transform=\"translate(20.878125 122.918302) scale(0.1 -0.1)\">\n",
       "       <defs>\n",
       "        <path id=\"DejaVuSans-34\" d=\"M 2419 4116 \n",
       "L 825 1625 \n",
       "L 2419 1625 \n",
       "L 2419 4116 \n",
       "z\n",
       "M 2253 4666 \n",
       "L 3047 4666 \n",
       "L 3047 1625 \n",
       "L 3713 1625 \n",
       "L 3713 1100 \n",
       "L 3047 1100 \n",
       "L 3047 0 \n",
       "L 2419 0 \n",
       "L 2419 1100 \n",
       "L 313 1100 \n",
       "L 313 1709 \n",
       "L 2253 4666 \n",
       "z\n",
       "\" transform=\"scale(0.015625)\"/>\n",
       "       </defs>\n",
       "       <use xlink:href=\"#DejaVuSans-34\"/>\n",
       "      </g>\n",
       "     </g>\n",
       "    </g>\n",
       "    <g id=\"ytick_6\">\n",
       "     <g id=\"line2d_14\">\n",
       "      <g>\n",
       "       <use xlink:href=\"#m81c64afbe0\" x=\"34.240625\" y=\"83.594855\" style=\"stroke: #000000; stroke-width: 0.8\"/>\n",
       "      </g>\n",
       "     </g>\n",
       "     <g id=\"text_15\">\n",
       "      <!-- 5 -->\n",
       "      <g transform=\"translate(20.878125 87.394073) scale(0.1 -0.1)\">\n",
       "       <use xlink:href=\"#DejaVuSans-35\"/>\n",
       "      </g>\n",
       "     </g>\n",
       "    </g>\n",
       "    <g id=\"ytick_7\">\n",
       "     <g id=\"line2d_15\">\n",
       "      <g>\n",
       "       <use xlink:href=\"#m81c64afbe0\" x=\"34.240625\" y=\"48.070626\" style=\"stroke: #000000; stroke-width: 0.8\"/>\n",
       "      </g>\n",
       "     </g>\n",
       "     <g id=\"text_16\">\n",
       "      <!-- 6 -->\n",
       "      <g transform=\"translate(20.878125 51.869844) scale(0.1 -0.1)\">\n",
       "       <defs>\n",
       "        <path id=\"DejaVuSans-36\" d=\"M 2113 2584 \n",
       "Q 1688 2584 1439 2293 \n",
       "Q 1191 2003 1191 1497 \n",
       "Q 1191 994 1439 701 \n",
       "Q 1688 409 2113 409 \n",
       "Q 2538 409 2786 701 \n",
       "Q 3034 994 3034 1497 \n",
       "Q 3034 2003 2786 2293 \n",
       "Q 2538 2584 2113 2584 \n",
       "z\n",
       "M 3366 4563 \n",
       "L 3366 3988 \n",
       "Q 3128 4100 2886 4159 \n",
       "Q 2644 4219 2406 4219 \n",
       "Q 1781 4219 1451 3797 \n",
       "Q 1122 3375 1075 2522 \n",
       "Q 1259 2794 1537 2939 \n",
       "Q 1816 3084 2150 3084 \n",
       "Q 2853 3084 3261 2657 \n",
       "Q 3669 2231 3669 1497 \n",
       "Q 3669 778 3244 343 \n",
       "Q 2819 -91 2113 -91 \n",
       "Q 1303 -91 875 529 \n",
       "Q 447 1150 447 2328 \n",
       "Q 447 3434 972 4092 \n",
       "Q 1497 4750 2381 4750 \n",
       "Q 2619 4750 2861 4703 \n",
       "Q 3103 4656 3366 4563 \n",
       "z\n",
       "\" transform=\"scale(0.015625)\"/>\n",
       "       </defs>\n",
       "       <use xlink:href=\"#DejaVuSans-36\"/>\n",
       "      </g>\n",
       "     </g>\n",
       "    </g>\n",
       "    <g id=\"ytick_8\">\n",
       "     <g id=\"line2d_16\">\n",
       "      <g>\n",
       "       <use xlink:href=\"#m81c64afbe0\" x=\"34.240625\" y=\"12.546396\" style=\"stroke: #000000; stroke-width: 0.8\"/>\n",
       "      </g>\n",
       "     </g>\n",
       "     <g id=\"text_17\">\n",
       "      <!-- 7 -->\n",
       "      <g transform=\"translate(20.878125 16.345615) scale(0.1 -0.1)\">\n",
       "       <defs>\n",
       "        <path id=\"DejaVuSans-37\" d=\"M 525 4666 \n",
       "L 3525 4666 \n",
       "L 3525 4397 \n",
       "L 1831 0 \n",
       "L 1172 0 \n",
       "L 2766 4134 \n",
       "L 525 4134 \n",
       "L 525 4666 \n",
       "z\n",
       "\" transform=\"scale(0.015625)\"/>\n",
       "       </defs>\n",
       "       <use xlink:href=\"#DejaVuSans-37\"/>\n",
       "      </g>\n",
       "     </g>\n",
       "    </g>\n",
       "    <g id=\"text_18\">\n",
       "     <!-- $H$ [m] -->\n",
       "     <g transform=\"translate(14.798438 154.406) rotate(-90) scale(0.1 -0.1)\">\n",
       "      <defs>\n",
       "       <path id=\"DejaVuSans-Oblique-48\" d=\"M 1081 4666 \n",
       "L 1716 4666 \n",
       "L 1344 2753 \n",
       "L 3634 2753 \n",
       "L 4006 4666 \n",
       "L 4641 4666 \n",
       "L 3731 0 \n",
       "L 3097 0 \n",
       "L 3531 2222 \n",
       "L 1241 2222 \n",
       "L 806 0 \n",
       "L 172 0 \n",
       "L 1081 4666 \n",
       "z\n",
       "\" transform=\"scale(0.015625)\"/>\n",
       "      </defs>\n",
       "      <use xlink:href=\"#DejaVuSans-Oblique-48\" transform=\"translate(0 0.015625)\"/>\n",
       "      <use xlink:href=\"#DejaVuSans-20\" transform=\"translate(75.195312 0.015625)\"/>\n",
       "      <use xlink:href=\"#DejaVuSans-5b\" transform=\"translate(106.982422 0.015625)\"/>\n",
       "      <use xlink:href=\"#DejaVuSans-6d\" transform=\"translate(145.996094 0.015625)\"/>\n",
       "      <use xlink:href=\"#DejaVuSans-5d\" transform=\"translate(243.408203 0.015625)\"/>\n",
       "     </g>\n",
       "    </g>\n",
       "   </g>\n",
       "   <g id=\"line2d_17\">\n",
       "    <path d=\"M 50.473352 261.216 \n",
       "L 50.573536 259.520865 \n",
       "L 50.928951 257.583568 \n",
       "L 51.534109 255.64627 \n",
       "L 52.381452 253.708973 \n",
       "L 53.463428 251.771676 \n",
       "L 54.951703 249.592216 \n",
       "L 56.716615 247.412757 \n",
       "L 58.988996 244.991135 \n",
       "L 61.574869 242.569514 \n",
       "L 64.763802 239.90573 \n",
       "L 68.294567 237.241946 \n",
       "L 72.513089 234.336 \n",
       "L 77.486277 231.187892 \n",
       "L 83.274627 227.797622 \n",
       "L 89.929341 224.165189 \n",
       "L 97.489236 220.290595 \n",
       "L 106.48984 215.931676 \n",
       "L 117.005186 211.088432 \n",
       "L 130.177716 205.276541 \n",
       "L 148.346471 197.527351 \n",
       "L 188.844858 180.333838 \n",
       "L 201.880482 174.521946 \n",
       "L 212.746012 169.436541 \n",
       "L 221.548942 165.077622 \n",
       "L 228.904678 161.203027 \n",
       "L 235.343677 157.570595 \n",
       "L 240.90946 154.180324 \n",
       "L 245.657624 151.032216 \n",
       "L 249.652744 148.12627 \n",
       "L 252.965491 145.462486 \n",
       "L 255.923752 142.798703 \n",
       "L 258.288942 140.377081 \n",
       "L 260.33018 137.955459 \n",
       "L 261.878122 135.776 \n",
       "L 263.140954 133.596541 \n",
       "L 264.015424 131.659243 \n",
       "L 264.648569 129.721946 \n",
       "L 265.032833 127.784649 \n",
       "L 265.158966 126.089514 \n",
       "L 265.270742 123.910054 \n",
       "L 265.590808 121.972757 \n",
       "L 266.192047 119.793297 \n",
       "L 267.037768 117.613838 \n",
       "L 268.116684 115.434378 \n",
       "L 269.575254 113.012757 \n",
       "L 271.292305 110.591135 \n",
       "L 273.461127 107.927351 \n",
       "L 276.13824 105.021405 \n",
       "L 279.113993 102.115459 \n",
       "L 282.643707 98.967351 \n",
       "L 287.068524 95.334919 \n",
       "L 292.147795 91.460324 \n",
       "L 298.228131 87.101405 \n",
       "L 306.058994 81.773838 \n",
       "L 317.537976 74.266811 \n",
       "L 336.071982 62.158703 \n",
       "L 343.813594 56.831135 \n",
       "L 350.113332 52.230054 \n",
       "L 355.058383 48.355459 \n",
       "L 359.335454 44.723027 \n",
       "L 362.719967 41.574919 \n",
       "L 365.54755 38.668973 \n",
       "L 368.06292 35.763027 \n",
       "L 370.071555 33.099243 \n",
       "L 371.633083 30.677622 \n",
       "L 372.926706 28.256 \n",
       "L 373.84911 26.076541 \n",
       "L 374.530685 23.897081 \n",
       "L 374.960143 21.717622 \n",
       "L 375.121105 19.780324 \n",
       "L 375.127898 19.296 \n",
       "L 375.127898 19.296 \n",
       "\" clip-path=\"url(#pc6dbbbf729)\" style=\"fill: none; stroke: #1f77b4; stroke-width: 1.5; stroke-linecap: square\"/>\n",
       "   </g>\n",
       "   <g id=\"line2d_18\">\n",
       "    <path d=\"M 34.240625 125.868687 \n",
       "L 391.360625 125.868687 \n",
       "\" clip-path=\"url(#pc6dbbbf729)\" style=\"fill: none; stroke-dasharray: 3.7,1.6; stroke-dashoffset: 0; stroke: #808080\"/>\n",
       "   </g>\n",
       "   <g id=\"line2d_19\">\n",
       "    <path d=\"M 34.240625 19.296 \n",
       "L 391.360625 19.296 \n",
       "\" clip-path=\"url(#pc6dbbbf729)\" style=\"fill: none; stroke-dasharray: 3.7,1.6; stroke-dashoffset: 0; stroke: #808080\"/>\n",
       "   </g>\n",
       "   <g id=\"line2d_20\">\n",
       "    <path d=\"M 375.127898 273.312 \n",
       "L 375.127898 7.2 \n",
       "\" clip-path=\"url(#pc6dbbbf729)\" style=\"fill: none; stroke-dasharray: 3.7,1.6; stroke-dashoffset: 0; stroke: #808080\"/>\n",
       "   </g>\n",
       "   <g id=\"line2d_21\">\n",
       "    <path d=\"M 265.160678 273.312 \n",
       "L 265.160678 7.2 \n",
       "\" clip-path=\"url(#pc6dbbbf729)\" style=\"fill: none; stroke-dasharray: 3.7,1.6; stroke-dashoffset: 0; stroke: #808080\"/>\n",
       "   </g>\n",
       "   <g id=\"line2d_22\">\n",
       "    <path d=\"M 50.473352 273.312 \n",
       "L 50.473352 7.2 \n",
       "\" clip-path=\"url(#pc6dbbbf729)\" style=\"fill: none; stroke-dasharray: 5.55,2.4; stroke-dashoffset: 0; stroke: #000000; stroke-width: 1.5\"/>\n",
       "   </g>\n",
       "   <g id=\"patch_3\">\n",
       "    <path d=\"M 34.240625 273.312 \n",
       "L 34.240625 7.2 \n",
       "\" style=\"fill: none; stroke: #000000; stroke-width: 0.8; stroke-linejoin: miter; stroke-linecap: square\"/>\n",
       "   </g>\n",
       "   <g id=\"patch_4\">\n",
       "    <path d=\"M 391.360625 273.312 \n",
       "L 391.360625 7.2 \n",
       "\" style=\"fill: none; stroke: #000000; stroke-width: 0.8; stroke-linejoin: miter; stroke-linecap: square\"/>\n",
       "   </g>\n",
       "   <g id=\"patch_5\">\n",
       "    <path d=\"M 34.240625 273.312 \n",
       "L 391.360625 273.312 \n",
       "\" style=\"fill: none; stroke: #000000; stroke-width: 0.8; stroke-linejoin: miter; stroke-linecap: square\"/>\n",
       "   </g>\n",
       "   <g id=\"patch_6\">\n",
       "    <path d=\"M 34.240625 7.2 \n",
       "L 391.360625 7.2 \n",
       "\" style=\"fill: none; stroke: #000000; stroke-width: 0.8; stroke-linejoin: miter; stroke-linecap: square\"/>\n",
       "   </g>\n",
       "  </g>\n",
       " </g>\n",
       " <defs>\n",
       "  <clipPath id=\"pc6dbbbf729\">\n",
       "   <rect x=\"34.240625\" y=\"7.2\" width=\"357.12\" height=\"266.112\"/>\n",
       "  </clipPath>\n",
       " </defs>\n",
       "</svg>\n"
      ],
      "text/plain": [
       "<Figure size 640x480 with 1 Axes>"
      ]
     },
     "metadata": {},
     "output_type": "display_data"
    }
   ],
   "source": [
    "#| label: fig-deformation\n",
    "#| fig-cap: \"Maximale Deformation des Mehrmassenschwingers\"\n",
    "\n",
    "\n",
    "\n",
    "#Numerische Daten generieren\n",
    "w_eigenform_1_lamb = sp.lambdify(x, w_eigenform_1.rhs)\n",
    "\n",
    "x_array = np.linspace(0, float((H_1+H_2).subs(params_plot)), 1000)\n",
    "\n",
    "w_1_array = w_eigenform_1_lamb(x_array)\n",
    "\n",
    "\n",
    "\n",
    "# Ersten Plot erstellen\n",
    "\n",
    "plt.plot(w_1_array, x_array)\n",
    "\n",
    "## Horizontale Linien\n",
    "plt.axhline(H_1.subs(params_plot),linestyle='dashed', color='gray',linewidth=1)\n",
    "plt.axhline((H_1+H_2).subs(params_plot),linestyle='dashed', color='gray',linewidth=1)\n",
    "\n",
    "plt.axvline(u_max[1].subs(params)/unit.m,linestyle='dashed', color='gray',linewidth=1)\n",
    "plt.axvline(u_max[0].subs(params)/unit.m,linestyle='dashed', color='gray',linewidth=1)\n",
    "\n",
    "plt.axvline(0,linestyle='dashed', color='black')\n",
    "plt.xlabel('$u$ [m]')\n",
    "plt.ylabel('$H$ [m]')\n",
    "\n",
    "\n",
    "# Plots anzeigen\n",
    "plt.show()\n",
    "\n",
    "\n"
   ]
  },
  {
   "cell_type": "markdown",
   "metadata": {},
   "source": [
    "### Maximale Schnittkräfte\n",
    "\n",
    "#### Querkräfte\n",
    "\n",
    "Die Einwirkungen resultieren aus der Masse multipliziert mit der Beschleunigung aus dem Antwortspektrum. Dazu sind in einem ersten Schritt die beiden entkoppelten EMS von einander getrennt zu betrachten. Die Überlagerung erfolgt erst bei den ermittelten Querkräften.\n",
    "\n",
    "$$\n",
    "M_1 = \\Gamma \\cdot M \\cdot \\phi_1\n",
    "$$\n",
    "\n",
    "$$\n",
    "F_{1max} = M_1 \\cdot S_{e1}\n",
    "$$"
   ]
  },
  {
   "cell_type": "markdown",
   "metadata": {},
   "source": [
    "Aus dem ersten EMS folgt:"
   ]
  },
  {
   "cell_type": "code",
   "execution_count": 104,
   "metadata": {},
   "outputs": [
    {
     "data": {
      "text/latex": [
       "\\begin{equation*}\\text{False}\\end{equation*}"
      ],
      "text/plain": [
       "False"
      ]
     },
     "metadata": {},
     "output_type": "display_data"
    },
    {
     "data": {
      "text/latex": [
       "\\begin{equation*}F_{1 max} = \\left[\\begin{matrix}1273.7 \\text{N}\\\\4429.2 \\text{N}\\end{matrix}\\right]\\end{equation*}"
      ],
      "text/plain": [
       "         ⎡1273.7⋅newton⎤\n",
       "F₁ ₘₐₓ = ⎢             ⎥\n",
       "         ⎣4429.2⋅newton⎦"
      ]
     },
     "metadata": {},
     "output_type": "display_data"
    },
    {
     "data": {
      "text/latex": [
       "\\begin{equation*}V_{1} = \\left[\\begin{matrix}5702.9 \\text{N}\\\\4429.2 \\text{N}\\end{matrix}\\right]\\end{equation*}"
      ],
      "text/plain": [
       "     ⎡5702.9⋅newton⎤\n",
       "V₁ = ⎢             ⎥\n",
       "     ⎣4429.2⋅newton⎦"
      ]
     },
     "metadata": {},
     "output_type": "display_data"
    }
   ],
   "source": [
    "M_1 = Gamma[0] * M * phi_1\n",
    "F_1_max = M_1* S_e_1\n",
    "V_1 = sp.Matrix([[F_1_max[0]+F_1_max[1]],[F_1_max[1]]])\n",
    "\n",
    "render.eq_display(sp.MatrixSymbol('M_1', 2,1), m_1.subs(params).evalf(5),\n",
    "                  sp.MatrixSymbol('F_1_max', 2,1), F_1_max.subs(params).evalf(5),\n",
    "                  sp.MatrixSymbol('V_1', 2,1), V_1.subs(params).evalf(5))"
   ]
  },
  {
   "cell_type": "markdown",
   "metadata": {},
   "source": [
    "Aus dem zweiten EMS folglich:"
   ]
  },
  {
   "cell_type": "code",
   "execution_count": 105,
   "metadata": {},
   "outputs": [
    {
     "data": {
      "text/latex": [
       "\\begin{equation*}M_{2} = \\left[\\begin{matrix}\\frac{605.23 \\text{N} \\text{s}^{2}}{\\text{m}}\\\\- \\frac{397.83 \\text{N} \\text{s}^{2}}{\\text{m}}\\end{matrix}\\right]\\end{equation*}"
      ],
      "text/plain": [
       "     ⎡                     2 ⎤\n",
       "     ⎢ 605.23⋅newton⋅second  ⎥\n",
       "     ⎢ ───────────────────── ⎥\n",
       "     ⎢         meter         ⎥\n",
       "M₂ = ⎢                       ⎥\n",
       "     ⎢                     2 ⎥\n",
       "     ⎢-397.83⋅newton⋅second  ⎥\n",
       "     ⎢───────────────────────⎥\n",
       "     ⎣         meter         ⎦"
      ]
     },
     "metadata": {},
     "output_type": "display_data"
    },
    {
     "data": {
      "text/latex": [
       "\\begin{equation*}F_{2 max} = \\left[\\begin{matrix}1864.2 \\text{N}\\\\- 1225.4 \\text{N}\\end{matrix}\\right]\\end{equation*}"
      ],
      "text/plain": [
       "         ⎡1864.2⋅newton ⎤\n",
       "F₂ ₘₐₓ = ⎢              ⎥\n",
       "         ⎣-1225.4⋅newton⎦"
      ]
     },
     "metadata": {},
     "output_type": "display_data"
    },
    {
     "data": {
      "text/latex": [
       "\\begin{equation*}V_{2} = \\left[\\begin{matrix}638.82 \\text{N}\\\\- 1225.4 \\text{N}\\end{matrix}\\right]\\end{equation*}"
      ],
      "text/plain": [
       "     ⎡638.82⋅newton ⎤\n",
       "V₂ = ⎢              ⎥\n",
       "     ⎣-1225.4⋅newton⎦"
      ]
     },
     "metadata": {},
     "output_type": "display_data"
    }
   ],
   "source": [
    "M_2 = Gamma[1] * M * phi_2\n",
    "F_2_max = M_2* S_e_2\n",
    "V_2 = sp.Matrix([[F_2_max[0]+F_2_max[1]],[F_2_max[1]]])\n",
    "\n",
    "render.eq_display(sp.MatrixSymbol('M_2', 2,1), M_2.subs(params).evalf(5),\n",
    "                  sp.MatrixSymbol('F_2_max', 2,1), F_2_max.subs(params).evalf(5),\n",
    "                  sp.MatrixSymbol('V_2', 2,1), V_2.subs(params).evalf(5))\n"
   ]
  },
  {
   "cell_type": "markdown",
   "metadata": {},
   "source": [
    "Maximale Querkraft aus Überlagerung beider EMS mittels SRSS-Regel.\n",
    "\n",
    "$$\n",
    "V_{max} = \\sqrt{V_1^2 + V_2^2}\n",
    "$$"
   ]
  },
  {
   "cell_type": "code",
   "execution_count": 106,
   "metadata": {},
   "outputs": [
    {
     "data": {
      "text/latex": [
       "\\begin{equation*}V_{max} = \\left[\\begin{matrix}5.74 \\cdot 10^{3} \\text{N}\\\\4.6 \\cdot 10^{3} \\text{N}\\end{matrix}\\right]\\end{equation*}"
      ],
      "text/plain": [
       "       ⎡5.74e+3⋅newton⎤\n",
       "Vₘₐₓ = ⎢              ⎥\n",
       "       ⎣4.6e+3⋅newton ⎦"
      ]
     },
     "metadata": {},
     "output_type": "display_data"
    }
   ],
   "source": [
    "V_max = (V_1.applyfunc(lambda x: x**2)+V_2.applyfunc(lambda x: x**2)).applyfunc(sp.sqrt)\n",
    "\n",
    "\n",
    "render.eq_display(sp.MatrixSymbol('V_max', 2,1), V_max.subs(params).evalf(3))"
   ]
  },
  {
   "cell_type": "markdown",
   "metadata": {},
   "source": [
    "#### Biegemomente\n",
    "\n",
    "Die Biegemomente lassen sich abschliessend anhand der Querkräfte bestimmen."
   ]
  },
  {
   "cell_type": "markdown",
   "metadata": {},
   "source": [
    "#### Normalkräfte\n",
    "\n",
    "Die Normalkräfte resultieren aus den Punktmassen."
   ]
  },
  {
   "cell_type": "code",
   "execution_count": 107,
   "metadata": {},
   "outputs": [
    {
     "data": {
      "image/svg+xml": [
       "<?xml version=\"1.0\" encoding=\"utf-8\" standalone=\"no\"?>\n",
       "<!DOCTYPE svg PUBLIC \"-//W3C//DTD SVG 1.1//EN\"\n",
       "  \"http://www.w3.org/Graphics/SVG/1.1/DTD/svg11.dtd\">\n",
       "<svg xmlns:xlink=\"http://www.w3.org/1999/xlink\" width=\"398.560625pt\" height=\"325.986375pt\" viewBox=\"0 0 398.560625 325.986375\" xmlns=\"http://www.w3.org/2000/svg\" version=\"1.1\">\n",
       " <metadata>\n",
       "  <rdf:RDF xmlns:dc=\"http://purl.org/dc/elements/1.1/\" xmlns:cc=\"http://creativecommons.org/ns#\" xmlns:rdf=\"http://www.w3.org/1999/02/22-rdf-syntax-ns#\">\n",
       "   <cc:Work>\n",
       "    <dc:type rdf:resource=\"http://purl.org/dc/dcmitype/StillImage\"/>\n",
       "    <dc:date>2023-08-09T12:36:12.497880</dc:date>\n",
       "    <dc:format>image/svg+xml</dc:format>\n",
       "    <dc:creator>\n",
       "     <cc:Agent>\n",
       "      <dc:title>Matplotlib v3.7.1, https://matplotlib.org/</dc:title>\n",
       "     </cc:Agent>\n",
       "    </dc:creator>\n",
       "   </cc:Work>\n",
       "  </rdf:RDF>\n",
       " </metadata>\n",
       " <defs>\n",
       "  <style type=\"text/css\">*{stroke-linejoin: round; stroke-linecap: butt}</style>\n",
       " </defs>\n",
       " <g id=\"figure_1\">\n",
       "  <g id=\"patch_1\">\n",
       "   <path d=\"M 0 325.986375 \n",
       "L 398.560625 325.986375 \n",
       "L 398.560625 0 \n",
       "L 0 0 \n",
       "z\n",
       "\" style=\"fill: #ffffff\"/>\n",
       "  </g>\n",
       "  <g id=\"axes_1\">\n",
       "   <g id=\"patch_2\">\n",
       "    <path d=\"M 34.240625 288.430125 \n",
       "L 139.275919 288.430125 \n",
       "L 139.275919 22.318125 \n",
       "L 34.240625 22.318125 \n",
       "z\n",
       "\" style=\"fill: #ffffff\"/>\n",
       "   </g>\n",
       "   <g id=\"matplotlib.axis_1\">\n",
       "    <g id=\"xtick_1\">\n",
       "     <g id=\"line2d_1\">\n",
       "      <defs>\n",
       "       <path id=\"mddb01e6f62\" d=\"M 0 0 \n",
       "L 0 3.5 \n",
       "\" style=\"stroke: #000000; stroke-width: 0.8\"/>\n",
       "      </defs>\n",
       "      <g>\n",
       "       <use xlink:href=\"#mddb01e6f62\" x=\"39.014957\" y=\"288.430125\" style=\"stroke: #000000; stroke-width: 0.8\"/>\n",
       "      </g>\n",
       "     </g>\n",
       "     <g id=\"text_1\">\n",
       "      <!-- 0.0 -->\n",
       "      <g transform=\"translate(31.063394 303.028562) scale(0.1 -0.1)\">\n",
       "       <defs>\n",
       "        <path id=\"DejaVuSans-30\" d=\"M 2034 4250 \n",
       "Q 1547 4250 1301 3770 \n",
       "Q 1056 3291 1056 2328 \n",
       "Q 1056 1369 1301 889 \n",
       "Q 1547 409 2034 409 \n",
       "Q 2525 409 2770 889 \n",
       "Q 3016 1369 3016 2328 \n",
       "Q 3016 3291 2770 3770 \n",
       "Q 2525 4250 2034 4250 \n",
       "z\n",
       "M 2034 4750 \n",
       "Q 2819 4750 3233 4129 \n",
       "Q 3647 3509 3647 2328 \n",
       "Q 3647 1150 3233 529 \n",
       "Q 2819 -91 2034 -91 \n",
       "Q 1250 -91 836 529 \n",
       "Q 422 1150 422 2328 \n",
       "Q 422 3509 836 4129 \n",
       "Q 1250 4750 2034 4750 \n",
       "z\n",
       "\" transform=\"scale(0.015625)\"/>\n",
       "        <path id=\"DejaVuSans-2e\" d=\"M 684 794 \n",
       "L 1344 794 \n",
       "L 1344 0 \n",
       "L 684 0 \n",
       "L 684 794 \n",
       "z\n",
       "\" transform=\"scale(0.015625)\"/>\n",
       "       </defs>\n",
       "       <use xlink:href=\"#DejaVuSans-30\"/>\n",
       "       <use xlink:href=\"#DejaVuSans-2e\" x=\"63.623047\"/>\n",
       "       <use xlink:href=\"#DejaVuSans-30\" x=\"95.410156\"/>\n",
       "      </g>\n",
       "     </g>\n",
       "    </g>\n",
       "    <g id=\"xtick_2\">\n",
       "     <g id=\"line2d_2\">\n",
       "      <g>\n",
       "       <use xlink:href=\"#mddb01e6f62\" x=\"80.613274\" y=\"288.430125\" style=\"stroke: #000000; stroke-width: 0.8\"/>\n",
       "      </g>\n",
       "     </g>\n",
       "     <g id=\"text_2\">\n",
       "      <!-- 2.5 -->\n",
       "      <g transform=\"translate(72.661712 303.028562) scale(0.1 -0.1)\">\n",
       "       <defs>\n",
       "        <path id=\"DejaVuSans-32\" d=\"M 1228 531 \n",
       "L 3431 531 \n",
       "L 3431 0 \n",
       "L 469 0 \n",
       "L 469 531 \n",
       "Q 828 903 1448 1529 \n",
       "Q 2069 2156 2228 2338 \n",
       "Q 2531 2678 2651 2914 \n",
       "Q 2772 3150 2772 3378 \n",
       "Q 2772 3750 2511 3984 \n",
       "Q 2250 4219 1831 4219 \n",
       "Q 1534 4219 1204 4116 \n",
       "Q 875 4013 500 3803 \n",
       "L 500 4441 \n",
       "Q 881 4594 1212 4672 \n",
       "Q 1544 4750 1819 4750 \n",
       "Q 2544 4750 2975 4387 \n",
       "Q 3406 4025 3406 3419 \n",
       "Q 3406 3131 3298 2873 \n",
       "Q 3191 2616 2906 2266 \n",
       "Q 2828 2175 2409 1742 \n",
       "Q 1991 1309 1228 531 \n",
       "z\n",
       "\" transform=\"scale(0.015625)\"/>\n",
       "        <path id=\"DejaVuSans-35\" d=\"M 691 4666 \n",
       "L 3169 4666 \n",
       "L 3169 4134 \n",
       "L 1269 4134 \n",
       "L 1269 2991 \n",
       "Q 1406 3038 1543 3061 \n",
       "Q 1681 3084 1819 3084 \n",
       "Q 2600 3084 3056 2656 \n",
       "Q 3513 2228 3513 1497 \n",
       "Q 3513 744 3044 326 \n",
       "Q 2575 -91 1722 -91 \n",
       "Q 1428 -91 1123 -41 \n",
       "Q 819 9 494 109 \n",
       "L 494 744 \n",
       "Q 775 591 1075 516 \n",
       "Q 1375 441 1709 441 \n",
       "Q 2250 441 2565 725 \n",
       "Q 2881 1009 2881 1497 \n",
       "Q 2881 1984 2565 2268 \n",
       "Q 2250 2553 1709 2553 \n",
       "Q 1456 2553 1204 2497 \n",
       "Q 953 2441 691 2322 \n",
       "L 691 4666 \n",
       "z\n",
       "\" transform=\"scale(0.015625)\"/>\n",
       "       </defs>\n",
       "       <use xlink:href=\"#DejaVuSans-32\"/>\n",
       "       <use xlink:href=\"#DejaVuSans-2e\" x=\"63.623047\"/>\n",
       "       <use xlink:href=\"#DejaVuSans-35\" x=\"95.410156\"/>\n",
       "      </g>\n",
       "     </g>\n",
       "    </g>\n",
       "    <g id=\"xtick_3\">\n",
       "     <g id=\"line2d_3\">\n",
       "      <g>\n",
       "       <use xlink:href=\"#mddb01e6f62\" x=\"122.211592\" y=\"288.430125\" style=\"stroke: #000000; stroke-width: 0.8\"/>\n",
       "      </g>\n",
       "     </g>\n",
       "     <g id=\"text_3\">\n",
       "      <!-- 5.0 -->\n",
       "      <g transform=\"translate(114.260029 303.028562) scale(0.1 -0.1)\">\n",
       "       <use xlink:href=\"#DejaVuSans-35\"/>\n",
       "       <use xlink:href=\"#DejaVuSans-2e\" x=\"63.623047\"/>\n",
       "       <use xlink:href=\"#DejaVuSans-30\" x=\"95.410156\"/>\n",
       "      </g>\n",
       "     </g>\n",
       "    </g>\n",
       "    <g id=\"text_4\">\n",
       "     <!-- $[kN]$ -->\n",
       "     <g transform=\"translate(76.208272 316.706687) scale(0.1 -0.1)\">\n",
       "      <defs>\n",
       "       <path id=\"DejaVuSans-5b\" d=\"M 550 4863 \n",
       "L 1875 4863 \n",
       "L 1875 4416 \n",
       "L 1125 4416 \n",
       "L 1125 -397 \n",
       "L 1875 -397 \n",
       "L 1875 -844 \n",
       "L 550 -844 \n",
       "L 550 4863 \n",
       "z\n",
       "\" transform=\"scale(0.015625)\"/>\n",
       "       <path id=\"DejaVuSans-Oblique-6b\" d=\"M 1172 4863 \n",
       "L 1747 4863 \n",
       "L 1197 2028 \n",
       "L 3169 3500 \n",
       "L 3916 3500 \n",
       "L 1716 1825 \n",
       "L 3322 0 \n",
       "L 2625 0 \n",
       "L 1131 1709 \n",
       "L 800 0 \n",
       "L 225 0 \n",
       "L 1172 4863 \n",
       "z\n",
       "\" transform=\"scale(0.015625)\"/>\n",
       "       <path id=\"DejaVuSans-Oblique-4e\" d=\"M 1081 4666 \n",
       "L 1931 4666 \n",
       "L 3219 666 \n",
       "L 4000 4666 \n",
       "L 4616 4666 \n",
       "L 3706 0 \n",
       "L 2853 0 \n",
       "L 1569 4025 \n",
       "L 788 0 \n",
       "L 172 0 \n",
       "L 1081 4666 \n",
       "z\n",
       "\" transform=\"scale(0.015625)\"/>\n",
       "       <path id=\"DejaVuSans-5d\" d=\"M 1947 4863 \n",
       "L 1947 -844 \n",
       "L 622 -844 \n",
       "L 622 -397 \n",
       "L 1369 -397 \n",
       "L 1369 4416 \n",
       "L 622 4416 \n",
       "L 622 4863 \n",
       "L 1947 4863 \n",
       "z\n",
       "\" transform=\"scale(0.015625)\"/>\n",
       "      </defs>\n",
       "      <use xlink:href=\"#DejaVuSans-5b\" transform=\"translate(0 0.015625)\"/>\n",
       "      <use xlink:href=\"#DejaVuSans-Oblique-6b\" transform=\"translate(39.013672 0.015625)\"/>\n",
       "      <use xlink:href=\"#DejaVuSans-Oblique-4e\" transform=\"translate(96.923828 0.015625)\"/>\n",
       "      <use xlink:href=\"#DejaVuSans-5d\" transform=\"translate(171.728516 0.015625)\"/>\n",
       "     </g>\n",
       "    </g>\n",
       "   </g>\n",
       "   <g id=\"matplotlib.axis_2\">\n",
       "    <g id=\"ytick_1\">\n",
       "     <g id=\"line2d_4\">\n",
       "      <defs>\n",
       "       <path id=\"mb6c830104e\" d=\"M 0 0 \n",
       "L -3.5 0 \n",
       "\" style=\"stroke: #000000; stroke-width: 0.8\"/>\n",
       "      </defs>\n",
       "      <g>\n",
       "       <use xlink:href=\"#mb6c830104e\" x=\"34.240625\" y=\"276.334125\" style=\"stroke: #000000; stroke-width: 0.8\"/>\n",
       "      </g>\n",
       "     </g>\n",
       "     <g id=\"text_5\">\n",
       "      <!-- 0 -->\n",
       "      <g transform=\"translate(20.878125 280.133344) scale(0.1 -0.1)\">\n",
       "       <use xlink:href=\"#DejaVuSans-30\"/>\n",
       "      </g>\n",
       "     </g>\n",
       "    </g>\n",
       "    <g id=\"ytick_2\">\n",
       "     <g id=\"line2d_5\">\n",
       "      <g>\n",
       "       <use xlink:href=\"#mb6c830104e\" x=\"34.240625\" y=\"240.809896\" style=\"stroke: #000000; stroke-width: 0.8\"/>\n",
       "      </g>\n",
       "     </g>\n",
       "     <g id=\"text_6\">\n",
       "      <!-- 1 -->\n",
       "      <g transform=\"translate(20.878125 244.609115) scale(0.1 -0.1)\">\n",
       "       <defs>\n",
       "        <path id=\"DejaVuSans-31\" d=\"M 794 531 \n",
       "L 1825 531 \n",
       "L 1825 4091 \n",
       "L 703 3866 \n",
       "L 703 4441 \n",
       "L 1819 4666 \n",
       "L 2450 4666 \n",
       "L 2450 531 \n",
       "L 3481 531 \n",
       "L 3481 0 \n",
       "L 794 0 \n",
       "L 794 531 \n",
       "z\n",
       "\" transform=\"scale(0.015625)\"/>\n",
       "       </defs>\n",
       "       <use xlink:href=\"#DejaVuSans-31\"/>\n",
       "      </g>\n",
       "     </g>\n",
       "    </g>\n",
       "    <g id=\"ytick_3\">\n",
       "     <g id=\"line2d_6\">\n",
       "      <g>\n",
       "       <use xlink:href=\"#mb6c830104e\" x=\"34.240625\" y=\"205.285667\" style=\"stroke: #000000; stroke-width: 0.8\"/>\n",
       "      </g>\n",
       "     </g>\n",
       "     <g id=\"text_7\">\n",
       "      <!-- 2 -->\n",
       "      <g transform=\"translate(20.878125 209.084886) scale(0.1 -0.1)\">\n",
       "       <use xlink:href=\"#DejaVuSans-32\"/>\n",
       "      </g>\n",
       "     </g>\n",
       "    </g>\n",
       "    <g id=\"ytick_4\">\n",
       "     <g id=\"line2d_7\">\n",
       "      <g>\n",
       "       <use xlink:href=\"#mb6c830104e\" x=\"34.240625\" y=\"169.761438\" style=\"stroke: #000000; stroke-width: 0.8\"/>\n",
       "      </g>\n",
       "     </g>\n",
       "     <g id=\"text_8\">\n",
       "      <!-- 3 -->\n",
       "      <g transform=\"translate(20.878125 173.560657) scale(0.1 -0.1)\">\n",
       "       <defs>\n",
       "        <path id=\"DejaVuSans-33\" d=\"M 2597 2516 \n",
       "Q 3050 2419 3304 2112 \n",
       "Q 3559 1806 3559 1356 \n",
       "Q 3559 666 3084 287 \n",
       "Q 2609 -91 1734 -91 \n",
       "Q 1441 -91 1130 -33 \n",
       "Q 819 25 488 141 \n",
       "L 488 750 \n",
       "Q 750 597 1062 519 \n",
       "Q 1375 441 1716 441 \n",
       "Q 2309 441 2620 675 \n",
       "Q 2931 909 2931 1356 \n",
       "Q 2931 1769 2642 2001 \n",
       "Q 2353 2234 1838 2234 \n",
       "L 1294 2234 \n",
       "L 1294 2753 \n",
       "L 1863 2753 \n",
       "Q 2328 2753 2575 2939 \n",
       "Q 2822 3125 2822 3475 \n",
       "Q 2822 3834 2567 4026 \n",
       "Q 2313 4219 1838 4219 \n",
       "Q 1578 4219 1281 4162 \n",
       "Q 984 4106 628 3988 \n",
       "L 628 4550 \n",
       "Q 988 4650 1302 4700 \n",
       "Q 1616 4750 1894 4750 \n",
       "Q 2613 4750 3031 4423 \n",
       "Q 3450 4097 3450 3541 \n",
       "Q 3450 3153 3228 2886 \n",
       "Q 3006 2619 2597 2516 \n",
       "z\n",
       "\" transform=\"scale(0.015625)\"/>\n",
       "       </defs>\n",
       "       <use xlink:href=\"#DejaVuSans-33\"/>\n",
       "      </g>\n",
       "     </g>\n",
       "    </g>\n",
       "    <g id=\"ytick_5\">\n",
       "     <g id=\"line2d_8\">\n",
       "      <g>\n",
       "       <use xlink:href=\"#mb6c830104e\" x=\"34.240625\" y=\"134.237209\" style=\"stroke: #000000; stroke-width: 0.8\"/>\n",
       "      </g>\n",
       "     </g>\n",
       "     <g id=\"text_9\">\n",
       "      <!-- 4 -->\n",
       "      <g transform=\"translate(20.878125 138.036427) scale(0.1 -0.1)\">\n",
       "       <defs>\n",
       "        <path id=\"DejaVuSans-34\" d=\"M 2419 4116 \n",
       "L 825 1625 \n",
       "L 2419 1625 \n",
       "L 2419 4116 \n",
       "z\n",
       "M 2253 4666 \n",
       "L 3047 4666 \n",
       "L 3047 1625 \n",
       "L 3713 1625 \n",
       "L 3713 1100 \n",
       "L 3047 1100 \n",
       "L 3047 0 \n",
       "L 2419 0 \n",
       "L 2419 1100 \n",
       "L 313 1100 \n",
       "L 313 1709 \n",
       "L 2253 4666 \n",
       "z\n",
       "\" transform=\"scale(0.015625)\"/>\n",
       "       </defs>\n",
       "       <use xlink:href=\"#DejaVuSans-34\"/>\n",
       "      </g>\n",
       "     </g>\n",
       "    </g>\n",
       "    <g id=\"ytick_6\">\n",
       "     <g id=\"line2d_9\">\n",
       "      <g>\n",
       "       <use xlink:href=\"#mb6c830104e\" x=\"34.240625\" y=\"98.71298\" style=\"stroke: #000000; stroke-width: 0.8\"/>\n",
       "      </g>\n",
       "     </g>\n",
       "     <g id=\"text_10\">\n",
       "      <!-- 5 -->\n",
       "      <g transform=\"translate(20.878125 102.512198) scale(0.1 -0.1)\">\n",
       "       <use xlink:href=\"#DejaVuSans-35\"/>\n",
       "      </g>\n",
       "     </g>\n",
       "    </g>\n",
       "    <g id=\"ytick_7\">\n",
       "     <g id=\"line2d_10\">\n",
       "      <g>\n",
       "       <use xlink:href=\"#mb6c830104e\" x=\"34.240625\" y=\"63.188751\" style=\"stroke: #000000; stroke-width: 0.8\"/>\n",
       "      </g>\n",
       "     </g>\n",
       "     <g id=\"text_11\">\n",
       "      <!-- 6 -->\n",
       "      <g transform=\"translate(20.878125 66.987969) scale(0.1 -0.1)\">\n",
       "       <defs>\n",
       "        <path id=\"DejaVuSans-36\" d=\"M 2113 2584 \n",
       "Q 1688 2584 1439 2293 \n",
       "Q 1191 2003 1191 1497 \n",
       "Q 1191 994 1439 701 \n",
       "Q 1688 409 2113 409 \n",
       "Q 2538 409 2786 701 \n",
       "Q 3034 994 3034 1497 \n",
       "Q 3034 2003 2786 2293 \n",
       "Q 2538 2584 2113 2584 \n",
       "z\n",
       "M 3366 4563 \n",
       "L 3366 3988 \n",
       "Q 3128 4100 2886 4159 \n",
       "Q 2644 4219 2406 4219 \n",
       "Q 1781 4219 1451 3797 \n",
       "Q 1122 3375 1075 2522 \n",
       "Q 1259 2794 1537 2939 \n",
       "Q 1816 3084 2150 3084 \n",
       "Q 2853 3084 3261 2657 \n",
       "Q 3669 2231 3669 1497 \n",
       "Q 3669 778 3244 343 \n",
       "Q 2819 -91 2113 -91 \n",
       "Q 1303 -91 875 529 \n",
       "Q 447 1150 447 2328 \n",
       "Q 447 3434 972 4092 \n",
       "Q 1497 4750 2381 4750 \n",
       "Q 2619 4750 2861 4703 \n",
       "Q 3103 4656 3366 4563 \n",
       "z\n",
       "\" transform=\"scale(0.015625)\"/>\n",
       "       </defs>\n",
       "       <use xlink:href=\"#DejaVuSans-36\"/>\n",
       "      </g>\n",
       "     </g>\n",
       "    </g>\n",
       "    <g id=\"ytick_8\">\n",
       "     <g id=\"line2d_11\">\n",
       "      <g>\n",
       "       <use xlink:href=\"#mb6c830104e\" x=\"34.240625\" y=\"27.664521\" style=\"stroke: #000000; stroke-width: 0.8\"/>\n",
       "      </g>\n",
       "     </g>\n",
       "     <g id=\"text_12\">\n",
       "      <!-- 7 -->\n",
       "      <g transform=\"translate(20.878125 31.46374) scale(0.1 -0.1)\">\n",
       "       <defs>\n",
       "        <path id=\"DejaVuSans-37\" d=\"M 525 4666 \n",
       "L 3525 4666 \n",
       "L 3525 4397 \n",
       "L 1831 0 \n",
       "L 1172 0 \n",
       "L 2766 4134 \n",
       "L 525 4134 \n",
       "L 525 4666 \n",
       "z\n",
       "\" transform=\"scale(0.015625)\"/>\n",
       "       </defs>\n",
       "       <use xlink:href=\"#DejaVuSans-37\"/>\n",
       "      </g>\n",
       "     </g>\n",
       "    </g>\n",
       "    <g id=\"text_13\">\n",
       "     <!-- $[m]$ -->\n",
       "     <g transform=\"translate(14.798438 164.174125) rotate(-90) scale(0.1 -0.1)\">\n",
       "      <defs>\n",
       "       <path id=\"DejaVuSans-Oblique-6d\" d=\"M 5747 2113 \n",
       "L 5338 0 \n",
       "L 4763 0 \n",
       "L 5166 2094 \n",
       "Q 5191 2228 5203 2325 \n",
       "Q 5216 2422 5216 2491 \n",
       "Q 5216 2772 5059 2928 \n",
       "Q 4903 3084 4622 3084 \n",
       "Q 4203 3084 3875 2770 \n",
       "Q 3547 2456 3450 1953 \n",
       "L 3066 0 \n",
       "L 2491 0 \n",
       "L 2900 2094 \n",
       "Q 2925 2209 2937 2307 \n",
       "Q 2950 2406 2950 2484 \n",
       "Q 2950 2769 2794 2926 \n",
       "Q 2638 3084 2363 3084 \n",
       "Q 1938 3084 1609 2770 \n",
       "Q 1281 2456 1184 1953 \n",
       "L 800 0 \n",
       "L 225 0 \n",
       "L 909 3500 \n",
       "L 1484 3500 \n",
       "L 1375 2956 \n",
       "Q 1609 3263 1923 3423 \n",
       "Q 2238 3584 2597 3584 \n",
       "Q 2978 3584 3223 3384 \n",
       "Q 3469 3184 3519 2828 \n",
       "Q 3781 3197 4126 3390 \n",
       "Q 4472 3584 4856 3584 \n",
       "Q 5306 3584 5551 3325 \n",
       "Q 5797 3066 5797 2591 \n",
       "Q 5797 2488 5784 2364 \n",
       "Q 5772 2241 5747 2113 \n",
       "z\n",
       "\" transform=\"scale(0.015625)\"/>\n",
       "      </defs>\n",
       "      <use xlink:href=\"#DejaVuSans-5b\" transform=\"translate(0 0.015625)\"/>\n",
       "      <use xlink:href=\"#DejaVuSans-Oblique-6d\" transform=\"translate(39.013672 0.015625)\"/>\n",
       "      <use xlink:href=\"#DejaVuSans-5d\" transform=\"translate(136.425781 0.015625)\"/>\n",
       "     </g>\n",
       "    </g>\n",
       "   </g>\n",
       "   <g id=\"line2d_12\">\n",
       "    <path d=\"M 39.014957 276.334125 \n",
       "L 134.501588 276.091963 \n",
       "L 134.501588 141.207639 \n",
       "L 115.482367 140.965476 \n",
       "L 115.482367 34.656287 \n",
       "L 39.014957 34.414125 \n",
       "L 39.014957 34.414125 \n",
       "\" clip-path=\"url(#p2d02847d7a)\" style=\"fill: none; stroke: #1f77b4; stroke-width: 1.5; stroke-linecap: square\"/>\n",
       "   </g>\n",
       "   <g id=\"line2d_13\">\n",
       "    <path d=\"M 34.240625 140.986812 \n",
       "L 139.275919 140.986812 \n",
       "\" clip-path=\"url(#p2d02847d7a)\" style=\"fill: none; stroke-dasharray: 3.7,1.6; stroke-dashoffset: 0; stroke: #808080\"/>\n",
       "   </g>\n",
       "   <g id=\"line2d_14\">\n",
       "    <path d=\"M 34.240625 34.414125 \n",
       "L 139.275919 34.414125 \n",
       "\" clip-path=\"url(#p2d02847d7a)\" style=\"fill: none; stroke-dasharray: 3.7,1.6; stroke-dashoffset: 0; stroke: #808080\"/>\n",
       "   </g>\n",
       "   <g id=\"line2d_15\">\n",
       "    <path d=\"M 39.014957 288.430125 \n",
       "L 39.014957 22.318125 \n",
       "\" clip-path=\"url(#p2d02847d7a)\" style=\"fill: none; stroke-dasharray: 5.55,2.4; stroke-dashoffset: 0; stroke: #000000; stroke-width: 1.5\"/>\n",
       "   </g>\n",
       "   <g id=\"patch_3\">\n",
       "    <path d=\"M 34.240625 288.430125 \n",
       "L 34.240625 22.318125 \n",
       "\" style=\"fill: none; stroke: #000000; stroke-width: 0.8; stroke-linejoin: miter; stroke-linecap: square\"/>\n",
       "   </g>\n",
       "   <g id=\"patch_4\">\n",
       "    <path d=\"M 139.275919 288.430125 \n",
       "L 139.275919 22.318125 \n",
       "\" style=\"fill: none; stroke: #000000; stroke-width: 0.8; stroke-linejoin: miter; stroke-linecap: square\"/>\n",
       "   </g>\n",
       "   <g id=\"patch_5\">\n",
       "    <path d=\"M 34.240625 288.430125 \n",
       "L 139.275919 288.430125 \n",
       "\" style=\"fill: none; stroke: #000000; stroke-width: 0.8; stroke-linejoin: miter; stroke-linecap: square\"/>\n",
       "   </g>\n",
       "   <g id=\"patch_6\">\n",
       "    <path d=\"M 34.240625 22.318125 \n",
       "L 139.275919 22.318125 \n",
       "\" style=\"fill: none; stroke: #000000; stroke-width: 0.8; stroke-linejoin: miter; stroke-linecap: square\"/>\n",
       "   </g>\n",
       "   <g id=\"text_14\">\n",
       "    <!-- $V(x)$ -->\n",
       "    <g transform=\"translate(74.398272 16.318125) scale(0.12 -0.12)\">\n",
       "     <defs>\n",
       "      <path id=\"DejaVuSans-Oblique-56\" d=\"M 1319 0 \n",
       "L 500 4666 \n",
       "L 1119 4666 \n",
       "L 1797 653 \n",
       "L 4063 4666 \n",
       "L 4750 4666 \n",
       "L 2053 0 \n",
       "L 1319 0 \n",
       "z\n",
       "\" transform=\"scale(0.015625)\"/>\n",
       "      <path id=\"DejaVuSans-28\" d=\"M 1984 4856 \n",
       "Q 1566 4138 1362 3434 \n",
       "Q 1159 2731 1159 2009 \n",
       "Q 1159 1288 1364 580 \n",
       "Q 1569 -128 1984 -844 \n",
       "L 1484 -844 \n",
       "Q 1016 -109 783 600 \n",
       "Q 550 1309 550 2009 \n",
       "Q 550 2706 781 3412 \n",
       "Q 1013 4119 1484 4856 \n",
       "L 1984 4856 \n",
       "z\n",
       "\" transform=\"scale(0.015625)\"/>\n",
       "      <path id=\"DejaVuSans-Oblique-78\" d=\"M 3841 3500 \n",
       "L 2234 1784 \n",
       "L 3219 0 \n",
       "L 2559 0 \n",
       "L 1819 1388 \n",
       "L 531 0 \n",
       "L -166 0 \n",
       "L 1556 1844 \n",
       "L 641 3500 \n",
       "L 1300 3500 \n",
       "L 1972 2234 \n",
       "L 3144 3500 \n",
       "L 3841 3500 \n",
       "z\n",
       "\" transform=\"scale(0.015625)\"/>\n",
       "      <path id=\"DejaVuSans-29\" d=\"M 513 4856 \n",
       "L 1013 4856 \n",
       "Q 1481 4119 1714 3412 \n",
       "Q 1947 2706 1947 2009 \n",
       "Q 1947 1309 1714 600 \n",
       "Q 1481 -109 1013 -844 \n",
       "L 513 -844 \n",
       "Q 928 -128 1133 580 \n",
       "Q 1338 1288 1338 2009 \n",
       "Q 1338 2731 1133 3434 \n",
       "Q 928 4138 513 4856 \n",
       "z\n",
       "\" transform=\"scale(0.015625)\"/>\n",
       "     </defs>\n",
       "     <use xlink:href=\"#DejaVuSans-Oblique-56\" transform=\"translate(0 0.125)\"/>\n",
       "     <use xlink:href=\"#DejaVuSans-28\" transform=\"translate(68.408203 0.125)\"/>\n",
       "     <use xlink:href=\"#DejaVuSans-Oblique-78\" transform=\"translate(107.421875 0.125)\"/>\n",
       "     <use xlink:href=\"#DejaVuSans-29\" transform=\"translate(166.601562 0.125)\"/>\n",
       "    </g>\n",
       "   </g>\n",
       "  </g>\n",
       "  <g id=\"axes_2\">\n",
       "   <g id=\"patch_7\">\n",
       "    <path d=\"M 160.282978 288.430125 \n",
       "L 265.318272 288.430125 \n",
       "L 265.318272 22.318125 \n",
       "L 160.282978 22.318125 \n",
       "z\n",
       "\" style=\"fill: #ffffff\"/>\n",
       "   </g>\n",
       "   <g id=\"matplotlib.axis_3\">\n",
       "    <g id=\"xtick_4\">\n",
       "     <g id=\"line2d_16\">\n",
       "      <g>\n",
       "       <use xlink:href=\"#mddb01e6f62\" x=\"165.057309\" y=\"288.430125\" style=\"stroke: #000000; stroke-width: 0.8\"/>\n",
       "      </g>\n",
       "     </g>\n",
       "     <g id=\"text_15\">\n",
       "      <!-- 0 -->\n",
       "      <g transform=\"translate(161.876059 303.028562) scale(0.1 -0.1)\">\n",
       "       <use xlink:href=\"#DejaVuSans-30\"/>\n",
       "      </g>\n",
       "     </g>\n",
       "    </g>\n",
       "    <g id=\"xtick_5\">\n",
       "     <g id=\"line2d_17\">\n",
       "      <g>\n",
       "       <use xlink:href=\"#mddb01e6f62\" x=\"218.624957\" y=\"288.430125\" style=\"stroke: #000000; stroke-width: 0.8\"/>\n",
       "      </g>\n",
       "     </g>\n",
       "     <g id=\"text_16\">\n",
       "      <!-- 20 -->\n",
       "      <g transform=\"translate(212.262457 303.028562) scale(0.1 -0.1)\">\n",
       "       <use xlink:href=\"#DejaVuSans-32\"/>\n",
       "       <use xlink:href=\"#DejaVuSans-30\" x=\"63.623047\"/>\n",
       "      </g>\n",
       "     </g>\n",
       "    </g>\n",
       "    <g id=\"text_17\">\n",
       "     <!-- $[kNm]$ -->\n",
       "     <g transform=\"translate(197.350625 316.706687) scale(0.1 -0.1)\">\n",
       "      <use xlink:href=\"#DejaVuSans-5b\" transform=\"translate(0 0.015625)\"/>\n",
       "      <use xlink:href=\"#DejaVuSans-Oblique-6b\" transform=\"translate(39.013672 0.015625)\"/>\n",
       "      <use xlink:href=\"#DejaVuSans-Oblique-4e\" transform=\"translate(96.923828 0.015625)\"/>\n",
       "      <use xlink:href=\"#DejaVuSans-Oblique-6d\" transform=\"translate(171.728516 0.015625)\"/>\n",
       "      <use xlink:href=\"#DejaVuSans-5d\" transform=\"translate(269.140625 0.015625)\"/>\n",
       "     </g>\n",
       "    </g>\n",
       "   </g>\n",
       "   <g id=\"matplotlib.axis_4\">\n",
       "    <g id=\"ytick_9\">\n",
       "     <g id=\"line2d_18\">\n",
       "      <g>\n",
       "       <use xlink:href=\"#mb6c830104e\" x=\"160.282978\" y=\"276.334125\" style=\"stroke: #000000; stroke-width: 0.8\"/>\n",
       "      </g>\n",
       "     </g>\n",
       "     <g id=\"text_18\">\n",
       "      <!-- 0 -->\n",
       "      <g transform=\"translate(146.920478 280.133344) scale(0.1 -0.1)\">\n",
       "       <use xlink:href=\"#DejaVuSans-30\"/>\n",
       "      </g>\n",
       "     </g>\n",
       "    </g>\n",
       "    <g id=\"ytick_10\">\n",
       "     <g id=\"line2d_19\">\n",
       "      <g>\n",
       "       <use xlink:href=\"#mb6c830104e\" x=\"160.282978\" y=\"240.809896\" style=\"stroke: #000000; stroke-width: 0.8\"/>\n",
       "      </g>\n",
       "     </g>\n",
       "     <g id=\"text_19\">\n",
       "      <!-- 1 -->\n",
       "      <g transform=\"translate(146.920478 244.609115) scale(0.1 -0.1)\">\n",
       "       <use xlink:href=\"#DejaVuSans-31\"/>\n",
       "      </g>\n",
       "     </g>\n",
       "    </g>\n",
       "    <g id=\"ytick_11\">\n",
       "     <g id=\"line2d_20\">\n",
       "      <g>\n",
       "       <use xlink:href=\"#mb6c830104e\" x=\"160.282978\" y=\"205.285667\" style=\"stroke: #000000; stroke-width: 0.8\"/>\n",
       "      </g>\n",
       "     </g>\n",
       "     <g id=\"text_20\">\n",
       "      <!-- 2 -->\n",
       "      <g transform=\"translate(146.920478 209.084886) scale(0.1 -0.1)\">\n",
       "       <use xlink:href=\"#DejaVuSans-32\"/>\n",
       "      </g>\n",
       "     </g>\n",
       "    </g>\n",
       "    <g id=\"ytick_12\">\n",
       "     <g id=\"line2d_21\">\n",
       "      <g>\n",
       "       <use xlink:href=\"#mb6c830104e\" x=\"160.282978\" y=\"169.761438\" style=\"stroke: #000000; stroke-width: 0.8\"/>\n",
       "      </g>\n",
       "     </g>\n",
       "     <g id=\"text_21\">\n",
       "      <!-- 3 -->\n",
       "      <g transform=\"translate(146.920478 173.560657) scale(0.1 -0.1)\">\n",
       "       <use xlink:href=\"#DejaVuSans-33\"/>\n",
       "      </g>\n",
       "     </g>\n",
       "    </g>\n",
       "    <g id=\"ytick_13\">\n",
       "     <g id=\"line2d_22\">\n",
       "      <g>\n",
       "       <use xlink:href=\"#mb6c830104e\" x=\"160.282978\" y=\"134.237209\" style=\"stroke: #000000; stroke-width: 0.8\"/>\n",
       "      </g>\n",
       "     </g>\n",
       "     <g id=\"text_22\">\n",
       "      <!-- 4 -->\n",
       "      <g transform=\"translate(146.920478 138.036427) scale(0.1 -0.1)\">\n",
       "       <use xlink:href=\"#DejaVuSans-34\"/>\n",
       "      </g>\n",
       "     </g>\n",
       "    </g>\n",
       "    <g id=\"ytick_14\">\n",
       "     <g id=\"line2d_23\">\n",
       "      <g>\n",
       "       <use xlink:href=\"#mb6c830104e\" x=\"160.282978\" y=\"98.71298\" style=\"stroke: #000000; stroke-width: 0.8\"/>\n",
       "      </g>\n",
       "     </g>\n",
       "     <g id=\"text_23\">\n",
       "      <!-- 5 -->\n",
       "      <g transform=\"translate(146.920478 102.512198) scale(0.1 -0.1)\">\n",
       "       <use xlink:href=\"#DejaVuSans-35\"/>\n",
       "      </g>\n",
       "     </g>\n",
       "    </g>\n",
       "    <g id=\"ytick_15\">\n",
       "     <g id=\"line2d_24\">\n",
       "      <g>\n",
       "       <use xlink:href=\"#mb6c830104e\" x=\"160.282978\" y=\"63.188751\" style=\"stroke: #000000; stroke-width: 0.8\"/>\n",
       "      </g>\n",
       "     </g>\n",
       "     <g id=\"text_24\">\n",
       "      <!-- 6 -->\n",
       "      <g transform=\"translate(146.920478 66.987969) scale(0.1 -0.1)\">\n",
       "       <use xlink:href=\"#DejaVuSans-36\"/>\n",
       "      </g>\n",
       "     </g>\n",
       "    </g>\n",
       "    <g id=\"ytick_16\">\n",
       "     <g id=\"line2d_25\">\n",
       "      <g>\n",
       "       <use xlink:href=\"#mb6c830104e\" x=\"160.282978\" y=\"27.664521\" style=\"stroke: #000000; stroke-width: 0.8\"/>\n",
       "      </g>\n",
       "     </g>\n",
       "     <g id=\"text_25\">\n",
       "      <!-- 7 -->\n",
       "      <g transform=\"translate(146.920478 31.46374) scale(0.1 -0.1)\">\n",
       "       <use xlink:href=\"#DejaVuSans-37\"/>\n",
       "      </g>\n",
       "     </g>\n",
       "    </g>\n",
       "   </g>\n",
       "   <g id=\"line2d_26\">\n",
       "    <path d=\"M 260.543941 276.334125 \n",
       "L 201.556572 139.754666 \n",
       "L 165.057309 34.414125 \n",
       "L 165.057309 34.414125 \n",
       "\" clip-path=\"url(#pad55166d71)\" style=\"fill: none; stroke: #ffa500; stroke-width: 1.5; stroke-linecap: square\"/>\n",
       "   </g>\n",
       "   <g id=\"line2d_27\">\n",
       "    <path d=\"M 160.282978 140.986812 \n",
       "L 265.318272 140.986812 \n",
       "\" clip-path=\"url(#pad55166d71)\" style=\"fill: none; stroke-dasharray: 3.7,1.6; stroke-dashoffset: 0; stroke: #808080\"/>\n",
       "   </g>\n",
       "   <g id=\"line2d_28\">\n",
       "    <path d=\"M 160.282978 34.414125 \n",
       "L 265.318272 34.414125 \n",
       "\" clip-path=\"url(#pad55166d71)\" style=\"fill: none; stroke-dasharray: 3.7,1.6; stroke-dashoffset: 0; stroke: #808080\"/>\n",
       "   </g>\n",
       "   <g id=\"line2d_29\">\n",
       "    <path d=\"M 165.057309 288.430125 \n",
       "L 165.057309 22.318125 \n",
       "\" clip-path=\"url(#pad55166d71)\" style=\"fill: none; stroke-dasharray: 5.55,2.4; stroke-dashoffset: 0; stroke: #000000; stroke-width: 1.5\"/>\n",
       "   </g>\n",
       "   <g id=\"patch_8\">\n",
       "    <path d=\"M 160.282978 288.430125 \n",
       "L 160.282978 22.318125 \n",
       "\" style=\"fill: none; stroke: #000000; stroke-width: 0.8; stroke-linejoin: miter; stroke-linecap: square\"/>\n",
       "   </g>\n",
       "   <g id=\"patch_9\">\n",
       "    <path d=\"M 265.318272 288.430125 \n",
       "L 265.318272 22.318125 \n",
       "\" style=\"fill: none; stroke: #000000; stroke-width: 0.8; stroke-linejoin: miter; stroke-linecap: square\"/>\n",
       "   </g>\n",
       "   <g id=\"patch_10\">\n",
       "    <path d=\"M 160.282978 288.430125 \n",
       "L 265.318272 288.430125 \n",
       "\" style=\"fill: none; stroke: #000000; stroke-width: 0.8; stroke-linejoin: miter; stroke-linecap: square\"/>\n",
       "   </g>\n",
       "   <g id=\"patch_11\">\n",
       "    <path d=\"M 160.282978 22.318125 \n",
       "L 265.318272 22.318125 \n",
       "\" style=\"fill: none; stroke: #000000; stroke-width: 0.8; stroke-linejoin: miter; stroke-linecap: square\"/>\n",
       "   </g>\n",
       "   <g id=\"text_26\">\n",
       "    <!-- $M(x)$ -->\n",
       "    <g transform=\"translate(199.360625 16.318125) scale(0.12 -0.12)\">\n",
       "     <defs>\n",
       "      <path id=\"DejaVuSans-Oblique-4d\" d=\"M 1081 4666 \n",
       "L 2028 4666 \n",
       "L 2572 1522 \n",
       "L 4378 4666 \n",
       "L 5350 4666 \n",
       "L 4441 0 \n",
       "L 3828 0 \n",
       "L 4622 4091 \n",
       "L 2791 897 \n",
       "L 2175 897 \n",
       "L 1581 4103 \n",
       "L 788 0 \n",
       "L 172 0 \n",
       "L 1081 4666 \n",
       "z\n",
       "\" transform=\"scale(0.015625)\"/>\n",
       "     </defs>\n",
       "     <use xlink:href=\"#DejaVuSans-Oblique-4d\" transform=\"translate(0 0.125)\"/>\n",
       "     <use xlink:href=\"#DejaVuSans-28\" transform=\"translate(86.279297 0.125)\"/>\n",
       "     <use xlink:href=\"#DejaVuSans-Oblique-78\" transform=\"translate(125.292969 0.125)\"/>\n",
       "     <use xlink:href=\"#DejaVuSans-29\" transform=\"translate(184.472656 0.125)\"/>\n",
       "    </g>\n",
       "   </g>\n",
       "  </g>\n",
       "  <g id=\"axes_3\">\n",
       "   <g id=\"patch_12\">\n",
       "    <path d=\"M 286.325331 288.430125 \n",
       "L 391.360625 288.430125 \n",
       "L 391.360625 22.318125 \n",
       "L 286.325331 22.318125 \n",
       "z\n",
       "\" style=\"fill: #ffffff\"/>\n",
       "   </g>\n",
       "   <g id=\"matplotlib.axis_5\">\n",
       "    <g id=\"xtick_6\">\n",
       "     <g id=\"line2d_30\">\n",
       "      <g>\n",
       "       <use xlink:href=\"#mddb01e6f62\" x=\"291.099662\" y=\"288.430125\" style=\"stroke: #000000; stroke-width: 0.8\"/>\n",
       "      </g>\n",
       "     </g>\n",
       "     <g id=\"text_27\">\n",
       "      <!-- 0 -->\n",
       "      <g transform=\"translate(287.918412 303.028562) scale(0.1 -0.1)\">\n",
       "       <use xlink:href=\"#DejaVuSans-30\"/>\n",
       "      </g>\n",
       "     </g>\n",
       "    </g>\n",
       "    <g id=\"xtick_7\">\n",
       "     <g id=\"line2d_31\">\n",
       "      <g>\n",
       "       <use xlink:href=\"#mddb01e6f62\" x=\"360.292873\" y=\"288.430125\" style=\"stroke: #000000; stroke-width: 0.8\"/>\n",
       "      </g>\n",
       "     </g>\n",
       "     <g id=\"text_28\">\n",
       "      <!-- 50 -->\n",
       "      <g transform=\"translate(353.930373 303.028562) scale(0.1 -0.1)\">\n",
       "       <use xlink:href=\"#DejaVuSans-35\"/>\n",
       "       <use xlink:href=\"#DejaVuSans-30\" x=\"63.623047\"/>\n",
       "      </g>\n",
       "     </g>\n",
       "    </g>\n",
       "    <g id=\"text_29\">\n",
       "     <!-- $[kN]$ -->\n",
       "     <g transform=\"translate(328.292978 316.706687) scale(0.1 -0.1)\">\n",
       "      <use xlink:href=\"#DejaVuSans-5b\" transform=\"translate(0 0.015625)\"/>\n",
       "      <use xlink:href=\"#DejaVuSans-Oblique-6b\" transform=\"translate(39.013672 0.015625)\"/>\n",
       "      <use xlink:href=\"#DejaVuSans-Oblique-4e\" transform=\"translate(96.923828 0.015625)\"/>\n",
       "      <use xlink:href=\"#DejaVuSans-5d\" transform=\"translate(171.728516 0.015625)\"/>\n",
       "     </g>\n",
       "    </g>\n",
       "   </g>\n",
       "   <g id=\"matplotlib.axis_6\">\n",
       "    <g id=\"ytick_17\">\n",
       "     <g id=\"line2d_32\">\n",
       "      <g>\n",
       "       <use xlink:href=\"#mb6c830104e\" x=\"286.325331\" y=\"276.334125\" style=\"stroke: #000000; stroke-width: 0.8\"/>\n",
       "      </g>\n",
       "     </g>\n",
       "     <g id=\"text_30\">\n",
       "      <!-- 0 -->\n",
       "      <g transform=\"translate(272.962831 280.133344) scale(0.1 -0.1)\">\n",
       "       <use xlink:href=\"#DejaVuSans-30\"/>\n",
       "      </g>\n",
       "     </g>\n",
       "    </g>\n",
       "    <g id=\"ytick_18\">\n",
       "     <g id=\"line2d_33\">\n",
       "      <g>\n",
       "       <use xlink:href=\"#mb6c830104e\" x=\"286.325331\" y=\"240.809896\" style=\"stroke: #000000; stroke-width: 0.8\"/>\n",
       "      </g>\n",
       "     </g>\n",
       "     <g id=\"text_31\">\n",
       "      <!-- 1 -->\n",
       "      <g transform=\"translate(272.962831 244.609115) scale(0.1 -0.1)\">\n",
       "       <use xlink:href=\"#DejaVuSans-31\"/>\n",
       "      </g>\n",
       "     </g>\n",
       "    </g>\n",
       "    <g id=\"ytick_19\">\n",
       "     <g id=\"line2d_34\">\n",
       "      <g>\n",
       "       <use xlink:href=\"#mb6c830104e\" x=\"286.325331\" y=\"205.285667\" style=\"stroke: #000000; stroke-width: 0.8\"/>\n",
       "      </g>\n",
       "     </g>\n",
       "     <g id=\"text_32\">\n",
       "      <!-- 2 -->\n",
       "      <g transform=\"translate(272.962831 209.084886) scale(0.1 -0.1)\">\n",
       "       <use xlink:href=\"#DejaVuSans-32\"/>\n",
       "      </g>\n",
       "     </g>\n",
       "    </g>\n",
       "    <g id=\"ytick_20\">\n",
       "     <g id=\"line2d_35\">\n",
       "      <g>\n",
       "       <use xlink:href=\"#mb6c830104e\" x=\"286.325331\" y=\"169.761438\" style=\"stroke: #000000; stroke-width: 0.8\"/>\n",
       "      </g>\n",
       "     </g>\n",
       "     <g id=\"text_33\">\n",
       "      <!-- 3 -->\n",
       "      <g transform=\"translate(272.962831 173.560657) scale(0.1 -0.1)\">\n",
       "       <use xlink:href=\"#DejaVuSans-33\"/>\n",
       "      </g>\n",
       "     </g>\n",
       "    </g>\n",
       "    <g id=\"ytick_21\">\n",
       "     <g id=\"line2d_36\">\n",
       "      <g>\n",
       "       <use xlink:href=\"#mb6c830104e\" x=\"286.325331\" y=\"134.237209\" style=\"stroke: #000000; stroke-width: 0.8\"/>\n",
       "      </g>\n",
       "     </g>\n",
       "     <g id=\"text_34\">\n",
       "      <!-- 4 -->\n",
       "      <g transform=\"translate(272.962831 138.036427) scale(0.1 -0.1)\">\n",
       "       <use xlink:href=\"#DejaVuSans-34\"/>\n",
       "      </g>\n",
       "     </g>\n",
       "    </g>\n",
       "    <g id=\"ytick_22\">\n",
       "     <g id=\"line2d_37\">\n",
       "      <g>\n",
       "       <use xlink:href=\"#mb6c830104e\" x=\"286.325331\" y=\"98.71298\" style=\"stroke: #000000; stroke-width: 0.8\"/>\n",
       "      </g>\n",
       "     </g>\n",
       "     <g id=\"text_35\">\n",
       "      <!-- 5 -->\n",
       "      <g transform=\"translate(272.962831 102.512198) scale(0.1 -0.1)\">\n",
       "       <use xlink:href=\"#DejaVuSans-35\"/>\n",
       "      </g>\n",
       "     </g>\n",
       "    </g>\n",
       "    <g id=\"ytick_23\">\n",
       "     <g id=\"line2d_38\">\n",
       "      <g>\n",
       "       <use xlink:href=\"#mb6c830104e\" x=\"286.325331\" y=\"63.188751\" style=\"stroke: #000000; stroke-width: 0.8\"/>\n",
       "      </g>\n",
       "     </g>\n",
       "     <g id=\"text_36\">\n",
       "      <!-- 6 -->\n",
       "      <g transform=\"translate(272.962831 66.987969) scale(0.1 -0.1)\">\n",
       "       <use xlink:href=\"#DejaVuSans-36\"/>\n",
       "      </g>\n",
       "     </g>\n",
       "    </g>\n",
       "    <g id=\"ytick_24\">\n",
       "     <g id=\"line2d_39\">\n",
       "      <g>\n",
       "       <use xlink:href=\"#mb6c830104e\" x=\"286.325331\" y=\"27.664521\" style=\"stroke: #000000; stroke-width: 0.8\"/>\n",
       "      </g>\n",
       "     </g>\n",
       "     <g id=\"text_37\">\n",
       "      <!-- 7 -->\n",
       "      <g transform=\"translate(272.962831 31.46374) scale(0.1 -0.1)\">\n",
       "       <use xlink:href=\"#DejaVuSans-37\"/>\n",
       "      </g>\n",
       "     </g>\n",
       "    </g>\n",
       "   </g>\n",
       "   <g id=\"line2d_40\">\n",
       "    <path d=\"M 291.099662 276.334125 \n",
       "L 386.586293 276.091963 \n",
       "L 386.586293 141.207639 \n",
       "L 320.160811 140.965476 \n",
       "L 320.160811 34.656287 \n",
       "L 291.099662 34.414125 \n",
       "L 291.099662 34.414125 \n",
       "\" clip-path=\"url(#pdc7a689d49)\" style=\"fill: none; stroke: #008000; stroke-width: 1.5; stroke-linecap: square\"/>\n",
       "   </g>\n",
       "   <g id=\"line2d_41\">\n",
       "    <path d=\"M 286.325331 140.986812 \n",
       "L 391.360625 140.986812 \n",
       "\" clip-path=\"url(#pdc7a689d49)\" style=\"fill: none; stroke-dasharray: 3.7,1.6; stroke-dashoffset: 0; stroke: #808080\"/>\n",
       "   </g>\n",
       "   <g id=\"line2d_42\">\n",
       "    <path d=\"M 286.325331 34.414125 \n",
       "L 391.360625 34.414125 \n",
       "\" clip-path=\"url(#pdc7a689d49)\" style=\"fill: none; stroke-dasharray: 3.7,1.6; stroke-dashoffset: 0; stroke: #808080\"/>\n",
       "   </g>\n",
       "   <g id=\"line2d_43\">\n",
       "    <path d=\"M 291.099662 288.430125 \n",
       "L 291.099662 22.318125 \n",
       "\" clip-path=\"url(#pdc7a689d49)\" style=\"fill: none; stroke-dasharray: 5.55,2.4; stroke-dashoffset: 0; stroke: #000000; stroke-width: 1.5\"/>\n",
       "   </g>\n",
       "   <g id=\"patch_13\">\n",
       "    <path d=\"M 286.325331 288.430125 \n",
       "L 286.325331 22.318125 \n",
       "\" style=\"fill: none; stroke: #000000; stroke-width: 0.8; stroke-linejoin: miter; stroke-linecap: square\"/>\n",
       "   </g>\n",
       "   <g id=\"patch_14\">\n",
       "    <path d=\"M 391.360625 288.430125 \n",
       "L 391.360625 22.318125 \n",
       "\" style=\"fill: none; stroke: #000000; stroke-width: 0.8; stroke-linejoin: miter; stroke-linecap: square\"/>\n",
       "   </g>\n",
       "   <g id=\"patch_15\">\n",
       "    <path d=\"M 286.325331 288.430125 \n",
       "L 391.360625 288.430125 \n",
       "\" style=\"fill: none; stroke: #000000; stroke-width: 0.8; stroke-linejoin: miter; stroke-linecap: square\"/>\n",
       "   </g>\n",
       "   <g id=\"patch_16\">\n",
       "    <path d=\"M 286.325331 22.318125 \n",
       "L 391.360625 22.318125 \n",
       "\" style=\"fill: none; stroke: #000000; stroke-width: 0.8; stroke-linejoin: miter; stroke-linecap: square\"/>\n",
       "   </g>\n",
       "   <g id=\"text_38\">\n",
       "    <!-- $N(x)$ -->\n",
       "    <g transform=\"translate(326.062978 16.318125) scale(0.12 -0.12)\">\n",
       "     <use xlink:href=\"#DejaVuSans-Oblique-4e\" transform=\"translate(0 0.125)\"/>\n",
       "     <use xlink:href=\"#DejaVuSans-28\" transform=\"translate(74.804688 0.125)\"/>\n",
       "     <use xlink:href=\"#DejaVuSans-Oblique-78\" transform=\"translate(113.818359 0.125)\"/>\n",
       "     <use xlink:href=\"#DejaVuSans-29\" transform=\"translate(172.998047 0.125)\"/>\n",
       "    </g>\n",
       "   </g>\n",
       "  </g>\n",
       " </g>\n",
       " <defs>\n",
       "  <clipPath id=\"p2d02847d7a\">\n",
       "   <rect x=\"34.240625\" y=\"22.318125\" width=\"105.035294\" height=\"266.112\"/>\n",
       "  </clipPath>\n",
       "  <clipPath id=\"pad55166d71\">\n",
       "   <rect x=\"160.282978\" y=\"22.318125\" width=\"105.035294\" height=\"266.112\"/>\n",
       "  </clipPath>\n",
       "  <clipPath id=\"pdc7a689d49\">\n",
       "   <rect x=\"286.325331\" y=\"22.318125\" width=\"105.035294\" height=\"266.112\"/>\n",
       "  </clipPath>\n",
       " </defs>\n",
       "</svg>\n"
      ],
      "text/plain": [
       "<Figure size 640x480 with 3 Axes>"
      ]
     },
     "metadata": {},
     "output_type": "display_data"
    }
   ],
   "source": [
    "#| label: fig-schnittgroessen\n",
    "#| fig-cap: \"Maximale Schnittgrössen\"\n",
    "\n",
    "# Querkraft\n",
    "V_x = sp.Piecewise((V_max[0].subs(params)/unit.N, ((x>0)&(x<=H_1.subs(params_plot)))), (V_max[1].subs(params)/unit.N, ((x>=H_1.subs(params_plot))&(x<=(H_1+H_2).subs(params_plot)))), (0,True))\n",
    "\n",
    "# Biegemoment\n",
    "C_1 = sp.symbols('C_1')\n",
    "M_x = sp.integrate(-V_x, x) + C_1\n",
    "C_1_solve = sp.solve(M_x.subs(x, (H_1+H_2).subs(params_plot)), C_1)[0]\n",
    "M_x = M_x.subs(C_1, C_1_solve)\n",
    "\n",
    "# Normalkraft\n",
    "g = 10*unit.m/unit.second**2\n",
    "N_x = sp.Piecewise(((m_1+m_2).subs(params)*g/unit.N, ((x>0)&(x<=H_1.subs(params_plot)))),(m_1.subs(params)*g/unit.N, ((x>=H_1.subs(params_plot))&(x<=(H_1+H_2).subs(params_plot)))), (0,True))\n",
    "\n",
    "\n",
    "\n",
    "# Numerische Daten generieren\n",
    "V_x_lamb = sp.lambdify(x, V_x)\n",
    "V_x_array = V_x_lamb(x_array)\n",
    "\n",
    "M_x_lamb = sp.lambdify(x,M_x)\n",
    "M_x_array = M_x_lamb(x_array)\n",
    "\n",
    "N_x_lamb = sp.lambdify(x,N_x)\n",
    "N_x_array = N_x_lamb(x_array)\n",
    "\n",
    "# Figure und Axes erstellen\n",
    "fig, (ax1, ax2, ax3) = plt.subplots(1, 3)\n",
    "\n",
    "# Ersten Plot erstellen\n",
    "\n",
    "ax1.plot(V_x_array/1000, x_array)\n",
    "ax1.set_title('$V(x)$')\n",
    "\n",
    "## Horizontale Linien\n",
    "ax1.axhline(H_1.subs(params_plot),linestyle='dashed', color='gray',linewidth=1)\n",
    "ax1.axhline((H_1+H_2).subs(params_plot),linestyle='dashed', color='gray',linewidth=1)\n",
    "\n",
    "ax1.set_xlabel('$[kN]$')\n",
    "ax1.set_ylabel('$[m]$')\n",
    "\n",
    "ax1.axvline(0,linestyle='dashed', color='black')\n",
    "\n",
    "\n",
    "# Zweiten Plot erstellen\n",
    "\n",
    "ax2.plot(M_x_array/1000, x_array, color='orange')\n",
    "ax2.set_title('$M(x)$')\n",
    "\n",
    "## Horizontale Linien\n",
    "ax2.axhline(H_1.subs(params_plot),linestyle='dashed', color='gray',linewidth=1)\n",
    "ax2.axhline((H_1+H_2).subs(params_plot),linestyle='dashed', color='gray',linewidth=1)\n",
    "\n",
    "ax2.set_xlabel('$[kNm]$')\n",
    "\n",
    "ax2.axvline(0,linestyle='dashed', color='black')\n",
    "\n",
    "\n",
    "# Dritten Plot erstellen\n",
    "\n",
    "ax3.plot(N_x_array/1000, x_array, color='green')\n",
    "ax3.set_title('$N(x)$')\n",
    "ax3.set_xlabel('$[kN]$')\n",
    "\n",
    "\n",
    "## Horizontale Linien\n",
    "ax3.axhline(H_1.subs(params_plot),linestyle='dashed', color='gray',linewidth=1)\n",
    "ax3.axhline((H_1+H_2).subs(params_plot),linestyle='dashed', color='gray',linewidth=1)\n",
    "\n",
    "\n",
    "ax3.axvline(0,linestyle='dashed', color='black')\n",
    "\n",
    "\n",
    "\n",
    "# Plots anzeigen\n",
    "plt.show()\n",
    "\n",
    "\n"
   ]
  }
 ],
 "metadata": {
  "kernelspec": {
   "display_name": "engineering",
   "language": "python",
   "name": "python3"
  },
  "language_info": {
   "codemirror_mode": {
    "name": "ipython",
    "version": 3
   },
   "file_extension": ".py",
   "mimetype": "text/x-python",
   "name": "python",
   "nbconvert_exporter": "python",
   "pygments_lexer": "ipython3",
   "version": "3.11.3"
  },
  "orig_nbformat": 4
 },
 "nbformat": 4,
 "nbformat_minor": 2
}
