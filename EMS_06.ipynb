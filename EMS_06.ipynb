{
 "cells": [
  {
   "attachments": {},
   "cell_type": "markdown",
   "metadata": {},
   "source": [
    "# Fourier-Transformation {#sec-fourier}\n",
    "\n",
    "[Aufgabenstellung](calculations/EMS_%C3%9Cbung_6.pdf)\n",
    "\n",
    "## Unterspannter Balken mit periodischer Anregung\n",
    "\n",
    "![Statisches System](pictures/ems6.jpg){#fig-statisch_system}"
   ]
  },
  {
   "cell_type": "code",
   "execution_count": 1,
   "metadata": {},
   "outputs": [],
   "source": [
    "import sympy as sp \n",
    "from sympycalcs import render, convert\n",
    "import sympy.physics.units as unit\n",
    "\n",
    "import matplotlib.pyplot as plt"
   ]
  },
  {
   "attachments": {},
   "cell_type": "markdown",
   "metadata": {},
   "source": [
    "## Parameter der Aufgabenstellung"
   ]
  },
  {
   "cell_type": "code",
   "execution_count": 2,
   "metadata": {},
   "outputs": [
    {
     "data": {
      "text/latex": [
       "$\\displaystyle E = \\frac{200000 \\text{N}}{\\text{mm}^{2}}$"
      ],
      "text/plain": [
       "Eq(E, 200000*newton/millimeter**2)"
      ]
     },
     "metadata": {},
     "output_type": "display_data"
    },
    {
     "data": {
      "text/latex": [
       "$\\displaystyle I_{Balken} = 200000000 \\text{mm}^{4}$"
      ],
      "text/plain": [
       "Eq(I_Balken, 200000000*millimeter**4)"
      ]
     },
     "metadata": {},
     "output_type": "display_data"
    },
    {
     "data": {
      "text/latex": [
       "$\\displaystyle A_{Fachwerk} = 3000 \\text{mm}^{2}$"
      ],
      "text/plain": [
       "Eq(A_Fachwerk, 3000*millimeter**2)"
      ]
     },
     "metadata": {},
     "output_type": "display_data"
    },
    {
     "data": {
      "text/latex": [
       "$\\displaystyle m_{} = \\frac{1000 \\text{N} \\text{s}^{2}}{\\text{m}}$"
      ],
      "text/plain": [
       "Eq(m_, 1000*newton*second**2/meter)"
      ]
     },
     "metadata": {},
     "output_type": "display_data"
    },
    {
     "data": {
      "text/latex": [
       "$\\displaystyle A = 1000 \\text{N}$"
      ],
      "text/plain": [
       "Eq(A, 1000*newton)"
      ]
     },
     "metadata": {},
     "output_type": "display_data"
    },
    {
     "data": {
      "text/latex": [
       "$\\displaystyle l = 5 \\text{m}$"
      ],
      "text/plain": [
       "Eq(l, 5*meter)"
      ]
     },
     "metadata": {},
     "output_type": "display_data"
    },
    {
     "data": {
      "text/latex": [
       "$\\displaystyle h = 2 \\text{m}$"
      ],
      "text/plain": [
       "Eq(h, 2*meter)"
      ]
     },
     "metadata": {},
     "output_type": "display_data"
    },
    {
     "data": {
      "text/latex": [
       "$\\displaystyle \\zeta = 0.0$"
      ],
      "text/plain": [
       "Eq(zeta, 0.0)"
      ]
     },
     "metadata": {},
     "output_type": "display_data"
    }
   ],
   "source": [
    "params = {'E': 200000 *unit.N/unit.mm**2,\n",
    "          'I_Balken':2*10**8 *unit.mm**4,\n",
    "          'A_Fachwerk':3000*unit.mm**2,\n",
    "          'm_':1000*unit.N*unit.second**2/unit.m,\n",
    "          'A':1*10**3*unit.N,\n",
    "          'l':5*unit.m,\n",
    "          'h':2*unit.m,\n",
    "          'zeta':0.0,\n",
    "          }\n",
    "\n",
    "render.dict_render(params)"
   ]
  },
  {
   "cell_type": "code",
   "execution_count": 3,
   "metadata": {},
   "outputs": [],
   "source": [
    "omega, t, E, I_Balken, A_Fachwerk, m_, A, l, h, zeta = sp.symbols('omega, t, E, I_Balken, A_Fachwerk, m_, A, l, h, zeta')"
   ]
  },
  {
   "attachments": {},
   "cell_type": "markdown",
   "metadata": {},
   "source": [
    "## Erregerfunktion\n",
    "\n",
    "Die periodische Erregerfunktion wird mit einer Fourier-Reihenentwicklung approximiert um eine periodisch, harmonische Funktion zu generieren.\n",
    "\n",
    "Die Reihenentwicklung folgt folgender Funktion:\n",
    "\n",
    "$$F(t) = A_0 + \\sum_{n=1}^{\\infty}(a_n*\\cos{(n\\omega t)}+b_n*\\sin{(n\\omega t)})$$\n",
    "\n",
    "Die Aufgabenstellung fordert lediglich die ersten drei Teile der Reihe.\n",
    "\n",
    "$$F(t) = A_0 + \\sum_{n=1}^{3}(a_n*\\cos{(n\\omega t)}+b_n*\\sin{(n\\omega t)})$$\n",
    "\n",
    "Nach Bestimmung der Konstanten folgt die Gleichung zu:\n",
    "\n",
    "$$F(t) = \\frac{4A}{\\pi} *[\\sin(\\omega t) + \\frac{1}{3}\\sin(3\\omega t) + \\frac{1}{5}\\sin(5 \\omega t)]$$"
   ]
  },
  {
   "cell_type": "code",
   "execution_count": 4,
   "metadata": {},
   "outputs": [
    {
     "data": {
      "text/latex": [
       "$\\displaystyle f_{Anregung} = \\frac{1}{\\text{s}}$"
      ],
      "text/plain": [
       "Eq(f_Anregung, 1/second)"
      ]
     },
     "metadata": {},
     "output_type": "display_data"
    },
    {
     "data": {
      "text/latex": [
       "$\\displaystyle \\omega = \\frac{6.28}{\\text{s}}$"
      ],
      "text/plain": [
       "Eq(omega, 6.28/second)"
      ]
     },
     "metadata": {},
     "output_type": "display_data"
    },
    {
     "data": {
      "text/latex": [
       "$\\displaystyle F{\\left(t \\right)} = \\frac{4 A \\left(\\sin{\\left(\\frac{2 \\pi t}{\\text{s}} \\right)} + \\frac{\\sin{\\left(\\frac{6 \\pi t}{\\text{s}} \\right)}}{3} + \\frac{\\sin{\\left(\\frac{10 \\pi t}{\\text{s}} \\right)}}{5}\\right)}{\\pi}$"
      ],
      "text/plain": [
       "Eq(F(t), 4*A*(sin(2*pi*t/second) + sin(6*pi*t/second)/3 + sin(10*pi*t/second)/5)/pi)"
      ]
     },
     "metadata": {},
     "output_type": "display_data"
    }
   ],
   "source": [
    "f_Anregung = 1/unit.seconds\n",
    "omega = f_Anregung * 2*sp.pi\n",
    "\n",
    "F_t = 4*A/ sp.pi * (sp.sin(omega*t)+sp.Rational(1,3)*sp.sin(3*omega *t)+ sp.Rational(1,5)*sp.sin(5*omega*t))\n",
    "\n",
    "\n",
    "render.eq_display('f_Anregung', f_Anregung,\n",
    "                  'omega', omega.subs(params).evalf(3),\n",
    "                  'F(t)', F_t)"
   ]
  },
  {
   "cell_type": "code",
   "execution_count": 5,
   "metadata": {},
   "outputs": [
    {
     "data": {
      "image/png": "[encoded data removed]",
      "text/plain": [
       "<Figure size 640x480 with 1 Axes>"
      ]
     },
     "metadata": {},
     "output_type": "display_data"
    }
   ],
   "source": [
    "#| label: fig-anregung_fourier\n",
    "#| fig-cap: \"Anregungsfunktion mit Fourier-Reihe approximiert\"\n",
    "params_plot = convert.param_value(params)\n",
    "\n",
    "F_t_plot = F_t.subs(params_plot).subs(unit.second, 1)\n",
    "\n",
    "sp.plot(F_t_plot, (t,0,2), adaptive=False, nb_of_points=500,\n",
    "        xlabel='$t [s]$',\n",
    "        ylabel='$F(t)$ [N]')\n",
    "plt.show()\n"
   ]
  },
  {
   "attachments": {},
   "cell_type": "markdown",
   "metadata": {},
   "source": [
    "## Systemsteifigkeit\n",
    "\n",
    "Anhand der Arbeitsgleichung wird die Deformation bestimmt und daraus die Steifigkeit des Systems. Auf die Bestimmung der Schnittgrössen wird nicht eingegangen. Es handelt sich um ein statisch unbestimmtes System.\n",
    "\n",
    "![Schnittgrössen des unterspannten Balkens](pictures/schnittgr%C3%B6ssen.jpg){#fig-schnittgroessen}\n",
    "\n",
    "Da der Balken dehnstarr ist und die Unterspannung aus Pendelstäben zusammengesetzt ist, sind Anteile aus Normalkraft aus den Pendelstäben und lediglich Anteile aus Biegung im Balken für die Deformation zuständig."
   ]
  },
  {
   "cell_type": "code",
   "execution_count": 6,
   "metadata": {},
   "outputs": [
    {
     "data": {
      "text/latex": [
       "$\\displaystyle u_{k} = 0.0335 \\text{mm}$"
      ],
      "text/plain": [
       "Eq(u_k, 0.0335*millimeter)"
      ]
     },
     "metadata": {},
     "output_type": "display_data"
    },
    {
     "data": {
      "text/latex": [
       "$\\displaystyle k = \\frac{2.98 \\cdot 10^{7} \\text{N}}{\\text{m}}$"
      ],
      "text/plain": [
       "Eq(k, 2.98e+7*newton/meter)"
      ]
     },
     "metadata": {},
     "output_type": "display_data"
    }
   ],
   "source": [
    "u_for_k_balken = 1/3 * 0.163*10**6*unit.N*unit.mm * 0.163 *unit.m* 2*l / (E*I_Balken) \n",
    "u_for_k_fachwerk = (1*-0.935*10**3*unit.N*-0.935 * h + 2*1.258*10**3*unit.N*1.258*sp.sqrt(h**2+l**2))/(E*A_Fachwerk)\n",
    "\n",
    "u_for_k = u_for_k_balken + u_for_k_fachwerk\n",
    "k = 1000*unit.N / u_for_k\n",
    "\n",
    "render.eq_display('u_k', unit.convert_to(u_for_k.subs(params).simplify().evalf(3),unit.mm),\n",
    "                  'k', k.subs(params).simplify().evalf(3))\n"
   ]
  },
  {
   "attachments": {},
   "cell_type": "markdown",
   "metadata": {},
   "source": [
    "## Eigenkreisfrequenz\n",
    "\n",
    "\n",
    "Aus der Systemsteifigkeit lässt sich leicht die Eigenkreisfrequenz bestimmen:\n",
    "\n",
    "$$\\omega_n =\\sqrt{\\frac{k}{m}}$$"
   ]
  },
  {
   "cell_type": "code",
   "execution_count": 7,
   "metadata": {},
   "outputs": [
    {
     "data": {
      "text/latex": [
       "$\\displaystyle \\omega_{n} = \\frac{173.0}{\\text{s}}$"
      ],
      "text/plain": [
       "Eq(omega_n, 173.0/second)"
      ]
     },
     "metadata": {},
     "output_type": "display_data"
    }
   ],
   "source": [
    "omega_n = sp.sqrt(k/m_)\n",
    "\n",
    "render.eq_display('omega_n', omega_n.subs(params).simplify().evalf(3))"
   ]
  },
  {
   "attachments": {},
   "cell_type": "markdown",
   "metadata": {},
   "source": [
    "## Stationäre Amplitude der Verschiebung\n",
    "\n",
    "Die statische Durchbiegung lässt sich anhand der Systemsteifigkeit und der Anfangskraft der Anregungsfunktion bestimmen. Mittels des Vergrösserungsfaktors lässt sich schlussendlich die stationäre maximale Amplitude bestimmen. Der Vergrösserungsfaktor ist abhängig von der Anregungsfrequenz, welche wir mit der Fourier-Reihenentwicklung approximiert haben. Wir haben folglich *\"3 verschiedene\"* Anregungsfrequenzen mit der entsprechenden Gewichtung."
   ]
  },
  {
   "cell_type": "code",
   "execution_count": 8,
   "metadata": {},
   "outputs": [
    {
     "data": {
      "text/latex": [
       "$\\displaystyle V{\\left(\\omega \\right)} = \\frac{1}{5 \\sqrt{\\frac{100 \\omega^{2} \\zeta_{}^{2}}{\\omega_{n}^{2}} + \\left(- \\frac{25 \\omega^{2}}{\\omega_{n}^{2}} + 1\\right)^{2}}} + \\frac{1}{3 \\sqrt{\\frac{36 \\omega^{2} \\zeta_{}^{2}}{\\omega_{n}^{2}} + \\left(- \\frac{9 \\omega^{2}}{\\omega_{n}^{2}} + 1\\right)^{2}}} + \\frac{1}{\\sqrt{\\frac{4 \\omega^{2} \\zeta_{}^{2}}{\\omega_{n}^{2}} + \\left(- \\frac{\\omega^{2}}{\\omega_{n}^{2}} + 1\\right)^{2}}}$"
      ],
      "text/plain": [
       "Eq(V(omega), 1/(5*sqrt(100*omega**2*zeta_**2/omega_n**2 + (-25*omega**2/omega_n**2 + 1)**2)) + 1/(3*sqrt(36*omega**2*zeta_**2/omega_n**2 + (-9*omega**2/omega_n**2 + 1)**2)) + 1/sqrt(4*omega**2*zeta_**2/omega_n**2 + (-omega**2/omega_n**2 + 1)**2))"
      ]
     },
     "metadata": {},
     "output_type": "display_data"
    },
    {
     "data": {
      "text/latex": [
       "$\\displaystyle V{\\left(\\omega \\right)} = 1.55$"
      ],
      "text/plain": [
       "Eq(V(omega), 1.55)"
      ]
     },
     "metadata": {},
     "output_type": "display_data"
    },
    {
     "data": {
      "text/latex": [
       "$\\displaystyle u_{0} = 0.0427 \\text{mm}$"
      ],
      "text/plain": [
       "Eq(u_0, 0.0427*millimeter)"
      ]
     },
     "metadata": {},
     "output_type": "display_data"
    },
    {
     "data": {
      "text/latex": [
       "$\\displaystyle u_{stat} = 0.066 \\text{mm}$"
      ],
      "text/plain": [
       "Eq(u_stat, 0.066*millimeter)"
      ]
     },
     "metadata": {},
     "output_type": "display_data"
    }
   ],
   "source": [
    "u_0 = 4*A/sp.pi /k\n",
    "\n",
    "V_omega = 1/(sp.sqrt((1-(omega/omega_n)**2)**2 + (2*zeta*(omega/omega_n))**2)) + 1/(sp.sqrt((1-(3*omega/omega_n)**2)**2 + (2*zeta*(3*omega/omega_n))**2))/3 + 1/(sp.sqrt((1-(5*omega/omega_n)**2)**2 + (2*zeta*(5*omega/omega_n))**2))/5\n",
    "\n",
    "\n",
    "render.eq_display('V(omega)', '1/(sqrt((1-(omega/omega_n)**2)**2 + (2*zeta_*(omega/omega_n))**2)) + 1/(sqrt((1-(3*omega/omega_n)**2)**2 + (2*zeta_*(3*omega/omega_n))**2))/3 + 1/(sqrt((1-(5*omega/omega_n)**2)**2 + (2*zeta_*(5*omega/omega_n))**2))/5',\n",
    "                  'V(omega)', V_omega.subs(params).simplify().evalf(3))\n",
    "\n",
    "u_stat = u_0 * V_omega\n",
    "\n",
    "render.eq_display('u_0', unit.convert_to(u_0.subs(params).simplify().evalf(3),\n",
    " unit.mm),\n",
    " 'u_stat', unit.convert_to(u_stat.subs(params).simplify().evalf(3), unit.mm))"
   ]
  },
  {
   "attachments": {},
   "cell_type": "markdown",
   "metadata": {},
   "source": [
    "Der Vergrösserungsfaktor ist erwartungsgemäss niedrig, da sich die Eigenkreisfrequenz deutlich von der Anregungsfrequenz abgrenzt. "
   ]
  },
  {
   "attachments": {},
   "cell_type": "markdown",
   "metadata": {},
   "source": [
    "## Stationäre Amplitude der Beschleunigung \n",
    "\n",
    "Die Beschleunigung lässt sich ebenfalls anhand des Vergrösserungsfaktors bestimmen. Dies Entspricht dem Vorgehen nach Michael Baur."
   ]
  },
  {
   "cell_type": "code",
   "execution_count": 9,
   "metadata": {},
   "outputs": [
    {
     "data": {
      "text/latex": [
       "$\\displaystyle V_{a}{\\left(\\omega \\right)} = 0.00205$"
      ],
      "text/plain": [
       "Eq(V_a(omega), 0.00205)"
      ]
     },
     "metadata": {},
     "output_type": "display_data"
    },
    {
     "data": {
      "text/latex": [
       "$\\displaystyle \\frac{d^{2}}{d t^{2}} u_{max} = \\frac{0.0026 \\text{m}}{\\text{s}^{2}}$"
      ],
      "text/plain": [
       "Eq(Derivative(u_max, (t, 2)), 0.0026*meter/second**2)"
      ]
     },
     "metadata": {},
     "output_type": "display_data"
    }
   ],
   "source": [
    "V_a_omega = omega**2 / omega_n**2 * V_omega\n",
    "\n",
    "u_2_max =  4*A/sp.pi / m_ * V_a_omega\n",
    "\n",
    "render.eq_display('V_a(omega)', V_a_omega.subs(params).simplify().evalf(3),'Derivative(u_max,t,2)', u_2_max.subs(params).simplify().evalf(3))"
   ]
  },
  {
   "attachments": {},
   "cell_type": "markdown",
   "metadata": {},
   "source": [
    "Meines Erachtens müsste der Vergrösserungsfaktor für die Beschleunigung ebenfalls mit sämtlichen, gewichteten Anregungsfrequenzen der approximierten Anregungsfunktion bestimmt werden."
   ]
  },
  {
   "cell_type": "code",
   "execution_count": 10,
   "metadata": {},
   "outputs": [
    {
     "data": {
      "text/latex": [
       "$\\displaystyle V_{a}{\\left(\\omega \\right)} = 0.00614$"
      ],
      "text/plain": [
       "Eq(V_a(omega), 0.00614)"
      ]
     },
     "metadata": {},
     "output_type": "display_data"
    },
    {
     "data": {
      "text/latex": [
       "$\\displaystyle \\frac{d^{2}}{d t^{2}} u_{max} = \\frac{0.00781 \\text{m}}{\\text{s}^{2}}$"
      ],
      "text/plain": [
       "Eq(Derivative(u_max, (t, 2)), 0.00781*meter/second**2)"
      ]
     },
     "metadata": {},
     "output_type": "display_data"
    }
   ],
   "source": [
    "V_a_omega = ((omega**2 / omega_n**2)+1/3*(3*omega**2 / omega_n**2)+1/5*(5*omega**2 / omega_n**2))*V_omega\n",
    "\n",
    "u_2_max =  4*A/sp.pi / m_ * V_a_omega\n",
    "\n",
    "render.eq_display('V_a(omega)', V_a_omega.subs(params).simplify().evalf(3),'Derivative(u_max,t,2)', u_2_max.subs(params).simplify().evalf(3))"
   ]
  }
 ],
 "metadata": {
  "kernelspec": {
   "display_name": "engineering",
   "language": "python",
   "name": "python3"
  },
  "language_info": {
   "codemirror_mode": {
    "name": "ipython",
    "version": 3
   },
   "file_extension": ".py",
   "mimetype": "text/x-python",
   "name": "python",
   "nbconvert_exporter": "python",
   "pygments_lexer": "ipython3",
   "version": "3.10.10"
  },
  "orig_nbformat": 4
 },
 "nbformat": 4,
 "nbformat_minor": 2
}
