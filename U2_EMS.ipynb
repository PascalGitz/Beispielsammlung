{
 "cells": [
  {
   "cell_type": "raw",
   "metadata": {},
   "source": [
    "---\n",
    "title: \"Einmassenschwinger\"\n",
    "---"
   ]
  },
  {
   "attachments": {},
   "cell_type": "markdown",
   "metadata": {},
   "source": [
    "## Beispiel: Logarithmisches Dekrement \n",
    "\n",
    "Das in @fig-ems_rahmen_1 dargestellte System zeigt ein Rahmentragwerk. Dieses wird anhand eines Einmassenschwingers approximiert.\n",
    "\n",
    "![Am Riegel ausgelenktes System](bilder/ems_rahmen_1.png){#fig-ems_rahmen_1 width=60%}\n",
    "\n",
    "Gesucht:\n",
    "\n",
    "- Laterale bzw. horizontale Steifigkeit $k$ des Rahmens\n",
    "- Die Dämpfungsrate $\\zeta$ und die Dämpfungskonstante $c$\n",
    "- Die Amplitude der Auslenkung des Rahmens nach 10 Schwingzyklen\n",
    "\n",
    "Gegeben:\n",
    "\n",
    "- Dehnsteifigkeit der Stützen und des Riegels $EA = \\infty$\n",
    "- Biegesteifigkeit des Riegels $EI = \\infty$\n",
    "- Gesamtmasse $M = 1941 kg$\n",
    "\n",
    "Um die Systemeigenschaften des Riegels zu untersuchen, wird \n",
    "eine Kopfverschiebung bzw. Auslenkung des Rahmens von $u = 20\\text{mm}$ aufgebracht. Danach wird die Halterung schlagartig gelöst und der Rahmen kann frei schwingen. Die angebrachte Messeinrichtung registriert eine max. Kopfverschiebung nach dem ersten Zurückschwingen von $u = 15\\text{mm}$ nach $T = 0.2 \\text{s}$. \n"
   ]
  },
  {
   "cell_type": "markdown",
   "metadata": {},
   "source": [
    "{{< pagebreak >}}\n",
    "\n",
    "### Musterlösung{#sec-ml_log_dek}\n",
    "Das Verhalten des Systems in @fig-ems_rahmen_1 wird versucht mittels der Theorie des Einmassenschwingers zu ermitteln. Es handelt sich um eine gedämpfte freie Schwingung."
   ]
  },
  {
   "cell_type": "code",
   "execution_count": 1,
   "metadata": {},
   "outputs": [],
   "source": [
    "import sympy as sp \n",
    "from sympycalcs import render, convert\n",
    "import sympy.physics.units as unit\n",
    "from sympy.abc import *\n",
    "\n",
    "import matplotlib.pyplot as plt\n",
    "\n",
    "sp.init_printing(use_latex='mathjax', latex_mode='equation')"
   ]
  },
  {
   "cell_type": "code",
   "execution_count": 2,
   "metadata": {},
   "outputs": [],
   "source": [
    "EA_riegel, EI_riegel,EA_stuetze, EI_stuetze, k, m, u, c, T_D, zeta, H, u_0, u_1 = sp.symbols('EA_riegel, EI_riegel,EA_stuetze, EI_stuetze, k, m, u, c,T_D, zeta H u_0 u_1')"
   ]
  },
  {
   "cell_type": "code",
   "execution_count": 3,
   "metadata": {},
   "outputs": [
    {
     "data": {
      "text/markdown": [
       "| Parameter | - |\n",
       "|---|---|\n",
       "| $EA_{riegel} = \\infty$ | $EI_{riegel} = \\infty$ |\n",
       "| $EA_{stuetze} = \\infty$ | $m = \\frac{1941 \\text{N} \\text{s}^{2}}{\\text{m}}$ |\n",
       "| $u_{0} = 20 \\text{mm}$ | $u_{1} = 15 \\text{mm}$ |\n",
       "| $T_{D} = 0.2 \\text{s}$ |-|\n"
      ],
      "text/plain": [
       "<IPython.core.display.Markdown object>"
      ]
     },
     "metadata": {},
     "output_type": "display_data"
    }
   ],
   "source": [
    "#| label: tbl-parameter_log_dekrement\n",
    "#| tbl-cap: Verwendete Parameter\n",
    "\n",
    "params = {'EA_riegel':sp.oo,\n",
    "          'EI_riegel':sp.oo,\n",
    "          'EA_stuetze':sp.oo,\n",
    "          'm':1941*unit.N*unit.second**2/unit.m,\n",
    "          'u_0':20*unit.mm,\n",
    "          'u_1':15*unit.mm,\n",
    "          'T_D':0.2*unit.second}\n",
    "\n",
    "render.dict_to_table(params)"
   ]
  },
  {
   "attachments": {},
   "cell_type": "markdown",
   "metadata": {},
   "source": [
    "#### Horizontale Steifigkeit"
   ]
  },
  {
   "attachments": {},
   "cell_type": "markdown",
   "metadata": {},
   "source": [
    "##### Logarithmisches Dekrement\n",
    "\n",
    "Da keine Angaben über die Profile der Stützen gemacht werden, kann mittels des logarithmischen Dekrements die Eigenkreisfrequenz bestimmt werden. Anhand der Eigenkreisfrequenz lässt sich die Steifigkeit ableiten.\n",
    "\n",
    "\n",
    "![Beispiel eines logarithmischen Dekrements](bilder/3-3_log_Dekrement.svg){#fig-log_dek}"
   ]
  },
  {
   "cell_type": "code",
   "execution_count": 4,
   "metadata": {},
   "outputs": [
    {
     "data": {
      "text/latex": [
       "\\begin{equation}\\delta = \\log{\\left(\\frac{u_{0}}{u_{1}} \\right)}\\end{equation}"
      ],
      "text/plain": [
       "       ⎛u₀⎞\n",
       "δ = log⎜──⎟\n",
       "       ⎝u₁⎠"
      ]
     },
     "metadata": {},
     "output_type": "display_data"
    },
    {
     "data": {
      "text/latex": [
       "\\begin{equation}\\delta = 0.288\\end{equation}"
      ],
      "text/plain": [
       "δ = 0.288"
      ]
     },
     "metadata": {},
     "output_type": "display_data"
    }
   ],
   "source": [
    "delta = sp.ln(u_0 / u_1)\n",
    "zeta = delta/ (2*sp.pi)\n",
    "render.eq_display('delta', delta,\n",
    "                  'delta', delta.subs(params).evalf(3))"
   ]
  },
  {
   "attachments": {},
   "cell_type": "markdown",
   "metadata": {},
   "source": [
    "##### Dämpfungsrate\n",
    "\n",
    "Anhand des logarithmischen Dekrements kann die Dämpfungsrate bestimmt werden.\n",
    "\n",
    "![Dämpfungsrate anhand des logarithmischen Dekrements](bilder/3-4_ln_Dekrement.svg){#fig-daempfungsrate}\n",
    "\n",
    "Für kleine Dämpfungsraten kann folgende Gleichung verwendet werden:\n",
    "\n",
    "$$\\zeta \\simeq \\frac{\\delta}{2\\pi}$$\n",
    "\n",
    "Die exakte Lösung bestimmt sich folgender massen:"
   ]
  },
  {
   "cell_type": "code",
   "execution_count": 5,
   "metadata": {},
   "outputs": [
    {
     "data": {
      "text/latex": [
       "\\begin{equation}\\zeta_{} = \\frac{\\delta}{\\sqrt{\\delta^{2} + 4 \\pi^{2}}}\\end{equation}"
      ],
      "text/plain": [
       "          δ       \n",
       "ζ = ──────────────\n",
       "       ___________\n",
       "      ╱  2      2 \n",
       "    ╲╱  δ  + 4⋅π  "
      ]
     },
     "metadata": {},
     "output_type": "display_data"
    },
    {
     "data": {
      "text/latex": [
       "\\begin{equation}\\zeta_{} = \\frac{\\log{\\left(\\frac{u_{0}}{u_{1}} \\right)}}{\\sqrt{\\log{\\left(\\frac{u_{0}}{u_{1}} \\right)}^{2} + 4 \\pi^{2}}}\\end{equation}"
      ],
      "text/plain": [
       "              ⎛u₀⎞       \n",
       "           log⎜──⎟       \n",
       "              ⎝u₁⎠       \n",
       "ζ = ─────────────────────\n",
       "        _________________\n",
       "       ╱    2⎛u₀⎞      2 \n",
       "      ╱  log ⎜──⎟ + 4⋅π  \n",
       "    ╲╱       ⎝u₁⎠        "
      ]
     },
     "metadata": {},
     "output_type": "display_data"
    },
    {
     "data": {
      "text/latex": [
       "\\begin{equation}\\zeta_{} = 0.0457\\end{equation}"
      ],
      "text/plain": [
       "ζ = 0.0457"
      ]
     },
     "metadata": {},
     "output_type": "display_data"
    }
   ],
   "source": [
    "zeta = delta / (sp.sqrt(4*sp.pi**2 + delta**2))\n",
    "\n",
    "render.eq_display('zeta_', 'delta/(sqrt(4*pi**2+delta**2))',\n",
    "                  'zeta_', zeta,\n",
    "                  'zeta_', zeta.subs(params).evalf(3))"
   ]
  },
  {
   "attachments": {},
   "cell_type": "markdown",
   "metadata": {},
   "source": [
    "##### Eigenkreisfrequenz\n",
    "\n",
    "Aus der Aufgabenstellung ist die gedämpfte Periode von $T_D = 0.2 s$ bekannt.\n",
    "Anhand dieser lässt sich die *gedämpfte Eigenkreisfrequenz* $\\omega_D$ bestimmen und unter Berücksichtigung der Dämpfungsrate $\\zeta$ kann die *Eigenkreisfrequenz* $\\omega_n$ bestimmt werden."
   ]
  },
  {
   "cell_type": "code",
   "execution_count": 6,
   "metadata": {},
   "outputs": [
    {
     "data": {
      "text/latex": [
       "\\begin{equation}\\omega_{D} = \\frac{2 \\pi}{T_{D}}\\end{equation}"
      ],
      "text/plain": [
       "      2⋅π\n",
       "ω_D = ───\n",
       "      T_D"
      ]
     },
     "metadata": {},
     "output_type": "display_data"
    },
    {
     "data": {
      "text/latex": [
       "\\begin{equation}\\omega_{D} = \\frac{31.42}{\\text{s}}\\end{equation}"
      ],
      "text/plain": [
       "      31.42 \n",
       "ω_D = ──────\n",
       "      second"
      ]
     },
     "metadata": {},
     "output_type": "display_data"
    },
    {
     "data": {
      "text/latex": [
       "\\begin{equation}\\omega_{n} = \\frac{\\omega_{D}}{\\sqrt{1 - \\zeta_{}^{2}}}\\end{equation}"
      ],
      "text/plain": [
       "         ω_D    \n",
       "ωₙ = ───────────\n",
       "        ________\n",
       "       ╱      2 \n",
       "     ╲╱  1 - ζ  "
      ]
     },
     "metadata": {},
     "output_type": "display_data"
    },
    {
     "data": {
      "text/latex": [
       "\\begin{equation}\\omega_{n} = \\frac{31.45}{\\text{s}}\\end{equation}"
      ],
      "text/plain": [
       "     31.45 \n",
       "ωₙ = ──────\n",
       "     second"
      ]
     },
     "metadata": {},
     "output_type": "display_data"
    }
   ],
   "source": [
    "omega_D = (2*sp.pi)/ T_D\n",
    "\n",
    "omega_n = omega_D / (sp.sqrt(1-zeta**2))\n",
    "render.eq_display('omega_D', omega_D,\n",
    "                  'omega_D', omega_D.subs(params).evalf(4),\n",
    "                  'omega_n', \"omega_D / (sqrt(1-zeta_**2))\",\n",
    "                  'omega_n', omega_n.subs(params).evalf(4))"
   ]
  },
  {
   "attachments": {},
   "cell_type": "markdown",
   "metadata": {},
   "source": [
    "##### Steifigkeit \n",
    "\n",
    "Wir kennen die Beziehung zwischen Eigenkreisfrequenz und Steifigkeit:\n",
    "\n",
    "$$\\omega_n = \\sqrt{\\frac{k}{m}}$$"
   ]
  },
  {
   "cell_type": "code",
   "execution_count": 7,
   "metadata": {},
   "outputs": [
    {
     "data": {
      "text/latex": [
       "\\begin{equation}k = m \\omega_{n}^{2}\\end{equation}"
      ],
      "text/plain": [
       "        2\n",
       "k = m⋅ωₙ "
      ]
     },
     "metadata": {},
     "output_type": "display_data"
    },
    {
     "data": {
      "text/latex": [
       "\\begin{equation}k = \\frac{1.92 \\cdot 10^{6} \\text{N}}{\\text{m}}\\end{equation}"
      ],
      "text/plain": [
       "    1.92e+6⋅newton\n",
       "k = ──────────────\n",
       "        meter     "
      ]
     },
     "metadata": {},
     "output_type": "display_data"
    }
   ],
   "source": [
    "k = m*omega_n**2\n",
    "\n",
    "render.eq_display('k','m*omega_n**2',\n",
    "                  'k',k.subs(params).evalf(3))"
   ]
  },
  {
   "attachments": {},
   "cell_type": "markdown",
   "metadata": {},
   "source": [
    "#### Dämpfungskonstante\n",
    "\n",
    "Anhand der Dämpfungsrate $\\zeta$ lässt sich leicht die Dämpfungskonstante bestimmen:\n",
    "\n",
    "$$\n",
    "\\zeta = \\frac{c}{2\\omega_nm}\n",
    "$${#eq-daempfungsrate}\n",
    "\n"
   ]
  },
  {
   "cell_type": "code",
   "execution_count": 8,
   "metadata": {},
   "outputs": [
    {
     "data": {
      "text/latex": [
       "\\begin{equation}c = \\frac{5.58 \\cdot 10^{3} \\text{N} \\text{s}}{\\text{m}}\\end{equation}"
      ],
      "text/plain": [
       "    5.58e+3⋅newton⋅second\n",
       "c = ─────────────────────\n",
       "            meter        "
      ]
     },
     "metadata": {},
     "output_type": "display_data"
    }
   ],
   "source": [
    "c = zeta * 2*omega_n*m\n",
    "\n",
    "\n",
    "render.eq_display('c',c.subs(params).evalf(3))"
   ]
  },
  {
   "attachments": {},
   "cell_type": "markdown",
   "metadata": {},
   "source": [
    "#### Amplitude nach 10 Schwingzyklen\n",
    "\n",
    "Das Verhalten der Amplitude ist in @fig-log_dek dargestellt.\n",
    "\n",
    "$$\n",
    "\\delta = \\ln({\\frac{u_0}{u_1}})\n",
    "$${#eq-log_dek}\n",
    "\n",
    "$\\delta$ ist ein konstanter Wert und kann auf 10 Zyklen erweitert werden."
   ]
  },
  {
   "cell_type": "code",
   "execution_count": 9,
   "metadata": {},
   "outputs": [
    {
     "data": {
      "text/latex": [
       "\\begin{equation}u_{1} = u_{0} e^{- \\delta}\\end{equation}"
      ],
      "text/plain": [
       "         -δ\n",
       "u₁ = u₀⋅ℯ  "
      ]
     },
     "metadata": {},
     "output_type": "display_data"
    },
    {
     "data": {
      "text/latex": [
       "\\begin{equation}u_{10} = u_{0} e^{- 10 \\delta}\\end{equation}"
      ],
      "text/plain": [
       "          -10⋅δ\n",
       "u₁₀ = u₀⋅ℯ     "
      ]
     },
     "metadata": {},
     "output_type": "display_data"
    },
    {
     "data": {
      "text/latex": [
       "\\begin{equation}u_{10} = 1.126 \\text{mm}\\end{equation}"
      ],
      "text/plain": [
       "u₁₀ = 1.126⋅millimeter"
      ]
     },
     "metadata": {},
     "output_type": "display_data"
    }
   ],
   "source": [
    "eq = sp.Eq(sp.Symbol('delta'), sp.ln(u_0/u_1))\n",
    "\n",
    "u_10 = u_0 * sp.exp(-10*delta)\n",
    "render.eq_display('u_1', sp.solve(eq, u_1)[0],\n",
    "                  'u_10', 'u_0*exp(-10*delta)',\n",
    "                  'u_10', u_10.subs(params).evalf(4))\n"
   ]
  },
  {
   "cell_type": "markdown",
   "metadata": {},
   "source": [
    "{{< pagebreak >}}\n",
    "\n",
    "## Beispiel: Impulssatz\n",
    "@fig-ems_rahmen_2 zeigt das System eines Stahlrahmens. Dieser wird durch eine kurzzeitig einwirkende Stossbelastung $F(t)$ in Höhe des Rahmenriegels beansprucht.\n",
    "\n",
    "![System des Stahlramens mit kurzzeitig einwirkender Stossbelastung](bilder/ems_rahmen_2.jpg){#fig-ems_rahmen_2}\n",
    "\n",
    "\n",
    "Gesucht:\n",
    "\n",
    "- Der Maximalwert der zu erwartenden Riegelauslenkung (näherungsweise)\n",
    "- Darstellung des zeitlichen Verlaufs $u(t)$ in einem Diagramm\n",
    "- Nachweis der Elastizität des Systems anhand der Rückstellkraft (Spannungsnachweis mit Fliessspannung $f_y$ als Grenze)\n",
    "  \n",
    "Gegeben:\n",
    "\n",
    "- Dehnsteifigkeit der Stützen und des Riegels $EA = \\infty$\n",
    "- Biegesteifigkeit des Riegels $EI = \\infty$\n",
    "- Gesamtmasse $M = 5 t$\n",
    "- Stützen aus HEB 240 (s 355, Streckgrenze $f_y = 355 \\text{N}/\\text{mm}^2$)\n",
    "- $E\\cdot I_{y,Stuetze} = 2.1\\cdot10^8 \\text{kN}/\\text{m}^2 \\cdot 11260\\cdot10^{-8} \\text{m}^4 = 23646 \\text{kNm}^2$\n",
    "- $W_{el,y} = 938\\cdot10^3 \\text{mm}^3 \\text{(HEB 240)}$ \n",
    "- Lastfunktion gemäss @fig-lastfunktion"
   ]
  },
  {
   "cell_type": "code",
   "execution_count": 10,
   "metadata": {},
   "outputs": [],
   "source": [
    "EA_riegel, EI_riegel,EA_stuetze, EI_stuetze,  m,  H, f_y, t, F_max, t_1, t_2,W_el_y = sp.symbols('EA_riegel, EI_riegel,EA_stuetze, EI_stuetze,  m_, H, f_y, t, F_max, t_1, t_2 W_el_y')\n",
    "\n",
    "\n",
    "u = sp.Function('u')(t)"
   ]
  },
  {
   "cell_type": "code",
   "execution_count": 11,
   "metadata": {},
   "outputs": [],
   "source": [
    "params_not_relevant = {\n",
    "    'EA_riegel':sp.oo,\n",
    "    'EI_riegel':sp.oo,\n",
    "    'EA_stuetze':sp.oo,\n",
    "}\n",
    "\n",
    "# render.dict_render(params_not_relevant)"
   ]
  },
  {
   "cell_type": "code",
   "execution_count": 12,
   "metadata": {},
   "outputs": [],
   "source": [
    "params = {              \n",
    "          'EI_stuetze':23646000.0*unit.N*unit.m**2,\n",
    "          'm_':5000*unit.N*unit.second**2/unit.m,\n",
    "          'W_el_y':938*10**3*unit.mm**3,\n",
    "          'H':3000*unit.mm,\n",
    "          'F_max':1000*10**3*unit.N,\n",
    "          't_1':0.003*unit.second,\n",
    "          't_2':0.006*unit.second,\n",
    "          'f_y':355*unit.N/unit.mm**2,\n",
    "          'u_0':0.0\n",
    "          }\n",
    "\n",
    "params_plot = convert.param_value(params=params)\n"
   ]
  },
  {
   "cell_type": "code",
   "execution_count": 13,
   "metadata": {},
   "outputs": [
    {
     "data": {
      "image/png": "[encoded data removed]",
      "text/plain": [
       "<Figure size 590x300 with 1 Axes>"
      ]
     },
     "metadata": {},
     "output_type": "display_data"
    }
   ],
   "source": [
    "#| label: fig-lastfunktion\n",
    "#| fig-cap: \"Lastfunktion der kurzzeitig einwirkenden Stossbelastung\"\n",
    "\n",
    "\n",
    "\n",
    "\n",
    "F_1 = t*F_max / t_1 \n",
    "F_2 =  F_1.subs(t,t_1)-((t-t_1)*F_max / t_1)\n",
    "F_t = sp.Piecewise((F_1,t<t_1), (F_2,t<=t_2), (0, t>t_2))\n",
    "sp.plot(F_t.subs(params_plot), (t,0,0.008), size=(5.9,3))\n",
    "plt.show()"
   ]
  },
  {
   "cell_type": "markdown",
   "metadata": {},
   "source": [
    "{{< pagebreak >}}\n",
    "\n",
    "### Musterlösung"
   ]
  },
  {
   "cell_type": "code",
   "execution_count": 14,
   "metadata": {},
   "outputs": [
    {
     "data": {
      "text/markdown": [
       "| Parameter | - |\n",
       "|---|---|\n",
       "| $EI_{stuetze} = 23646000.0 \\text{m}^{2} \\text{N}$ | $m_{} = \\frac{5000 \\text{N} \\text{s}^{2}}{\\text{m}}$ |\n",
       "| $W_{el y} = 938000 \\text{mm}^{3}$ | $H = 3000 \\text{mm}$ |\n",
       "| $F_{max} = 1000000 \\text{N}$ | $t_{1} = 0.003 \\text{s}$ |\n",
       "| $t_{2} = 0.006 \\text{s}$ | $f_{y} = \\frac{355 \\text{N}}{\\text{mm}^{2}}$ |\n",
       "| $u_{0} = 0.0$ | $EA_{riegel} = \\infty$ |\n",
       "| $EI_{riegel} = \\infty$ | $EA_{stuetze} = \\infty$ |\n"
      ],
      "text/plain": [
       "<IPython.core.display.Markdown object>"
      ]
     },
     "metadata": {},
     "output_type": "display_data"
    }
   ],
   "source": [
    "#| label: tbl-parameter_impuls\n",
    "#| tbl-cap: Verwendete Parameter\n",
    "\n",
    "params_tot = params.copy()\n",
    "params_tot.update(params_not_relevant)\n",
    "\n",
    "\n",
    "\n",
    "render.dict_to_table(params_tot)\n"
   ]
  },
  {
   "cell_type": "markdown",
   "metadata": {},
   "source": [
    "#### Horizontale Steifigkeit\n",
    "\n",
    "Für entsprechende Anwendungsfälle gibt es fertige Lösungen zur Bestimmung der Steifigkeit. Gemäss @fig-ems_rahmen_2 ist die Stütze am Fuss- und Kopfpunkt eingespannt. Somit resultiert die Steifigkeit zu:\n",
    "\n",
    "$$\n",
    "k_{Stuetze} = \\frac{12EI_{Stuetze}}{H^3}\n",
    "$${#eq-k_fur_stuetze}\n",
    "\n",
    "Diese gilt für eine einzelne Stütze. Angewendet auf das Beispiel folgt die Systemsteifigkeit zu:\n"
   ]
  },
  {
   "cell_type": "code",
   "execution_count": 15,
   "metadata": {},
   "outputs": [
    {
     "data": {
      "text/latex": [
       "\\begin{equation}k_{} = \\frac{24 EI_{stuetze}}{H^{3}}\\end{equation}"
      ],
      "text/plain": [
       "    24⋅EI_stuetze\n",
       "k = ─────────────\n",
       "           3     \n",
       "          H      "
      ]
     },
     "metadata": {},
     "output_type": "display_data"
    },
    {
     "data": {
      "text/latex": [
       "\\begin{equation}k_{} = \\frac{2.1 \\cdot 10^{7} \\text{N}}{\\text{m}}\\end{equation}"
      ],
      "text/plain": [
       "    2.1e+7⋅newton\n",
       "k = ─────────────\n",
       "        meter    "
      ]
     },
     "metadata": {},
     "output_type": "display_data"
    }
   ],
   "source": [
    "k = 2 * 12 * EI_stuetze / H**3\n",
    "\n",
    "render.eq_display('k_', k,\n",
    "                  'k_', k.subs(params).simplify().evalf(3))"
   ]
  },
  {
   "cell_type": "markdown",
   "metadata": {},
   "source": [
    "#### Eigenkreisfrequenz"
   ]
  },
  {
   "cell_type": "code",
   "execution_count": 16,
   "metadata": {},
   "outputs": [
    {
     "data": {
      "text/latex": [
       "\\begin{equation}\\omega_{n} = \\sqrt{\\frac{k}{m}}\\end{equation}"
      ],
      "text/plain": [
       "         ___\n",
       "        ╱ k \n",
       "ωₙ =   ╱  ─ \n",
       "     ╲╱   m "
      ]
     },
     "metadata": {},
     "output_type": "display_data"
    },
    {
     "data": {
      "text/latex": [
       "\\begin{equation}\\omega_{n} = 2 \\sqrt{6} \\sqrt{\\frac{EI_{stuetze}}{H^{3} m_{}}}\\end{equation}"
      ],
      "text/plain": [
       "               ____________\n",
       "              ╱ EI_stuetze \n",
       "ωₙ = 2⋅√6⋅   ╱  ────────── \n",
       "            ╱       3      \n",
       "          ╲╱       H ⋅m    "
      ]
     },
     "metadata": {},
     "output_type": "display_data"
    },
    {
     "data": {
      "text/latex": [
       "\\begin{equation}\\omega_{n} = \\frac{64.8}{\\text{s}}\\end{equation}"
      ],
      "text/plain": [
       "      64.8 \n",
       "ωₙ = ──────\n",
       "     second"
      ]
     },
     "metadata": {},
     "output_type": "display_data"
    }
   ],
   "source": [
    "omega_n = sp.sqrt(k/m)\n",
    "\n",
    "render.eq_display('omega_n', 'sqrt(k/m)',\n",
    "                  'omega_n', omega_n,\n",
    "                  'omega_n', omega_n.subs(params).simplify().evalf(3))"
   ]
  },
  {
   "cell_type": "markdown",
   "metadata": {},
   "source": [
    "#### Bewegungsgleichung\n",
    "\n",
    "Die Bewegungsgleichung für einen ungedämpften Einmassenschwinger ist die folgende:\n",
    "\n",
    "$$m u(t)'' + k u(t) = F(t)$$\n",
    "\n",
    "\n",
    "##### Approximation der Lösung\n",
    "\n",
    "Es handelt sich um eine inhomogene Differentialgleichung 2.Ordnung. Auf die exakte Lösung der Gleichung wird nicht eingegangen. Es wird versucht die bemessungsrelevanten Parameter näherungsweise zu bestimmen. Dies lässt sich mit dem Impulssatz approximieren. \n",
    "\n",
    "$$ F \\Delta t = m \\Delta v$$\n",
    "\n",
    "Dieser besagt, dass die einwirkende Kraft $F$ im betrachteten Zeitabschnitt $\\Delta t$ der Masse $m$ multipliziert mit der Geschwindigkeitsänderung $\\Delta v$ des Objekts entspricht. Für eine kurze Anregung, wie im Beispiel der Fall ist, kann die Anfangsgeschwindigkeit wie folgt bestimmt werden:\n",
    "\n",
    "$$ v_0 = \\frac{I}{m}$$\n",
    "\n",
    "$$I = \\int_{0}^{t_2} F(t) \\,dt $$"
   ]
  },
  {
   "cell_type": "code",
   "execution_count": 17,
   "metadata": {},
   "outputs": [
    {
     "data": {
      "text/latex": [
       "\\begin{equation}I_{} = 3000.0 \\text{N} \\text{s}\\end{equation}"
      ],
      "text/plain": [
       "I = 3000.0⋅newton⋅second"
      ]
     },
     "metadata": {},
     "output_type": "display_data"
    },
    {
     "data": {
      "text/latex": [
       "\\begin{equation}v_{0} = \\frac{3000.0 \\text{N} \\text{s}}{m_{}}\\end{equation}"
      ],
      "text/plain": [
       "     3000.0⋅newton⋅second\n",
       "v₀ = ────────────────────\n",
       "              m          "
      ]
     },
     "metadata": {},
     "output_type": "display_data"
    },
    {
     "data": {
      "text/latex": [
       "\\begin{equation}v_{0} = \\frac{0.6 \\text{m}}{\\text{s}}\\end{equation}"
      ],
      "text/plain": [
       "     0.6⋅meter\n",
       "v₀ = ─────────\n",
       "       second "
      ]
     },
     "metadata": {},
     "output_type": "display_data"
    }
   ],
   "source": [
    "I = sp.integrate(F_t.subs(params), (t,0,t_2.subs(params)))\n",
    "v_0 = I / m\n",
    "\n",
    "## Die Anfangsgeschwindigkeit wird zum Params dict hinzugefügt\n",
    "params['v_0'] = v_0.subs(params)\n",
    "params_plot = convert.param_value(params)\n",
    "\n",
    "\n",
    "render.eq_display('I_', I,\n",
    "                  'v_0', v_0,\n",
    "                  'v_0', v_0.subs(params))"
   ]
  },
  {
   "cell_type": "markdown",
   "metadata": {},
   "source": [
    "Durch die Impuls-Betrachtung vereinfacht sich die Bewegungsgleichung zu:\n",
    "\n",
    "\n",
    "$$\n",
    "m u(t)'' + k u(t) = 0\n",
    "$${#eq-bewegungsgleichung_homogen_ungedaempft}\n",
    "\n",
    "Mit der Anfangsgeschwindigkeit als Randbedingung. \n",
    "$$\n",
    "u'(t=0) = v_0  \n",
    "$$\n",
    "und der Startauslenkung:\n",
    "$$\n",
    "u(t=0) = u_0 = 0 \n",
    "$$\n",
    "\n",
    "Kann mittels der folgenden Ansatzfunktion die homogene Differentialgleichung gelöst werden:\n",
    "\n",
    "$$\n",
    "u(t) = A_1 \\cos(\\omega_n t) + A_2 \\sin(\\omega_n t)\n",
    "$${#eq-ansatz_beweg}\n"
   ]
  },
  {
   "cell_type": "code",
   "execution_count": 18,
   "metadata": {},
   "outputs": [
    {
     "data": {
      "text/latex": [
       "\\begin{equation}u{\\left(t \\right)} = 0.00925 \\sin{\\left(\\frac{64.8362038781832 t}{\\text{s}} \\right)} \\text{m}\\end{equation}"
      ],
      "text/plain": [
       "                  ⎛64.8362038781832⋅t⎞      \n",
       "u(t) = 0.00925⋅sin⎜──────────────────⎟⋅meter\n",
       "                  ⎝      second      ⎠      "
      ]
     },
     "execution_count": 18,
     "metadata": {},
     "output_type": "execute_result"
    }
   ],
   "source": [
    "A_1, A_2,u_0 = sp.symbols('A_1:3 u_0')\n",
    "\n",
    "bewegungsgleichung = m*sp.diff(u,t,2) + k*u\n",
    "ansatzfunktion = sp.Eq(u,A_1 * sp.cos(omega_n*t) + A_2*sp.sin(omega_n*t))\n",
    "eq_randbedingung_1 = sp.Eq(u_0,ansatzfunktion.rhs.subs(t,0))\n",
    "eq_randbedingung_2 = sp.Eq(v_0, sp.diff(ansatzfunktion.rhs,t).subs(t,0))\n",
    "A_solve = sp.solve([eq_randbedingung_1, eq_randbedingung_2],[A_1, A_2],dict=True)[0]\n",
    "\n",
    "\n",
    "u_t = ansatzfunktion.subs(A_solve)\n",
    "u_t.subs(params).simplify().evalf(3)\n"
   ]
  },
  {
   "cell_type": "code",
   "execution_count": 19,
   "metadata": {},
   "outputs": [
    {
     "data": {
      "image/png": "[encoded data removed]",
      "text/plain": [
       "<Figure size 590x300 with 1 Axes>"
      ]
     },
     "metadata": {},
     "output_type": "display_data"
    }
   ],
   "source": [
    "#| label: fig-bewegungsfunk\n",
    "#| fig-cap: \"Zeitlicher Verlauf der Auslenkung\"\n",
    "\n",
    "u_t_plot = u_t.subs(params_plot).rhs/unit.N/unit.second\n",
    "sp.plot(u_t_plot, (t,0,0.15), ylabel='u(t)',size=(5.9,3))\n",
    "\n",
    "plt.show()\n"
   ]
  },
  {
   "cell_type": "markdown",
   "metadata": {},
   "source": [
    "#### Rückstellkraft\n",
    "\n",
    "Anhand der maximalen Amplitude lässt sich die maximale Rückstellkraft für den gesamten Rahmen bestimmen.\n",
    "\n",
    "$$F_R = k   u = k   A$$\n",
    "\n"
   ]
  },
  {
   "cell_type": "code",
   "execution_count": 20,
   "metadata": {},
   "outputs": [
    {
     "data": {
      "text/latex": [
       "\\begin{equation}u_{max} = A\\end{equation}"
      ],
      "text/plain": [
       "uₘₐₓ = A"
      ]
     },
     "metadata": {},
     "output_type": "display_data"
    },
    {
     "data": {
      "text/latex": [
       "\\begin{equation}A = 0.00925 \\text{m}\\end{equation}"
      ],
      "text/plain": [
       "A = 0.00925⋅meter"
      ]
     },
     "metadata": {},
     "output_type": "display_data"
    },
    {
     "data": {
      "text/latex": [
       "\\begin{equation}F_{R} = 1.95 \\cdot 10^{5} \\text{N}\\end{equation}"
      ],
      "text/plain": [
       "F_R = 1.95e+5⋅newton"
      ]
     },
     "metadata": {},
     "output_type": "display_data"
    }
   ],
   "source": [
    "t_max = sp.solve(sp.Eq(sp.diff(u_t.rhs,t),0),t)\n",
    "u_max = u_t.subs(t, t_max[0].subs(params_plot)*unit.second).subs(params).rhs\n",
    "\n",
    "F_R = k * u_max\n",
    "\n",
    "render.eq_display('u_max', 'A',\n",
    "                  'A', u_max.simplify().evalf(3),\n",
    "                  'F_R', F_R.subs(params).simplify().evalf(3))"
   ]
  },
  {
   "cell_type": "markdown",
   "metadata": {},
   "source": [
    "##### Spannungsnachweis\n",
    "\n",
    "Die Rückstellkraft wirkt im Zentrum der Masse und bewirkt das maximale Biegemoment bei den Fusspunkten.\n",
    "\n",
    "![Biegemomentenverlauf durch die statische Ersatzkraft](bilder/impulssatz_momentenverlauf.pdf)"
   ]
  },
  {
   "cell_type": "code",
   "execution_count": 21,
   "metadata": {},
   "outputs": [
    {
     "data": {
      "text/latex": [
       "\\begin{equation}M_{max} = \\frac{F_{R} H}{4}\\end{equation}"
      ],
      "text/plain": [
       "       F_R⋅H\n",
       "Mₘₐₓ = ─────\n",
       "         4  "
      ]
     },
     "metadata": {},
     "output_type": "display_data"
    },
    {
     "data": {
      "text/latex": [
       "\\begin{equation}M_{max} = 1.46 \\cdot 10^{5} \\text{m} \\text{N}\\end{equation}"
      ],
      "text/plain": [
       "Mₘₐₓ = 1.46e+5⋅meter⋅newton"
      ]
     },
     "metadata": {},
     "output_type": "display_data"
    },
    {
     "data": {
      "text/latex": [
       "\\begin{equation}\\sigma_{max} = \\frac{M_{max}}{W_{el y}}\\end{equation}"
      ],
      "text/plain": [
       "        Mₘₐₓ \n",
       "σₘₐₓ = ──────\n",
       "       W_el_y"
      ]
     },
     "metadata": {},
     "output_type": "display_data"
    },
    {
     "data": {
      "text/latex": [
       "\\begin{equation}\\sigma_{max} = \\frac{156.0 \\text{N}}{\\text{mm}^{2}}\\end{equation}"
      ],
      "text/plain": [
       "       156.0⋅newton\n",
       "σₘₐₓ = ────────────\n",
       "                 2 \n",
       "       millimeter  "
      ]
     },
     "metadata": {},
     "output_type": "display_data"
    },
    {
     "data": {
      "text/latex": [
       "\\begin{equation}Nachweis = \\frac{156.0 \\text{N}}{\\text{mm}^{2}} < f_{y}\\end{equation}"
      ],
      "text/plain": [
       "           156.0⋅newton      \n",
       "Nachweis = ──────────── < f_y\n",
       "                     2       \n",
       "           millimeter        "
      ]
     },
     "metadata": {},
     "output_type": "display_data"
    }
   ],
   "source": [
    "M_max = F_R/2 * H * sp.Rational(0.5)\n",
    "\n",
    "sigma_max = M_max /W_el_y\n",
    "\n",
    "render.eq_display('M_max', 'F_R /2 * H * Rational(0.5)',\n",
    "                  'M_max', M_max.subs(params).simplify().evalf(3),\n",
    "                  'sigma_max', 'M_max / W_el_y',\n",
    "                  'sigma_max', unit.convert_to(sigma_max.subs(params).simplify().evalf(3), unit.mm),\n",
    "                  'Nachweis', unit.convert_to(sigma_max.subs(params).simplify().evalf(3), unit.mm)<f_y)"
   ]
  },
  {
   "cell_type": "markdown",
   "metadata": {},
   "source": [
    "{{< pagebreak >}}\n",
    "\n",
    "## Beispiel: Dynamischer Vergrösserungsfaktor\n",
    "Das System in @fig-system_biegetrager zeigt einen Biegeträger, gelagert als einfacher Balken mit einer Auskragung. Dieser wird am Kragarm mit der dynamischen Last F(t) in vertikaler Richtung beansprucht. \n",
    "\n",
    "![Statisches System des Biegeträgers](bilder/biegetrager_einzelmasse.jpg){#fig-system_biegetrager width=70%}\n",
    "\n",
    "\n",
    "Gesucht:\n",
    "\n",
    "- Eigenkreisfrequenz $\\omega$\n",
    "- Dynamischer Vergrösserungsfaktor $V(\\omega)$\n",
    "- Maximale dynamische Amplitude im stationären Fall $u_{max}$\n",
    "  \n",
    "Gegeben:\n",
    "\n",
    "- Biegeträger ist masselos\n",
    "- Punktmasse $m=1t$\n",
    "- Dämpfungsrate $\\zeta = 0.005$\n",
    "- Biegesteifigkeit $E\\cdot I = 30000 \\text{kNm}^2$\n",
    "- Es sind lediglich Biegeverformungen zu betrachten $G \\cdot A = \\infty$\n",
    "$$\n",
    "F(t) = F_0 \\cdot \\cos(\\omega \\cdot t) = 50 \\text{kN} \\cdot \\cos(62.8 \\cdot t)\n",
    "$${#eq-anregung_dynamischer_faktor}"
   ]
  },
  {
   "cell_type": "markdown",
   "metadata": {},
   "source": [
    "{{< pagebreak >}}\n",
    "\n",
    "### Musterlösung\n",
    "\n"
   ]
  },
  {
   "cell_type": "code",
   "execution_count": 22,
   "metadata": {},
   "outputs": [
    {
     "data": {
      "text/markdown": [
       "| Parameter | - |\n",
       "|---|---|\n",
       "| $F_{0} = 50000 \\text{N}$ | $m_{} = \\frac{1000 \\text{N} \\text{s}^{2}}{\\text{m}}$ |\n",
       "| $\\zeta = 0.005$ | $EI = 30000000 \\text{m}^{2} \\text{N}$ |\n",
       "| $l_{1} = 3000 \\text{mm}$ | $l_{2} = 2000 \\text{mm}$ |\n",
       "| $\\omega = \\frac{62.8}{\\text{s}}$ |-|\n"
      ],
      "text/plain": [
       "<IPython.core.display.Markdown object>"
      ]
     },
     "metadata": {},
     "output_type": "display_data"
    }
   ],
   "source": [
    "#| label: tbl-parameter_vergroess\n",
    "#| tbl-cap: Verwendete Parameter\n",
    "\n",
    "params = {'F_0':50*10**3*unit.N,\n",
    "          'm_':1000*unit.N*unit.second**2/unit.m,\n",
    "          'zeta':0.005,\n",
    "          'EI':30000*10**3*unit.N*unit.m**2,\n",
    "          'l_1':3000*unit.mm,\n",
    "          'l_2':2000*unit.mm,\n",
    "          'omega':62.8/unit.second}\n",
    "\n",
    "params_plot = convert.param_value(params=params)\n",
    "\n",
    "render.dict_to_table(params)"
   ]
  },
  {
   "cell_type": "code",
   "execution_count": 23,
   "metadata": {},
   "outputs": [],
   "source": [
    "F_0, m, zeta, EI, l_1, l_2 = sp.symbols('F_0, m_, zeta, EI, l_1, l_2 ')\n",
    "\n",
    "k, omega, t  = sp.symbols('k omega t')"
   ]
  },
  {
   "cell_type": "code",
   "execution_count": 24,
   "metadata": {},
   "outputs": [],
   "source": [
    "F_t = F_0*sp.cos(omega*t)\n",
    "\n",
    "# render.eq_display('F(t)', F_t,\n",
    "                #   'F(t)', F_t.subs(params))\n"
   ]
  },
  {
   "cell_type": "markdown",
   "metadata": {},
   "source": [
    "#### Eigenkreisfrequenz\n",
    "\n",
    "Die Eigenkreisfrequenz lässt sich aus der folgenden Gleichung bestimmen:\n",
    "\n",
    "$$\\omega_n = \\sqrt{\\frac{k}{m}}$$"
   ]
  },
  {
   "cell_type": "markdown",
   "metadata": {},
   "source": [
    "##### Steifigkeit des Systems\n",
    "\n",
    "Die Steifigkeit des Systems lässt sich anhand der statischen Deformation bestimmen. Sie entspricht dem Verhältnis zwischen Einwirkung und der daraus resultierenden Verformung.\n",
    "$$ k = \\frac{F}{u}$$\n",
    "\n",
    "Händisch lässt sich die Deformation mittels realem und virtuellem Kräftezustand, anhand der Arbeitsgleichung bestimmen. Dargestellt in @fig-arbeitssatz. Die Ermittlung der Steifigkeit bedingt lediglich das Verhältnis zwischen Einwirkung und Deformation, folglich darf Betrag der realen Kraft frei gewählt werden.\n",
    "\n",
    "![Realer und virtueller Kräftezustand](bilder/arbeitssatz.jpg){#fig-arbeitssatz}\n",
    "\n",
    "Um lediglich Biegeverformungen zu berücksichtigen, kann die Verformung nach folgender Gleichung bestimmt werden.\n",
    "\n",
    "$$u = \\frac{1}{E I_y} \\cdot \\int_{0}^{l_1+l_2} M_y\\bar{M_y} \\,dx$$\n",
    "\n"
   ]
  },
  {
   "cell_type": "code",
   "execution_count": 25,
   "metadata": {},
   "outputs": [
    {
     "data": {
      "text/latex": [
       "\\begin{equation}u = \\frac{4000 \\left(l_{1} + l_{2}\\right) \\text{m}^{2} \\text{N}}{3 EI}\\end{equation}"
      ],
      "text/plain": [
       "                        2       \n",
       "    4000⋅(l₁ + l₂)⋅meter ⋅newton\n",
       "u = ────────────────────────────\n",
       "                3⋅EI            "
      ]
     },
     "metadata": {},
     "output_type": "display_data"
    },
    {
     "data": {
      "text/latex": [
       "\\begin{equation}u = 0.222 \\text{mm}\\end{equation}"
      ],
      "text/plain": [
       "u = 0.222⋅millimeter"
      ]
     },
     "metadata": {},
     "output_type": "display_data"
    },
    {
     "data": {
      "text/latex": [
       "\\begin{equation}k = \\frac{3 EI}{4 \\left(l_{1} + l_{2}\\right) \\text{m}^{2}}\\end{equation}"
      ],
      "text/plain": [
       "           3⋅EI       \n",
       "k = ──────────────────\n",
       "                     2\n",
       "    4⋅(l₁ + l₂)⋅meter "
      ]
     },
     "metadata": {},
     "output_type": "display_data"
    },
    {
     "data": {
      "text/latex": [
       "\\begin{equation}k = \\frac{4500 \\text{N}}{\\text{mm}}\\end{equation}"
      ],
      "text/plain": [
       "    4500⋅newton\n",
       "k = ───────────\n",
       "     millimeter"
      ]
     },
     "metadata": {},
     "output_type": "display_data"
    }
   ],
   "source": [
    "u_steifigkeit = 1/EI * (sp.Rational(1,3) * -2000*unit.N*unit.m * -2*unit.m * (l_1+l_2))\n",
    "k = 1000*unit.N / u_steifigkeit\n",
    "\n",
    "\n",
    "render.eq_display('u', u_steifigkeit,\n",
    "                  'u', u_steifigkeit.subs(params).evalf(3),\n",
    "                  'k', k,\n",
    "                  'k', k.subs(params))"
   ]
  },
  {
   "cell_type": "markdown",
   "metadata": {},
   "source": [
    "##### Eigenkreisfrequenz"
   ]
  },
  {
   "cell_type": "code",
   "execution_count": 26,
   "metadata": {},
   "outputs": [
    {
     "data": {
      "text/latex": [
       "\\begin{equation}\\omega_{n} = \\sqrt{\\frac{k}{m}}\\end{equation}"
      ],
      "text/plain": [
       "         ___\n",
       "        ╱ k \n",
       "ωₙ =   ╱  ─ \n",
       "     ╲╱   m "
      ]
     },
     "metadata": {},
     "output_type": "display_data"
    },
    {
     "data": {
      "text/latex": [
       "\\begin{equation}\\omega_{n} = \\frac{\\sqrt{3} \\sqrt{\\frac{EI}{m_{} \\left(l_{1} + l_{2}\\right)}}}{2 \\text{m}}\\end{equation}"
      ],
      "text/plain": [
       "            _____________\n",
       "           ╱      EI     \n",
       "     √3⋅  ╱  ─────────── \n",
       "        ╲╱   m⋅(l₁ + l₂) \n",
       "ωₙ = ────────────────────\n",
       "           2⋅meter       "
      ]
     },
     "metadata": {},
     "output_type": "display_data"
    },
    {
     "data": {
      "text/latex": [
       "\\begin{equation}\\omega_{n} = \\frac{67.1}{\\text{s}}\\end{equation}"
      ],
      "text/plain": [
       "      67.1 \n",
       "ωₙ = ──────\n",
       "     second"
      ]
     },
     "metadata": {},
     "output_type": "display_data"
    }
   ],
   "source": [
    "omega_n = sp.sqrt(k/m)\n",
    "\n",
    "render.eq_display('omega_n', \"sqrt(k/m)\",\n",
    "                  'omega_n', omega_n,\n",
    "                  'omega_n', omega_n.subs(params).simplify().evalf(3))"
   ]
  },
  {
   "cell_type": "markdown",
   "metadata": {},
   "source": [
    "#### Vergrösserungsfaktor\n",
    "\n",
    "Der Vergrösserungsfaktor beschreibt das Verhältnis zwischen der maximalen statischen Amplitude und der maximalen dynamischen Amplitude:\n",
    "\n",
    "$$V(\\omega) = \\frac{u_{max}}{u_0}$$\n",
    "\n",
    "Dieser lässt sich mit der Dämpfungsrate $\\zeta$, Anregungsfrequenz $\\omega$ und der Eigenfrequenz $\\omega_n$ beschreiben.\n",
    "\n",
    "![Einfluss der Dämpfung  und der Anregungsfrequenz auf den Vergrösserungsfaktor](bilder/vergroesserung.jpg){#fig-vergroesserung width=80%}"
   ]
  },
  {
   "cell_type": "code",
   "execution_count": 27,
   "metadata": {},
   "outputs": [
    {
     "data": {
      "text/latex": [
       "\\begin{equation}V{\\left(\\omega \\right)} = \\frac{1}{\\sqrt{\\frac{4 \\omega^{2} \\zeta_{}^{2}}{\\omega_{n}^{2}} + \\left(- \\frac{\\omega^{2}}{\\omega_{n}^{2}} + 1\\right)^{2}}}\\end{equation}"
      ],
      "text/plain": [
       "                      1               \n",
       "V(ω) = ───────────────────────────────\n",
       "              ________________________\n",
       "             ╱                      2 \n",
       "            ╱     2  2   ⎛    2    ⎞  \n",
       "           ╱   4⋅ω ⋅ζ    ⎜   ω     ⎟  \n",
       "          ╱    ─────── + ⎜- ─── + 1⎟  \n",
       "         ╱         2     ⎜    2    ⎟  \n",
       "       ╲╱        ωₙ      ⎝  ωₙ     ⎠  "
      ]
     },
     "metadata": {},
     "output_type": "display_data"
    },
    {
     "data": {
      "text/latex": [
       "\\begin{equation}V{\\left(\\omega \\right)} = 8.07\\end{equation}"
      ],
      "text/plain": [
       "V(ω) = 8.07"
      ]
     },
     "metadata": {},
     "output_type": "display_data"
    }
   ],
   "source": [
    "V_omega = 1/(sp.sqrt((1-(omega/omega_n)**2)**2 + (2*zeta*(omega/omega_n))**2))\n",
    "\n",
    "render.eq_display('V(omega)', '1/(sqrt((1-(omega/omega_n)**2)**2 + (2*zeta_*(omega/omega_n))**2))',\n",
    "                  'V(omega)', V_omega.subs(params).simplify().evalf(3))"
   ]
  },
  {
   "cell_type": "markdown",
   "metadata": {},
   "source": [
    "#### Statische Amplitude\n",
    "\n",
    "Die Einwirkung lässt sich aus der Anregungsfunktion @eq-anregung_dynamischer_faktor bestimmen für $t=0$. Mit der bekannten Systemsteifigkeit bestimmt sich die Deformation."
   ]
  },
  {
   "cell_type": "code",
   "execution_count": 28,
   "metadata": {},
   "outputs": [
    {
     "data": {
      "text/latex": [
       "\\begin{equation}u_{stat} = \\frac{F_{0}}{k}\\end{equation}"
      ],
      "text/plain": [
       "        F₀\n",
       "uₛₜₐₜ = ──\n",
       "        k "
      ]
     },
     "metadata": {},
     "output_type": "display_data"
    },
    {
     "data": {
      "text/latex": [
       "\\begin{equation}u_{stat} = \\frac{4 F_{0} \\left(l_{1} + l_{2}\\right) \\text{m}^{2}}{3 EI}\\end{equation}"
      ],
      "text/plain": [
       "                            2\n",
       "        4⋅F₀⋅(l₁ + l₂)⋅meter \n",
       "uₛₜₐₜ = ─────────────────────\n",
       "                 3⋅EI        "
      ]
     },
     "metadata": {},
     "output_type": "display_data"
    },
    {
     "data": {
      "text/latex": [
       "\\begin{equation}u_{stat} = 11.11 \\text{mm}\\end{equation}"
      ],
      "text/plain": [
       "uₛₜₐₜ = 11.11⋅millimeter"
      ]
     },
     "metadata": {},
     "output_type": "display_data"
    }
   ],
   "source": [
    "u_stat = F_0 / k\n",
    "\n",
    "render.eq_display('u_stat', 'F_0 / k',\n",
    "                  'u_stat', u_stat,\n",
    "                  'u_stat', u_stat.subs(params).evalf(4))"
   ]
  },
  {
   "cell_type": "markdown",
   "metadata": {},
   "source": [
    "##### Stationäre Amplitude\n",
    "\n",
    "Durch die Vergrösserung der statischen Deformation mit dem Vergrösserungsfaktor resultiert die maximale Amplitude der stationären Lösung.\n"
   ]
  },
  {
   "cell_type": "code",
   "execution_count": 29,
   "metadata": {},
   "outputs": [
    {
     "data": {
      "text/latex": [
       "\\begin{equation}u_{dyn} = u_{stat} V{\\left(\\omega \\right)}\\end{equation}"
      ],
      "text/plain": [
       "u_dyn = uₛₜₐₜ⋅V(ω)"
      ]
     },
     "metadata": {},
     "output_type": "display_data"
    },
    {
     "data": {
      "text/latex": [
       "\\begin{equation}u_{dyn} = \\frac{4 F_{0} \\left(l_{1} + l_{2}\\right) \\text{m}^{2}}{3 EI \\sqrt{\\frac{16 m_{} \\omega^{2} \\zeta^{2} \\left(l_{1} + l_{2}\\right) \\text{m}^{2}}{3 EI} + \\left(- \\frac{4 m_{} \\omega^{2} \\left(l_{1} + l_{2}\\right) \\text{m}^{2}}{3 EI} + 1\\right)^{2}}}\\end{equation}"
      ],
      "text/plain": [
       "                                                       2                      \n",
       "                                   4⋅F₀⋅(l₁ + l₂)⋅meter                       \n",
       "u_dyn = ──────────────────────────────────────────────────────────────────────\n",
       "                   ___________________________________________________________\n",
       "                  ╱                                                           \n",
       "                 ╱        2  2                2   ⎛       2                2  \n",
       "                ╱   16⋅m⋅ω ⋅ζ ⋅(l₁ + l₂)⋅meter    ⎜  4⋅m⋅ω ⋅(l₁ + l₂)⋅meter   \n",
       "        3⋅EI⋅  ╱    ─────────────────────────── + ⎜- ─────────────────────── +\n",
       "             ╲╱                 3⋅EI              ⎝            3⋅EI           \n",
       "\n",
       "     \n",
       "     \n",
       "─────\n",
       "_____\n",
       "   2 \n",
       "  ⎞  \n",
       "  ⎟  \n",
       " 1⎟  \n",
       "  ⎠  "
      ]
     },
     "metadata": {},
     "output_type": "display_data"
    },
    {
     "data": {
      "text/latex": [
       "\\begin{equation}u_{dyn} = 89.6 \\text{mm}\\end{equation}"
      ],
      "text/plain": [
       "u_dyn = 89.6⋅millimeter"
      ]
     },
     "metadata": {},
     "output_type": "display_data"
    }
   ],
   "source": [
    "u_dyn = u_stat * V_omega\n",
    "\n",
    "render.eq_display('u_dyn', 'u_stat * V(omega)',\n",
    "                  'u_dyn', u_dyn,\n",
    "                  'u_dyn', unit.convert_to(u_dyn.subs(params).simplify().evalf(3), unit.mm))"
   ]
  },
  {
   "cell_type": "markdown",
   "metadata": {},
   "source": [
    "Der Nachweis der Gebrauchstauglichkeit wäre damit sicherlich nicht erfüllt.\n",
    "Das Beispiel soll aufzeigen, wenn die Erregerfrequenz im Bereich der Eigenfrequenz zu liegen kommt, es zu grossen Amplifikationen der Verformungen bzw. zu Resonanzeffekten kommen kann. \n",
    "\n",
    "Da meist die Masse und die Erregung (z.B. Maschine) gegeben ist, kann man zum Beispiel ein Dämpfungselement einbauen, was jedoch keinen wesentlichen Einfluss auf das Frequenzverhältnis hat. Dadurch werden jedoch die Amplituden begrenzt. \n",
    "\n",
    "Eine weitere Möglichkeit wäre die Biegesteifigkeit $E\\cdot I$ zu erhöhen. Das System wird steifer und die Eigenfrequenz grösser. Man spricht in dem Fall von einer Hochabstimmung.\n"
   ]
  },
  {
   "cell_type": "code",
   "execution_count": 30,
   "metadata": {},
   "outputs": [],
   "source": [
    "u_p = V_omega.subs(params) * u_stat *sp.cos(omega *t)\n",
    "\n",
    "# render.eq_display('u_p', u_p.subs(params).simplify().evalf(3))"
   ]
  },
  {
   "cell_type": "code",
   "execution_count": 31,
   "metadata": {},
   "outputs": [],
   "source": [
    "omega_d = omega_n * sp.sqrt(1-zeta**2)\n",
    "\n",
    "# render.eq_display('omega_d', 'omega_n *sqrt(1-zeta_**2)',\n",
    "#                   'omega_d', omega_d.subs(params).simplify().evalf(3))"
   ]
  },
  {
   "cell_type": "code",
   "execution_count": 32,
   "metadata": {},
   "outputs": [
    {
     "data": {
      "image/png": "[encoded data removed]",
      "text/plain": [
       "<Figure size 590x300 with 1 Axes>"
      ]
     },
     "metadata": {},
     "output_type": "display_data"
    }
   ],
   "source": [
    "#| label: fig-gesamtantwort_ems3\n",
    "#| fig-cap: \"Gesamtantwort des Systems\"\n",
    "\n",
    "\n",
    "A_1, A_2 = sp.symbols('A_1:3')\n",
    "omega_d_raw = omega_d*unit.second\n",
    "omega_n_raw = omega_n * unit.second\n",
    "u_h_ansatz = sp.exp(-zeta*omega_n_raw*t)*(A_1 * sp.cos(omega_d_raw*t)+A_2*sp.sin(omega_d_raw*t))\n",
    "randbedingung_1 = (u_h_ansatz+u_p).subs(t,0)\n",
    "randbedingung_2 = sp.diff((u_h_ansatz+u_p),t).subs(t,0)\n",
    "\n",
    "A_solve = sp.solve([randbedingung_1, randbedingung_2], [A_1, A_2], dict=True)[0]\n",
    "\n",
    "\n",
    "u_h = u_h_ansatz.subs(A_solve)\n",
    "\n",
    "\n",
    "u_t = u_h.subs(params).simplify()/unit.m + u_p.subs(params_plot).simplify()/unit.m**2\n",
    "\n",
    "u_t_plot = u_t.subs(params_plot).subs(unit.second, 1)\n",
    "\n",
    "sp.plot(u_t_plot, (t,0,10), adaptive=False, nb_of_points=500, \n",
    "        xlabel='$t [s]$',\n",
    "        ylabel='$u(t)$ [m]',\n",
    "        size=(5.9,3))\n",
    "\n",
    "plt.show()"
   ]
  },
  {
   "cell_type": "markdown",
   "metadata": {},
   "source": [
    "In der @fig-gesamtantwort_ems3 ist die Gesamtantwort des Systems dargestellt. Wenn Dämpfung im System vorhanden ist, dann verschwindet die transiente bzw. homogene Lösung $u(t)$ und das System schwingt mit der stationären Lösung bzw. partikulären Lösung $u(t)$ in der Anregungsfrequenz.\n",
    "Die Anregung zwingt dem System seine Schwingung auf. In der Praxis sind die Anlaufphasen zu beachten, solange die der transiente Teil noch nicht abgeklungen ist. Dort sind die Amplituden grösser und es gilt zu untersuchen, ob diese kurzfristige Überschreitung Konsequenzen (z.B. zul. Verformungen oder Bauteilspannungen) für das Tragsystem hat."
   ]
  },
  {
   "cell_type": "markdown",
   "metadata": {},
   "source": [
    "{{< pagebreak >}}\n",
    "\n",
    "## Beispiel: Gesamtantwort ohne Dämpfung\n",
    "\n",
    "Das System in @fig-system_maschine zeigt ein Stabwerk, welches durch eine Werkzeugmaschine angeregt wird.\n",
    "\n",
    "![Statisches System des Stabwerks](bilder/ems_4.jpg){#fig-system_maschine}\n",
    "\n",
    "\n",
    "\n",
    "Gesucht:\n",
    "\n",
    "- Eigenkreisfrequenz $\\omega_n$\n",
    "- Dynamischer Vergrösserungsfaktor $V(\\omega)$\n",
    "- Stationäre Antwort $u_p(t)$ mit dem dynamischen Vergrösserungsfaktor $V(\\omega)$\n",
    "- Gesamtantwort $u(t)$ mit den Anfangsbedingungen $u(t=0) = 0 \\text{ und } u'(t=0)=0$\n",
    "- Festigkeitsnachweis der Diagonalen\n",
    "  \n",
    "Gegeben:\n",
    "\n",
    "- Gesamtmasse inkl. rotierende Massen $m_{tot} = 5t$\n",
    "- Rotierende Massen in Werkzeugmaschine $m_1 = 0.2 t$\n",
    "- Drehzahl Werkzeugmaschine $n = 150/\\text{min}$\n",
    "- Exzentrizität der rotierenden Massen $e =0.1\\text{m}$\n",
    "- Dämpfungsrate $\\zeta = 0$\n",
    "- Punktmasse $m=1t$\n",
    "- Dämpfungsrate $\\zeta = 0.005$\n",
    "- Alle Stäbe ausser Diagonalen $E\\cdot A = \\infty$\n",
    "- Alle Stäbe S355 "
   ]
  },
  {
   "cell_type": "markdown",
   "metadata": {},
   "source": [
    "{{< pagebreak >}}\n",
    "\n",
    "### Musterlösung\n",
    "\n",
    "\n"
   ]
  },
  {
   "cell_type": "code",
   "execution_count": 33,
   "metadata": {},
   "outputs": [
    {
     "data": {
      "text/markdown": [
       "| Parameter | - |\n",
       "|---|---|\n",
       "| $m_{tot} = \\frac{5000 \\text{N} \\text{s}^{2}}{\\text{m}}$ | $E = \\frac{210000 \\text{N}}{\\text{mm}^{2}}$ |\n",
       "| $H = 4000 \\text{mm}$ | $B = 6000 \\text{mm}$ |\n",
       "| $\\oslash_{Diag} = 12 \\text{mm}$ | $f_{yd} = \\frac{338 \\text{N}}{\\text{mm}^{2}}$ |\n",
       "| $m_{1} = \\frac{200 \\text{N} \\text{s}^{2}}{\\text{m}}$ | $n = \\frac{150}{\\text{minute}}$ |\n",
       "| $e = 0.1 \\text{m}$ | $\\zeta = 0.0$ |\n"
      ],
      "text/plain": [
       "<IPython.core.display.Markdown object>"
      ]
     },
     "metadata": {},
     "output_type": "display_data"
    }
   ],
   "source": [
    "#| label: tbl-parameter_gesamt\n",
    "#| tbl-cap: Verwendete Parameter\n",
    "\n",
    "params = {              \n",
    "          'm_tot':5000*unit.N*unit.second**2/unit.m, \n",
    "          'E':210*10**3*unit.N/unit.mm**2,\n",
    "          'H':4000*unit.mm,\n",
    "          'B':6000*unit.mm,\n",
    "          '\\oslash_Diag':12*unit.mm,\n",
    "          'f_yd':338*unit.N/unit.mm**2,\n",
    "          'm_1':200*unit.N*unit.second**2/unit.m,\n",
    "          'n':150/unit.minute,\n",
    "          'e':0.1*unit.m,\n",
    "          'zeta':0.0,\n",
    "          }\n",
    "\n",
    "params_plot = convert.param_value(params=params)\n",
    "\n",
    "render.dict_to_table(params)"
   ]
  },
  {
   "cell_type": "code",
   "execution_count": 34,
   "metadata": {},
   "outputs": [],
   "source": [
    "m_tot, E, H, B, Diam, f_yd, m_1, n, e = sp.symbols('m_tot, E, H, B, \\oslash_Diag, f_yd, m_1, n, e')\n",
    "\n",
    "F_0, omega, t, zeta = sp.symbols('F_0, omega, t, zeta')"
   ]
  },
  {
   "cell_type": "code",
   "execution_count": 35,
   "metadata": {},
   "outputs": [],
   "source": [
    "F_t = F_0 * sp.cos(omega*t)"
   ]
  },
  {
   "cell_type": "markdown",
   "metadata": {},
   "source": [
    "#### Systemsteifigkeit\n",
    "\n",
    "Zur Ermittlung der Eigenkreisfrequenz wird die Steifigkeit des gesamten Systems benötigt.\n",
    "\n",
    "![Verformungszustand des Systems für die Einheitskraft](bilder/auslenkunf_FW.jpg){#fig-verform_FW}\n",
    "\n",
    "Das System wird mit einer Einheitskraft belastet. Aufgrund der Eigenschaften der Pendelstäbe (lediglich Normalkräfte) und deren unendlich grossen Dehnsteifigkeit, spielt lediglich die Verformung der Diagonalen eine Rolle. Dazu gilt, dass die Diagonalen nur Zugkräfte aufnehmen können. Das bedeutet, dass letztlich ein Stab aktiv ist für die beschrieben Situation in @fig-verform_FW.\n",
    "\n",
    "Dazu muss die Normalkraft in der Diagonalen bestimmt werden."
   ]
  },
  {
   "cell_type": "code",
   "execution_count": 36,
   "metadata": {},
   "outputs": [
    {
     "data": {
      "text/latex": [
       "\\begin{equation}\\alpha = \\operatorname{atan}{\\left(\\frac{H}{B} \\right)}\\end{equation}"
      ],
      "text/plain": [
       "        ⎛H⎞\n",
       "α = atan⎜─⎟\n",
       "        ⎝B⎠"
      ]
     },
     "metadata": {},
     "output_type": "display_data"
    },
    {
     "data": {
      "text/latex": [
       "\\begin{equation}\\alpha = 0.588\\end{equation}"
      ],
      "text/plain": [
       "α = 0.588"
      ]
     },
     "metadata": {},
     "output_type": "display_data"
    },
    {
     "data": {
      "text/latex": [
       "\\begin{equation}Z_{Diag} = 1000 \\sqrt{1 + \\frac{H^{2}}{B^{2}}} \\text{N}\\end{equation}"
      ],
      "text/plain": [
       "                    ________       \n",
       "                   ╱      2        \n",
       "                  ╱      H         \n",
       "Z_Diag = 1000⋅   ╱   1 + ── ⋅newton\n",
       "                ╱         2        \n",
       "              ╲╱         B         "
      ]
     },
     "metadata": {},
     "output_type": "display_data"
    },
    {
     "data": {
      "text/latex": [
       "\\begin{equation}Z_{Diag} = 1.2 \\cdot 10^{3} \\text{N}\\end{equation}"
      ],
      "text/plain": [
       "Z_Diag = 1.2e+3⋅newton"
      ]
     },
     "metadata": {},
     "output_type": "display_data"
    }
   ],
   "source": [
    "alpha = sp.atan(H/B)\n",
    "\n",
    "Z_Diag = 1000*unit.N /sp.cos(alpha)\n",
    "\n",
    "\n",
    "render.eq_display('alpha', alpha,\n",
    "                  'alpha', alpha.subs(params).evalf(3),\n",
    "                  'Z_Diag', Z_Diag,\n",
    "                  'Z_Diag',Z_Diag.subs(params).evalf(3))"
   ]
  },
  {
   "cell_type": "markdown",
   "metadata": {},
   "source": [
    "Mittels der Arbeitsgleichung lässt sich die Verformung bestimmen. Für die Integration zweier Normalkraftverläufe gilt die folgende Beziehung:\n",
    "\n",
    "$$u = \\frac{1}{EA_{Diag}}  \\int_{0}^{l_{Diag}} N_x\\bar{N_x} \\,dx$$\n",
    "\n",
    "Länge der Diagonalen:\n"
   ]
  },
  {
   "cell_type": "code",
   "execution_count": 37,
   "metadata": {},
   "outputs": [
    {
     "data": {
      "text/latex": [
       "\\begin{equation}l_{Diag} = B \\sqrt{1 + \\frac{H^{2}}{B^{2}}}\\end{equation}"
      ],
      "text/plain": [
       "                 ________\n",
       "                ╱      2 \n",
       "               ╱      H  \n",
       "l_Diag = B⋅   ╱   1 + ── \n",
       "             ╱         2 \n",
       "           ╲╱         B  "
      ]
     },
     "metadata": {},
     "output_type": "display_data"
    },
    {
     "data": {
      "text/latex": [
       "\\begin{equation}l_{Diag} = 7.21 \\text{m}\\end{equation}"
      ],
      "text/plain": [
       "l_Diag = 7.21⋅meter"
      ]
     },
     "metadata": {},
     "output_type": "display_data"
    }
   ],
   "source": [
    "l_Diag = B /sp.cos(alpha)\n",
    "A_Diag = sp.pi * Diam**2 / 4\n",
    "u_for_k = 1/(E*A_Diag) * Z_Diag * Z_Diag/(1000*unit.N) * l_Diag\n",
    "\n",
    "k = 1000*unit.N / u_for_k\n",
    "render.eq_display('l_Diag', l_Diag,\n",
    "                  'l_Diag', unit.convert_to(l_Diag.subs(params).evalf(3), unit.m),)"
   ]
  },
  {
   "cell_type": "markdown",
   "metadata": {},
   "source": [
    "Querschnittsfläche der Diagonalen:"
   ]
  },
  {
   "cell_type": "code",
   "execution_count": 38,
   "metadata": {},
   "outputs": [
    {
     "data": {
      "text/latex": [
       "\\begin{equation}A_{Diag} = \\frac{\\pi \\oslash_{Diag}^{2}}{4}\\end{equation}"
      ],
      "text/plain": [
       "                       2\n",
       "         π⋅\\oslash_Diag \n",
       "A_Diag = ───────────────\n",
       "                4       "
      ]
     },
     "metadata": {},
     "output_type": "display_data"
    },
    {
     "data": {
      "text/latex": [
       "\\begin{equation}A_{Diag} = 113.0 \\text{mm}^{2}\\end{equation}"
      ],
      "text/plain": [
       "                         2\n",
       "A_Diag = 113.0⋅millimeter "
      ]
     },
     "metadata": {},
     "output_type": "display_data"
    }
   ],
   "source": [
    "render.eq_display('A_Diag', A_Diag,\n",
    "                  'A_Diag', A_Diag.subs(params).evalf(3))"
   ]
  },
  {
   "cell_type": "markdown",
   "metadata": {},
   "source": [
    "Deformation der Diagonalen"
   ]
  },
  {
   "cell_type": "code",
   "execution_count": 39,
   "metadata": {},
   "outputs": [
    {
     "data": {
      "text/latex": [
       "\\begin{equation}u_{k} = \\frac{4000 B \\left(1 + \\frac{H^{2}}{B^{2}}\\right)^{\\frac{3}{2}} \\text{N}}{\\pi E \\oslash_{Diag}^{2}}\\end{equation}"
      ],
      "text/plain": [
       "                    3/2       \n",
       "            ⎛     2⎞          \n",
       "            ⎜    H ⎟          \n",
       "     4000⋅B⋅⎜1 + ──⎟   ⋅newton\n",
       "            ⎜     2⎟          \n",
       "            ⎝    B ⎠          \n",
       "uₖ = ─────────────────────────\n",
       "                         2    \n",
       "         π⋅E⋅\\oslash_Diag     "
      ]
     },
     "metadata": {},
     "output_type": "display_data"
    },
    {
     "data": {
      "text/latex": [
       "\\begin{equation}u_{k} = 0.439 \\text{mm}\\end{equation}"
      ],
      "text/plain": [
       "uₖ = 0.439⋅millimeter"
      ]
     },
     "metadata": {},
     "output_type": "display_data"
    }
   ],
   "source": [
    "render.eq_display(\n",
    "                  'u_k', u_for_k,\n",
    "                  'u_k', u_for_k.subs(params).evalf(3))"
   ]
  },
  {
   "cell_type": "markdown",
   "metadata": {},
   "source": [
    "Steifigkeit des Systems:"
   ]
  },
  {
   "cell_type": "code",
   "execution_count": 40,
   "metadata": {},
   "outputs": [
    {
     "data": {
      "text/latex": [
       "\\begin{equation}k = \\frac{F}{u_{k}}\\end{equation}"
      ],
      "text/plain": [
       "    F \n",
       "k = ──\n",
       "    uₖ"
      ]
     },
     "metadata": {},
     "output_type": "display_data"
    },
    {
     "data": {
      "text/latex": [
       "\\begin{equation}k = \\frac{2.28 \\cdot 10^{3} \\text{N}}{\\text{mm}}\\end{equation}"
      ],
      "text/plain": [
       "    2.28e+3⋅newton\n",
       "k = ──────────────\n",
       "      millimeter  "
      ]
     },
     "metadata": {},
     "output_type": "display_data"
    }
   ],
   "source": [
    "render.eq_display('k', 'F/u_k',\n",
    "                  'k', k.subs(params).evalf(3))"
   ]
  },
  {
   "cell_type": "markdown",
   "metadata": {},
   "source": [
    "#### Eigenkreisfrequenz\n",
    "\n",
    "Aus der Systemsteifigkeit lässt sich leicht die Eigenkreisfrequenz bestimmen:\n",
    "\n",
    "$$\\omega_n =\\sqrt{\\frac{k}{m}}$$"
   ]
  },
  {
   "cell_type": "code",
   "execution_count": 41,
   "metadata": {},
   "outputs": [
    {
     "data": {
      "text/latex": [
       "\\begin{equation}\\omega_{n} = \\frac{\\sqrt{\\pi} \\sqrt{\\frac{E \\oslash_{Diag}^{2}}{B m_{tot} \\left(1 + \\frac{H^{2}}{B^{2}}\\right)^{\\frac{3}{2}}}}}{2}\\end{equation}"
      ],
      "text/plain": [
       "                  ____________________\n",
       "                 ╱                2   \n",
       "                ╱   E⋅\\oslash_Diag    \n",
       "     √π⋅       ╱   ────────────────── \n",
       "              ╱                   3/2 \n",
       "             ╱            ⎛     2⎞    \n",
       "            ╱             ⎜    H ⎟    \n",
       "           ╱       B⋅mₜₒₜ⋅⎜1 + ──⎟    \n",
       "          ╱               ⎜     2⎟    \n",
       "        ╲╱                ⎝    B ⎠    \n",
       "ωₙ = ─────────────────────────────────\n",
       "                     2                "
      ]
     },
     "metadata": {},
     "output_type": "display_data"
    },
    {
     "data": {
      "text/latex": [
       "\\begin{equation}\\omega_{n} = \\frac{21.4}{\\text{s}}\\end{equation}"
      ],
      "text/plain": [
       "      21.4 \n",
       "ωₙ = ──────\n",
       "     second"
      ]
     },
     "metadata": {},
     "output_type": "display_data"
    }
   ],
   "source": [
    "omega_n = sp.sqrt(k/m_tot)\n",
    "\n",
    "render.eq_display('omega_n', omega_n,\n",
    "                  'omega_n', omega_n.subs(params).simplify().evalf(3))"
   ]
  },
  {
   "cell_type": "markdown",
   "metadata": {},
   "source": [
    "#### Dynamischer Vergrösserungsfaktor\n",
    "\n",
    "##### Anregungsfunktion\n",
    "\n",
    "Zur Bestimmung des dynamischen Vergrösserungsfaktor wird die stationäre Verformung benötigt.  Diese lässt sich aus der Anfangskraft der Anregungsfunktion ermitteln. Dazu wird diese Funktion benötigt. Wir wissen die Drehzahl $n$ und die Exzentrizität $e$ sowie deren Masse $m_1$."
   ]
  },
  {
   "cell_type": "code",
   "execution_count": 42,
   "metadata": {},
   "outputs": [
    {
     "data": {
      "text/latex": [
       "\\begin{equation}f = n\\end{equation}"
      ],
      "text/plain": [
       "f = n"
      ]
     },
     "metadata": {},
     "output_type": "display_data"
    },
    {
     "data": {
      "text/latex": [
       "\\begin{equation}f = \\frac{2.5}{\\text{s}}\\end{equation}"
      ],
      "text/plain": [
       "     2.5  \n",
       "f = ──────\n",
       "    second"
      ]
     },
     "metadata": {},
     "output_type": "display_data"
    },
    {
     "data": {
      "text/latex": [
       "\\begin{equation}\\omega = 2 \\pi f\\end{equation}"
      ],
      "text/plain": [
       "ω = 2⋅π⋅f"
      ]
     },
     "metadata": {},
     "output_type": "display_data"
    },
    {
     "data": {
      "text/latex": [
       "\\begin{equation}\\omega = \\frac{15.7}{\\text{s}}\\end{equation}"
      ],
      "text/plain": [
       "     15.7 \n",
       "ω = ──────\n",
       "    second"
      ]
     },
     "metadata": {},
     "output_type": "display_data"
    }
   ],
   "source": [
    "f = unit.convert_to(n.subs(params),unit.second)\n",
    "omega = 2*sp.pi*f\n",
    "params['omega'] = omega.subs(params).simplify()\n",
    "\n",
    "render.eq_display('f', 'n',\n",
    "                  'f', f.evalf(3),\n",
    "                  'omega', '2*pi*f',\n",
    "                  'omega', omega.evalf(3),\n",
    "                  )"
   ]
  },
  {
   "cell_type": "markdown",
   "metadata": {},
   "source": [
    "Nun fehlt lediglich die Anfangskraft $F_0$. Die Fliehkraft $F$ der 2 gegenläufig rotierenden Massen bewirken eine addierende Fliehkraft in horizontaler Richtung zu:\n",
    "\n",
    "$$F_0 = 2(m_1 \\cdot e \\cdot \\omega^2)$$\n"
   ]
  },
  {
   "cell_type": "code",
   "execution_count": 43,
   "metadata": {},
   "outputs": [
    {
     "data": {
      "text/latex": [
       "\\begin{equation}F_{0} = \\frac{50 \\pi^{2} e m_{1}}{\\text{s}^{2}}\\end{equation}"
      ],
      "text/plain": [
       "         2     \n",
       "     50⋅π ⋅e⋅m₁\n",
       "F₀ = ──────────\n",
       "            2  \n",
       "      second   "
      ]
     },
     "metadata": {},
     "output_type": "display_data"
    },
    {
     "data": {
      "text/latex": [
       "\\begin{equation}F_{0} = 9.87 \\cdot 10^{3} \\text{N}\\end{equation}"
      ],
      "text/plain": [
       "F₀ = 9.87e+3⋅newton"
      ]
     },
     "metadata": {},
     "output_type": "display_data"
    }
   ],
   "source": [
    "F_0 = 2*(m_1*e*omega**2)\n",
    "params['F_0'] = F_0.subs(params).simplify()\n",
    "render.eq_display('F_0', F_0,\n",
    "                  'F_0', F_0.subs(params).simplify().evalf(3))"
   ]
  },
  {
   "cell_type": "markdown",
   "metadata": {},
   "source": [
    "##### Statische Deformation\n",
    "\n",
    "Die statische Deformation lässt sich nun leicht anhand der ermittelten Systemsteifigkeit herleiten."
   ]
  },
  {
   "cell_type": "code",
   "execution_count": 44,
   "metadata": {},
   "outputs": [
    {
     "data": {
      "text/latex": [
       "\\begin{equation}u_{0} = \\frac{F_{0}}{k}\\end{equation}"
      ],
      "text/plain": [
       "     F₀\n",
       "u₀ = ──\n",
       "     k "
      ]
     },
     "metadata": {},
     "output_type": "display_data"
    },
    {
     "data": {
      "text/latex": [
       "\\begin{equation}u_{0} = 4.33 \\text{mm}\\end{equation}"
      ],
      "text/plain": [
       "u₀ = 4.33⋅millimeter"
      ]
     },
     "metadata": {},
     "output_type": "display_data"
    }
   ],
   "source": [
    "u_0 = F_0/k\n",
    "\n",
    "render.eq_display(\n",
    "    'u_0', 'F_0/k',\n",
    "    'u_0', u_0.subs(params).simplify().evalf(3))"
   ]
  },
  {
   "cell_type": "markdown",
   "metadata": {},
   "source": [
    "##### Vergrösserungsfaktor"
   ]
  },
  {
   "cell_type": "code",
   "execution_count": 45,
   "metadata": {},
   "outputs": [
    {
     "data": {
      "text/latex": [
       "\\begin{equation}V{\\left(\\omega \\right)} = \\frac{1}{\\sqrt{\\frac{4 \\omega^{2} \\zeta_{}^{2}}{\\omega_{n}^{2}} + \\left(- \\frac{\\omega^{2}}{\\omega_{n}^{2}} + 1\\right)^{2}}}\\end{equation}"
      ],
      "text/plain": [
       "                      1               \n",
       "V(ω) = ───────────────────────────────\n",
       "              ________________________\n",
       "             ╱                      2 \n",
       "            ╱     2  2   ⎛    2    ⎞  \n",
       "           ╱   4⋅ω ⋅ζ    ⎜   ω     ⎟  \n",
       "          ╱    ─────── + ⎜- ─── + 1⎟  \n",
       "         ╱         2     ⎜    2    ⎟  \n",
       "       ╲╱        ωₙ      ⎝  ωₙ     ⎠  "
      ]
     },
     "metadata": {},
     "output_type": "display_data"
    },
    {
     "data": {
      "text/latex": [
       "\\begin{equation}V{\\left(\\omega \\right)} = 2.18\\end{equation}"
      ],
      "text/plain": [
       "V(ω) = 2.18"
      ]
     },
     "metadata": {},
     "output_type": "display_data"
    }
   ],
   "source": [
    "V_omega = 1/(sp.sqrt((1-(omega/omega_n)**2)**2 + (2*zeta*(omega/omega_n))**2))\n",
    "\n",
    "render.eq_display('V(omega)', '1/(sqrt((1-(omega/omega_n)**2)**2 + (2*zeta_*(omega/omega_n))**2))',\n",
    "                  'V(omega)', V_omega.subs(params).simplify().evalf(3))"
   ]
  },
  {
   "cell_type": "markdown",
   "metadata": {},
   "source": [
    "#### Stationäre Antwort\n",
    "\n",
    "Es handelt sich um einen ungedämpften Einmassenschwinger mit einer harmonischen Anregungsfunktion. Die Bewegungsgleichung ist die folgende:\n",
    "\n",
    "$$mu''(t)+ ku(t) = F(t)$$\n",
    "\n",
    "Dies ist eine inhomogene Differentialgleichung 2. Ordnung. Die Lösung dieser lässt sich in einen partikulären Anteil und in einen homogenen Anteil aufteilen. Der partikuläre Anteil entspricht der stationären Antwort. Der homogene Anteil nennt sich transienter Anteil. Wäre eine Dämpfung im System vorhanden, so startet der Schwungvorgang aus einer Kombination beider Teile. Aufgrund der Dämpfung verschwindet der stationäre Anteil und das System wird schlussendlich nur noch durch den transienten Anteil deformiert. \n",
    "\n",
    "Anhand des Vergrösserungsfaktor kann die stationäre dynamische Antwort des Systems mit der folgenden Beziehung ermittelt werden.\n",
    "\n",
    "$$u_p = V(\\omega)u_0 \\cdot \\cos{(\\omega t)}$$\n",
    "\n"
   ]
  },
  {
   "cell_type": "code",
   "execution_count": 46,
   "metadata": {},
   "outputs": [
    {
     "data": {
      "text/latex": [
       "\\begin{equation}u_{p} = 9.43 \\cos{\\left(\\frac{5 \\pi t}{\\text{s}} \\right)} \\text{mm}\\end{equation}"
      ],
      "text/plain": [
       "             ⎛5⋅π⋅t ⎞           \n",
       "uₚ = 9.43⋅cos⎜──────⎟⋅millimeter\n",
       "             ⎝second⎠           "
      ]
     },
     "metadata": {},
     "output_type": "display_data"
    }
   ],
   "source": [
    "u_p = V_omega * u_0 *sp.cos(omega *t)\n",
    "\n",
    "render.eq_display('u_p', u_p.subs(params).simplify().evalf(3))"
   ]
  },
  {
   "cell_type": "markdown",
   "metadata": {},
   "source": [
    "#### Gesamtantwort\n",
    "\n",
    "Für die Gesamtantwort wird nun noch der homogene Anteil benötigt. Dazu ist die folgende Differentialgleichung zu lösen.\n",
    "\n",
    "$$mu''(t)+ ku(t) = 0$$\n",
    "\n",
    "Als Ansatzfunktion dient die folgende Gleichung:\n",
    "\n",
    "$$u_h = A_1\\cos{(\\omega_n t)} + A_2 \\sin{(\\omega_n t)}$$\n",
    "\n",
    "\n",
    "Die Randbedingungen sind in der Aufgabenstellung definiert und sind die folgenden:\n",
    "\n",
    "$u(t=0)=0$\n",
    "\n",
    "$u'(t=0)=0$\n",
    "\n",
    "Vorsicht, die Randbedingungen gelten für die gesamte Lösung:\n",
    "\n",
    "$$u(t) = u_h(t) + u_p(t)$$"
   ]
  },
  {
   "cell_type": "code",
   "execution_count": 47,
   "metadata": {},
   "outputs": [
    {
     "data": {
      "image/png": "[encoded data removed]",
      "text/plain": [
       "<Figure size 590x300 with 1 Axes>"
      ]
     },
     "metadata": {},
     "output_type": "display_data"
    }
   ],
   "source": [
    "#| label: fig-gesamtantwort_ems4\n",
    "#| fig-cap: \"Antworten des Systems ohne Dämpfung\"\n",
    "\n",
    "\n",
    "A_1, A_2 = sp.symbols('A_1:3')\n",
    "\n",
    "u_h_ansatz = A_1 * sp.cos(omega_n*t)+A_2*sp.sin(omega_n*t)\n",
    "randbedingung_1 = (u_h_ansatz+u_p).subs(t,0)\n",
    "randbedingung_2 = sp.diff((u_h_ansatz+u_p),t).subs(t,0)\n",
    "\n",
    "A_solve = sp.solve([randbedingung_1, randbedingung_2], [A_1, A_2], dict=True)[0]\n",
    "\n",
    "\n",
    "u_h = u_h_ansatz.subs(A_solve)\n",
    "\n",
    "\n",
    "u_t = u_h+u_p\n",
    "\n",
    "u_t_plot = u_t.subs(params_plot).subs(unit.second, 1)\n",
    "u_p_plot = u_p.subs(params_plot).subs(unit.second, 1)\n",
    "u_h_plot = u_h.subs(params_plot).subs(unit.second, 1)\n",
    "\n",
    "p_1 = sp.plot(u_h_plot, (t,0,6), adaptive=False, nb_of_points=500, \n",
    "        xlabel='$t [s]$',\n",
    "        ylabel='$u(t)$ [m]',\n",
    "        size=(5.9,3),show=False,label='Transienter Anteil', legend=True, line_color='0.5')\n",
    "\n",
    "p_2 = sp.plot(u_p_plot, (t,0,6), adaptive=False, nb_of_points=500,show=False,label='Stationärer Anteil', line_color='0.8')\n",
    "\n",
    "p_3 = sp.plot(u_t_plot, (t,0,6), adaptive=False, nb_of_points=500,show=False,label='Gesamtantwort')\n",
    "\n",
    "\n",
    "p_1.append(p_2[0])\n",
    "p_1.append(p_3[0])\n",
    "\n",
    "p_1.show()"
   ]
  },
  {
   "cell_type": "markdown",
   "metadata": {},
   "source": [
    "#### Festigkeitsnachweis\n",
    "\n",
    "Aufgrund der maximalen Auslenkung, kann die maximale Normalkraft auf der Diagonalen bestimmt werden.\n",
    "\n",
    "##### Maximale Auslenkung\n",
    "\n",
    "Aus dem Plot in @fig-gesamtantwort_ems4 ist die maximale Auslenkung ersichtlich. Die Ermittlung des Zeitpunkts bei einer maximalen Auslenkung wird hier numerisch gelöst."
   ]
  },
  {
   "cell_type": "code",
   "execution_count": 48,
   "metadata": {},
   "outputs": [
    {
     "data": {
      "text/latex": [
       "\\begin{equation}t_{max} = 2.8 \\text{s}\\end{equation}"
      ],
      "text/plain": [
       "tₘₐₓ = 2.8⋅second"
      ]
     },
     "metadata": {},
     "output_type": "display_data"
    },
    {
     "data": {
      "text/latex": [
       "\\begin{equation}u_{max} = 0.0188 \\text{m}\\end{equation}"
      ],
      "text/plain": [
       "uₘₐₓ = 0.0188⋅meter"
      ]
     },
     "metadata": {},
     "output_type": "display_data"
    }
   ],
   "source": [
    "t_max_auslenkung = sp.nsolve(sp.diff(u_t_plot,t), t,(2.6,2.8))\n",
    "\n",
    "u_max = u_t_plot.subs(t,t_max_auslenkung)\n",
    "\n",
    "\n",
    "render.eq_display('t_max', (t_max_auslenkung*unit.second).evalf(3),\n",
    "                  'u_max', (u_max*unit.m).evalf(3))"
   ]
  },
  {
   "cell_type": "markdown",
   "metadata": {},
   "source": [
    "##### Maximale Einwirkung\n",
    "\n",
    "Aufgrund der maximalen Amplitude verlängert sich die Diagonale um $\\Delta l = u_{max}$. Die Dehnung des Stabs ist somit die $\\frac{\\Delta l}{l_{Diag}}$. Bei linear elastischem Materialverhalten gilt die folgende Beziehung:\n",
    "\n",
    "$$\\sigma = \\varepsilon E$$"
   ]
  },
  {
   "cell_type": "code",
   "execution_count": 49,
   "metadata": {},
   "outputs": [
    {
     "data": {
      "text/latex": [
       "\\begin{equation}\\varepsilon = 0.00314\\end{equation}"
      ],
      "text/plain": [
       "varepsilon = 0.00314"
      ]
     },
     "metadata": {},
     "output_type": "display_data"
    },
    {
     "data": {
      "text/latex": [
       "\\begin{equation}\\sigma = \\frac{659.0 \\text{N}}{\\text{mm}^{2}}\\end{equation}"
      ],
      "text/plain": [
       "    659.0⋅newton\n",
       "σ = ────────────\n",
       "              2 \n",
       "    millimeter  "
      ]
     },
     "metadata": {},
     "output_type": "display_data"
    },
    {
     "data": {
      "text/latex": [
       "\\begin{equation}f_{yd} = \\frac{338 \\text{N}}{\\text{mm}^{2}}\\end{equation}"
      ],
      "text/plain": [
       "        338⋅newton\n",
       "f_yd = ───────────\n",
       "                 2\n",
       "       millimeter "
      ]
     },
     "metadata": {},
     "output_type": "display_data"
    },
    {
     "data": {
      "text/latex": [
       "\\begin{equation}Nachweis = \\frac{\\sigma}{f_{yd}}\\end{equation}"
      ],
      "text/plain": [
       "            σ  \n",
       "Nachweis = ────\n",
       "           f_yd"
      ]
     },
     "metadata": {},
     "output_type": "display_data"
    },
    {
     "data": {
      "text/latex": [
       "\\begin{equation}Nachweis = 1.95\\end{equation}"
      ],
      "text/plain": [
       "Nachweis = 1.95"
      ]
     },
     "metadata": {},
     "output_type": "display_data"
    }
   ],
   "source": [
    "epsilon = u_max*unit.m / sp.cos(alpha) / l_Diag\n",
    "sigma = epsilon*E\n",
    "\n",
    "Nachweis = sigma / f_yd\n",
    "\n",
    "render.eq_display('varepsilon', epsilon.subs(params).simplify().evalf(3),\n",
    "                  'sigma', unit.convert_to(sigma.subs(params).simplify().evalf(3), unit.mm**2),\n",
    "                  'f_yd', f_yd.subs(params),\n",
    "                  'Nachweis', 'sigma / f_yd',\n",
    "                  'Nachweis', Nachweis.subs(params).simplify().evalf(3))"
   ]
  },
  {
   "cell_type": "markdown",
   "metadata": {},
   "source": [
    "Die Diagonale würde plastifizieren, so dass die linearen Annahmen für die Berechnung der Systemantwort nicht angewendet werden dürfen."
   ]
  },
  {
   "cell_type": "markdown",
   "metadata": {},
   "source": [
    "{{< pagebreak >}}\n",
    "\n",
    "## Beispiel: Gesamtantwort mit Dämpfung\n",
    "Das System in @fig-system5 entspricht dem System in @fig-system_maschine. Ergänzt wurde dies mit einem Dämpfungselement.\n",
    "\n",
    "![Statisches System](bilder/ems_5.jpg){#fig-system5}\n",
    "\n",
    "Gesucht:\n",
    "\n",
    "- Dynamischer Vergrösserungsfaktor $V(\\omega)$\n",
    "- Stationäre Amplitude\n",
    "- Festigkeitsnachweis der Diagonalen\n",
    "\n",
    "Gegeben:\n",
    "\n",
    "- Gesamtmasse inkl. rotierende Massen $m_{tot} = 5t$\n",
    "- Rotierende Massen in Werkzeugmaschine $m_1 = 0.2 t$\n",
    "- Drehzahl Werkzeugmaschine $n = 150/\\text{min}$\n",
    "- Exzentrizität der rotierenden Massen $e =0.1\\text{m}$\n",
    "- Dämpfungsrate $\\zeta = 0$\n",
    "- Punktmasse $m=1t$\n",
    "- Dämpfungsrate $\\zeta = 0.005$\n",
    "- Alle Stäbe ausser Diagonalen $E\\cdot A = \\infty$\n",
    "- Alle Stäbe S355 \n",
    "\n"
   ]
  },
  {
   "cell_type": "markdown",
   "metadata": {},
   "source": [
    "{{< pagebreak >}}\n",
    "\n",
    "### Musterlösung"
   ]
  },
  {
   "cell_type": "code",
   "execution_count": 50,
   "metadata": {},
   "outputs": [
    {
     "data": {
      "text/markdown": [
       "| Parameter | - |\n",
       "|---|---|\n",
       "| $m_{tot} = \\frac{5000 \\text{N} \\text{s}^{2}}{\\text{m}}$ | $E = \\frac{210000 \\text{N}}{\\text{mm}^{2}}$ |\n",
       "| $H = 4000 \\text{mm}$ | $B = 6000 \\text{mm}$ |\n",
       "| $\\oslash_{Diag} = 12 \\text{mm}$ | $f_{yd} = \\frac{338 \\text{N}}{\\text{mm}^{2}}$ |\n",
       "| $m_{1} = \\frac{200 \\text{N} \\text{s}^{2}}{\\text{m}}$ | $n = \\frac{150}{\\text{minute}}$ |\n",
       "| $e = 0.1 \\text{m}$ | $\\zeta = 0.2$ |\n"
      ],
      "text/plain": [
       "<IPython.core.display.Markdown object>"
      ]
     },
     "metadata": {},
     "output_type": "display_data"
    }
   ],
   "source": [
    "#| label: tbl-parameter_gesamt_dampf\n",
    "#| tbl-cap: Verwendete Parameter\n",
    "\n",
    "params = {              \n",
    "          'm_tot':5000*unit.N*unit.second**2/unit.m, \n",
    "          'E':210*10**3*unit.N/unit.mm**2,\n",
    "          'H':4000*unit.mm,\n",
    "          'B':6000*unit.mm,\n",
    "          '\\oslash_Diag':12*unit.mm,\n",
    "          'f_yd':338*unit.N/unit.mm**2,\n",
    "          'm_1':200*unit.N*unit.second**2/unit.m,\n",
    "          'n':150/unit.minute,\n",
    "          'e':0.1*unit.m,\n",
    "          'zeta':0.2,\n",
    "          }\n",
    "\n",
    "params_plot = convert.param_value(params=params)\n",
    "\n",
    "render.dict_to_table(params)"
   ]
  },
  {
   "cell_type": "code",
   "execution_count": 51,
   "metadata": {},
   "outputs": [],
   "source": [
    "m_tot, E, H, B, Diam, f_yd, m_1, n, e = sp.symbols('m_tot, E, H, B, \\oslash_Diag, f_yd, m_1, n, e')\n",
    "\n",
    "F_0, omega, t, zeta = sp.symbols('F_0, omega, t, zeta')"
   ]
  },
  {
   "cell_type": "code",
   "execution_count": 52,
   "metadata": {},
   "outputs": [],
   "source": [
    "F_t = F_0 * sp.cos(omega*t)\n",
    "\n"
   ]
  },
  {
   "cell_type": "markdown",
   "metadata": {},
   "source": [
    "#### Systemsteifigkeit\n",
    "\n",
    "Zur Ermittlung der Eigenkreisfrequenz wird die Steifigkeit des gesamten Systems benötigt.\n",
    "\n",
    "![Verformungszustand des Systems für die Einheitskraft](bilder/auslenkunf_FW.jpg){#fig-verform_FW}\n",
    "\n",
    "Das System wird mit einer Einheitskraft belastet. Aufgrund der Eigenschaften der Pendelstäbe (lediglich Normalkräfte) und deren unendlich grossen Dehnsteifigkeit, spielt lediglich die Verformung der Diagonalen eine Rolle. Dazu gilt, dass die Diagonalen nur Zugkräfte aufnehmen können. Das bedeutet, dass letztlich ein Stab aktiv ist für die beschrieben Situation in @fig-verform_FW.\n",
    "\n",
    "Dazu muss die Normalkraft in der Diagonalen bestimmt werden."
   ]
  },
  {
   "cell_type": "code",
   "execution_count": 53,
   "metadata": {},
   "outputs": [
    {
     "data": {
      "text/latex": [
       "\\begin{equation}\\alpha = \\operatorname{atan}{\\left(\\frac{H}{B} \\right)}\\end{equation}"
      ],
      "text/plain": [
       "        ⎛H⎞\n",
       "α = atan⎜─⎟\n",
       "        ⎝B⎠"
      ]
     },
     "metadata": {},
     "output_type": "display_data"
    },
    {
     "data": {
      "text/latex": [
       "\\begin{equation}\\alpha = 0.588\\end{equation}"
      ],
      "text/plain": [
       "α = 0.588"
      ]
     },
     "metadata": {},
     "output_type": "display_data"
    },
    {
     "data": {
      "text/latex": [
       "\\begin{equation}Z_{Diag} = 1000 \\sqrt{1 + \\frac{H^{2}}{B^{2}}} \\text{N}\\end{equation}"
      ],
      "text/plain": [
       "                    ________       \n",
       "                   ╱      2        \n",
       "                  ╱      H         \n",
       "Z_Diag = 1000⋅   ╱   1 + ── ⋅newton\n",
       "                ╱         2        \n",
       "              ╲╱         B         "
      ]
     },
     "metadata": {},
     "output_type": "display_data"
    },
    {
     "data": {
      "text/latex": [
       "\\begin{equation}Z_{Diag} = 1.2 \\cdot 10^{3} \\text{N}\\end{equation}"
      ],
      "text/plain": [
       "Z_Diag = 1.2e+3⋅newton"
      ]
     },
     "metadata": {},
     "output_type": "display_data"
    }
   ],
   "source": [
    "alpha = sp.atan(H/B)\n",
    "\n",
    "Z_Diag = 1000*unit.N /sp.cos(alpha)\n",
    "\n",
    "\n",
    "render.eq_display('alpha', alpha,\n",
    "                  'alpha', alpha.subs(params).evalf(3),\n",
    "                  'Z_Diag', Z_Diag,\n",
    "                  'Z_Diag',Z_Diag.subs(params).evalf(3))"
   ]
  },
  {
   "cell_type": "markdown",
   "metadata": {},
   "source": [
    "Mittels der Arbeitsgleichung lässt sich die Verformung bestimmen. Für die Integration zweier Normalkraftverläufe gilt die folgende Beziehung:\n",
    "\n",
    "$$u = \\frac{1}{EA_{Diag}}  \\int_{0}^{l_{Diag}} N_x\\bar{N_x} \\,dx$$\n",
    "\n",
    "Länge der Diagonalen:"
   ]
  },
  {
   "cell_type": "code",
   "execution_count": 54,
   "metadata": {},
   "outputs": [
    {
     "data": {
      "text/latex": [
       "\\begin{equation}l_{Diag} = B \\sqrt{1 + \\frac{H^{2}}{B^{2}}}\\end{equation}"
      ],
      "text/plain": [
       "                 ________\n",
       "                ╱      2 \n",
       "               ╱      H  \n",
       "l_Diag = B⋅   ╱   1 + ── \n",
       "             ╱         2 \n",
       "           ╲╱         B  "
      ]
     },
     "metadata": {},
     "output_type": "display_data"
    },
    {
     "data": {
      "text/latex": [
       "\\begin{equation}l_{Diag} = 7.21 \\text{m}\\end{equation}"
      ],
      "text/plain": [
       "l_Diag = 7.21⋅meter"
      ]
     },
     "metadata": {},
     "output_type": "display_data"
    }
   ],
   "source": [
    "l_Diag = B /sp.cos(alpha)\n",
    "A_Diag = sp.pi * Diam**2 / 4\n",
    "u_for_k = 1/(E*A_Diag) * Z_Diag * Z_Diag/(1000*unit.N) * l_Diag\n",
    "\n",
    "k = 1000*unit.N / u_for_k\n",
    "render.eq_display('l_Diag', l_Diag,\n",
    "                  'l_Diag', unit.convert_to(l_Diag.subs(params).evalf(3), unit.m),)"
   ]
  },
  {
   "cell_type": "markdown",
   "metadata": {},
   "source": [
    "Querschnittsfläche der Diagonalen:"
   ]
  },
  {
   "cell_type": "code",
   "execution_count": 55,
   "metadata": {},
   "outputs": [
    {
     "data": {
      "text/latex": [
       "\\begin{equation}A_{Diag} = \\frac{\\pi \\oslash_{Diag}^{2}}{4}\\end{equation}"
      ],
      "text/plain": [
       "                       2\n",
       "         π⋅\\oslash_Diag \n",
       "A_Diag = ───────────────\n",
       "                4       "
      ]
     },
     "metadata": {},
     "output_type": "display_data"
    },
    {
     "data": {
      "text/latex": [
       "\\begin{equation}A_{Diag} = 113.0 \\text{mm}^{2}\\end{equation}"
      ],
      "text/plain": [
       "                         2\n",
       "A_Diag = 113.0⋅millimeter "
      ]
     },
     "metadata": {},
     "output_type": "display_data"
    }
   ],
   "source": [
    "render.eq_display('A_Diag', A_Diag,\n",
    "                  'A_Diag', A_Diag.subs(params).evalf(3))"
   ]
  },
  {
   "cell_type": "markdown",
   "metadata": {},
   "source": [
    "Deformation der Diagonalen"
   ]
  },
  {
   "cell_type": "code",
   "execution_count": 56,
   "metadata": {},
   "outputs": [
    {
     "data": {
      "text/latex": [
       "\\begin{equation}u_{k} = \\frac{4000 B \\left(1 + \\frac{H^{2}}{B^{2}}\\right)^{\\frac{3}{2}} \\text{N}}{\\pi E \\oslash_{Diag}^{2}}\\end{equation}"
      ],
      "text/plain": [
       "                    3/2       \n",
       "            ⎛     2⎞          \n",
       "            ⎜    H ⎟          \n",
       "     4000⋅B⋅⎜1 + ──⎟   ⋅newton\n",
       "            ⎜     2⎟          \n",
       "            ⎝    B ⎠          \n",
       "uₖ = ─────────────────────────\n",
       "                         2    \n",
       "         π⋅E⋅\\oslash_Diag     "
      ]
     },
     "metadata": {},
     "output_type": "display_data"
    },
    {
     "data": {
      "text/latex": [
       "\\begin{equation}u_{k} = 0.439 \\text{mm}\\end{equation}"
      ],
      "text/plain": [
       "uₖ = 0.439⋅millimeter"
      ]
     },
     "metadata": {},
     "output_type": "display_data"
    }
   ],
   "source": [
    "render.eq_display(\n",
    "                  'u_k', u_for_k,\n",
    "                  'u_k', u_for_k.subs(params).evalf(3))"
   ]
  },
  {
   "cell_type": "markdown",
   "metadata": {},
   "source": [
    "Steifigkeit des Systems:"
   ]
  },
  {
   "cell_type": "code",
   "execution_count": 57,
   "metadata": {},
   "outputs": [
    {
     "data": {
      "text/latex": [
       "\\begin{equation}k = \\frac{F}{u_{k}}\\end{equation}"
      ],
      "text/plain": [
       "    F \n",
       "k = ──\n",
       "    uₖ"
      ]
     },
     "metadata": {},
     "output_type": "display_data"
    },
    {
     "data": {
      "text/latex": [
       "\\begin{equation}k = \\frac{2.28 \\cdot 10^{3} \\text{N}}{\\text{mm}}\\end{equation}"
      ],
      "text/plain": [
       "    2.28e+3⋅newton\n",
       "k = ──────────────\n",
       "      millimeter  "
      ]
     },
     "metadata": {},
     "output_type": "display_data"
    }
   ],
   "source": [
    "render.eq_display('k', 'F/u_k',\n",
    "                  'k', k.subs(params).evalf(3))"
   ]
  },
  {
   "cell_type": "markdown",
   "metadata": {},
   "source": [
    "#### Eigenkreisfrequenz\n",
    "\n",
    "Aus der Systemsteifigkeit lässt sich leicht die Eigenkreisfrequenz bestimmen:\n",
    "\n",
    "$$\\omega_n =\\sqrt{\\frac{k}{m}}$$"
   ]
  },
  {
   "cell_type": "code",
   "execution_count": 58,
   "metadata": {},
   "outputs": [
    {
     "data": {
      "text/latex": [
       "\\begin{equation}\\omega_{n} = \\frac{\\sqrt{\\pi} \\sqrt{\\frac{E \\oslash_{Diag}^{2}}{B m_{tot} \\left(1 + \\frac{H^{2}}{B^{2}}\\right)^{\\frac{3}{2}}}}}{2}\\end{equation}"
      ],
      "text/plain": [
       "                  ____________________\n",
       "                 ╱                2   \n",
       "                ╱   E⋅\\oslash_Diag    \n",
       "     √π⋅       ╱   ────────────────── \n",
       "              ╱                   3/2 \n",
       "             ╱            ⎛     2⎞    \n",
       "            ╱             ⎜    H ⎟    \n",
       "           ╱       B⋅mₜₒₜ⋅⎜1 + ──⎟    \n",
       "          ╱               ⎜     2⎟    \n",
       "        ╲╱                ⎝    B ⎠    \n",
       "ωₙ = ─────────────────────────────────\n",
       "                     2                "
      ]
     },
     "metadata": {},
     "output_type": "display_data"
    },
    {
     "data": {
      "text/latex": [
       "\\begin{equation}\\omega_{n} = \\frac{21.4}{\\text{s}}\\end{equation}"
      ],
      "text/plain": [
       "      21.4 \n",
       "ωₙ = ──────\n",
       "     second"
      ]
     },
     "metadata": {},
     "output_type": "display_data"
    }
   ],
   "source": [
    "omega_n = sp.sqrt(k/m_tot)\n",
    "\n",
    "render.eq_display('omega_n', omega_n,\n",
    "                  'omega_n', omega_n.subs(params).simplify().evalf(3))"
   ]
  },
  {
   "cell_type": "markdown",
   "metadata": {},
   "source": [
    "#### Dynamischer Vergrösserungsfaktor\n",
    "\n",
    "##### Anregungsfunktion\n",
    "\n",
    "Zur Bestimmung des dynamischen Vergrösserungsfaktor wird die stationäre Verformung benötigt.  Diese lässt sich aus der Anfangskraft der Anregungsfunktion ermitteln. Dazu wird diese Funktion benötigt. Wir wissen die Drehzahl $n$ und die Exzentrizität $e$ sowie deren Masse $m_1$."
   ]
  },
  {
   "cell_type": "code",
   "execution_count": 59,
   "metadata": {},
   "outputs": [
    {
     "data": {
      "text/latex": [
       "\\begin{equation}f = n\\end{equation}"
      ],
      "text/plain": [
       "f = n"
      ]
     },
     "metadata": {},
     "output_type": "display_data"
    },
    {
     "data": {
      "text/latex": [
       "\\begin{equation}f = \\frac{2.5}{\\text{s}}\\end{equation}"
      ],
      "text/plain": [
       "     2.5  \n",
       "f = ──────\n",
       "    second"
      ]
     },
     "metadata": {},
     "output_type": "display_data"
    },
    {
     "data": {
      "text/latex": [
       "\\begin{equation}\\omega = 2 \\pi f\\end{equation}"
      ],
      "text/plain": [
       "ω = 2⋅π⋅f"
      ]
     },
     "metadata": {},
     "output_type": "display_data"
    },
    {
     "data": {
      "text/latex": [
       "\\begin{equation}\\omega = \\frac{15.7}{\\text{s}}\\end{equation}"
      ],
      "text/plain": [
       "     15.7 \n",
       "ω = ──────\n",
       "    second"
      ]
     },
     "metadata": {},
     "output_type": "display_data"
    }
   ],
   "source": [
    "f = unit.convert_to(n.subs(params),unit.second)\n",
    "omega = 2*sp.pi*f\n",
    "params['omega'] = omega.subs(params).simplify()\n",
    "\n",
    "render.eq_display('f', 'n',\n",
    "                  'f', f.evalf(3),\n",
    "                  'omega', '2*pi*f',\n",
    "                  'omega', omega.evalf(3),\n",
    "                  )"
   ]
  },
  {
   "cell_type": "markdown",
   "metadata": {},
   "source": [
    "Nun fehlt lediglich die Anfangskraft $F_0$. Die Fliehkraft $F$ der 2 gegenläufig rotierenden Massen bewirken eine addierende Fliehkraft in horizontaler Richtung zu:\n",
    "\n",
    "$$F_0 = 2(m_1 \\cdot e \\cdot \\omega^2)$$\n"
   ]
  },
  {
   "cell_type": "code",
   "execution_count": 60,
   "metadata": {},
   "outputs": [
    {
     "data": {
      "text/latex": [
       "\\begin{equation}F_{0} = \\frac{50 \\pi^{2} e m_{1}}{\\text{s}^{2}}\\end{equation}"
      ],
      "text/plain": [
       "         2     \n",
       "     50⋅π ⋅e⋅m₁\n",
       "F₀ = ──────────\n",
       "            2  \n",
       "      second   "
      ]
     },
     "metadata": {},
     "output_type": "display_data"
    },
    {
     "data": {
      "text/latex": [
       "\\begin{equation}F_{0} = 9.87 \\cdot 10^{3} \\text{N}\\end{equation}"
      ],
      "text/plain": [
       "F₀ = 9.87e+3⋅newton"
      ]
     },
     "metadata": {},
     "output_type": "display_data"
    }
   ],
   "source": [
    "F_0 = 2*(m_1*e*omega**2)\n",
    "params['F_0'] = F_0.subs(params).simplify()\n",
    "render.eq_display('F_0', F_0,\n",
    "                  'F_0', F_0.subs(params).simplify().evalf(3))"
   ]
  },
  {
   "cell_type": "markdown",
   "metadata": {},
   "source": [
    "##### Statische Deformation\n",
    "\n",
    "Die statische Deformation lässt sich nun leicht anhand der ermittelten Systemsteifigkeit herleiten."
   ]
  },
  {
   "cell_type": "code",
   "execution_count": 61,
   "metadata": {},
   "outputs": [
    {
     "data": {
      "text/latex": [
       "\\begin{equation}u_{0} = 4.33 \\text{mm}\\end{equation}"
      ],
      "text/plain": [
       "u₀ = 4.33⋅millimeter"
      ]
     },
     "metadata": {},
     "output_type": "display_data"
    }
   ],
   "source": [
    "u_0 = F_0/k\n",
    "\n",
    "render.eq_display('u_0', u_0.subs(params).simplify().evalf(3))"
   ]
  },
  {
   "cell_type": "markdown",
   "metadata": {},
   "source": [
    "##### Vergrösserungsfaktor"
   ]
  },
  {
   "cell_type": "code",
   "execution_count": 62,
   "metadata": {},
   "outputs": [
    {
     "data": {
      "text/latex": [
       "\\begin{equation}V{\\left(\\omega \\right)} = \\frac{1}{\\sqrt{\\frac{4 \\omega^{2} \\zeta_{}^{2}}{\\omega_{n}^{2}} + \\left(- \\frac{\\omega^{2}}{\\omega_{n}^{2}} + 1\\right)^{2}}}\\end{equation}"
      ],
      "text/plain": [
       "                      1               \n",
       "V(ω) = ───────────────────────────────\n",
       "              ________________________\n",
       "             ╱                      2 \n",
       "            ╱     2  2   ⎛    2    ⎞  \n",
       "           ╱   4⋅ω ⋅ζ    ⎜   ω     ⎟  \n",
       "          ╱    ─────── + ⎜- ─── + 1⎟  \n",
       "         ╱         2     ⎜    2    ⎟  \n",
       "       ╲╱        ωₙ      ⎝  ωₙ     ⎠  "
      ]
     },
     "metadata": {},
     "output_type": "display_data"
    },
    {
     "data": {
      "text/latex": [
       "\\begin{equation}V{\\left(\\omega \\right)} = 1.83\\end{equation}"
      ],
      "text/plain": [
       "V(ω) = 1.83"
      ]
     },
     "metadata": {},
     "output_type": "display_data"
    }
   ],
   "source": [
    "V_omega = 1/(sp.sqrt((1-(omega/omega_n)**2)**2 + (2*zeta*(omega/omega_n))**2))\n",
    "\n",
    "render.eq_display('V(omega)', '1/(sqrt((1-(omega/omega_n)**2)**2 + (2*zeta_*(omega/omega_n))**2))',\n",
    "                  'V(omega)', V_omega.subs(params).simplify().evalf(3))"
   ]
  },
  {
   "cell_type": "markdown",
   "metadata": {},
   "source": [
    "#### Stationäre Antwort\n",
    "\n",
    "Es handelt sich um einen gedämpften Einmassenschwinger mit einer harmonischen Anregungsfunktion. Die Bewegungsgleichung ist die folgende:\n",
    "\n",
    "$$mu''(t)+ cu'(t) + ku(t) = F(t)$$\n",
    "\n",
    "Dies ist eine inhomogene Differentialgleichung 2. Ordnung. Die Lösung dieser lässt sich in einen partikulären Anteil und in einen homogenen Anteil aufteilen. Der partikuläre Anteil entspricht der stationären Antwort. Der homogene Anteil nennt sich transienter Anteil. \n",
    "\n",
    "Anhand des Vergrösserungsfaktor kann die stationäre dynamische Antwort des Systems mit der folgenden Beziehung ermittelt werden.\n",
    "\n",
    "$$u_p = V(\\omega)u_0 * \\cos{(\\omega t)}$$\n",
    "\n"
   ]
  },
  {
   "cell_type": "code",
   "execution_count": 63,
   "metadata": {},
   "outputs": [
    {
     "data": {
      "text/latex": [
       "\\begin{equation}u_{p} = 0.00793 \\cos{\\left(\\frac{5 \\pi t}{\\text{s}} \\right)} \\text{m}\\end{equation}"
      ],
      "text/plain": [
       "                ⎛5⋅π⋅t ⎞      \n",
       "uₚ = 0.00793⋅cos⎜──────⎟⋅meter\n",
       "                ⎝second⎠      "
      ]
     },
     "metadata": {},
     "output_type": "display_data"
    }
   ],
   "source": [
    "u_p = V_omega * u_0 *sp.cos(omega *t)\n",
    "\n",
    "render.eq_display('u_p', u_p.subs(params).simplify().evalf(3))"
   ]
  },
  {
   "cell_type": "markdown",
   "metadata": {},
   "source": [
    "#### Gesamtantwort\n",
    "\n",
    "Für die Gesamtantwort wird nun noch der homogene Anteil benötigt. Dazu ist die folgende Differentialgleichung zu lösen.\n",
    "\n",
    "$$mu''(t)+ cu'(t) + ku(t) = 0$$\n",
    "\n",
    "Als Ansatzfunktion dient die folgende Gleichung:\n",
    "\n",
    "$$u_h = e^{-\\zeta \\omega_n t} (A_1\\cos{(\\omega_d t)} + A_2 \\sin{(\\omega_d t)})$$\n",
    "\n",
    "\n",
    "Die Randbedingungen sind in der Aufgabenstellung definiert und sind die folgenden:\n",
    "\n",
    "$u(t=0)=0$\n",
    "\n",
    "$u'(t=0)=0$\n",
    "\n",
    "Vorsicht, die Randbedingungen gelten für die gesamte Lösung:\n",
    "\n",
    "$$u(t) = u_h(t) + u_p(t)$$"
   ]
  },
  {
   "cell_type": "markdown",
   "metadata": {},
   "source": [
    "##### Gedämpfte Eigenkreisfrequenz"
   ]
  },
  {
   "cell_type": "code",
   "execution_count": 64,
   "metadata": {},
   "outputs": [
    {
     "data": {
      "text/latex": [
       "\\begin{equation}\\omega_{d} = \\omega_{n} \\sqrt{1 - \\zeta_{}^{2}}\\end{equation}"
      ],
      "text/plain": [
       "            ________\n",
       "           ╱      2 \n",
       "ω_d = ωₙ⋅╲╱  1 - ζ  "
      ]
     },
     "metadata": {},
     "output_type": "display_data"
    },
    {
     "data": {
      "text/latex": [
       "\\begin{equation}\\omega_{d} = \\frac{20.9}{\\text{s}}\\end{equation}"
      ],
      "text/plain": [
       "       20.9 \n",
       "ω_d = ──────\n",
       "      second"
      ]
     },
     "metadata": {},
     "output_type": "display_data"
    }
   ],
   "source": [
    "omega_d = omega_n * sp.sqrt(1-zeta**2)\n",
    "\n",
    "render.eq_display('omega_d', 'omega_n *sqrt(1-zeta_**2)',\n",
    "                  'omega_d', omega_d.subs(params).simplify().evalf(3))"
   ]
  },
  {
   "cell_type": "code",
   "execution_count": 65,
   "metadata": {},
   "outputs": [
    {
     "data": {
      "image/png": "[encoded data removed]",
      "text/plain": [
       "<Figure size 590x300 with 1 Axes>"
      ]
     },
     "metadata": {},
     "output_type": "display_data"
    }
   ],
   "source": [
    "#| label: fig-gesamtantwort_ems5\n",
    "#| fig-cap: \"Gesamtantwort des Systems\"\n",
    "\n",
    "\n",
    "A_1, A_2 = sp.symbols('A_1:3')\n",
    "\n",
    "u_h_ansatz = sp.exp(-zeta*omega_n*t)*(A_1 * sp.cos(omega_d*t)+A_2*sp.sin(omega_d*t))\n",
    "randbedingung_1 = (u_h_ansatz+u_p).subs(t,0)\n",
    "randbedingung_2 = sp.diff((u_h_ansatz+u_p),t).subs(t,0)\n",
    "\n",
    "A_solve = sp.solve([randbedingung_1, randbedingung_2], [A_1, A_2], dict=True)[0]\n",
    "\n",
    "\n",
    "u_h = u_h_ansatz.subs(A_solve)\n",
    "\n",
    "\n",
    "u_t = u_h + u_p\n",
    "\n",
    "u_t_plot = u_t.subs(params_plot).subs(unit.second, 1)\n",
    "u_p_plot = u_p.subs(params_plot).subs(unit.second, 1)\n",
    "u_h_plot = u_h.subs(params_plot).subs(unit.second, 1)\n",
    "\n",
    "p_1 = sp.plot(u_h_plot, (t,0,6), adaptive=False, nb_of_points=500, \n",
    "        xlabel='$t [s]$',\n",
    "        ylabel='$u(t)$ [m]',\n",
    "        size=(5.9,3),show=False,label='Transienter Anteil', legend=True, line_color='0.5')\n",
    "\n",
    "p_2 = sp.plot(u_p_plot, (t,0,6), adaptive=False, nb_of_points=500,show=False,label='Stationärer Anteil', line_color='0.8')\n",
    "\n",
    "p_3 = sp.plot(u_t_plot, (t,0,6), adaptive=False, nb_of_points=500,show=False,label='Gesamtantwort')\n",
    "\n",
    "p_1.append(p_2[0])\n",
    "p_1.append(p_3[0])\n",
    "\n",
    "p_1.show()"
   ]
  },
  {
   "cell_type": "markdown",
   "metadata": {},
   "source": [
    "#### Festigkeitsnachweis\n",
    "\n",
    "Aufgrund der maximalen Auslenkung, kann die maximale Normalkraft auf der Diagonalen bestimmt werden.\n",
    "\n",
    "##### Maximale Auslenkung\n",
    "\n",
    "Aus dem Plot in @fig-gesamtantwort_ems5 ist die maximale Auslenkung ersichtlich. Die Ermittlung des Zeitpunkts bei einer maximalen Auslenkung wird hier numerisch gelöst."
   ]
  },
  {
   "cell_type": "code",
   "execution_count": 66,
   "metadata": {},
   "outputs": [
    {
     "data": {
      "text/latex": [
       "\\begin{equation}t_{max} = 0.41 \\text{s}\\end{equation}"
      ],
      "text/plain": [
       "tₘₐₓ = 0.41⋅second"
      ]
     },
     "metadata": {},
     "output_type": "display_data"
    },
    {
     "data": {
      "text/latex": [
       "\\begin{equation}u_{max} = 0.00855 \\text{m}\\end{equation}"
      ],
      "text/plain": [
       "uₘₐₓ = 0.00855⋅meter"
      ]
     },
     "metadata": {},
     "output_type": "display_data"
    }
   ],
   "source": [
    "t_max_auslenkung = sp.nsolve(sp.diff(u_t_plot,t), t,(0.3,0.5))\n",
    "\n",
    "u_max = u_t_plot.subs(t,t_max_auslenkung)\n",
    "\n",
    "\n",
    "render.eq_display('t_max', (t_max_auslenkung*unit.second).evalf(2),\n",
    "                  'u_max', u_max.evalf(3)*unit.m)"
   ]
  },
  {
   "cell_type": "markdown",
   "metadata": {},
   "source": [
    "##### Maximale Einwirkung\n",
    "\n",
    "Aufgrund der maximalen Amplitude verlängert sich die Diagonale um $\\Delta l=u_{max}$. Die Dehnung des Stabs ist somit die $\\frac{\\Delta l}{l_{Diag}}$. Bei linear elastischem Materialverhalten gilt die folgende Beziehung:\n",
    "\n",
    "$$\\sigma = \\varepsilon E$$"
   ]
  },
  {
   "cell_type": "code",
   "execution_count": 67,
   "metadata": {},
   "outputs": [
    {
     "data": {
      "text/latex": [
       "\\begin{equation}\\varepsilon = 0.00142\\end{equation}"
      ],
      "text/plain": [
       "varepsilon = 0.00142"
      ]
     },
     "metadata": {},
     "output_type": "display_data"
    },
    {
     "data": {
      "text/latex": [
       "\\begin{equation}\\sigma = \\frac{299.0 \\text{N}}{\\text{mm}^{2}}\\end{equation}"
      ],
      "text/plain": [
       "    299.0⋅newton\n",
       "σ = ────────────\n",
       "              2 \n",
       "    millimeter  "
      ]
     },
     "metadata": {},
     "output_type": "display_data"
    },
    {
     "data": {
      "text/latex": [
       "\\begin{equation}f_{yd} = \\frac{338 \\text{N}}{\\text{mm}^{2}}\\end{equation}"
      ],
      "text/plain": [
       "        338⋅newton\n",
       "f_yd = ───────────\n",
       "                 2\n",
       "       millimeter "
      ]
     },
     "metadata": {},
     "output_type": "display_data"
    },
    {
     "data": {
      "text/latex": [
       "\\begin{equation}Nachweis = \\frac{\\sigma}{f_{yd}}\\end{equation}"
      ],
      "text/plain": [
       "            σ  \n",
       "Nachweis = ────\n",
       "           f_yd"
      ]
     },
     "metadata": {},
     "output_type": "display_data"
    },
    {
     "data": {
      "text/latex": [
       "\\begin{equation}Nachweis = 0.885\\end{equation}"
      ],
      "text/plain": [
       "Nachweis = 0.885"
      ]
     },
     "metadata": {},
     "output_type": "display_data"
    }
   ],
   "source": [
    "epsilon = u_max*unit.m / sp.cos(alpha) / l_Diag\n",
    "sigma = epsilon*E\n",
    "\n",
    "Nachweis = sigma / f_yd\n",
    "\n",
    "render.eq_display('varepsilon', epsilon.subs(params).simplify().evalf(3),\n",
    "                  'sigma', unit.convert_to(sigma.subs(params).simplify().evalf(3), unit.mm**2),\n",
    "                  'f_yd', f_yd.subs(params),\n",
    "                  'Nachweis', 'sigma / f_yd',\n",
    "                  'Nachweis', Nachweis.subs(params).simplify().evalf(3))"
   ]
  },
  {
   "cell_type": "markdown",
   "metadata": {},
   "source": [
    "Die Diagonale bleibt im elastichen Bereich, so dass die linearen Annahmen gültig sind.\n",
    "Der Festigkeitsnachweis für die Diagonale ist erfüllt.\n",
    "Im Weiteren wäre der Grenzustand der Tragfähigkeit *Ermüdung* zu prüfen."
   ]
  },
  {
   "cell_type": "markdown",
   "metadata": {},
   "source": [
    "{{< pagebreak >}}\n",
    "\n",
    "## Beispiel: Fourier-Transformation\n",
    "\n",
    "Nachfolgend ist ein unterspannter Träger gezeigt, der durch eine periodische Rechteckanregung dynamisch beansprucht wird.\n",
    "\n",
    "![Statisches System](bilder/ems6.jpg){#fig-statisch_system width=50%}\n",
    "\n",
    "Gesucht:\n",
    "\n",
    "- Eigenkreisfrequenz $\\omega_n$\n",
    "- Stationäre Amplitude der Verschiebung\n",
    "- Staionäre Amplitude der Beschleunigung\n",
    "\n",
    "Gegeben:\n",
    "\n",
    "- Elastizitätsmodul $E = 200000 \\text{N}/\\text{mm}^2$\n",
    "- Biegestab $I = 2\\cdot 10^8 \\text{mm}^4$ und $E\\cdot A = \\infty$\n",
    "- Fachwerkstäbe $A = 3000 \\text{mm}^2$\n",
    "- Einzelmasse $m=1000 \\text{kg}$\n",
    "- Kraftamplitude $A = 1 \\text{kN}$\n",
    "- Rechteckanregung in @fig-rechteckanregung\n"
   ]
  },
  {
   "cell_type": "code",
   "execution_count": 68,
   "metadata": {},
   "outputs": [],
   "source": [
    "x, t = sp.symbols(\"x t\")"
   ]
  },
  {
   "cell_type": "code",
   "execution_count": 69,
   "metadata": {},
   "outputs": [
    {
     "data": {
      "image/png": "[encoded data removed]",
      "text/plain": [
       "<Figure size 590x300 with 1 Axes>"
      ]
     },
     "metadata": {},
     "output_type": "display_data"
    }
   ],
   "source": [
    "#| label: fig-rechteckanregung\n",
    "#| fig-cap: \"Rechteckige Anregungsfunktion\"\n",
    "\n",
    "signal_xt = sp.Piecewise((0,t<=0),(1,t<=0.5),(-1,t<=1), (1,t<=1.5), (-1,t<=2), (0,t>2))\n",
    "\n",
    "p_1 = sp.plot(signal_xt, (t,0,2), \n",
    "        xlabel='$t/T$',\n",
    "        ylabel='$F(t) / A$',\n",
    "        size=(5.9,3),show=False)\n",
    "\n",
    "p_1.show()\n"
   ]
  },
  {
   "cell_type": "markdown",
   "metadata": {},
   "source": [
    "{{< pagebreak >}}\n",
    "### Musterlösung"
   ]
  },
  {
   "cell_type": "code",
   "execution_count": 70,
   "metadata": {},
   "outputs": [
    {
     "data": {
      "text/markdown": [
       "| Parameter | - |\n",
       "|---|---|\n",
       "| $E = \\frac{200000 \\text{N}}{\\text{mm}^{2}}$ | $I_{Balken} = 200000000 \\text{mm}^{4}$ |\n",
       "| $A_{Fachwerk} = 3000 \\text{mm}^{2}$ | $m_{} = \\frac{1000 \\text{N} \\text{s}^{2}}{\\text{m}}$ |\n",
       "| $A = 1000 \\text{N}$ | $l = 5 \\text{m}$ |\n",
       "| $h = 2 \\text{m}$ | $\\zeta = 0.0$ |\n"
      ],
      "text/plain": [
       "<IPython.core.display.Markdown object>"
      ]
     },
     "metadata": {},
     "output_type": "display_data"
    }
   ],
   "source": [
    "#| label: tbl-parameter_fourier\n",
    "#| tbl-cap: Verwendete Parameter\n",
    "\n",
    "params = {'E': 200000 *unit.N/unit.mm**2,\n",
    "          'I_Balken':2*10**8 *unit.mm**4,\n",
    "          'A_Fachwerk':3000*unit.mm**2,\n",
    "          'm_':1000*unit.N*unit.second**2/unit.m,\n",
    "          'A':1*10**3*unit.N,\n",
    "          'l':5*unit.m,\n",
    "          'h':2*unit.m,\n",
    "          'zeta':0.0,\n",
    "          }\n",
    "\n",
    "\n",
    "render.dict_to_table(params)"
   ]
  },
  {
   "cell_type": "code",
   "execution_count": 71,
   "metadata": {},
   "outputs": [],
   "source": [
    "omega, t, E, I_Balken, A_Fachwerk, m_, A, l, h, zeta = sp.symbols('omega, t, E, I_Balken, A_Fachwerk, m_, A, l, h, zeta')"
   ]
  },
  {
   "cell_type": "markdown",
   "metadata": {},
   "source": [
    "#### Erregerfunktion\n",
    "\n",
    "Die periodische Erregerfunktion wird mit einer Fourier-Reihenentwicklung approximiert um eine periodisch, harmonische Funktion zu generieren.\n",
    "\n",
    "Die Reihenentwicklung folgt folgender Funktion:\n",
    "\n",
    "$$F(t) = A_0 + \\sum_{n=1}^{\\infty}(a_n\\cdot \\cos{(n\\omega t)}+b_n \\cdot \\sin{(n\\omega t)})$$\n",
    "\n",
    "Die Aufgabenstellung fordert lediglich die ersten drei Teile der Reihe.\n",
    "\n",
    "$$F(t) = A_0 + \\sum_{n=1}^{3}(a_n \\cdot \\cos{(n\\omega t)}+b_n \\cdot \\sin{(n\\omega t)})$$\n",
    "\n",
    "Nach Bestimmung der Konstanten folgt die Gleichung zu:\n",
    "\n",
    "$$F(t) = \\frac{4A}{\\pi} \\cdot [\\sin(\\omega t) + \\frac{1}{3}\\sin(3\\omega t) + \\frac{1}{5}\\sin(5 \\omega t)]$$"
   ]
  },
  {
   "cell_type": "code",
   "execution_count": 72,
   "metadata": {},
   "outputs": [
    {
     "data": {
      "text/latex": [
       "\\begin{equation}f_{Anregung} = \\frac{1}{\\text{s}}\\end{equation}"
      ],
      "text/plain": [
       "               1   \n",
       "f_Anregung = ──────\n",
       "             second"
      ]
     },
     "metadata": {},
     "output_type": "display_data"
    },
    {
     "data": {
      "text/latex": [
       "\\begin{equation}\\omega = \\frac{6.28}{\\text{s}}\\end{equation}"
      ],
      "text/plain": [
       "     6.28 \n",
       "ω = ──────\n",
       "    second"
      ]
     },
     "metadata": {},
     "output_type": "display_data"
    },
    {
     "data": {
      "text/latex": [
       "\\begin{equation}F{\\left(t \\right)} = \\frac{4 A \\left(\\sin{\\left(\\frac{2 \\pi t}{\\text{s}} \\right)} + \\frac{\\sin{\\left(\\frac{6 \\pi t}{\\text{s}} \\right)}}{3} + \\frac{\\sin{\\left(\\frac{10 \\pi t}{\\text{s}} \\right)}}{5}\\right)}{\\pi}\\end{equation}"
      ],
      "text/plain": [
       "           ⎛                 ⎛6⋅π⋅t ⎞      ⎛10⋅π⋅t⎞⎞\n",
       "           ⎜              sin⎜──────⎟   sin⎜──────⎟⎟\n",
       "           ⎜   ⎛2⋅π⋅t ⎞      ⎝second⎠      ⎝second⎠⎟\n",
       "       4⋅A⋅⎜sin⎜──────⎟ + ─────────── + ───────────⎟\n",
       "           ⎝   ⎝second⎠        3             5     ⎠\n",
       "F(t) = ─────────────────────────────────────────────\n",
       "                             π                      "
      ]
     },
     "metadata": {},
     "output_type": "display_data"
    }
   ],
   "source": [
    "f_Anregung = 1/unit.seconds\n",
    "omega = f_Anregung * 2*sp.pi\n",
    "\n",
    "F_t = 4*A/ sp.pi * (sp.sin(omega*t)+sp.Rational(1,3)*sp.sin(3*omega *t)+ sp.Rational(1,5)*sp.sin(5*omega*t))\n",
    "\n",
    "\n",
    "render.eq_display('f_Anregung', f_Anregung,\n",
    "                  'omega', omega.subs(params).evalf(3),\n",
    "                  'F(t)', F_t)"
   ]
  },
  {
   "cell_type": "code",
   "execution_count": 73,
   "metadata": {},
   "outputs": [
    {
     "data": {
      "image/png": "[encoded data removed]",
      "text/plain": [
       "<Figure size 590x300 with 1 Axes>"
      ]
     },
     "metadata": {},
     "output_type": "display_data"
    }
   ],
   "source": [
    "#| label: fig-anregung_fourier\n",
    "#| fig-cap: \"Anregungsfunktion mit Fourier-Reihe approximiert\"\n",
    "params_plot = convert.param_value(params)\n",
    "\n",
    "F_t_plot = F_t.subs(params_plot).subs(unit.second, 1)\n",
    "\n",
    "sp.plot(F_t_plot, (t,0,2), adaptive=False, nb_of_points=500,\n",
    "        xlabel='$t [s]$',\n",
    "        ylabel='$F(t)$ [N]',\n",
    "        size=(5.9,3))\n",
    "plt.show()\n"
   ]
  },
  {
   "cell_type": "markdown",
   "metadata": {},
   "source": [
    "#### Systemsteifigkeit\n",
    "\n",
    "Anhand der Arbeitsgleichung wird die Deformation bestimmt und daraus die Steifigkeit des Systems. Auf die Bestimmung der Schnittgrössen wird nicht eingegangen. Es handelt sich um ein statisch unbestimmtes System.\n",
    "\n",
    "![Schnittgrössen des unterspannten Balkens](bilder/schnittgr%C3%B6ssen.jpg){#fig-schnittgroessen}\n",
    "\n",
    "Da der Balken dehnstarr ist und die Unterspannung aus Pendelstäben zusammengesetzt ist, sind Anteile aus Normalkraft aus den Pendelstäben und lediglich Anteile aus Biegung im Balken für die Deformation zuständig."
   ]
  },
  {
   "cell_type": "code",
   "execution_count": 74,
   "metadata": {},
   "outputs": [
    {
     "data": {
      "text/latex": [
       "\\begin{equation}u_{k} = 0.0335 \\text{mm}\\end{equation}"
      ],
      "text/plain": [
       "uₖ = 0.0335⋅millimeter"
      ]
     },
     "metadata": {},
     "output_type": "display_data"
    },
    {
     "data": {
      "text/latex": [
       "\\begin{equation}k = \\frac{2.98 \\cdot 10^{7} \\text{N}}{\\text{m}}\\end{equation}"
      ],
      "text/plain": [
       "    2.98e+7⋅newton\n",
       "k = ──────────────\n",
       "        meter     "
      ]
     },
     "metadata": {},
     "output_type": "display_data"
    }
   ],
   "source": [
    "u_for_k_balken = 1/3 * 0.163*10**6*unit.N*unit.mm * 0.163 *unit.m* 2*l / (E*I_Balken) \n",
    "u_for_k_fachwerk = (1*-0.935*10**3*unit.N*-0.935 * h + 2*1.258*10**3*unit.N*1.258*sp.sqrt(h**2+l**2))/(E*A_Fachwerk)\n",
    "\n",
    "u_for_k = u_for_k_balken + u_for_k_fachwerk\n",
    "k = 1000*unit.N / u_for_k\n",
    "\n",
    "render.eq_display('u_k', unit.convert_to(u_for_k.subs(params).simplify().evalf(3),unit.mm),\n",
    "                  'k', k.subs(params).simplify().evalf(3))\n"
   ]
  },
  {
   "cell_type": "markdown",
   "metadata": {},
   "source": [
    "#### Eigenkreisfrequenz\n",
    "\n",
    "\n",
    "Aus der Systemsteifigkeit lässt sich leicht die Eigenkreisfrequenz bestimmen:\n",
    "\n",
    "$$\\omega_n =\\sqrt{\\frac{k}{m}}$$"
   ]
  },
  {
   "cell_type": "code",
   "execution_count": 75,
   "metadata": {},
   "outputs": [
    {
     "data": {
      "text/latex": [
       "\\begin{equation}\\omega_{n} = \\frac{173.0}{\\text{s}}\\end{equation}"
      ],
      "text/plain": [
       "     173.0 \n",
       "ωₙ = ──────\n",
       "     second"
      ]
     },
     "metadata": {},
     "output_type": "display_data"
    }
   ],
   "source": [
    "omega_n = sp.sqrt(k/m_)\n",
    "\n",
    "render.eq_display('omega_n', omega_n.subs(params).simplify().evalf(3))"
   ]
  },
  {
   "cell_type": "markdown",
   "metadata": {},
   "source": [
    "#### Stationäre Amplitude der Verschiebung\n",
    "\n",
    "Die statische Durchbiegung lässt sich anhand der Systemsteifigkeit und der Anfangskraft der Anregungsfunktion bestimmen. Mittels des Vergrösserungsfaktors lässt sich schlussendlich die stationäre maximale Amplitude bestimmen. Der Vergrösserungsfaktor ist abhängig von der Anregungsfrequenz, welche wir mit der Fourier-Reihenentwicklung approximiert haben. Wir haben folglich *\"3 verschiedene\"* Anregungsfrequenzen mit der entsprechenden Gewichtung."
   ]
  },
  {
   "cell_type": "code",
   "execution_count": 76,
   "metadata": {},
   "outputs": [
    {
     "data": {
      "text/latex": [
       "\\begin{equation}V{\\left(\\omega \\right)} = \\frac{1}{5 \\sqrt{\\frac{100 \\omega^{2} \\zeta_{}^{2}}{\\omega_{n}^{2}} + \\left(- \\frac{25 \\omega^{2}}{\\omega_{n}^{2}} + 1\\right)^{2}}} + \\frac{1}{3 \\sqrt{\\frac{36 \\omega^{2} \\zeta_{}^{2}}{\\omega_{n}^{2}} + \\left(- \\frac{9 \\omega^{2}}{\\omega_{n}^{2}} + 1\\right)^{2}}} + \\frac{1}{\\sqrt{\\frac{4 \\omega^{2} \\zeta_{}^{2}}{\\omega_{n}^{2}} + \\left(- \\frac{\\omega^{2}}{\\omega_{n}^{2}} + 1\\right)^{2}}}\\end{equation}"
      ],
      "text/plain": [
       "                         1                                      1             \n",
       "V(ω) = ───────────────────────────────────── + ───────────────────────────────\n",
       "                ____________________________            ______________________\n",
       "               ╱                          2            ╱                      \n",
       "              ╱       2  2   ⎛      2    ⎞            ╱      2  2   ⎛     2   \n",
       "             ╱   100⋅ω ⋅ζ    ⎜  25⋅ω     ⎟           ╱   36⋅ω ⋅ζ    ⎜  9⋅ω    \n",
       "       5⋅   ╱    ───────── + ⎜- ───── + 1⎟     3⋅   ╱    ──────── + ⎜- ──── + \n",
       "           ╱          2      ⎜     2     ⎟         ╱         2      ⎜    2    \n",
       "         ╲╱         ωₙ       ⎝   ωₙ      ⎠       ╲╱        ωₙ       ⎝  ωₙ     \n",
       "\n",
       "                      1               \n",
       "──── + ───────────────────────────────\n",
       "____          ________________________\n",
       "  2          ╱                      2 \n",
       " ⎞          ╱     2  2   ⎛    2    ⎞  \n",
       " ⎟         ╱   4⋅ω ⋅ζ    ⎜   ω     ⎟  \n",
       "1⎟        ╱    ─────── + ⎜- ─── + 1⎟  \n",
       " ⎟       ╱         2     ⎜    2    ⎟  \n",
       " ⎠     ╲╱        ωₙ      ⎝  ωₙ     ⎠  "
      ]
     },
     "metadata": {},
     "output_type": "display_data"
    },
    {
     "data": {
      "text/latex": [
       "\\begin{equation}V{\\left(\\omega \\right)} = 1.55\\end{equation}"
      ],
      "text/plain": [
       "V(ω) = 1.55"
      ]
     },
     "metadata": {},
     "output_type": "display_data"
    },
    {
     "data": {
      "text/latex": [
       "\\begin{equation}u_{0} = 0.0427 \\text{mm}\\end{equation}"
      ],
      "text/plain": [
       "u₀ = 0.0427⋅millimeter"
      ]
     },
     "metadata": {},
     "output_type": "display_data"
    },
    {
     "data": {
      "text/latex": [
       "\\begin{equation}u_{stat} = 0.066 \\text{mm}\\end{equation}"
      ],
      "text/plain": [
       "uₛₜₐₜ = 0.066⋅millimeter"
      ]
     },
     "metadata": {},
     "output_type": "display_data"
    }
   ],
   "source": [
    "u_0 = 4*A/sp.pi /k\n",
    "\n",
    "V_omega = 1/(sp.sqrt((1-(omega/omega_n)**2)**2 + (2*zeta*(omega/omega_n))**2)) + 1/(sp.sqrt((1-(3*omega/omega_n)**2)**2 + (2*zeta*(3*omega/omega_n))**2))/3 + 1/(sp.sqrt((1-(5*omega/omega_n)**2)**2 + (2*zeta*(5*omega/omega_n))**2))/5\n",
    "\n",
    "\n",
    "render.eq_display('V(omega)', '1/(sqrt((1-(omega/omega_n)**2)**2 + (2*zeta_*(omega/omega_n))**2)) + 1/(sqrt((1-(3*omega/omega_n)**2)**2 + (2*zeta_*(3*omega/omega_n))**2))/3 + 1/(sqrt((1-(5*omega/omega_n)**2)**2 + (2*zeta_*(5*omega/omega_n))**2))/5',\n",
    "                  'V(omega)', V_omega.subs(params).simplify().evalf(3))\n",
    "\n",
    "u_stat = u_0 * V_omega\n",
    "\n",
    "render.eq_display('u_0', unit.convert_to(u_0.subs(params).simplify().evalf(3),\n",
    " unit.mm),\n",
    " 'u_stat', unit.convert_to(u_stat.subs(params).simplify().evalf(3), unit.mm))"
   ]
  },
  {
   "cell_type": "markdown",
   "metadata": {},
   "source": [
    "Der Vergrösserungsfaktor ist erwartungsgemäss niedrig, da sich die Eigenkreisfrequenz deutlich von der Anregungsfrequenz abgrenzt. "
   ]
  },
  {
   "cell_type": "markdown",
   "metadata": {},
   "source": [
    "#### Stationäre Amplitude der Beschleunigung\n",
    "\n",
    "\n",
    "[Die Beschleunigung lässt sich ebenfalls anhand des Vergrösserungsfaktors bestimmen. Dies Entspricht dem Vorgehen nach Michael Baur.]{.underline}"
   ]
  },
  {
   "cell_type": "code",
   "execution_count": 77,
   "metadata": {},
   "outputs": [
    {
     "data": {
      "text/latex": [
       "\\begin{equation}V_{a}{\\left(\\omega \\right)} = 0.00205\\end{equation}"
      ],
      "text/plain": [
       "Vₐ(ω) = 0.00205"
      ]
     },
     "metadata": {},
     "output_type": "display_data"
    },
    {
     "data": {
      "text/latex": [
       "\\begin{equation}\\frac{d^{2}}{d t^{2}} u_{max} = \\frac{0.0026 \\text{m}}{\\text{s}^{2}}\\end{equation}"
      ],
      "text/plain": [
       "  2                     \n",
       " d          0.0026⋅meter\n",
       "───(uₘₐₓ) = ────────────\n",
       "  2                 2   \n",
       "dt            second    "
      ]
     },
     "metadata": {},
     "output_type": "display_data"
    }
   ],
   "source": [
    "V_a_omega = omega**2 / omega_n**2 * V_omega\n",
    "\n",
    "u_2_max =  4*A/sp.pi / m_ * V_a_omega\n",
    "\n",
    "render.eq_display('V_a(omega)', V_a_omega.subs(params).simplify().evalf(3),'Derivative(u_max,t,2)', u_2_max.subs(params).simplify().evalf(3))"
   ]
  },
  {
   "cell_type": "markdown",
   "metadata": {},
   "source": [
    "[Meines Erachtens müsste der Vergrösserungsfaktor für die Beschleunigung ebenfalls mit sämtlichen, gewichteten Anregungsfrequenzen der approximierten Anregungsfunktion bestimmt werden.]{.underline}"
   ]
  },
  {
   "cell_type": "code",
   "execution_count": 78,
   "metadata": {},
   "outputs": [
    {
     "data": {
      "text/latex": [
       "\\begin{equation}V_{a}{\\left(\\omega \\right)} = 0.00614\\end{equation}"
      ],
      "text/plain": [
       "Vₐ(ω) = 0.00614"
      ]
     },
     "metadata": {},
     "output_type": "display_data"
    },
    {
     "data": {
      "text/latex": [
       "\\begin{equation}\\frac{d^{2}}{d t^{2}} u_{max} = \\frac{0.00781 \\text{m}}{\\text{s}^{2}}\\end{equation}"
      ],
      "text/plain": [
       "  2                      \n",
       " d          0.00781⋅meter\n",
       "───(uₘₐₓ) = ─────────────\n",
       "  2                  2   \n",
       "dt             second    "
      ]
     },
     "metadata": {},
     "output_type": "display_data"
    }
   ],
   "source": [
    "V_a_omega = ((omega**2 / omega_n**2)+1/3*(3*omega**2 / omega_n**2)+1/5*(5*omega**2 / omega_n**2))*V_omega\n",
    "\n",
    "u_2_max =  4*A/sp.pi / m_ * V_a_omega\n",
    "\n",
    "render.eq_display('V_a(omega)', V_a_omega.subs(params).simplify().evalf(3),'Derivative(u_max,t,2)', u_2_max.subs(params).simplify().evalf(3))"
   ]
  }
 ],
 "metadata": {
  "kernelspec": {
   "display_name": "engineering",
   "language": "python",
   "name": "python3"
  },
  "language_info": {
   "codemirror_mode": {
    "name": "ipython",
    "version": 3
   },
   "file_extension": ".py",
   "mimetype": "text/x-python",
   "name": "python",
   "nbconvert_exporter": "python",
   "pygments_lexer": "ipython3",
   "version": "3.10.10"
  },
  "orig_nbformat": 4
 },
 "nbformat": 4,
 "nbformat_minor": 2
}
