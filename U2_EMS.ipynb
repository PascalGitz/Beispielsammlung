{
 "cells": [
  {
   "cell_type": "raw",
   "metadata": {},
   "source": [
    "---\n",
    "title: \"Einmassenschwinger\"\n",
    "format: pdf\n",
    "execute:\n",
    "  echo: false\n",
    "  warning: false\n",
    "---"
   ]
  },
  {
   "attachments": {},
   "cell_type": "markdown",
   "metadata": {},
   "source": [
    "## Beispiel: Logarithmisches Dekrement \n",
    "\n",
    "Das in @fig-ems_rahmen_1 dargestellte System zeigt ein Rahmentragwerk. Dieses wird anhand eines Einmassenschwingers approximiert.\n",
    "\n",
    "![Am Riegel ausgelenktes System](bilder/ems_rahmen_1.png){#fig-ems_rahmen_1 width=60%}\n",
    "\n",
    "Gesucht:\n",
    "\n",
    "- Laterale bzw. horizontale Steifigkeit $k$ des Rahmens\n",
    "- Die Dämpfungsrate $\\zeta$ und die Dämpfungskonstante $c$\n",
    "- Die Amplitude der Auslenkung des Rahmens nach 10 Schwingzyklen\n",
    "\n",
    "Gegeben:\n",
    "\n",
    "- Dehnsteifigkeit der Stützen und des Riegels $EA = \\infty$\n",
    "- Biegesteifigkeit des Riegels $EI = \\infty$\n",
    "- Gesamtmasse $M = 1941 kg$\n",
    "\n",
    "Um die Systemeigenschaften des Riegels zu untersuchen, wird \n",
    "eine Kopfverschiebung bzw. Auslenkung des Rahmens von $u = 20\\text{mm}$ aufgebracht. Danach wird die Halterung schlagartig gelöst und der Rahmen kann frei schwingen. Die angebrachte Messeinrichtung registriert eine max. Kopfverschiebung nach dem ersten Zurückschwingen von $u = 15\\text{mm}$ nach $T = 0.2 \\text{s}$. \n"
   ]
  },
  {
   "cell_type": "markdown",
   "metadata": {},
   "source": [
    "{{< pagebreak >}}\n",
    "\n",
    "### Musterlösung{#sec-ml_log_dek}\n",
    "Das Verhalten des Systems in @fig-ems_rahmen_1 wird versucht mittels der Theorie des Einmassenschwingers zu ermitteln. Es handelt sich um eine gedämpfte freie Schwingung."
   ]
  },
  {
   "cell_type": "code",
   "execution_count": 1,
   "metadata": {},
   "outputs": [],
   "source": [
    "import sympy as sp \n",
    "from sympycalcs import render, convert\n",
    "import sympy.physics.units as unit\n",
    "from sympy.abc import *\n",
    "\n",
    "sp.init_printing(use_latex='mathjax', latex_mode='equation*')"
   ]
  },
  {
   "cell_type": "code",
   "execution_count": 2,
   "metadata": {},
   "outputs": [],
   "source": [
    "EA_riegel, EI_riegel,EA_stuetze, EI_stuetze, k, m, u, c, T_D, zeta, H, u_0, u_1 = sp.symbols('EA_riegel, EI_riegel,EA_stuetze, EI_stuetze, k, m, u, c,T_D, zeta H u_0 u_1')"
   ]
  },
  {
   "cell_type": "code",
   "execution_count": 3,
   "metadata": {},
   "outputs": [],
   "source": [
    "params = {'EA_riegel':sp.oo,\n",
    "          'EI_riegel':sp.oo,\n",
    "          'EA_stuetze':sp.oo,\n",
    "          'm':1941*unit.N*unit.second**2/unit.m,\n",
    "          'u_0':20*unit.mm,\n",
    "          'u_1':15*unit.mm,\n",
    "          'T_D':0.2*unit.second}\n",
    "\n",
    "# render.dict_render(params)"
   ]
  },
  {
   "attachments": {},
   "cell_type": "markdown",
   "metadata": {},
   "source": [
    "#### Horizontale Steifigkeit"
   ]
  },
  {
   "attachments": {},
   "cell_type": "markdown",
   "metadata": {},
   "source": [
    "##### Logarithmisches Dekrement\n",
    "\n",
    "Da keine Angaben über die Profile der Stützen gemacht werden, kann mittels des logarithmischen Dekrements die Eigenkreisfrequenz bestimmt werden. Anhand der Eigenkreisfrequenz lässt sich die Steifigkeit ableiten.\n",
    "\n",
    "\n",
    "![Beispiel eines logarithmischen Dekrements](bilder/3-3_log_Dekrement.svg){#fig-log_dek}"
   ]
  },
  {
   "cell_type": "code",
   "execution_count": 4,
   "metadata": {},
   "outputs": [
    {
     "data": {
      "text/latex": [
       "\\begin{equation*}\\delta = \\log{\\left(\\frac{u_{0}}{u_{1}} \\right)}\\end{equation*}"
      ],
      "text/plain": [
       "       ⎛u₀⎞\n",
       "δ = log⎜──⎟\n",
       "       ⎝u₁⎠"
      ]
     },
     "metadata": {},
     "output_type": "display_data"
    },
    {
     "data": {
      "text/latex": [
       "\\begin{equation*}\\delta = 0.288\\end{equation*}"
      ],
      "text/plain": [
       "δ = 0.288"
      ]
     },
     "metadata": {},
     "output_type": "display_data"
    }
   ],
   "source": [
    "delta = sp.ln(u_0 / u_1)\n",
    "zeta = delta/ (2*sp.pi)\n",
    "render.eq_display('delta', delta,\n",
    "                  'delta', delta.subs(params).evalf(3))"
   ]
  },
  {
   "attachments": {},
   "cell_type": "markdown",
   "metadata": {},
   "source": [
    "##### Dämpfungsrate\n",
    "\n",
    "Anhand des logarithmischen Dekrements kann die Dämpfungsrate bestimmt werden.\n",
    "\n",
    "![Dämpfungsrate anhand des logarithmischen Dekrements](bilder/3-4_ln_Dekrement.svg){#fig-daempfungsrate}\n",
    "\n",
    "Für kleine Dämpfungsraten kann folgende Gleichung verwendet werden:\n",
    "\n",
    "$$\\zeta \\simeq \\frac{\\delta}{2\\pi}$$\n",
    "\n",
    "Die exakte Lösung bestimmt sich folgender massen:"
   ]
  },
  {
   "cell_type": "code",
   "execution_count": 5,
   "metadata": {},
   "outputs": [
    {
     "data": {
      "text/latex": [
       "\\begin{equation*}\\zeta_{} = \\frac{\\delta}{\\sqrt{\\delta^{2} + 4 \\pi^{2}}}\\end{equation*}"
      ],
      "text/plain": [
       "          δ       \n",
       "ζ = ──────────────\n",
       "       ___________\n",
       "      ╱  2      2 \n",
       "    ╲╱  δ  + 4⋅π  "
      ]
     },
     "metadata": {},
     "output_type": "display_data"
    },
    {
     "data": {
      "text/latex": [
       "\\begin{equation*}\\zeta_{} = \\frac{\\log{\\left(\\frac{u_{0}}{u_{1}} \\right)}}{\\sqrt{\\log{\\left(\\frac{u_{0}}{u_{1}} \\right)}^{2} + 4 \\pi^{2}}}\\end{equation*}"
      ],
      "text/plain": [
       "              ⎛u₀⎞       \n",
       "           log⎜──⎟       \n",
       "              ⎝u₁⎠       \n",
       "ζ = ─────────────────────\n",
       "        _________________\n",
       "       ╱    2⎛u₀⎞      2 \n",
       "      ╱  log ⎜──⎟ + 4⋅π  \n",
       "    ╲╱       ⎝u₁⎠        "
      ]
     },
     "metadata": {},
     "output_type": "display_data"
    },
    {
     "data": {
      "text/latex": [
       "\\begin{equation*}\\zeta_{} = 0.0457\\end{equation*}"
      ],
      "text/plain": [
       "ζ = 0.0457"
      ]
     },
     "metadata": {},
     "output_type": "display_data"
    }
   ],
   "source": [
    "zeta = delta / (sp.sqrt(4*sp.pi**2 + delta**2))\n",
    "\n",
    "render.eq_display('zeta_', 'delta/(sqrt(4*pi**2+delta**2))',\n",
    "                  'zeta_', zeta,\n",
    "                  'zeta_', zeta.subs(params).evalf(3))"
   ]
  },
  {
   "attachments": {},
   "cell_type": "markdown",
   "metadata": {},
   "source": [
    "##### Eigenkreisfrequenz\n",
    "\n",
    "Aus der Aufgabenstellung ist die gedämpfte Periode von $T_D = 0.2 s$ bekannt.\n",
    "Anhand dieser lässt sich die *gedämpfte Eigenkreisfrequenz* $\\omega_D$ bestimmen und unter Berücksichtigung der Dämpfungsrate $\\zeta$ kann die *Eigenkreisfrequenz* $\\omega_n$ bestimmt werden."
   ]
  },
  {
   "cell_type": "code",
   "execution_count": 6,
   "metadata": {},
   "outputs": [
    {
     "data": {
      "text/latex": [
       "\\begin{equation*}\\omega_{D} = \\frac{2 \\pi}{T_{D}}\\end{equation*}"
      ],
      "text/plain": [
       "      2⋅π\n",
       "ω_D = ───\n",
       "      T_D"
      ]
     },
     "metadata": {},
     "output_type": "display_data"
    },
    {
     "data": {
      "text/latex": [
       "\\begin{equation*}\\omega_{D} = \\frac{31.42}{\\text{s}}\\end{equation*}"
      ],
      "text/plain": [
       "      31.42 \n",
       "ω_D = ──────\n",
       "      second"
      ]
     },
     "metadata": {},
     "output_type": "display_data"
    },
    {
     "data": {
      "text/latex": [
       "\\begin{equation*}\\omega_{n} = \\frac{\\omega_{D}}{\\sqrt{1 - \\zeta_{}^{2}}}\\end{equation*}"
      ],
      "text/plain": [
       "         ω_D    \n",
       "ωₙ = ───────────\n",
       "        ________\n",
       "       ╱      2 \n",
       "     ╲╱  1 - ζ  "
      ]
     },
     "metadata": {},
     "output_type": "display_data"
    },
    {
     "data": {
      "text/latex": [
       "\\begin{equation*}\\omega_{n} = \\frac{31.45}{\\text{s}}\\end{equation*}"
      ],
      "text/plain": [
       "     31.45 \n",
       "ωₙ = ──────\n",
       "     second"
      ]
     },
     "metadata": {},
     "output_type": "display_data"
    }
   ],
   "source": [
    "omega_D = (2*sp.pi)/ T_D\n",
    "\n",
    "omega_n = omega_D / (sp.sqrt(1-zeta**2))\n",
    "render.eq_display('omega_D', omega_D,\n",
    "                  'omega_D', omega_D.subs(params).evalf(4),\n",
    "                  'omega_n', \"omega_D / (sqrt(1-zeta_**2))\",\n",
    "                  'omega_n', omega_n.subs(params).evalf(4))"
   ]
  },
  {
   "attachments": {},
   "cell_type": "markdown",
   "metadata": {},
   "source": [
    "##### Steifigkeit \n",
    "\n",
    "Wir kennen die Beziehung zwischen Eigenkreisfrequenz und Steifigkeit:\n",
    "\n",
    "$$\\omega_n = \\sqrt{\\frac{k}{m}}$$"
   ]
  },
  {
   "cell_type": "code",
   "execution_count": 7,
   "metadata": {},
   "outputs": [
    {
     "data": {
      "text/latex": [
       "\\begin{equation*}k = m \\omega_{n}^{2}\\end{equation*}"
      ],
      "text/plain": [
       "        2\n",
       "k = m⋅ωₙ "
      ]
     },
     "metadata": {},
     "output_type": "display_data"
    },
    {
     "data": {
      "text/latex": [
       "\\begin{equation*}k = \\frac{1.92 \\cdot 10^{6} \\text{N}}{\\text{m}}\\end{equation*}"
      ],
      "text/plain": [
       "    1.92e+6⋅newton\n",
       "k = ──────────────\n",
       "        meter     "
      ]
     },
     "metadata": {},
     "output_type": "display_data"
    }
   ],
   "source": [
    "k = m*omega_n**2\n",
    "\n",
    "render.eq_display('k','m*omega_n**2',\n",
    "                  'k',k.subs(params).evalf(3))"
   ]
  },
  {
   "attachments": {},
   "cell_type": "markdown",
   "metadata": {},
   "source": [
    "#### Dämpfungskonstante\n",
    "\n",
    "Anhand der Dämpfungsrate $\\zeta$ lässt sich leicht die Dämpfungskonstante bestimmen:\n",
    "\n",
    "$$\n",
    "\\zeta = \\frac{c}{2\\omega_nm}\n",
    "$${#eq-daempfungsrate}\n",
    "\n"
   ]
  },
  {
   "cell_type": "code",
   "execution_count": 8,
   "metadata": {},
   "outputs": [
    {
     "data": {
      "text/latex": [
       "\\begin{equation*}c = \\frac{5.58 \\cdot 10^{3} \\text{N} \\text{s}}{\\text{m}}\\end{equation*}"
      ],
      "text/plain": [
       "    5.58e+3⋅newton⋅second\n",
       "c = ─────────────────────\n",
       "            meter        "
      ]
     },
     "metadata": {},
     "output_type": "display_data"
    }
   ],
   "source": [
    "c = zeta * 2*omega_n*m\n",
    "\n",
    "\n",
    "render.eq_display('c',c.subs(params).evalf(3))"
   ]
  },
  {
   "attachments": {},
   "cell_type": "markdown",
   "metadata": {},
   "source": [
    "#### Amplitude nach 10 Schwingzyklen\n",
    "\n",
    "Das Verhalten der Amplitude ist in @fig-log_dek dargestellt.\n",
    "\n",
    "$$\n",
    "\\delta = \\ln({\\frac{u_0}{u_1}})\n",
    "$${#eq-log_dek}\n",
    "\n",
    "$\\delta$ ist ein konstanter Wert und kann auf 10 Zyklen erweitert werden."
   ]
  },
  {
   "cell_type": "code",
   "execution_count": 9,
   "metadata": {},
   "outputs": [
    {
     "data": {
      "text/latex": [
       "\\begin{equation*}u_{1} = u_{0} e^{- \\delta}\\end{equation*}"
      ],
      "text/plain": [
       "         -δ\n",
       "u₁ = u₀⋅ℯ  "
      ]
     },
     "metadata": {},
     "output_type": "display_data"
    },
    {
     "data": {
      "text/latex": [
       "\\begin{equation*}u_{10} = u_{0} e^{- 10 \\delta}\\end{equation*}"
      ],
      "text/plain": [
       "          -10⋅δ\n",
       "u₁₀ = u₀⋅ℯ     "
      ]
     },
     "metadata": {},
     "output_type": "display_data"
    },
    {
     "data": {
      "text/latex": [
       "\\begin{equation*}u_{10} = 1.126 \\text{mm}\\end{equation*}"
      ],
      "text/plain": [
       "u₁₀ = 1.126⋅millimeter"
      ]
     },
     "metadata": {},
     "output_type": "display_data"
    }
   ],
   "source": [
    "eq = sp.Eq(sp.Symbol('delta'), sp.ln(u_0/u_1))\n",
    "\n",
    "u_10 = u_0 * sp.exp(-10*delta)\n",
    "render.eq_display('u_1', sp.solve(eq, u_1)[0],\n",
    "                  'u_10', 'u_0*exp(-10*delta)',\n",
    "                  'u_10', u_10.subs(params).evalf(4))\n"
   ]
  },
  {
   "cell_type": "markdown",
   "metadata": {},
   "source": [
    "{{< pagebreak >}}\n",
    "\n",
    "## Beispiel: Impulssatz\n",
    "@fig-ems_rahmen_2 zeigt das System eines Stahlrahmens. Dieser wird durch eine kurzzeitig einwirkende Stossbelastung $F(t)$ in Höhe des Rahmenriegels beansprucht.\n",
    "\n",
    "![System des Stahlramens mit kurzzeitig einwirkender Stossbelastung](bilder/ems_rahmen_2.jpg){#fig-ems_rahmen_2}\n",
    "\n",
    "\n",
    "Gesucht:\n",
    "\n",
    "- Der Maximalwert der zu erwartenden Riegelauslenkung (näherungsweise)\n",
    "- Darstellung des zeitlichen Verlaufs $u(t)$ in einem Diagramm\n",
    "- Nachweis der Elastizität des Systems anhand der Rückstellkraft (Spannungsnachweis mit Fliessspannung $f_y$ als Grenze)\n",
    "  \n",
    "Gegeben:\n",
    "\n",
    "- Dehnsteifigkeit der Stützen und des Riegels $EA = \\infty$\n",
    "- Biegesteifigkeit des Riegels $EI = \\infty$\n",
    "- Gesamtmasse $M = 5 t$\n",
    "- Stützen aus HEB 240 (s 355, Streckgrenze $f_y = 355 \\text{N}/\\text{mm}^2$)\n",
    "- $E\\cdot I_{y,Stuetze} = 2.1\\cdot10^8 \\text{kN}/\\text{m}^2 \\cdot 11260\\cdot10^{-8} \\text{m}^4 = 23646 \\text{kNm}^2$\n",
    "- $W_{el,y} = 938\\cdot10^3 \\text{mm}^3 \\text{(HEB 240)}$ \n",
    "- Lastfunktion gemäss @fig-lastfunktion"
   ]
  },
  {
   "cell_type": "markdown",
   "metadata": {},
   "source": []
  },
  {
   "cell_type": "code",
   "execution_count": 10,
   "metadata": {},
   "outputs": [],
   "source": [
    "import sympy as sp \n",
    "from sympycalcs import render, convert\n",
    "import sympy.physics.units as unit\n",
    "\n",
    "import matplotlib.pyplot as plt"
   ]
  },
  {
   "cell_type": "code",
   "execution_count": 11,
   "metadata": {},
   "outputs": [],
   "source": [
    "EA_riegel, EI_riegel,EA_stuetze, EI_stuetze,  m,  H, f_y, t, F_max, t_1, t_2,W_el_y = sp.symbols('EA_riegel, EI_riegel,EA_stuetze, EI_stuetze,  m_, H, f_y, t, F_max, t_1, t_2 W_el_y')\n",
    "\n",
    "\n",
    "u = sp.Function('u')(t)"
   ]
  },
  {
   "cell_type": "code",
   "execution_count": 12,
   "metadata": {},
   "outputs": [],
   "source": [
    "params_not_relevant = {\n",
    "    'EA_riegel':sp.oo,\n",
    "    'EI_riegel':sp.oo,\n",
    "    'EA_stuetze':sp.oo,\n",
    "}\n",
    "\n",
    "# render.dict_render(params_not_relevant)"
   ]
  },
  {
   "cell_type": "code",
   "execution_count": 13,
   "metadata": {},
   "outputs": [],
   "source": [
    "params = {              \n",
    "          'EI_stuetze':23646000.0*unit.N*unit.m**2,\n",
    "          'm_':5000*unit.N*unit.second**2/unit.m,\n",
    "          'W_el_y':938*10**3*unit.mm**3,\n",
    "          'H':3000*unit.mm,\n",
    "          'F_max':1000*10**3*unit.N,\n",
    "          't_1':0.003*unit.second,\n",
    "          't_2':0.006*unit.second,\n",
    "          'f_y':355*unit.N/unit.mm**2,\n",
    "          'u_0':0.0\n",
    "          }\n",
    "\n",
    "params_plot = convert.param_value(params=params)\n",
    "# render.dict_render(params)"
   ]
  },
  {
   "cell_type": "code",
   "execution_count": 14,
   "metadata": {},
   "outputs": [
    {
     "data": {
      "image/png": "[encoded data removed]",
      "text/plain": [
       "<Figure size 590x300 with 1 Axes>"
      ]
     },
     "metadata": {},
     "output_type": "display_data"
    }
   ],
   "source": [
    "#| label: fig-lastfunktion\n",
    "#| fig-cap: \"Lastfunktion der kurzzeitig einwirkenden Stossbelastung\"\n",
    "\n",
    "\n",
    "\n",
    "\n",
    "F_1 = t*F_max / t_1 \n",
    "F_2 =  F_1.subs(t,t_1)-((t-t_1)*F_max / t_1)\n",
    "F_t = sp.Piecewise((F_1,t<t_1), (F_2,t<=t_2), (0, t>t_2))\n",
    "sp.plot(F_t.subs(params_plot), (t,0,0.008), size=(5.9,3))\n",
    "plt.show()"
   ]
  },
  {
   "cell_type": "markdown",
   "metadata": {},
   "source": [
    "{{< pagebreak >}}\n",
    "\n",
    "### Musterlösung{#sec-ml_log_dek}"
   ]
  },
  {
   "cell_type": "markdown",
   "metadata": {},
   "source": [
    "#### Horizontale Steifigkeit\n",
    "\n",
    "Für entsprechende Anwendungsfälle gibt es fertige Lösungen zur Bestimmung der Steifigkeit. Gemäss @fig-ems_rahmen_2 ist die Stütze am Fuss- und Kopfpunkt eingespannt. Somit resultiert die Steifigkeit zu:\n",
    "\n",
    "$$\n",
    "k_{Stuetze} = \\frac{12EI_{Stuetze}}{H^3}\n",
    "$${#eq-k_fur_stuetze}\n",
    "\n",
    "Diese gilt für eine einzelne Stütze. Angewendet auf das Beispiel folgt die Systemsteifigkeit zu:\n"
   ]
  },
  {
   "cell_type": "code",
   "execution_count": 15,
   "metadata": {},
   "outputs": [
    {
     "data": {
      "text/latex": [
       "\\begin{equation*}k_{} = \\frac{24 EI_{stuetze}}{H^{3}}\\end{equation*}"
      ],
      "text/plain": [
       "    24⋅EI_stuetze\n",
       "k = ─────────────\n",
       "           3     \n",
       "          H      "
      ]
     },
     "metadata": {},
     "output_type": "display_data"
    },
    {
     "data": {
      "text/latex": [
       "\\begin{equation*}k_{} = \\frac{2.1 \\cdot 10^{7} \\text{N}}{\\text{m}}\\end{equation*}"
      ],
      "text/plain": [
       "    2.1e+7⋅newton\n",
       "k = ─────────────\n",
       "        meter    "
      ]
     },
     "metadata": {},
     "output_type": "display_data"
    }
   ],
   "source": [
    "k = 2 * 12 * EI_stuetze / H**3\n",
    "\n",
    "render.eq_display('k_', k,\n",
    "                  'k_', k.subs(params).simplify().evalf(3))"
   ]
  },
  {
   "cell_type": "markdown",
   "metadata": {},
   "source": [
    "#### Eigenkreisfrequenz"
   ]
  },
  {
   "cell_type": "code",
   "execution_count": 16,
   "metadata": {},
   "outputs": [
    {
     "data": {
      "text/latex": [
       "\\begin{equation*}\\omega_{n} = \\sqrt{\\frac{k}{m}}\\end{equation*}"
      ],
      "text/plain": [
       "         ___\n",
       "        ╱ k \n",
       "ωₙ =   ╱  ─ \n",
       "     ╲╱   m "
      ]
     },
     "metadata": {},
     "output_type": "display_data"
    },
    {
     "data": {
      "text/latex": [
       "\\begin{equation*}\\omega_{n} = 2 \\sqrt{6} \\sqrt{\\frac{EI_{stuetze}}{H^{3} m_{}}}\\end{equation*}"
      ],
      "text/plain": [
       "               ____________\n",
       "              ╱ EI_stuetze \n",
       "ωₙ = 2⋅√6⋅   ╱  ────────── \n",
       "            ╱       3      \n",
       "          ╲╱       H ⋅m    "
      ]
     },
     "metadata": {},
     "output_type": "display_data"
    },
    {
     "data": {
      "text/latex": [
       "\\begin{equation*}\\omega_{n} = \\frac{64.8}{\\text{s}}\\end{equation*}"
      ],
      "text/plain": [
       "      64.8 \n",
       "ωₙ = ──────\n",
       "     second"
      ]
     },
     "metadata": {},
     "output_type": "display_data"
    }
   ],
   "source": [
    "omega_n = sp.sqrt(k/m)\n",
    "\n",
    "render.eq_display('omega_n', 'sqrt(k/m)',\n",
    "                  'omega_n', omega_n,\n",
    "                  'omega_n', omega_n.subs(params).simplify().evalf(3))"
   ]
  },
  {
   "cell_type": "markdown",
   "metadata": {},
   "source": [
    "#### Bewegungsgleichung\n",
    "\n",
    "Die Bewegungsgleichung für einen ungedämpften Einmassenschwinger ist die folgende:\n",
    "\n",
    "$$m u(t)'' + k u(t) = F(t)$$\n",
    "\n",
    "\n",
    "##### Approximation der Lösung\n",
    "\n",
    "Es handelt sich um eine inhomogene Differentialgleichung 2.Ordnung. Auf die exakte Lösung der Gleichung wird nicht eingegangen. Es wird versucht die bemessungsrelevanten Parameter näherungsweise zu bestimmen. Dies lässt sich mit dem Impulssatz approximieren. \n",
    "\n",
    "$$ F \\Delta t = m \\Delta v$$\n",
    "\n",
    "Dieser besagt, dass die einwirkende Kraft $F$ im betrachteten Zeitabschnitt $\\Delta t$ der Masse $m$ multipliziert mit der Geschwindigkeitsänderung $\\Delta v$ des Objekts entspricht. Für eine kurze Anregung, wie im Beispiel der Fall ist, kann die Anfangsgeschwindigkeit wie folgt bestimmt werden:\n",
    "\n",
    "$$ v_0 = \\frac{I}{m}$$\n",
    "\n",
    "$$I = \\int_{0}^{t_2} F(t) \\,dt $$"
   ]
  },
  {
   "cell_type": "code",
   "execution_count": 17,
   "metadata": {},
   "outputs": [
    {
     "data": {
      "text/latex": [
       "\\begin{equation*}I_{} = 3000.0 \\text{N} \\text{s}\\end{equation*}"
      ],
      "text/plain": [
       "I = 3000.0⋅newton⋅second"
      ]
     },
     "metadata": {},
     "output_type": "display_data"
    },
    {
     "data": {
      "text/latex": [
       "\\begin{equation*}v_{0} = \\frac{3000.0 \\text{N} \\text{s}}{m_{}}\\end{equation*}"
      ],
      "text/plain": [
       "     3000.0⋅newton⋅second\n",
       "v₀ = ────────────────────\n",
       "              m          "
      ]
     },
     "metadata": {},
     "output_type": "display_data"
    },
    {
     "data": {
      "text/latex": [
       "\\begin{equation*}v_{0} = \\frac{0.6 \\text{m}}{\\text{s}}\\end{equation*}"
      ],
      "text/plain": [
       "     0.6⋅meter\n",
       "v₀ = ─────────\n",
       "       second "
      ]
     },
     "metadata": {},
     "output_type": "display_data"
    }
   ],
   "source": [
    "I = sp.integrate(F_t.subs(params), (t,0,t_2.subs(params)))\n",
    "v_0 = I / m\n",
    "\n",
    "## Die Anfangsgeschwindigkeit wird zum Params dict hinzugefügt\n",
    "params['v_0'] = v_0.subs(params)\n",
    "params_plot = convert.param_value(params)\n",
    "\n",
    "\n",
    "render.eq_display('I_', I,\n",
    "                  'v_0', v_0,\n",
    "                  'v_0', v_0.subs(params))"
   ]
  },
  {
   "cell_type": "markdown",
   "metadata": {},
   "source": [
    "Durch die Impuls-Betrachtung vereinfacht sich die Bewegungsgleichung zu:\n",
    "\n",
    "\n",
    "$$\n",
    "m u(t)'' + k u(t) = 0\n",
    "$${#eq-bewegungsgleichung_homogen_ungedaempft}\n",
    "\n",
    "Mit der Anfangsgeschwindigkeit als Randbedingung. \n",
    "$$\n",
    "u'(t=0) = v_0  \n",
    "$$\n",
    "und der Startauslenkung:\n",
    "$$\n",
    "u(t=0) = u_0 = 0 \n",
    "$$\n",
    "\n",
    "Kann mittels der folgenden Ansatzfunktion die homogene Differentialgleichung gelöst werden:\n",
    "\n",
    "$$\n",
    "u(t) = A_1 \\cos(\\omega_n t) + A_2 \\sin(\\omega_n t)\n",
    "$${#eq-ansatz_beweg}\n"
   ]
  },
  {
   "cell_type": "code",
   "execution_count": 18,
   "metadata": {},
   "outputs": [
    {
     "data": {
      "text/latex": [
       "\\begin{equation*}u{\\left(t \\right)} = 0.00925 \\sin{\\left(\\frac{64.8362038781832 t}{\\text{s}} \\right)} \\text{m}\\end{equation*}"
      ],
      "text/plain": [
       "                  ⎛64.8362038781832⋅t⎞      \n",
       "u(t) = 0.00925⋅sin⎜──────────────────⎟⋅meter\n",
       "                  ⎝      second      ⎠      "
      ]
     },
     "execution_count": 18,
     "metadata": {},
     "output_type": "execute_result"
    }
   ],
   "source": [
    "A_1, A_2,u_0 = sp.symbols('A_1:3 u_0')\n",
    "\n",
    "bewegungsgleichung = m*sp.diff(u,t,2) + k*u\n",
    "ansatzfunktion = sp.Eq(u,A_1 * sp.cos(omega_n*t) + A_2*sp.sin(omega_n*t))\n",
    "eq_randbedingung_1 = sp.Eq(u_0,ansatzfunktion.rhs.subs(t,0))\n",
    "eq_randbedingung_2 = sp.Eq(v_0, sp.diff(ansatzfunktion.rhs,t).subs(t,0))\n",
    "A_solve = sp.solve([eq_randbedingung_1, eq_randbedingung_2],[A_1, A_2],dict=True)[0]\n",
    "\n",
    "\n",
    "u_t = ansatzfunktion.subs(A_solve)\n",
    "u_t.subs(params).simplify().evalf(3)\n"
   ]
  },
  {
   "cell_type": "code",
   "execution_count": 19,
   "metadata": {},
   "outputs": [
    {
     "data": {
      "image/png": "[encoded data removed]",
      "text/plain": [
       "<Figure size 640x480 with 1 Axes>"
      ]
     },
     "metadata": {},
     "output_type": "display_data"
    }
   ],
   "source": [
    "#| label: fig-bewegungsfunk\n",
    "#| fig-cap: \"Zeitlicher Verlauf der Auslenkung\"\n",
    "\n",
    "u_t_plot = u_t.subs(params_plot).rhs/unit.N/unit.second\n",
    "sp.plot(u_t_plot, (t,0,0.15), ylabel='u(t)')\n",
    "\n",
    "plt.show()\n"
   ]
  },
  {
   "cell_type": "markdown",
   "metadata": {},
   "source": [
    "#### Rückstellkraft\n",
    "\n",
    "Anhand der maximalen Amplitude lässt sich die maximale Rückstellkraft für den gesamten Rahmen bestimmen.\n",
    "\n",
    "$$F_R = k   u = k   A$$\n",
    "\n"
   ]
  },
  {
   "cell_type": "code",
   "execution_count": 20,
   "metadata": {},
   "outputs": [
    {
     "data": {
      "text/latex": [
       "\\begin{equation*}u_{max} = A\\end{equation*}"
      ],
      "text/plain": [
       "uₘₐₓ = A"
      ]
     },
     "metadata": {},
     "output_type": "display_data"
    },
    {
     "data": {
      "text/latex": [
       "\\begin{equation*}A = 0.00925 \\text{m}\\end{equation*}"
      ],
      "text/plain": [
       "A = 0.00925⋅meter"
      ]
     },
     "metadata": {},
     "output_type": "display_data"
    },
    {
     "data": {
      "text/latex": [
       "\\begin{equation*}F_{R} = 1.95 \\cdot 10^{5} \\text{N}\\end{equation*}"
      ],
      "text/plain": [
       "F_R = 1.95e+5⋅newton"
      ]
     },
     "metadata": {},
     "output_type": "display_data"
    }
   ],
   "source": [
    "t_max = sp.solve(sp.Eq(sp.diff(u_t.rhs,t),0),t)\n",
    "u_max = u_t.subs(t, t_max[0].subs(params_plot)*unit.second).subs(params).rhs\n",
    "\n",
    "F_R = k * u_max\n",
    "\n",
    "render.eq_display('u_max', 'A',\n",
    "                  'A', u_max.simplify().evalf(3),\n",
    "                  'F_R', F_R.subs(params).simplify().evalf(3))"
   ]
  },
  {
   "cell_type": "markdown",
   "metadata": {},
   "source": [
    "##### Spannungsnachweis\n",
    "\n",
    "Die Rückstellkraft wirkt im Zentrum der Masse und bewirkt das maximale Biegemoment bei den Fusspunkten.\n",
    "\n",
    "![Biegemomentenverlauf durch die statische Ersatzkraft](bilder/impulssatz_momentenverlauf.pdf)"
   ]
  },
  {
   "cell_type": "code",
   "execution_count": 23,
   "metadata": {},
   "outputs": [
    {
     "data": {
      "text/latex": [
       "\\begin{equation*}M_{max} = \\frac{F_{R} H}{4}\\end{equation*}"
      ],
      "text/plain": [
       "       F_R⋅H\n",
       "Mₘₐₓ = ─────\n",
       "         4  "
      ]
     },
     "metadata": {},
     "output_type": "display_data"
    },
    {
     "data": {
      "text/latex": [
       "\\begin{equation*}M_{max} = 1.46 \\cdot 10^{5} \\text{m} \\text{N}\\end{equation*}"
      ],
      "text/plain": [
       "Mₘₐₓ = 1.46e+5⋅meter⋅newton"
      ]
     },
     "metadata": {},
     "output_type": "display_data"
    },
    {
     "data": {
      "text/latex": [
       "\\begin{equation*}\\sigma_{max} = \\frac{M_{max}}{W_{el y}}\\end{equation*}"
      ],
      "text/plain": [
       "        Mₘₐₓ \n",
       "σₘₐₓ = ──────\n",
       "       W_el_y"
      ]
     },
     "metadata": {},
     "output_type": "display_data"
    },
    {
     "data": {
      "text/latex": [
       "\\begin{equation*}\\sigma_{max} = \\frac{156.0 \\text{N}}{\\text{mm}^{2}}\\end{equation*}"
      ],
      "text/plain": [
       "       156.0⋅newton\n",
       "σₘₐₓ = ────────────\n",
       "                 2 \n",
       "       millimeter  "
      ]
     },
     "metadata": {},
     "output_type": "display_data"
    },
    {
     "data": {
      "text/latex": [
       "\\begin{equation*}Nachweis = \\frac{156.0 \\text{N}}{\\text{mm}^{2}} < f_{y}\\end{equation*}"
      ],
      "text/plain": [
       "           156.0⋅newton      \n",
       "Nachweis = ──────────── < f_y\n",
       "                     2       \n",
       "           millimeter        "
      ]
     },
     "metadata": {},
     "output_type": "display_data"
    }
   ],
   "source": [
    "M_max = F_R/2 * H * sp.Rational(0.5)\n",
    "\n",
    "sigma_max = M_max /W_el_y\n",
    "\n",
    "render.eq_display('M_max', 'F_R /2 * H * Rational(0.5)',\n",
    "                  'M_max', M_max.subs(params).simplify().evalf(3),\n",
    "                  'sigma_max', 'M_max / W_el_y',\n",
    "                  'sigma_max', unit.convert_to(sigma_max.subs(params).simplify().evalf(3), unit.mm),\n",
    "                  'Nachweis', unit.convert_to(sigma_max.subs(params).simplify().evalf(3), unit.mm)<f_y)"
   ]
  },
  {
   "cell_type": "code",
   "execution_count": null,
   "metadata": {},
   "outputs": [],
   "source": [
    "## Beispiel: "
   ]
  }
 ],
 "metadata": {
  "kernelspec": {
   "display_name": "engineering",
   "language": "python",
   "name": "python3"
  },
  "language_info": {
   "codemirror_mode": {
    "name": "ipython",
    "version": 3
   },
   "file_extension": ".py",
   "mimetype": "text/x-python",
   "name": "python",
   "nbconvert_exporter": "python",
   "pygments_lexer": "ipython3",
   "version": "3.10.10"
  },
  "orig_nbformat": 4
 },
 "nbformat": 4,
 "nbformat_minor": 2
}
