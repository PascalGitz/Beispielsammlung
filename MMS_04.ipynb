{
 "cells": [
  {
   "attachments": {},
   "cell_type": "markdown",
   "metadata": {},
   "source": [
    "# Stationäre Antwort für Balken mit Tilger\n",
    "\n",
    "[Aufgabenstellung](calculations/MMS_%C3%9Cbung%203_Tilger.pdf)\n",
    "\n",
    "![Statisches System des Balkens mit Tilger](pictures/mms4system.jpg){#fig-system}"
   ]
  },
  {
   "cell_type": "code",
   "execution_count": 1,
   "metadata": {},
   "outputs": [],
   "source": [
    "import sympy as sp \n",
    "from sympycalcs import render, convert\n",
    "import sympy.physics.units as unit\n",
    "\n",
    "import matplotlib.pyplot as plt"
   ]
  },
  {
   "attachments": {},
   "cell_type": "markdown",
   "metadata": {},
   "source": [
    "## Parameter der Aufgabenstellung\n",
    "\n",
    "Die Auslegung des Tilgers kann folgender massen geschehen:\n",
    "\n",
    "- Tilgermasse $5\\%$ von der Masse des Hauptträgers.\n",
    "- Optimale Frequenz bestimmen: $$f_{T,opt} =\\frac{f_H}{1+\\frac{m_T}{m_H}}$$\n",
    "- Daraus die optimale Steifigkeit bestimmen:$$k_{T,opt} = (2 \\pi f_{T,opt})^2$$"
   ]
  },
  {
   "cell_type": "code",
   "execution_count": 2,
   "metadata": {},
   "outputs": [
    {
     "data": {
      "text/latex": [
       "$\\displaystyle E = \\frac{200000 \\text{N}}{\\text{mm}^{2}}$"
      ],
      "text/plain": [
       "Eq(E, 200000*newton/millimeter**2)"
      ]
     },
     "metadata": {},
     "output_type": "display_data"
    },
    {
     "data": {
      "text/latex": [
       "$\\displaystyle I = 200000000 \\text{mm}^{4}$"
      ],
      "text/plain": [
       "Eq(I, 200000000*millimeter**4)"
      ]
     },
     "metadata": {},
     "output_type": "display_data"
    },
    {
     "data": {
      "text/latex": [
       "$\\displaystyle m_{H} = \\frac{2000 \\text{N} \\text{s}^{2}}{\\text{m}}$"
      ],
      "text/plain": [
       "Eq(m_H, 2000*newton*second**2/meter)"
      ]
     },
     "metadata": {},
     "output_type": "display_data"
    },
    {
     "data": {
      "text/latex": [
       "$\\displaystyle m_{T} = \\frac{100 \\text{N} \\text{s}^{2}}{\\text{m}}$"
      ],
      "text/plain": [
       "Eq(m_T, 100*newton*second**2/meter)"
      ]
     },
     "metadata": {},
     "output_type": "display_data"
    },
    {
     "data": {
      "text/latex": [
       "$\\displaystyle k_{T} = \\frac{90000 \\text{N}}{\\text{m}}$"
      ],
      "text/plain": [
       "Eq(k_T, 90000*newton/meter)"
      ]
     },
     "metadata": {},
     "output_type": "display_data"
    },
    {
     "data": {
      "text/latex": [
       "$\\displaystyle l = 5 \\text{m}$"
      ],
      "text/plain": [
       "Eq(l, 5*meter)"
      ]
     },
     "metadata": {},
     "output_type": "display_data"
    },
    {
     "data": {
      "text/latex": [
       "$\\displaystyle F_{0} = 800.0 \\text{N}$"
      ],
      "text/plain": [
       "Eq(F_0, 800.0*newton)"
      ]
     },
     "metadata": {},
     "output_type": "display_data"
    },
    {
     "data": {
      "text/latex": [
       "$\\displaystyle \\omega = \\frac{12.6}{\\text{s}}$"
      ],
      "text/plain": [
       "Eq(omega, 12.6/second)"
      ]
     },
     "metadata": {},
     "output_type": "display_data"
    },
    {
     "data": {
      "text/latex": [
       "$\\displaystyle \\phi_{11} = 1$"
      ],
      "text/plain": [
       "Eq(phi_11, 1)"
      ]
     },
     "metadata": {},
     "output_type": "display_data"
    },
    {
     "data": {
      "text/latex": [
       "$\\displaystyle \\phi_{12} = 1$"
      ],
      "text/plain": [
       "Eq(phi_12, 1)"
      ]
     },
     "metadata": {},
     "output_type": "display_data"
    },
    {
     "data": {
      "text/latex": [
       "$\\displaystyle \\zeta = 0.0$"
      ],
      "text/plain": [
       "Eq(zeta, 0.0)"
      ]
     },
     "metadata": {},
     "output_type": "display_data"
    }
   ],
   "source": [
    "params = {'E': 200*10**3 *unit.N/unit.mm**2,\n",
    "          'I':2*10**8*unit.mm**4,\n",
    "          'm_H':2000*unit.N*unit.second**2/unit.m,\n",
    "          'm_T':100*unit.N*unit.second**2/unit.m,\n",
    "          'k_T':90*10**3*unit.N/unit.m,\n",
    "          'l':5*unit.m,\n",
    "          'F_0':0.8*10**3*unit.N,\n",
    "          'omega':12.6/unit.second,\n",
    "          'phi_11':1,\n",
    "          'phi_12':1,\n",
    "          'zeta':0.0         \n",
    "          }\n",
    "\n",
    "render.dict_render(params)"
   ]
  },
  {
   "cell_type": "code",
   "execution_count": 3,
   "metadata": {},
   "outputs": [],
   "source": [
    "E, I, m_H, m_T, k_T, l, F_0, omega, delta_11, delta_12 = sp.symbols('E, I, m_H, m_T, k_T, l, F_0, omega, delta_11, delta_12')\n",
    "\n",
    "t = sp.symbols('t')"
   ]
  },
  {
   "cell_type": "code",
   "execution_count": 4,
   "metadata": {},
   "outputs": [
    {
     "data": {
      "text/latex": [
       "$\\displaystyle F{\\left(t \\right)} = F_{0} \\sin{\\left(\\omega t \\right)}$"
      ],
      "text/plain": [
       "Eq(F(t), F_0*sin(omega*t))"
      ]
     },
     "metadata": {},
     "output_type": "display_data"
    },
    {
     "data": {
      "text/latex": [
       "$\\displaystyle F{\\left(t \\right)} = 800.0 \\sin{\\left(\\frac{12.6 t}{\\text{s}} \\right)} \\text{N}$"
      ],
      "text/plain": [
       "Eq(F(t), 800.0*newton*sin(12.6*t/second))"
      ]
     },
     "metadata": {},
     "output_type": "display_data"
    }
   ],
   "source": [
    "F_t = F_0 * sp.sin(omega*t)\n",
    "\n",
    "render.eq_display('F(t)', F_t,\n",
    "                  'F(t)', F_t.subs(params))"
   ]
  },
  {
   "attachments": {},
   "cell_type": "markdown",
   "metadata": {},
   "source": [
    "## Steifigkeitsmatrix $\\mathbf{K}$\n",
    "\n",
    "\n",
    "![Verformungen an den beiden Freiheitsgraden](pictures/mms3_steifigkeit.jpg){#fig-verformungen}\n",
    "\n",
    "\n",
    "Wichtig dabei sind die Richtungen der Kräfte. Als Denkstütze gilt folgendes:\n",
    "- Der Auslenkung um $u$ wirkt die Federkraft entgegen, welche $k u$ entspricht.\n",
    "- Zusätzlich wirkt die Trägheitskraft der Auslenkung entgegen, welche $m u''$ entspricht.\n",
    "- Nach der Betrachtung des ausgelenkten Punkts, kann mittels *Actio-Reactio*-Prinzip das \"*Stockwerk*\" ins Gleichgewicht gebracht werden.\n",
    "- Vorzeichen sind gegen der Bewegungsrichtig positiv."
   ]
  },
  {
   "cell_type": "code",
   "execution_count": 5,
   "metadata": {},
   "outputs": [
    {
     "data": {
      "text/latex": [
       "$\\displaystyle K = \\left[\\begin{matrix}k_{H} + k_{T} & - k_{T}\\\\- k_{T} & k_{T}\\end{matrix}\\right]$"
      ],
      "text/plain": [
       "Eq(K, Matrix([\n",
       "[k_H + k_T, -k_T],\n",
       "[     -k_T,  k_T]]))"
      ]
     },
     "metadata": {},
     "output_type": "display_data"
    },
    {
     "data": {
      "text/latex": [
       "$\\displaystyle K = \\left[\\begin{matrix}\\frac{2010000 \\text{N}}{\\text{m}} & - \\frac{90000 \\text{N}}{\\text{m}}\\\\- \\frac{90000 \\text{N}}{\\text{m}} & \\frac{90000 \\text{N}}{\\text{m}}\\end{matrix}\\right]$"
      ],
      "text/plain": [
       "Eq(K, Matrix([\n",
       "[2010000*newton/meter, -90000*newton/meter],\n",
       "[ -90000*newton/meter,  90000*newton/meter]]))"
      ]
     },
     "metadata": {},
     "output_type": "display_data"
    }
   ],
   "source": [
    "k_T, k_H = sp.symbols('k_T, k_H')\n",
    "\n",
    "params['k_H'] = (48 * E*I / (2*l)**3).subs(params).simplify()\n",
    "K = sp.Matrix([[k_H + k_T, -k_T],[-k_T, k_T]])\n",
    "\n",
    "\n",
    "render.eq_display(sp.MatrixSymbol('K', 2,2), K,\n",
    "                  sp.MatrixSymbol('K', 2,2), K.subs(params),\n",
    "                  )"
   ]
  },
  {
   "attachments": {},
   "cell_type": "markdown",
   "metadata": {},
   "source": [
    "## Eigenvektoren\n",
    "### Massenmatrix $\\mathbf{M}$ \n",
    "\n",
    "Die Massenmatrix folgt dem gleichen Aufbau wie die Steifigkeitsmatrix. Es gelten die gleichen Vorzeichenregelungen. Die Einträge beziehen sich auf @fig-verformungen ."
   ]
  },
  {
   "cell_type": "code",
   "execution_count": 6,
   "metadata": {},
   "outputs": [
    {
     "data": {
      "text/latex": [
       "$\\displaystyle M = \\left[\\begin{matrix}m_{H} & 0\\\\0 & m_{T}\\end{matrix}\\right]$"
      ],
      "text/plain": [
       "Eq(M, Matrix([\n",
       "[m_H,   0],\n",
       "[  0, m_T]]))"
      ]
     },
     "metadata": {},
     "output_type": "display_data"
    },
    {
     "data": {
      "text/latex": [
       "$\\displaystyle M = \\left[\\begin{matrix}\\frac{2000 \\text{N} \\text{s}^{2}}{\\text{m}} & 0\\\\0 & \\frac{100 \\text{N} \\text{s}^{2}}{\\text{m}}\\end{matrix}\\right]$"
      ],
      "text/plain": [
       "Eq(M, Matrix([\n",
       "[2000*newton*second**2/meter,                          0],\n",
       "[                          0, 100*newton*second**2/meter]]))"
      ]
     },
     "metadata": {},
     "output_type": "display_data"
    }
   ],
   "source": [
    "M = sp.Matrix([[m_H, 0],[0, m_T]])\n",
    "\n",
    "render.eq_display(sp.MatrixSymbol('M', 2,2), M,\n",
    "                  sp.MatrixSymbol('M', 2,2), M.subs(params))"
   ]
  },
  {
   "attachments": {},
   "cell_type": "markdown",
   "metadata": {},
   "source": [
    "### Eigenkreisfrequenzen \n",
    "Bei einem Mehrmassenschwinger gibt es entsprechend den Freiheitsgraden Eigenkreisfrequenzen $\\omega_n$. Diese lassen sich anhand folgender Gleichung bestimmen:\n",
    "\n",
    "$$\\det{[\\mathbf{K}-\\omega_n^2 \\mathbf{M}]=0}$$"
   ]
  },
  {
   "cell_type": "code",
   "execution_count": 7,
   "metadata": {},
   "outputs": [
    {
     "data": {
      "text/latex": [
       "$\\displaystyle \\omega_{1} = \\frac{27.3}{\\text{s}}$"
      ],
      "text/plain": [
       "Eq(omega_1, 27.3/second)"
      ]
     },
     "metadata": {},
     "output_type": "display_data"
    },
    {
     "data": {
      "text/latex": [
       "$\\displaystyle \\omega_{2} = \\frac{34.1}{\\text{s}}$"
      ],
      "text/plain": [
       "Eq(omega_2, 34.1/second)"
      ]
     },
     "metadata": {},
     "output_type": "display_data"
    }
   ],
   "source": [
    "omega_n =sp.symbols('omega_n')\n",
    "eq_omega = sp.det(K-omega_n**2*M)\n",
    "\n",
    "omega_n_solve = sp.solve(eq_omega, omega_n)\n",
    "omega_1 = omega_n_solve[1]\n",
    "omega_2 = omega_n_solve[3]\n",
    "\n",
    "render.eq_display('omega_1', omega_1.subs(params).simplify().evalf(3),\n",
    "                  'omega_2', omega_2.subs(params).simplify().evalf(3))"
   ]
  },
  {
   "attachments": {},
   "cell_type": "markdown",
   "metadata": {},
   "source": [
    "### Eigenvektoren $\\mathbf{\\phi}$\n",
    "\n",
    "Dazu ist die entsprechende Normierung aus der Aufgabenstellung zu berücksichtigen."
   ]
  },
  {
   "cell_type": "code",
   "execution_count": 8,
   "metadata": {},
   "outputs": [
    {
     "data": {
      "text/latex": [
       "$\\displaystyle \\left[\\begin{matrix}- k_{T} \\phi_{21} + \\phi_{11} \\left(k_{H} + k_{T} - m_{H} \\left(\\frac{k_{H}}{2 m_{H}} + \\frac{k_{T}}{2 m_{T}} + \\frac{k_{T}}{2 m_{H}} - \\frac{\\sqrt{k_{H}^{2} m_{T}^{2} - 2 k_{H} k_{T} m_{H} m_{T} + 2 k_{H} k_{T} m_{T}^{2} + k_{T}^{2} m_{H}^{2} + 2 k_{T}^{2} m_{H} m_{T} + k_{T}^{2} m_{T}^{2}}}{2 m_{H} m_{T}}\\right)\\right)\\\\- k_{T} \\phi_{11} + \\phi_{21} \\left(k_{T} - m_{T} \\left(\\frac{k_{H}}{2 m_{H}} + \\frac{k_{T}}{2 m_{T}} + \\frac{k_{T}}{2 m_{H}} - \\frac{\\sqrt{k_{H}^{2} m_{T}^{2} - 2 k_{H} k_{T} m_{H} m_{T} + 2 k_{H} k_{T} m_{T}^{2} + k_{T}^{2} m_{H}^{2} + 2 k_{T}^{2} m_{H} m_{T} + k_{T}^{2} m_{T}^{2}}}{2 m_{H} m_{T}}\\right)\\right)\\end{matrix}\\right] = \\left[\\begin{matrix}0\\\\0\\end{matrix}\\right]$"
      ],
      "text/plain": [
       "Eq(Matrix([\n",
       "[-k_T*phi_21 + phi_11*(k_H + k_T - m_H*(k_H/(2*m_H) + k_T/(2*m_T) + k_T/(2*m_H) - sqrt(k_H**2*m_T**2 - 2*k_H*k_T*m_H*m_T + 2*k_H*k_T*m_T**2 + k_T**2*m_H**2 + 2*k_T**2*m_H*m_T + k_T**2*m_T**2)/(2*m_H*m_T)))],\n",
       "[      -k_T*phi_11 + phi_21*(k_T - m_T*(k_H/(2*m_H) + k_T/(2*m_T) + k_T/(2*m_H) - sqrt(k_H**2*m_T**2 - 2*k_H*k_T*m_H*m_T + 2*k_H*k_T*m_T**2 + k_T**2*m_H**2 + 2*k_T**2*m_H*m_T + k_T**2*m_T**2)/(2*m_H*m_T)))]]), Matrix([\n",
       "[0],\n",
       "[0]]))"
      ]
     },
     "metadata": {},
     "output_type": "display_data"
    },
    {
     "data": {
      "text/latex": [
       "$\\displaystyle \\phi_{1} = \\left[\\begin{matrix}1.0\\\\5.79\\end{matrix}\\right]$"
      ],
      "text/plain": [
       "Eq(phi_1, Matrix([\n",
       "[ 1.0],\n",
       "[5.79]]))"
      ]
     },
     "metadata": {},
     "output_type": "display_data"
    }
   ],
   "source": [
    "phi_11, phi_21, phi_12, phi_22 = sp.symbols('phi_11, phi_21, phi_12, phi_22')\n",
    "\n",
    "phi_1 = sp.Matrix([[phi_11], [phi_21]])\n",
    "\n",
    "phi_21 = list(sp.solve((K-omega_1**2 *M)*phi_1, phi_21).values())[0]\n",
    "\n",
    "params['phi_21'] = phi_21.subs(params).simplify() \n",
    "\n",
    "\n",
    "\n",
    "\n",
    "render.eq_display((K-omega_1**2 *M)*phi_1,sp.Matrix([[0],[0]]),\n",
    "                  sp.MatrixSymbol('phi_1', 2,1),sp.simplify(phi_1.subs(params)).evalf(3))\n"
   ]
  },
  {
   "cell_type": "code",
   "execution_count": 9,
   "metadata": {},
   "outputs": [
    {
     "data": {
      "text/latex": [
       "$\\displaystyle \\left[\\begin{matrix}- k_{T} \\phi_{22} + \\phi_{12} \\left(k_{H} + k_{T} - m_{H} \\left(\\frac{k_{H}}{2 m_{H}} + \\frac{k_{T}}{2 m_{T}} + \\frac{k_{T}}{2 m_{H}} + \\frac{\\sqrt{k_{H}^{2} m_{T}^{2} - 2 k_{H} k_{T} m_{H} m_{T} + 2 k_{H} k_{T} m_{T}^{2} + k_{T}^{2} m_{H}^{2} + 2 k_{T}^{2} m_{H} m_{T} + k_{T}^{2} m_{T}^{2}}}{2 m_{H} m_{T}}\\right)\\right)\\\\- k_{T} \\phi_{12} + \\phi_{22} \\left(k_{T} - m_{T} \\left(\\frac{k_{H}}{2 m_{H}} + \\frac{k_{T}}{2 m_{T}} + \\frac{k_{T}}{2 m_{H}} + \\frac{\\sqrt{k_{H}^{2} m_{T}^{2} - 2 k_{H} k_{T} m_{H} m_{T} + 2 k_{H} k_{T} m_{T}^{2} + k_{T}^{2} m_{H}^{2} + 2 k_{T}^{2} m_{H} m_{T} + k_{T}^{2} m_{T}^{2}}}{2 m_{H} m_{T}}\\right)\\right)\\end{matrix}\\right] = \\left[\\begin{matrix}0\\\\0\\end{matrix}\\right]$"
      ],
      "text/plain": [
       "Eq(Matrix([\n",
       "[-k_T*phi_22 + phi_12*(k_H + k_T - m_H*(k_H/(2*m_H) + k_T/(2*m_T) + k_T/(2*m_H) + sqrt(k_H**2*m_T**2 - 2*k_H*k_T*m_H*m_T + 2*k_H*k_T*m_T**2 + k_T**2*m_H**2 + 2*k_T**2*m_H*m_T + k_T**2*m_T**2)/(2*m_H*m_T)))],\n",
       "[      -k_T*phi_12 + phi_22*(k_T - m_T*(k_H/(2*m_H) + k_T/(2*m_T) + k_T/(2*m_H) + sqrt(k_H**2*m_T**2 - 2*k_H*k_T*m_H*m_T + 2*k_H*k_T*m_T**2 + k_T**2*m_H**2 + 2*k_T**2*m_H*m_T + k_T**2*m_T**2)/(2*m_H*m_T)))]]), Matrix([\n",
       "[0],\n",
       "[0]]))"
      ]
     },
     "metadata": {},
     "output_type": "display_data"
    },
    {
     "data": {
      "text/latex": [
       "$\\displaystyle \\phi_{2} = \\left[\\begin{matrix}1.0\\\\-3.46\\end{matrix}\\right]$"
      ],
      "text/plain": [
       "Eq(phi_2, Matrix([\n",
       "[  1.0],\n",
       "[-3.46]]))"
      ]
     },
     "metadata": {},
     "output_type": "display_data"
    }
   ],
   "source": [
    "phi_2 = sp.Matrix([[phi_12], [phi_22]])\n",
    "\n",
    "phi_22 = list(sp.solve((K-omega_2**2 *M)*phi_2, phi_22).values())[0]\n",
    "\n",
    "params['phi_22'] = phi_22.subs(params).simplify() \n",
    "\n",
    "\n",
    "\n",
    "\n",
    "render.eq_display((K-omega_2**2 *M)*phi_2,sp.Matrix([[0],[0]]),\n",
    "                  sp.MatrixSymbol('phi_2', 2,1),sp.simplify(phi_2.subs(params)).evalf(3))\n"
   ]
  },
  {
   "attachments": {},
   "cell_type": "markdown",
   "metadata": {},
   "source": [
    "### Orthogonalitätsbedingung\n",
    "\n",
    "Zur effektiven Entkoppelung der Gleichungen muss die Orthogonalitätsbedingung eingehalten sein. Dies gilt es für die Massenmatrix zu kontrollieren:\n",
    "\n",
    "$$\\mathbf{\\phi_1^T M \\phi_1 \\neq 0}$$\n",
    "\n",
    "$$\\mathbf{\\phi_2^T M \\phi_2 \\neq 0}$$\n",
    "\n",
    "$$\\mathbf{\\phi_2^T M \\phi_1 = 0}$$\n",
    "\n",
    "Sowohl auch für die Steifigkeitsmatrix:\n",
    "\n",
    "$$\\mathbf{\\phi_1^T K \\phi_1 \\neq 0}$$\n",
    "\n",
    "$$\\mathbf{\\phi_2^T K \\phi_2 \\neq 0}$$\n",
    "\n",
    "$$\\mathbf{\\phi_2^T K \\phi_1 = 0}$$\n",
    "\n"
   ]
  },
  {
   "cell_type": "code",
   "execution_count": 10,
   "metadata": {},
   "outputs": [
    {
     "data": {
      "text/latex": [
       "$\\displaystyle \\phi_{1}^{T} M \\phi_{1} = \\left[\\begin{matrix}\\frac{5.35 \\cdot 10^{3} \\text{N} \\text{s}^{2}}{\\text{m}}\\end{matrix}\\right]$"
      ],
      "text/plain": [
       "Eq(phi_1.T*M*phi_1, Matrix([[5.35e+3*newton*second**2/meter]]))"
      ]
     },
     "metadata": {},
     "output_type": "display_data"
    },
    {
     "data": {
      "text/latex": [
       "$\\displaystyle \\phi_{2}^{T} M \\phi_{2} = \\left[\\begin{matrix}\\frac{3.19 \\cdot 10^{3} \\text{N} \\text{s}^{2}}{\\text{m}}\\end{matrix}\\right]$"
      ],
      "text/plain": [
       "Eq(phi_2.T*M*phi_2, Matrix([[3.19e+3*newton*second**2/meter]]))"
      ]
     },
     "metadata": {},
     "output_type": "display_data"
    },
    {
     "data": {
      "text/latex": [
       "$\\displaystyle \\phi_{2}^{T} M \\phi_{1} = \\left[\\begin{matrix}\\frac{3.051758 \\cdot 10^{-5} \\text{N} \\text{s}^{2}}{\\text{m}}\\end{matrix}\\right]$"
      ],
      "text/plain": [
       "Eq(phi_2.T*M*phi_1, Matrix([[3.051758e-5*newton*second**2/meter]]))"
      ]
     },
     "metadata": {},
     "output_type": "display_data"
    },
    {
     "data": {
      "text/latex": [
       "$\\displaystyle \\phi_{1}^{T} M \\phi_{2} = \\left[\\begin{matrix}\\frac{3.051758 \\cdot 10^{-5} \\text{N} \\text{s}^{2}}{\\text{m}}\\end{matrix}\\right]$"
      ],
      "text/plain": [
       "Eq(phi_1.T*M*phi_2, Matrix([[3.051758e-5*newton*second**2/meter]]))"
      ]
     },
     "metadata": {},
     "output_type": "display_data"
    }
   ],
   "source": [
    "render.eq_display(sp.MatrixSymbol('phi_1',2,1).T*sp.MatrixSymbol('M', 2,2)*sp.MatrixSymbol('phi_1',2,1),(phi_1.T*M*phi_1).subs(params).evalf(3),\n",
    "                  \n",
    "                  sp.MatrixSymbol('phi_2',2,1).T*sp.MatrixSymbol('M', 2,2)*sp.MatrixSymbol('phi_2',2,1),(phi_2.T*M*phi_2).subs(params).evalf(3),\n",
    "\n",
    "                  sp.MatrixSymbol('phi_2',2,1).T*sp.MatrixSymbol('M', 2,2)*sp.MatrixSymbol('phi_1',2,1),sp.simplify((phi_2.T*M*phi_1)).subs(params).evalf(7),\n",
    "\n",
    "                  sp.MatrixSymbol('phi_1',2,1).T*sp.MatrixSymbol('M', 2,2)*sp.MatrixSymbol('phi_2',2,1),(phi_1.T*M*phi_2).subs(params).evalf(7))"
   ]
  },
  {
   "attachments": {},
   "cell_type": "markdown",
   "metadata": {},
   "source": [
    "Es ist eine kleine numerische Differenz zu erkennen."
   ]
  },
  {
   "cell_type": "code",
   "execution_count": 11,
   "metadata": {},
   "outputs": [
    {
     "data": {
      "text/latex": [
       "$\\displaystyle \\phi_{1}^{T} K \\phi_{1} = \\left[\\begin{matrix}\\frac{3.98 \\cdot 10^{6} \\text{N}}{\\text{m}}\\end{matrix}\\right]$"
      ],
      "text/plain": [
       "Eq(phi_1.T*K*phi_1, Matrix([[3.98e+6*newton/meter]]))"
      ]
     },
     "metadata": {},
     "output_type": "display_data"
    },
    {
     "data": {
      "text/latex": [
       "$\\displaystyle \\phi_{2}^{T} K \\phi_{2} = \\left[\\begin{matrix}\\frac{3.71 \\cdot 10^{6} \\text{N}}{\\text{m}}\\end{matrix}\\right]$"
      ],
      "text/plain": [
       "Eq(phi_2.T*K*phi_2, Matrix([[3.71e+6*newton/meter]]))"
      ]
     },
     "metadata": {},
     "output_type": "display_data"
    },
    {
     "data": {
      "text/latex": [
       "$\\displaystyle \\phi_{2}^{T} K \\phi_{1} = \\left[\\begin{matrix}0\\end{matrix}\\right]$"
      ],
      "text/plain": [
       "Eq(phi_2.T*K*phi_1, Matrix([[0]]))"
      ]
     },
     "metadata": {},
     "output_type": "display_data"
    },
    {
     "data": {
      "text/latex": [
       "$\\displaystyle \\phi_{1}^{T} K \\phi_{2} = \\left[\\begin{matrix}0\\end{matrix}\\right]$"
      ],
      "text/plain": [
       "Eq(phi_1.T*K*phi_2, Matrix([[0]]))"
      ]
     },
     "metadata": {},
     "output_type": "display_data"
    }
   ],
   "source": [
    "render.eq_display(sp.MatrixSymbol('phi_1',2,1).T*sp.MatrixSymbol('K', 2,2)*sp.MatrixSymbol('phi_1',2,1),sp.simplify((phi_1.T*K*phi_1).subs(params)).evalf(3),\n",
    "                  \n",
    "                  sp.MatrixSymbol('phi_2',2,1).T*sp.MatrixSymbol('K', 2,2)*sp.MatrixSymbol('phi_2',2,1),sp.simplify((phi_2.T*K*phi_2).subs(params)).evalf(3),\n",
    "\n",
    "                  sp.MatrixSymbol('phi_2',2,1).T*sp.MatrixSymbol('K', 2,2)*sp.MatrixSymbol('phi_1',2,1),sp.simplify((phi_2.T*K*phi_1).subs(params)).evalf(3),\n",
    "                  \n",
    "                  sp.MatrixSymbol('phi_1',2,1).T*sp.MatrixSymbol('K', 2,2)*sp.MatrixSymbol('phi_2',2,1),sp.simplify((phi_1.T*K*phi_2).subs(params)).evalf(3))"
   ]
  },
  {
   "attachments": {},
   "cell_type": "markdown",
   "metadata": {},
   "source": [
    "## Modale Analyse\n",
    "\n",
    "Die Bewegungsgleichung für einen ungedämpften, periodisch, harmonisch angeregten Mehrmassenschwinger lässt sich folgend beschreiben:\n",
    "\n",
    "$$\\mathbf{M u''(t) + K u = F(t)}$$\n",
    "\n",
    "Die Matrix-Gleichung beschreibt ein System aus Differentialgleichungen. Die Modale Analyse zielt darauf ab, diese zu entkoppeln. Bezogen auf den Mehrmassenschwinger heisst eine Entkoppelung, dass diese in Einmassenschwinger aufgeteilt werden. Dies wird nun schrittweise durchgeführt."
   ]
  },
  {
   "attachments": {},
   "cell_type": "markdown",
   "metadata": {},
   "source": [
    "### Modal- und Spektralmatrix\n",
    "\n",
    "Mittels der Modal- und Spektralmatrix können die generalisierten Grössen ermittelt werden. Diese sind die eigenschaften der einzelnen Einmassenschwinger. Die generalisierten Werte besitzen keine physikalischen Werte, sie sind abhängig von der Wahl der Eigenvektoren, welche bekanntlich von der Normierung abhängen.\n",
    "\n",
    "\n",
    "Aufgrund der Bewegungsgleichung können die generalisierten Grössen bestimmt werden, es gilt:\n",
    "\n",
    "$$\\mathbf{\\Phi^T M \\Phi u''(t) + \\Phi^T K \\Phi u(t) = \\Phi^T F(t)}$$\n",
    "\n",
    "$$\\mathbf{M^*u''(t) + K^* u(t) = F^* (t)}$$\n",
    "\n",
    "Alle $N$-Eigenwerte und alle $N$-Eigenvektoren können kompakt\n",
    "mit Matrizen ausgedrückt werden:\n"
   ]
  },
  {
   "cell_type": "code",
   "execution_count": 12,
   "metadata": {},
   "outputs": [
    {
     "data": {
      "text/latex": [
       "$\\displaystyle Modalmatrix = \\Phi$"
      ],
      "text/plain": [
       "Eq(Modalmatrix, Phi)"
      ]
     },
     "metadata": {},
     "output_type": "display_data"
    },
    {
     "data": {
      "text/latex": [
       "$\\displaystyle \\Phi = \\left[\\begin{matrix}1.0 & 1.0\\\\5.788 & -3.455\\end{matrix}\\right]$"
      ],
      "text/plain": [
       "Eq(Phi, Matrix([\n",
       "[  1.0,    1.0],\n",
       "[5.788, -3.455]]))"
      ]
     },
     "metadata": {},
     "output_type": "display_data"
    },
    {
     "data": {
      "text/latex": [
       "$\\displaystyle Spektralmatrix = \\Omega^{2}$"
      ],
      "text/plain": [
       "Eq(Spektralmatrix, Omega**2)"
      ]
     },
     "metadata": {},
     "output_type": "display_data"
    },
    {
     "data": {
      "text/latex": [
       "$\\displaystyle \\Omega^{2} = \\left[\\begin{matrix}\\frac{744.5}{\\text{s}^{2}} & 0\\\\0 & \\frac{1160.0}{\\text{s}^{2}}\\end{matrix}\\right]$"
      ],
      "text/plain": [
       "Eq(Omega^2, Matrix([\n",
       "[744.5/second**2,                0],\n",
       "[              0, 1160.0/second**2]]))"
      ]
     },
     "metadata": {},
     "output_type": "display_data"
    }
   ],
   "source": [
    "Phi = sp.Matrix([[phi_1, phi_2]])\n",
    "Omega = sp.Matrix([[omega_1, 0],[0, omega_2]])\n",
    "\n",
    "render.eq_display('Modalmatrix', 'Phi',\n",
    "                  sp.MatrixSymbol('Phi', 2, 2), Phi.subs(params).evalf(4),\n",
    "                  'Spektralmatrix', 'Omega^2',\n",
    "                  sp.MatrixSymbol('Omega^2', 2, 2), (Omega**2).subs(params).evalf(4))"
   ]
  },
  {
   "attachments": {},
   "cell_type": "markdown",
   "metadata": {},
   "source": [
    "### Generalisierte Grössen\n"
   ]
  },
  {
   "cell_type": "code",
   "execution_count": 13,
   "metadata": {},
   "outputs": [
    {
     "data": {
      "text/latex": [
       "$\\displaystyle M^{\\star} = \\left[\\begin{matrix}\\frac{5350.6 \\text{N} \\text{s}^{2}}{\\text{m}} & 0\\\\0 & \\frac{3193.8 \\text{N} \\text{s}^{2}}{\\text{m}}\\end{matrix}\\right]$"
      ],
      "text/plain": [
       "Eq(M^\\star, Matrix([\n",
       "[5350.6*newton*second**2/meter,                             0],\n",
       "[                            0, 3193.8*newton*second**2/meter]]))"
      ]
     },
     "metadata": {},
     "output_type": "display_data"
    },
    {
     "data": {
      "text/latex": [
       "$\\displaystyle K^{\\star} = \\left[\\begin{matrix}\\frac{3.9837 \\cdot 10^{6} \\text{N}}{\\text{m}} & 0\\\\0 & \\frac{3.7063 \\cdot 10^{6} \\text{N}}{\\text{m}}\\end{matrix}\\right]$"
      ],
      "text/plain": [
       "Eq(K^\\star, Matrix([\n",
       "[3.9837e+6*newton/meter,                      0],\n",
       "[                     0, 3.7063e+6*newton/meter]]))"
      ]
     },
     "metadata": {},
     "output_type": "display_data"
    },
    {
     "data": {
      "text/latex": [
       "$\\displaystyle F(t) = \\left[\\begin{matrix}800.0 \\sin{\\left(\\frac{12.6 t}{\\text{s}} \\right)} \\text{N}\\\\0\\end{matrix}\\right]$"
      ],
      "text/plain": [
       "Eq(F(t), Matrix([\n",
       "[800.0*newton*sin(12.6*t/second)],\n",
       "[                              0]]))"
      ]
     },
     "metadata": {},
     "output_type": "display_data"
    },
    {
     "data": {
      "text/latex": [
       "$\\displaystyle F(t)^{\\star} = \\left[\\begin{matrix}800.0 \\sin{\\left(\\frac{12.6 t}{\\text{s}} \\right)} \\text{N}\\\\800.0 \\sin{\\left(\\frac{12.6 t}{\\text{s}} \\right)} \\text{N}\\end{matrix}\\right]$"
      ],
      "text/plain": [
       "Eq(F(t)^\\star, Matrix([\n",
       "[800.0*newton*sin(12.6*t/second)],\n",
       "[800.0*newton*sin(12.6*t/second)]]))"
      ]
     },
     "metadata": {},
     "output_type": "display_data"
    }
   ],
   "source": [
    "M_star = Phi.T * M * Phi\n",
    "K_star = Phi.T * K * Phi\n",
    "F_t_matrix = sp.Matrix([[F_t],[0]])\n",
    "F_t_star = Phi.T * F_t_matrix\n",
    "\n",
    "render.eq_display(sp.MatrixSymbol('M^\\star', 2,2),sp.simplify(M_star.subs(params)).evalf(5),\n",
    "                  sp.MatrixSymbol('K^\\star', 2,2),sp.simplify(K_star.subs(params)).evalf(5),\n",
    "                  sp.MatrixSymbol('F(t)', 2,1),sp.simplify(F_t_matrix.subs(params)).evalf(5),\n",
    "                  sp.MatrixSymbol('F(t)^\\star', 2,1),sp.simplify(F_t_star.subs(params)).evalf(5))"
   ]
  },
  {
   "attachments": {},
   "cell_type": "markdown",
   "metadata": {},
   "source": [
    "### Kontrolle der modalen Transformation"
   ]
  },
  {
   "cell_type": "code",
   "execution_count": 14,
   "metadata": {},
   "outputs": [
    {
     "data": {
      "text/latex": [
       "$\\displaystyle \\omega_{1} = \\frac{27.3}{\\text{s}}$"
      ],
      "text/plain": [
       "Eq(omega_1, 27.3/second)"
      ]
     },
     "metadata": {},
     "output_type": "display_data"
    },
    {
     "data": {
      "text/latex": [
       "$\\displaystyle \\omega_{1 modal} = \\frac{27.3}{\\text{s}}$"
      ],
      "text/plain": [
       "Eq(omega_1_modal, 27.3/second)"
      ]
     },
     "metadata": {},
     "output_type": "display_data"
    },
    {
     "data": {
      "text/latex": [
       "$\\displaystyle \\omega_{2} = \\frac{34.07}{\\text{s}}$"
      ],
      "text/plain": [
       "Eq(omega_2, 34.07/second)"
      ]
     },
     "metadata": {},
     "output_type": "display_data"
    },
    {
     "data": {
      "text/latex": [
       "$\\displaystyle \\omega_{2 modal} = \\frac{34.07}{\\text{s}}$"
      ],
      "text/plain": [
       "Eq(omega_2_modal, 34.07/second)"
      ]
     },
     "metadata": {},
     "output_type": "display_data"
    }
   ],
   "source": [
    "omega_1_kontrolle = sp.sqrt(K_star[0] / M_star[0])\n",
    "omega_2_kontrolle = sp.sqrt(K_star[3] / M_star[3])\n",
    "\n",
    "render.eq_display('omega_1', omega_1.subs(params).simplify().evalf(3),\n",
    "                  'omega_1_modal', omega_1_kontrolle.subs(params).simplify().evalf(3),\n",
    "                  'omega_2', omega_2.subs(params).simplify().evalf(4),\n",
    "                  'omega_2_modal', omega_2_kontrolle.subs(params).simplify().evalf(4))\n",
    "\n",
    "\n"
   ]
  },
  {
   "attachments": {},
   "cell_type": "markdown",
   "metadata": {},
   "source": [
    "## Stationäre Antwort\n",
    "\n",
    "Die stationäre Antwort wird mittels des Vergrösserungsfaktors bestimmt.\n",
    "\n",
    "Die entkoppelte Differentialgleichung ist nun die folgende:\n",
    "\n",
    "$$m^\\star_1 q_1''(t) + k^\\star_1 q_1(t) = F^\\star_1(t) = F^\\star_1 \\sin(\\omega t)$$\n",
    "\n",
    "$$m^\\star_2 q_2''(t) + k^\\star_2 q_2(t) = F^\\star_2(t) = F^\\star_2 \\sin(\\omega t)$$\n",
    "\n",
    "Lösen lässt sich dies mit dem bekannten Ansatz:\n",
    "\n",
    "$$q_n(t) = A_n \\sin(\\omega t) + B_n \\cos(\\omega)$$\n"
   ]
  },
  {
   "attachments": {},
   "cell_type": "markdown",
   "metadata": {},
   "source": [
    "### Verformung"
   ]
  },
  {
   "cell_type": "code",
   "execution_count": 15,
   "metadata": {},
   "outputs": [
    {
     "data": {
      "text/latex": [
       "$\\displaystyle V_{1}{\\left(\\omega \\right)} = \\frac{1}{\\sqrt{\\frac{4 \\omega^{2} \\zeta_{}^{2}}{\\omega_{1}^{2}} + \\left(- \\frac{\\omega^{2}}{\\omega_{1}^{2}} + 1\\right)^{2}}}$"
      ],
      "text/plain": [
       "Eq(V_1(omega), 1/sqrt(4*omega**2*zeta_**2/omega_1**2 + (-omega**2/omega_1**2 + 1)**2))"
      ]
     },
     "metadata": {},
     "output_type": "display_data"
    },
    {
     "data": {
      "text/latex": [
       "$\\displaystyle V_{1}{\\left(\\omega \\right)} = 1.27$"
      ],
      "text/plain": [
       "Eq(V_1(omega), 1.27)"
      ]
     },
     "metadata": {},
     "output_type": "display_data"
    },
    {
     "data": {
      "text/latex": [
       "$\\displaystyle q_{1 stat} = 0.201 \\text{mm}$"
      ],
      "text/plain": [
       "Eq(q_1_stat, 0.201*millimeter)"
      ]
     },
     "metadata": {},
     "output_type": "display_data"
    },
    {
     "data": {
      "text/latex": [
       "$\\displaystyle q_{1 max} = 0.255 \\text{mm}$"
      ],
      "text/plain": [
       "Eq(q_1_max, 0.255*millimeter)"
      ]
     },
     "metadata": {},
     "output_type": "display_data"
    }
   ],
   "source": [
    "zeta = sp.symbols('zeta')\n",
    "\n",
    "V_1_omega = 1/(sp.sqrt((1-(omega/omega_1)**2)**2 + (2*zeta*(omega/omega_1))**2))\n",
    "\n",
    "q_1_stat = F_0 / K_star[0]\n",
    "q_1_max = q_1_stat*V_1_omega\n",
    "\n",
    "render.eq_display('V_1(omega)', '1/(sqrt((1-(omega/omega_1)**2)**2 + (2*zeta_*(omega/omega_1))**2))',\n",
    "                  'V_1(omega)', V_1_omega.subs(params).simplify().evalf(3),\n",
    "                  'q_1_stat', unit.convert_to(q_1_stat.subs(params).simplify().evalf(3), unit.mm),\n",
    "                  'q_1_max', unit.convert_to(q_1_max.subs(params).simplify().evalf(3), unit.mm),)"
   ]
  },
  {
   "cell_type": "code",
   "execution_count": 16,
   "metadata": {},
   "outputs": [
    {
     "data": {
      "text/latex": [
       "$\\displaystyle V_{2}{\\left(\\omega \\right)} = \\frac{1}{\\sqrt{\\frac{4 \\omega^{2} \\zeta_{}^{2}}{\\omega_{2}^{2}} + \\left(- \\frac{\\omega^{2}}{\\omega_{2}^{2}} + 1\\right)^{2}}}$"
      ],
      "text/plain": [
       "Eq(V_2(omega), 1/sqrt(4*omega**2*zeta_**2/omega_2**2 + (-omega**2/omega_2**2 + 1)**2))"
      ]
     },
     "metadata": {},
     "output_type": "display_data"
    },
    {
     "data": {
      "text/latex": [
       "$\\displaystyle V_{2}{\\left(\\omega \\right)} = 1.16$"
      ],
      "text/plain": [
       "Eq(V_2(omega), 1.16)"
      ]
     },
     "metadata": {},
     "output_type": "display_data"
    },
    {
     "data": {
      "text/latex": [
       "$\\displaystyle q_{2 stat} = 0.216 \\text{mm}$"
      ],
      "text/plain": [
       "Eq(q_2_stat, 0.216*millimeter)"
      ]
     },
     "metadata": {},
     "output_type": "display_data"
    },
    {
     "data": {
      "text/latex": [
       "$\\displaystyle q_{2 max} = 0.25 \\text{mm}$"
      ],
      "text/plain": [
       "Eq(q_2_max, 0.25*millimeter)"
      ]
     },
     "metadata": {},
     "output_type": "display_data"
    }
   ],
   "source": [
    "\n",
    "V_2_omega = 1/(sp.sqrt((1-(omega/omega_2)**2)**2 + (2*zeta*(omega/omega_2))**2))\n",
    "\n",
    "q_2_stat = F_0 / K_star[3]\n",
    "q_2_max = q_2_stat*V_2_omega\n",
    "\n",
    "\n",
    "\n",
    "render.eq_display('V_2(omega)', '1/(sqrt((1-(omega/omega_2)**2)**2 + (2*zeta_*(omega/omega_2))**2))',\n",
    "                  'V_2(omega)', V_2_omega.subs(params).simplify().evalf(3),\n",
    "                  'q_2_stat', unit.convert_to(q_2_stat.subs(params).simplify().evalf(3), unit.mm),\n",
    "                  'q_2_max', unit.convert_to(q_2_max.subs(params).simplify().evalf(3), unit.mm))"
   ]
  },
  {
   "attachments": {},
   "cell_type": "markdown",
   "metadata": {},
   "source": [
    "#### Effektive Deformation"
   ]
  },
  {
   "cell_type": "code",
   "execution_count": 17,
   "metadata": {},
   "outputs": [
    {
     "data": {
      "text/latex": [
       "$\\displaystyle \\left[\\begin{matrix}u_{1max}\\\\u_{2max}\\end{matrix}\\right] = \\left[\\begin{matrix}0.505 \\text{mm}\\\\0.613 \\text{mm}\\end{matrix}\\right]$"
      ],
      "text/plain": [
       "Eq(Matrix([\n",
       "[u_1max],\n",
       "[u_2max]]), Matrix([\n",
       "[0.505*millimeter],\n",
       "[0.613*millimeter]]))"
      ]
     },
     "metadata": {},
     "output_type": "display_data"
    }
   ],
   "source": [
    "u_1_stat = q_1_max*phi_1\n",
    "u_2_stat = q_2_max*phi_2\n",
    "u_stat = u_1_stat + u_2_stat\n",
    "\n",
    "render.eq_display('Matrix([[u_1max],[u_2max]])',unit.convert_to(u_stat.subs(params).evalf(3),unit.mm))\n"
   ]
  },
  {
   "attachments": {},
   "cell_type": "markdown",
   "metadata": {},
   "source": [
    "### Beschleunigung"
   ]
  },
  {
   "cell_type": "code",
   "execution_count": 18,
   "metadata": {},
   "outputs": [
    {
     "data": {
      "text/latex": [
       "$\\displaystyle V_{a1}{\\left(\\omega \\right)} = 0.271$"
      ],
      "text/plain": [
       "Eq(V_a1(omega), 0.271)"
      ]
     },
     "metadata": {},
     "output_type": "display_data"
    },
    {
     "data": {
      "text/latex": [
       "$\\displaystyle \\frac{d^{2}}{d t^{2}} q_{max} = \\frac{0.0405 \\text{m}}{\\text{s}^{2}}$"
      ],
      "text/plain": [
       "Eq(Derivative(q_max, (t, 2)), 0.0405*meter/second**2)"
      ]
     },
     "metadata": {},
     "output_type": "display_data"
    }
   ],
   "source": [
    "V_a1_omega = omega**2 / omega_1**2 * V_1_omega\n",
    "\n",
    "q_2_1_max =  F_0 / M_star[0] * V_a1_omega\n",
    "\n",
    "render.eq_display('V_a1(omega)', V_a1_omega.subs(params).simplify().evalf(3),\n",
    "                  'Derivative(q_max,t,2)', q_2_1_max.subs(params).simplify().evalf(3))"
   ]
  },
  {
   "cell_type": "code",
   "execution_count": 19,
   "metadata": {},
   "outputs": [
    {
     "data": {
      "text/latex": [
       "$\\displaystyle V_{a2}{\\left(\\omega \\right)} = 0.158$"
      ],
      "text/plain": [
       "Eq(V_a2(omega), 0.158)"
      ]
     },
     "metadata": {},
     "output_type": "display_data"
    },
    {
     "data": {
      "text/latex": [
       "$\\displaystyle \\frac{d^{2}}{d t^{2}} q_{max} = \\frac{0.0397 \\text{m}}{\\text{s}^{2}}$"
      ],
      "text/plain": [
       "Eq(Derivative(q_max, (t, 2)), 0.0397*meter/second**2)"
      ]
     },
     "metadata": {},
     "output_type": "display_data"
    }
   ],
   "source": [
    "V_a2_omega = omega**2 / omega_2**2 * V_2_omega\n",
    "\n",
    "q_2_2_max =  F_0 / M_star[3] * V_a2_omega\n",
    "\n",
    "render.eq_display('V_a2(omega)', V_a2_omega.subs(params).simplify().evalf(3),'Derivative(q_max,t,2)', q_2_2_max.subs(params).simplify().evalf(3))"
   ]
  },
  {
   "cell_type": "code",
   "execution_count": 20,
   "metadata": {},
   "outputs": [
    {
     "data": {
      "text/latex": [
       "$\\displaystyle \\left[\\begin{matrix}\\frac{d^{2}}{d t^{2}} u_{1max}\\\\\\frac{d^{2}}{d t^{2}} u_{2max}\\end{matrix}\\right] = \\left[\\begin{matrix}\\frac{0.0802 \\text{m}}{\\text{s}^{2}}\\\\\\frac{0.0975 \\text{m}}{\\text{s}^{2}}\\end{matrix}\\right]$"
      ],
      "text/plain": [
       "Eq(Matrix([\n",
       "[Derivative(u_1max, (t, 2))],\n",
       "[Derivative(u_2max, (t, 2))]]), Matrix([\n",
       "[0.0802*meter/second**2],\n",
       "[0.0975*meter/second**2]]))"
      ]
     },
     "metadata": {},
     "output_type": "display_data"
    }
   ],
   "source": [
    "u_2_1_stat = q_2_1_max*phi_1\n",
    "u_2_2_stat = q_2_2_max*phi_2\n",
    "u_2_stat = u_2_1_stat + u_2_2_stat\n",
    "\n",
    "render.eq_display('Matrix([[Derivative(u_1max,t,2)],[Derivative(u_2max,t,2)]])',u_2_stat.subs(params).evalf(3))\n"
   ]
  }
 ],
 "metadata": {
  "kernelspec": {
   "display_name": "engineering",
   "language": "python",
   "name": "python3"
  },
  "language_info": {
   "codemirror_mode": {
    "name": "ipython",
    "version": 3
   },
   "file_extension": ".py",
   "mimetype": "text/x-python",
   "name": "python",
   "nbconvert_exporter": "python",
   "pygments_lexer": "ipython3",
   "version": "3.10.10"
  },
  "orig_nbformat": 4
 },
 "nbformat": 4,
 "nbformat_minor": 2
}
