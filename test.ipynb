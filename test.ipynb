{
 "cells": [
  {
   "cell_type": "code",
   "execution_count": 1,
   "metadata": {},
   "outputs": [],
   "source": [
    "\n",
    "import sympy.physics.units as unit\n"
   ]
  },
  {
   "cell_type": "code",
   "execution_count": 2,
   "metadata": {},
   "outputs": [],
   "source": [
    "params = {              \n",
    "          'EI_stuetze':23646000.0*unit.N*unit.m**2,\n",
    "          'm':5000*unit.N*unit.second**2/unit.m,\n",
    "          'W_el_y':938*10**3*unit.mm**3,\n",
    "          'H':3000*unit.mm,\n",
    "          'F_max':1000*10**3*unit.N,\n",
    "          't_1':0.003*unit.second,\n",
    "          't_2':0.006*unit.second,\n",
    "          'f_y':355*unit.N/unit.mm**2,\n",
    "          'b':200*unit.m,\n",
    "          'c':300*unit.m,\n",
    "            'd':300*unit.m,\n",
    "            'e':300*unit.m,\n",
    "\n",
    "                        'f':300*unit.m,\n",
    "\n",
    "          }"
   ]
  },
  {
   "cell_type": "code",
   "execution_count": 3,
   "metadata": {},
   "outputs": [],
   "source": [
    "import pandas as pd\n",
    "import numpy as np"
   ]
  },
  {
   "cell_type": "code",
   "execution_count": 4,
   "metadata": {},
   "outputs": [],
   "source": [
    "from sympy import *\n",
    "from sympy.printing.latex import latex\n",
    "from IPython.display import display, Markdown\n",
    "\n",
    "def dict_to_table(d):\n",
    "    keys = list(d.keys())\n",
    "    n = len(keys)\n",
    "    rows = n // 2 + (n % 2 != 0)\n",
    "    table = \"| Symbol | Menge | Symbol | Menge |\\n|---|---|---|---|\\n\"\n",
    "    for i in range(rows):\n",
    "        for j in range(2):\n",
    "            index = i * 2 + j\n",
    "            if index < n:\n",
    "                key = keys[index]\n",
    "                value = d[key]\n",
    "                table += f\"| ${latex(Symbol(key))}$ | ${latex(value)}$ \"\n",
    "            else:\n",
    "                table += \"| - | - \"\n",
    "        table += \"|\\n\"\n",
    "    display(Markdown(table))\n",
    "\n"
   ]
  },
  {
   "cell_type": "code",
   "execution_count": 5,
   "metadata": {},
   "outputs": [
    {
     "data": {
      "text/markdown": [
       "| Symbol | Menge | Symbol | Menge |\n",
       "|---|---|---|---|\n",
       "| $EI_{stuetze}$ | $23646000.0 \\text{m}^{2} \\text{N}$ | $m$ | $\\frac{5000 \\text{N} \\text{s}^{2}}{\\text{m}}$ |\n",
       "| $W_{el y}$ | $938000 \\text{mm}^{3}$ | $H$ | $3000 \\text{mm}$ |\n",
       "| $F_{max}$ | $1000000 \\text{N}$ | $t_{1}$ | $0.003 \\text{s}$ |\n",
       "| $t_{2}$ | $0.006 \\text{s}$ | $f_{y}$ | $\\frac{355 \\text{N}}{\\text{mm}^{2}}$ |\n",
       "| $b$ | $200 \\text{m}$ | $c$ | $300 \\text{m}$ |\n",
       "| $d$ | $300 \\text{m}$ | $e$ | $300 \\text{m}$ |\n",
       "| $f$ | $300 \\text{m}$ | - | - |\n"
      ],
      "text/plain": [
       "<IPython.core.display.Markdown object>"
      ]
     },
     "metadata": {},
     "output_type": "display_data"
    }
   ],
   "source": [
    "dict_to_table(params)"
   ]
  },
  {
   "cell_type": "code",
   "execution_count": null,
   "metadata": {},
   "outputs": [],
   "source": []
  }
 ],
 "metadata": {
  "kernelspec": {
   "display_name": "engineering",
   "language": "python",
   "name": "python3"
  },
  "language_info": {
   "codemirror_mode": {
    "name": "ipython",
    "version": 3
   },
   "file_extension": ".py",
   "mimetype": "text/x-python",
   "name": "python",
   "nbconvert_exporter": "python",
   "pygments_lexer": "ipython3",
   "version": "3.10.10"
  },
  "orig_nbformat": 4
 },
 "nbformat": 4,
 "nbformat_minor": 2
}
