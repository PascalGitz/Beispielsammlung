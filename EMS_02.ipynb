{
 "cells": [
  {
   "attachments": {},
   "cell_type": "markdown",
   "metadata": {},
   "source": [
    "# Impulssatz {#sec-impuls}\n",
    "\n",
    "[Aufgabenstellung](calculations/EMS_%C3%9Cbungen_1-2.pdf)\n",
    "\n",
    "## Rahmen mit einem Freiheitsgrad - ungedämpfte freie Schwingung\n",
    "\n",
    "![Statisches System](pictures/ems_rahmen_2.jpg){#fig-stat_system_ems_rahmen}"
   ]
  },
  {
   "cell_type": "code",
   "execution_count": 1,
   "metadata": {},
   "outputs": [],
   "source": [
    "import sympy as sp \n",
    "from sympycalcs import render, convert\n",
    "import sympy.physics.units as unit\n",
    "\n",
    "import matplotlib.pyplot as plt"
   ]
  },
  {
   "cell_type": "code",
   "execution_count": 2,
   "metadata": {},
   "outputs": [],
   "source": [
    "EA_riegel, EI_riegel,EA_stuetze, EI_stuetze,  m,  H, f_y, t, F_max, t_1, t_2,W_el_y = sp.symbols('EA_riegel, EI_riegel,EA_stuetze, EI_stuetze,  m_, H, f_y, t, F_max, t_1, t_2 W_el_y')\n",
    "\n",
    "\n",
    "u = sp.Function('u')(t)"
   ]
  },
  {
   "attachments": {},
   "cell_type": "markdown",
   "metadata": {},
   "source": [
    "## Parameter der Aufgabenstellung"
   ]
  },
  {
   "cell_type": "code",
   "execution_count": 3,
   "metadata": {},
   "outputs": [
    {
     "data": {
      "text/latex": [
       "$\\displaystyle EA_{riegel} = \\infty$"
      ],
      "text/plain": [
       "Eq(EA_riegel, oo)"
      ]
     },
     "metadata": {},
     "output_type": "display_data"
    },
    {
     "data": {
      "text/latex": [
       "$\\displaystyle EI_{riegel} = \\infty$"
      ],
      "text/plain": [
       "Eq(EI_riegel, oo)"
      ]
     },
     "metadata": {},
     "output_type": "display_data"
    },
    {
     "data": {
      "text/latex": [
       "$\\displaystyle EA_{stuetze} = \\infty$"
      ],
      "text/plain": [
       "Eq(EA_stuetze, oo)"
      ]
     },
     "metadata": {},
     "output_type": "display_data"
    }
   ],
   "source": [
    "params_not_relevant = {\n",
    "    'EA_riegel':sp.oo,\n",
    "    'EI_riegel':sp.oo,\n",
    "    'EA_stuetze':sp.oo,\n",
    "}\n",
    "\n",
    "render.dict_render(params_not_relevant)"
   ]
  },
  {
   "cell_type": "code",
   "execution_count": 4,
   "metadata": {},
   "outputs": [
    {
     "data": {
      "text/latex": [
       "$\\displaystyle EI_{stuetze} = 23646000.0 \\text{m}^{2} \\text{N}$"
      ],
      "text/plain": [
       "Eq(EI_stuetze, 23646000.0*meter**2*newton)"
      ]
     },
     "metadata": {},
     "output_type": "display_data"
    },
    {
     "data": {
      "text/latex": [
       "$\\displaystyle m_{} = \\frac{5000 \\text{N} \\text{s}^{2}}{\\text{m}}$"
      ],
      "text/plain": [
       "Eq(m_, 5000*newton*second**2/meter)"
      ]
     },
     "metadata": {},
     "output_type": "display_data"
    },
    {
     "data": {
      "text/latex": [
       "$\\displaystyle W_{el y} = 938000 \\text{mm}^{3}$"
      ],
      "text/plain": [
       "Eq(W_el_y, 938000*millimeter**3)"
      ]
     },
     "metadata": {},
     "output_type": "display_data"
    },
    {
     "data": {
      "text/latex": [
       "$\\displaystyle H = 3000 \\text{mm}$"
      ],
      "text/plain": [
       "Eq(H, 3000*millimeter)"
      ]
     },
     "metadata": {},
     "output_type": "display_data"
    },
    {
     "data": {
      "text/latex": [
       "$\\displaystyle F_{max} = 1000000 \\text{N}$"
      ],
      "text/plain": [
       "Eq(F_max, 1000000*newton)"
      ]
     },
     "metadata": {},
     "output_type": "display_data"
    },
    {
     "data": {
      "text/latex": [
       "$\\displaystyle t_{1} = 0.003 \\text{s}$"
      ],
      "text/plain": [
       "Eq(t_1, 0.003*second)"
      ]
     },
     "metadata": {},
     "output_type": "display_data"
    },
    {
     "data": {
      "text/latex": [
       "$\\displaystyle t_{2} = 0.006 \\text{s}$"
      ],
      "text/plain": [
       "Eq(t_2, 0.006*second)"
      ]
     },
     "metadata": {},
     "output_type": "display_data"
    },
    {
     "data": {
      "text/latex": [
       "$\\displaystyle f_{y} = \\frac{355 \\text{N}}{\\text{mm}^{2}}$"
      ],
      "text/plain": [
       "Eq(f_y, 355*newton/millimeter**2)"
      ]
     },
     "metadata": {},
     "output_type": "display_data"
    },
    {
     "data": {
      "text/latex": [
       "$\\displaystyle u_{0} = 0.0$"
      ],
      "text/plain": [
       "Eq(u_0, 0.0)"
      ]
     },
     "metadata": {},
     "output_type": "display_data"
    }
   ],
   "source": [
    "params = {              \n",
    "          'EI_stuetze':23646000.0*unit.N*unit.m**2,\n",
    "          'm_':5000*unit.N*unit.second**2/unit.m,\n",
    "          'W_el_y':938*10**3*unit.mm**3,\n",
    "          'H':3000*unit.mm,\n",
    "          'F_max':1000*10**3*unit.N,\n",
    "          't_1':0.003*unit.second,\n",
    "          't_2':0.006*unit.second,\n",
    "          'f_y':355*unit.N/unit.mm**2,\n",
    "          'u_0':0.0\n",
    "          }\n",
    "\n",
    "params_plot = convert.param_value(params=params)\n",
    "render.dict_render(params)"
   ]
  },
  {
   "cell_type": "code",
   "execution_count": 5,
   "metadata": {},
   "outputs": [
    {
     "data": {
      "image/png": "[encoded data removed]",
      "text/plain": [
       "<Figure size 640x480 with 1 Axes>"
      ]
     },
     "metadata": {},
     "output_type": "display_data"
    }
   ],
   "source": [
    "#| label: fig-lastfunktion\n",
    "#| fig-cap: \"Lastfunktion\"\n",
    "\n",
    "\n",
    "F_1 = t*F_max / t_1 \n",
    "F_2 =  F_1.subs(t,t_1)-((t-t_1)*F_max / t_1)\n",
    "F_t = sp.Piecewise((F_1,t<t_1), (F_2,t<=t_2), (0, t>t_2))\n",
    "sp.plot(F_t.subs(params_plot), (t,0,0.008))\n",
    "plt.show()\n"
   ]
  },
  {
   "attachments": {},
   "cell_type": "markdown",
   "metadata": {},
   "source": [
    "## Horizontale Steifigkeit\n",
    "\n",
    "Die horizontale Steifigkeit des Systems lässt sich mittels der Formel für Rahmen bestimmen.\n",
    "\n",
    "$$k_{Stütze} = \\frac{12EI_{Stütze}}{H^3}$$\n",
    "\n",
    "Diese gilt für eine einzelne Stütze.\n"
   ]
  },
  {
   "cell_type": "code",
   "execution_count": 6,
   "metadata": {},
   "outputs": [
    {
     "data": {
      "text/latex": [
       "$\\displaystyle 23646000.0 \\text{m}^{2} \\text{N}$"
      ],
      "text/plain": [
       "23646000.0*meter**2*newton"
      ]
     },
     "execution_count": 6,
     "metadata": {},
     "output_type": "execute_result"
    }
   ],
   "source": [
    "EI_stuetze.subs(EI_stuetze, params['EI_stuetze'])\n"
   ]
  },
  {
   "cell_type": "code",
   "execution_count": 7,
   "metadata": {},
   "outputs": [
    {
     "data": {
      "text/latex": [
       "$\\displaystyle k_{} = \\frac{24 EI_{stuetze}}{H^{3}}$"
      ],
      "text/plain": [
       "Eq(k_, 24*EI_stuetze/H**3)"
      ]
     },
     "metadata": {},
     "output_type": "display_data"
    },
    {
     "data": {
      "text/latex": [
       "$\\displaystyle k_{} = \\frac{2.1 \\cdot 10^{7} \\text{N}}{\\text{m}}$"
      ],
      "text/plain": [
       "Eq(k_, 2.1e+7*newton/meter)"
      ]
     },
     "metadata": {},
     "output_type": "display_data"
    }
   ],
   "source": [
    "k = 2 * 12 * EI_stuetze / H**3\n",
    "\n",
    "render.eq_display('k_', k,\n",
    "                  'k_', k.subs(params).simplify().evalf(3))"
   ]
  },
  {
   "attachments": {},
   "cell_type": "markdown",
   "metadata": {},
   "source": [
    "## Eigenkreisfrequenz"
   ]
  },
  {
   "cell_type": "code",
   "execution_count": 8,
   "metadata": {},
   "outputs": [
    {
     "data": {
      "text/latex": [
       "$\\displaystyle \\omega_{n} = \\sqrt{\\frac{k}{m}}$"
      ],
      "text/plain": [
       "Eq(omega_n, sqrt(k/m))"
      ]
     },
     "metadata": {},
     "output_type": "display_data"
    },
    {
     "data": {
      "text/latex": [
       "$\\displaystyle \\omega_{n} = 2 \\sqrt{6} \\sqrt{\\frac{EI_{stuetze}}{H^{3} m_{}}}$"
      ],
      "text/plain": [
       "Eq(omega_n, 2*sqrt(6)*sqrt(EI_stuetze/(H**3*m_)))"
      ]
     },
     "metadata": {},
     "output_type": "display_data"
    },
    {
     "data": {
      "text/latex": [
       "$\\displaystyle \\omega_{n} = \\frac{64.8}{\\text{s}}$"
      ],
      "text/plain": [
       "Eq(omega_n, 64.8/second)"
      ]
     },
     "metadata": {},
     "output_type": "display_data"
    }
   ],
   "source": [
    "omega_n = sp.sqrt(k/m)\n",
    "\n",
    "render.eq_display('omega_n', 'sqrt(k/m)',\n",
    "                  'omega_n', omega_n,\n",
    "                  'omega_n', omega_n.subs(params).simplify().evalf(3))"
   ]
  },
  {
   "attachments": {},
   "cell_type": "markdown",
   "metadata": {},
   "source": [
    "## Bewegungsgleichung\n",
    "\n",
    "Die Bewegungsgleichung für einen ungedämpften Einmassenschwinger ist die folgende:\n",
    "\n",
    "$$m u(t)'' + k u(t) = F(t)$$\n",
    "\n",
    "\n",
    "### Approximation der Lösung\n",
    "\n",
    "Es handelt sich um eine inhomogene Differentialgleichung 2.Ordnung. Auf die exakte Lösung der Gleichung wird nicht eingegangen. Es wird versucht die bemessungsrelevanten Parameter näherungsweise zu bestimmen. Dies lässt sich mit dem Impulssatz approximieren. \n",
    "\n",
    "$$ F \\Delta t = m \\Delta v$$\n",
    "\n",
    "Dieser besagt, dass die einwirkende Kraft $F$ im betrachteten Zeitabschnitt $\\Delta t$ der Masse $m$ multipliziert mit der Geschwindigkeitsänderung $\\Delta v$ des Objekts entspricht. Für eine kurze Anregung, wie im Beispiel der Fall ist, kann die Anfangsgeschwindigkeit wie folgt bestimmt werden:\n",
    "\n",
    "$$ v_0 = \\frac{I}{m}$$\n",
    "\n",
    "$$I = \\int_{0}^{t_2} F(t) \\,dt $$"
   ]
  },
  {
   "cell_type": "code",
   "execution_count": 9,
   "metadata": {},
   "outputs": [
    {
     "data": {
      "text/latex": [
       "$\\displaystyle I_{} = 3000.0 \\text{N} \\text{s}$"
      ],
      "text/plain": [
       "Eq(I_, 3000.0*newton*second)"
      ]
     },
     "metadata": {},
     "output_type": "display_data"
    },
    {
     "data": {
      "text/latex": [
       "$\\displaystyle v_{0} = \\frac{3000.0 \\text{N} \\text{s}}{m_{}}$"
      ],
      "text/plain": [
       "Eq(v_0, 3000.0*newton*second/m_)"
      ]
     },
     "metadata": {},
     "output_type": "display_data"
    },
    {
     "data": {
      "text/latex": [
       "$\\displaystyle v_{0} = \\frac{0.6 \\text{m}}{\\text{s}}$"
      ],
      "text/plain": [
       "Eq(v_0, 0.6*meter/second)"
      ]
     },
     "metadata": {},
     "output_type": "display_data"
    }
   ],
   "source": [
    "I = sp.integrate(F_t.subs(params), (t,0,t_2.subs(params)))\n",
    "v_0 = I / m\n",
    "\n",
    "## Die Anfangsgeschwindigkeit wird zum Params dict hinzugefügt\n",
    "params['v_0'] = v_0.subs(params)\n",
    "params_plot = convert.param_value(params)\n",
    "\n",
    "\n",
    "render.eq_display('I_', I,\n",
    "                  'v_0', v_0,\n",
    "                  'v_0', v_0.subs(params))"
   ]
  },
  {
   "attachments": {},
   "cell_type": "markdown",
   "metadata": {},
   "source": [
    "Durch die Impuls-Betrachtung vereinfacht sich die Bewegungsgleichung zu:\n",
    "\n",
    "\n",
    "$$m u(t)'' + k u(t) = 0$$\n",
    "\n",
    "Mit der Anfangsgeschwindigkeit als Randbedingung. Als Ansatzfunktion zur Lösung der homogenen Differentialgleichung dient die folgende Gleichung:\n",
    "\n",
    "$$u(t) = A_1 \\cos(\\omega_n t) + A_2 \\sin(\\omega_n t)$$\n"
   ]
  },
  {
   "cell_type": "code",
   "execution_count": 10,
   "metadata": {},
   "outputs": [
    {
     "data": {
      "text/latex": [
       "$\\displaystyle u{\\left(t \\right)} = 0.00925 \\sin{\\left(\\frac{64.8362038781832 t}{\\text{s}} \\right)} \\text{m}$"
      ],
      "text/plain": [
       "Eq(u(t), 0.00925*meter*sin(64.8362038781832*t/second))"
      ]
     },
     "execution_count": 10,
     "metadata": {},
     "output_type": "execute_result"
    }
   ],
   "source": [
    "A_1, A_2,u_0 = sp.symbols('A_1:3 u_0')\n",
    "\n",
    "bewegungsgleichung = m*sp.diff(u,t,2) + k*u\n",
    "ansatzfunktion = sp.Eq(u,A_1 * sp.cos(omega_n*t) + A_2*sp.sin(omega_n*t))\n",
    "eq_randbedingung_1 = sp.Eq(u_0,ansatzfunktion.rhs.subs(t,0))\n",
    "eq_randbedingung_2 = sp.Eq(v_0, sp.diff(ansatzfunktion.rhs,t).subs(t,0))\n",
    "A_solve = sp.solve([eq_randbedingung_1, eq_randbedingung_2],[A_1, A_2],dict=True)[0]\n",
    "\n",
    "\n",
    "u_t = ansatzfunktion.subs(A_solve)\n",
    "u_t.subs(params).simplify().evalf(3)\n"
   ]
  },
  {
   "cell_type": "code",
   "execution_count": 11,
   "metadata": {},
   "outputs": [
    {
     "data": {
      "image/png": "[encoded data removed]",
      "text/plain": [
       "<Figure size 640x480 with 1 Axes>"
      ]
     },
     "metadata": {},
     "output_type": "display_data"
    }
   ],
   "source": [
    "#| label: fig-bewegungsfunk\n",
    "#| fig-cap: \"Bewegungsfunktion\"\n",
    "\n",
    "u_t_plot = u_t.subs(params_plot).rhs/unit.N/unit.second\n",
    "sp.plot(u_t_plot, (t,0,0.15))\n",
    "\n",
    "plt.show()\n"
   ]
  },
  {
   "attachments": {},
   "cell_type": "markdown",
   "metadata": {},
   "source": [
    "## Rückstellkraft\n",
    "\n",
    "Anhand der maximalen Amplitude lässt sich die maximale Rückstellkraft für den gesamten Rahmen bestimmen.\n",
    "\n",
    "$$F_R = k   u = k   A$$\n",
    "\n"
   ]
  },
  {
   "cell_type": "code",
   "execution_count": 12,
   "metadata": {},
   "outputs": [
    {
     "data": {
      "text/latex": [
       "$\\displaystyle u_{max} = A$"
      ],
      "text/plain": [
       "Eq(u_max, A)"
      ]
     },
     "metadata": {},
     "output_type": "display_data"
    },
    {
     "data": {
      "text/latex": [
       "$\\displaystyle A = 0.00925 \\text{m}$"
      ],
      "text/plain": [
       "Eq(A, 0.00925*meter)"
      ]
     },
     "metadata": {},
     "output_type": "display_data"
    },
    {
     "data": {
      "text/latex": [
       "$\\displaystyle F_{R} = 1.95 \\cdot 10^{5} \\text{N}$"
      ],
      "text/plain": [
       "Eq(F_R, 1.95e+5*newton)"
      ]
     },
     "metadata": {},
     "output_type": "display_data"
    }
   ],
   "source": [
    "t_max = sp.solve(sp.Eq(sp.diff(u_t.rhs,t),0),t)\n",
    "u_max = u_t.subs(t, t_max[0].subs(params_plot)*unit.second).subs(params).rhs\n",
    "\n",
    "F_R = k * u_max\n",
    "\n",
    "render.eq_display('u_max', 'A',\n",
    "                  'A', u_max.simplify().evalf(3),\n",
    "                  'F_R', F_R.subs(params).simplify().evalf(3))"
   ]
  },
  {
   "attachments": {},
   "cell_type": "markdown",
   "metadata": {},
   "source": [
    "### Spannungsnachweis\n",
    "\n",
    "Die Rückstellkraft wirkt im Zentrum der Masse."
   ]
  },
  {
   "cell_type": "code",
   "execution_count": 13,
   "metadata": {},
   "outputs": [
    {
     "data": {
      "text/latex": [
       "$\\displaystyle M_{max} = \\frac{F_{R} H}{2}$"
      ],
      "text/plain": [
       "Eq(M_max, F_R*H/2)"
      ]
     },
     "metadata": {},
     "output_type": "display_data"
    },
    {
     "data": {
      "text/latex": [
       "$\\displaystyle M_{max} = 2.92 \\cdot 10^{5} \\text{m} \\text{N}$"
      ],
      "text/plain": [
       "Eq(M_max, 2.92e+5*meter*newton)"
      ]
     },
     "metadata": {},
     "output_type": "display_data"
    },
    {
     "data": {
      "text/latex": [
       "$\\displaystyle \\sigma_{max} = \\frac{M_{max}}{W_{el y}}$"
      ],
      "text/plain": [
       "Eq(sigma_max, M_max/W_el_y)"
      ]
     },
     "metadata": {},
     "output_type": "display_data"
    },
    {
     "data": {
      "text/latex": [
       "$\\displaystyle \\sigma_{max} = \\frac{311.0 \\text{N}}{\\text{mm}^{2}}$"
      ],
      "text/plain": [
       "Eq(sigma_max, 311.0*newton/millimeter**2)"
      ]
     },
     "metadata": {},
     "output_type": "display_data"
    },
    {
     "data": {
      "text/latex": [
       "$\\displaystyle Nachweis = \\frac{311.0 \\text{N}}{\\text{mm}^{2}} < f_{y}$"
      ],
      "text/plain": [
       "Eq(Nachweis, 311.0*newton/millimeter**2 < f_y)"
      ]
     },
     "metadata": {},
     "output_type": "display_data"
    }
   ],
   "source": [
    "M_max = F_R/2 * H\n",
    "\n",
    "sigma_max = M_max /W_el_y\n",
    "\n",
    "render.eq_display('M_max', 'F_R /2 * H',\n",
    "                  'M_max', M_max.subs(params).simplify().evalf(3),\n",
    "                  'sigma_max', 'M_max / W_el_y',\n",
    "                  'sigma_max', unit.convert_to(sigma_max.subs(params).simplify().evalf(3), unit.mm),\n",
    "                  'Nachweis', unit.convert_to(sigma_max.subs(params).simplify().evalf(3), unit.mm)<f_y)"
   ]
  }
 ],
 "metadata": {
  "kernelspec": {
   "display_name": "engineering",
   "language": "python",
   "name": "python3"
  },
  "language_info": {
   "codemirror_mode": {
    "name": "ipython",
    "version": 3
   },
   "file_extension": ".py",
   "mimetype": "text/x-python",
   "name": "python",
   "nbconvert_exporter": "python",
   "pygments_lexer": "ipython3",
   "version": "3.10.10"
  },
  "orig_nbformat": 4
 },
 "nbformat": 4,
 "nbformat_minor": 2
}
