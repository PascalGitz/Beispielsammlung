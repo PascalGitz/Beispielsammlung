{
 "cells": [
  {
   "attachments": {},
   "cell_type": "markdown",
   "metadata": {},
   "source": [
    "# Dynamischer Vergrösserungsfaktor\n",
    "\n",
    "[Aufgabenstellung](calculations/%C3%9Cbungen_3-5_EMS.pdf)\n",
    "\n",
    "## Biegeträger mit Einzelmasse am Kragarmende\n",
    "\n",
    "![Statisches System](pictures/biegetrager_einzelmasse.jpg){#fig-system_biegetrager}"
   ]
  },
  {
   "cell_type": "code",
   "execution_count": 1,
   "metadata": {},
   "outputs": [],
   "source": [
    "import sympy as sp \n",
    "from sympycalcs import render, convert\n",
    "import sympy.physics.units as unit\n",
    "\n",
    "import matplotlib.pyplot as plt"
   ]
  },
  {
   "attachments": {},
   "cell_type": "markdown",
   "metadata": {},
   "source": [
    "## Parameter der Aufgabenstellung "
   ]
  },
  {
   "cell_type": "code",
   "execution_count": 2,
   "metadata": {},
   "outputs": [
    {
     "data": {
      "text/latex": [
       "$\\displaystyle F_{0} = 50000 \\text{N}$"
      ],
      "text/plain": [
       "Eq(F_0, 50000*newton)"
      ]
     },
     "metadata": {},
     "output_type": "display_data"
    },
    {
     "data": {
      "text/latex": [
       "$\\displaystyle m_{} = \\frac{1000 \\text{N} \\text{s}^{2}}{\\text{m}}$"
      ],
      "text/plain": [
       "Eq(m_, 1000*newton*second**2/meter)"
      ]
     },
     "metadata": {},
     "output_type": "display_data"
    },
    {
     "data": {
      "text/latex": [
       "$\\displaystyle \\zeta = 0.005$"
      ],
      "text/plain": [
       "Eq(zeta, 0.005)"
      ]
     },
     "metadata": {},
     "output_type": "display_data"
    },
    {
     "data": {
      "text/latex": [
       "$\\displaystyle EI = 30000000 \\text{m}^{2} \\text{N}$"
      ],
      "text/plain": [
       "Eq(EI, 30000000*meter**2*newton)"
      ]
     },
     "metadata": {},
     "output_type": "display_data"
    },
    {
     "data": {
      "text/latex": [
       "$\\displaystyle l_{1} = 3000 \\text{mm}$"
      ],
      "text/plain": [
       "Eq(l_1, 3000*millimeter)"
      ]
     },
     "metadata": {},
     "output_type": "display_data"
    },
    {
     "data": {
      "text/latex": [
       "$\\displaystyle l_{2} = 2000 \\text{mm}$"
      ],
      "text/plain": [
       "Eq(l_2, 2000*millimeter)"
      ]
     },
     "metadata": {},
     "output_type": "display_data"
    },
    {
     "data": {
      "text/latex": [
       "$\\displaystyle \\omega = \\frac{62.8}{\\text{s}}$"
      ],
      "text/plain": [
       "Eq(omega, 62.8/second)"
      ]
     },
     "metadata": {},
     "output_type": "display_data"
    }
   ],
   "source": [
    "params = {'F_0':50*10**3*unit.N,\n",
    "          'm_':1000*unit.N*unit.second**2/unit.m,\n",
    "          'zeta':0.005,\n",
    "          'EI':30000*10**3*unit.N*unit.m**2,\n",
    "          'l_1':3000*unit.mm,\n",
    "          'l_2':2000*unit.mm,\n",
    "          'omega':62.8/unit.second}\n",
    "render.dict_render(params)"
   ]
  },
  {
   "cell_type": "code",
   "execution_count": 3,
   "metadata": {},
   "outputs": [],
   "source": [
    "F_0, m, zeta, EI, l_1, l_2 = sp.symbols('F_0, m_, zeta, EI, l_1, l_2 ')\n",
    "\n",
    "k, omega, t  = sp.symbols('k omega t')"
   ]
  },
  {
   "cell_type": "code",
   "execution_count": 4,
   "metadata": {},
   "outputs": [
    {
     "data": {
      "text/latex": [
       "$\\displaystyle F{\\left(t \\right)} = F_{0} \\cos{\\left(\\omega t \\right)}$"
      ],
      "text/plain": [
       "Eq(F(t), F_0*cos(omega*t))"
      ]
     },
     "metadata": {},
     "output_type": "display_data"
    },
    {
     "data": {
      "text/latex": [
       "$\\displaystyle F{\\left(t \\right)} = 50000 \\cos{\\left(\\frac{62.8 t}{\\text{s}} \\right)} \\text{N}$"
      ],
      "text/plain": [
       "Eq(F(t), 50000*newton*cos(62.8*t/second))"
      ]
     },
     "metadata": {},
     "output_type": "display_data"
    }
   ],
   "source": [
    "F_t = F_0*sp.cos(omega*t)\n",
    "\n",
    "render.eq_display('F(t)', F_t,\n",
    "                  'F(t)', F_t.subs(params))\n"
   ]
  },
  {
   "attachments": {},
   "cell_type": "markdown",
   "metadata": {},
   "source": [
    "## Eigenkreisfrequenz\n",
    "\n",
    "Die Eigenkreisfrequenz lässt sich aus der folgenden Gleichung bestimmen:\n",
    "\n",
    "$$\\omega_n = \\sqrt{\\frac{k}{m}}$$"
   ]
  },
  {
   "attachments": {},
   "cell_type": "markdown",
   "metadata": {},
   "source": [
    "### Steifigkeit des Systems\n",
    "\n",
    "Die Steifigkeit des Systems lässt sich anhand der statischen Deformation bestimmen. Sie entspricht dem Verhältnis zwischen Einwirkung und der daraus resultierenden Verformung.\n",
    "$$ k = \\frac{F}{u}$$\n",
    "\n",
    "Händisch lässt sich die Deformation mittels der Arbeitsgleichung bestimmen. Dazu wird eine reale und eine virtuelle Kraft auf das System eingewirkt. \n",
    "\n",
    "![Realer und virtueller Kräftezustand](pictures/arbeitssatz.jpg){#fig-arbeitssatz}\n",
    "\n",
    "Da es sich lediglich um einen Biegeträger handelt, kann die Verformung nach folgender Gleichung bestimmt werden.\n",
    "\n",
    "$$u = \\frac{1}{E I_y} * \\int_{0}^{l_1+l_2} M_y\\bar{M_y} \\,dx$$\n",
    "\n"
   ]
  },
  {
   "cell_type": "code",
   "execution_count": 5,
   "metadata": {},
   "outputs": [
    {
     "data": {
      "text/latex": [
       "$\\displaystyle u = \\frac{4000 \\left(l_{1} + l_{2}\\right) \\text{m}^{2} \\text{N}}{3 EI}$"
      ],
      "text/plain": [
       "Eq(u, 4000*meter**2*newton*(l_1 + l_2)/(3*EI))"
      ]
     },
     "metadata": {},
     "output_type": "display_data"
    },
    {
     "data": {
      "text/latex": [
       "$\\displaystyle u = 0.222 \\text{mm}$"
      ],
      "text/plain": [
       "Eq(u, 0.222*millimeter)"
      ]
     },
     "metadata": {},
     "output_type": "display_data"
    },
    {
     "data": {
      "text/latex": [
       "$\\displaystyle k = \\frac{3 EI}{4 \\left(l_{1} + l_{2}\\right) \\text{m}^{2}}$"
      ],
      "text/plain": [
       "Eq(k, 3*EI/(4*meter**2*(l_1 + l_2)))"
      ]
     },
     "metadata": {},
     "output_type": "display_data"
    },
    {
     "data": {
      "text/latex": [
       "$\\displaystyle k = \\frac{4500 \\text{N}}{\\text{mm}}$"
      ],
      "text/plain": [
       "Eq(k, 4500*newton/millimeter)"
      ]
     },
     "metadata": {},
     "output_type": "display_data"
    }
   ],
   "source": [
    "u_steifigkeit = 1/EI * (sp.Rational(1,3) * -2000*unit.N*unit.m * -2*unit.m * (l_1+l_2))\n",
    "k = 1000*unit.N / u_steifigkeit\n",
    "\n",
    "\n",
    "render.eq_display('u', u_steifigkeit,\n",
    "                  'u', u_steifigkeit.subs(params).evalf(3),\n",
    "                  'k', k,\n",
    "                  'k', k.subs(params))"
   ]
  },
  {
   "attachments": {},
   "cell_type": "markdown",
   "metadata": {},
   "source": [
    "### Eigenkreisfrequenz"
   ]
  },
  {
   "cell_type": "code",
   "execution_count": 6,
   "metadata": {},
   "outputs": [
    {
     "data": {
      "text/latex": [
       "$\\displaystyle \\omega_{n} = \\frac{\\sqrt{3} \\sqrt{\\frac{EI}{m_{} \\left(l_{1} + l_{2}\\right)}}}{2 \\text{m}}$"
      ],
      "text/plain": [
       "Eq(omega_n, sqrt(3)*sqrt(EI/(m_*(l_1 + l_2)))/(2*meter))"
      ]
     },
     "metadata": {},
     "output_type": "display_data"
    },
    {
     "data": {
      "text/latex": [
       "$\\displaystyle \\omega_{n} = \\frac{67.1}{\\text{s}}$"
      ],
      "text/plain": [
       "Eq(omega_n, 67.1/second)"
      ]
     },
     "metadata": {},
     "output_type": "display_data"
    }
   ],
   "source": [
    "omega_n = sp.sqrt(k/m)\n",
    "\n",
    "render.eq_display('omega_n', omega_n,\n",
    "                  'omega_n', omega_n.subs(params).simplify().evalf(3))"
   ]
  },
  {
   "attachments": {},
   "cell_type": "markdown",
   "metadata": {},
   "source": [
    "## Vergrösserungsfaktor\n",
    "\n",
    "Der Vergrösserungsfaktor beschreibt das Verhältnis zwischen der maximalen statischen Amplitude und der maximalen dynamischen Amplitude:\n",
    "\n",
    "$$V(\\omega) = \\frac{u_{max}}{u_0}$$\n",
    "\n",
    "Dieser lässt sich mit der Dämpfungsrate $\\zeta$, Anregungsfrequenz $\\omega$ und der Eigenfrequenz $\\omega_n$ beschreiben.\n",
    "\n",
    "![Einfluss der Dämpfung auf den Vergrösserungsfaktor](pictures/vergroesserung.jpg){#fig-vergroesserung}"
   ]
  },
  {
   "cell_type": "code",
   "execution_count": 7,
   "metadata": {},
   "outputs": [
    {
     "data": {
      "text/latex": [
       "$\\displaystyle V{\\left(\\omega \\right)} = \\frac{1}{\\sqrt{\\frac{4 \\omega^{2} \\zeta_{}^{2}}{\\omega_{n}^{2}} + \\left(- \\frac{\\omega^{2}}{\\omega_{n}^{2}} + 1\\right)^{2}}}$"
      ],
      "text/plain": [
       "Eq(V(omega), 1/sqrt(4*omega**2*zeta_**2/omega_n**2 + (-omega**2/omega_n**2 + 1)**2))"
      ]
     },
     "metadata": {},
     "output_type": "display_data"
    },
    {
     "data": {
      "text/latex": [
       "$\\displaystyle V{\\left(\\omega \\right)} = 8.07$"
      ],
      "text/plain": [
       "Eq(V(omega), 8.07)"
      ]
     },
     "metadata": {},
     "output_type": "display_data"
    }
   ],
   "source": [
    "V_omega = 1/(sp.sqrt((1-(omega/omega_n)**2)**2 + (2*zeta*(omega/omega_n))**2))\n",
    "\n",
    "render.eq_display('V(omega)', '1/(sqrt((1-(omega/omega_n)**2)**2 + (2*zeta_*(omega/omega_n))**2))',\n",
    "                  'V(omega)', V_omega.subs(params).simplify().evalf(3))"
   ]
  },
  {
   "cell_type": "code",
   "execution_count": 11,
   "metadata": {},
   "outputs": [
    {
     "data": {
      "text/plain": [
       "'V{\\\\left(\\\\omega \\\\right)} = \\\\frac{1}{\\\\sqrt{\\\\frac{4 \\\\omega^{2} \\\\zeta_{}^{2}}{\\\\omega_{n}^{2}} + \\\\left(- \\\\frac{\\\\omega^{2}}{\\\\omega_{n}^{2}} + 1\\\\right)^{2}}}'"
      ]
     },
     "execution_count": 11,
     "metadata": {},
     "output_type": "execute_result"
    }
   ],
   "source": [
    "sp.latex(sp.Eq(sp.sympify('V(omega)'),sp.sympify('1/(sqrt((1-(omega/omega_n)**2)**2 + (2*zeta_*(omega/omega_n))**2))')))"
   ]
  },
  {
   "attachments": {},
   "cell_type": "markdown",
   "metadata": {},
   "source": [
    "### Statische Amplitude\n",
    "\n",
    "Aus der Anregungsfunktion ist die Einwirkung bestimmt."
   ]
  },
  {
   "cell_type": "code",
   "execution_count": 8,
   "metadata": {},
   "outputs": [
    {
     "data": {
      "text/latex": [
       "$\\displaystyle u_{stat} = \\frac{F_{0}}{k}$"
      ],
      "text/plain": [
       "Eq(u_stat, F_0/k)"
      ]
     },
     "metadata": {},
     "output_type": "display_data"
    },
    {
     "data": {
      "text/latex": [
       "$\\displaystyle u_{stat} = \\frac{4 F_{0} \\left(l_{1} + l_{2}\\right) \\text{m}^{2}}{3 EI}$"
      ],
      "text/plain": [
       "Eq(u_stat, 4*meter**2*F_0*(l_1 + l_2)/(3*EI))"
      ]
     },
     "metadata": {},
     "output_type": "display_data"
    },
    {
     "data": {
      "text/latex": [
       "$\\displaystyle u_{stat} = 11.11 \\text{mm}$"
      ],
      "text/plain": [
       "Eq(u_stat, 11.11*millimeter)"
      ]
     },
     "metadata": {},
     "output_type": "display_data"
    }
   ],
   "source": [
    "u_stat = F_0 / k\n",
    "\n",
    "render.eq_display('u_stat', 'F_0 / k',\n",
    "                  'u_stat', u_stat,\n",
    "                  'u_stat', u_stat.subs(params).evalf(4))"
   ]
  },
  {
   "attachments": {},
   "cell_type": "markdown",
   "metadata": {},
   "source": [
    "### Stationäre Amplitude\n",
    "\n",
    "Durch die Vergrösserung der statischen Deformation mit dem Vergrösserungsfaktor resultiert die maximale Amplitude der stationären Lösung.\n"
   ]
  },
  {
   "cell_type": "code",
   "execution_count": 9,
   "metadata": {},
   "outputs": [
    {
     "data": {
      "text/latex": [
       "$\\displaystyle u_{dyn} = u_{stat} V{\\left(\\omega \\right)}$"
      ],
      "text/plain": [
       "Eq(u_dyn, u_stat*V(omega))"
      ]
     },
     "metadata": {},
     "output_type": "display_data"
    },
    {
     "data": {
      "text/latex": [
       "$\\displaystyle u_{dyn} = \\frac{4 F_{0} \\left(l_{1} + l_{2}\\right) \\text{m}^{2}}{3 EI \\sqrt{\\frac{16 m_{} \\omega^{2} \\zeta^{2} \\left(l_{1} + l_{2}\\right) \\text{m}^{2}}{3 EI} + \\left(- \\frac{4 m_{} \\omega^{2} \\left(l_{1} + l_{2}\\right) \\text{m}^{2}}{3 EI} + 1\\right)^{2}}}$"
      ],
      "text/plain": [
       "Eq(u_dyn, 4*meter**2*F_0*(l_1 + l_2)/(3*EI*sqrt(16*meter**2*m_*omega**2*zeta**2*(l_1 + l_2)/(3*EI) + (-4*meter**2*m_*omega**2*(l_1 + l_2)/(3*EI) + 1)**2)))"
      ]
     },
     "metadata": {},
     "output_type": "display_data"
    },
    {
     "data": {
      "text/latex": [
       "$\\displaystyle u_{dyn} = 0.0896 \\text{m}$"
      ],
      "text/plain": [
       "Eq(u_dyn, 0.0896*meter)"
      ]
     },
     "metadata": {},
     "output_type": "display_data"
    }
   ],
   "source": [
    "u_dyn = u_stat * V_omega\n",
    "\n",
    "render.eq_display('u_dyn', 'u_stat * V(omega)',\n",
    "                  'u_dyn', u_dyn,\n",
    "                  'u_dyn', u_dyn.subs(params).simplify().evalf(3))"
   ]
  },
  {
   "cell_type": "code",
   "execution_count": null,
   "metadata": {},
   "outputs": [],
   "source": []
  }
 ],
 "metadata": {
  "kernelspec": {
   "display_name": "engineering",
   "language": "python",
   "name": "python3"
  },
  "language_info": {
   "codemirror_mode": {
    "name": "ipython",
    "version": 3
   },
   "file_extension": ".py",
   "mimetype": "text/x-python",
   "name": "python",
   "nbconvert_exporter": "python",
   "pygments_lexer": "ipython3",
   "version": "3.10.10"
  },
  "orig_nbformat": 4
 },
 "nbformat": 4,
 "nbformat_minor": 2
}
