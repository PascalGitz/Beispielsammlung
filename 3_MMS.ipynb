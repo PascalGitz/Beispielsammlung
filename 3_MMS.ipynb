{
 "cells": [
  {
   "cell_type": "code",
   "execution_count": 1,
   "metadata": {},
   "outputs": [],
   "source": [
    "%config InlineBackend.figure_formats = ['svg']\n",
    "\n",
    "import sympy as sp \n",
    "from sympycalcs import render, convert\n",
    "import sympy.physics.units as unit\n",
    "from sympy.abc import *\n",
    "import numpy as np\n",
    "\n",
    "\n",
    "import matplotlib.pyplot as plt\n",
    "\n",
    "sp.init_printing(use_latex='mathjax', latex_mode='equation*')"
   ]
  },
  {
   "cell_type": "markdown",
   "metadata": {},
   "source": [
    "# Beispiel: Antwortspektrenverfahren an einem dreistöckigen Gebäude\n",
    "\n",
    "![Dreigeschossiges Gebäude](bilder/mms_7_modell.png){#fig-3mms height=50%}"
   ]
  },
  {
   "cell_type": "markdown",
   "metadata": {},
   "source": [
    "{{< pagebreak >}}\n",
    "## Musterlösung\n",
    "\n",
    "![Gebäude modelliert als Mehrmassenschwinger](bilder/system_mms3.png){height=50mm}"
   ]
  },
  {
   "cell_type": "code",
   "execution_count": 2,
   "metadata": {},
   "outputs": [
    {
     "data": {
      "text/markdown": [
       "| Parameter |  |\n",
       "|---|---|\n",
       "| $EI_{1} = 2100000.0 \\text{m}^{2} \\text{N}$ | $EI_{2} = 2100000.0 \\text{m}^{2} \\text{N}$ |\n",
       "| $EI_{3} = 1500000.0 \\text{m}^{2} \\text{N}$ | $H_{1} = 4.5 \\text{m}$ |\n",
       "| $H_{2} = 4.25 \\text{m}$ | $H_{3} = 4.25 \\text{m}$ |\n",
       "| $m_{1} = \\frac{12000 \\text{N} \\text{s}^{2}}{\\text{m}}$ | $m_{2} = \\frac{12000 \\text{N} \\text{s}^{2}}{\\text{m}}$ |\n",
       "| $m_{3} = \\frac{8000 \\text{N} \\text{s}^{2}}{\\text{m}}$ | |\n"
      ],
      "text/plain": [
       "<IPython.core.display.Markdown object>"
      ]
     },
     "metadata": {},
     "output_type": "display_data"
    }
   ],
   "source": [
    "#| label: tbl-parameter_mms6\n",
    "#| tbl-cap: Verwendete Parameter\n",
    "\n",
    "params = {'EI_1': 2.1*10**6 *unit.N*unit.m**2,\n",
    "          'EI_2': 2.1*10**6 *unit.N*unit.m**2,\n",
    "          'EI_3': 1.5*10**6 *unit.N*unit.m**2,\n",
    "          'm_1':12000*unit.N*unit.second**2/unit.m,\n",
    "          'm_2':12000*unit.N*unit.second**2/unit.m,\n",
    "          'm_3':8000*unit.N*unit.second**2/unit.m,\n",
    "          'H_1':4.5*unit.m,\n",
    "          'H_2':4.25*unit.m,\n",
    "          'H_3':4.25*unit.m,\n",
    "          }\n",
    "\n",
    "params_plot = convert.param_value(params)\n",
    "render.dict_to_table(params)"
   ]
  },
  {
   "cell_type": "markdown",
   "metadata": {},
   "source": [
    "### Massenmatrix $M$\n",
    "\n",
    "![System an jeder Punktmasse ausgelenkt](bilder/matrix_3mms.png){height=50mm}"
   ]
  },
  {
   "cell_type": "code",
   "execution_count": 3,
   "metadata": {},
   "outputs": [],
   "source": [
    "m_1, m_2, m_3 = sp.symbols('m_1, m_2, m_3')"
   ]
  },
  {
   "cell_type": "code",
   "execution_count": 4,
   "metadata": {},
   "outputs": [
    {
     "data": {
      "text/latex": [
       "\\begin{equation*}M = \\left[\\begin{matrix}m_{1} & 0 & 0\\\\0 & m_{2} & 0\\\\0 & 0 & m_{3}\\end{matrix}\\right]\\end{equation*}"
      ],
      "text/plain": [
       "    ⎡m₁  0   0 ⎤\n",
       "    ⎢          ⎥\n",
       "M = ⎢0   m₂  0 ⎥\n",
       "    ⎢          ⎥\n",
       "    ⎣0   0   m₃⎦"
      ]
     },
     "metadata": {},
     "output_type": "display_data"
    },
    {
     "data": {
      "text/latex": [
       "\\begin{equation*}M = \\left[\\begin{matrix}\\frac{12000 \\text{N} \\text{s}^{2}}{\\text{m}} & 0 & 0\\\\0 & \\frac{12000 \\text{N} \\text{s}^{2}}{\\text{m}} & 0\\\\0 & 0 & \\frac{8000 \\text{N} \\text{s}^{2}}{\\text{m}}\\end{matrix}\\right]\\end{equation*}"
      ],
      "text/plain": [
       "    ⎡                   2                                           ⎤\n",
       "    ⎢12000⋅newton⋅second                                            ⎥\n",
       "    ⎢────────────────────           0                     0         ⎥\n",
       "    ⎢       meter                                                   ⎥\n",
       "    ⎢                                                               ⎥\n",
       "    ⎢                                         2                     ⎥\n",
       "    ⎢                      12000⋅newton⋅second                      ⎥\n",
       "M = ⎢         0            ────────────────────           0         ⎥\n",
       "    ⎢                             meter                             ⎥\n",
       "    ⎢                                                               ⎥\n",
       "    ⎢                                                              2⎥\n",
       "    ⎢                                            8000⋅newton⋅second ⎥\n",
       "    ⎢         0                     0            ───────────────────⎥\n",
       "    ⎣                                                   meter       ⎦"
      ]
     },
     "metadata": {},
     "output_type": "display_data"
    }
   ],
   "source": [
    "M = sp.Matrix([[m_1,0,0],[0,m_2,0],[0,0,m_3]])\n",
    "\n",
    "render.eq_display(sp.MatrixSymbol('M', 3, 3), M,\n",
    "                  sp.MatrixSymbol('M', 3, 3), M.subs(params))"
   ]
  },
  {
   "cell_type": "markdown",
   "metadata": {},
   "source": [
    "### Steifigkeitsmatrix $K$\n",
    "\n",
    "#### Steifigkeit der Stockwerke"
   ]
  },
  {
   "cell_type": "code",
   "execution_count": 5,
   "metadata": {},
   "outputs": [],
   "source": [
    "EI_1, EI_2, EI_3, H_1, H_2, H_3 = sp.symbols(\"EI_1, EI_2, EI_3, H_1, H_2, H_3\")\n"
   ]
  },
  {
   "cell_type": "code",
   "execution_count": 6,
   "metadata": {},
   "outputs": [
    {
     "data": {
      "text/latex": [
       "\\begin{equation*}k_{1} = \\frac{24 EI_{1}}{H_{1}^{3}}\\end{equation*}"
      ],
      "text/plain": [
       "     24⋅EI₁\n",
       "k₁ = ──────\n",
       "        3  \n",
       "      H₁   "
      ]
     },
     "metadata": {},
     "output_type": "display_data"
    },
    {
     "data": {
      "text/latex": [
       "\\begin{equation*}k_{1} = \\frac{5.53 \\cdot 10^{5} \\text{N}}{\\text{m}}\\end{equation*}"
      ],
      "text/plain": [
       "     5.53e+5⋅newton\n",
       "k₁ = ──────────────\n",
       "         meter     "
      ]
     },
     "metadata": {},
     "output_type": "display_data"
    },
    {
     "data": {
      "text/latex": [
       "\\begin{equation*}k_{2} = \\frac{24 EI_{2}}{H_{2}^{3}}\\end{equation*}"
      ],
      "text/plain": [
       "     24⋅EI₂\n",
       "k₂ = ──────\n",
       "        3  \n",
       "      H₂   "
      ]
     },
     "metadata": {},
     "output_type": "display_data"
    },
    {
     "data": {
      "text/latex": [
       "\\begin{equation*}k_{2} = \\frac{6.57 \\cdot 10^{5} \\text{N}}{\\text{m}}\\end{equation*}"
      ],
      "text/plain": [
       "     6.57e+5⋅newton\n",
       "k₂ = ──────────────\n",
       "         meter     "
      ]
     },
     "metadata": {},
     "output_type": "display_data"
    },
    {
     "data": {
      "text/latex": [
       "\\begin{equation*}k_{3} = \\frac{24 EI_{3}}{H_{3}^{3}}\\end{equation*}"
      ],
      "text/plain": [
       "     24⋅EI₃\n",
       "k₃ = ──────\n",
       "        3  \n",
       "      H₃   "
      ]
     },
     "metadata": {},
     "output_type": "display_data"
    },
    {
     "data": {
      "text/latex": [
       "\\begin{equation*}k_{3} = \\frac{4.69 \\cdot 10^{5} \\text{N}}{\\text{m}}\\end{equation*}"
      ],
      "text/plain": [
       "     4.69e+5⋅newton\n",
       "k₃ = ──────────────\n",
       "         meter     "
      ]
     },
     "metadata": {},
     "output_type": "display_data"
    }
   ],
   "source": [
    "k_1 = 12 * EI_1 /H_1**3 * 2\n",
    "k_2 = 12 * EI_2 / H_2**3 * 2 \n",
    "k_3 = 12 * EI_3 / H_3**3 * 2 \n",
    "\n",
    "render.eq_display(\"k_1\", k_1,\n",
    "'k_1', k_1.subs(params).simplify().evalf(3),\n",
    "\"k_2\", k_2,\n",
    "'k_2', k_2.subs(params).simplify().evalf(3),\n",
    "\"k_3\", k_3,\n",
    "'k_3', k_3.subs(params).simplify().evalf(3))"
   ]
  },
  {
   "cell_type": "markdown",
   "metadata": {},
   "source": [
    "Abgefüllt in die Steifigkeitsmatrix"
   ]
  },
  {
   "cell_type": "code",
   "execution_count": 7,
   "metadata": {},
   "outputs": [
    {
     "data": {
      "text/latex": [
       "\\begin{equation*}K = \\left[\\begin{matrix}k_{1} + k_{2} & - k_{2} & 0\\\\- k_{2} & k_{2} + k_{3} & - k_{3}\\\\0 & - k_{3} & k_{3}\\end{matrix}\\right]\\end{equation*}"
      ],
      "text/plain": [
       "    ⎡k₁ + k₂    -k₂     0 ⎤\n",
       "    ⎢                     ⎥\n",
       "K = ⎢  -k₂    k₂ + k₃  -k₃⎥\n",
       "    ⎢                     ⎥\n",
       "    ⎣   0       -k₃    k₃ ⎦"
      ]
     },
     "metadata": {},
     "output_type": "display_data"
    },
    {
     "data": {
      "text/latex": [
       "\\begin{equation*}K = \\left[\\begin{matrix}\\frac{24 EI_{1}}{H_{1}^{3}} + \\frac{24 EI_{2}}{H_{2}^{3}} & - \\frac{24 EI_{2}}{H_{2}^{3}} & 0\\\\- \\frac{24 EI_{2}}{H_{2}^{3}} & \\frac{24 EI_{2}}{H_{2}^{3}} + \\frac{24 EI_{3}}{H_{3}^{3}} & - \\frac{24 EI_{3}}{H_{3}^{3}}\\\\0 & - \\frac{24 EI_{3}}{H_{3}^{3}} & \\frac{24 EI_{3}}{H_{3}^{3}}\\end{matrix}\\right]\\end{equation*}"
      ],
      "text/plain": [
       "    ⎡24⋅EI₁   24⋅EI₂     -24⋅EI₂               ⎤\n",
       "    ⎢────── + ──────     ────────         0    ⎥\n",
       "    ⎢   3        3           3                 ⎥\n",
       "    ⎢ H₁       H₂          H₂                  ⎥\n",
       "    ⎢                                          ⎥\n",
       "    ⎢   -24⋅EI₂       24⋅EI₂   24⋅EI₃  -24⋅EI₃ ⎥\n",
       "    ⎢   ────────      ────── + ──────  ────────⎥\n",
       "K = ⎢       3            3        3        3   ⎥\n",
       "    ⎢     H₂           H₂       H₃       H₃    ⎥\n",
       "    ⎢                                          ⎥\n",
       "    ⎢                    -24⋅EI₃        24⋅EI₃ ⎥\n",
       "    ⎢       0            ────────       ────── ⎥\n",
       "    ⎢                        3             3   ⎥\n",
       "    ⎣                      H₃            H₃    ⎦"
      ]
     },
     "metadata": {},
     "output_type": "display_data"
    },
    {
     "data": {
      "text/latex": [
       "\\begin{equation*}K = \\left[\\begin{matrix}\\frac{1.21 \\cdot 10^{6} \\text{N}}{\\text{m}} & - \\frac{6.57 \\cdot 10^{5} \\text{N}}{\\text{m}} & 0\\\\- \\frac{6.57 \\cdot 10^{5} \\text{N}}{\\text{m}} & \\frac{1.13 \\cdot 10^{6} \\text{N}}{\\text{m}} & - \\frac{4.69 \\cdot 10^{5} \\text{N}}{\\text{m}}\\\\0 & - \\frac{4.69 \\cdot 10^{5} \\text{N}}{\\text{m}} & \\frac{4.69 \\cdot 10^{5} \\text{N}}{\\text{m}}\\end{matrix}\\right]\\end{equation*}"
      ],
      "text/plain": [
       "    ⎡ 1.21e+6⋅newton   -6.57e+5⋅newton                   ⎤\n",
       "    ⎢ ──────────────   ────────────────         0        ⎥\n",
       "    ⎢     meter             meter                        ⎥\n",
       "    ⎢                                                    ⎥\n",
       "    ⎢-6.57e+5⋅newton    1.13e+6⋅newton   -4.69e+5⋅newton ⎥\n",
       "K = ⎢────────────────   ──────────────   ────────────────⎥\n",
       "    ⎢     meter             meter             meter      ⎥\n",
       "    ⎢                                                    ⎥\n",
       "    ⎢                  -4.69e+5⋅newton    4.69e+5⋅newton ⎥\n",
       "    ⎢       0          ────────────────   ────────────── ⎥\n",
       "    ⎣                       meter             meter      ⎦"
      ]
     },
     "metadata": {},
     "output_type": "display_data"
    }
   ],
   "source": [
    "K = sp.Matrix([[k_1 + k_2, -k_2, 0],[-k_2,k_2+k_3, -k_3], [0,-k_3, k_3]])\n",
    "\n",
    "render.eq_display(sp.MatrixSymbol('K', 3, 3), \"Matrix([[k_1 + k_2, -k_2, 0],[-k_2,k_2+k_3, -k_3], [0,-k_3, k_3]])\",\n",
    "sp.MatrixSymbol('K', 3, 3), K,\n",
    "                  sp.MatrixSymbol('K', 3, 3), K.subs(params).evalf(3))"
   ]
  },
  {
   "cell_type": "markdown",
   "metadata": {},
   "source": [
    "### Eigenvektoren "
   ]
  },
  {
   "cell_type": "markdown",
   "metadata": {},
   "source": [
    "#### Eigenkreisfrequenzen \n",
    "Bei einem Mehrmassenschwinger gibt es entsprechend den Freiheitsgraden Eigenkreisfrequenzen $\\omega_n$. Diese lassen sich anhand folgender Gleichung bestimmen:\n",
    "\n",
    "$$\n",
    "\\det{[\\mathbf{K}-\\omega_n^2 \\mathbf{M}]=0}\n",
    "$${#eq-eigenkreisfreqs}"
   ]
  },
  {
   "cell_type": "code",
   "execution_count": 8,
   "metadata": {},
   "outputs": [
    {
     "data": {
      "text/latex": [
       "\\begin{equation*}\\omega_{1} = \\frac{3.4}{\\text{s}}\\end{equation*}"
      ],
      "text/plain": [
       "      3.4  \n",
       "ω₁ = ──────\n",
       "     second"
      ]
     },
     "metadata": {},
     "output_type": "display_data"
    },
    {
     "data": {
      "text/latex": [
       "\\begin{equation*}\\omega_{2} = \\frac{8.84}{\\text{s}}\\end{equation*}"
      ],
      "text/plain": [
       "      8.84 \n",
       "ω₂ = ──────\n",
       "     second"
      ]
     },
     "metadata": {},
     "output_type": "display_data"
    },
    {
     "data": {
      "text/latex": [
       "\\begin{equation*}\\omega_{3} = \\frac{12.8}{\\text{s}}\\end{equation*}"
      ],
      "text/plain": [
       "      12.8 \n",
       "ω₃ = ──────\n",
       "     second"
      ]
     },
     "metadata": {},
     "output_type": "display_data"
    }
   ],
   "source": [
    "omega_n =sp.symbols('omega_n', real=True)\n",
    "eq_omega = sp.det(K-omega_n**2*M)\n",
    "omega_n_solve= sp.solve([eq_omega.subs(params_plot).simplify(), omega_n<=100, omega_n>=0], omega_n, dict=True)\n",
    "\n",
    "omega_1 = omega_n_solve.args[0].rhs/unit.second\n",
    "omega_2 = omega_n_solve.args[1].rhs/unit.second\n",
    "omega_3 = omega_n_solve.args[2].rhs/unit.second\n",
    "\n",
    "\n",
    "\n",
    "render.eq_display('omega_1', omega_1.evalf(3),\n",
    "                  'omega_2', omega_2.evalf(3),\n",
    "                  'omega_3', omega_3.evalf(3))\n",
    "\n"
   ]
  },
  {
   "cell_type": "code",
   "execution_count": 9,
   "metadata": {},
   "outputs": [
    {
     "data": {
      "image/svg+xml": [
       "<?xml version=\"1.0\" encoding=\"utf-8\" standalone=\"no\"?>\n",
       "<!DOCTYPE svg PUBLIC \"-//W3C//DTD SVG 1.1//EN\"\n",
       "  \"http://www.w3.org/Graphics/SVG/1.1/DTD/svg11.dtd\">\n",
       "<svg xmlns:xlink=\"http://www.w3.org/1999/xlink\" width=\"412.429742pt\" height=\"136.478437pt\" viewBox=\"0 0 412.429742 136.478437\" xmlns=\"http://www.w3.org/2000/svg\" version=\"1.1\">\n",
       " <metadata>\n",
       "  <rdf:RDF xmlns:dc=\"http://purl.org/dc/elements/1.1/\" xmlns:cc=\"http://creativecommons.org/ns#\" xmlns:rdf=\"http://www.w3.org/1999/02/22-rdf-syntax-ns#\">\n",
       "   <cc:Work>\n",
       "    <dc:type rdf:resource=\"http://purl.org/dc/dcmitype/StillImage\"/>\n",
       "    <dc:date>2023-08-09T10:20:37.658301</dc:date>\n",
       "    <dc:format>image/svg+xml</dc:format>\n",
       "    <dc:creator>\n",
       "     <cc:Agent>\n",
       "      <dc:title>Matplotlib v3.7.1, https://matplotlib.org/</dc:title>\n",
       "     </cc:Agent>\n",
       "    </dc:creator>\n",
       "   </cc:Work>\n",
       "  </rdf:RDF>\n",
       " </metadata>\n",
       " <defs>\n",
       "  <style type=\"text/css\">*{stroke-linejoin: round; stroke-linecap: butt}</style>\n",
       " </defs>\n",
       " <g id=\"figure_1\">\n",
       "  <g id=\"patch_1\">\n",
       "   <path d=\"M 0 136.478437 \n",
       "L 412.429742 136.478437 \n",
       "L 412.429742 0 \n",
       "L 0 0 \n",
       "z\n",
       "\" style=\"fill: #ffffff\"/>\n",
       "  </g>\n",
       "  <g id=\"axes_1\">\n",
       "   <g id=\"patch_2\">\n",
       "    <path d=\"M 25.353197 129.278437 \n",
       "L 405.229742 129.278437 \n",
       "L 405.229742 17.798437 \n",
       "L 25.353197 17.798437 \n",
       "z\n",
       "\" style=\"fill: #ffffff\"/>\n",
       "   </g>\n",
       "   <g id=\"matplotlib.axis_1\">\n",
       "    <g id=\"xtick_1\">\n",
       "     <g id=\"line2d_1\">\n",
       "      <defs>\n",
       "       <path id=\"mffa2ec4cc8\" d=\"M 0 0 \n",
       "L 0 3.5 \n",
       "\" style=\"stroke: #000000; stroke-width: 0.8\"/>\n",
       "      </defs>\n",
       "      <g>\n",
       "       <use xlink:href=\"#mffa2ec4cc8\" x=\"42.620313\" y=\"32.620052\" style=\"stroke: #000000; stroke-width: 0.8\"/>\n",
       "      </g>\n",
       "     </g>\n",
       "     <g id=\"text_1\">\n",
       "      <!-- 0 -->\n",
       "      <g transform=\"translate(39.439063 47.218489) scale(0.1 -0.1)\">\n",
       "       <defs>\n",
       "        <path id=\"DejaVuSans-30\" d=\"M 2034 4250 \n",
       "Q 1547 4250 1301 3770 \n",
       "Q 1056 3291 1056 2328 \n",
       "Q 1056 1369 1301 889 \n",
       "Q 1547 409 2034 409 \n",
       "Q 2525 409 2770 889 \n",
       "Q 3016 1369 3016 2328 \n",
       "Q 3016 3291 2770 3770 \n",
       "Q 2525 4250 2034 4250 \n",
       "z\n",
       "M 2034 4750 \n",
       "Q 2819 4750 3233 4129 \n",
       "Q 3647 3509 3647 2328 \n",
       "Q 3647 1150 3233 529 \n",
       "Q 2819 -91 2034 -91 \n",
       "Q 1250 -91 836 529 \n",
       "Q 422 1150 422 2328 \n",
       "Q 422 3509 836 4129 \n",
       "Q 1250 4750 2034 4750 \n",
       "z\n",
       "\" transform=\"scale(0.015625)\"/>\n",
       "       </defs>\n",
       "       <use xlink:href=\"#DejaVuSans-30\"/>\n",
       "      </g>\n",
       "     </g>\n",
       "    </g>\n",
       "    <g id=\"xtick_2\">\n",
       "     <g id=\"line2d_2\">\n",
       "      <g>\n",
       "       <use xlink:href=\"#mffa2ec4cc8\" x=\"88.665954\" y=\"32.620052\" style=\"stroke: #000000; stroke-width: 0.8\"/>\n",
       "      </g>\n",
       "     </g>\n",
       "     <g id=\"text_2\">\n",
       "      <!-- 2 -->\n",
       "      <g transform=\"translate(85.484704 47.218489) scale(0.1 -0.1)\">\n",
       "       <defs>\n",
       "        <path id=\"DejaVuSans-32\" d=\"M 1228 531 \n",
       "L 3431 531 \n",
       "L 3431 0 \n",
       "L 469 0 \n",
       "L 469 531 \n",
       "Q 828 903 1448 1529 \n",
       "Q 2069 2156 2228 2338 \n",
       "Q 2531 2678 2651 2914 \n",
       "Q 2772 3150 2772 3378 \n",
       "Q 2772 3750 2511 3984 \n",
       "Q 2250 4219 1831 4219 \n",
       "Q 1534 4219 1204 4116 \n",
       "Q 875 4013 500 3803 \n",
       "L 500 4441 \n",
       "Q 881 4594 1212 4672 \n",
       "Q 1544 4750 1819 4750 \n",
       "Q 2544 4750 2975 4387 \n",
       "Q 3406 4025 3406 3419 \n",
       "Q 3406 3131 3298 2873 \n",
       "Q 3191 2616 2906 2266 \n",
       "Q 2828 2175 2409 1742 \n",
       "Q 1991 1309 1228 531 \n",
       "z\n",
       "\" transform=\"scale(0.015625)\"/>\n",
       "       </defs>\n",
       "       <use xlink:href=\"#DejaVuSans-32\"/>\n",
       "      </g>\n",
       "     </g>\n",
       "    </g>\n",
       "    <g id=\"xtick_3\">\n",
       "     <g id=\"line2d_3\">\n",
       "      <g>\n",
       "       <use xlink:href=\"#mffa2ec4cc8\" x=\"134.711596\" y=\"32.620052\" style=\"stroke: #000000; stroke-width: 0.8\"/>\n",
       "      </g>\n",
       "     </g>\n",
       "     <g id=\"text_3\">\n",
       "      <!-- 4 -->\n",
       "      <g transform=\"translate(131.530346 47.218489) scale(0.1 -0.1)\">\n",
       "       <defs>\n",
       "        <path id=\"DejaVuSans-34\" d=\"M 2419 4116 \n",
       "L 825 1625 \n",
       "L 2419 1625 \n",
       "L 2419 4116 \n",
       "z\n",
       "M 2253 4666 \n",
       "L 3047 4666 \n",
       "L 3047 1625 \n",
       "L 3713 1625 \n",
       "L 3713 1100 \n",
       "L 3047 1100 \n",
       "L 3047 0 \n",
       "L 2419 0 \n",
       "L 2419 1100 \n",
       "L 313 1100 \n",
       "L 313 1709 \n",
       "L 2253 4666 \n",
       "z\n",
       "\" transform=\"scale(0.015625)\"/>\n",
       "       </defs>\n",
       "       <use xlink:href=\"#DejaVuSans-34\"/>\n",
       "      </g>\n",
       "     </g>\n",
       "    </g>\n",
       "    <g id=\"xtick_4\">\n",
       "     <g id=\"line2d_4\">\n",
       "      <g>\n",
       "       <use xlink:href=\"#mffa2ec4cc8\" x=\"180.757238\" y=\"32.620052\" style=\"stroke: #000000; stroke-width: 0.8\"/>\n",
       "      </g>\n",
       "     </g>\n",
       "     <g id=\"text_4\">\n",
       "      <!-- 6 -->\n",
       "      <g transform=\"translate(177.575988 47.218489) scale(0.1 -0.1)\">\n",
       "       <defs>\n",
       "        <path id=\"DejaVuSans-36\" d=\"M 2113 2584 \n",
       "Q 1688 2584 1439 2293 \n",
       "Q 1191 2003 1191 1497 \n",
       "Q 1191 994 1439 701 \n",
       "Q 1688 409 2113 409 \n",
       "Q 2538 409 2786 701 \n",
       "Q 3034 994 3034 1497 \n",
       "Q 3034 2003 2786 2293 \n",
       "Q 2538 2584 2113 2584 \n",
       "z\n",
       "M 3366 4563 \n",
       "L 3366 3988 \n",
       "Q 3128 4100 2886 4159 \n",
       "Q 2644 4219 2406 4219 \n",
       "Q 1781 4219 1451 3797 \n",
       "Q 1122 3375 1075 2522 \n",
       "Q 1259 2794 1537 2939 \n",
       "Q 1816 3084 2150 3084 \n",
       "Q 2853 3084 3261 2657 \n",
       "Q 3669 2231 3669 1497 \n",
       "Q 3669 778 3244 343 \n",
       "Q 2819 -91 2113 -91 \n",
       "Q 1303 -91 875 529 \n",
       "Q 447 1150 447 2328 \n",
       "Q 447 3434 972 4092 \n",
       "Q 1497 4750 2381 4750 \n",
       "Q 2619 4750 2861 4703 \n",
       "Q 3103 4656 3366 4563 \n",
       "z\n",
       "\" transform=\"scale(0.015625)\"/>\n",
       "       </defs>\n",
       "       <use xlink:href=\"#DejaVuSans-36\"/>\n",
       "      </g>\n",
       "     </g>\n",
       "    </g>\n",
       "    <g id=\"xtick_5\">\n",
       "     <g id=\"line2d_5\">\n",
       "      <g>\n",
       "       <use xlink:href=\"#mffa2ec4cc8\" x=\"226.80288\" y=\"32.620052\" style=\"stroke: #000000; stroke-width: 0.8\"/>\n",
       "      </g>\n",
       "     </g>\n",
       "     <g id=\"text_5\">\n",
       "      <!-- 8 -->\n",
       "      <g transform=\"translate(223.62163 47.218489) scale(0.1 -0.1)\">\n",
       "       <defs>\n",
       "        <path id=\"DejaVuSans-38\" d=\"M 2034 2216 \n",
       "Q 1584 2216 1326 1975 \n",
       "Q 1069 1734 1069 1313 \n",
       "Q 1069 891 1326 650 \n",
       "Q 1584 409 2034 409 \n",
       "Q 2484 409 2743 651 \n",
       "Q 3003 894 3003 1313 \n",
       "Q 3003 1734 2745 1975 \n",
       "Q 2488 2216 2034 2216 \n",
       "z\n",
       "M 1403 2484 \n",
       "Q 997 2584 770 2862 \n",
       "Q 544 3141 544 3541 \n",
       "Q 544 4100 942 4425 \n",
       "Q 1341 4750 2034 4750 \n",
       "Q 2731 4750 3128 4425 \n",
       "Q 3525 4100 3525 3541 \n",
       "Q 3525 3141 3298 2862 \n",
       "Q 3072 2584 2669 2484 \n",
       "Q 3125 2378 3379 2068 \n",
       "Q 3634 1759 3634 1313 \n",
       "Q 3634 634 3220 271 \n",
       "Q 2806 -91 2034 -91 \n",
       "Q 1263 -91 848 271 \n",
       "Q 434 634 434 1313 \n",
       "Q 434 1759 690 2068 \n",
       "Q 947 2378 1403 2484 \n",
       "z\n",
       "M 1172 3481 \n",
       "Q 1172 3119 1398 2916 \n",
       "Q 1625 2713 2034 2713 \n",
       "Q 2441 2713 2670 2916 \n",
       "Q 2900 3119 2900 3481 \n",
       "Q 2900 3844 2670 4047 \n",
       "Q 2441 4250 2034 4250 \n",
       "Q 1625 4250 1398 4047 \n",
       "Q 1172 3844 1172 3481 \n",
       "z\n",
       "\" transform=\"scale(0.015625)\"/>\n",
       "       </defs>\n",
       "       <use xlink:href=\"#DejaVuSans-38\"/>\n",
       "      </g>\n",
       "     </g>\n",
       "    </g>\n",
       "    <g id=\"xtick_6\">\n",
       "     <g id=\"line2d_6\">\n",
       "      <g>\n",
       "       <use xlink:href=\"#mffa2ec4cc8\" x=\"272.848522\" y=\"32.620052\" style=\"stroke: #000000; stroke-width: 0.8\"/>\n",
       "      </g>\n",
       "     </g>\n",
       "     <g id=\"text_6\">\n",
       "      <!-- 10 -->\n",
       "      <g transform=\"translate(266.486022 47.218489) scale(0.1 -0.1)\">\n",
       "       <defs>\n",
       "        <path id=\"DejaVuSans-31\" d=\"M 794 531 \n",
       "L 1825 531 \n",
       "L 1825 4091 \n",
       "L 703 3866 \n",
       "L 703 4441 \n",
       "L 1819 4666 \n",
       "L 2450 4666 \n",
       "L 2450 531 \n",
       "L 3481 531 \n",
       "L 3481 0 \n",
       "L 794 0 \n",
       "L 794 531 \n",
       "z\n",
       "\" transform=\"scale(0.015625)\"/>\n",
       "       </defs>\n",
       "       <use xlink:href=\"#DejaVuSans-31\"/>\n",
       "       <use xlink:href=\"#DejaVuSans-30\" x=\"63.623047\"/>\n",
       "      </g>\n",
       "     </g>\n",
       "    </g>\n",
       "    <g id=\"xtick_7\">\n",
       "     <g id=\"line2d_7\">\n",
       "      <g>\n",
       "       <use xlink:href=\"#mffa2ec4cc8\" x=\"318.894164\" y=\"32.620052\" style=\"stroke: #000000; stroke-width: 0.8\"/>\n",
       "      </g>\n",
       "     </g>\n",
       "     <g id=\"text_7\">\n",
       "      <!-- 12 -->\n",
       "      <g transform=\"translate(312.531664 47.218489) scale(0.1 -0.1)\">\n",
       "       <use xlink:href=\"#DejaVuSans-31\"/>\n",
       "       <use xlink:href=\"#DejaVuSans-32\" x=\"63.623047\"/>\n",
       "      </g>\n",
       "     </g>\n",
       "    </g>\n",
       "    <g id=\"xtick_8\">\n",
       "     <g id=\"line2d_8\">\n",
       "      <g>\n",
       "       <use xlink:href=\"#mffa2ec4cc8\" x=\"364.939806\" y=\"32.620052\" style=\"stroke: #000000; stroke-width: 0.8\"/>\n",
       "      </g>\n",
       "     </g>\n",
       "     <g id=\"text_8\">\n",
       "      <!-- 14 -->\n",
       "      <g transform=\"translate(358.577306 47.218489) scale(0.1 -0.1)\">\n",
       "       <use xlink:href=\"#DejaVuSans-31\"/>\n",
       "       <use xlink:href=\"#DejaVuSans-34\" x=\"63.623047\"/>\n",
       "      </g>\n",
       "     </g>\n",
       "    </g>\n",
       "    <g id=\"text_9\">\n",
       "     <!-- $\\omega_{n}$ -->\n",
       "     <g transform=\"translate(208.74147 60.896614) scale(0.1 -0.1)\">\n",
       "      <defs>\n",
       "       <path id=\"DejaVuSans-Oblique-3c9\" d=\"M 1369 -91 \n",
       "Q 72 -91 434 1766 \n",
       "Q 575 2500 1256 3500 \n",
       "L 1875 3500 \n",
       "Q 1231 2500 1088 1750 \n",
       "Q 819 397 1519 397 \n",
       "Q 2166 397 2478 2078 \n",
       "L 3009 2078 \n",
       "Q 2669 388 3316 397 \n",
       "Q 4013 403 4275 1750 \n",
       "Q 4419 2500 4169 3500 \n",
       "L 4788 3500 \n",
       "Q 5075 2500 4934 1766 \n",
       "Q 4578 -94 3278 -91 \n",
       "Q 2428 -88 2503 844 \n",
       "Q 2194 -91 1369 -91 \n",
       "z\n",
       "\" transform=\"scale(0.015625)\"/>\n",
       "       <path id=\"DejaVuSans-Oblique-6e\" d=\"M 3566 2113 \n",
       "L 3156 0 \n",
       "L 2578 0 \n",
       "L 2988 2091 \n",
       "Q 3016 2238 3031 2350 \n",
       "Q 3047 2463 3047 2528 \n",
       "Q 3047 2791 2881 2937 \n",
       "Q 2716 3084 2419 3084 \n",
       "Q 1956 3084 1622 2776 \n",
       "Q 1288 2469 1184 1941 \n",
       "L 800 0 \n",
       "L 225 0 \n",
       "L 903 3500 \n",
       "L 1478 3500 \n",
       "L 1363 2950 \n",
       "Q 1603 3253 1940 3418 \n",
       "Q 2278 3584 2650 3584 \n",
       "Q 3113 3584 3367 3334 \n",
       "Q 3622 3084 3622 2631 \n",
       "Q 3622 2519 3608 2391 \n",
       "Q 3594 2263 3566 2113 \n",
       "z\n",
       "\" transform=\"scale(0.015625)\"/>\n",
       "      </defs>\n",
       "      <use xlink:href=\"#DejaVuSans-Oblique-3c9\" transform=\"translate(0 0.3125)\"/>\n",
       "      <use xlink:href=\"#DejaVuSans-Oblique-6e\" transform=\"translate(83.740234 -16.09375) scale(0.7)\"/>\n",
       "     </g>\n",
       "    </g>\n",
       "   </g>\n",
       "   <g id=\"matplotlib.axis_2\">\n",
       "    <g id=\"ytick_1\">\n",
       "     <g id=\"line2d_9\">\n",
       "      <defs>\n",
       "       <path id=\"m0430b751a0\" d=\"M 0 0 \n",
       "L -3.5 0 \n",
       "\" style=\"stroke: #000000; stroke-width: 0.8\"/>\n",
       "      </defs>\n",
       "      <g>\n",
       "       <use xlink:href=\"#m0430b751a0\" x=\"42.620313\" y=\"115.059463\" style=\"stroke: #000000; stroke-width: 0.8\"/>\n",
       "      </g>\n",
       "     </g>\n",
       "     <g id=\"text_10\">\n",
       "      <!-- −2 -->\n",
       "      <g transform=\"translate(20.878125 118.858681) scale(0.1 -0.1)\">\n",
       "       <defs>\n",
       "        <path id=\"DejaVuSans-2212\" d=\"M 678 2272 \n",
       "L 4684 2272 \n",
       "L 4684 1741 \n",
       "L 678 1741 \n",
       "L 678 2272 \n",
       "z\n",
       "\" transform=\"scale(0.015625)\"/>\n",
       "       </defs>\n",
       "       <use xlink:href=\"#DejaVuSans-2212\"/>\n",
       "       <use xlink:href=\"#DejaVuSans-32\" x=\"83.789062\"/>\n",
       "      </g>\n",
       "     </g>\n",
       "    </g>\n",
       "    <g id=\"ytick_2\">\n",
       "     <g id=\"line2d_10\">\n",
       "      <g>\n",
       "       <use xlink:href=\"#m0430b751a0\" x=\"42.620313\" y=\"73.839757\" style=\"stroke: #000000; stroke-width: 0.8\"/>\n",
       "      </g>\n",
       "     </g>\n",
       "     <g id=\"text_11\">\n",
       "      <!-- −1 -->\n",
       "      <g transform=\"translate(20.878125 77.638976) scale(0.1 -0.1)\">\n",
       "       <use xlink:href=\"#DejaVuSans-2212\"/>\n",
       "       <use xlink:href=\"#DejaVuSans-31\" x=\"83.789062\"/>\n",
       "      </g>\n",
       "     </g>\n",
       "    </g>\n",
       "    <g id=\"ytick_3\">\n",
       "     <g id=\"line2d_11\">\n",
       "      <g>\n",
       "       <use xlink:href=\"#m0430b751a0\" x=\"42.620313\" y=\"32.620052\" style=\"stroke: #000000; stroke-width: 0.8\"/>\n",
       "      </g>\n",
       "     </g>\n",
       "     <g id=\"text_12\">\n",
       "      <!-- 0 -->\n",
       "      <g transform=\"translate(29.257813 36.41927) scale(0.1 -0.1)\">\n",
       "       <use xlink:href=\"#DejaVuSans-30\"/>\n",
       "      </g>\n",
       "     </g>\n",
       "    </g>\n",
       "    <g id=\"text_13\">\n",
       "     <!-- $f{\\left(\\omega_{n} \\right)}$ -->\n",
       "     <g transform=\"translate(14.798438 85.788437) rotate(-90) scale(0.1 -0.1)\">\n",
       "      <defs>\n",
       "       <path id=\"DejaVuSans-Oblique-66\" d=\"M 3059 4863 \n",
       "L 2969 4384 \n",
       "L 2419 4384 \n",
       "Q 2106 4384 1964 4261 \n",
       "Q 1822 4138 1753 3809 \n",
       "L 1691 3500 \n",
       "L 2638 3500 \n",
       "L 2553 3053 \n",
       "L 1606 3053 \n",
       "L 1013 0 \n",
       "L 434 0 \n",
       "L 1031 3053 \n",
       "L 481 3053 \n",
       "L 563 3500 \n",
       "L 1113 3500 \n",
       "L 1159 3744 \n",
       "Q 1278 4363 1576 4613 \n",
       "Q 1875 4863 2516 4863 \n",
       "L 3059 4863 \n",
       "z\n",
       "\" transform=\"scale(0.015625)\"/>\n",
       "       <path id=\"DejaVuSans-28\" d=\"M 1984 4856 \n",
       "Q 1566 4138 1362 3434 \n",
       "Q 1159 2731 1159 2009 \n",
       "Q 1159 1288 1364 580 \n",
       "Q 1569 -128 1984 -844 \n",
       "L 1484 -844 \n",
       "Q 1016 -109 783 600 \n",
       "Q 550 1309 550 2009 \n",
       "Q 550 2706 781 3412 \n",
       "Q 1013 4119 1484 4856 \n",
       "L 1984 4856 \n",
       "z\n",
       "\" transform=\"scale(0.015625)\"/>\n",
       "       <path id=\"DejaVuSans-29\" d=\"M 513 4856 \n",
       "L 1013 4856 \n",
       "Q 1481 4119 1714 3412 \n",
       "Q 1947 2706 1947 2009 \n",
       "Q 1947 1309 1714 600 \n",
       "Q 1481 -109 1013 -844 \n",
       "L 513 -844 \n",
       "Q 928 -128 1133 580 \n",
       "Q 1338 1288 1338 2009 \n",
       "Q 1338 2731 1133 3434 \n",
       "Q 928 4138 513 4856 \n",
       "z\n",
       "\" transform=\"scale(0.015625)\"/>\n",
       "      </defs>\n",
       "      <use xlink:href=\"#DejaVuSans-Oblique-66\" transform=\"translate(0 0.015625)\"/>\n",
       "      <use xlink:href=\"#DejaVuSans-28\" transform=\"translate(35.205078 0.015625)\"/>\n",
       "      <use xlink:href=\"#DejaVuSans-Oblique-3c9\" transform=\"translate(74.21875 0.015625)\"/>\n",
       "      <use xlink:href=\"#DejaVuSans-Oblique-6e\" transform=\"translate(157.958984 -16.390625) scale(0.7)\"/>\n",
       "      <use xlink:href=\"#DejaVuSans-29\" transform=\"translate(205.058594 0.015625)\"/>\n",
       "     </g>\n",
       "    </g>\n",
       "    <g id=\"text_14\">\n",
       "     <!-- 1e18 -->\n",
       "     <g transform=\"translate(25.353197 14.798437) scale(0.1 -0.1)\">\n",
       "      <defs>\n",
       "       <path id=\"DejaVuSans-65\" d=\"M 3597 1894 \n",
       "L 3597 1613 \n",
       "L 953 1613 \n",
       "Q 991 1019 1311 708 \n",
       "Q 1631 397 2203 397 \n",
       "Q 2534 397 2845 478 \n",
       "Q 3156 559 3463 722 \n",
       "L 3463 178 \n",
       "Q 3153 47 2828 -22 \n",
       "Q 2503 -91 2169 -91 \n",
       "Q 1331 -91 842 396 \n",
       "Q 353 884 353 1716 \n",
       "Q 353 2575 817 3079 \n",
       "Q 1281 3584 2069 3584 \n",
       "Q 2775 3584 3186 3129 \n",
       "Q 3597 2675 3597 1894 \n",
       "z\n",
       "M 3022 2063 \n",
       "Q 3016 2534 2758 2815 \n",
       "Q 2500 3097 2075 3097 \n",
       "Q 1594 3097 1305 2825 \n",
       "Q 1016 2553 972 2059 \n",
       "L 3022 2063 \n",
       "z\n",
       "\" transform=\"scale(0.015625)\"/>\n",
       "      </defs>\n",
       "      <use xlink:href=\"#DejaVuSans-31\"/>\n",
       "      <use xlink:href=\"#DejaVuSans-65\" x=\"63.623047\"/>\n",
       "      <use xlink:href=\"#DejaVuSans-31\" x=\"125.146484\"/>\n",
       "      <use xlink:href=\"#DejaVuSans-38\" x=\"188.769531\"/>\n",
       "     </g>\n",
       "    </g>\n",
       "   </g>\n",
       "   <g id=\"line2d_12\">\n",
       "    <path d=\"M 42.620313 25.600748 \n",
       "L 48.471076 25.648468 \n",
       "L 54.534053 25.797961 \n",
       "L 60.587234 26.046782 \n",
       "L 65.744771 26.334792 \n",
       "L 71.267733 26.717356 \n",
       "L 77.215371 27.210159 \n",
       "L 82.125215 27.675602 \n",
       "L 86.927642 28.177797 \n",
       "L 92.649728 28.830508 \n",
       "L 98.827222 29.592368 \n",
       "L 104.301305 30.308108 \n",
       "L 110.556922 31.161247 \n",
       "L 115.653322 31.874963 \n",
       "L 120.371501 32.543368 \n",
       "L 125.009964 33.201285 \n",
       "L 130.672411 33.996381 \n",
       "L 138.025035 34.997592 \n",
       "L 145.016896 35.895365 \n",
       "L 150.77688 36.579319 \n",
       "L 157.517291 37.298512 \n",
       "L 163.823365 37.876293 \n",
       "L 171.104789 38.409646 \n",
       "L 178.166903 38.771317 \n",
       "L 185.265718 38.963399 \n",
       "L 187.982196 38.988346 \n",
       "L 189.078399 38.990531 \n",
       "L 190.350375 38.987306 \n",
       "L 195.311765 38.914524 \n",
       "L 201.558614 38.683312 \n",
       "L 207.010394 38.351744 \n",
       "L 213.708298 37.777799 \n",
       "L 219.42328 37.144679 \n",
       "L 224.976902 36.40709 \n",
       "L 230.119866 35.622048 \n",
       "L 235.839905 34.642615 \n",
       "L 242.096288 33.458006 \n",
       "L 246.650125 32.533123 \n",
       "L 251.998971 31.394543 \n",
       "L 256.337256 30.442161 \n",
       "L 260.825837 29.443023 \n",
       "L 266.359087 28.213987 \n",
       "L 271.452289 27.110735 \n",
       "L 277.254584 25.923242 \n",
       "L 283.321179 24.809425 \n",
       "L 289.501773 23.870554 \n",
       "L 295.230253 23.238988 \n",
       "L 300.242488 22.926007 \n",
       "L 302.56718 22.870429 \n",
       "L 303.135758 22.866321 \n",
       "L 303.457179 22.86571 \n",
       "L 303.773441 22.866332 \n",
       "L 304.806045 22.876971 \n",
       "L 310.874609 23.228547 \n",
       "L 316.340784 24.02749 \n",
       "L 320.357642 24.953304 \n",
       "L 324.871386 26.382478 \n",
       "L 329.804378 28.472952 \n",
       "L 334.052965 30.768402 \n",
       "L 339.553985 34.503896 \n",
       "L 344.966216 39.120514 \n",
       "L 349.880428 44.217602 \n",
       "L 355.213851 50.834422 \n",
       "L 359.817903 57.547457 \n",
       "L 363.590541 63.802351 \n",
       "L 367.260211 70.588307 \n",
       "L 371.114891 78.513866 \n",
       "L 374.820513 86.955562 \n",
       "L 379.29337 98.295645 \n",
       "L 383.207556 109.323883 \n",
       "L 387.962627 124.211165 \n",
       "\" clip-path=\"url(#p2987d2ba54)\" style=\"fill: none; stroke: #1f77b4; stroke-width: 1.5; stroke-linecap: square\"/>\n",
       "   </g>\n",
       "   <g id=\"patch_3\">\n",
       "    <path d=\"M 42.620313 129.278437 \n",
       "L 42.620313 17.798437 \n",
       "\" style=\"fill: none; stroke: #000000; stroke-width: 0.8; stroke-linejoin: miter; stroke-linecap: square\"/>\n",
       "   </g>\n",
       "   <g id=\"patch_4\">\n",
       "    <path d=\"M 405.229742 129.278437 \n",
       "L 405.229742 17.798437 \n",
       "\" style=\"fill: none\"/>\n",
       "   </g>\n",
       "   <g id=\"patch_5\">\n",
       "    <path d=\"M 25.353197 32.620052 \n",
       "L 405.229742 32.620052 \n",
       "\" style=\"fill: none; stroke: #000000; stroke-width: 0.8; stroke-linejoin: miter; stroke-linecap: square\"/>\n",
       "   </g>\n",
       "   <g id=\"patch_6\">\n",
       "    <path d=\"M 25.353197 17.798437 \n",
       "L 405.229742 17.798437 \n",
       "\" style=\"fill: none\"/>\n",
       "   </g>\n",
       "  </g>\n",
       " </g>\n",
       " <defs>\n",
       "  <clipPath id=\"p2987d2ba54\">\n",
       "   <rect x=\"25.353197\" y=\"17.798437\" width=\"379.876545\" height=\"111.48\"/>\n",
       "  </clipPath>\n",
       " </defs>\n",
       "</svg>\n"
      ],
      "text/plain": [
       "<Figure size 590x200 with 1 Axes>"
      ]
     },
     "metadata": {},
     "output_type": "display_data"
    }
   ],
   "source": [
    "#| label: fig-loesung_eigenkreisfrequenzen\n",
    "#| fig-cap: Nullstellen der @eq-eigenkreisfreqs\n",
    "          \n",
    "sp.plot(eq_omega.subs(params_plot).evalf(5).simplify(), (omega_n, 0,15),size=(5.9,2), show=False).show()"
   ]
  },
  {
   "cell_type": "markdown",
   "metadata": {},
   "source": [
    "#### Eigenvektoren $\\phi$\n",
    "Durch das Einsetzen der bestimmten Eigenkreisfrequenzen lassen sich die Eigenvektoren bestimmen. \n",
    "Die Einträge des Eigenvektors sind voneinander abhängig und lassen sich dem entsprechen beliebig definieren. Grundsätzlich wird der maximale Eigenwert zu $1$ gesetzt.\n",
    "\n",
    "$$\\mathbf{K} - \\omega_n^2 \\mathbf{M} \\phi_n= 0$$"
   ]
  },
  {
   "cell_type": "code",
   "execution_count": 20,
   "metadata": {},
   "outputs": [
    {
     "data": {
      "text/latex": [
       "\\begin{equation*}\\left[ \\right]\\end{equation*}"
      ],
      "text/plain": [
       "[]"
      ]
     },
     "execution_count": 20,
     "metadata": {},
     "output_type": "execute_result"
    }
   ],
   "source": [
    "sp.solve(list(((K-(omega_1*unit.second)**2 *M)*phi_1).subs(params_plot)))"
   ]
  },
  {
   "cell_type": "code",
   "execution_count": 14,
   "metadata": {},
   "outputs": [
    {
     "data": {
      "text/latex": [
       "\\begin{equation*}\\left[ 0.0, \\  0.0, \\  0.0\\right]\\end{equation*}"
      ],
      "text/plain": [
       "[0.0, 0.0, 0.0]"
      ]
     },
     "execution_count": 14,
     "metadata": {},
     "output_type": "execute_result"
    }
   ],
   "source": [
    "phi_11, phi_21, phi_31 = sp.symbols('phi_11, phi_21, phi_31')\n",
    "params['phi_11'] = 1\n",
    "phi_1 = sp.Matrix([[phi_11], [phi_21], [phi_31]])\n",
    "\n",
    "phi_solve = list(sp.solve((K-omega_1**2 *M)*phi_1))\n",
    "\n",
    "\n",
    "phi_solve"
   ]
  },
  {
   "cell_type": "code",
   "execution_count": 15,
   "metadata": {},
   "outputs": [
    {
     "data": {
      "text/latex": [
       "\\begin{equation*}\\left\\{ \\phi_{11} : 0.0, \\  \\phi_{21} : 0.0, \\  \\phi_{31} : 0.0\\right\\}\\end{equation*}"
      ],
      "text/plain": [
       "{φ₁₁: 0.0, φ₂₁: 0.0, φ₃₁: 0.0}"
      ]
     },
     "execution_count": 15,
     "metadata": {},
     "output_type": "execute_result"
    }
   ],
   "source": [
    "sp.solve(list(((K-omega_1**2*M)*phi_1).subs(params_plot)))"
   ]
  },
  {
   "cell_type": "code",
   "execution_count": 12,
   "metadata": {},
   "outputs": [
    {
     "data": {
      "text/latex": [
       "\\begin{equation*}\\text{False}\\end{equation*}"
      ],
      "text/plain": [
       "False"
      ]
     },
     "metadata": {},
     "output_type": "display_data"
    }
   ],
   "source": [
    "\n",
    "\n",
    "params['phi_21'] = phi_21.subs(params).simplify() \n",
    "params['phi_11'] = 1/phi_21.subs(params).simplify() \n",
    "params['phi_21'] = 1\n",
    "\n",
    "\n",
    "render.eq_display(sp.MatrixSymbol('phi_1', 2,1),sp.simplify(phi_1.subs(params)).evalf(3))"
   ]
  },
  {
   "cell_type": "code",
   "execution_count": 13,
   "metadata": {},
   "outputs": [
    {
     "ename": "ShapeError",
     "evalue": "Matrix size mismatch: (3, 3) * (2, 1).",
     "output_type": "error",
     "traceback": [
      "\u001b[1;31m---------------------------------------------------------------------------\u001b[0m",
      "\u001b[1;31mShapeError\u001b[0m                                Traceback (most recent call last)",
      "Cell \u001b[1;32mIn[13], line 6\u001b[0m\n\u001b[0;32m      2\u001b[0m params[\u001b[39m'\u001b[39m\u001b[39mphi_12\u001b[39m\u001b[39m'\u001b[39m] \u001b[39m=\u001b[39m \u001b[39m1\u001b[39m\n\u001b[0;32m      4\u001b[0m phi_2 \u001b[39m=\u001b[39m sp\u001b[39m.\u001b[39mMatrix([[phi_12], [phi_22]])\n\u001b[1;32m----> 6\u001b[0m phi_22 \u001b[39m=\u001b[39m \u001b[39mlist\u001b[39m(sp\u001b[39m.\u001b[39msolve((K\u001b[39m-\u001b[39momega_2\u001b[39m*\u001b[39m\u001b[39m*\u001b[39m\u001b[39m2\u001b[39m \u001b[39m*\u001b[39mM)\u001b[39m*\u001b[39mphi_2, phi_22)\u001b[39m.\u001b[39mvalues())[\u001b[39m0\u001b[39m]\n\u001b[0;32m      8\u001b[0m params[\u001b[39m'\u001b[39m\u001b[39mphi_22\u001b[39m\u001b[39m'\u001b[39m] \u001b[39m=\u001b[39m phi_22\u001b[39m.\u001b[39msubs(params)\u001b[39m.\u001b[39msimplify() \n\u001b[0;32m     13\u001b[0m render\u001b[39m.\u001b[39meq_display(sp\u001b[39m.\u001b[39mMatrixSymbol(\u001b[39m'\u001b[39m\u001b[39mphi_2\u001b[39m\u001b[39m'\u001b[39m, \u001b[39m2\u001b[39m,\u001b[39m1\u001b[39m),sp\u001b[39m.\u001b[39msimplify(phi_2\u001b[39m.\u001b[39msubs(params))\u001b[39m.\u001b[39mevalf(\u001b[39m3\u001b[39m))\n",
      "File \u001b[1;32mc:\\Users\\Pascal Gitz\\anaconda3\\envs\\calcs\\Lib\\site-packages\\sympy\\core\\decorators.py:106\u001b[0m, in \u001b[0;36mcall_highest_priority.<locals>.priority_decorator.<locals>.binary_op_wrapper\u001b[1;34m(self, other)\u001b[0m\n\u001b[0;32m    104\u001b[0m         \u001b[39mif\u001b[39;00m f \u001b[39mis\u001b[39;00m \u001b[39mnot\u001b[39;00m \u001b[39mNone\u001b[39;00m:\n\u001b[0;32m    105\u001b[0m             \u001b[39mreturn\u001b[39;00m f(\u001b[39mself\u001b[39m)\n\u001b[1;32m--> 106\u001b[0m \u001b[39mreturn\u001b[39;00m func(\u001b[39mself\u001b[39m, other)\n",
      "File \u001b[1;32mc:\\Users\\Pascal Gitz\\anaconda3\\envs\\calcs\\Lib\\site-packages\\sympy\\matrices\\common.py:2771\u001b[0m, in \u001b[0;36mMatrixArithmetic.__mul__\u001b[1;34m(self, other)\u001b[0m\n\u001b[0;32m   2742\u001b[0m \u001b[39m@call_highest_priority\u001b[39m(\u001b[39m'\u001b[39m\u001b[39m__rmul__\u001b[39m\u001b[39m'\u001b[39m)\n\u001b[0;32m   2743\u001b[0m \u001b[39mdef\u001b[39;00m \u001b[39m__mul__\u001b[39m(\u001b[39mself\u001b[39m, other):\n\u001b[0;32m   2744\u001b[0m \u001b[39m    \u001b[39m\u001b[39m\"\"\"Return self*other where other is either a scalar or a matrix\u001b[39;00m\n\u001b[0;32m   2745\u001b[0m \u001b[39m    of compatible dimensions.\u001b[39;00m\n\u001b[0;32m   2746\u001b[0m \n\u001b[1;32m   (...)\u001b[0m\n\u001b[0;32m   2768\u001b[0m \u001b[39m    matrix_multiply_elementwise\u001b[39;00m\n\u001b[0;32m   2769\u001b[0m \u001b[39m    \"\"\"\u001b[39;00m\n\u001b[1;32m-> 2771\u001b[0m     \u001b[39mreturn\u001b[39;00m \u001b[39mself\u001b[39m\u001b[39m.\u001b[39mmultiply(other)\n",
      "File \u001b[1;32mc:\\Users\\Pascal Gitz\\anaconda3\\envs\\calcs\\Lib\\site-packages\\sympy\\matrices\\common.py:2793\u001b[0m, in \u001b[0;36mMatrixArithmetic.multiply\u001b[1;34m(self, other, dotprodsimp)\u001b[0m\n\u001b[0;32m   2789\u001b[0m \u001b[39mif\u001b[39;00m (\u001b[39mhasattr\u001b[39m(other, \u001b[39m'\u001b[39m\u001b[39mshape\u001b[39m\u001b[39m'\u001b[39m) \u001b[39mand\u001b[39;00m \u001b[39mlen\u001b[39m(other\u001b[39m.\u001b[39mshape) \u001b[39m==\u001b[39m \u001b[39m2\u001b[39m \u001b[39mand\u001b[39;00m\n\u001b[0;32m   2790\u001b[0m     (\u001b[39mgetattr\u001b[39m(other, \u001b[39m'\u001b[39m\u001b[39mis_Matrix\u001b[39m\u001b[39m'\u001b[39m, \u001b[39mTrue\u001b[39;00m) \u001b[39mor\u001b[39;00m\n\u001b[0;32m   2791\u001b[0m      \u001b[39mgetattr\u001b[39m(other, \u001b[39m'\u001b[39m\u001b[39mis_MatrixLike\u001b[39m\u001b[39m'\u001b[39m, \u001b[39mTrue\u001b[39;00m))):\n\u001b[0;32m   2792\u001b[0m     \u001b[39mif\u001b[39;00m \u001b[39mself\u001b[39m\u001b[39m.\u001b[39mshape[\u001b[39m1\u001b[39m] \u001b[39m!=\u001b[39m other\u001b[39m.\u001b[39mshape[\u001b[39m0\u001b[39m]:\n\u001b[1;32m-> 2793\u001b[0m         \u001b[39mraise\u001b[39;00m ShapeError(\u001b[39m\"\u001b[39m\u001b[39mMatrix size mismatch: \u001b[39m\u001b[39m%s\u001b[39;00m\u001b[39m * \u001b[39m\u001b[39m%s\u001b[39;00m\u001b[39m.\u001b[39m\u001b[39m\"\u001b[39m \u001b[39m%\u001b[39m (\n\u001b[0;32m   2794\u001b[0m             \u001b[39mself\u001b[39m\u001b[39m.\u001b[39mshape, other\u001b[39m.\u001b[39mshape))\n\u001b[0;32m   2796\u001b[0m \u001b[39m# honest SymPy matrices defer to their class's routine\u001b[39;00m\n\u001b[0;32m   2797\u001b[0m \u001b[39mif\u001b[39;00m \u001b[39mgetattr\u001b[39m(other, \u001b[39m'\u001b[39m\u001b[39mis_Matrix\u001b[39m\u001b[39m'\u001b[39m, \u001b[39mFalse\u001b[39;00m):\n",
      "\u001b[1;31mShapeError\u001b[0m: Matrix size mismatch: (3, 3) * (2, 1)."
     ]
    }
   ],
   "source": [
    "phi_12, phi_22 = sp.symbols('phi_12, phi_22')\n",
    "params['phi_12'] = 1\n",
    "\n",
    "phi_2 = sp.Matrix([[phi_12], [phi_22]])\n",
    "\n",
    "phi_22 = list(sp.solve((K-omega_2**2 *M)*phi_2, phi_22).values())[0]\n",
    "\n",
    "params['phi_22'] = phi_22.subs(params).simplify() \n",
    "\n",
    "\n",
    "\n",
    "\n",
    "render.eq_display(sp.MatrixSymbol('phi_2', 2,1),sp.simplify(phi_2.subs(params)).evalf(3))"
   ]
  }
 ],
 "metadata": {
  "kernelspec": {
   "display_name": "calcs",
   "language": "python",
   "name": "python3"
  },
  "language_info": {
   "codemirror_mode": {
    "name": "ipython",
    "version": 3
   },
   "file_extension": ".py",
   "mimetype": "text/x-python",
   "name": "python",
   "nbconvert_exporter": "python",
   "pygments_lexer": "ipython3",
   "version": "3.11.3"
  },
  "orig_nbformat": 4
 },
 "nbformat": 4,
 "nbformat_minor": 2
}
