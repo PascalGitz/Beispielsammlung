{
 "cells": [
  {
   "cell_type": "code",
   "execution_count": null,
   "metadata": {},
   "outputs": [],
   "source": [
    "%run style_and_packages.ipynb"
   ]
  },
  {
   "cell_type": "markdown",
   "metadata": {},
   "source": [
    "# Beispiel: Antwortspektrenverfahren an einem Rahmen\n",
    "\n",
    "\n",
    "## Aufgabenstellung\n",
    "\n",
    "Dies ist eine Weiterführung des bereits bekannten Rahmentragwerks aus @sec-mms_rahmen.\n",
    "\n",
    "![Statisches System des Rahmentragwerks](bilder/mms5.jpg){#fig-system width=70%}\n",
    "\n",
    "\n",
    "\n",
    "Gesucht:\n",
    "\n",
    "-  Eigenkreisfrequenz $\\omega$ \n",
    "-  Eigenformen - Normierung auf \n",
    "$$\\phi_1^T = \n",
    "\\begin{bmatrix}\n",
    " &  1\\\\\n",
    "\\end{bmatrix} $$\n",
    "$$\\phi_2^T =\n",
    "\\begin{bmatrix}\n",
    " &  1\\\\\n",
    "\\end{bmatrix}$$\n",
    "\n",
    "- Skizze der Eigenformen \n",
    "- Statische Ersatzkräfte mit elastischem Antwortspektrum aus [@SIA261_2020] Abs. 16.2.3 auf Stockwerksebene. Überlagerung mit der SRSS-Methode.\n",
    "\n",
    "Gegeben:\n",
    "\n",
    "- Elastizitätsmodul der Stützen $E = 30000 \\text{N}/{mm}^2$\n",
    "- Flächenträgheitsmoment der Stützen $I = 2 \\cdot 10^9 \\text{mm}^4$\n",
    "- Dehnsteifigkeit aller Stäbe $E\\cdot A = \\infty$\n",
    "- Einzelmassen $m = 20000 \\text{kg}$\n",
    "- Baugrundklasse B\n",
    "- Erdbebenzone Z2"
   ]
  },
  {
   "cell_type": "markdown",
   "metadata": {},
   "source": [
    "{{< pagebreak >}}\n",
    "\n",
    "## Musterlösung \n",
    "\n",
    "[Bei dieser Musterlösung bin ich nicht ganz sattelfest, müssen wir zusammen besprechen Stephan]{.underline}"
   ]
  },
  {
   "cell_type": "code",
   "execution_count": 51,
   "metadata": {},
   "outputs": [
    {
     "data": {
      "text/markdown": [
       "| Parameter |  |\n",
       "|---|---|\n",
       "| $E = \\frac{30000 \\text{N}}{\\text{mm}^{2}}$ | $H = 3.2 \\text{m}$ |\n",
       "| $I = 2000000000 \\text{mm}^{4}$ | $m_{1} = \\frac{40000 \\text{N} \\text{s}^{2}}{\\text{m}}$ |\n",
       "| $m_{2} = \\frac{20000 \\text{N} \\text{s}^{2}}{\\text{m}}$ | |\n"
      ],
      "text/plain": [
       "<IPython.core.display.Markdown object>"
      ]
     },
     "metadata": {},
     "output_type": "display_data"
    }
   ],
   "source": [
    "#| label: tbl-parameter_mms5\n",
    "#| tbl-cap: Verwendete Parameter\n",
    "\n",
    "params = {'E': 30*10**3 *unit.N/unit.mm**2,\n",
    "          'I':2*10**9*unit.mm**4,\n",
    "          'm_1':2*20000*unit.N*unit.second**2/unit.m,\n",
    "          'm_2':20000*unit.N*unit.second**2/unit.m,\n",
    "          'H':3.2*unit.m,\n",
    "          \n",
    "          }\n",
    "render.dict_to_table(params)"
   ]
  },
  {
   "cell_type": "code",
   "execution_count": 52,
   "metadata": {},
   "outputs": [],
   "source": [
    "omega, t,  l, m_1, m_2, E,I, H = sp.symbols('omega, t,  l, m_1, m_2, E, I, H')\n",
    "\n",
    "omega_n = sp.symbols('omega_n')"
   ]
  },
  {
   "cell_type": "markdown",
   "metadata": {},
   "source": [
    "### Steifigkeitsmatrix $\\mathbf{K}$\n",
    "\n",
    "Zur Bestimmung der Steifigkeitsmatrix ist das System an jedem Freiheitsgrad auszulenken, wie in @fig-steifigkeit dargestellt ist.\n",
    "\n",
    "![Auslenkung der Freiheitsgrade zur Bestimmung der Steifigkeit](bilder/steifigkeit_mms2.jpg){#fig-steifigkeit}\n",
    "\n",
    "Wichtig dabei sind die Richtungen der Kräfte. Als Denkstütze gilt folgendes:\n",
    "- Der Auslenkung um $u$ wirkt die Federkraft entgegen, welche $k u$ entspricht.\n",
    "- Zusätzlich wirkt die Trägheitskraft der Auslenkung entgegen, welche $m u''$ entspricht.\n",
    "- Nach der Betrachtung des ausgelenkten Punkts, kann mittels *Actio-Reactio*-Prinzip das \"*Stockwerk*\" ins Gleichgewicht gebracht werden.\n",
    "- Vorzeichen sind gegen der Bewegungsrichtig positiv."
   ]
  },
  {
   "cell_type": "markdown",
   "metadata": {},
   "source": [
    "#### Horizontale Steifigkeit\n",
    "\n",
    "Die horizontale Steifigkeit des Systems lässt sich mittels der Formel für Rahmen bestimmen.\n",
    "\n",
    "$$k_{Stütze} = \\frac{12EI_{Stütze}}{H^3}$$\n",
    "\n",
    "Diese gilt für eine einzelne Stütze."
   ]
  },
  {
   "cell_type": "code",
   "execution_count": 53,
   "metadata": {},
   "outputs": [
    {
     "data": {
      "text/latex": [
       "\\begin{equation*}K = \\left[\\begin{matrix}k_{1} + k_{2} & - k_{2}\\\\- k_{2} & k_{2}\\end{matrix}\\right]\\end{equation*}"
      ],
      "text/plain": [
       "    ⎡k₁ + k₂  -k₂⎤\n",
       "K = ⎢            ⎥\n",
       "    ⎣  -k₂    k₂ ⎦"
      ]
     },
     "metadata": {},
     "output_type": "display_data"
    },
    {
     "data": {
      "text/latex": [
       "\\begin{equation*}K = \\left[\\begin{matrix}\\frac{1.31836 \\cdot 10^{8} \\text{N}}{\\text{m}} & - \\frac{4.39453 \\cdot 10^{7} \\text{N}}{\\text{m}}\\\\- \\frac{4.39453 \\cdot 10^{7} \\text{N}}{\\text{m}} & \\frac{4.39453 \\cdot 10^{7} \\text{N}}{\\text{m}}\\end{matrix}\\right]\\end{equation*}"
      ],
      "text/plain": [
       "    ⎡ 1.31836e+8⋅newton   -4.39453e+7⋅newton ⎤\n",
       "    ⎢ ─────────────────   ───────────────────⎥\n",
       "    ⎢       meter                meter       ⎥\n",
       "K = ⎢                                        ⎥\n",
       "    ⎢-4.39453e+7⋅newton    4.39453e+7⋅newton ⎥\n",
       "    ⎢───────────────────   ───────────────── ⎥\n",
       "    ⎣       meter                meter       ⎦"
      ]
     },
     "metadata": {},
     "output_type": "display_data"
    }
   ],
   "source": [
    "k_1, k_2 = sp.symbols('k_1, k_2')\n",
    "\n",
    "params['k_1'] = 2*(12 * 2*E*I / H**3).subs(params).simplify().evalf(6)\n",
    "params['k_2'] = 2*(12 * E*I / H**3).subs(params).simplify().evalf(6)\n",
    "K = sp.Matrix([[k_1 + k_2, -k_2],[-k_2, k_2]])\n",
    "\n",
    "\n",
    "render.eq_display(sp.MatrixSymbol('K', 2,2), K,\n",
    "                  sp.MatrixSymbol('K', 2,2), K.subs(params),\n",
    "                  )"
   ]
  },
  {
   "cell_type": "markdown",
   "metadata": {},
   "source": [
    "### Eigenvektoren\n",
    "#### Massenmatrix $\\mathbf{M}$ \n",
    "\n",
    "Die Massenmatrix folgt dem gleichen Aufbau wie die Steifigkeitsmatrix. Es gelten die gleichen Vorzeichenregelungen."
   ]
  },
  {
   "cell_type": "code",
   "execution_count": 54,
   "metadata": {},
   "outputs": [
    {
     "data": {
      "text/latex": [
       "\\begin{equation*}M = \\left[\\begin{matrix}m_{1} & 0\\\\0 & m_{2}\\end{matrix}\\right]\\end{equation*}"
      ],
      "text/plain": [
       "    ⎡m₁  0 ⎤\n",
       "M = ⎢      ⎥\n",
       "    ⎣0   m₂⎦"
      ]
     },
     "metadata": {},
     "output_type": "display_data"
    },
    {
     "data": {
      "text/latex": [
       "\\begin{equation*}M = \\left[\\begin{matrix}\\frac{40000 \\text{N} \\text{s}^{2}}{\\text{m}} & 0\\\\0 & \\frac{20000 \\text{N} \\text{s}^{2}}{\\text{m}}\\end{matrix}\\right]\\end{equation*}"
      ],
      "text/plain": [
       "    ⎡                   2                      ⎤\n",
       "    ⎢40000⋅newton⋅second                       ⎥\n",
       "    ⎢────────────────────           0          ⎥\n",
       "    ⎢       meter                              ⎥\n",
       "M = ⎢                                          ⎥\n",
       "    ⎢                                         2⎥\n",
       "    ⎢                      20000⋅newton⋅second ⎥\n",
       "    ⎢         0            ────────────────────⎥\n",
       "    ⎣                             meter        ⎦"
      ]
     },
     "metadata": {},
     "output_type": "display_data"
    }
   ],
   "source": [
    "m_1, m_2 = sp.symbols('m_1, m_2')\n",
    "M = sp.Matrix([[m_1, 0],[0, m_2]])\n",
    "\n",
    "render.eq_display(sp.MatrixSymbol('M', 2,2), M,\n",
    "                  sp.MatrixSymbol('M', 2,2), M.subs(params))"
   ]
  },
  {
   "cell_type": "markdown",
   "metadata": {},
   "source": [
    "#### Eigenkreisfrequenzen \n",
    "Bei einem Mehrmassenschwinger gibt es entsprechend den Freiheitsgraden Eigenkreisfrequenzen $\\omega_n$. Diese lassen sich anhand folgender Gleichung bestimmen:\n",
    "\n",
    "$$\\det{[\\mathbf{K}-\\omega_n^2 \\mathbf{M}]=0}$$"
   ]
  },
  {
   "cell_type": "code",
   "execution_count": 55,
   "metadata": {},
   "outputs": [
    {
     "data": {
      "text/latex": [
       "\\begin{equation*}\\omega_{1} = \\frac{33.1}{\\text{s}}\\end{equation*}"
      ],
      "text/plain": [
       "      33.1 \n",
       "ω₁ = ──────\n",
       "     second"
      ]
     },
     "metadata": {},
     "output_type": "display_data"
    },
    {
     "data": {
      "text/latex": [
       "\\begin{equation*}\\omega_{2} = \\frac{66.3}{\\text{s}}\\end{equation*}"
      ],
      "text/plain": [
       "      66.3 \n",
       "ω₂ = ──────\n",
       "     second"
      ]
     },
     "metadata": {},
     "output_type": "display_data"
    }
   ],
   "source": [
    "eq_omega = sp.det(K-omega_n**2*M)\n",
    "\n",
    "omega_n_solve = sp.solve(eq_omega, omega_n)\n",
    "omega_1 = omega_n_solve[1]\n",
    "omega_2 = omega_n_solve[3]\n",
    "\n",
    "render.eq_display('omega_1', omega_1.subs(params).simplify().evalf(3),\n",
    "                  'omega_2', omega_2.subs(params).simplify().evalf(3))"
   ]
  },
  {
   "cell_type": "markdown",
   "metadata": {},
   "source": [
    "#### Eigenvektoren $\\phi$"
   ]
  },
  {
   "cell_type": "code",
   "execution_count": 56,
   "metadata": {},
   "outputs": [
    {
     "data": {
      "text/latex": [
       "\\begin{equation*}\\left[\\begin{matrix}\\frac{- k_{2} m_{2} \\phi_{21} + \\frac{\\phi_{11} \\left(- k_{2} m_{1} + m_{2} \\left(k_{1} + k_{2}\\right) + \\sqrt{k_{1}^{2} m_{2}^{2} - 2 k_{1} k_{2} m_{1} m_{2} + 2 k_{1} k_{2} m_{2}^{2} + k_{2}^{2} m_{1}^{2} + 2 k_{2}^{2} m_{1} m_{2} + k_{2}^{2} m_{2}^{2}}\\right)}{2}}{m_{2}}\\\\\\frac{- k_{2} m_{1} \\phi_{11} + \\frac{\\phi_{21} \\left(k_{2} m_{1} - m_{2} \\left(k_{1} + k_{2}\\right) + \\sqrt{k_{1}^{2} m_{2}^{2} - 2 k_{1} k_{2} m_{1} m_{2} + 2 k_{1} k_{2} m_{2}^{2} + k_{2}^{2} m_{1}^{2} + 2 k_{2}^{2} m_{1} m_{2} + k_{2}^{2} m_{2}^{2}}\\right)}{2}}{m_{1}}\\end{matrix}\\right] = \\left[\\begin{matrix}0\\\\0\\end{matrix}\\right]\\end{equation*}"
      ],
      "text/plain": [
       "⎡                 ⎛                           ________________________________\n",
       "⎢                 ⎜                          ╱   2   2                        \n",
       "⎢             φ₁₁⋅⎝-k₂⋅m₁ + m₂⋅(k₁ + k₂) + ╲╱  k₁ ⋅m₂  - 2⋅k₁⋅k₂⋅m₁⋅m₂ + 2⋅k₁⋅\n",
       "⎢-k₂⋅m₂⋅φ₂₁ + ────────────────────────────────────────────────────────────────\n",
       "⎢                                                                 2           \n",
       "⎢─────────────────────────────────────────────────────────────────────────────\n",
       "⎢                                                           m₂                \n",
       "⎢                                                                             \n",
       "⎢                 ⎛                          _________________________________\n",
       "⎢                 ⎜                         ╱   2   2                         \n",
       "⎢             φ₂₁⋅⎝k₂⋅m₁ - m₂⋅(k₁ + k₂) + ╲╱  k₁ ⋅m₂  - 2⋅k₁⋅k₂⋅m₁⋅m₂ + 2⋅k₁⋅k\n",
       "⎢-k₂⋅m₁⋅φ₁₁ + ────────────────────────────────────────────────────────────────\n",
       "⎢                                                                 2           \n",
       "⎢─────────────────────────────────────────────────────────────────────────────\n",
       "⎣                                                          m₁                 \n",
       "\n",
       "_________________________________________⎞⎤      \n",
       "     2     2   2       2           2   2 ⎟⎥      \n",
       "k₂⋅m₂  + k₂ ⋅m₁  + 2⋅k₂ ⋅m₁⋅m₂ + k₂ ⋅m₂  ⎠⎥      \n",
       "──────────────────────────────────────────⎥      \n",
       "                                          ⎥      \n",
       "──────────────────────────────────────────⎥      \n",
       "                                          ⎥   ⎡0⎤\n",
       "                                          ⎥ = ⎢ ⎥\n",
       "________________________________________⎞ ⎥   ⎣0⎦\n",
       "    2     2   2       2           2   2 ⎟ ⎥      \n",
       "₂⋅m₂  + k₂ ⋅m₁  + 2⋅k₂ ⋅m₁⋅m₂ + k₂ ⋅m₂  ⎠ ⎥      \n",
       "───────────────────────────────────────── ⎥      \n",
       "                                          ⎥      \n",
       "───────────────────────────────────────── ⎥      \n",
       "                                          ⎦      "
      ]
     },
     "metadata": {},
     "output_type": "display_data"
    },
    {
     "data": {
      "text/latex": [
       "\\begin{equation*}\\phi_{1} = \\left[\\begin{matrix}0.5\\\\1.0\\end{matrix}\\right]\\end{equation*}"
      ],
      "text/plain": [
       "     ⎡0.5⎤\n",
       "φ₁ = ⎢   ⎥\n",
       "     ⎣1.0⎦"
      ]
     },
     "metadata": {},
     "output_type": "display_data"
    }
   ],
   "source": [
    "phi_11, phi_21, phi_12, phi_22 = sp.symbols('phi_11, phi_21, phi_12, phi_22')\n",
    "params['phi_21'] = 1\n",
    "\n",
    "phi_1 = sp.Matrix([[phi_11], [phi_21]])\n",
    "\n",
    "phi_11 = list(sp.solve((K-omega_1**2 *M)*phi_1, phi_11).values())[0]\n",
    "\n",
    "params['phi_11'] = phi_11.subs(params).simplify() \n",
    "\n",
    "\n",
    "\n",
    "\n",
    "render.eq_display(sp.simplify((K-omega_1**2 *M)*phi_1),sp.Matrix([[0],[0]]),\n",
    "                  sp.MatrixSymbol('phi_1', 2,1),sp.simplify(phi_1.subs(params)).evalf(3))"
   ]
  },
  {
   "cell_type": "code",
   "execution_count": 57,
   "metadata": {},
   "outputs": [
    {
     "data": {
      "text/latex": [
       "\\begin{equation*}\\left[\\begin{matrix}\\frac{- k_{2} m_{2} \\phi_{22} + \\frac{\\phi_{12} \\left(- k_{2} m_{1} + m_{2} \\left(k_{1} + k_{2}\\right) - \\sqrt{k_{1}^{2} m_{2}^{2} - 2 k_{1} k_{2} m_{1} m_{2} + 2 k_{1} k_{2} m_{2}^{2} + k_{2}^{2} m_{1}^{2} + 2 k_{2}^{2} m_{1} m_{2} + k_{2}^{2} m_{2}^{2}}\\right)}{2}}{m_{2}}\\\\\\frac{- k_{2} m_{1} \\phi_{12} + \\frac{\\phi_{22} \\left(k_{2} m_{1} - m_{2} \\left(k_{1} + k_{2}\\right) - \\sqrt{k_{1}^{2} m_{2}^{2} - 2 k_{1} k_{2} m_{1} m_{2} + 2 k_{1} k_{2} m_{2}^{2} + k_{2}^{2} m_{1}^{2} + 2 k_{2}^{2} m_{1} m_{2} + k_{2}^{2} m_{2}^{2}}\\right)}{2}}{m_{1}}\\end{matrix}\\right] = \\left[\\begin{matrix}0\\\\0\\end{matrix}\\right]\\end{equation*}"
      ],
      "text/plain": [
       "⎡                 ⎛                           ________________________________\n",
       "⎢                 ⎜                          ╱   2   2                        \n",
       "⎢             φ₁₂⋅⎝-k₂⋅m₁ + m₂⋅(k₁ + k₂) - ╲╱  k₁ ⋅m₂  - 2⋅k₁⋅k₂⋅m₁⋅m₂ + 2⋅k₁⋅\n",
       "⎢-k₂⋅m₂⋅φ₂₂ + ────────────────────────────────────────────────────────────────\n",
       "⎢                                                                 2           \n",
       "⎢─────────────────────────────────────────────────────────────────────────────\n",
       "⎢                                                           m₂                \n",
       "⎢                                                                             \n",
       "⎢                 ⎛                          _________________________________\n",
       "⎢                 ⎜                         ╱   2   2                         \n",
       "⎢             φ₂₂⋅⎝k₂⋅m₁ - m₂⋅(k₁ + k₂) - ╲╱  k₁ ⋅m₂  - 2⋅k₁⋅k₂⋅m₁⋅m₂ + 2⋅k₁⋅k\n",
       "⎢-k₂⋅m₁⋅φ₁₂ + ────────────────────────────────────────────────────────────────\n",
       "⎢                                                                 2           \n",
       "⎢─────────────────────────────────────────────────────────────────────────────\n",
       "⎣                                                          m₁                 \n",
       "\n",
       "_________________________________________⎞⎤      \n",
       "     2     2   2       2           2   2 ⎟⎥      \n",
       "k₂⋅m₂  + k₂ ⋅m₁  + 2⋅k₂ ⋅m₁⋅m₂ + k₂ ⋅m₂  ⎠⎥      \n",
       "──────────────────────────────────────────⎥      \n",
       "                                          ⎥      \n",
       "──────────────────────────────────────────⎥      \n",
       "                                          ⎥   ⎡0⎤\n",
       "                                          ⎥ = ⎢ ⎥\n",
       "________________________________________⎞ ⎥   ⎣0⎦\n",
       "    2     2   2       2           2   2 ⎟ ⎥      \n",
       "₂⋅m₂  + k₂ ⋅m₁  + 2⋅k₂ ⋅m₁⋅m₂ + k₂ ⋅m₂  ⎠ ⎥      \n",
       "───────────────────────────────────────── ⎥      \n",
       "                                          ⎥      \n",
       "───────────────────────────────────────── ⎥      \n",
       "                                          ⎦      "
      ]
     },
     "metadata": {},
     "output_type": "display_data"
    },
    {
     "data": {
      "text/latex": [
       "\\begin{equation*}\\phi_{2} = \\left[\\begin{matrix}-1.0\\\\1.0\\end{matrix}\\right]\\end{equation*}"
      ],
      "text/plain": [
       "     ⎡-1.0⎤\n",
       "φ₂ = ⎢    ⎥\n",
       "     ⎣1.0 ⎦"
      ]
     },
     "metadata": {},
     "output_type": "display_data"
    }
   ],
   "source": [
    "params['phi_22'] = 1\n",
    "\n",
    "phi_2 = sp.Matrix([[phi_12], [phi_22]])\n",
    "\n",
    "phi_12 = list(sp.solve((K-omega_2**2 *M)*phi_2, phi_12).values())[0]\n",
    "\n",
    "params['phi_12'] = phi_12.subs(params).simplify() \n",
    "\n",
    "\n",
    "\n",
    "\n",
    "render.eq_display(sp.simplify((K-omega_2**2 *M)*phi_2),sp.Matrix([[0],[0]]),\n",
    "                  sp.MatrixSymbol('phi_2', 2,1),sp.simplify(phi_2.subs(params)).evalf(3))"
   ]
  },
  {
   "cell_type": "markdown",
   "metadata": {},
   "source": [
    "#### Orthogonalitätsbedingung\n",
    "\n",
    "Zur effektiven Entkoppelung der Gleichungen muss die Orthogonalitätsbedingung eingehalten sein. Dies gilt es für die Massenmatrix zu kontrollieren:\n",
    "\n",
    "Dies gilt es für die Massenmatrix zu kontrollieren:\n",
    "\n",
    "$$\\phi_1^T \\mathbf{ M } \\phi_1 \\neq 0$$\n",
    "\n",
    "$$\\phi_2^T \\mathbf{ M } \\phi_2 \\neq 0$$\n",
    "\n",
    "$$\\phi_2^T \\mathbf{ M } \\phi_1 = 0$$\n",
    "\n",
    "Sowohl auch für die Steifigkeitsmatrix:\n",
    "\n",
    "$$\\phi_1^T \\mathbf{ K } \\phi_1 \\neq 0$$\n",
    "\n",
    "$$\\phi_2^T \\mathbf{ K } \\phi_2 \\neq 0$$\n",
    "\n",
    "$$\\phi_2^T \\mathbf{ K } \\phi_1 = 0$$\n",
    "\n",
    "\n",
    "Angewendet auf die Aufgabe:\n"
   ]
  },
  {
   "cell_type": "code",
   "execution_count": 58,
   "metadata": {},
   "outputs": [
    {
     "data": {
      "text/latex": [
       "\\begin{equation*}\\phi_{1}^{T} M \\phi_{1} = \\left[\\begin{matrix}\\frac{3.0 \\cdot 10^{4} \\text{N} \\text{s}^{2}}{\\text{m}}\\end{matrix}\\right]\\end{equation*}"
      ],
      "text/plain": [
       "           ⎡                    2⎤\n",
       "  T        ⎢3.0e+4⋅newton⋅second ⎥\n",
       "φ₁ ⋅M⋅φ₁ = ⎢─────────────────────⎥\n",
       "           ⎣        meter        ⎦"
      ]
     },
     "metadata": {},
     "output_type": "display_data"
    },
    {
     "data": {
      "text/latex": [
       "\\begin{equation*}\\phi_{2}^{T} M \\phi_{2} = \\left[\\begin{matrix}\\frac{6.0 \\cdot 10^{4} \\text{N} \\text{s}^{2}}{\\text{m}}\\end{matrix}\\right]\\end{equation*}"
      ],
      "text/plain": [
       "           ⎡                    2⎤\n",
       "  T        ⎢6.0e+4⋅newton⋅second ⎥\n",
       "φ₂ ⋅M⋅φ₂ = ⎢─────────────────────⎥\n",
       "           ⎣        meter        ⎦"
      ]
     },
     "metadata": {},
     "output_type": "display_data"
    },
    {
     "data": {
      "text/latex": [
       "\\begin{equation*}\\phi_{2}^{T} M \\phi_{1} = \\left[\\begin{matrix}0\\end{matrix}\\right]\\end{equation*}"
      ],
      "text/plain": [
       "  T           \n",
       "φ₂ ⋅M⋅φ₁ = [0]"
      ]
     },
     "metadata": {},
     "output_type": "display_data"
    },
    {
     "data": {
      "text/latex": [
       "\\begin{equation*}\\phi_{1}^{T} M \\phi_{2} = \\left[\\begin{matrix}0\\end{matrix}\\right]\\end{equation*}"
      ],
      "text/plain": [
       "  T           \n",
       "φ₁ ⋅M⋅φ₂ = [0]"
      ]
     },
     "metadata": {},
     "output_type": "display_data"
    }
   ],
   "source": [
    "render.eq_display(sp.MatrixSymbol('phi_1',2,1).T*sp.MatrixSymbol('M', 2,2)*sp.MatrixSymbol('phi_1',2,1),(phi_1.T*M*phi_1).subs(params).evalf(3),\n",
    "                  \n",
    "                  sp.MatrixSymbol('phi_2',2,1).T*sp.MatrixSymbol('M', 2,2)*sp.MatrixSymbol('phi_2',2,1),(phi_2.T*M*phi_2).subs(params).evalf(3),\n",
    "\n",
    "                  sp.MatrixSymbol('phi_2',2,1).T*sp.MatrixSymbol('M', 2,2)*sp.MatrixSymbol('phi_1',2,1),(phi_2.T*M*phi_1).subs(params).evalf(3),\n",
    "\n",
    "                  sp.MatrixSymbol('phi_1',2,1).T*sp.MatrixSymbol('M', 2,2)*sp.MatrixSymbol('phi_2',2,1),(phi_1.T*M*phi_2).subs(params).evalf(3))"
   ]
  },
  {
   "cell_type": "markdown",
   "metadata": {},
   "source": [
    "Für die Steifigkeitsmatrix:"
   ]
  },
  {
   "cell_type": "code",
   "execution_count": 59,
   "metadata": {},
   "outputs": [
    {
     "data": {
      "text/latex": [
       "\\begin{equation*}\\phi_{1}^{T} K \\phi_{1} = \\left[\\begin{matrix}\\frac{3.3 \\cdot 10^{7} \\text{N}}{\\text{m}}\\end{matrix}\\right]\\end{equation*}"
      ],
      "text/plain": [
       "  T        ⎡3.3e+7⋅newton⎤\n",
       "φ₁ ⋅K⋅φ₁ = ⎢─────────────⎥\n",
       "           ⎣    meter    ⎦"
      ]
     },
     "metadata": {},
     "output_type": "display_data"
    },
    {
     "data": {
      "text/latex": [
       "\\begin{equation*}\\phi_{2}^{T} K \\phi_{2} = \\left[\\begin{matrix}\\frac{2.64 \\cdot 10^{8} \\text{N}}{\\text{m}}\\end{matrix}\\right]\\end{equation*}"
      ],
      "text/plain": [
       "  T        ⎡2.64e+8⋅newton⎤\n",
       "φ₂ ⋅K⋅φ₂ = ⎢──────────────⎥\n",
       "           ⎣    meter     ⎦"
      ]
     },
     "metadata": {},
     "output_type": "display_data"
    },
    {
     "data": {
      "text/latex": [
       "\\begin{equation*}\\phi_{2}^{T} K \\phi_{1} = \\left[\\begin{matrix}0\\end{matrix}\\right]\\end{equation*}"
      ],
      "text/plain": [
       "  T           \n",
       "φ₂ ⋅K⋅φ₁ = [0]"
      ]
     },
     "metadata": {},
     "output_type": "display_data"
    },
    {
     "data": {
      "text/latex": [
       "\\begin{equation*}\\phi_{1}^{T} K \\phi_{2} = \\left[\\begin{matrix}0\\end{matrix}\\right]\\end{equation*}"
      ],
      "text/plain": [
       "  T           \n",
       "φ₁ ⋅K⋅φ₂ = [0]"
      ]
     },
     "metadata": {},
     "output_type": "display_data"
    }
   ],
   "source": [
    "render.eq_display(sp.MatrixSymbol('phi_1',2,1).T*sp.MatrixSymbol('K', 2,2)*sp.MatrixSymbol('phi_1',2,1),sp.simplify((phi_1.T*K*phi_1).subs(params)).evalf(3),\n",
    "                  \n",
    "                  sp.MatrixSymbol('phi_2',2,1).T*sp.MatrixSymbol('K', 2,2)*sp.MatrixSymbol('phi_2',2,1),sp.simplify((phi_2.T*K*phi_2).subs(params)).evalf(3),\n",
    "\n",
    "                  sp.MatrixSymbol('phi_2',2,1).T*sp.MatrixSymbol('K', 2,2)*sp.MatrixSymbol('phi_1',2,1),sp.simplify((phi_2.T*K*phi_1).subs(params)).evalf(4),\n",
    "                  \n",
    "                  sp.MatrixSymbol('phi_1',2,1).T*sp.MatrixSymbol('K', 2,2)*sp.MatrixSymbol('phi_2',2,1),sp.simplify((phi_1.T*K*phi_2).subs(params)).evalf(4))"
   ]
  },
  {
   "cell_type": "markdown",
   "metadata": {},
   "source": [
    "#### Eigenformen\n",
    "\n",
    "![Die beiden Eigenformen skizziert](bilder/eigenformen_mms2.jpg){#fig-eigenformen}"
   ]
  },
  {
   "cell_type": "markdown",
   "metadata": {},
   "source": [
    "### Modale Analyse\n",
    "\n",
    "Die Bewegungsgleichung für einen ungedämpften, frei schwingenden Mehrmassenschwinger lässt sich folgend beschreiben:\n",
    "\n",
    "$$\\mathbf{M u''(t) + K u = 0}$$\n",
    "\n",
    "Die Matrix-Gleichung beschreibt ein System aus Differentialgleichungen. Die Modale Analyse zielt darauf ab, diese zu entkoppeln. Bezogen auf den Mehrmassenschwinger heisst eine Entkoppelung, dass diese in Einmassenschwinger aufgeteilt werden. Dies wird nun schrittweise durchgeführt."
   ]
  },
  {
   "cell_type": "markdown",
   "metadata": {},
   "source": [
    "#### Modal- und Spektralmatrix\n",
    "\n",
    "Mittels der Modal- und Spektralmatrix können die generalisierten Grössen ermittelt werden. Diese sind die eigenschaften der einzelnen Einmassenschwinger. Die generalisierten Werte besitzen keine physikalischen Werte, sie sind abhängig von der Wahl der Eigenvektoren, welche bekanntlich von der Normierung abhängen.\n",
    "\n",
    "\n",
    "Aufgrund der Bewegungsgleichung können die generalisierten Grössen bestimmt werden, es gilt:\n",
    "\n",
    "$$\\mathbf{\\Phi^T M \\Phi u''(t) + \\Phi^T K \\Phi u(t) = 0}$$\n",
    "\n",
    "$$\\mathbf{M^*u''(t) + K^* u(t) = 0}$$\n",
    "\n",
    "Alle $N$-Eigenwerte und alle $N$-Eigenvektoren können kompakt\n",
    "mit Matrizen ausgedrückt werden:\n"
   ]
  },
  {
   "cell_type": "code",
   "execution_count": 60,
   "metadata": {},
   "outputs": [
    {
     "data": {
      "text/latex": [
       "\\begin{equation*}Modalmatrix = \\Phi\\end{equation*}"
      ],
      "text/plain": [
       "Modalmatrix = Φ"
      ]
     },
     "metadata": {},
     "output_type": "display_data"
    },
    {
     "data": {
      "text/latex": [
       "\\begin{equation*}\\Phi = \\left[\\begin{matrix}0.5 & -1.0\\\\1.0 & 1.0\\end{matrix}\\right]\\end{equation*}"
      ],
      "text/plain": [
       "    ⎡0.5  -1.0⎤\n",
       "Φ = ⎢         ⎥\n",
       "    ⎣1.0  1.0 ⎦"
      ]
     },
     "metadata": {},
     "output_type": "display_data"
    },
    {
     "data": {
      "text/latex": [
       "\\begin{equation*}Spektralmatrix = \\Omega^{2}\\end{equation*}"
      ],
      "text/plain": [
       "                  2\n",
       "Spektralmatrix = Ω "
      ]
     },
     "metadata": {},
     "output_type": "display_data"
    },
    {
     "data": {
      "text/latex": [
       "\\begin{equation*}\\Omega^{2} = \\left[\\begin{matrix}\\frac{1099.0}{\\text{s}^{2}} & 0\\\\0 & \\frac{4395.0}{\\text{s}^{2}}\\end{matrix}\\right]\\end{equation*}"
      ],
      "text/plain": [
       "     ⎡ 1099.0         ⎤\n",
       "     ⎢───────     0   ⎥\n",
       "     ⎢      2         ⎥\n",
       "     ⎢second          ⎥\n",
       "Ω² = ⎢                ⎥\n",
       "     ⎢          4395.0⎥\n",
       "     ⎢   0     ───────⎥\n",
       "     ⎢               2⎥\n",
       "     ⎣         second ⎦"
      ]
     },
     "metadata": {},
     "output_type": "display_data"
    }
   ],
   "source": [
    "Phi = sp.Matrix([[phi_1, phi_2]])\n",
    "Omega = sp.Matrix([[omega_1, 0],[0, omega_2]])\n",
    "\n",
    "render.eq_display('Modalmatrix', 'Phi',\n",
    "                  sp.MatrixSymbol('Phi', 2, 2), Phi.subs(params).evalf(4),\n",
    "                  'Spektralmatrix', 'Omega^2',\n",
    "                  sp.MatrixSymbol('Omega^2', 2, 2), (Omega**2).subs(params).evalf(4))"
   ]
  },
  {
   "cell_type": "markdown",
   "metadata": {},
   "source": [
    "#### Generalisierte Grössen\n"
   ]
  },
  {
   "cell_type": "code",
   "execution_count": 61,
   "metadata": {},
   "outputs": [
    {
     "data": {
      "text/latex": [
       "\\begin{equation*}M^{\\star} = \\left[\\begin{matrix}\\frac{30000.0 \\text{N} \\text{s}^{2}}{\\text{m}} & 0\\\\0 & \\frac{60000.0 \\text{N} \\text{s}^{2}}{\\text{m}}\\end{matrix}\\right]\\end{equation*}"
      ],
      "text/plain": [
       "           ⎡                     2                        ⎤\n",
       "           ⎢30000.0⋅newton⋅second                         ⎥\n",
       "           ⎢──────────────────────            0           ⎥\n",
       "           ⎢        meter                                 ⎥\n",
       "M__\\star = ⎢                                              ⎥\n",
       "           ⎢                                             2⎥\n",
       "           ⎢                        60000.0⋅newton⋅second ⎥\n",
       "           ⎢          0             ──────────────────────⎥\n",
       "           ⎣                                meter         ⎦"
      ]
     },
     "metadata": {},
     "output_type": "display_data"
    },
    {
     "data": {
      "text/latex": [
       "\\begin{equation*}K^{\\star} = \\left[\\begin{matrix}\\frac{3.2959 \\cdot 10^{7} \\text{N}}{\\text{m}} & 0\\\\0 & \\frac{2.6367 \\cdot 10^{8} \\text{N}}{\\text{m}}\\end{matrix}\\right]\\end{equation*}"
      ],
      "text/plain": [
       "           ⎡3.2959e+7⋅newton                  ⎤\n",
       "           ⎢────────────────         0        ⎥\n",
       "           ⎢     meter                        ⎥\n",
       "K__\\star = ⎢                                  ⎥\n",
       "           ⎢                  2.6367e+8⋅newton⎥\n",
       "           ⎢       0          ────────────────⎥\n",
       "           ⎣                       meter      ⎦"
      ]
     },
     "metadata": {},
     "output_type": "display_data"
    }
   ],
   "source": [
    "M_star = Phi.T * M * Phi\n",
    "K_star = Phi.T * K * Phi\n",
    "\n",
    "\n",
    "render.eq_display(sp.MatrixSymbol('M^\\star', 2,2),sp.simplify(M_star.subs(params)).evalf(5),\n",
    "                  sp.MatrixSymbol('K^\\star', 2,2),sp.simplify(K_star.subs(params)).evalf(5))\n",
    "                 "
   ]
  },
  {
   "cell_type": "markdown",
   "metadata": {},
   "source": [
    "#### Kontrolle der modalen Transformation"
   ]
  },
  {
   "cell_type": "code",
   "execution_count": 62,
   "metadata": {},
   "outputs": [
    {
     "data": {
      "text/latex": [
       "\\begin{equation*}\\omega_{1} = \\frac{33.1}{\\text{s}}\\end{equation*}"
      ],
      "text/plain": [
       "      33.1 \n",
       "ω₁ = ──────\n",
       "     second"
      ]
     },
     "metadata": {},
     "output_type": "display_data"
    },
    {
     "data": {
      "text/latex": [
       "\\begin{equation*}\\omega_{1 modal} = \\frac{33.1}{\\text{s}}\\end{equation*}"
      ],
      "text/plain": [
       "             33.1 \n",
       "ω_1_modal = ──────\n",
       "            second"
      ]
     },
     "metadata": {},
     "output_type": "display_data"
    },
    {
     "data": {
      "text/latex": [
       "\\begin{equation*}\\omega_{2} = \\frac{66.29}{\\text{s}}\\end{equation*}"
      ],
      "text/plain": [
       "     66.29 \n",
       "ω₂ = ──────\n",
       "     second"
      ]
     },
     "metadata": {},
     "output_type": "display_data"
    },
    {
     "data": {
      "text/latex": [
       "\\begin{equation*}\\omega_{2 modal} = \\frac{66.29}{\\text{s}}\\end{equation*}"
      ],
      "text/plain": [
       "            66.29 \n",
       "ω_2_modal = ──────\n",
       "            second"
      ]
     },
     "metadata": {},
     "output_type": "display_data"
    }
   ],
   "source": [
    "omega_1_kontrolle = sp.sqrt(K_star[0] / M_star[0])\n",
    "omega_2_kontrolle = sp.sqrt(K_star[3] / M_star[3])\n",
    "\n",
    "render.eq_display('omega_1', omega_1.subs(params).simplify().evalf(3),\n",
    "                  'omega_1_modal', omega_1_kontrolle.subs(params).simplify().evalf(3),\n",
    "                  'omega_2', omega_2.subs(params).simplify().evalf(4),\n",
    "                  'omega_2_modal', omega_2_kontrolle.subs(params).simplify().evalf(4))\n",
    "\n",
    "\n"
   ]
  },
  {
   "cell_type": "markdown",
   "metadata": {},
   "source": [
    "#### Partizipationsfaktor $\\Gamma$"
   ]
  },
  {
   "cell_type": "markdown",
   "metadata": {},
   "source": [
    "Die Verteilung des Partizipationsfaktor gibt einen direkten Hinweis, welcher Eigenmode an der Gesamtanwort den grössten Einfluss (beteiligt bzw. partizipiert) hat.\n",
    "\n",
    "$$\\Gamma_n = \\frac{\\Phi_n^T \\mathbf{M 1}}{\\Phi_n^T \\mathbf{M}\\Phi_n}$$\n",
    "\n",
    "In allgemeiner Form lautet der Partizipationsfaktor:\n",
    "\n",
    "$$\\Gamma_n = \\frac{\\Phi_n^T \\mathbf{M r^\\star}}{\\Phi_n^T \\mathbf{M}\\Phi_n}$$\n",
    "\n",
    "$\\mathbf{r^\\star}$ beschreibt die Starrkörperverschiebung infolge der Erdbebenanregung $u_g$ am Fusspunktb des Gesamtsystems.\n",
    "\n",
    "\n",
    "\n",
    "$$\\mathbf{r^\\star} = \\begin{bmatrix}\n",
    "FHG_1 \\\\\n",
    "FHG_2 \n",
    "\\end{bmatrix}=\n",
    "\\begin{bmatrix}\n",
    "\\cos(0) \\\\\n",
    "\\cos(0) \n",
    "\\end{bmatrix}=\n",
    "\\begin{bmatrix}\n",
    "1 \\\\\n",
    "1 \n",
    "\\end{bmatrix}= \\mathbf{1}$$\n"
   ]
  },
  {
   "cell_type": "code",
   "execution_count": 63,
   "metadata": {},
   "outputs": [
    {
     "data": {
      "text/latex": [
       "\\begin{equation*}\\Gamma_{1} = \\frac{m_{1} \\phi_{11} + m_{2} \\phi_{21}}{m_{1} \\phi_{11}^{2} + m_{2} \\phi_{21}^{2}}\\end{equation*}"
      ],
      "text/plain": [
       "      m₁⋅φ₁₁ + m₂⋅φ₂₁ \n",
       "Γ₁ = ─────────────────\n",
       "           2         2\n",
       "     m₁⋅φ₁₁  + m₂⋅φ₂₁ "
      ]
     },
     "metadata": {},
     "output_type": "display_data"
    },
    {
     "data": {
      "text/latex": [
       "\\begin{equation*}\\Gamma_{1} = 1.33\\end{equation*}"
      ],
      "text/plain": [
       "Γ₁ = 1.33"
      ]
     },
     "metadata": {},
     "output_type": "display_data"
    },
    {
     "data": {
      "text/latex": [
       "\\begin{equation*}\\Gamma_{2} = \\frac{m_{1} \\phi_{12} + m_{2} \\phi_{22}}{m_{1} \\phi_{12}^{2} + m_{2} \\phi_{22}^{2}}\\end{equation*}"
      ],
      "text/plain": [
       "      m₁⋅φ₁₂ + m₂⋅φ₂₂ \n",
       "Γ₂ = ─────────────────\n",
       "           2         2\n",
       "     m₁⋅φ₁₂  + m₂⋅φ₂₂ "
      ]
     },
     "metadata": {},
     "output_type": "display_data"
    },
    {
     "data": {
      "text/latex": [
       "\\begin{equation*}\\Gamma_{2} = -0.333\\end{equation*}"
      ],
      "text/plain": [
       "Γ₂ = -0.333"
      ]
     },
     "metadata": {},
     "output_type": "display_data"
    },
    {
     "data": {
      "text/latex": [
       "\\begin{equation*}\\Gamma^{2}_{n} = \\left[\\begin{matrix}1.78\\\\0.111\\end{matrix}\\right]\\end{equation*}"
      ],
      "text/plain": [
       "      ⎡1.78 ⎤\n",
       "Γ²ₙ = ⎢     ⎥\n",
       "      ⎣0.111⎦"
      ]
     },
     "metadata": {},
     "output_type": "display_data"
    }
   ],
   "source": [
    "one_vec = sp.ones(2,1)\n",
    "\n",
    "gamma_1 = (phi_1.T*M*one_vec)[0]/(phi_1.T*M*phi_1)[0]\n",
    "gamma_2 = (phi_2.T*M*one_vec)[0]/(phi_2.T*M*phi_2)[0]\n",
    "gamma_sqr = sp.Matrix([[gamma_1**2],[gamma_2**2]])\n",
    "render.eq_display('Gamma_1', gamma_1,\n",
    "                  'Gamma_1', gamma_1.subs(params).evalf(3),\n",
    "                  'Gamma_2', gamma_2,\n",
    "                  'Gamma_2', gamma_2.subs(params).evalf(3),\n",
    "                  sp.MatrixSymbol('Gamma^2_n',2,1),gamma_sqr.subs(params).evalf(3))"
   ]
  },
  {
   "cell_type": "markdown",
   "metadata": {},
   "source": [
    "#### Effektive Modale Massen\n",
    "\n",
    "Durch Multiplikation der Modalen Massen mit dem Partizipationsfaktor resultieren die effektiven Modalen Massen."
   ]
  },
  {
   "cell_type": "code",
   "execution_count": 64,
   "metadata": {},
   "outputs": [
    {
     "data": {
      "text/latex": [
       "\\begin{equation*}m_{1eff} = \\frac{5.33 \\cdot 10^{4} \\text{N} \\text{s}^{2}}{\\text{m}}\\end{equation*}"
      ],
      "text/plain": [
       "                              2\n",
       "         5.33e+4⋅newton⋅second \n",
       "m_1eff = ──────────────────────\n",
       "                 meter         "
      ]
     },
     "metadata": {},
     "output_type": "display_data"
    },
    {
     "data": {
      "text/latex": [
       "\\begin{equation*}m_{2eff} = \\frac{6.67 \\cdot 10^{3} \\text{N} \\text{s}^{2}}{\\text{m}}\\end{equation*}"
      ],
      "text/plain": [
       "                              2\n",
       "         6.67e+3⋅newton⋅second \n",
       "m_2eff = ──────────────────────\n",
       "                 meter         "
      ]
     },
     "metadata": {},
     "output_type": "display_data"
    },
    {
     "data": {
      "text/latex": [
       "\\begin{equation*}m_{tot} = \\frac{6.0 \\cdot 10^{4} \\text{N} \\text{s}^{2}}{\\text{m}}\\end{equation*}"
      ],
      "text/plain": [
       "                           2\n",
       "       6.0e+4⋅newton⋅second \n",
       "mₜₒₜ = ─────────────────────\n",
       "               meter        "
      ]
     },
     "metadata": {},
     "output_type": "display_data"
    }
   ],
   "source": [
    "m_1_eff = gamma_1**2 * M_star[0]\n",
    "m_2_eff = gamma_2**2 * M_star[3]\n",
    "\n",
    "render.eq_display('m_1eff', m_1_eff.subs(params).evalf(3),\n",
    "                  'm_2eff', m_2_eff.subs(params).evalf(3),\n",
    "                  'm_tot', (m_1_eff+m_2_eff).subs(params).evalf(3))\n"
   ]
  },
  {
   "cell_type": "markdown",
   "metadata": {},
   "source": [
    "#### Modale Höhen"
   ]
  },
  {
   "cell_type": "code",
   "execution_count": 65,
   "metadata": {},
   "outputs": [
    {
     "data": {
      "text/latex": [
       "\\begin{equation*}h_{1} = \\frac{H m_{1} \\phi_{11} + H m_{2} \\phi_{12}}{m_{1} \\phi_{11} + m_{2} \\phi_{12}}\\end{equation*}"
      ],
      "text/plain": [
       "     H⋅m₁⋅φ₁₁ + H⋅m₂⋅φ₁₂\n",
       "h₁ = ───────────────────\n",
       "       m₁⋅φ₁₁ + m₂⋅φ₁₂  "
      ]
     },
     "metadata": {},
     "output_type": "display_data"
    },
    {
     "data": {
      "text/latex": [
       "\\begin{equation*}\\text{False}\\end{equation*}"
      ],
      "text/plain": [
       "False"
      ]
     },
     "metadata": {},
     "output_type": "display_data"
    },
    {
     "data": {
      "text/latex": [
       "\\begin{equation*}h_{2} = \\frac{H m_{1} \\phi_{21} + H m_{2} \\phi_{22}}{m_{1} \\phi_{21} + m_{2} \\phi_{22}}\\end{equation*}"
      ],
      "text/plain": [
       "     H⋅m₁⋅φ₂₁ + H⋅m₂⋅φ₂₂\n",
       "h₂ = ───────────────────\n",
       "       m₁⋅φ₂₁ + m₂⋅φ₂₂  "
      ]
     },
     "metadata": {},
     "output_type": "display_data"
    },
    {
     "data": {
      "text/latex": [
       "\\begin{equation*}h_{2} = 3.2 \\text{m}\\end{equation*}"
      ],
      "text/plain": [
       "h₂ = 3.2⋅meter"
      ]
     },
     "metadata": {},
     "output_type": "display_data"
    }
   ],
   "source": [
    "\n",
    "h_1_star = (H*m_1*phi_11 + H*m_2*phi_12)  / (m_1 * phi_11 + m_2 * phi_12)\n",
    "h_2_star = (H*m_1*phi_21 + H*m_2*phi_22)  / (m_1 * phi_21 + m_2 * phi_22)\n",
    "\n",
    "render.eq_display(\"h_1\" , \"(H*m_1*phi_11 + H*m_2*phi_12)  / (m_1 * phi_11 + m_2 * phi_12)\",\n",
    "'h_1', h_1_star.subs(params),\n",
    "\"h_2\" , \"(H*m_1*phi_21 + H*m_2*phi_22)  / (m_1 * phi_21 + m_2 * phi_22)\",\n",
    "'h_2', h_2_star.subs(params))"
   ]
  },
  {
   "cell_type": "markdown",
   "metadata": {},
   "source": [
    "### Elastisches Antwortspektrum\n",
    "\n",
    "Dem Vorgehen nach [@SIA261_2020] Abs. 16.2.3.1 entsprechend, werden folgende Parameter definiert:\n",
    "\n",
    "- Baugrundklasse B\n",
    "- Erdbebenzone Z2\n",
    "- $a_{gd} = 1.0 \\text{ m}/\\text{s}^2$"
   ]
  },
  {
   "cell_type": "code",
   "execution_count": 66,
   "metadata": {},
   "outputs": [],
   "source": [
    "T_B = 0.08*unit.second\n",
    "T_C = 0.35*unit.second\n",
    "T_D = 2*unit.second\n",
    "S=1.2\n",
    "eta = 1.0\n",
    "a_gd = 1*unit.m/unit.second**2"
   ]
  },
  {
   "cell_type": "markdown",
   "metadata": {},
   "source": [
    "#### Grundschwingzeit\n",
    "\n",
    "Die Grundschwingzeit kann anhand der bereits ermittelten Eigenkreisfrequenzen ermittelt werden."
   ]
  },
  {
   "cell_type": "code",
   "execution_count": 67,
   "metadata": {},
   "outputs": [
    {
     "data": {
      "text/latex": [
       "\\begin{equation*}T_{1} = 0.19 \\text{s}\\end{equation*}"
      ],
      "text/plain": [
       "T₁ = 0.19⋅second"
      ]
     },
     "metadata": {},
     "output_type": "display_data"
    },
    {
     "data": {
      "text/latex": [
       "\\begin{equation*}T_{2} = 0.0948 \\text{s}\\end{equation*}"
      ],
      "text/plain": [
       "T₂ = 0.0948⋅second"
      ]
     },
     "metadata": {},
     "output_type": "display_data"
    }
   ],
   "source": [
    "T_1 = (omega_1 /(2*sp.pi))**-1\n",
    "T_2 = (omega_2 /(2*sp.pi))**-1\n",
    "\n",
    "render.eq_display('T_1', T_1.subs(params).evalf(3),\n",
    "                  'T_2', T_2.subs(params).evalf(3),\n",
    "                  )"
   ]
  },
  {
   "cell_type": "markdown",
   "metadata": {},
   "source": [
    "#### Elastisches Antwortspektrum"
   ]
  },
  {
   "cell_type": "code",
   "execution_count": 68,
   "metadata": {},
   "outputs": [],
   "source": [
    "def antwortspektrum(a_gd,T, Baugrundklasse='A', eta=1):\n",
    "    from sympy.physics.units import second\n",
    "\n",
    "    # Baugrundklassen\n",
    "    Baugrundklassen = {\n",
    "        'A': {\n",
    "            'T_B':0.07*second,\n",
    "            'T_C':0.25*second,\n",
    "            'T_D':2.0*second,\n",
    "            'S':1.0,\n",
    "        },\n",
    "        'B': {\n",
    "            'T_B':0.08*second,\n",
    "            'T_C':0.35*second,\n",
    "            'T_D':2.0*second,\n",
    "            'S':1.2,\n",
    "        },\n",
    "        'C': {\n",
    "            'T_B':0.10*second,\n",
    "            'T_C':0.4*second,\n",
    "            'T_D':2.0*second,\n",
    "            'S':1.45,\n",
    "        },\n",
    "        'D': {\n",
    "            'T_B':0.10*second,\n",
    "            'T_C':0.5*second,\n",
    "            'T_D':2.0*second,\n",
    "            'S':1.7,\n",
    "        },\n",
    "        'E': {\n",
    "            'T_B':0.09*second,\n",
    "            'T_C':0.25*second,\n",
    "            'T_D':2.0*second,\n",
    "            'S':1.7,\n",
    "        }\n",
    "    }\n",
    "\n",
    "    # Gewünschte Baugrundklasse auswählen\n",
    "    params = Baugrundklassen[Baugrundklasse]\n",
    "    T_B = params['T_B']\n",
    "    T_C = params['T_C']\n",
    "    T_D = params['T_D']\n",
    "    S = params['S']\n",
    "\n",
    "    if T<=T_B:\n",
    "        render.eq_display('S_e','a_gd*S_*(1+(2.5*eta_-1)*T/T_B)')\n",
    "        return a_gd * S *(1+(2.5*eta-1)*T/T_B)\n",
    "    \n",
    "    if T_B<T<=T_C:\n",
    "        render.eq_display('S_e','2.5*a_gd*S_*eta')\n",
    "        return 2.5*a_gd*S*eta\n",
    "    \n",
    "    if T_C<T<=T_D:\n",
    "        render.eq_display('S_e', '2.5*a_gd*S_*eta*T_C/T')\n",
    "        return 2.5*a_gd*S*eta*T_C/T\n",
    "    \n",
    "    if T_D<=T:\n",
    "        render.eq_display('S_e', '2.5*a_gd*S_*eta*T_C*T_D/T**2')\n",
    "        return 2.5*a_gd*S*eta*T_C*T_D/T**2\n",
    "    \n",
    "    else:\n",
    "        print('Falsche Eingabe')\n"
   ]
  },
  {
   "cell_type": "code",
   "execution_count": 69,
   "metadata": {},
   "outputs": [
    {
     "data": {
      "text/latex": [
       "\\begin{equation*}S_{e} = 2.5 S_{} a_{gd} \\eta\\end{equation*}"
      ],
      "text/plain": [
       "Sₑ = 2.5⋅S⋅a_gd⋅η"
      ]
     },
     "metadata": {},
     "output_type": "display_data"
    },
    {
     "data": {
      "text/latex": [
       "\\begin{equation*}S_{e 1} = \\frac{3.0 \\text{m}}{\\text{s}^{2}}\\end{equation*}"
      ],
      "text/plain": [
       "       3.0⋅meter\n",
       "Sₑ ₁ = ─────────\n",
       "              2 \n",
       "        second  "
      ]
     },
     "metadata": {},
     "output_type": "display_data"
    }
   ],
   "source": [
    "\n",
    "S_e_1 = antwortspektrum(a_gd, T_1.subs(params).evalf(3), Baugrundklasse='B')\n",
    "render.eq_display('S_e_1', S_e_1.evalf(3))"
   ]
  },
  {
   "cell_type": "code",
   "execution_count": 70,
   "metadata": {},
   "outputs": [
    {
     "data": {
      "text/latex": [
       "\\begin{equation*}S_{e} = 2.5 S_{} a_{gd} \\eta\\end{equation*}"
      ],
      "text/plain": [
       "Sₑ = 2.5⋅S⋅a_gd⋅η"
      ]
     },
     "metadata": {},
     "output_type": "display_data"
    },
    {
     "data": {
      "text/latex": [
       "\\begin{equation*}S_{e 2} = \\frac{3.0 \\text{m}}{\\text{s}^{2}}\\end{equation*}"
      ],
      "text/plain": [
       "       3.0⋅meter\n",
       "Sₑ ₂ = ─────────\n",
       "              2 \n",
       "        second  "
      ]
     },
     "metadata": {},
     "output_type": "display_data"
    }
   ],
   "source": [
    "S_e_2 = antwortspektrum(a_gd, T_2.subs(params).evalf(3), Baugrundklasse='B')\n",
    "\n",
    "render.eq_display('S_e_2', S_e_2.evalf(3))"
   ]
  },
  {
   "cell_type": "markdown",
   "metadata": {},
   "source": [
    "#### Bemessungsspektrum\n",
    "\n",
    "Es wird lediglich auf charakteristischem Niveau die Kräfte bestimmt"
   ]
  },
  {
   "cell_type": "code",
   "execution_count": 71,
   "metadata": {},
   "outputs": [],
   "source": [
    "q = 1.5\n",
    "yf = 1.5"
   ]
  },
  {
   "cell_type": "code",
   "execution_count": 72,
   "metadata": {},
   "outputs": [],
   "source": [
    "def bemessungsspektrum(T_B, T_C, T_D, q, yf, S, a_gd,T):\n",
    "    g = 9.81*unit.m/unit.second**2\n",
    "    if T<=T_B:\n",
    "        render.eq_display('S_d','yf*a_gd/g*S_*(0.67+(2.5/q-0.67)*T/T_B)')\n",
    "        return yf*a_gd/g*S*(0.67+(2.5/q-0.67)*T/T_B)\n",
    "    \n",
    "    if T_B<T<=T_C:\n",
    "        render.eq_display('S_d','2.5*yf*a_gd/g*S_/q')\n",
    "        return 2.5*yf*a_gd/g*S/q\n",
    "    \n",
    "    if T_C<T<=T_D:\n",
    "        render.eq_display('S_e', '2.5*yf*a_gd/g*S_*T_C/(T*q)')\n",
    "        return 2.5*yf*a_gd/g*S*T_C/(T*q)\n",
    "    \n",
    "    if T_D<=T:\n",
    "        return max([2.5*yf*a_gd/g*S*T_C*T_D/(T**2*q),0.1*yf*a_gd/g])\n",
    "    \n",
    "    else:\n",
    "        print('Falsche Eingabe')"
   ]
  },
  {
   "cell_type": "markdown",
   "metadata": {},
   "source": [
    "#### Einwirkungen"
   ]
  },
  {
   "cell_type": "code",
   "execution_count": 73,
   "metadata": {},
   "outputs": [
    {
     "data": {
      "text/latex": [
       "\\begin{equation*}f_{11} = S_{e 1} \\gamma_{1} m_{1 eff} \\phi_{11}\\end{equation*}"
      ],
      "text/plain": [
       "f₁₁ = Sₑ ₁⋅γ₁⋅m_1_eff⋅φ₁₁"
      ]
     },
     "metadata": {},
     "output_type": "display_data"
    },
    {
     "data": {
      "text/latex": [
       "\\begin{equation*}f_{21} = S_{e 1} \\gamma_{1} m_{2 eff} \\phi_{21}\\end{equation*}"
      ],
      "text/plain": [
       "f₂₁ = Sₑ ₁⋅γ₁⋅m_2_eff⋅φ₂₁"
      ]
     },
     "metadata": {},
     "output_type": "display_data"
    },
    {
     "data": {
      "text/latex": [
       "\\begin{equation*}f_{12} = S_{e 2} \\gamma_{2} m_{1 eff} \\phi_{12}\\end{equation*}"
      ],
      "text/plain": [
       "f₁₂ = Sₑ ₂⋅γ₂⋅m_1_eff⋅φ₁₂"
      ]
     },
     "metadata": {},
     "output_type": "display_data"
    },
    {
     "data": {
      "text/latex": [
       "\\begin{equation*}f_{22} = S_{e 2} \\gamma_{2} m_{2 eff} \\phi_{22}\\end{equation*}"
      ],
      "text/plain": [
       "f₂₂ = Sₑ ₂⋅γ₂⋅m_2_eff⋅φ₂₂"
      ]
     },
     "metadata": {},
     "output_type": "display_data"
    },
    {
     "data": {
      "text/latex": [
       "\\begin{equation*}f_{jn} = \\left[\\begin{matrix}1.07 \\cdot 10^{5} \\text{N} & 5.33 \\cdot 10^{4} \\text{N}\\\\5.33 \\cdot 10^{4} \\text{N} & - 6.67 \\cdot 10^{3} \\text{N}\\end{matrix}\\right]\\end{equation*}"
      ],
      "text/plain": [
       "       ⎡1.07e+5⋅newton  5.33e+4⋅newton ⎤\n",
       "f_jn = ⎢                               ⎥\n",
       "       ⎣5.33e+4⋅newton  -6.67e+3⋅newton⎦"
      ]
     },
     "metadata": {},
     "output_type": "display_data"
    }
   ],
   "source": [
    "f_11 = gamma_1*m_1_eff*phi_11*S_e_1\n",
    "f_21 = gamma_1*m_2_eff*phi_21*S_e_1\n",
    "\n",
    "f_12 = gamma_2*m_1_eff*phi_12*S_e_2\n",
    "f_22 = gamma_2*m_2_eff*phi_22*S_e_2\n",
    "\n",
    "\n",
    "f_jn = sp.Matrix([[f_11, f_12],[f_12,f_22]])\n",
    "\n",
    "render.eq_display(\"f_11 \", \"gamma_1*m_1_eff*phi_11*S_e_1\",\n",
    "\"f_21\" , \"gamma_1*m_2_eff*phi_21*S_e_1\",\n",
    "\"f_12\" , \"gamma_2*m_1_eff*phi_12*S_e_2\",\n",
    "\"f_22\" , \"gamma_2*m_2_eff*phi_22*S_e_2\",\n",
    "\n",
    "\n",
    "sp.MatrixSymbol('f_jn', 2,2),f_jn.subs(params).evalf(3))"
   ]
  },
  {
   "cell_type": "markdown",
   "metadata": {},
   "source": [
    "#### Deformation"
   ]
  },
  {
   "cell_type": "code",
   "execution_count": 74,
   "metadata": {},
   "outputs": [
    {
     "data": {
      "text/latex": [
       "\\begin{equation*}u_{11} = \\frac{S_{e 1} \\gamma_{1} \\phi_{11}}{\\omega_{1}^{2}}\\end{equation*}"
      ],
      "text/plain": [
       "      Sₑ ₁⋅γ₁⋅φ₁₁\n",
       "u₁₁ = ───────────\n",
       "            2    \n",
       "          ω₁     "
      ]
     },
     "metadata": {},
     "output_type": "display_data"
    },
    {
     "data": {
      "text/latex": [
       "\\begin{equation*}u_{21} = \\frac{S_{e 1} \\gamma_{1} \\phi_{21}}{\\omega_{1}^{2}}\\end{equation*}"
      ],
      "text/plain": [
       "      Sₑ ₁⋅γ₁⋅φ₂₁\n",
       "u₂₁ = ───────────\n",
       "            2    \n",
       "          ω₁     "
      ]
     },
     "metadata": {},
     "output_type": "display_data"
    },
    {
     "data": {
      "text/latex": [
       "\\begin{equation*}u_{12} = \\frac{S_{e 2} \\gamma_{2} \\phi_{12}}{\\omega_{2}^{2}}\\end{equation*}"
      ],
      "text/plain": [
       "      Sₑ ₂⋅γ₂⋅φ₁₂\n",
       "u₁₂ = ───────────\n",
       "            2    \n",
       "          ω₂     "
      ]
     },
     "metadata": {},
     "output_type": "display_data"
    },
    {
     "data": {
      "text/latex": [
       "\\begin{equation*}u_{22} = \\frac{S_{e 2} \\gamma_{2} \\phi_{22}}{\\omega_{2}^{2}}\\end{equation*}"
      ],
      "text/plain": [
       "      Sₑ ₂⋅γ₂⋅φ₂₂\n",
       "u₂₂ = ───────────\n",
       "            2    \n",
       "          ω₂     "
      ]
     },
     "metadata": {},
     "output_type": "display_data"
    },
    {
     "data": {
      "text/latex": [
       "\\begin{equation*}u_{jn} = \\left[\\begin{matrix}1.82 \\text{mm} & 0.228 \\text{mm}\\\\0.228 \\text{mm} & - 0.228 \\text{mm}\\end{matrix}\\right]\\end{equation*}"
      ],
      "text/plain": [
       "       ⎡1.82⋅millimeter   0.228⋅millimeter ⎤\n",
       "u_jn = ⎢                                   ⎥\n",
       "       ⎣0.228⋅millimeter  -0.228⋅millimeter⎦"
      ]
     },
     "metadata": {},
     "output_type": "display_data"
    }
   ],
   "source": [
    "u_11 = gamma_1*phi_11*S_e_1/omega_1**2\n",
    "u_21 = gamma_1*phi_21*S_e_1/omega_1**2\n",
    "u_12 = gamma_2*phi_12*S_e_2/omega_2**2\n",
    "u_22 = gamma_2*phi_22*S_e_2/omega_2**2\n",
    "\n",
    "\n",
    "u_jn = sp.Matrix([[u_11, u_12],[u_12,u_22]])\n",
    "\n",
    "render.eq_display(\"u_11\" ,\" gamma_1*phi_11*S_e_1/omega_1**2\",\n",
    "\"u_21\" , \"gamma_1*phi_21*S_e_1/omega_1**2\",\n",
    "\"u_12\" , \"gamma_2*phi_12*S_e_2/omega_2**2\",\n",
    "\"u_22\" ,\"gamma_2*phi_22*S_e_2/omega_2**2\",\n",
    "    \n",
    "    sp.MatrixSymbol('u_jn', 2,2),unit.convert_to(u_jn.subs(params).evalf(3),unit.mm))"
   ]
  },
  {
   "cell_type": "markdown",
   "metadata": {},
   "source": [
    "### Überlagerung der EMS\n",
    "\n",
    "Um die Entkoppelung rückzuführen gilt es die erhaltenen Resultate zu überlagern. Dabei gibt es unterschiedliche Ansätze. Bei weit auseinander liegenden Eigenfrequenzen kann die SRSS-Überlagerung verwendet werden.\n",
    "\n",
    "$$V_{b2max} = \\sqrt{\\sum_{n=1}^2 f_{j,n}^2}$$"
   ]
  },
  {
   "cell_type": "code",
   "execution_count": 75,
   "metadata": {},
   "outputs": [
    {
     "data": {
      "text/latex": [
       "\\begin{equation*}V_{b1 max} = \\sqrt{f_{11}^{2} + f_{12}^{2}}\\end{equation*}"
      ],
      "text/plain": [
       "              _____________\n",
       "             ╱    2      2 \n",
       "V_b1_max = ╲╱  f₁₁  + f₁₂  "
      ]
     },
     "metadata": {},
     "output_type": "display_data"
    },
    {
     "data": {
      "text/latex": [
       "\\begin{equation*}V_{b1max} = 1.19 \\cdot 10^{5} \\text{N}\\end{equation*}"
      ],
      "text/plain": [
       "V_b1max = 1.19e+5⋅newton"
      ]
     },
     "metadata": {},
     "output_type": "display_data"
    },
    {
     "data": {
      "text/latex": [
       "\\begin{equation*}V_{b2 max} = \\sqrt{f_{21}^{2} + f_{22}^{2}}\\end{equation*}"
      ],
      "text/plain": [
       "              _____________\n",
       "             ╱    2      2 \n",
       "V_b2_max = ╲╱  f₂₁  + f₂₂  "
      ]
     },
     "metadata": {},
     "output_type": "display_data"
    },
    {
     "data": {
      "text/latex": [
       "\\begin{equation*}V_{b2max} = 2.75 \\cdot 10^{4} \\text{N}\\end{equation*}"
      ],
      "text/plain": [
       "V_b2max = 2.75e+4⋅newton"
      ]
     },
     "metadata": {},
     "output_type": "display_data"
    }
   ],
   "source": [
    "V_b1_max = sp.sqrt(f_11**2 + f_12**2)\n",
    "V_b2_max = sp.sqrt(f_21**2 + f_22**2)\n",
    "\n",
    "render.eq_display(\"V_b1_max\" ,\"sqrt(f_11**2 + f_12**2)\",\n",
    "'V_b1max',V_b1_max.subs(params).evalf(3),\n",
    "\"V_b2_max\" , \"sqrt(f_21**2 + f_22**2)\",\n",
    "'V_b2max', V_b2_max.subs(params).evalf(3))"
   ]
  },
  {
   "cell_type": "markdown",
   "metadata": {},
   "source": [
    "Deformationen:\n",
    "\n",
    "$$u_{bn} = \\sqrt{\\sum_{n=1}^2 u_{j,n}^2}$$"
   ]
  },
  {
   "cell_type": "code",
   "execution_count": 76,
   "metadata": {},
   "outputs": [
    {
     "data": {
      "text/latex": [
       "\\begin{equation*}u_{b1} = \\sqrt{u_{11}^{2} + u_{12}^{2}}\\end{equation*}"
      ],
      "text/plain": [
       "          _____________\n",
       "         ╱    2      2 \n",
       "u_b1 = ╲╱  u₁₁  + u₁₂  "
      ]
     },
     "metadata": {},
     "output_type": "display_data"
    },
    {
     "data": {
      "text/latex": [
       "\\begin{equation*}u_{b1} = 1.83 \\text{mm}\\end{equation*}"
      ],
      "text/plain": [
       "u_b1 = 1.83⋅millimeter"
      ]
     },
     "metadata": {},
     "output_type": "display_data"
    },
    {
     "data": {
      "text/latex": [
       "\\begin{equation*}u_{b2} = \\sqrt{u_{21}^{2} + u_{22}^{2}}\\end{equation*}"
      ],
      "text/plain": [
       "          _____________\n",
       "         ╱    2      2 \n",
       "u_b2 = ╲╱  u₂₁  + u₂₂  "
      ]
     },
     "metadata": {},
     "output_type": "display_data"
    },
    {
     "data": {
      "text/latex": [
       "\\begin{equation*}u_{b2} = 3.65 \\text{mm}\\end{equation*}"
      ],
      "text/plain": [
       "u_b2 = 3.65⋅millimeter"
      ]
     },
     "metadata": {},
     "output_type": "display_data"
    }
   ],
   "source": [
    "u_b1 = sp.sqrt(u_11**2 + u_12**2)\n",
    "u_b2 = sp.sqrt(u_21**2 + u_22**2)\n",
    "\n",
    "render.eq_display(\n",
    "\"u_b1\" , \"sqrt(u_11**2 + u_12**2)\",\n",
    "'u_b1',unit.convert_to(u_b1.subs(params).evalf(3), unit.mm),\n",
    "\"u_b2\", \"sqrt(u_21**2 + u_22**2)\",\n",
    "'u_b2', unit.convert_to(u_b2.subs(params).evalf(3),unit.mm))"
   ]
  },
  {
   "cell_type": "markdown",
   "metadata": {},
   "source": [
    "[Skizze mit Schnittgrössen ergänzen]{.underline}"
   ]
  }
 ],
 "metadata": {
  "kernelspec": {
   "display_name": "engineering",
   "language": "python",
   "name": "python3"
  },
  "language_info": {
   "codemirror_mode": {
    "name": "ipython",
    "version": 3
   },
   "file_extension": ".py",
   "mimetype": "text/x-python",
   "name": "python",
   "nbconvert_exporter": "python",
   "pygments_lexer": "ipython3",
   "version": "3.11.3"
  },
  "orig_nbformat": 4
 },
 "nbformat": 4,
 "nbformat_minor": 2
}
