{
 "cells": [
  {
   "cell_type": "code",
   "execution_count": 1,
   "metadata": {},
   "outputs": [],
   "source": [
    "%run style_and_packages.ipynb"
   ]
  },
  {
   "cell_type": "markdown",
   "metadata": {},
   "source": [
    "# Beispiel: Antwortspektrenverfahren an einem dreistöckigen Gebäude\n",
    "\n",
    "![Dreigeschossiges Gebäude](bilder/mms_7_modell.png){#fig-3mms height=50%}"
   ]
  },
  {
   "cell_type": "markdown",
   "metadata": {},
   "source": [
    "{{< pagebreak >}}\n",
    "## Musterlösung\n",
    "\n",
    "![Gebäude modelliert als Mehrmassenschwinger](bilder/system_mms3.png){height=50mm}"
   ]
  },
  {
   "cell_type": "code",
   "execution_count": 2,
   "metadata": {},
   "outputs": [
    {
     "data": {
      "text/markdown": [
       "| Parameter |  |\n",
       "|---|---|\n",
       "| $EI_{1} = 2100000.0 \\text{m}^{2} \\text{N}$ | $EI_{2} = 2100000.0 \\text{m}^{2} \\text{N}$ |\n",
       "| $EI_{3} = 1500000.0 \\text{m}^{2} \\text{N}$ | $H_{1} = 4.5 \\text{m}$ |\n",
       "| $H_{2} = 4.25 \\text{m}$ | $H_{3} = 4.25 \\text{m}$ |\n",
       "| $m_{1} = \\frac{12000 \\text{N} \\text{s}^{2}}{\\text{m}}$ | $m_{2} = \\frac{12000 \\text{N} \\text{s}^{2}}{\\text{m}}$ |\n",
       "| $m_{3} = \\frac{8000 \\text{N} \\text{s}^{2}}{\\text{m}}$ | |\n"
      ],
      "text/plain": [
       "<IPython.core.display.Markdown object>"
      ]
     },
     "metadata": {},
     "output_type": "display_data"
    }
   ],
   "source": [
    "#| label: tbl-parameter_mms6\n",
    "#| tbl-cap: Verwendete Parameter\n",
    "\n",
    "params = {'EI_1': 2.1*10**6 *unit.N*unit.m**2,\n",
    "          'EI_2': 2.1*10**6 *unit.N*unit.m**2,\n",
    "          'EI_3': 1.5*10**6 *unit.N*unit.m**2,\n",
    "          'm_1':12000*unit.N*unit.second**2/unit.m,\n",
    "          'm_2':12000*unit.N*unit.second**2/unit.m,\n",
    "          'm_3':8000*unit.N*unit.second**2/unit.m,\n",
    "          'H_1':4.5*unit.m,\n",
    "          'H_2':4.25*unit.m,\n",
    "          'H_3':4.25*unit.m,\n",
    "          }\n",
    "\n",
    "params_plot = convert.param_value(params)\n",
    "render.dict_to_table(params)"
   ]
  },
  {
   "cell_type": "markdown",
   "metadata": {},
   "source": [
    "### Massenmatrix $M$\n",
    "\n",
    "![System an jeder Punktmasse ausgelenkt](bilder/matrix_3mms.png){height=50mm}"
   ]
  },
  {
   "cell_type": "code",
   "execution_count": 3,
   "metadata": {},
   "outputs": [],
   "source": [
    "m_1, m_2, m_3 = sp.symbols('m_1, m_2, m_3')"
   ]
  },
  {
   "cell_type": "code",
   "execution_count": 4,
   "metadata": {},
   "outputs": [
    {
     "data": {
      "text/latex": [
       "\\begin{equation}M = \\left[\\begin{matrix}m_{1} & 0 & 0\\\\0 & m_{2} & 0\\\\0 & 0 & m_{3}\\end{matrix}\\right]\\end{equation}"
      ],
      "text/plain": [
       "    ⎡m₁  0   0 ⎤\n",
       "    ⎢          ⎥\n",
       "M = ⎢0   m₂  0 ⎥\n",
       "    ⎢          ⎥\n",
       "    ⎣0   0   m₃⎦"
      ]
     },
     "metadata": {},
     "output_type": "display_data"
    },
    {
     "data": {
      "text/latex": [
       "\\begin{equation}M = \\left[\\begin{matrix}\\frac{12000 \\text{N} \\text{s}^{2}}{\\text{m}} & 0 & 0\\\\0 & \\frac{12000 \\text{N} \\text{s}^{2}}{\\text{m}} & 0\\\\0 & 0 & \\frac{8000 \\text{N} \\text{s}^{2}}{\\text{m}}\\end{matrix}\\right]\\end{equation}"
      ],
      "text/plain": [
       "    ⎡                   2                                           ⎤\n",
       "    ⎢12000⋅newton⋅second                                            ⎥\n",
       "    ⎢────────────────────           0                     0         ⎥\n",
       "    ⎢       meter                                                   ⎥\n",
       "    ⎢                                                               ⎥\n",
       "    ⎢                                         2                     ⎥\n",
       "    ⎢                      12000⋅newton⋅second                      ⎥\n",
       "M = ⎢         0            ────────────────────           0         ⎥\n",
       "    ⎢                             meter                             ⎥\n",
       "    ⎢                                                               ⎥\n",
       "    ⎢                                                              2⎥\n",
       "    ⎢                                            8000⋅newton⋅second ⎥\n",
       "    ⎢         0                     0            ───────────────────⎥\n",
       "    ⎣                                                   meter       ⎦"
      ]
     },
     "metadata": {},
     "output_type": "display_data"
    }
   ],
   "source": [
    "M = sp.Matrix([[m_1,0,0],[0,m_2,0],[0,0,m_3]])\n",
    "\n",
    "render.eq_display(sp.MatrixSymbol('M', 3, 3), M,\n",
    "                  sp.MatrixSymbol('M', 3, 3), M.subs(params))"
   ]
  },
  {
   "cell_type": "markdown",
   "metadata": {},
   "source": [
    "### Steifigkeitsmatrix $K$\n",
    "\n",
    "#### Steifigkeit der Stockwerke"
   ]
  },
  {
   "cell_type": "code",
   "execution_count": 5,
   "metadata": {},
   "outputs": [],
   "source": [
    "EI_1, EI_2, EI_3, H_1, H_2, H_3 = sp.symbols(\"EI_1, EI_2, EI_3, H_1, H_2, H_3\")\n"
   ]
  },
  {
   "cell_type": "code",
   "execution_count": 6,
   "metadata": {},
   "outputs": [
    {
     "data": {
      "text/latex": [
       "\\begin{equation}k_{1} = \\frac{24 EI_{1}}{H_{1}^{3}}\\end{equation}"
      ],
      "text/plain": [
       "     24⋅EI₁\n",
       "k₁ = ──────\n",
       "        3  \n",
       "      H₁   "
      ]
     },
     "metadata": {},
     "output_type": "display_data"
    },
    {
     "data": {
      "text/latex": [
       "\\begin{equation}k_{1} = \\frac{5.53 \\cdot 10^{5} \\text{N}}{\\text{m}}\\end{equation}"
      ],
      "text/plain": [
       "     5.53e+5⋅newton\n",
       "k₁ = ──────────────\n",
       "         meter     "
      ]
     },
     "metadata": {},
     "output_type": "display_data"
    },
    {
     "data": {
      "text/latex": [
       "\\begin{equation}k_{2} = \\frac{24 EI_{2}}{H_{2}^{3}}\\end{equation}"
      ],
      "text/plain": [
       "     24⋅EI₂\n",
       "k₂ = ──────\n",
       "        3  \n",
       "      H₂   "
      ]
     },
     "metadata": {},
     "output_type": "display_data"
    },
    {
     "data": {
      "text/latex": [
       "\\begin{equation}k_{2} = \\frac{6.57 \\cdot 10^{5} \\text{N}}{\\text{m}}\\end{equation}"
      ],
      "text/plain": [
       "     6.57e+5⋅newton\n",
       "k₂ = ──────────────\n",
       "         meter     "
      ]
     },
     "metadata": {},
     "output_type": "display_data"
    },
    {
     "data": {
      "text/latex": [
       "\\begin{equation}k_{3} = \\frac{24 EI_{3}}{H_{3}^{3}}\\end{equation}"
      ],
      "text/plain": [
       "     24⋅EI₃\n",
       "k₃ = ──────\n",
       "        3  \n",
       "      H₃   "
      ]
     },
     "metadata": {},
     "output_type": "display_data"
    },
    {
     "data": {
      "text/latex": [
       "\\begin{equation}k_{3} = \\frac{4.69 \\cdot 10^{5} \\text{N}}{\\text{m}}\\end{equation}"
      ],
      "text/plain": [
       "     4.69e+5⋅newton\n",
       "k₃ = ──────────────\n",
       "         meter     "
      ]
     },
     "metadata": {},
     "output_type": "display_data"
    }
   ],
   "source": [
    "k_1 = 12 * EI_1 /H_1**3 * 2\n",
    "k_2 = 12 * EI_2 / H_2**3 * 2 \n",
    "k_3 = 12 * EI_3 / H_3**3 * 2 \n",
    "\n",
    "render.eq_display(\"k_1\", k_1,\n",
    "'k_1', k_1.subs(params).simplify().evalf(3),\n",
    "\"k_2\", k_2,\n",
    "'k_2', k_2.subs(params).simplify().evalf(3),\n",
    "\"k_3\", k_3,\n",
    "'k_3', k_3.subs(params).simplify().evalf(3))"
   ]
  },
  {
   "cell_type": "markdown",
   "metadata": {},
   "source": [
    "Abgefüllt in die Steifigkeitsmatrix"
   ]
  },
  {
   "cell_type": "code",
   "execution_count": 7,
   "metadata": {},
   "outputs": [
    {
     "data": {
      "text/latex": [
       "\\begin{equation}K = \\left[\\begin{matrix}k_{1} + k_{2} & - k_{2} & 0\\\\- k_{2} & k_{2} + k_{3} & - k_{3}\\\\0 & - k_{3} & k_{3}\\end{matrix}\\right]\\end{equation}"
      ],
      "text/plain": [
       "    ⎡k₁ + k₂    -k₂     0 ⎤\n",
       "    ⎢                     ⎥\n",
       "K = ⎢  -k₂    k₂ + k₃  -k₃⎥\n",
       "    ⎢                     ⎥\n",
       "    ⎣   0       -k₃    k₃ ⎦"
      ]
     },
     "metadata": {},
     "output_type": "display_data"
    },
    {
     "data": {
      "text/latex": [
       "\\begin{equation}K = \\left[\\begin{matrix}\\frac{24 EI_{1}}{H_{1}^{3}} + \\frac{24 EI_{2}}{H_{2}^{3}} & - \\frac{24 EI_{2}}{H_{2}^{3}} & 0\\\\- \\frac{24 EI_{2}}{H_{2}^{3}} & \\frac{24 EI_{2}}{H_{2}^{3}} + \\frac{24 EI_{3}}{H_{3}^{3}} & - \\frac{24 EI_{3}}{H_{3}^{3}}\\\\0 & - \\frac{24 EI_{3}}{H_{3}^{3}} & \\frac{24 EI_{3}}{H_{3}^{3}}\\end{matrix}\\right]\\end{equation}"
      ],
      "text/plain": [
       "    ⎡24⋅EI₁   24⋅EI₂     -24⋅EI₂               ⎤\n",
       "    ⎢────── + ──────     ────────         0    ⎥\n",
       "    ⎢   3        3           3                 ⎥\n",
       "    ⎢ H₁       H₂          H₂                  ⎥\n",
       "    ⎢                                          ⎥\n",
       "    ⎢   -24⋅EI₂       24⋅EI₂   24⋅EI₃  -24⋅EI₃ ⎥\n",
       "    ⎢   ────────      ────── + ──────  ────────⎥\n",
       "K = ⎢       3            3        3        3   ⎥\n",
       "    ⎢     H₂           H₂       H₃       H₃    ⎥\n",
       "    ⎢                                          ⎥\n",
       "    ⎢                    -24⋅EI₃        24⋅EI₃ ⎥\n",
       "    ⎢       0            ────────       ────── ⎥\n",
       "    ⎢                        3             3   ⎥\n",
       "    ⎣                      H₃            H₃    ⎦"
      ]
     },
     "metadata": {},
     "output_type": "display_data"
    },
    {
     "data": {
      "text/latex": [
       "\\begin{equation}K = \\left[\\begin{matrix}\\frac{1.21 \\cdot 10^{6} \\text{N}}{\\text{m}} & - \\frac{6.57 \\cdot 10^{5} \\text{N}}{\\text{m}} & 0\\\\- \\frac{6.57 \\cdot 10^{5} \\text{N}}{\\text{m}} & \\frac{1.13 \\cdot 10^{6} \\text{N}}{\\text{m}} & - \\frac{4.69 \\cdot 10^{5} \\text{N}}{\\text{m}}\\\\0 & - \\frac{4.69 \\cdot 10^{5} \\text{N}}{\\text{m}} & \\frac{4.69 \\cdot 10^{5} \\text{N}}{\\text{m}}\\end{matrix}\\right]\\end{equation}"
      ],
      "text/plain": [
       "    ⎡ 1.21e+6⋅newton   -6.57e+5⋅newton                   ⎤\n",
       "    ⎢ ──────────────   ────────────────         0        ⎥\n",
       "    ⎢     meter             meter                        ⎥\n",
       "    ⎢                                                    ⎥\n",
       "    ⎢-6.57e+5⋅newton    1.13e+6⋅newton   -4.69e+5⋅newton ⎥\n",
       "K = ⎢────────────────   ──────────────   ────────────────⎥\n",
       "    ⎢     meter             meter             meter      ⎥\n",
       "    ⎢                                                    ⎥\n",
       "    ⎢                  -4.69e+5⋅newton    4.69e+5⋅newton ⎥\n",
       "    ⎢       0          ────────────────   ────────────── ⎥\n",
       "    ⎣                       meter             meter      ⎦"
      ]
     },
     "metadata": {},
     "output_type": "display_data"
    }
   ],
   "source": [
    "K = sp.Matrix([[k_1 + k_2, -k_2, 0],[-k_2,k_2+k_3, -k_3], [0,-k_3, k_3]])\n",
    "\n",
    "render.eq_display(sp.MatrixSymbol('K', 3, 3), \"Matrix([[k_1 + k_2, -k_2, 0],[-k_2,k_2+k_3, -k_3], [0,-k_3, k_3]])\",\n",
    "sp.MatrixSymbol('K', 3, 3), K,\n",
    "                  sp.MatrixSymbol('K', 3, 3), K.subs(params).evalf(3))"
   ]
  },
  {
   "cell_type": "markdown",
   "metadata": {},
   "source": [
    "### Eigenvektoren "
   ]
  },
  {
   "cell_type": "markdown",
   "metadata": {},
   "source": [
    "#### Eigenkreisfrequenzen \n",
    "Bei einem Mehrmassenschwinger gibt es entsprechend den Freiheitsgraden Eigenkreisfrequenzen $\\omega_n$. Diese lassen sich anhand folgender Gleichung bestimmen:\n",
    "\n",
    "$$\n",
    "\\det{[\\mathbf{K}-\\omega_n^2 \\mathbf{M}]=0}\n",
    "$${#eq-eigenkreisfreqs}"
   ]
  },
  {
   "cell_type": "code",
   "execution_count": 8,
   "metadata": {},
   "outputs": [
    {
     "data": {
      "text/latex": [
       "\\begin{equation}\\omega_{1} = \\frac{3.4}{\\text{s}}\\end{equation}"
      ],
      "text/plain": [
       "      3.4  \n",
       "ω₁ = ──────\n",
       "     second"
      ]
     },
     "metadata": {},
     "output_type": "display_data"
    },
    {
     "data": {
      "text/latex": [
       "\\begin{equation}\\omega_{2} = \\frac{8.84}{\\text{s}}\\end{equation}"
      ],
      "text/plain": [
       "      8.84 \n",
       "ω₂ = ──────\n",
       "     second"
      ]
     },
     "metadata": {},
     "output_type": "display_data"
    },
    {
     "data": {
      "text/latex": [
       "\\begin{equation}\\omega_{3} = \\frac{12.8}{\\text{s}}\\end{equation}"
      ],
      "text/plain": [
       "      12.8 \n",
       "ω₃ = ──────\n",
       "     second"
      ]
     },
     "metadata": {},
     "output_type": "display_data"
    }
   ],
   "source": [
    "omega_n =sp.symbols('omega_n', real=True)\n",
    "eq_omega = sp.det(K-omega_n**2*M)\n",
    "omega_n_solve= sp.solve([eq_omega.subs(params_plot).simplify(), omega_n<=100, omega_n>=0], omega_n, dict=True)\n",
    "\n",
    "omega_1 = omega_n_solve.args[0].rhs/unit.second\n",
    "omega_2 = omega_n_solve.args[1].rhs/unit.second\n",
    "omega_3 = omega_n_solve.args[2].rhs/unit.second\n",
    "\n",
    "\n",
    "\n",
    "render.eq_display('omega_1', omega_1.evalf(3),\n",
    "                  'omega_2', omega_2.evalf(3),\n",
    "                  'omega_3', omega_3.evalf(3))\n",
    "\n"
   ]
  },
  {
   "cell_type": "code",
   "execution_count": 9,
   "metadata": {},
   "outputs": [
    {
     "data": {
      "image/svg+xml": [
       "<?xml version=\"1.0\" encoding=\"utf-8\" standalone=\"no\"?>\n",
       "<!DOCTYPE svg PUBLIC \"-//W3C//DTD SVG 1.1//EN\"\n",
       "  \"http://www.w3.org/Graphics/SVG/1.1/DTD/svg11.dtd\">\n",
       "<svg xmlns:xlink=\"http://www.w3.org/1999/xlink\" width=\"415.127818pt\" height=\"136.8pt\" viewBox=\"0 0 415.127818 136.8\" xmlns=\"http://www.w3.org/2000/svg\" version=\"1.1\">\n",
       " <metadata>\n",
       "  <rdf:RDF xmlns:dc=\"http://purl.org/dc/elements/1.1/\" xmlns:cc=\"http://creativecommons.org/ns#\" xmlns:rdf=\"http://www.w3.org/1999/02/22-rdf-syntax-ns#\">\n",
       "   <cc:Work>\n",
       "    <dc:type rdf:resource=\"http://purl.org/dc/dcmitype/StillImage\"/>\n",
       "    <dc:date>2023-08-11T08:17:47.134138</dc:date>\n",
       "    <dc:format>image/svg+xml</dc:format>\n",
       "    <dc:creator>\n",
       "     <cc:Agent>\n",
       "      <dc:title>Matplotlib v3.7.1, https://matplotlib.org/</dc:title>\n",
       "     </cc:Agent>\n",
       "    </dc:creator>\n",
       "   </cc:Work>\n",
       "  </rdf:RDF>\n",
       " </metadata>\n",
       " <defs>\n",
       "  <style type=\"text/css\">*{stroke-linejoin: round; stroke-linecap: butt}</style>\n",
       " </defs>\n",
       " <g id=\"figure_1\">\n",
       "  <g id=\"patch_1\">\n",
       "   <path d=\"M 0 136.8 \n",
       "L 415.127818 136.8 \n",
       "L 415.127818 0 \n",
       "L 0 0 \n",
       "z\n",
       "\" style=\"fill: #ffffff\"/>\n",
       "  </g>\n",
       "  <g id=\"axes_1\">\n",
       "   <g id=\"patch_2\">\n",
       "    <path d=\"M 24.319818 129.6 \n",
       "L 407.927818 129.6 \n",
       "L 407.927818 17.328237 \n",
       "L 24.319818 17.328237 \n",
       "z\n",
       "\" style=\"fill: #ffffff\"/>\n",
       "   </g>\n",
       "   <g id=\"matplotlib.axis_1\">\n",
       "    <g id=\"xtick_1\">\n",
       "     <g id=\"line2d_1\">\n",
       "      <defs>\n",
       "       <path id=\"mff18a1bb6e\" d=\"M 0 0 \n",
       "L 0 3.5 \n",
       "\" style=\"stroke: #000000; stroke-width: 0.8\"/>\n",
       "      </defs>\n",
       "      <g>\n",
       "       <use xlink:href=\"#mff18a1bb6e\" x=\"41.756545\" y=\"32.255111\" style=\"stroke: #000000; stroke-width: 0.8\"/>\n",
       "      </g>\n",
       "     </g>\n",
       "     <g id=\"text_1\">\n",
       "      <!-- $\\mathdefault{0}$ -->\n",
       "      <g transform=\"translate(39.265885 46.383348) scale(0.1 -0.1)\">\n",
       "       <defs>\n",
       "        <path id=\"URWPalladioL-Roma-30\" d=\"M 1683 4416 \n",
       "C 691 4416 186 3628 186 2076 \n",
       "C 186 1326 320 679 544 365 \n",
       "C 768 51 1126 -128 1523 -128 \n",
       "C 2490 -128 2976 704 2976 2345 \n",
       "C 2976 3749 2560 4416 1683 4416 \n",
       "z\n",
       "M 1568 4191 \n",
       "C 2189 4191 2438 3563 2438 2025 \n",
       "C 2438 660 2195 96 1606 96 \n",
       "C 986 96 723 743 723 2307 \n",
       "C 723 3660 960 4191 1568 4191 \n",
       "z\n",
       "\" transform=\"scale(0.015625)\"/>\n",
       "       </defs>\n",
       "       <use xlink:href=\"#URWPalladioL-Roma-30\" transform=\"scale(0.996264)\"/>\n",
       "      </g>\n",
       "     </g>\n",
       "    </g>\n",
       "    <g id=\"xtick_2\">\n",
       "     <g id=\"line2d_2\">\n",
       "      <g>\n",
       "       <use xlink:href=\"#mff18a1bb6e\" x=\"88.254485\" y=\"32.255111\" style=\"stroke: #000000; stroke-width: 0.8\"/>\n",
       "      </g>\n",
       "     </g>\n",
       "     <g id=\"text_2\">\n",
       "      <!-- $\\mathdefault{2}$ -->\n",
       "      <g transform=\"translate(85.763825 46.383348) scale(0.1 -0.1)\">\n",
       "       <defs>\n",
       "        <path id=\"URWPalladioL-Roma-32\" d=\"M 102 166 \n",
       "L 102 0 \n",
       "C 1299 0 1299 0 1530 0 \n",
       "C 1760 19 1760 19 2995 0 \n",
       "C 2982 134 2982 198 2982 287 \n",
       "C 2982 370 2982 434 2995 574 \n",
       "C 2259 542 1965 536 781 510 \n",
       "L 1946 1741 \n",
       "C 2566 2398 2758 2749 2758 3228 \n",
       "C 2758 3961 2259 4416 1446 4416 \n",
       "C 986 4416 672 4287 358 3967 \n",
       "L 250 3100 \n",
       "L 435 3100 \n",
       "L 518 3394 \n",
       "C 621 3763 851 3923 1280 3923 \n",
       "C 1830 3923 2182 3578 2182 3036 \n",
       "C 2182 2558 1914 2086 1190 1320 \n",
       "L 102 166 \n",
       "z\n",
       "\" transform=\"scale(0.015625)\"/>\n",
       "       </defs>\n",
       "       <use xlink:href=\"#URWPalladioL-Roma-32\" transform=\"scale(0.996264)\"/>\n",
       "      </g>\n",
       "     </g>\n",
       "    </g>\n",
       "    <g id=\"xtick_3\">\n",
       "     <g id=\"line2d_3\">\n",
       "      <g>\n",
       "       <use xlink:href=\"#mff18a1bb6e\" x=\"134.752424\" y=\"32.255111\" style=\"stroke: #000000; stroke-width: 0.8\"/>\n",
       "      </g>\n",
       "     </g>\n",
       "     <g id=\"text_3\">\n",
       "      <!-- $\\mathdefault{4}$ -->\n",
       "      <g transform=\"translate(132.261764 46.383348) scale(0.1 -0.1)\">\n",
       "       <defs>\n",
       "        <path id=\"URWPalladioL-Roma-34\" d=\"M 1792 1152 \n",
       "L 1792 684 \n",
       "C 1792 310 1722 223 1408 210 \n",
       "L 1011 192 \n",
       "L 1011 0 \n",
       "C 1862 0 1862 0 2016 0 \n",
       "C 2170 19 2170 19 3021 0 \n",
       "L 3021 192 \n",
       "L 2714 210 \n",
       "C 2400 229 2330 310 2330 684 \n",
       "L 2330 1152 \n",
       "C 2707 1152 2842 1145 3021 1127 \n",
       "L 3021 1580 \n",
       "C 2720 1555 2598 1555 2502 1561 \n",
       "L 2483 1561 \n",
       "L 2330 1561 \n",
       "L 2330 2445 \n",
       "C 2330 3576 2342 4122 2374 4383 \n",
       "L 2298 4416 \n",
       "L 1824 4243 \n",
       "L 13 1299 \n",
       "L 83 1152 \n",
       "L 1792 1152 \n",
       "z\n",
       "M 1792 1561 \n",
       "L 416 1561 \n",
       "L 1792 3798 \n",
       "L 1792 1561 \n",
       "z\n",
       "\" transform=\"scale(0.015625)\"/>\n",
       "       </defs>\n",
       "       <use xlink:href=\"#URWPalladioL-Roma-34\" transform=\"scale(0.996264)\"/>\n",
       "      </g>\n",
       "     </g>\n",
       "    </g>\n",
       "    <g id=\"xtick_4\">\n",
       "     <g id=\"line2d_4\">\n",
       "      <g>\n",
       "       <use xlink:href=\"#mff18a1bb6e\" x=\"181.250363\" y=\"32.255111\" style=\"stroke: #000000; stroke-width: 0.8\"/>\n",
       "      </g>\n",
       "     </g>\n",
       "     <g id=\"text_4\">\n",
       "      <!-- $\\mathdefault{6}$ -->\n",
       "      <g transform=\"translate(178.759703 46.383348) scale(0.1 -0.1)\">\n",
       "       <defs>\n",
       "        <path id=\"URWPalladioL-Roma-36\" d=\"M 2662 4287 \n",
       "L 2426 4396 \n",
       "C 1811 4193 1549 4066 1222 3788 \n",
       "C 563 3237 205 2463 205 1585 \n",
       "C 205 526 717 -128 1542 -128 \n",
       "C 2374 -128 2995 532 2995 1405 \n",
       "C 2995 2143 2554 2624 1875 2624 \n",
       "C 1555 2624 1363 2540 986 2239 \n",
       "C 915 2182 909 2175 838 2124 \n",
       "C 973 3275 1510 3895 2662 4237 \n",
       "L 2662 4287 \n",
       "z\n",
       "M 1632 2239 \n",
       "C 2118 2239 2445 1816 2445 1180 \n",
       "C 2445 513 2118 83 1626 83 \n",
       "C 1082 83 787 551 787 1411 \n",
       "C 787 1636 813 1758 883 1867 \n",
       "C 1024 2085 1325 2239 1632 2239 \n",
       "z\n",
       "\" transform=\"scale(0.015625)\"/>\n",
       "       </defs>\n",
       "       <use xlink:href=\"#URWPalladioL-Roma-36\" transform=\"scale(0.996264)\"/>\n",
       "      </g>\n",
       "     </g>\n",
       "    </g>\n",
       "    <g id=\"xtick_5\">\n",
       "     <g id=\"line2d_5\">\n",
       "      <g>\n",
       "       <use xlink:href=\"#mff18a1bb6e\" x=\"227.748303\" y=\"32.255111\" style=\"stroke: #000000; stroke-width: 0.8\"/>\n",
       "      </g>\n",
       "     </g>\n",
       "     <g id=\"text_5\">\n",
       "      <!-- $\\mathdefault{8}$ -->\n",
       "      <g transform=\"translate(225.257643 46.383348) scale(0.1 -0.1)\">\n",
       "       <defs>\n",
       "        <path id=\"URWPalladioL-Roma-38\" d=\"M 1075 2211 \n",
       "C 813 2089 704 2019 563 1884 \n",
       "C 320 1640 192 1352 192 1019 \n",
       "C 192 358 723 -128 1446 -128 \n",
       "C 2278 -128 2970 525 2970 1320 \n",
       "C 2970 1833 2733 2108 2003 2442 \n",
       "C 2586 2839 2790 3108 2790 3493 \n",
       "C 2790 4044 2336 4416 1658 4416 \n",
       "C 896 4416 339 3929 339 3256 \n",
       "C 339 2820 512 2576 1075 2211 \n",
       "z\n",
       "M 1818 1890 \n",
       "C 2221 1711 2464 1397 2464 1051 \n",
       "C 2464 512 2061 89 1542 89 \n",
       "C 998 89 646 474 646 1070 \n",
       "C 646 1538 832 1833 1306 2121 \n",
       "L 1818 1890 \n",
       "z\n",
       "M 1427 2711 \n",
       "C 1024 2910 819 3166 819 3486 \n",
       "C 819 3910 1126 4198 1581 4198 \n",
       "C 2048 4198 2355 3890 2355 3422 \n",
       "C 2355 3057 2195 2807 1779 2538 \n",
       "L 1427 2711 \n",
       "z\n",
       "\" transform=\"scale(0.015625)\"/>\n",
       "       </defs>\n",
       "       <use xlink:href=\"#URWPalladioL-Roma-38\" transform=\"scale(0.996264)\"/>\n",
       "      </g>\n",
       "     </g>\n",
       "    </g>\n",
       "    <g id=\"xtick_6\">\n",
       "     <g id=\"line2d_6\">\n",
       "      <g>\n",
       "       <use xlink:href=\"#mff18a1bb6e\" x=\"274.246242\" y=\"32.255111\" style=\"stroke: #000000; stroke-width: 0.8\"/>\n",
       "      </g>\n",
       "     </g>\n",
       "     <g id=\"text_6\">\n",
       "      <!-- $\\mathdefault{10}$ -->\n",
       "      <g transform=\"translate(269.264922 46.383348) scale(0.1 -0.1)\">\n",
       "       <defs>\n",
       "        <path id=\"URWPalladioL-Roma-31\" d=\"M 429 3571 \n",
       "L 493 3571 \n",
       "L 1318 3942 \n",
       "C 1325 3949 1331 3949 1338 3949 \n",
       "C 1376 3949 1389 3891 1389 3737 \n",
       "L 1389 633 \n",
       "C 1389 300 1318 230 973 211 \n",
       "L 614 192 \n",
       "L 614 0 \n",
       "C 1600 0 1600 0 1670 0 \n",
       "C 1754 0 1894 0 2112 -7 \n",
       "C 2189 6 2413 6 2675 0 \n",
       "L 2675 192 \n",
       "L 2342 211 \n",
       "C 1990 229 1926 299 1926 628 \n",
       "L 1926 4383 \n",
       "L 1837 4416 \n",
       "C 1421 4199 966 4009 384 3807 \n",
       "L 429 3571 \n",
       "z\n",
       "\" transform=\"scale(0.015625)\"/>\n",
       "       </defs>\n",
       "       <use xlink:href=\"#URWPalladioL-Roma-31\" transform=\"scale(0.996264)\"/>\n",
       "       <use xlink:href=\"#URWPalladioL-Roma-30\" transform=\"translate(49.8132 0) scale(0.996264)\"/>\n",
       "      </g>\n",
       "     </g>\n",
       "    </g>\n",
       "    <g id=\"xtick_7\">\n",
       "     <g id=\"line2d_7\">\n",
       "      <g>\n",
       "       <use xlink:href=\"#mff18a1bb6e\" x=\"320.744182\" y=\"32.255111\" style=\"stroke: #000000; stroke-width: 0.8\"/>\n",
       "      </g>\n",
       "     </g>\n",
       "     <g id=\"text_7\">\n",
       "      <!-- $\\mathdefault{12}$ -->\n",
       "      <g transform=\"translate(315.762862 46.383348) scale(0.1 -0.1)\">\n",
       "       <use xlink:href=\"#URWPalladioL-Roma-31\" transform=\"scale(0.996264)\"/>\n",
       "       <use xlink:href=\"#URWPalladioL-Roma-32\" transform=\"translate(49.8132 0) scale(0.996264)\"/>\n",
       "      </g>\n",
       "     </g>\n",
       "    </g>\n",
       "    <g id=\"xtick_8\">\n",
       "     <g id=\"line2d_8\">\n",
       "      <g>\n",
       "       <use xlink:href=\"#mff18a1bb6e\" x=\"367.242121\" y=\"32.255111\" style=\"stroke: #000000; stroke-width: 0.8\"/>\n",
       "      </g>\n",
       "     </g>\n",
       "     <g id=\"text_8\">\n",
       "      <!-- $\\mathdefault{14}$ -->\n",
       "      <g transform=\"translate(362.260801 46.383348) scale(0.1 -0.1)\">\n",
       "       <use xlink:href=\"#URWPalladioL-Roma-31\" transform=\"scale(0.996264)\"/>\n",
       "       <use xlink:href=\"#URWPalladioL-Roma-34\" transform=\"translate(49.8132 0) scale(0.996264)\"/>\n",
       "      </g>\n",
       "     </g>\n",
       "    </g>\n",
       "    <g id=\"text_9\">\n",
       "     <!-- $\\omega_{n}$ -->\n",
       "     <g transform=\"translate(210.228202 60.320996) scale(0.1 -0.1)\">\n",
       "      <defs>\n",
       "       <path id=\"PazoMath-Italic-77\" d=\"M 1440 3072 \n",
       "C 1274 2951 986 2741 819 2588 \n",
       "C 352 2163 96 1610 96 1127 \n",
       "C 96 758 115 440 326 192 \n",
       "C 467 25 614 -64 851 -64 \n",
       "C 1037 -64 1280 38 1459 140 \n",
       "C 1709 281 1837 409 2061 593 \n",
       "C 2125 198 2387 -64 2752 -64 \n",
       "C 3034 -64 3296 64 3603 351 \n",
       "C 3878 612 4160 1012 4346 1413 \n",
       "C 4506 1750 4614 2182 4614 2449 \n",
       "C 4614 2817 4454 3072 4218 3072 \n",
       "C 4128 3072 4064 3046 4006 2995 \n",
       "L 3686 2697 \n",
       "L 3757 2576 \n",
       "C 3814 2614 3866 2633 3930 2633 \n",
       "C 4109 2633 4198 2487 4198 2233 \n",
       "C 4198 1285 3584 256 3021 256 \n",
       "C 2707 256 2509 516 2509 936 \n",
       "C 2509 1031 2509 1114 2547 1279 \n",
       "L 2669 1768 \n",
       "C 2694 1876 2733 1965 2771 2073 \n",
       "L 2701 2162 \n",
       "L 2285 1997 \n",
       "L 2112 1222 \n",
       "C 2035 1006 1971 739 1786 580 \n",
       "C 1606 428 1421 326 1203 326 \n",
       "C 1018 326 858 409 755 536 \n",
       "C 621 682 582 911 582 1101 \n",
       "C 582 1686 736 2201 1286 2716 \n",
       "C 1357 2779 1478 2887 1542 2957 \n",
       "L 1440 3072 \n",
       "z\n",
       "\" transform=\"scale(0.015625)\"/>\n",
       "       <path id=\"URWPalladioL-Ital-6e\" d=\"M 154 2471 \n",
       "L 198 2343 \n",
       "L 403 2477 \n",
       "C 640 2624 659 2637 704 2637 \n",
       "C 774 2637 819 2573 819 2477 \n",
       "C 819 2152 557 919 294 6 \n",
       "L 339 -64 \n",
       "C 499 -20 646 19 787 44 \n",
       "C 909 849 1043 1264 1338 1705 \n",
       "C 1683 2241 2163 2637 2451 2637 \n",
       "C 2522 2637 2560 2579 2560 2484 \n",
       "C 2560 2369 2541 2235 2490 2030 \n",
       "L 2157 677 \n",
       "C 2099 440 2074 293 2074 191 \n",
       "C 2074 32 2144 -64 2266 -64 \n",
       "C 2432 -64 2662 70 3290 536 \n",
       "L 3226 651 \n",
       "L 3059 542 \n",
       "C 2874 421 2733 351 2669 351 \n",
       "C 2624 351 2586 408 2586 479 \n",
       "C 2586 511 2592 581 2598 606 \n",
       "L 3021 2369 \n",
       "C 3066 2554 3091 2733 3091 2841 \n",
       "C 3091 2988 3021 3072 2893 3072 \n",
       "C 2624 3072 2182 2829 1805 2477 \n",
       "C 1562 2254 1382 2037 1050 1571 \n",
       "L 1293 2599 \n",
       "C 1318 2714 1331 2790 1331 2860 \n",
       "C 1331 2995 1280 3072 1184 3072 \n",
       "C 1050 3072 800 2931 333 2599 \n",
       "L 154 2471 \n",
       "z\n",
       "\" transform=\"scale(0.015625)\"/>\n",
       "      </defs>\n",
       "      <use xlink:href=\"#PazoMath-Italic-77\" transform=\"scale(0.996264)\"/>\n",
       "      <use xlink:href=\"#URWPalladioL-Ital-6e\" transform=\"translate(75.814724 -14.943915) scale(0.757155)\"/>\n",
       "     </g>\n",
       "    </g>\n",
       "   </g>\n",
       "   <g id=\"matplotlib.axis_2\">\n",
       "    <g id=\"ytick_1\">\n",
       "     <g id=\"line2d_9\">\n",
       "      <defs>\n",
       "       <path id=\"m6f5e42afd2\" d=\"M 0 0 \n",
       "L -3.5 0 \n",
       "\" style=\"stroke: #000000; stroke-width: 0.8\"/>\n",
       "      </defs>\n",
       "      <g>\n",
       "       <use xlink:href=\"#m6f5e42afd2\" x=\"41.756545\" y=\"115.280037\" style=\"stroke: #000000; stroke-width: 0.8\"/>\n",
       "      </g>\n",
       "     </g>\n",
       "     <g id=\"text_10\">\n",
       "      <!-- $\\mathdefault{−2}$ -->\n",
       "      <g transform=\"translate(21.581054 118.844156) scale(0.1 -0.1)\">\n",
       "       <defs>\n",
       "        <path id=\"CMSY10-0\" d=\"M 4218 1472 \n",
       "C 4326 1472 4442 1472 4442 1600 \n",
       "C 4442 1728 4326 1728 4218 1728 \n",
       "L 755 1728 \n",
       "C 646 1728 531 1728 531 1600 \n",
       "C 531 1472 646 1472 755 1472 \n",
       "L 4218 1472 \n",
       "z\n",
       "\" transform=\"scale(0.015625)\"/>\n",
       "       </defs>\n",
       "       <use xlink:href=\"#CMSY10-0\" transform=\"scale(1.038107)\"/>\n",
       "       <use xlink:href=\"#URWPalladioL-Roma-32\" transform=\"translate(81.941696 0) scale(0.996264)\"/>\n",
       "      </g>\n",
       "     </g>\n",
       "    </g>\n",
       "    <g id=\"ytick_2\">\n",
       "     <g id=\"line2d_10\">\n",
       "      <g>\n",
       "       <use xlink:href=\"#m6f5e42afd2\" x=\"41.756545\" y=\"73.767574\" style=\"stroke: #000000; stroke-width: 0.8\"/>\n",
       "      </g>\n",
       "     </g>\n",
       "     <g id=\"text_11\">\n",
       "      <!-- $\\mathdefault{−1}$ -->\n",
       "      <g transform=\"translate(21.581054 77.331693) scale(0.1 -0.1)\">\n",
       "       <use xlink:href=\"#CMSY10-0\" transform=\"scale(1.038107)\"/>\n",
       "       <use xlink:href=\"#URWPalladioL-Roma-31\" transform=\"translate(81.941696 0) scale(0.996264)\"/>\n",
       "      </g>\n",
       "     </g>\n",
       "    </g>\n",
       "    <g id=\"ytick_3\">\n",
       "     <g id=\"line2d_11\">\n",
       "      <g>\n",
       "       <use xlink:href=\"#m6f5e42afd2\" x=\"41.756545\" y=\"32.255111\" style=\"stroke: #000000; stroke-width: 0.8\"/>\n",
       "      </g>\n",
       "     </g>\n",
       "     <g id=\"text_12\">\n",
       "      <!-- $\\mathdefault{0}$ -->\n",
       "      <g transform=\"translate(29.775225 35.819229) scale(0.1 -0.1)\">\n",
       "       <use xlink:href=\"#URWPalladioL-Roma-30\" transform=\"scale(0.996264)\"/>\n",
       "      </g>\n",
       "     </g>\n",
       "    </g>\n",
       "    <g id=\"text_13\">\n",
       "     <!-- $f{\\left(\\omega_{n} \\right)}$ -->\n",
       "     <g transform=\"translate(14.771643 86.055755) rotate(-90) scale(0.1 -0.1)\">\n",
       "      <defs>\n",
       "       <path id=\"URWPalladioL-Ital-66\" d=\"M 1830 2470 \n",
       "C 1856 2591 1901 2739 1939 2828 \n",
       "L 1914 2873 \n",
       "L 1869 2860 \n",
       "C 1715 2822 1645 2816 1331 2816 \n",
       "L 1229 2816 \n",
       "L 1363 3532 \n",
       "C 1466 4083 1645 4326 1939 4326 \n",
       "C 2131 4326 2304 4230 2400 4076 \n",
       "L 2464 4102 \n",
       "C 2496 4204 2560 4403 2611 4531 \n",
       "L 2643 4627 \n",
       "C 2541 4672 2342 4710 2195 4710 \n",
       "C 2125 4710 2022 4691 1971 4665 \n",
       "C 1818 4595 1293 4204 1146 4051 \n",
       "C 1005 3910 928 3718 858 3353 \n",
       "L 762 2848 \n",
       "C 499 2719 371 2668 211 2611 \n",
       "L 179 2470 \n",
       "L 698 2470 \n",
       "L 640 2112 \n",
       "C 448 864 211 -327 70 -768 \n",
       "C -45 -1146 -237 -1344 -467 -1344 \n",
       "C -615 -1344 -685 -1300 -800 -1159 \n",
       "L -890 -1184 \n",
       "C -915 -1332 -1005 -1639 -1037 -1697 \n",
       "C -979 -1729 -883 -1748 -813 -1748 \n",
       "C -551 -1748 -205 -1549 45 -1248 \n",
       "C 435 -788 576 -340 1043 1907 \n",
       "C 1062 1984 1114 2227 1165 2470 \n",
       "L 1830 2470 \n",
       "z\n",
       "\" transform=\"scale(0.015625)\"/>\n",
       "       <path id=\"CMR10-28\" d=\"M 2118 -1536 \n",
       "C 2118 -1517 2118 -1504 2010 -1396 \n",
       "C 1210 -589 1005 620 1005 1600 \n",
       "C 1005 2713 1248 3827 2035 4627 \n",
       "C 2118 4704 2118 4716 2118 4736 \n",
       "C 2118 4780 2093 4800 2054 4800 \n",
       "C 1990 4800 1414 4365 1037 3552 \n",
       "C 710 2848 634 2137 634 1600 \n",
       "C 634 1100 704 326 1056 -397 \n",
       "C 1440 -1184 1990 -1600 2054 -1600 \n",
       "C 2093 -1600 2118 -1581 2118 -1536 \n",
       "z\n",
       "\" transform=\"scale(0.015625)\"/>\n",
       "       <path id=\"CMR10-29\" d=\"M 1850 1600 \n",
       "C 1850 2099 1779 2873 1427 3597 \n",
       "C 1043 4384 493 4800 429 4800 \n",
       "C 390 4800 365 4774 365 4736 \n",
       "C 365 4716 365 4704 486 4589 \n",
       "C 1114 3955 1478 2937 1478 1600 \n",
       "C 1478 505 1242 -621 448 -1428 \n",
       "C 365 -1504 365 -1517 365 -1536 \n",
       "C 365 -1575 390 -1600 429 -1600 \n",
       "C 493 -1600 1069 -1165 1446 -352 \n",
       "C 1773 352 1850 1062 1850 1600 \n",
       "z\n",
       "\" transform=\"scale(0.015625)\"/>\n",
       "      </defs>\n",
       "      <use xlink:href=\"#URWPalladioL-Ital-66\" transform=\"scale(0.996264)\"/>\n",
       "      <use xlink:href=\"#CMR10-28\" transform=\"translate(43.636321 -1.04608) scale(1.038107)\"/>\n",
       "      <use xlink:href=\"#PazoMath-Italic-77\" transform=\"translate(86.376026 0) scale(0.996264)\"/>\n",
       "      <use xlink:href=\"#URWPalladioL-Ital-6e\" transform=\"translate(162.19075 -14.943915) scale(0.757155)\"/>\n",
       "      <use xlink:href=\"#CMR10-29\" transform=\"translate(206.9785 -1.04608) scale(1.038107)\"/>\n",
       "     </g>\n",
       "    </g>\n",
       "    <g id=\"text_14\">\n",
       "     <!-- $\\times\\mathdefault{10^{18}}\\mathdefault{}$ -->\n",
       "     <g transform=\"translate(24.319818 14.328237) scale(0.1 -0.1)\">\n",
       "      <defs>\n",
       "       <path id=\"CMSY10-2\" d=\"M 2490 1775 \n",
       "L 1210 3046 \n",
       "C 1133 3123 1120 3136 1069 3136 \n",
       "C 1005 3136 941 3078 941 3008 \n",
       "C 941 2963 954 2950 1024 2880 \n",
       "L 2304 1596 \n",
       "L 1024 313 \n",
       "C 954 243 941 230 941 185 \n",
       "C 941 115 1005 57 1069 57 \n",
       "C 1120 57 1133 70 1210 147 \n",
       "L 2483 1418 \n",
       "L 3808 95 \n",
       "C 3821 89 3866 57 3904 57 \n",
       "C 3981 57 4032 115 4032 185 \n",
       "C 4032 198 4032 223 4013 255 \n",
       "C 4006 268 2989 1271 2669 1596 \n",
       "L 3840 2765 \n",
       "C 3872 2803 3968 2886 4000 2925 \n",
       "C 4006 2937 4032 2963 4032 3008 \n",
       "C 4032 3078 3981 3136 3904 3136 \n",
       "C 3853 3136 3827 3110 3757 3040 \n",
       "L 2490 1775 \n",
       "z\n",
       "\" transform=\"scale(0.015625)\"/>\n",
       "      </defs>\n",
       "      <use xlink:href=\"#CMSY10-2\" transform=\"scale(1.038107)\"/>\n",
       "      <use xlink:href=\"#URWPalladioL-Roma-31\" transform=\"translate(81.941696 0) scale(0.996264)\"/>\n",
       "      <use xlink:href=\"#URWPalladioL-Roma-30\" transform=\"translate(131.754897 0) scale(0.996264)\"/>\n",
       "      <use xlink:href=\"#URWPalladioL-Roma-31\" transform=\"translate(181.568097 36.164371) scale(0.757155)\"/>\n",
       "      <use xlink:href=\"#URWPalladioL-Roma-38\" transform=\"translate(219.425856 36.164371) scale(0.757155)\"/>\n",
       "     </g>\n",
       "    </g>\n",
       "   </g>\n",
       "   <g id=\"line2d_12\">\n",
       "    <path d=\"M 41.756545 25.185953 \n",
       "L 47.427444 25.230232 \n",
       "L 53.806231 25.385189 \n",
       "L 58.500981 25.569118 \n",
       "L 64.136862 25.865907 \n",
       "L 68.896383 26.178735 \n",
       "L 73.53957 26.536182 \n",
       "L 79.37614 27.054282 \n",
       "L 84.995416 27.619752 \n",
       "L 89.219084 28.083761 \n",
       "L 94.104557 28.657662 \n",
       "L 98.877656 29.252065 \n",
       "L 103.887491 29.905969 \n",
       "L 108.653767 30.550798 \n",
       "L 112.921037 31.142012 \n",
       "L 116.591015 31.657485 \n",
       "L 121.038347 32.286476 \n",
       "L 125.370303 32.898976 \n",
       "L 130.462533 33.611945 \n",
       "L 135.728146 34.332862 \n",
       "L 141.81693 35.133824 \n",
       "L 147.252957 35.80824 \n",
       "L 152.436206 36.40594 \n",
       "L 157.920117 36.980447 \n",
       "L 164.321075 37.562882 \n",
       "L 170.166124 37.999794 \n",
       "L 176.087337 38.338812 \n",
       "L 181.021077 38.534455 \n",
       "L 186.870145 38.656588 \n",
       "L 189.31469 38.670652 \n",
       "L 191.81165 38.661785 \n",
       "L 197.051621 38.564968 \n",
       "L 202.974291 38.324819 \n",
       "L 208.229246 37.993479 \n",
       "L 214.672329 37.434862 \n",
       "L 220.962063 36.729928 \n",
       "L 228.72088 35.652115 \n",
       "L 235.226071 34.584309 \n",
       "L 241.071933 33.51146 \n",
       "L 246.665974 32.399624 \n",
       "L 252.209544 31.232901 \n",
       "L 257.636751 30.047618 \n",
       "L 263.291329 28.791722 \n",
       "L 268.043729 27.740816 \n",
       "L 273.163943 26.637462 \n",
       "L 278.832182 25.484089 \n",
       "L 285.245057 24.317834 \n",
       "L 291.012278 23.450177 \n",
       "L 296.492796 22.838588 \n",
       "L 301.749761 22.498217 \n",
       "L 304.25406 22.436272 \n",
       "L 304.84599 22.432049 \n",
       "L 305.190948 22.431499 \n",
       "L 305.54234 22.432407 \n",
       "L 306.92864 22.450772 \n",
       "L 311.468243 22.687753 \n",
       "L 317.81809 23.535705 \n",
       "L 323.245545 24.819419 \n",
       "L 329.222 26.931712 \n",
       "L 335.347033 29.976663 \n",
       "L 341.293892 33.915575 \n",
       "L 348.34524 40.031853 \n",
       "L 353.439219 45.558431 \n",
       "L 358.598572 52.219667 \n",
       "L 363.861049 60.232591 \n",
       "L 369.657225 70.632851 \n",
       "L 374.283288 80.234321 \n",
       "L 379.608452 92.852634 \n",
       "L 384.903936 107.210726 \n",
       "L 390.491091 124.496738 \n",
       "\" clip-path=\"url(#p89d191a08e)\" style=\"fill: none; stroke: #1f77b4; stroke-width: 1.5; stroke-linecap: square\"/>\n",
       "   </g>\n",
       "   <g id=\"patch_3\">\n",
       "    <path d=\"M 41.756545 129.6 \n",
       "L 41.756545 17.328237 \n",
       "\" style=\"fill: none; stroke: #000000; stroke-width: 0.8; stroke-linejoin: miter; stroke-linecap: square\"/>\n",
       "   </g>\n",
       "   <g id=\"patch_4\">\n",
       "    <path d=\"M 407.927818 129.6 \n",
       "L 407.927818 17.328237 \n",
       "\" style=\"fill: none\"/>\n",
       "   </g>\n",
       "   <g id=\"patch_5\">\n",
       "    <path d=\"M 24.319818 32.255111 \n",
       "L 407.927818 32.255111 \n",
       "\" style=\"fill: none; stroke: #000000; stroke-width: 0.8; stroke-linejoin: miter; stroke-linecap: square\"/>\n",
       "   </g>\n",
       "   <g id=\"patch_6\">\n",
       "    <path d=\"M 24.319818 17.328237 \n",
       "L 407.927818 17.328237 \n",
       "\" style=\"fill: none\"/>\n",
       "   </g>\n",
       "  </g>\n",
       " </g>\n",
       " <defs>\n",
       "  <clipPath id=\"p89d191a08e\">\n",
       "   <rect x=\"24.319818\" y=\"17.328237\" width=\"383.608\" height=\"112.271763\"/>\n",
       "  </clipPath>\n",
       " </defs>\n",
       "</svg>\n"
      ],
      "text/plain": [
       "<Figure size 590x200 with 1 Axes>"
      ]
     },
     "metadata": {},
     "output_type": "display_data"
    }
   ],
   "source": [
    "#| label: fig-loesung_eigenkreisfrequenzen\n",
    "#| fig-cap: Nullstellen der @eq-eigenkreisfreqs\n",
    "          \n",
    "sp.plot(eq_omega.subs(params_plot).evalf(5).simplify(), (omega_n, 0,15),size=(5.9,2), show=False).show()"
   ]
  },
  {
   "cell_type": "markdown",
   "metadata": {},
   "source": [
    "#### Eigenvektoren $\\phi$\n",
    "Durch das Einsetzen der bestimmten Eigenkreisfrequenzen lassen sich die Eigenvektoren bestimmen. \n",
    "Die Einträge des Eigenvektors sind voneinander abhängig und lassen sich dem entsprechen beliebig definieren. Grundsätzlich wird der maximale Eigenwert zu $1$ gesetzt.\n",
    "\n",
    "$$\\mathbf{K} - \\omega_n^2 \\mathbf{M} \\phi_n= 0$$"
   ]
  },
  {
   "cell_type": "code",
   "execution_count": 10,
   "metadata": {},
   "outputs": [
    {
     "ename": "NameError",
     "evalue": "name 'phi_1' is not defined",
     "output_type": "error",
     "traceback": [
      "\u001b[1;31m---------------------------------------------------------------------------\u001b[0m",
      "\u001b[1;31mNameError\u001b[0m                                 Traceback (most recent call last)",
      "Cell \u001b[1;32mIn[10], line 1\u001b[0m\n\u001b[1;32m----> 1\u001b[0m sp\u001b[39m.\u001b[39msolve(\u001b[39mlist\u001b[39m(((K\u001b[39m-\u001b[39m(omega_1\u001b[39m*\u001b[39munit\u001b[39m.\u001b[39msecond)\u001b[39m*\u001b[39m\u001b[39m*\u001b[39m\u001b[39m2\u001b[39m \u001b[39m*\u001b[39mM)\u001b[39m*\u001b[39mphi_1)\u001b[39m.\u001b[39msubs(params_plot)))\n",
      "\u001b[1;31mNameError\u001b[0m: name 'phi_1' is not defined"
     ]
    }
   ],
   "source": [
    "sp.solve(list(((K-(omega_1*unit.second)**2 *M)*phi_1).subs(params_plot)))"
   ]
  },
  {
   "cell_type": "code",
   "execution_count": null,
   "metadata": {},
   "outputs": [
    {
     "data": {
      "text/latex": [
       "\\begin{equation*}\\left[ 0.0, \\  0.0, \\  0.0\\right]\\end{equation*}"
      ],
      "text/plain": [
       "[0.0, 0.0, 0.0]"
      ]
     },
     "execution_count": 14,
     "metadata": {},
     "output_type": "execute_result"
    }
   ],
   "source": [
    "phi_11, phi_21, phi_31 = sp.symbols('phi_11, phi_21, phi_31')\n",
    "params['phi_11'] = 1\n",
    "phi_1 = sp.Matrix([[phi_11], [phi_21], [phi_31]])\n",
    "\n",
    "phi_solve = list(sp.solve((K-omega_1**2 *M)*phi_1))\n",
    "\n",
    "\n",
    "phi_solve"
   ]
  },
  {
   "cell_type": "code",
   "execution_count": null,
   "metadata": {},
   "outputs": [
    {
     "data": {
      "text/latex": [
       "\\begin{equation*}\\left\\{ \\phi_{11} : 0.0, \\  \\phi_{21} : 0.0, \\  \\phi_{31} : 0.0\\right\\}\\end{equation*}"
      ],
      "text/plain": [
       "{φ₁₁: 0.0, φ₂₁: 0.0, φ₃₁: 0.0}"
      ]
     },
     "execution_count": 15,
     "metadata": {},
     "output_type": "execute_result"
    }
   ],
   "source": [
    "sp.solve(list(((K-omega_1**2*M)*phi_1).subs(params_plot)))"
   ]
  },
  {
   "cell_type": "code",
   "execution_count": null,
   "metadata": {},
   "outputs": [
    {
     "data": {
      "text/latex": [
       "\\begin{equation*}\\text{False}\\end{equation*}"
      ],
      "text/plain": [
       "False"
      ]
     },
     "metadata": {},
     "output_type": "display_data"
    }
   ],
   "source": [
    "\n",
    "\n",
    "params['phi_21'] = phi_21.subs(params).simplify() \n",
    "params['phi_11'] = 1/phi_21.subs(params).simplify() \n",
    "params['phi_21'] = 1\n",
    "\n",
    "\n",
    "render.eq_display(sp.MatrixSymbol('phi_1', 2,1),sp.simplify(phi_1.subs(params)).evalf(3))"
   ]
  },
  {
   "cell_type": "code",
   "execution_count": null,
   "metadata": {},
   "outputs": [
    {
     "ename": "ShapeError",
     "evalue": "Matrix size mismatch: (3, 3) * (2, 1).",
     "output_type": "error",
     "traceback": [
      "\u001b[1;31m---------------------------------------------------------------------------\u001b[0m",
      "\u001b[1;31mShapeError\u001b[0m                                Traceback (most recent call last)",
      "Cell \u001b[1;32mIn[13], line 6\u001b[0m\n\u001b[0;32m      2\u001b[0m params[\u001b[39m'\u001b[39m\u001b[39mphi_12\u001b[39m\u001b[39m'\u001b[39m] \u001b[39m=\u001b[39m \u001b[39m1\u001b[39m\n\u001b[0;32m      4\u001b[0m phi_2 \u001b[39m=\u001b[39m sp\u001b[39m.\u001b[39mMatrix([[phi_12], [phi_22]])\n\u001b[1;32m----> 6\u001b[0m phi_22 \u001b[39m=\u001b[39m \u001b[39mlist\u001b[39m(sp\u001b[39m.\u001b[39msolve((K\u001b[39m-\u001b[39momega_2\u001b[39m*\u001b[39m\u001b[39m*\u001b[39m\u001b[39m2\u001b[39m \u001b[39m*\u001b[39mM)\u001b[39m*\u001b[39mphi_2, phi_22)\u001b[39m.\u001b[39mvalues())[\u001b[39m0\u001b[39m]\n\u001b[0;32m      8\u001b[0m params[\u001b[39m'\u001b[39m\u001b[39mphi_22\u001b[39m\u001b[39m'\u001b[39m] \u001b[39m=\u001b[39m phi_22\u001b[39m.\u001b[39msubs(params)\u001b[39m.\u001b[39msimplify() \n\u001b[0;32m     13\u001b[0m render\u001b[39m.\u001b[39meq_display(sp\u001b[39m.\u001b[39mMatrixSymbol(\u001b[39m'\u001b[39m\u001b[39mphi_2\u001b[39m\u001b[39m'\u001b[39m, \u001b[39m2\u001b[39m,\u001b[39m1\u001b[39m),sp\u001b[39m.\u001b[39msimplify(phi_2\u001b[39m.\u001b[39msubs(params))\u001b[39m.\u001b[39mevalf(\u001b[39m3\u001b[39m))\n",
      "File \u001b[1;32mc:\\Users\\Pascal Gitz\\anaconda3\\envs\\calcs\\Lib\\site-packages\\sympy\\core\\decorators.py:106\u001b[0m, in \u001b[0;36mcall_highest_priority.<locals>.priority_decorator.<locals>.binary_op_wrapper\u001b[1;34m(self, other)\u001b[0m\n\u001b[0;32m    104\u001b[0m         \u001b[39mif\u001b[39;00m f \u001b[39mis\u001b[39;00m \u001b[39mnot\u001b[39;00m \u001b[39mNone\u001b[39;00m:\n\u001b[0;32m    105\u001b[0m             \u001b[39mreturn\u001b[39;00m f(\u001b[39mself\u001b[39m)\n\u001b[1;32m--> 106\u001b[0m \u001b[39mreturn\u001b[39;00m func(\u001b[39mself\u001b[39m, other)\n",
      "File \u001b[1;32mc:\\Users\\Pascal Gitz\\anaconda3\\envs\\calcs\\Lib\\site-packages\\sympy\\matrices\\common.py:2771\u001b[0m, in \u001b[0;36mMatrixArithmetic.__mul__\u001b[1;34m(self, other)\u001b[0m\n\u001b[0;32m   2742\u001b[0m \u001b[39m@call_highest_priority\u001b[39m(\u001b[39m'\u001b[39m\u001b[39m__rmul__\u001b[39m\u001b[39m'\u001b[39m)\n\u001b[0;32m   2743\u001b[0m \u001b[39mdef\u001b[39;00m \u001b[39m__mul__\u001b[39m(\u001b[39mself\u001b[39m, other):\n\u001b[0;32m   2744\u001b[0m \u001b[39m    \u001b[39m\u001b[39m\"\"\"Return self*other where other is either a scalar or a matrix\u001b[39;00m\n\u001b[0;32m   2745\u001b[0m \u001b[39m    of compatible dimensions.\u001b[39;00m\n\u001b[0;32m   2746\u001b[0m \n\u001b[1;32m   (...)\u001b[0m\n\u001b[0;32m   2768\u001b[0m \u001b[39m    matrix_multiply_elementwise\u001b[39;00m\n\u001b[0;32m   2769\u001b[0m \u001b[39m    \"\"\"\u001b[39;00m\n\u001b[1;32m-> 2771\u001b[0m     \u001b[39mreturn\u001b[39;00m \u001b[39mself\u001b[39m\u001b[39m.\u001b[39mmultiply(other)\n",
      "File \u001b[1;32mc:\\Users\\Pascal Gitz\\anaconda3\\envs\\calcs\\Lib\\site-packages\\sympy\\matrices\\common.py:2793\u001b[0m, in \u001b[0;36mMatrixArithmetic.multiply\u001b[1;34m(self, other, dotprodsimp)\u001b[0m\n\u001b[0;32m   2789\u001b[0m \u001b[39mif\u001b[39;00m (\u001b[39mhasattr\u001b[39m(other, \u001b[39m'\u001b[39m\u001b[39mshape\u001b[39m\u001b[39m'\u001b[39m) \u001b[39mand\u001b[39;00m \u001b[39mlen\u001b[39m(other\u001b[39m.\u001b[39mshape) \u001b[39m==\u001b[39m \u001b[39m2\u001b[39m \u001b[39mand\u001b[39;00m\n\u001b[0;32m   2790\u001b[0m     (\u001b[39mgetattr\u001b[39m(other, \u001b[39m'\u001b[39m\u001b[39mis_Matrix\u001b[39m\u001b[39m'\u001b[39m, \u001b[39mTrue\u001b[39;00m) \u001b[39mor\u001b[39;00m\n\u001b[0;32m   2791\u001b[0m      \u001b[39mgetattr\u001b[39m(other, \u001b[39m'\u001b[39m\u001b[39mis_MatrixLike\u001b[39m\u001b[39m'\u001b[39m, \u001b[39mTrue\u001b[39;00m))):\n\u001b[0;32m   2792\u001b[0m     \u001b[39mif\u001b[39;00m \u001b[39mself\u001b[39m\u001b[39m.\u001b[39mshape[\u001b[39m1\u001b[39m] \u001b[39m!=\u001b[39m other\u001b[39m.\u001b[39mshape[\u001b[39m0\u001b[39m]:\n\u001b[1;32m-> 2793\u001b[0m         \u001b[39mraise\u001b[39;00m ShapeError(\u001b[39m\"\u001b[39m\u001b[39mMatrix size mismatch: \u001b[39m\u001b[39m%s\u001b[39;00m\u001b[39m * \u001b[39m\u001b[39m%s\u001b[39;00m\u001b[39m.\u001b[39m\u001b[39m\"\u001b[39m \u001b[39m%\u001b[39m (\n\u001b[0;32m   2794\u001b[0m             \u001b[39mself\u001b[39m\u001b[39m.\u001b[39mshape, other\u001b[39m.\u001b[39mshape))\n\u001b[0;32m   2796\u001b[0m \u001b[39m# honest SymPy matrices defer to their class's routine\u001b[39;00m\n\u001b[0;32m   2797\u001b[0m \u001b[39mif\u001b[39;00m \u001b[39mgetattr\u001b[39m(other, \u001b[39m'\u001b[39m\u001b[39mis_Matrix\u001b[39m\u001b[39m'\u001b[39m, \u001b[39mFalse\u001b[39;00m):\n",
      "\u001b[1;31mShapeError\u001b[0m: Matrix size mismatch: (3, 3) * (2, 1)."
     ]
    }
   ],
   "source": [
    "phi_12, phi_22 = sp.symbols('phi_12, phi_22')\n",
    "params['phi_12'] = 1\n",
    "\n",
    "phi_2 = sp.Matrix([[phi_12], [phi_22]])\n",
    "\n",
    "phi_22 = list(sp.solve((K-omega_2**2 *M)*phi_2, phi_22).values())[0]\n",
    "\n",
    "params['phi_22'] = phi_22.subs(params).simplify() \n",
    "\n",
    "\n",
    "\n",
    "\n",
    "render.eq_display(sp.MatrixSymbol('phi_2', 2,1),sp.simplify(phi_2.subs(params)).evalf(3))"
   ]
  }
 ],
 "metadata": {
  "kernelspec": {
   "display_name": "calcs",
   "language": "python",
   "name": "python3"
  },
  "language_info": {
   "codemirror_mode": {
    "name": "ipython",
    "version": 3
   },
   "file_extension": ".py",
   "mimetype": "text/x-python",
   "name": "python",
   "nbconvert_exporter": "python",
   "pygments_lexer": "ipython3",
   "version": "3.11.3"
  },
  "orig_nbformat": 4
 },
 "nbformat": 4,
 "nbformat_minor": 2
}
