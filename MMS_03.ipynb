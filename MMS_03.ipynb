{
 "cells": [
  {
   "attachments": {},
   "cell_type": "markdown",
   "metadata": {},
   "source": [
    "# Stationäre Antwort für Balken ohne Tilger\n",
    "\n",
    "[Aufgabenstellung](calculations/MMS_%C3%9Cbung%203_Tilger.pdf)\n",
    "\n",
    "Ohne den Tilger ist das System lediglich ein Einmassenschwinger.\n",
    "\n",
    "![Statisches System des Balkens mit Tilger](pictures/mms3system.jpg){#fig-system}"
   ]
  },
  {
   "cell_type": "code",
   "execution_count": 1,
   "metadata": {},
   "outputs": [],
   "source": [
    "import sympy as sp \n",
    "from sympycalcs import render, convert\n",
    "import sympy.physics.units as unit\n",
    "\n",
    "import matplotlib.pyplot as plt"
   ]
  },
  {
   "attachments": {},
   "cell_type": "markdown",
   "metadata": {},
   "source": [
    "## Parameter der Aufgabenstellung"
   ]
  },
  {
   "cell_type": "code",
   "execution_count": 2,
   "metadata": {},
   "outputs": [
    {
     "data": {
      "text/latex": [
       "$\\displaystyle E = \\frac{200000 \\text{N}}{\\text{mm}^{2}}$"
      ],
      "text/plain": [
       "Eq(E, 200000*newton/millimeter**2)"
      ]
     },
     "metadata": {},
     "output_type": "display_data"
    },
    {
     "data": {
      "text/latex": [
       "$\\displaystyle I = 200000000 \\text{mm}^{4}$"
      ],
      "text/plain": [
       "Eq(I, 200000000*millimeter**4)"
      ]
     },
     "metadata": {},
     "output_type": "display_data"
    },
    {
     "data": {
      "text/latex": [
       "$\\displaystyle m_{H} = \\frac{2000 \\text{N} \\text{s}^{2}}{\\text{m}}$"
      ],
      "text/plain": [
       "Eq(m_H, 2000*newton*second**2/meter)"
      ]
     },
     "metadata": {},
     "output_type": "display_data"
    },
    {
     "data": {
      "text/latex": [
       "$\\displaystyle l = 5 \\text{m}$"
      ],
      "text/plain": [
       "Eq(l, 5*meter)"
      ]
     },
     "metadata": {},
     "output_type": "display_data"
    },
    {
     "data": {
      "text/latex": [
       "$\\displaystyle F_{0} = 800.0 \\text{N}$"
      ],
      "text/plain": [
       "Eq(F_0, 800.0*newton)"
      ]
     },
     "metadata": {},
     "output_type": "display_data"
    },
    {
     "data": {
      "text/latex": [
       "$\\displaystyle \\omega = \\frac{12.6}{\\text{s}}$"
      ],
      "text/plain": [
       "Eq(omega, 12.6/second)"
      ]
     },
     "metadata": {},
     "output_type": "display_data"
    },
    {
     "data": {
      "text/latex": [
       "$\\displaystyle \\phi_{11} = 1$"
      ],
      "text/plain": [
       "Eq(phi_11, 1)"
      ]
     },
     "metadata": {},
     "output_type": "display_data"
    },
    {
     "data": {
      "text/latex": [
       "$\\displaystyle \\phi_{12} = 1$"
      ],
      "text/plain": [
       "Eq(phi_12, 1)"
      ]
     },
     "metadata": {},
     "output_type": "display_data"
    },
    {
     "data": {
      "text/latex": [
       "$\\displaystyle \\zeta = 0.0$"
      ],
      "text/plain": [
       "Eq(zeta, 0.0)"
      ]
     },
     "metadata": {},
     "output_type": "display_data"
    }
   ],
   "source": [
    "params = {'E': 200*10**3 *unit.N/unit.mm**2,\n",
    "          'I':2*10**8*unit.mm**4,\n",
    "          'm_H':2000*unit.N*unit.second**2/unit.m,\n",
    "          'l':5*unit.m,\n",
    "          'F_0':0.8*10**3*unit.N,\n",
    "          'omega':12.6/unit.second,\n",
    "          'phi_11':1,\n",
    "          'phi_12':1,\n",
    "          'zeta':0.0         \n",
    "          }\n",
    "\n",
    "render.dict_render(params)"
   ]
  },
  {
   "cell_type": "code",
   "execution_count": 3,
   "metadata": {},
   "outputs": [],
   "source": [
    "E, I, m_H, zeta,  l, F_0, omega, delta_11, delta_12 = sp.symbols('E, I, m_H, zeta, l, F_0, omega, delta_11, delta_12')\n",
    "\n",
    "t = sp.symbols('t')"
   ]
  },
  {
   "cell_type": "code",
   "execution_count": 4,
   "metadata": {},
   "outputs": [
    {
     "data": {
      "text/latex": [
       "$\\displaystyle F{\\left(t \\right)} = F_{0} \\sin{\\left(\\omega t \\right)}$"
      ],
      "text/plain": [
       "Eq(F(t), F_0*sin(omega*t))"
      ]
     },
     "metadata": {},
     "output_type": "display_data"
    },
    {
     "data": {
      "text/latex": [
       "$\\displaystyle F{\\left(t \\right)} = 800.0 \\sin{\\left(\\frac{12.6 t}{\\text{s}} \\right)} \\text{N}$"
      ],
      "text/plain": [
       "Eq(F(t), 800.0*newton*sin(12.6*t/second))"
      ]
     },
     "metadata": {},
     "output_type": "display_data"
    }
   ],
   "source": [
    "F_t = F_0 * sp.sin(omega*t)\n",
    "\n",
    "render.eq_display('F(t)', F_t,\n",
    "                  'F(t)', F_t.subs(params))"
   ]
  },
  {
   "attachments": {},
   "cell_type": "markdown",
   "metadata": {},
   "source": [
    "## Steifigkeit $k$"
   ]
  },
  {
   "cell_type": "code",
   "execution_count": 5,
   "metadata": {},
   "outputs": [
    {
     "data": {
      "text/latex": [
       "$\\displaystyle k_{H} = \\frac{6 E I}{l^{3}}$"
      ],
      "text/plain": [
       "Eq(k_H, 6*E*I/l**3)"
      ]
     },
     "metadata": {},
     "output_type": "display_data"
    },
    {
     "data": {
      "text/latex": [
       "$\\displaystyle k_{H} = \\frac{1.92 \\cdot 10^{6} \\text{N}}{\\text{m}}$"
      ],
      "text/plain": [
       "Eq(k_H, 1.92e+6*newton/meter)"
      ]
     },
     "metadata": {},
     "output_type": "display_data"
    }
   ],
   "source": [
    "k_H = 48 * (E*I) / (2*l)**3\n",
    "\n",
    "\n",
    "render.eq_display('k_H', k_H,\n",
    "                  'k_H',k_H.subs(params).simplify().evalf(3))\n"
   ]
  },
  {
   "attachments": {},
   "cell_type": "markdown",
   "metadata": {},
   "source": [
    "## Eigenkreisfrequenz $\\omega$"
   ]
  },
  {
   "cell_type": "code",
   "execution_count": 6,
   "metadata": {},
   "outputs": [
    {
     "data": {
      "text/latex": [
       "$\\displaystyle \\omega_{n} = \\sqrt{6} \\sqrt{\\frac{E I}{l^{3} m_{H}}}$"
      ],
      "text/plain": [
       "Eq(omega_n, sqrt(6)*sqrt(E*I/(l**3*m_H)))"
      ]
     },
     "metadata": {},
     "output_type": "display_data"
    },
    {
     "data": {
      "text/latex": [
       "$\\displaystyle \\omega_{n} = \\frac{31.0}{\\text{s}}$"
      ],
      "text/plain": [
       "Eq(omega_n, 31.0/second)"
      ]
     },
     "metadata": {},
     "output_type": "display_data"
    }
   ],
   "source": [
    "omega_n = sp.sqrt(k_H / m_H)\n",
    "\n",
    "render.eq_display('omega_n', omega_n,\n",
    "                  'omega_n', omega_n.subs(params).simplify().evalf(3))"
   ]
  },
  {
   "attachments": {},
   "cell_type": "markdown",
   "metadata": {},
   "source": [
    "## Vergrösserungsfaktor $V(\\omega)$"
   ]
  },
  {
   "cell_type": "code",
   "execution_count": 7,
   "metadata": {},
   "outputs": [
    {
     "data": {
      "text/latex": [
       "$\\displaystyle V{\\left(\\omega \\right)} = \\frac{1}{\\sqrt{\\frac{4 \\omega^{2} \\zeta_{}^{2}}{\\omega_{n}^{2}} + \\left(- \\frac{\\omega^{2}}{\\omega_{n}^{2}} + 1\\right)^{2}}}$"
      ],
      "text/plain": [
       "Eq(V(omega), 1/sqrt(4*omega**2*zeta_**2/omega_n**2 + (-omega**2/omega_n**2 + 1)**2))"
      ]
     },
     "metadata": {},
     "output_type": "display_data"
    },
    {
     "data": {
      "text/latex": [
       "$\\displaystyle V{\\left(\\omega \\right)} = 1.2$"
      ],
      "text/plain": [
       "Eq(V(omega), 1.2)"
      ]
     },
     "metadata": {},
     "output_type": "display_data"
    }
   ],
   "source": [
    "V_omega = 1/(sp.sqrt((1-(omega/omega_n)**2)**2 + (2*zeta*(omega/omega_n))**2))\n",
    "\n",
    "render.eq_display('V(omega)', '1/(sqrt((1-(omega/omega_n)**2)**2 + (2*zeta_*(omega/omega_n))**2))',\n",
    "                  'V(omega)', V_omega.subs(params).simplify().evalf(3))"
   ]
  },
  {
   "attachments": {},
   "cell_type": "markdown",
   "metadata": {},
   "source": [
    "## Stationäre Lösung\n",
    "\n",
    "### Statische Deformation"
   ]
  },
  {
   "cell_type": "code",
   "execution_count": 8,
   "metadata": {},
   "outputs": [
    {
     "data": {
      "text/latex": [
       "$\\displaystyle u_{0} = \\frac{F_{0}}{k_{H}}$"
      ],
      "text/plain": [
       "Eq(u_0, F_0/k_H)"
      ]
     },
     "metadata": {},
     "output_type": "display_data"
    },
    {
     "data": {
      "text/latex": [
       "$\\displaystyle u_{0} = \\frac{F_{0} l^{3}}{6 E I}$"
      ],
      "text/plain": [
       "Eq(u_0, F_0*l**3/(6*E*I))"
      ]
     },
     "metadata": {},
     "output_type": "display_data"
    },
    {
     "data": {
      "text/latex": [
       "$\\displaystyle u_{0} = 0.4167 \\text{mm}$"
      ],
      "text/plain": [
       "Eq(u_0, 0.4167*millimeter)"
      ]
     },
     "metadata": {},
     "output_type": "display_data"
    }
   ],
   "source": [
    "u_0 = F_0 / k_H\n",
    "\n",
    "render.eq_display('u_0', 'F_0 / k_H',\n",
    "                  'u_0', u_0,\n",
    "                  'u_0', unit.convert_to(u_0.subs(params).simplify().evalf(4), unit.mm))"
   ]
  },
  {
   "attachments": {},
   "cell_type": "markdown",
   "metadata": {},
   "source": [
    "### Stationäre maximale Deformation"
   ]
  },
  {
   "cell_type": "code",
   "execution_count": 9,
   "metadata": {},
   "outputs": [
    {
     "data": {
      "text/latex": [
       "$\\displaystyle u_{stat} = u_{0} V{\\left(\\omega \\right)}$"
      ],
      "text/plain": [
       "Eq(u_stat, u_0*V(omega))"
      ]
     },
     "metadata": {},
     "output_type": "display_data"
    },
    {
     "data": {
      "text/latex": [
       "$\\displaystyle u_{stat} = \\frac{F_{0} l^{3}}{6 E I \\sqrt{\\left(1 - \\frac{l^{3} m_{H} \\omega^{2}}{6 E I}\\right)^{2} + \\frac{2 l^{3} m_{H} \\omega^{2} \\zeta^{2}}{3 E I}}}$"
      ],
      "text/plain": [
       "Eq(u_stat, F_0*l**3/(6*E*I*sqrt((1 - l**3*m_H*omega**2/(6*E*I))**2 + 2*l**3*m_H*omega**2*zeta**2/(3*E*I))))"
      ]
     },
     "metadata": {},
     "output_type": "display_data"
    },
    {
     "data": {
      "text/latex": [
       "$\\displaystyle u_{stat} = 0.499 \\text{mm}$"
      ],
      "text/plain": [
       "Eq(u_stat, 0.499*millimeter)"
      ]
     },
     "metadata": {},
     "output_type": "display_data"
    }
   ],
   "source": [
    "u_stat = u_0 * V_omega\n",
    "\n",
    "render.eq_display('u_stat', 'u_0 * V(omega)',\n",
    "                  'u_stat', u_stat,\n",
    "                  'u_stat', unit.convert_to(u_stat.subs(params).simplify().evalf(3), unit.mm))"
   ]
  },
  {
   "attachments": {},
   "cell_type": "markdown",
   "metadata": {},
   "source": [
    "### Stationäre maximale Beschleunigung"
   ]
  },
  {
   "cell_type": "code",
   "execution_count": 10,
   "metadata": {},
   "outputs": [
    {
     "data": {
      "text/latex": [
       "$\\displaystyle V_{a}{\\left(\\omega \\right)} = 0.198$"
      ],
      "text/plain": [
       "Eq(V_a(omega), 0.198)"
      ]
     },
     "metadata": {},
     "output_type": "display_data"
    },
    {
     "data": {
      "text/latex": [
       "$\\displaystyle \\frac{d^{2}}{d t^{2}} u_{stat} = \\frac{0.0793 \\text{m}}{\\text{s}^{2}}$"
      ],
      "text/plain": [
       "Eq(Derivative(u_stat, (t, 2)), 0.0793*meter/second**2)"
      ]
     },
     "metadata": {},
     "output_type": "display_data"
    }
   ],
   "source": [
    "V_a_omega = omega**2 / omega_n**2 * V_omega\n",
    "\n",
    "u_2_stat =  F_0 / m_H * V_a_omega\n",
    "\n",
    "render.eq_display('V_a(omega)', V_a_omega.subs(params).simplify().evalf(3),\n",
    "                  'Derivative(u_stat,t,2)', u_2_stat.subs(params).simplify().evalf(3))"
   ]
  }
 ],
 "metadata": {
  "kernelspec": {
   "display_name": "engineering",
   "language": "python",
   "name": "python3"
  },
  "language_info": {
   "codemirror_mode": {
    "name": "ipython",
    "version": 3
   },
   "file_extension": ".py",
   "mimetype": "text/x-python",
   "name": "python",
   "nbconvert_exporter": "python",
   "pygments_lexer": "ipython3",
   "version": "3.10.10"
  },
  "orig_nbformat": 4
 },
 "nbformat": 4,
 "nbformat_minor": 2
}
