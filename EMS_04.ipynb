{
 "cells": [
  {
   "attachments": {},
   "cell_type": "markdown",
   "metadata": {},
   "source": [
    "# Gesamtantwort ohne Dämpfung\n",
    "[Aufgabenstellung](calculations/%C3%9Cbungen_3-5_EMS.pdf)\n",
    "\n",
    "## Versteifter Rahmen mit angehängter Werkzeugmaschine\n",
    "\n",
    "![Statisches System](pictures/ems_4.jpg){#fig-system_maschine}"
   ]
  },
  {
   "cell_type": "code",
   "execution_count": 1,
   "metadata": {},
   "outputs": [],
   "source": [
    "import sympy as sp \n",
    "from sympycalcs import render, convert\n",
    "import sympy.physics.units as unit\n",
    "\n",
    "import matplotlib.pyplot as plt"
   ]
  },
  {
   "attachments": {},
   "cell_type": "markdown",
   "metadata": {},
   "source": [
    "## Parameter der Aufgabenstellung\n"
   ]
  },
  {
   "cell_type": "code",
   "execution_count": 2,
   "metadata": {},
   "outputs": [
    {
     "data": {
      "text/latex": [
       "$\\displaystyle m_{tot} = \\frac{5000 \\text{N} \\text{s}^{2}}{\\text{m}}$"
      ],
      "text/plain": [
       "Eq(m_tot, 5000*newton*second**2/meter)"
      ]
     },
     "metadata": {},
     "output_type": "display_data"
    },
    {
     "data": {
      "text/latex": [
       "$\\displaystyle E = \\frac{210000 \\text{N}}{\\text{mm}^{2}}$"
      ],
      "text/plain": [
       "Eq(E, 210000*newton/millimeter**2)"
      ]
     },
     "metadata": {},
     "output_type": "display_data"
    },
    {
     "data": {
      "text/latex": [
       "$\\displaystyle H = 4000 \\text{mm}$"
      ],
      "text/plain": [
       "Eq(H, 4000*millimeter)"
      ]
     },
     "metadata": {},
     "output_type": "display_data"
    },
    {
     "data": {
      "text/latex": [
       "$\\displaystyle B = 6000 \\text{mm}$"
      ],
      "text/plain": [
       "Eq(B, 6000*millimeter)"
      ]
     },
     "metadata": {},
     "output_type": "display_data"
    },
    {
     "data": {
      "text/latex": [
       "$\\displaystyle \\oslash_{Diag} = 12 \\text{mm}$"
      ],
      "text/plain": [
       "Eq(\\oslash_Diag, 12*millimeter)"
      ]
     },
     "metadata": {},
     "output_type": "display_data"
    },
    {
     "data": {
      "text/latex": [
       "$\\displaystyle f_{yd} = \\frac{338 \\text{N}}{\\text{mm}^{2}}$"
      ],
      "text/plain": [
       "Eq(f_yd, 338*newton/millimeter**2)"
      ]
     },
     "metadata": {},
     "output_type": "display_data"
    },
    {
     "data": {
      "text/latex": [
       "$\\displaystyle m_{1} = \\frac{200 \\text{N} \\text{s}^{2}}{\\text{m}}$"
      ],
      "text/plain": [
       "Eq(m_1, 200*newton*second**2/meter)"
      ]
     },
     "metadata": {},
     "output_type": "display_data"
    },
    {
     "data": {
      "text/latex": [
       "$\\displaystyle n = \\frac{150}{\\text{minute}}$"
      ],
      "text/plain": [
       "Eq(n, 150/minute)"
      ]
     },
     "metadata": {},
     "output_type": "display_data"
    },
    {
     "data": {
      "text/latex": [
       "$\\displaystyle e = 0.1 \\text{m}$"
      ],
      "text/plain": [
       "Eq(e, 0.1*meter)"
      ]
     },
     "metadata": {},
     "output_type": "display_data"
    },
    {
     "data": {
      "text/latex": [
       "$\\displaystyle \\zeta = 0.0$"
      ],
      "text/plain": [
       "Eq(zeta, 0.0)"
      ]
     },
     "metadata": {},
     "output_type": "display_data"
    }
   ],
   "source": [
    "params = {              \n",
    "          'm_tot':5000*unit.N*unit.second**2/unit.m, \n",
    "          'E':210*10**3*unit.N/unit.mm**2,\n",
    "          'H':4000*unit.mm,\n",
    "          'B':6000*unit.mm,\n",
    "          '\\oslash_Diag':12*unit.mm,\n",
    "          'f_yd':338*unit.N/unit.mm**2,\n",
    "          'm_1':200*unit.N*unit.second**2/unit.m,\n",
    "          'n':150/unit.minute,\n",
    "          'e':0.1*unit.m,\n",
    "          'zeta':0.0,\n",
    "          }\n",
    "\n",
    "params_plot = convert.param_value(params=params)\n",
    "render.dict_render(params)"
   ]
  },
  {
   "cell_type": "code",
   "execution_count": 3,
   "metadata": {},
   "outputs": [],
   "source": [
    "m_tot, E, H, B, Diam, f_yd, m_1, n, e = sp.symbols('m_tot, E, H, B, \\oslash_Diag, f_yd, m_1, n, e')\n",
    "\n",
    "F_0, omega, t, zeta = sp.symbols('F_0, omega, t, zeta')"
   ]
  },
  {
   "cell_type": "code",
   "execution_count": 4,
   "metadata": {},
   "outputs": [
    {
     "data": {
      "text/latex": [
       "$\\displaystyle F{\\left(t \\right)} = F_{0} \\cos{\\left(\\omega t \\right)}$"
      ],
      "text/plain": [
       "Eq(F(t), F_0*cos(omega*t))"
      ]
     },
     "metadata": {},
     "output_type": "display_data"
    }
   ],
   "source": [
    "F_t = F_0 * sp.cos(omega*t)\n",
    "\n",
    "render.eq_display('F(t)', F_t)"
   ]
  },
  {
   "attachments": {},
   "cell_type": "markdown",
   "metadata": {},
   "source": [
    "## Systemsteifigkeit\n",
    "\n",
    "Zur Ermittlung der Eigenkreisfrequenz wird die Steifigkeit des gesamten Systems benötigt.\n",
    "\n",
    "![Verformungszustand des Systems für die Einheitskraft](pictures/auslenkunf_FW.jpg){#fig-verform_FW}\n",
    "\n",
    "Das System wird mit einer Einheitskraft belastet. Aufgrund der Eigenschaften der Pendelstäbe (lediglich Normalkräfte) und deren unendlich grossen Dehnsteifigkeit, spielt lediglich die Verformung der Diagonalen eine Rolle. Dazu gilt, dass die Diagonalen lediglich Zugkräfte aufnehmen können. Das bedeutet, dass lediglich ein Stab aktiv ist für die beschrieben Situation in @fig-verform_FW.\n",
    "\n",
    "Dazu muss die Normalkraft in der Diagonalen bestimmt werden."
   ]
  },
  {
   "cell_type": "code",
   "execution_count": 5,
   "metadata": {},
   "outputs": [
    {
     "data": {
      "text/latex": [
       "$\\displaystyle \\alpha = \\operatorname{atan}{\\left(\\frac{H}{B} \\right)}$"
      ],
      "text/plain": [
       "Eq(alpha, atan(H/B))"
      ]
     },
     "metadata": {},
     "output_type": "display_data"
    },
    {
     "data": {
      "text/latex": [
       "$\\displaystyle \\alpha = 0.588$"
      ],
      "text/plain": [
       "Eq(alpha, 0.588)"
      ]
     },
     "metadata": {},
     "output_type": "display_data"
    },
    {
     "data": {
      "text/latex": [
       "$\\displaystyle Z_{Diag} = 1000 \\sqrt{1 + \\frac{H^{2}}{B^{2}}} \\text{N}$"
      ],
      "text/plain": [
       "Eq(Z_Diag, 1000*newton*sqrt(1 + H**2/B**2))"
      ]
     },
     "metadata": {},
     "output_type": "display_data"
    },
    {
     "data": {
      "text/latex": [
       "$\\displaystyle Z_{Diag} = 1.2 \\cdot 10^{3} \\text{N}$"
      ],
      "text/plain": [
       "Eq(Z_Diag, 1.2e+3*newton)"
      ]
     },
     "metadata": {},
     "output_type": "display_data"
    }
   ],
   "source": [
    "alpha = sp.atan(H/B)\n",
    "\n",
    "Z_Diag = 1000*unit.N /sp.cos(alpha)\n",
    "\n",
    "\n",
    "render.eq_display('alpha', alpha,\n",
    "                  'alpha', alpha.subs(params).evalf(3),\n",
    "                  'Z_Diag', Z_Diag,\n",
    "                  'Z_Diag',Z_Diag.subs(params).evalf(3))"
   ]
  },
  {
   "attachments": {},
   "cell_type": "markdown",
   "metadata": {},
   "source": [
    "Mittels der Arbeitsgleichung lässt sich die Verformung bestimmen. Für die Integration zweier Normalkraftverläufe gilt die folgende Beziehung:\n",
    "\n",
    "$$u = \\frac{1}{EA_{Diag}}  \\int_{0}^{l_{Diag}} N_x\\bar{N_x} \\,dx$$\n",
    "\n"
   ]
  },
  {
   "cell_type": "code",
   "execution_count": 6,
   "metadata": {},
   "outputs": [
    {
     "data": {
      "text/latex": [
       "$\\displaystyle l_{Diag} = B \\sqrt{1 + \\frac{H^{2}}{B^{2}}}$"
      ],
      "text/plain": [
       "Eq(l_Diag, B*sqrt(1 + H**2/B**2))"
      ]
     },
     "metadata": {},
     "output_type": "display_data"
    },
    {
     "data": {
      "text/latex": [
       "$\\displaystyle l_{Diag} = 7.21 \\text{m}$"
      ],
      "text/plain": [
       "Eq(l_Diag, 7.21*meter)"
      ]
     },
     "metadata": {},
     "output_type": "display_data"
    },
    {
     "data": {
      "text/latex": [
       "$\\displaystyle A_{Diag} = \\frac{\\pi \\oslash_{Diag}^{2}}{4}$"
      ],
      "text/plain": [
       "Eq(A_Diag, pi*\\oslash_Diag**2/4)"
      ]
     },
     "metadata": {},
     "output_type": "display_data"
    },
    {
     "data": {
      "text/latex": [
       "$\\displaystyle A_{Diag} = 113.0 \\text{mm}^{2}$"
      ],
      "text/plain": [
       "Eq(A_Diag, 113.0*millimeter**2)"
      ]
     },
     "metadata": {},
     "output_type": "display_data"
    },
    {
     "data": {
      "text/latex": [
       "$\\displaystyle u_{k} = \\frac{4000 B \\left(1 + \\frac{H^{2}}{B^{2}}\\right)^{\\frac{3}{2}} \\text{N}}{\\pi E \\oslash_{Diag}^{2}}$"
      ],
      "text/plain": [
       "Eq(u_k, 4000*newton*B*(1 + H**2/B**2)**(3/2)/(pi*E*\\oslash_Diag**2))"
      ]
     },
     "metadata": {},
     "output_type": "display_data"
    },
    {
     "data": {
      "text/latex": [
       "$\\displaystyle u_{k} = 0.439 \\text{mm}$"
      ],
      "text/plain": [
       "Eq(u_k, 0.439*millimeter)"
      ]
     },
     "metadata": {},
     "output_type": "display_data"
    },
    {
     "data": {
      "text/latex": [
       "$\\displaystyle k = \\frac{F}{u_{k}}$"
      ],
      "text/plain": [
       "Eq(k, F/u_k)"
      ]
     },
     "metadata": {},
     "output_type": "display_data"
    },
    {
     "data": {
      "text/latex": [
       "$\\displaystyle k = \\frac{2.28 \\cdot 10^{3} \\text{N}}{\\text{mm}}$"
      ],
      "text/plain": [
       "Eq(k, 2.28e+3*newton/millimeter)"
      ]
     },
     "metadata": {},
     "output_type": "display_data"
    }
   ],
   "source": [
    "l_Diag = B /sp.cos(alpha)\n",
    "A_Diag = sp.pi * Diam**2 / 4\n",
    "u_for_k = 1/(E*A_Diag) * Z_Diag * Z_Diag/(1000*unit.N) * l_Diag\n",
    "\n",
    "k = 1000*unit.N / u_for_k\n",
    "render.eq_display('l_Diag', l_Diag,\n",
    "                  'l_Diag', unit.convert_to(l_Diag.subs(params).evalf(3), unit.m),\n",
    "                  'A_Diag', A_Diag,\n",
    "                  'A_Diag', A_Diag.subs(params).evalf(3),\n",
    "                  'u_k', u_for_k,\n",
    "                  'u_k', u_for_k.subs(params).evalf(3),\n",
    "                  'k', 'F/u_k',\n",
    "                  'k', k.subs(params).evalf(3))"
   ]
  },
  {
   "attachments": {},
   "cell_type": "markdown",
   "metadata": {},
   "source": [
    "## Eigenkreisfrequenz\n",
    "\n",
    "Aus der Systemsteifigkeit lässt sich leicht die Eigenkreisfrequenz bestimmen:\n",
    "\n",
    "$$\\omega_n =\\sqrt{\\frac{k}{m}}$$"
   ]
  },
  {
   "cell_type": "code",
   "execution_count": 7,
   "metadata": {},
   "outputs": [
    {
     "data": {
      "text/latex": [
       "$\\displaystyle \\omega_{n} = \\frac{\\sqrt{\\pi} \\sqrt{\\frac{E \\oslash_{Diag}^{2}}{B m_{tot} \\left(1 + \\frac{H^{2}}{B^{2}}\\right)^{\\frac{3}{2}}}}}{2}$"
      ],
      "text/plain": [
       "Eq(omega_n, sqrt(pi)*sqrt(E*\\oslash_Diag**2/(B*m_tot*(1 + H**2/B**2)**(3/2)))/2)"
      ]
     },
     "metadata": {},
     "output_type": "display_data"
    },
    {
     "data": {
      "text/latex": [
       "$\\displaystyle \\omega_{n} = \\frac{21.4}{\\text{s}}$"
      ],
      "text/plain": [
       "Eq(omega_n, 21.4/second)"
      ]
     },
     "metadata": {},
     "output_type": "display_data"
    }
   ],
   "source": [
    "omega_n = sp.sqrt(k/m_tot)\n",
    "\n",
    "render.eq_display('omega_n', omega_n,\n",
    "                  'omega_n', omega_n.subs(params).simplify().evalf(3))"
   ]
  },
  {
   "attachments": {},
   "cell_type": "markdown",
   "metadata": {},
   "source": [
    "## Dynamischer Vergrösserungsfaktor\n",
    "\n",
    "### Anregungsfunktion\n",
    "\n",
    "Zur Bestimmung des dynamischen Vergrösserungsfaktor wird die stationäre Verformung benötigt.  Diese lässt sich aus der Anfangskraft der Anregungsfunktion ermitteln. Dazu wird diese Funktion benötigt. Wir wissen die Drehzahl $n$ und die Exzentrizität $e$ sowie deren Masse $m_1$."
   ]
  },
  {
   "cell_type": "code",
   "execution_count": 8,
   "metadata": {},
   "outputs": [
    {
     "data": {
      "text/latex": [
       "$\\displaystyle f = n$"
      ],
      "text/plain": [
       "Eq(f, n)"
      ]
     },
     "metadata": {},
     "output_type": "display_data"
    },
    {
     "data": {
      "text/latex": [
       "$\\displaystyle f = \\frac{2.5}{\\text{s}}$"
      ],
      "text/plain": [
       "Eq(f, 2.5/second)"
      ]
     },
     "metadata": {},
     "output_type": "display_data"
    },
    {
     "data": {
      "text/latex": [
       "$\\displaystyle \\omega = 2 \\pi f$"
      ],
      "text/plain": [
       "Eq(omega, 2*pi*f)"
      ]
     },
     "metadata": {},
     "output_type": "display_data"
    },
    {
     "data": {
      "text/latex": [
       "$\\displaystyle \\omega = \\frac{15.7}{\\text{s}}$"
      ],
      "text/plain": [
       "Eq(omega, 15.7/second)"
      ]
     },
     "metadata": {},
     "output_type": "display_data"
    }
   ],
   "source": [
    "f = unit.convert_to(n.subs(params),unit.second)\n",
    "omega = 2*sp.pi*f\n",
    "params['omega'] = omega.subs(params).simplify()\n",
    "\n",
    "render.eq_display('f', 'n',\n",
    "                  'f', f.evalf(3),\n",
    "                  'omega', '2*pi*f',\n",
    "                  'omega', omega.evalf(3),\n",
    "                  )"
   ]
  },
  {
   "attachments": {},
   "cell_type": "markdown",
   "metadata": {},
   "source": [
    "Nun fehlt lediglich die Anfangskraft $F_0$. Die Fliehkraft F der 2 gegenläufig rotierenden Massen bewirken eine addierende Fliehkraft in horizontaler Richtung zu:\n",
    "\n",
    "$$F_0 = 2(m_1 *e *\\omega^2)$$\n"
   ]
  },
  {
   "cell_type": "code",
   "execution_count": 9,
   "metadata": {},
   "outputs": [
    {
     "data": {
      "text/latex": [
       "$\\displaystyle F_{0} = \\frac{50 \\pi^{2} e m_{1}}{\\text{s}^{2}}$"
      ],
      "text/plain": [
       "Eq(F_0, 50*pi**2*e*m_1/second**2)"
      ]
     },
     "metadata": {},
     "output_type": "display_data"
    },
    {
     "data": {
      "text/latex": [
       "$\\displaystyle F_{0} = 9.87 \\cdot 10^{3} \\text{N}$"
      ],
      "text/plain": [
       "Eq(F_0, 9.87e+3*newton)"
      ]
     },
     "metadata": {},
     "output_type": "display_data"
    }
   ],
   "source": [
    "F_0 = 2*(m_1*e*omega**2)\n",
    "params['F_0'] = F_0.subs(params).simplify()\n",
    "render.eq_display('F_0', F_0,\n",
    "                  'F_0', F_0.subs(params).simplify().evalf(3))"
   ]
  },
  {
   "attachments": {},
   "cell_type": "markdown",
   "metadata": {},
   "source": [
    "### Statische Deformation\n",
    "\n",
    "Die statische Deformation lässt sich nun leicht anhand der ermittelten Systemsteifigkeit herleiten."
   ]
  },
  {
   "cell_type": "code",
   "execution_count": 10,
   "metadata": {},
   "outputs": [
    {
     "data": {
      "text/latex": [
       "$\\displaystyle u_{0} = 4.33 \\text{mm}$"
      ],
      "text/plain": [
       "Eq(u_0, 4.33*millimeter)"
      ]
     },
     "metadata": {},
     "output_type": "display_data"
    }
   ],
   "source": [
    "u_0 = F_0/k\n",
    "\n",
    "render.eq_display('u_0', u_0.subs(params).simplify().evalf(3))"
   ]
  },
  {
   "attachments": {},
   "cell_type": "markdown",
   "metadata": {},
   "source": [
    "### Vergrösserungsfaktor"
   ]
  },
  {
   "cell_type": "code",
   "execution_count": 11,
   "metadata": {},
   "outputs": [
    {
     "data": {
      "text/latex": [
       "$\\displaystyle V{\\left(\\omega \\right)} = \\frac{1}{\\sqrt{\\frac{4 \\omega^{2} \\zeta_{}^{2}}{\\omega_{n}^{2}} + \\left(- \\frac{\\omega^{2}}{\\omega_{n}^{2}} + 1\\right)^{2}}}$"
      ],
      "text/plain": [
       "Eq(V(omega), 1/sqrt(4*omega**2*zeta_**2/omega_n**2 + (-omega**2/omega_n**2 + 1)**2))"
      ]
     },
     "metadata": {},
     "output_type": "display_data"
    },
    {
     "data": {
      "text/latex": [
       "$\\displaystyle V{\\left(\\omega \\right)} = 2.18$"
      ],
      "text/plain": [
       "Eq(V(omega), 2.18)"
      ]
     },
     "metadata": {},
     "output_type": "display_data"
    }
   ],
   "source": [
    "V_omega = 1/(sp.sqrt((1-(omega/omega_n)**2)**2 + (2*zeta*(omega/omega_n))**2))\n",
    "\n",
    "render.eq_display('V(omega)', '1/(sqrt((1-(omega/omega_n)**2)**2 + (2*zeta_*(omega/omega_n))**2))',\n",
    "                  'V(omega)', V_omega.subs(params).simplify().evalf(3))"
   ]
  },
  {
   "attachments": {},
   "cell_type": "markdown",
   "metadata": {},
   "source": [
    "## Stationäre Antwort\n",
    "\n",
    "Es handelt sich um einen ungedämpften Einmassenschwinger mit einer harmonischen Anregungsfunktion. Die Bewegungsgleichung ist die folgende:\n",
    "\n",
    "$$mu''(t)+ ku(t) = F(t)$$\n",
    "\n",
    "Dies ist eine inhomogene Differentialgleichung 2. Ordnung. Die Lösung dieser lässt sich in einen partikulären Anteil und in einen homogenen Anteil aufteilen. Der partikuläre Anteil entspricht der stationären Antwort. Der homogene Anteil nennt sich transienter Anteil. Wäre eine Dämpfung im System vorhanden, so startet der Schwungvorgang aus einer Kombination beider Teile. Aufgrund der Dämpfung verschwindet der stationäre Anteil und das System wird schlussendlich nur noch durch den transienten Anteil deformiert. \n",
    "\n",
    "Anhand des Vergrösserungsfaktor kann die stationäre dynamische Antwort des Systems mit der folgenden Beziehung ermittelt werden.\n",
    "\n",
    "$$u_p = V(\\omega)u_0 * \\cos{(\\omega t)}$$\n",
    "\n"
   ]
  },
  {
   "cell_type": "code",
   "execution_count": 12,
   "metadata": {},
   "outputs": [
    {
     "data": {
      "text/latex": [
       "$\\displaystyle u_{p} = 9.43 \\cos{\\left(\\frac{5 \\pi t}{\\text{s}} \\right)} \\text{mm}$"
      ],
      "text/plain": [
       "Eq(u_p, 9.43*millimeter*cos(5*pi*t/second))"
      ]
     },
     "metadata": {},
     "output_type": "display_data"
    }
   ],
   "source": [
    "u_p = V_omega * u_0 *sp.cos(omega *t)\n",
    "\n",
    "render.eq_display('u_p', u_p.subs(params).simplify().evalf(3))"
   ]
  },
  {
   "attachments": {},
   "cell_type": "markdown",
   "metadata": {},
   "source": [
    "## Gesamtantwort\n",
    "\n",
    "Für die Gesamtantwort wird nun noch der homogene Anteil benötigt. Dazu ist die folgende Differentialgleichung zu lösen.\n",
    "\n",
    "$$mu''(t)+ ku(t) = 0$$\n",
    "\n",
    "Als Ansatzfunktion dient die folgende Gleichung:\n",
    "\n",
    "$$u_h = A_1\\cos{(\\omega_n t)} + A_2 \\sin{(\\omega_n t)}$$\n",
    "\n",
    "\n",
    "Die Randbedingungen sind in der Aufgabenstellung definiert und sind die folgenden:\n",
    "\n",
    "$u(t=0)=0$\n",
    "\n",
    "$u'(t=0)=0$\n",
    "\n",
    "Vorsicht, die Randbedingungen gelten für die gesamte Lösung:\n",
    "\n",
    "$$u(t) = u_h(t) + u_p(t)$$"
   ]
  },
  {
   "cell_type": "code",
   "execution_count": 13,
   "metadata": {},
   "outputs": [
    {
     "data": {
      "image/png": "[encoded data removed]",
      "text/plain": [
       "<Figure size 640x480 with 1 Axes>"
      ]
     },
     "metadata": {},
     "output_type": "display_data"
    }
   ],
   "source": [
    "#| label: fig-gesamtantwort_ems4\n",
    "#| fig-cap: \"Gesamtantwort\"\n",
    "\n",
    "\n",
    "A_1, A_2 = sp.symbols('A_1:3')\n",
    "\n",
    "u_h_ansatz = A_1 * sp.cos(omega_n*t)+A_2*sp.sin(omega_n*t)\n",
    "randbedingung_1 = (u_h_ansatz+u_p).subs(t,0)\n",
    "randbedingung_2 = sp.diff((u_h_ansatz+u_p),t).subs(t,0)\n",
    "\n",
    "A_solve = sp.solve([randbedingung_1, randbedingung_2], [A_1, A_2], dict=True)[0]\n",
    "\n",
    "\n",
    "u_h = u_h_ansatz.subs(A_solve)\n",
    "\n",
    "\n",
    "u_t = u_h + u_p\n",
    "\n",
    "u_t_plot = u_t.subs(params_plot).subs(unit.second, 1)\n",
    "\n",
    "sp.plot(u_t_plot, (t,0,6), adaptive=False, nb_of_points=500, \n",
    "        xlabel='$t [s]$',\n",
    "        ylabel='$u(t)$ [m]')\n",
    "\n",
    "plt.show()"
   ]
  },
  {
   "attachments": {},
   "cell_type": "markdown",
   "metadata": {},
   "source": [
    "## Festigkeitsnachweis\n",
    "\n",
    "Aufgrund der maximalen Auslenkung, kann die maximale Normalkraft auf der Diagonalen bestimmt werden.\n",
    "\n",
    "### Maximale Auslenkung\n",
    "\n",
    "Aus dem Plot in @fig-gesamtantwort_ems4 besteht eine maximale Auslenkung zum Beispiel im Zeitpunkt $t=5s$. Dies wird hier numerisch gelöst."
   ]
  },
  {
   "cell_type": "code",
   "execution_count": 14,
   "metadata": {},
   "outputs": [
    {
     "data": {
      "text/latex": [
       "$\\displaystyle t_{max} = 2.79684750068608$"
      ],
      "text/plain": [
       "Eq(t_max, 2.79684750068608)"
      ]
     },
     "metadata": {},
     "output_type": "display_data"
    },
    {
     "data": {
      "text/latex": [
       "$\\displaystyle u_{max} = 0.0188$"
      ],
      "text/plain": [
       "Eq(u_max, 0.0188)"
      ]
     },
     "metadata": {},
     "output_type": "display_data"
    }
   ],
   "source": [
    "t_max_auslenkung = sp.nsolve(sp.diff(u_t_plot,t), t,(2.6,2.8))\n",
    "\n",
    "u_max = u_t_plot.subs(t,t_max_auslenkung)\n",
    "\n",
    "\n",
    "render.eq_display('t_max', t_max_auslenkung,\n",
    "                  'u_max', u_max.evalf(3))"
   ]
  },
  {
   "attachments": {},
   "cell_type": "markdown",
   "metadata": {},
   "source": [
    "### Maximale Einwirkung\n",
    "\n",
    "Aufgrund der maximalen Amplitude verlängert sich die Diagonale um $\\Delta l$. Die Dehnung des Stabs ist somit die $\\frac{\\Delta l}{l_{Diag}}$. Bei linear elastischem Materialverhalten gilt die folgende Beziehung:\n",
    "\n",
    "$$\\sigma = \\varepsilon E$$"
   ]
  },
  {
   "cell_type": "code",
   "execution_count": 16,
   "metadata": {},
   "outputs": [
    {
     "data": {
      "text/latex": [
       "$\\displaystyle \\epsilon = 0.00314$"
      ],
      "text/plain": [
       "Eq(epsilon, 0.00314)"
      ]
     },
     "metadata": {},
     "output_type": "display_data"
    },
    {
     "data": {
      "text/latex": [
       "$\\displaystyle \\sigma = \\frac{659.0 \\text{N}}{\\text{mm}^{2}}$"
      ],
      "text/plain": [
       "Eq(sigma, 659.0*newton/millimeter**2)"
      ]
     },
     "metadata": {},
     "output_type": "display_data"
    },
    {
     "data": {
      "text/latex": [
       "$\\displaystyle f_{yd} = \\frac{338 \\text{N}}{\\text{mm}^{2}}$"
      ],
      "text/plain": [
       "Eq(f_yd, 338*newton/millimeter**2)"
      ]
     },
     "metadata": {},
     "output_type": "display_data"
    },
    {
     "data": {
      "text/latex": [
       "$\\displaystyle Nachweis = \\frac{\\sigma}{f_{yd}}$"
      ],
      "text/plain": [
       "Eq(Nachweis, sigma/f_yd)"
      ]
     },
     "metadata": {},
     "output_type": "display_data"
    },
    {
     "data": {
      "text/latex": [
       "$\\displaystyle Nachweis = 1.95$"
      ],
      "text/plain": [
       "Eq(Nachweis, 1.95)"
      ]
     },
     "metadata": {},
     "output_type": "display_data"
    }
   ],
   "source": [
    "epsilon = u_max*unit.m / sp.cos(alpha) / l_Diag\n",
    "sigma = epsilon*E\n",
    "\n",
    "Nachweis = sigma / f_yd\n",
    "\n",
    "render.eq_display('epsilon', epsilon.subs(params).simplify().evalf(3),\n",
    "                  'sigma', unit.convert_to(sigma.subs(params).simplify().evalf(3), unit.mm**2),\n",
    "                  'f_yd', f_yd.subs(params),\n",
    "                  'Nachweis', 'sigma / f_yd',\n",
    "                  'Nachweis', Nachweis.subs(params).simplify().evalf(3))"
   ]
  },
  {
   "attachments": {},
   "cell_type": "markdown",
   "metadata": {},
   "source": [
    "Die Diagonale würde plastifizieren, so dass die linearen Annahmen für die Berechnung der Systemsantwort\n",
    "nicht angewendet dürfen."
   ]
  }
 ],
 "metadata": {
  "kernelspec": {
   "display_name": "engineering",
   "language": "python",
   "name": "python3"
  },
  "language_info": {
   "codemirror_mode": {
    "name": "ipython",
    "version": 3
   },
   "file_extension": ".py",
   "mimetype": "text/x-python",
   "name": "python",
   "nbconvert_exporter": "python",
   "pygments_lexer": "ipython3",
   "version": "3.10.10"
  },
  "orig_nbformat": 4
 },
 "nbformat": 4,
 "nbformat_minor": 2
}
