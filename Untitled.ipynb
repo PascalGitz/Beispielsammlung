{
 "cells": [
  {
   "cell_type": "code",
   "execution_count": 1,
   "id": "78211a4c-ac73-4816-a1d5-e8fb90c36f89",
   "metadata": {},
   "outputs": [],
   "source": [
    "%run style_and_packages.ipynb"
   ]
  },
  {
   "cell_type": "code",
   "execution_count": 6,
   "id": "97be8768-69ae-48fa-bc91-970b803d3b03",
   "metadata": {},
   "outputs": [],
   "source": [
    "#| label: tbl-parameter_mms6\n",
    "#| tbl-cap: Verwendete Parameter\n",
    "\n",
    "params = {'EI_1': 2.1*10**6 *unit.N*unit.m**2,\n",
    "          'EI_2': 2.1*10**6 *unit.N*unit.m**2,\n",
    "          'EI_3': 1.5*10**6 *unit.N*unit.m**2,\n",
    "          'm_1':12000*unit.N*unit.second**2/unit.m,\n",
    "          'm_2':12000*unit.N*unit.second**2/unit.m,\n",
    "          'm_3':8000*unit.N*unit.second**2/unit.m,\n",
    "          'H_1':4.5*unit.m,\n",
    "          'H_2':4.25*unit.m,\n",
    "          'H_3':4.25*unit.m,\n",
    "          'a':0\n",
    "          }\n"
   ]
  },
  {
   "cell_type": "code",
   "execution_count": 7,
   "id": "ae7f7125-d8b1-43f5-9663-8e1d03138f54",
   "metadata": {},
   "outputs": [
    {
     "data": {
      "text/plain": [
       "{'EI_1': 2100000.00000000,\n",
       " 'EI_2': 2100000.00000000,\n",
       " 'EI_3': 1500000.00000000,\n",
       " 'm_1': 12000,\n",
       " 'm_2': 12000,\n",
       " 'm_3': 8000,\n",
       " 'H_1': 4.50000000000000,\n",
       " 'H_2': 4.25000000000000,\n",
       " 'H_3': 4.25000000000000,\n",
       " 'a': 0}"
      ]
     },
     "execution_count": 7,
     "metadata": {},
     "output_type": "execute_result"
    }
   ],
   "source": [
    "convert.param_value(params)"
   ]
  },
  {
   "cell_type": "code",
   "execution_count": null,
   "id": "18dcb8ef-2313-4d41-8e09-68341de67675",
   "metadata": {},
   "outputs": [],
   "source": []
  }
 ],
 "metadata": {
  "kernelspec": {
   "display_name": "Python 3 (ipykernel)",
   "language": "python",
   "name": "python3"
  },
  "language_info": {
   "codemirror_mode": {
    "name": "ipython",
    "version": 3
   },
   "file_extension": ".py",
   "mimetype": "text/x-python",
   "name": "python",
   "nbconvert_exporter": "python",
   "pygments_lexer": "ipython3",
   "version": "3.10.12"
  }
 },
 "nbformat": 4,
 "nbformat_minor": 5
}
