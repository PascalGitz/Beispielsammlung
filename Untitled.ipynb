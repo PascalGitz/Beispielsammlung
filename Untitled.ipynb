{
 "cells": [
  {
   "cell_type": "code",
   "execution_count": 1,
   "id": "c86154ae-c2a1-421e-9860-7dd28f771c5f",
   "metadata": {},
   "outputs": [],
   "source": [
    "%run style_and_packages.ipynb"
   ]
  },
  {
   "cell_type": "code",
   "execution_count": 4,
   "id": "2f945e2e-82e7-4a81-b849-c365cfe125d3",
   "metadata": {},
   "outputs": [
    {
     "data": {
      "text/latex": [
       "\\begin{equation}\\cos{\\left(2.83 a \\right)}\\end{equation}"
      ],
      "text/plain": [
       "cos(2.83⋅a)"
      ]
     },
     "execution_count": 4,
     "metadata": {},
     "output_type": "execute_result"
    }
   ],
   "source": [
    "sp.cos(a * (2 * sp.sqrt(2)).evalf(3))"
   ]
  },
  {
   "cell_type": "code",
   "execution_count": null,
   "id": "66bda84f-67af-414c-b91f-0301f048b8f1",
   "metadata": {},
   "outputs": [],
   "source": []
  }
 ],
 "metadata": {
  "kernelspec": {
   "display_name": "Python 3 (ipykernel)",
   "language": "python",
   "name": "python3"
  },
  "language_info": {
   "codemirror_mode": {
    "name": "ipython",
    "version": 3
   },
   "file_extension": ".py",
   "mimetype": "text/x-python",
   "name": "python",
   "nbconvert_exporter": "python",
   "pygments_lexer": "ipython3",
   "version": "3.10.12"
  }
 },
 "nbformat": 4,
 "nbformat_minor": 5
}
