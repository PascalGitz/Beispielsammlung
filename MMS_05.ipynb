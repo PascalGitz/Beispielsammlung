{
 "cells": [
  {
   "attachments": {},
   "cell_type": "markdown",
   "metadata": {},
   "source": [
    "# Modale Analyse und Antwortspektrumverfahren an einem Rahmen {#sec-antwortspek}\n",
    "\n",
    "[Aufgabenstellung](calculations/%C3%9Cbung_5_%20Modale_Analyse_2_MMS.pdf)\n",
    "\n",
    "Dies ist eine Weiterführung des bereits bekannten Rahmentragwerks aus @sec-mms_rahmen .\n",
    "![Statisches System des Rahmentragwerks](pictures/mms5.jpg){#fig-system}\n"
   ]
  },
  {
   "cell_type": "code",
   "execution_count": 1,
   "metadata": {},
   "outputs": [],
   "source": [
    "import sympy as sp \n",
    "from sympycalcs import render, convert\n",
    "import sympy.physics.units as unit\n",
    "\n",
    "import matplotlib.pyplot as plt"
   ]
  },
  {
   "attachments": {},
   "cell_type": "markdown",
   "metadata": {},
   "source": [
    "## Parameter der Aufgabenstellung"
   ]
  },
  {
   "cell_type": "code",
   "execution_count": 2,
   "metadata": {},
   "outputs": [
    {
     "data": {
      "text/latex": [
       "$\\displaystyle E = \\frac{30000 \\text{N}}{\\text{mm}^{2}}$"
      ],
      "text/plain": [
       "Eq(E, 30000*newton/millimeter**2)"
      ]
     },
     "metadata": {},
     "output_type": "display_data"
    },
    {
     "data": {
      "text/latex": [
       "$\\displaystyle I = 2000000000 \\text{mm}^{4}$"
      ],
      "text/plain": [
       "Eq(I, 2000000000*millimeter**4)"
      ]
     },
     "metadata": {},
     "output_type": "display_data"
    },
    {
     "data": {
      "text/latex": [
       "$\\displaystyle m_{1} = \\frac{40000 \\text{N} \\text{s}^{2}}{\\text{m}}$"
      ],
      "text/plain": [
       "Eq(m_1, 40000*newton*second**2/meter)"
      ]
     },
     "metadata": {},
     "output_type": "display_data"
    },
    {
     "data": {
      "text/latex": [
       "$\\displaystyle m_{2} = \\frac{20000 \\text{N} \\text{s}^{2}}{\\text{m}}$"
      ],
      "text/plain": [
       "Eq(m_2, 20000*newton*second**2/meter)"
      ]
     },
     "metadata": {},
     "output_type": "display_data"
    },
    {
     "data": {
      "text/latex": [
       "$\\displaystyle H = 3.2 \\text{m}$"
      ],
      "text/plain": [
       "Eq(H, 3.2*meter)"
      ]
     },
     "metadata": {},
     "output_type": "display_data"
    }
   ],
   "source": [
    "params = {'E': 30*10**3 *unit.N/unit.mm**2,\n",
    "          'I':2*10**9*unit.mm**4,\n",
    "          'm_1':2*20000*unit.N*unit.second**2/unit.m,\n",
    "          'm_2':20000*unit.N*unit.second**2/unit.m,\n",
    "          'H':3.2*unit.m,\n",
    "          \n",
    "          }\n",
    "\n",
    "render.dict_render(params)"
   ]
  },
  {
   "cell_type": "code",
   "execution_count": 3,
   "metadata": {},
   "outputs": [],
   "source": [
    "omega, t,  l, m_1, m_2, E,I, H = sp.symbols('omega, t,  l, m_1, m_2, E, I, H')\n",
    "\n",
    "omega_n = sp.symbols('omega_n')"
   ]
  },
  {
   "attachments": {},
   "cell_type": "markdown",
   "metadata": {},
   "source": [
    "## Steifigkeitsmatrix $\\mathbf{K}$\n",
    "\n",
    "Zur Bestimmung der Steifigkeitsmatrix ist das System an jedem Freiheitsgrad auszulenken, wie in @fig-steifigkeit dargestellt ist.\n",
    "\n",
    "![Auslenkung der Freiheitsgrade zur Bestimmung der Steifigkeit](pictures/steifigkeit_mms2.jpg){#fig-steifigkeit}\n",
    "\n",
    "Wichtig dabei sind die Richtungen der Kräfte. Als Denkstütze gilt folgendes:\n",
    "- Der Auslenkung um $u$ wirkt die Federkraft entgegen, welche $k u$ entspricht.\n",
    "- Zusätzlich wirkt die Trägheitskraft der Auslenkung entgegen, welche $m u''$ entspricht.\n",
    "- Nach der Betrachtung des ausgelenkten Punkts, kann mittels *Actio-Reactio*-Prinzip das \"*Stockwerk*\" ins Gleichgewicht gebracht werden.\n",
    "- Vorzeichen sind gegen der Bewegungsrichtig positiv."
   ]
  },
  {
   "attachments": {},
   "cell_type": "markdown",
   "metadata": {},
   "source": [
    "### Horizontale Steifigkeit\n",
    "\n",
    "Die horizontale Steifigkeit des Systems lässt sich mittels der Formel für Rahmen bestimmen.\n",
    "\n",
    "$$k_{Stütze} = \\frac{12EI_{Stütze}}{H^3}$$\n",
    "\n",
    "Diese gilt für eine einzelne Stütze."
   ]
  },
  {
   "cell_type": "code",
   "execution_count": 4,
   "metadata": {},
   "outputs": [
    {
     "data": {
      "text/latex": [
       "$\\displaystyle K = \\left[\\begin{matrix}k_{1} + k_{2} & - k_{2}\\\\- k_{2} & k_{2}\\end{matrix}\\right]$"
      ],
      "text/plain": [
       "Eq(K, Matrix([\n",
       "[k_1 + k_2, -k_2],\n",
       "[     -k_2,  k_2]]))"
      ]
     },
     "metadata": {},
     "output_type": "display_data"
    },
    {
     "data": {
      "text/latex": [
       "$\\displaystyle K = \\left[\\begin{matrix}\\frac{1.31836 \\cdot 10^{8} \\text{N}}{\\text{m}} & - \\frac{4.39453 \\cdot 10^{7} \\text{N}}{\\text{m}}\\\\- \\frac{4.39453 \\cdot 10^{7} \\text{N}}{\\text{m}} & \\frac{4.39453 \\cdot 10^{7} \\text{N}}{\\text{m}}\\end{matrix}\\right]$"
      ],
      "text/plain": [
       "Eq(K, Matrix([\n",
       "[ 1.31836e+8*newton/meter, -4.39453e+7*newton/meter],\n",
       "[-4.39453e+7*newton/meter,  4.39453e+7*newton/meter]]))"
      ]
     },
     "metadata": {},
     "output_type": "display_data"
    }
   ],
   "source": [
    "k_1, k_2 = sp.symbols('k_1, k_2')\n",
    "\n",
    "params['k_1'] = 2*(12 * 2*E*I / H**3).subs(params).simplify().evalf(6)\n",
    "params['k_2'] = 2*(12 * E*I / H**3).subs(params).simplify().evalf(6)\n",
    "K = sp.Matrix([[k_1 + k_2, -k_2],[-k_2, k_2]])\n",
    "\n",
    "\n",
    "render.eq_display(sp.MatrixSymbol('K', 2,2), K,\n",
    "                  sp.MatrixSymbol('K', 2,2), K.subs(params),\n",
    "                  )"
   ]
  },
  {
   "attachments": {},
   "cell_type": "markdown",
   "metadata": {},
   "source": [
    "## Eigenvektoren\n",
    "### Massenmatrix $\\mathbf{M}$ \n",
    "\n",
    "Die Massenmatrix folgt dem gleichen Aufbau wie die Steifigkeitsmatrix. Es gelten die gleichen Vorzeichenregelungen."
   ]
  },
  {
   "cell_type": "code",
   "execution_count": 5,
   "metadata": {},
   "outputs": [
    {
     "data": {
      "text/latex": [
       "$\\displaystyle M = \\left[\\begin{matrix}m_{1} & 0\\\\0 & m_{2}\\end{matrix}\\right]$"
      ],
      "text/plain": [
       "Eq(M, Matrix([\n",
       "[m_1,   0],\n",
       "[  0, m_2]]))"
      ]
     },
     "metadata": {},
     "output_type": "display_data"
    },
    {
     "data": {
      "text/latex": [
       "$\\displaystyle M = \\left[\\begin{matrix}\\frac{40000 \\text{N} \\text{s}^{2}}{\\text{m}} & 0\\\\0 & \\frac{20000 \\text{N} \\text{s}^{2}}{\\text{m}}\\end{matrix}\\right]$"
      ],
      "text/plain": [
       "Eq(M, Matrix([\n",
       "[40000*newton*second**2/meter,                            0],\n",
       "[                           0, 20000*newton*second**2/meter]]))"
      ]
     },
     "metadata": {},
     "output_type": "display_data"
    }
   ],
   "source": [
    "m_1, m_2 = sp.symbols('m_1, m_2')\n",
    "M = sp.Matrix([[m_1, 0],[0, m_2]])\n",
    "\n",
    "render.eq_display(sp.MatrixSymbol('M', 2,2), M,\n",
    "                  sp.MatrixSymbol('M', 2,2), M.subs(params))"
   ]
  },
  {
   "attachments": {},
   "cell_type": "markdown",
   "metadata": {},
   "source": [
    "### Eigenkreisfrequenzen \n",
    "Bei einem Mehrmassenschwinger gibt es entsprechend den Freiheitsgraden Eigenkreisfrequenzen $\\omega_n$. Diese lassen sich anhand folgender Gleichung bestimmen:\n",
    "\n",
    "$$\\det{[\\mathbf{K}-\\omega_n^2 \\mathbf{M}]=0}$$"
   ]
  },
  {
   "cell_type": "code",
   "execution_count": 6,
   "metadata": {},
   "outputs": [
    {
     "data": {
      "text/latex": [
       "$\\displaystyle \\omega_{1} = \\frac{33.1}{\\text{s}}$"
      ],
      "text/plain": [
       "Eq(omega_1, 33.1/second)"
      ]
     },
     "metadata": {},
     "output_type": "display_data"
    },
    {
     "data": {
      "text/latex": [
       "$\\displaystyle \\omega_{2} = \\frac{66.3}{\\text{s}}$"
      ],
      "text/plain": [
       "Eq(omega_2, 66.3/second)"
      ]
     },
     "metadata": {},
     "output_type": "display_data"
    }
   ],
   "source": [
    "eq_omega = sp.det(K-omega_n**2*M)\n",
    "\n",
    "omega_n_solve = sp.solve(eq_omega, omega_n)\n",
    "omega_1 = omega_n_solve[1]\n",
    "omega_2 = omega_n_solve[3]\n",
    "\n",
    "render.eq_display('omega_1', omega_1.subs(params).simplify().evalf(3),\n",
    "                  'omega_2', omega_2.subs(params).simplify().evalf(3))"
   ]
  },
  {
   "attachments": {},
   "cell_type": "markdown",
   "metadata": {},
   "source": [
    "### Eigenvektoren $\\phi$"
   ]
  },
  {
   "cell_type": "code",
   "execution_count": 7,
   "metadata": {},
   "outputs": [
    {
     "data": {
      "text/latex": [
       "$\\displaystyle \\left[\\begin{matrix}- k_{2} \\phi_{21} + \\phi_{11} \\left(k_{1} + k_{2} - m_{1} \\left(\\frac{k_{1}}{2 m_{1}} + \\frac{k_{2}}{2 m_{2}} + \\frac{k_{2}}{2 m_{1}} - \\frac{\\sqrt{k_{1}^{2} m_{2}^{2} - 2 k_{1} k_{2} m_{1} m_{2} + 2 k_{1} k_{2} m_{2}^{2} + k_{2}^{2} m_{1}^{2} + 2 k_{2}^{2} m_{1} m_{2} + k_{2}^{2} m_{2}^{2}}}{2 m_{1} m_{2}}\\right)\\right)\\\\- k_{2} \\phi_{11} + \\phi_{21} \\left(k_{2} - m_{2} \\left(\\frac{k_{1}}{2 m_{1}} + \\frac{k_{2}}{2 m_{2}} + \\frac{k_{2}}{2 m_{1}} - \\frac{\\sqrt{k_{1}^{2} m_{2}^{2} - 2 k_{1} k_{2} m_{1} m_{2} + 2 k_{1} k_{2} m_{2}^{2} + k_{2}^{2} m_{1}^{2} + 2 k_{2}^{2} m_{1} m_{2} + k_{2}^{2} m_{2}^{2}}}{2 m_{1} m_{2}}\\right)\\right)\\end{matrix}\\right] = \\left[\\begin{matrix}0\\\\0\\end{matrix}\\right]$"
      ],
      "text/plain": [
       "Eq(Matrix([\n",
       "[-k_2*phi_21 + phi_11*(k_1 + k_2 - m_1*(k_1/(2*m_1) + k_2/(2*m_2) + k_2/(2*m_1) - sqrt(k_1**2*m_2**2 - 2*k_1*k_2*m_1*m_2 + 2*k_1*k_2*m_2**2 + k_2**2*m_1**2 + 2*k_2**2*m_1*m_2 + k_2**2*m_2**2)/(2*m_1*m_2)))],\n",
       "[      -k_2*phi_11 + phi_21*(k_2 - m_2*(k_1/(2*m_1) + k_2/(2*m_2) + k_2/(2*m_1) - sqrt(k_1**2*m_2**2 - 2*k_1*k_2*m_1*m_2 + 2*k_1*k_2*m_2**2 + k_2**2*m_1**2 + 2*k_2**2*m_1*m_2 + k_2**2*m_2**2)/(2*m_1*m_2)))]]), Matrix([\n",
       "[0],\n",
       "[0]]))"
      ]
     },
     "metadata": {},
     "output_type": "display_data"
    },
    {
     "data": {
      "text/latex": [
       "$\\displaystyle \\phi_{1} = \\left[\\begin{matrix}0.5\\\\1.0\\end{matrix}\\right]$"
      ],
      "text/plain": [
       "Eq(phi_1, Matrix([\n",
       "[0.5],\n",
       "[1.0]]))"
      ]
     },
     "metadata": {},
     "output_type": "display_data"
    }
   ],
   "source": [
    "phi_11, phi_21, phi_12, phi_22 = sp.symbols('phi_11, phi_21, phi_12, phi_22')\n",
    "params['phi_21'] = 1\n",
    "\n",
    "phi_1 = sp.Matrix([[phi_11], [phi_21]])\n",
    "\n",
    "phi_11 = list(sp.solve((K-omega_1**2 *M)*phi_1, phi_11).values())[0]\n",
    "\n",
    "params['phi_11'] = phi_11.subs(params).simplify() \n",
    "\n",
    "\n",
    "\n",
    "\n",
    "render.eq_display((K-omega_1**2 *M)*phi_1,sp.Matrix([[0],[0]]),\n",
    "                  sp.MatrixSymbol('phi_1', 2,1),sp.simplify(phi_1.subs(params)).evalf(3))"
   ]
  },
  {
   "cell_type": "code",
   "execution_count": 8,
   "metadata": {},
   "outputs": [
    {
     "data": {
      "text/latex": [
       "$\\displaystyle \\left[\\begin{matrix}- k_{2} \\phi_{22} + \\phi_{12} \\left(k_{1} + k_{2} - m_{1} \\left(\\frac{k_{1}}{2 m_{1}} + \\frac{k_{2}}{2 m_{2}} + \\frac{k_{2}}{2 m_{1}} + \\frac{\\sqrt{k_{1}^{2} m_{2}^{2} - 2 k_{1} k_{2} m_{1} m_{2} + 2 k_{1} k_{2} m_{2}^{2} + k_{2}^{2} m_{1}^{2} + 2 k_{2}^{2} m_{1} m_{2} + k_{2}^{2} m_{2}^{2}}}{2 m_{1} m_{2}}\\right)\\right)\\\\- k_{2} \\phi_{12} + \\phi_{22} \\left(k_{2} - m_{2} \\left(\\frac{k_{1}}{2 m_{1}} + \\frac{k_{2}}{2 m_{2}} + \\frac{k_{2}}{2 m_{1}} + \\frac{\\sqrt{k_{1}^{2} m_{2}^{2} - 2 k_{1} k_{2} m_{1} m_{2} + 2 k_{1} k_{2} m_{2}^{2} + k_{2}^{2} m_{1}^{2} + 2 k_{2}^{2} m_{1} m_{2} + k_{2}^{2} m_{2}^{2}}}{2 m_{1} m_{2}}\\right)\\right)\\end{matrix}\\right] = \\left[\\begin{matrix}0\\\\0\\end{matrix}\\right]$"
      ],
      "text/plain": [
       "Eq(Matrix([\n",
       "[-k_2*phi_22 + phi_12*(k_1 + k_2 - m_1*(k_1/(2*m_1) + k_2/(2*m_2) + k_2/(2*m_1) + sqrt(k_1**2*m_2**2 - 2*k_1*k_2*m_1*m_2 + 2*k_1*k_2*m_2**2 + k_2**2*m_1**2 + 2*k_2**2*m_1*m_2 + k_2**2*m_2**2)/(2*m_1*m_2)))],\n",
       "[      -k_2*phi_12 + phi_22*(k_2 - m_2*(k_1/(2*m_1) + k_2/(2*m_2) + k_2/(2*m_1) + sqrt(k_1**2*m_2**2 - 2*k_1*k_2*m_1*m_2 + 2*k_1*k_2*m_2**2 + k_2**2*m_1**2 + 2*k_2**2*m_1*m_2 + k_2**2*m_2**2)/(2*m_1*m_2)))]]), Matrix([\n",
       "[0],\n",
       "[0]]))"
      ]
     },
     "metadata": {},
     "output_type": "display_data"
    },
    {
     "data": {
      "text/latex": [
       "$\\displaystyle \\phi_{2} = \\left[\\begin{matrix}-1.0\\\\1.0\\end{matrix}\\right]$"
      ],
      "text/plain": [
       "Eq(phi_2, Matrix([\n",
       "[-1.0],\n",
       "[ 1.0]]))"
      ]
     },
     "metadata": {},
     "output_type": "display_data"
    }
   ],
   "source": [
    "params['phi_22'] = 1\n",
    "\n",
    "phi_2 = sp.Matrix([[phi_12], [phi_22]])\n",
    "\n",
    "phi_12 = list(sp.solve((K-omega_2**2 *M)*phi_2, phi_12).values())[0]\n",
    "\n",
    "params['phi_12'] = phi_12.subs(params).simplify() \n",
    "\n",
    "\n",
    "\n",
    "\n",
    "render.eq_display((K-omega_2**2 *M)*phi_2,sp.Matrix([[0],[0]]),\n",
    "                  sp.MatrixSymbol('phi_2', 2,1),sp.simplify(phi_2.subs(params)).evalf(3))"
   ]
  },
  {
   "attachments": {},
   "cell_type": "markdown",
   "metadata": {},
   "source": [
    "### Orthogonalitätsbedingung\n",
    "\n",
    "Zur effektiven Entkoppelung der Gleichungen muss die Orthogonalitätsbedingung eingehalten sein. Dies gilt es für die Massenmatrix zu kontrollieren:\n",
    "\n",
    "$$\\mathbf{\\phi_1^T M \\phi_1 \\neq 0}$$\n",
    "\n",
    "$$\\mathbf{\\phi_2^T M \\phi_2 \\neq 0}$$\n",
    "\n",
    "$$\\mathbf{\\phi_2^T M \\phi_1 = 0}$$\n",
    "\n",
    "Sowohl auch für die Steifigkeitsmatrix:\n",
    "\n",
    "$$\\mathbf{\\phi_1^T K \\phi_1 \\neq 0}$$\n",
    "\n",
    "$$\\mathbf{\\phi_2^T K \\phi_2 \\neq 0}$$\n",
    "\n",
    "$$\\mathbf{\\phi_2^T K \\phi_1 = 0}$$\n",
    "\n"
   ]
  },
  {
   "cell_type": "code",
   "execution_count": 9,
   "metadata": {},
   "outputs": [
    {
     "data": {
      "text/latex": [
       "$\\displaystyle \\phi_{1}^{T} M \\phi_{1} = \\left[\\begin{matrix}\\frac{3.0 \\cdot 10^{4} \\text{N} \\text{s}^{2}}{\\text{m}}\\end{matrix}\\right]$"
      ],
      "text/plain": [
       "Eq(phi_1.T*M*phi_1, Matrix([[3.0e+4*newton*second**2/meter]]))"
      ]
     },
     "metadata": {},
     "output_type": "display_data"
    },
    {
     "data": {
      "text/latex": [
       "$\\displaystyle \\phi_{2}^{T} M \\phi_{2} = \\left[\\begin{matrix}\\frac{6.0 \\cdot 10^{4} \\text{N} \\text{s}^{2}}{\\text{m}}\\end{matrix}\\right]$"
      ],
      "text/plain": [
       "Eq(phi_2.T*M*phi_2, Matrix([[6.0e+4*newton*second**2/meter]]))"
      ]
     },
     "metadata": {},
     "output_type": "display_data"
    },
    {
     "data": {
      "text/latex": [
       "$\\displaystyle \\phi_{2}^{T} M \\phi_{1} = \\left[\\begin{matrix}0\\end{matrix}\\right]$"
      ],
      "text/plain": [
       "Eq(phi_2.T*M*phi_1, Matrix([[0]]))"
      ]
     },
     "metadata": {},
     "output_type": "display_data"
    },
    {
     "data": {
      "text/latex": [
       "$\\displaystyle \\phi_{1}^{T} M \\phi_{2} = \\left[\\begin{matrix}0\\end{matrix}\\right]$"
      ],
      "text/plain": [
       "Eq(phi_1.T*M*phi_2, Matrix([[0]]))"
      ]
     },
     "metadata": {},
     "output_type": "display_data"
    }
   ],
   "source": [
    "render.eq_display(sp.MatrixSymbol('phi_1',2,1).T*sp.MatrixSymbol('M', 2,2)*sp.MatrixSymbol('phi_1',2,1),(phi_1.T*M*phi_1).subs(params).evalf(3),\n",
    "                  \n",
    "                  sp.MatrixSymbol('phi_2',2,1).T*sp.MatrixSymbol('M', 2,2)*sp.MatrixSymbol('phi_2',2,1),(phi_2.T*M*phi_2).subs(params).evalf(3),\n",
    "\n",
    "                  sp.MatrixSymbol('phi_2',2,1).T*sp.MatrixSymbol('M', 2,2)*sp.MatrixSymbol('phi_1',2,1),(phi_2.T*M*phi_1).subs(params).evalf(3),\n",
    "\n",
    "                  sp.MatrixSymbol('phi_1',2,1).T*sp.MatrixSymbol('M', 2,2)*sp.MatrixSymbol('phi_2',2,1),(phi_1.T*M*phi_2).subs(params).evalf(3))"
   ]
  },
  {
   "cell_type": "code",
   "execution_count": 10,
   "metadata": {},
   "outputs": [
    {
     "data": {
      "text/latex": [
       "$\\displaystyle \\phi_{1}^{T} K \\phi_{1} = \\left[\\begin{matrix}\\frac{3.3 \\cdot 10^{7} \\text{N}}{\\text{m}}\\end{matrix}\\right]$"
      ],
      "text/plain": [
       "Eq(phi_1.T*K*phi_1, Matrix([[3.3e+7*newton/meter]]))"
      ]
     },
     "metadata": {},
     "output_type": "display_data"
    },
    {
     "data": {
      "text/latex": [
       "$\\displaystyle \\phi_{2}^{T} K \\phi_{2} = \\left[\\begin{matrix}\\frac{2.64 \\cdot 10^{8} \\text{N}}{\\text{m}}\\end{matrix}\\right]$"
      ],
      "text/plain": [
       "Eq(phi_2.T*K*phi_2, Matrix([[2.64e+8*newton/meter]]))"
      ]
     },
     "metadata": {},
     "output_type": "display_data"
    },
    {
     "data": {
      "text/latex": [
       "$\\displaystyle \\phi_{2}^{T} K \\phi_{1} = \\left[\\begin{matrix}0\\end{matrix}\\right]$"
      ],
      "text/plain": [
       "Eq(phi_2.T*K*phi_1, Matrix([[0]]))"
      ]
     },
     "metadata": {},
     "output_type": "display_data"
    },
    {
     "data": {
      "text/latex": [
       "$\\displaystyle \\phi_{1}^{T} K \\phi_{2} = \\left[\\begin{matrix}0\\end{matrix}\\right]$"
      ],
      "text/plain": [
       "Eq(phi_1.T*K*phi_2, Matrix([[0]]))"
      ]
     },
     "metadata": {},
     "output_type": "display_data"
    }
   ],
   "source": [
    "render.eq_display(sp.MatrixSymbol('phi_1',2,1).T*sp.MatrixSymbol('K', 2,2)*sp.MatrixSymbol('phi_1',2,1),sp.simplify((phi_1.T*K*phi_1).subs(params)).evalf(3),\n",
    "                  \n",
    "                  sp.MatrixSymbol('phi_2',2,1).T*sp.MatrixSymbol('K', 2,2)*sp.MatrixSymbol('phi_2',2,1),sp.simplify((phi_2.T*K*phi_2).subs(params)).evalf(3),\n",
    "\n",
    "                  sp.MatrixSymbol('phi_2',2,1).T*sp.MatrixSymbol('K', 2,2)*sp.MatrixSymbol('phi_1',2,1),sp.simplify((phi_2.T*K*phi_1).subs(params)).evalf(4),\n",
    "                  \n",
    "                  sp.MatrixSymbol('phi_1',2,1).T*sp.MatrixSymbol('K', 2,2)*sp.MatrixSymbol('phi_2',2,1),sp.simplify((phi_1.T*K*phi_2).subs(params)).evalf(4))"
   ]
  },
  {
   "attachments": {},
   "cell_type": "markdown",
   "metadata": {},
   "source": [
    "### Eigenformen\n",
    "\n",
    "![Die beiden Eigenformen skizziert](pictures/eigenformen_mms2.jpg){#fig-eigenformen}"
   ]
  },
  {
   "attachments": {},
   "cell_type": "markdown",
   "metadata": {},
   "source": [
    "## Modale Analyse\n",
    "\n",
    "Die Bewegungsgleichung für einen ungedämpften, frei schwingenden Mehrmassenschwinger lässt sich folgend beschreiben:\n",
    "\n",
    "$$\\mathbf{M u''(t) + K u = 0}$$\n",
    "\n",
    "Die Matrix-Gleichung beschreibt ein System aus Differentialgleichungen. Die Modale Analyse zielt darauf ab, diese zu entkoppeln. Bezogen auf den Mehrmassenschwinger heisst eine Entkoppelung, dass diese in Einmassenschwinger aufgeteilt werden. Dies wird nun schrittweise durchgeführt."
   ]
  },
  {
   "attachments": {},
   "cell_type": "markdown",
   "metadata": {},
   "source": [
    "### Modal- und Spektralmatrix\n",
    "\n",
    "Mittels der Modal- und Spektralmatrix können die generalisierten Grössen ermittelt werden. Diese sind die eigenschaften der einzelnen Einmassenschwinger. Die generalisierten Werte besitzen keine physikalischen Werte, sie sind abhängig von der Wahl der Eigenvektoren, welche bekanntlich von der Normierung abhängen.\n",
    "\n",
    "\n",
    "Aufgrund der Bewegungsgleichung können die generalisierten Grössen bestimmt werden, es gilt:\n",
    "\n",
    "$$\\mathbf{\\Phi^T M \\Phi u''(t) + \\Phi^T K \\Phi u(t) = 0}$$\n",
    "\n",
    "$$\\mathbf{M^*u''(t) + K^* u(t) = 0}$$\n",
    "\n",
    "Alle $N$-Eigenwerte und alle $N$-Eigenvektoren können kompakt\n",
    "mit Matrizen ausgedrückt werden:\n"
   ]
  },
  {
   "cell_type": "code",
   "execution_count": 11,
   "metadata": {},
   "outputs": [
    {
     "data": {
      "text/latex": [
       "$\\displaystyle Modalmatrix = \\Phi$"
      ],
      "text/plain": [
       "Eq(Modalmatrix, Phi)"
      ]
     },
     "metadata": {},
     "output_type": "display_data"
    },
    {
     "data": {
      "text/latex": [
       "$\\displaystyle \\Phi = \\left[\\begin{matrix}0.5 & -1.0\\\\1.0 & 1.0\\end{matrix}\\right]$"
      ],
      "text/plain": [
       "Eq(Phi, Matrix([\n",
       "[0.5, -1.0],\n",
       "[1.0,  1.0]]))"
      ]
     },
     "metadata": {},
     "output_type": "display_data"
    },
    {
     "data": {
      "text/latex": [
       "$\\displaystyle Spektralmatrix = \\Omega^{2}$"
      ],
      "text/plain": [
       "Eq(Spektralmatrix, Omega**2)"
      ]
     },
     "metadata": {},
     "output_type": "display_data"
    },
    {
     "data": {
      "text/latex": [
       "$\\displaystyle \\Omega^{2} = \\left[\\begin{matrix}\\frac{1099.0}{\\text{s}^{2}} & 0\\\\0 & \\frac{4395.0}{\\text{s}^{2}}\\end{matrix}\\right]$"
      ],
      "text/plain": [
       "Eq(Omega^2, Matrix([\n",
       "[1099.0/second**2,                0],\n",
       "[               0, 4395.0/second**2]]))"
      ]
     },
     "metadata": {},
     "output_type": "display_data"
    }
   ],
   "source": [
    "Phi = sp.Matrix([[phi_1, phi_2]])\n",
    "Omega = sp.Matrix([[omega_1, 0],[0, omega_2]])\n",
    "\n",
    "render.eq_display('Modalmatrix', 'Phi',\n",
    "                  sp.MatrixSymbol('Phi', 2, 2), Phi.subs(params).evalf(4),\n",
    "                  'Spektralmatrix', 'Omega^2',\n",
    "                  sp.MatrixSymbol('Omega^2', 2, 2), (Omega**2).subs(params).evalf(4))"
   ]
  },
  {
   "attachments": {},
   "cell_type": "markdown",
   "metadata": {},
   "source": [
    "### Generalisierte Grössen\n"
   ]
  },
  {
   "cell_type": "code",
   "execution_count": 12,
   "metadata": {},
   "outputs": [
    {
     "data": {
      "text/latex": [
       "$\\displaystyle M^{\\star} = \\left[\\begin{matrix}\\frac{30000.0 \\text{N} \\text{s}^{2}}{\\text{m}} & 0\\\\0 & \\frac{60000.0 \\text{N} \\text{s}^{2}}{\\text{m}}\\end{matrix}\\right]$"
      ],
      "text/plain": [
       "Eq(M^\\star, Matrix([\n",
       "[30000.0*newton*second**2/meter,                              0],\n",
       "[                             0, 60000.0*newton*second**2/meter]]))"
      ]
     },
     "metadata": {},
     "output_type": "display_data"
    },
    {
     "data": {
      "text/latex": [
       "$\\displaystyle K^{\\star} = \\left[\\begin{matrix}\\frac{3.2959 \\cdot 10^{7} \\text{N}}{\\text{m}} & 0\\\\0 & \\frac{2.6367 \\cdot 10^{8} \\text{N}}{\\text{m}}\\end{matrix}\\right]$"
      ],
      "text/plain": [
       "Eq(K^\\star, Matrix([\n",
       "[3.2959e+7*newton/meter,                      0],\n",
       "[                     0, 2.6367e+8*newton/meter]]))"
      ]
     },
     "metadata": {},
     "output_type": "display_data"
    }
   ],
   "source": [
    "M_star = Phi.T * M * Phi\n",
    "K_star = Phi.T * K * Phi\n",
    "\n",
    "\n",
    "render.eq_display(sp.MatrixSymbol('M^\\star', 2,2),sp.simplify(M_star.subs(params)).evalf(5),\n",
    "                  sp.MatrixSymbol('K^\\star', 2,2),sp.simplify(K_star.subs(params)).evalf(5))\n",
    "                 "
   ]
  },
  {
   "attachments": {},
   "cell_type": "markdown",
   "metadata": {},
   "source": [
    "### Kontrolle der modalen Transformation"
   ]
  },
  {
   "cell_type": "code",
   "execution_count": 13,
   "metadata": {},
   "outputs": [
    {
     "data": {
      "text/latex": [
       "$\\displaystyle \\omega_{1} = \\frac{33.1}{\\text{s}}$"
      ],
      "text/plain": [
       "Eq(omega_1, 33.1/second)"
      ]
     },
     "metadata": {},
     "output_type": "display_data"
    },
    {
     "data": {
      "text/latex": [
       "$\\displaystyle \\omega_{1 modal} = \\frac{33.1}{\\text{s}}$"
      ],
      "text/plain": [
       "Eq(omega_1_modal, 33.1/second)"
      ]
     },
     "metadata": {},
     "output_type": "display_data"
    },
    {
     "data": {
      "text/latex": [
       "$\\displaystyle \\omega_{2} = \\frac{66.29}{\\text{s}}$"
      ],
      "text/plain": [
       "Eq(omega_2, 66.29/second)"
      ]
     },
     "metadata": {},
     "output_type": "display_data"
    },
    {
     "data": {
      "text/latex": [
       "$\\displaystyle \\omega_{2 modal} = \\frac{66.29}{\\text{s}}$"
      ],
      "text/plain": [
       "Eq(omega_2_modal, 66.29/second)"
      ]
     },
     "metadata": {},
     "output_type": "display_data"
    }
   ],
   "source": [
    "omega_1_kontrolle = sp.sqrt(K_star[0] / M_star[0])\n",
    "omega_2_kontrolle = sp.sqrt(K_star[3] / M_star[3])\n",
    "\n",
    "render.eq_display('omega_1', omega_1.subs(params).simplify().evalf(3),\n",
    "                  'omega_1_modal', omega_1_kontrolle.subs(params).simplify().evalf(3),\n",
    "                  'omega_2', omega_2.subs(params).simplify().evalf(4),\n",
    "                  'omega_2_modal', omega_2_kontrolle.subs(params).simplify().evalf(4))\n",
    "\n",
    "\n"
   ]
  },
  {
   "attachments": {},
   "cell_type": "markdown",
   "metadata": {},
   "source": [
    "### Partizipationsfaktor $\\Gamma$"
   ]
  },
  {
   "attachments": {},
   "cell_type": "markdown",
   "metadata": {},
   "source": [
    "Die Verteilung des Partizipationsfaktor gibt einen direkten Hinweis, welcher Eigenmode an der Gesamtanwort den grössten Einfluss (beteiligt bzw. partizipiert) hat.\n",
    "\n",
    "$$\\Gamma_n = \\frac{\\Phi_n^T \\mathbf{M 1}}{\\Phi_n^T \\mathbf{M}\\Phi_n}$$\n",
    "\n",
    "In allgemeiner Form lautet der Partizipationsfaktor:\n",
    "\n",
    "$$\\Gamma_n = \\frac{\\Phi_n^T \\mathbf{M r^\\star}}{\\Phi_n^T \\mathbf{M}\\Phi_n}$$\n",
    "\n",
    "$\\mathbf{r^\\star}$ beschreibt die Starrkörperverschiebung infolge der Erdbebenanregung $u_g$ am Fusspunktb des Gesamtsystems.\n",
    "\n",
    "\n",
    "\n",
    "$$\\mathbf{r^\\star} = \\begin{bmatrix}\n",
    "FHG_1 \\\\\n",
    "FHG_2 \n",
    "\\end{bmatrix}=\n",
    "\\begin{bmatrix}\n",
    "\\cos(0) \\\\\n",
    "\\cos(0) \n",
    "\\end{bmatrix}=\n",
    "\\begin{bmatrix}\n",
    "1 \\\\\n",
    "1 \n",
    "\\end{bmatrix}= \\mathbf{1}$$\n"
   ]
  },
  {
   "cell_type": "code",
   "execution_count": 14,
   "metadata": {},
   "outputs": [
    {
     "data": {
      "text/latex": [
       "$\\displaystyle \\Gamma_{1} = \\frac{m_{1} \\phi_{11} + m_{2} \\phi_{21}}{m_{1} \\phi_{11}^{2} + m_{2} \\phi_{21}^{2}}$"
      ],
      "text/plain": [
       "Eq(Gamma_1, (m_1*phi_11 + m_2*phi_21)/(m_1*phi_11**2 + m_2*phi_21**2))"
      ]
     },
     "metadata": {},
     "output_type": "display_data"
    },
    {
     "data": {
      "text/latex": [
       "$\\displaystyle \\Gamma_{1} = 1.33$"
      ],
      "text/plain": [
       "Eq(Gamma_1, 1.33)"
      ]
     },
     "metadata": {},
     "output_type": "display_data"
    },
    {
     "data": {
      "text/latex": [
       "$\\displaystyle \\Gamma_{2} = \\frac{m_{1} \\phi_{12} + m_{2} \\phi_{22}}{m_{1} \\phi_{12}^{2} + m_{2} \\phi_{22}^{2}}$"
      ],
      "text/plain": [
       "Eq(Gamma_2, (m_1*phi_12 + m_2*phi_22)/(m_1*phi_12**2 + m_2*phi_22**2))"
      ]
     },
     "metadata": {},
     "output_type": "display_data"
    },
    {
     "data": {
      "text/latex": [
       "$\\displaystyle \\Gamma_{2} = -0.333$"
      ],
      "text/plain": [
       "Eq(Gamma_2, -0.333)"
      ]
     },
     "metadata": {},
     "output_type": "display_data"
    },
    {
     "data": {
      "text/latex": [
       "$\\displaystyle \\Gamma^{2}_{n} = \\left[\\begin{matrix}1.78\\\\0.111\\end{matrix}\\right]$"
      ],
      "text/plain": [
       "Eq(Gamma^2_n, Matrix([\n",
       "[ 1.78],\n",
       "[0.111]]))"
      ]
     },
     "metadata": {},
     "output_type": "display_data"
    }
   ],
   "source": [
    "one_vec = sp.ones(2,1)\n",
    "\n",
    "gamma_1 = (phi_1.T*M*one_vec)[0]/(phi_1.T*M*phi_1)[0]\n",
    "gamma_2 = (phi_2.T*M*one_vec)[0]/(phi_2.T*M*phi_2)[0]\n",
    "gamma_sqr = sp.Matrix([[gamma_1**2],[gamma_2**2]])\n",
    "render.eq_display('Gamma_1', gamma_1,\n",
    "                  'Gamma_1', gamma_1.subs(params).evalf(3),\n",
    "                  'Gamma_2', gamma_2,\n",
    "                  'Gamma_2', gamma_2.subs(params).evalf(3),\n",
    "                  sp.MatrixSymbol('Gamma^2_n',2,1),gamma_sqr.subs(params).evalf(3))"
   ]
  },
  {
   "attachments": {},
   "cell_type": "markdown",
   "metadata": {},
   "source": [
    "### Effektive Modale Massen\n",
    "\n",
    "Durch Multiplikation der Modalen Massen mit dem Partizipationsfaktor resultieren die effektiven Modalen Massen."
   ]
  },
  {
   "cell_type": "code",
   "execution_count": 15,
   "metadata": {},
   "outputs": [
    {
     "data": {
      "text/latex": [
       "$\\displaystyle m_{1eff} = \\frac{5.33 \\cdot 10^{4} \\text{N} \\text{s}^{2}}{\\text{m}}$"
      ],
      "text/plain": [
       "Eq(m_1eff, 5.33e+4*newton*second**2/meter)"
      ]
     },
     "metadata": {},
     "output_type": "display_data"
    },
    {
     "data": {
      "text/latex": [
       "$\\displaystyle m_{2eff} = \\frac{6.67 \\cdot 10^{3} \\text{N} \\text{s}^{2}}{\\text{m}}$"
      ],
      "text/plain": [
       "Eq(m_2eff, 6.67e+3*newton*second**2/meter)"
      ]
     },
     "metadata": {},
     "output_type": "display_data"
    },
    {
     "data": {
      "text/latex": [
       "$\\displaystyle m_{tot} = \\frac{6.0 \\cdot 10^{4} \\text{N} \\text{s}^{2}}{\\text{m}}$"
      ],
      "text/plain": [
       "Eq(m_tot, 6.0e+4*newton*second**2/meter)"
      ]
     },
     "metadata": {},
     "output_type": "display_data"
    }
   ],
   "source": [
    "m_1_eff = gamma_1**2 * M_star[0]\n",
    "m_2_eff = gamma_2**2 * M_star[3]\n",
    "\n",
    "render.eq_display('m_1eff', m_1_eff.subs(params).evalf(3),\n",
    "                  'm_2eff', m_2_eff.subs(params).evalf(3),\n",
    "                  'm_tot', (m_1_eff+m_2_eff).subs(params).evalf(3))\n"
   ]
  },
  {
   "attachments": {},
   "cell_type": "markdown",
   "metadata": {},
   "source": [
    "### Modale Höhen"
   ]
  },
  {
   "cell_type": "code",
   "execution_count": 16,
   "metadata": {},
   "outputs": [
    {
     "data": {
      "text/latex": [
       "$\\displaystyle \\text{False}$"
      ],
      "text/plain": [
       "False"
      ]
     },
     "metadata": {},
     "output_type": "display_data"
    },
    {
     "data": {
      "text/latex": [
       "$\\displaystyle h_{2} = 3.2 \\text{m}$"
      ],
      "text/plain": [
       "Eq(h_2, 3.2*meter)"
      ]
     },
     "metadata": {},
     "output_type": "display_data"
    }
   ],
   "source": [
    "\n",
    "h_1_star = (H*m_1*phi_11 + H*m_2*phi_12)  / (m_1 * phi_11 + m_2 * phi_12)\n",
    "h_2_star = (H*m_1*phi_21 + H*m_2*phi_22)  / (m_1 * phi_21 + m_2 * phi_22)\n",
    "\n",
    "render.eq_display('h_1', h_1_star.subs(params),\n",
    "                  'h_2', h_2_star.subs(params))"
   ]
  },
  {
   "attachments": {},
   "cell_type": "markdown",
   "metadata": {},
   "source": [
    "## Modale Analyse\n",
    "\n",
    "Die Bewegungsgleichung für einen ungedämpften, periodisch, harmonisch angeregten Mehrmassenschwinger lässt sich folgend beschreiben:\n",
    "\n",
    "$$\\mathbf{M u''(t) + K u = F(t)}$$\n",
    "\n",
    "Die Matrix-Gleichung beschreibt ein System aus Differentialgleichungen. Die Modale Analyse zielt darauf ab, diese zu entkoppeln. Bezogen auf den Mehrmassenschwinger heisst eine Entkoppelung, dass diese in Einmassenschwinger aufgeteilt werden. Dies wird nun schrittweise durchgeführt."
   ]
  },
  {
   "attachments": {},
   "cell_type": "markdown",
   "metadata": {},
   "source": [
    "### Modal- und Spektralmatrix\n",
    "\n",
    "Mittels der Modal- und Spektralmatrix können die generalisierten Grössen ermittelt werden. Diese sind die eigenschaften der einzelnen Einmassenschwinger. Die generalisierten Werte besitzen keine physikalischen Werte, sie sind abhängig von der Wahl der Eigenvektoren, welche bekanntlich von der Normierung abhängen.\n",
    "\n",
    "\n",
    "Aufgrund der Bewegungsgleichung können die generalisierten Grössen bestimmt werden, es gilt:\n",
    "\n",
    "$$\\mathbf{\\Phi^T M \\Phi u''(t) + \\Phi^T K \\Phi u(t) = \\Phi^T F(t)}$$\n",
    "\n",
    "$$\\mathbf{M^*u''(t) + K^* u(t) = F^* (t)}$$\n",
    "\n",
    "Alle $N$-Eigenwerte und alle $N$-Eigenvektoren können kompakt\n",
    "mit Matrizen ausgedrückt werden:\n"
   ]
  },
  {
   "cell_type": "code",
   "execution_count": 17,
   "metadata": {},
   "outputs": [
    {
     "data": {
      "text/latex": [
       "$\\displaystyle Modalmatrix = \\Phi$"
      ],
      "text/plain": [
       "Eq(Modalmatrix, Phi)"
      ]
     },
     "metadata": {},
     "output_type": "display_data"
    },
    {
     "data": {
      "text/latex": [
       "$\\displaystyle \\Phi = \\left[\\begin{matrix}0.5 & -1.0\\\\1.0 & 1.0\\end{matrix}\\right]$"
      ],
      "text/plain": [
       "Eq(Phi, Matrix([\n",
       "[0.5, -1.0],\n",
       "[1.0,  1.0]]))"
      ]
     },
     "metadata": {},
     "output_type": "display_data"
    },
    {
     "data": {
      "text/latex": [
       "$\\displaystyle Spektralmatrix = \\Omega^{2}$"
      ],
      "text/plain": [
       "Eq(Spektralmatrix, Omega**2)"
      ]
     },
     "metadata": {},
     "output_type": "display_data"
    },
    {
     "data": {
      "text/latex": [
       "$\\displaystyle \\Omega^{2} = \\left[\\begin{matrix}\\frac{1099.0}{\\text{s}^{2}} & 0\\\\0 & \\frac{4395.0}{\\text{s}^{2}}\\end{matrix}\\right]$"
      ],
      "text/plain": [
       "Eq(Omega^2, Matrix([\n",
       "[1099.0/second**2,                0],\n",
       "[               0, 4395.0/second**2]]))"
      ]
     },
     "metadata": {},
     "output_type": "display_data"
    }
   ],
   "source": [
    "Phi = sp.Matrix([[phi_1, phi_2]])\n",
    "Omega = sp.Matrix([[omega_1, 0],[0, omega_2]])\n",
    "\n",
    "render.eq_display('Modalmatrix', 'Phi',\n",
    "                  sp.MatrixSymbol('Phi', 2, 2), Phi.subs(params).evalf(4),\n",
    "                  'Spektralmatrix', 'Omega^2',\n",
    "                  sp.MatrixSymbol('Omega^2', 2, 2), (Omega**2).subs(params).evalf(4))"
   ]
  },
  {
   "attachments": {},
   "cell_type": "markdown",
   "metadata": {},
   "source": [
    "### Generalisierte Grössen\n"
   ]
  },
  {
   "cell_type": "code",
   "execution_count": 18,
   "metadata": {},
   "outputs": [
    {
     "data": {
      "text/latex": [
       "$\\displaystyle M^{\\star} = \\left[\\begin{matrix}\\frac{30000.0 \\text{N} \\text{s}^{2}}{\\text{m}} & 0\\\\0 & \\frac{60000.0 \\text{N} \\text{s}^{2}}{\\text{m}}\\end{matrix}\\right]$"
      ],
      "text/plain": [
       "Eq(M^\\star, Matrix([\n",
       "[30000.0*newton*second**2/meter,                              0],\n",
       "[                             0, 60000.0*newton*second**2/meter]]))"
      ]
     },
     "metadata": {},
     "output_type": "display_data"
    },
    {
     "data": {
      "text/latex": [
       "$\\displaystyle K^{\\star} = \\left[\\begin{matrix}\\frac{3.2959 \\cdot 10^{7} \\text{N}}{\\text{m}} & 0\\\\0 & \\frac{2.6367 \\cdot 10^{8} \\text{N}}{\\text{m}}\\end{matrix}\\right]$"
      ],
      "text/plain": [
       "Eq(K^\\star, Matrix([\n",
       "[3.2959e+7*newton/meter,                      0],\n",
       "[                     0, 2.6367e+8*newton/meter]]))"
      ]
     },
     "metadata": {},
     "output_type": "display_data"
    }
   ],
   "source": [
    "M_star = Phi.T * M * Phi\n",
    "K_star = Phi.T * K * Phi\n",
    "\n",
    "\n",
    "render.eq_display(sp.MatrixSymbol('M^\\star', 2,2),sp.simplify(M_star.subs(params)).evalf(5),\n",
    "                  sp.MatrixSymbol('K^\\star', 2,2),sp.simplify(K_star.subs(params)).evalf(5))"
   ]
  },
  {
   "attachments": {},
   "cell_type": "markdown",
   "metadata": {},
   "source": [
    "### Kontrolle der modalen Transformation"
   ]
  },
  {
   "cell_type": "code",
   "execution_count": 19,
   "metadata": {},
   "outputs": [
    {
     "data": {
      "text/latex": [
       "$\\displaystyle \\omega_{1} = \\frac{33.1}{\\text{s}}$"
      ],
      "text/plain": [
       "Eq(omega_1, 33.1/second)"
      ]
     },
     "metadata": {},
     "output_type": "display_data"
    },
    {
     "data": {
      "text/latex": [
       "$\\displaystyle \\omega_{1 modal} = \\frac{33.1}{\\text{s}}$"
      ],
      "text/plain": [
       "Eq(omega_1_modal, 33.1/second)"
      ]
     },
     "metadata": {},
     "output_type": "display_data"
    },
    {
     "data": {
      "text/latex": [
       "$\\displaystyle \\omega_{2} = \\frac{66.29}{\\text{s}}$"
      ],
      "text/plain": [
       "Eq(omega_2, 66.29/second)"
      ]
     },
     "metadata": {},
     "output_type": "display_data"
    },
    {
     "data": {
      "text/latex": [
       "$\\displaystyle \\omega_{2 modal} = \\frac{66.29}{\\text{s}}$"
      ],
      "text/plain": [
       "Eq(omega_2_modal, 66.29/second)"
      ]
     },
     "metadata": {},
     "output_type": "display_data"
    }
   ],
   "source": [
    "omega_1_kontrolle = sp.sqrt(K_star[0] / M_star[0])\n",
    "omega_2_kontrolle = sp.sqrt(K_star[3] / M_star[3])\n",
    "\n",
    "render.eq_display('omega_1', omega_1.subs(params).simplify().evalf(3),\n",
    "                  'omega_1_modal', omega_1_kontrolle.subs(params).simplify().evalf(3),\n",
    "                  'omega_2', omega_2.subs(params).simplify().evalf(4),\n",
    "                  'omega_2_modal', omega_2_kontrolle.subs(params).simplify().evalf(4))\n",
    "\n",
    "\n"
   ]
  },
  {
   "attachments": {},
   "cell_type": "markdown",
   "metadata": {},
   "source": [
    "## Elastisches Antwortspektrum\n",
    "\n",
    "Dem Vorgehen nach **SIA261:2020 16.2.3.2** entsprechend, werden folgende Parameter definiert:\n",
    "\n",
    "- Baugrundklasse B\n",
    "- Erdbebenzone Z2\n",
    "- $a_{gd} = 1.0 \\text{ m}/\\text{s}^2$"
   ]
  },
  {
   "cell_type": "code",
   "execution_count": 20,
   "metadata": {},
   "outputs": [],
   "source": [
    "T_B = 0.08*unit.second\n",
    "T_C = 0.35*unit.second\n",
    "T_D = 2*unit.second\n",
    "S=1.2\n",
    "eta = 1.0\n",
    "a_gd = 1*unit.m/unit.second**2"
   ]
  },
  {
   "attachments": {},
   "cell_type": "markdown",
   "metadata": {},
   "source": [
    "### Grundschwingzeit\n",
    "\n",
    "Die Grundschwingzeit kann anhand der bereits ermittelten Eigenkreisfrequenzen ermittelt werden."
   ]
  },
  {
   "cell_type": "code",
   "execution_count": 21,
   "metadata": {},
   "outputs": [
    {
     "data": {
      "text/latex": [
       "$\\displaystyle T_{1} = 0.19 \\text{s}$"
      ],
      "text/plain": [
       "Eq(T_1, 0.19*second)"
      ]
     },
     "metadata": {},
     "output_type": "display_data"
    },
    {
     "data": {
      "text/latex": [
       "$\\displaystyle T_{2} = 0.0948 \\text{s}$"
      ],
      "text/plain": [
       "Eq(T_2, 0.0948*second)"
      ]
     },
     "metadata": {},
     "output_type": "display_data"
    }
   ],
   "source": [
    "T_1 = (omega_1 /(2*sp.pi))**-1\n",
    "T_2 = (omega_2 /(2*sp.pi))**-1\n",
    "\n",
    "render.eq_display('T_1', T_1.subs(params).evalf(3),\n",
    "                  'T_2', T_2.subs(params).evalf(3),\n",
    "                  )"
   ]
  },
  {
   "attachments": {},
   "cell_type": "markdown",
   "metadata": {},
   "source": [
    "### Elastisches Antwortspektrum"
   ]
  },
  {
   "cell_type": "code",
   "execution_count": 22,
   "metadata": {},
   "outputs": [],
   "source": [
    "def antwortspektrum(T_B, T_C, T_D, eta, S, a_gd,T):\n",
    "    \n",
    "    if T<=T_B:\n",
    "        render.eq_display('S_e','a_gd*S_*(1+(2.5*eta_-1)*T/T_B)')\n",
    "        return a_gd * S *(1+(2.5*eta-1)*T/T_B)\n",
    "    \n",
    "    if T_B<T<=T_C:\n",
    "        render.eq_display('S_e','2.5*a_gd*S_*eta')\n",
    "        return 2.5*a_gd*S*eta\n",
    "    \n",
    "    if T_C<T<=T_D:\n",
    "        render.eq_display('S_e', '2.5*a_gd*S_*eta*T_C/T')\n",
    "        return 2.5*a_gd*S*eta*T_C/T\n",
    "    \n",
    "    if T_D<=T:\n",
    "        render.eq_display('S_e', '2.5*a_gd*S_*eta*T_C*T_D/T**2')\n",
    "        return 2.5*a_gd*S*eta*T_C*T_D/T**2\n",
    "    \n",
    "    else:\n",
    "        print('Falsche Eingabe')\n"
   ]
  },
  {
   "cell_type": "code",
   "execution_count": 23,
   "metadata": {},
   "outputs": [
    {
     "data": {
      "text/latex": [
       "$\\displaystyle S_{e} = 2.5 S_{} a_{gd} \\eta$"
      ],
      "text/plain": [
       "Eq(S_e, 2.5*S_*a_gd*eta)"
      ]
     },
     "metadata": {},
     "output_type": "display_data"
    },
    {
     "data": {
      "text/latex": [
       "$\\displaystyle S_{e 1} = \\frac{3.0 \\text{m}}{\\text{s}^{2}}$"
      ],
      "text/plain": [
       "Eq(S_e_1, 3.0*meter/second**2)"
      ]
     },
     "metadata": {},
     "output_type": "display_data"
    }
   ],
   "source": [
    "\n",
    "S_e_1 = antwortspektrum(T_B, T_C, T_D, eta, S, a_gd, T_1.subs(params).evalf(3))\n",
    "render.eq_display('S_e_1', S_e_1.evalf(3))"
   ]
  },
  {
   "cell_type": "code",
   "execution_count": 24,
   "metadata": {},
   "outputs": [
    {
     "data": {
      "text/latex": [
       "$\\displaystyle S_{e} = 2.5 S_{} a_{gd} \\eta$"
      ],
      "text/plain": [
       "Eq(S_e, 2.5*S_*a_gd*eta)"
      ]
     },
     "metadata": {},
     "output_type": "display_data"
    },
    {
     "data": {
      "text/latex": [
       "$\\displaystyle S_{e 2} = \\frac{3.0 \\text{m}}{\\text{s}^{2}}$"
      ],
      "text/plain": [
       "Eq(S_e_2, 3.0*meter/second**2)"
      ]
     },
     "metadata": {},
     "output_type": "display_data"
    }
   ],
   "source": [
    "S_e_2 = antwortspektrum(T_B, T_C, T_D, eta, S, a_gd, T_2.subs(params).evalf(3))\n",
    "\n",
    "render.eq_display('S_e_2', S_e_2.evalf(3))"
   ]
  },
  {
   "attachments": {},
   "cell_type": "markdown",
   "metadata": {},
   "source": [
    "### Bemessungsspektrum\n",
    "\n",
    "Es wird lediglich auf charakteristischem Niveau die Kräfte bestimmt"
   ]
  },
  {
   "cell_type": "code",
   "execution_count": 25,
   "metadata": {},
   "outputs": [],
   "source": [
    "q = 1.5\n",
    "yf = 1.5"
   ]
  },
  {
   "cell_type": "code",
   "execution_count": 26,
   "metadata": {},
   "outputs": [],
   "source": [
    "def bemessungsspektrum(T_B, T_C, T_D, q, yf, S, a_gd,T):\n",
    "    g = 9.81*unit.m/unit.second**2\n",
    "    if T<=T_B:\n",
    "        render.eq_display('S_d','yf*a_gd/g*S_*(0.67+(2.5/q-0.67)*T/T_B)')\n",
    "        return yf*a_gd/g*S*(0.67+(2.5/q-0.67)*T/T_B)\n",
    "    \n",
    "    if T_B<T<=T_C:\n",
    "        render.eq_display('S_d','2.5*yf*a_gd/g*S_/q')\n",
    "        return 2.5*yf*a_gd/g*S/q\n",
    "    \n",
    "    if T_C<T<=T_D:\n",
    "        render.eq_display('S_e', '2.5*yf*a_gd/g*S_*T_C/(T*q)')\n",
    "        return 2.5*yf*a_gd/g*S*T_C/(T*q)\n",
    "    \n",
    "    if T_D<=T:\n",
    "        return max([2.5*yf*a_gd/g*S*T_C*T_D/(T**2*q),0.1*yf*a_gd/g])\n",
    "    \n",
    "    else:\n",
    "        print('Falsche Eingabe')"
   ]
  },
  {
   "attachments": {},
   "cell_type": "markdown",
   "metadata": {},
   "source": [
    "### Einwirkungen"
   ]
  },
  {
   "cell_type": "code",
   "execution_count": 27,
   "metadata": {},
   "outputs": [
    {
     "data": {
      "text/latex": [
       "$\\displaystyle f_{jn} = \\left[\\begin{matrix}1.07 \\cdot 10^{5} \\text{N} & 5.33 \\cdot 10^{4} \\text{N}\\\\5.33 \\cdot 10^{4} \\text{N} & - 6.67 \\cdot 10^{3} \\text{N}\\end{matrix}\\right]$"
      ],
      "text/plain": [
       "Eq(f_jn, Matrix([\n",
       "[1.07e+5*newton,  5.33e+4*newton],\n",
       "[5.33e+4*newton, -6.67e+3*newton]]))"
      ]
     },
     "metadata": {},
     "output_type": "display_data"
    }
   ],
   "source": [
    "f_11 = gamma_1*m_1_eff*phi_11*S_e_1\n",
    "f_21 = gamma_1*m_2_eff*phi_21*S_e_1\n",
    "\n",
    "f_12 = gamma_2*m_1_eff*phi_12*S_e_2\n",
    "f_22 = gamma_2*m_2_eff*phi_22*S_e_2\n",
    "\n",
    "\n",
    "f_jn = sp.Matrix([[f_11, f_12],[f_12,f_22]])\n",
    "\n",
    "render.eq_display(sp.MatrixSymbol('f_jn', 2,2),f_jn.subs(params).evalf(3))"
   ]
  },
  {
   "attachments": {},
   "cell_type": "markdown",
   "metadata": {},
   "source": [
    "### Deformation"
   ]
  },
  {
   "cell_type": "code",
   "execution_count": 28,
   "metadata": {},
   "outputs": [
    {
     "data": {
      "text/latex": [
       "$\\displaystyle u_{jn} = \\left[\\begin{matrix}1.82 \\text{mm} & 0.228 \\text{mm}\\\\0.228 \\text{mm} & - 0.228 \\text{mm}\\end{matrix}\\right]$"
      ],
      "text/plain": [
       "Eq(u_jn, Matrix([\n",
       "[ 1.82*millimeter,  0.228*millimeter],\n",
       "[0.228*millimeter, -0.228*millimeter]]))"
      ]
     },
     "metadata": {},
     "output_type": "display_data"
    }
   ],
   "source": [
    "u_11 = gamma_1*phi_11*S_e_1/omega_1**2\n",
    "u_21 = gamma_1*phi_21*S_e_1/omega_1**2\n",
    "u_12 = gamma_2*phi_12*S_e_2/omega_2**2\n",
    "u_22 = gamma_2*phi_22*S_e_2/omega_2**2\n",
    "\n",
    "\n",
    "u_jn = sp.Matrix([[u_11, u_12],[u_12,u_22]])\n",
    "\n",
    "render.eq_display(sp.MatrixSymbol('u_jn', 2,2),unit.convert_to(u_jn.subs(params).evalf(3),unit.mm))"
   ]
  },
  {
   "attachments": {},
   "cell_type": "markdown",
   "metadata": {},
   "source": [
    "## Überlagerung der EMS\n",
    "\n",
    "Um die Entkoppelung rückzuführen gilt es die erhaltenen Resultate zu überlagern. Dabei gibt es unterschiedliche Ansätze. Bei weit auseinander liegenden Eigenfrequenzen kann die SRSS-Überlagerung verwendet werden.\n",
    "\n",
    "$$V_{b2max} = \\sqrt{\\sum_{n=1}^2 f_{j,n}^2}$$"
   ]
  },
  {
   "cell_type": "code",
   "execution_count": 29,
   "metadata": {},
   "outputs": [
    {
     "data": {
      "text/latex": [
       "$\\displaystyle V_{b1max} = 1.19 \\cdot 10^{5} \\text{N}$"
      ],
      "text/plain": [
       "Eq(V_b1max, 1.19e+5*newton)"
      ]
     },
     "metadata": {},
     "output_type": "display_data"
    },
    {
     "data": {
      "text/latex": [
       "$\\displaystyle V_{b2max} = 2.75 \\cdot 10^{4} \\text{N}$"
      ],
      "text/plain": [
       "Eq(V_b2max, 2.75e+4*newton)"
      ]
     },
     "metadata": {},
     "output_type": "display_data"
    }
   ],
   "source": [
    "V_b1_max = sp.sqrt(f_11**2 + f_12**2)\n",
    "V_b2_max = sp.sqrt(f_21**2 + f_22**2)\n",
    "\n",
    "render.eq_display('V_b1max',V_b1_max.subs(params).evalf(3),\n",
    "                  'V_b2max', V_b2_max.subs(params).evalf(3))"
   ]
  },
  {
   "attachments": {},
   "cell_type": "markdown",
   "metadata": {},
   "source": [
    "$$u_{bn} = \\sqrt{\\sum_{n=1}^2 u_{j,n}^2}$$"
   ]
  },
  {
   "cell_type": "code",
   "execution_count": 30,
   "metadata": {},
   "outputs": [
    {
     "data": {
      "text/latex": [
       "$\\displaystyle u_{b1} = 1.83 \\text{mm}$"
      ],
      "text/plain": [
       "Eq(u_b1, 1.83*millimeter)"
      ]
     },
     "metadata": {},
     "output_type": "display_data"
    },
    {
     "data": {
      "text/latex": [
       "$\\displaystyle u_{b2} = 3.65 \\text{mm}$"
      ],
      "text/plain": [
       "Eq(u_b2, 3.65*millimeter)"
      ]
     },
     "metadata": {},
     "output_type": "display_data"
    }
   ],
   "source": [
    "u_b1 = sp.sqrt(u_11**2 + u_12**2)\n",
    "u_b2 = sp.sqrt(u_21**2 + u_22**2)\n",
    "\n",
    "render.eq_display('u_b1',unit.convert_to(u_b1.subs(params).evalf(3), unit.mm),\n",
    "                  'u_b2', unit.convert_to(u_b2.subs(params).evalf(3),unit.mm))"
   ]
  }
 ],
 "metadata": {
  "kernelspec": {
   "display_name": "engineering",
   "language": "python",
   "name": "python3"
  },
  "language_info": {
   "codemirror_mode": {
    "name": "ipython",
    "version": 3
   },
   "file_extension": ".py",
   "mimetype": "text/x-python",
   "name": "python",
   "nbconvert_exporter": "python",
   "pygments_lexer": "ipython3",
   "version": "3.10.10"
  },
  "orig_nbformat": 4
 },
 "nbformat": 4,
 "nbformat_minor": 2
}
