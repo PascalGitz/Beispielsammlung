{
 "cells": [
  {
   "attachments": {},
   "cell_type": "markdown",
   "metadata": {},
   "source": [
    "# Eigenvektoren an Rahmentragwerk mit Steifigkeitsmatrix {#sec-mms_rahmen}\n",
    "\n",
    "[Aufgabenstellung](calculations/%C3%9Cbung%201_2_MMS.pdf)\n",
    "\n",
    "![Statisches System des Rahmentragwerks](pictures/system_mms2.jpg){#fig-system}"
   ]
  },
  {
   "cell_type": "code",
   "execution_count": 1,
   "metadata": {},
   "outputs": [],
   "source": [
    "import sympy as sp \n",
    "from sympycalcs import render, convert\n",
    "import sympy.physics.units as unit\n",
    "\n",
    "import matplotlib.pyplot as plt"
   ]
  },
  {
   "attachments": {},
   "cell_type": "markdown",
   "metadata": {},
   "source": [
    "## Parameter der Aufgabenstellung"
   ]
  },
  {
   "cell_type": "code",
   "execution_count": 2,
   "metadata": {},
   "outputs": [
    {
     "data": {
      "text/latex": [
       "$\\displaystyle E = \\frac{30000 \\text{N}}{\\text{mm}^{2}}$"
      ],
      "text/plain": [
       "Eq(E, 30000*newton/millimeter**2)"
      ]
     },
     "metadata": {},
     "output_type": "display_data"
    },
    {
     "data": {
      "text/latex": [
       "$\\displaystyle I = 2000000000 \\text{mm}^{4}$"
      ],
      "text/plain": [
       "Eq(I, 2000000000*millimeter**4)"
      ]
     },
     "metadata": {},
     "output_type": "display_data"
    },
    {
     "data": {
      "text/latex": [
       "$\\displaystyle m_{1} = \\frac{40000 \\text{N} \\text{s}^{2}}{\\text{m}}$"
      ],
      "text/plain": [
       "Eq(m_1, 40000*newton*second**2/meter)"
      ]
     },
     "metadata": {},
     "output_type": "display_data"
    },
    {
     "data": {
      "text/latex": [
       "$\\displaystyle m_{2} = \\frac{20000 \\text{N} \\text{s}^{2}}{\\text{m}}$"
      ],
      "text/plain": [
       "Eq(m_2, 20000*newton*second**2/meter)"
      ]
     },
     "metadata": {},
     "output_type": "display_data"
    },
    {
     "data": {
      "text/latex": [
       "$\\displaystyle l = 4 \\text{m}$"
      ],
      "text/plain": [
       "Eq(l, 4*meter)"
      ]
     },
     "metadata": {},
     "output_type": "display_data"
    },
    {
     "data": {
      "text/latex": [
       "$\\displaystyle H = 3.2 \\text{m}$"
      ],
      "text/plain": [
       "Eq(H, 3.2*meter)"
      ]
     },
     "metadata": {},
     "output_type": "display_data"
    }
   ],
   "source": [
    "params = {'E': 30*10**3 *unit.N/unit.mm**2,\n",
    "          'I':2*10**9*unit.mm**4,\n",
    "          'm_1':2*20000*unit.N*unit.second**2/unit.m,\n",
    "          'm_2':20000*unit.N*unit.second**2/unit.m,\n",
    "          'l':4*unit.m,\n",
    "          'H':3.2*unit.m,\n",
    "          \n",
    "          }\n",
    "\n",
    "render.dict_render(params)"
   ]
  },
  {
   "cell_type": "code",
   "execution_count": 3,
   "metadata": {},
   "outputs": [],
   "source": [
    "omega, t,  l, m_1, m_2, E,I, H = sp.symbols('omega, t,  l, m_1, m_2, E, I, H')\n",
    "\n",
    "omega_n = sp.symbols('omega_n')"
   ]
  },
  {
   "attachments": {},
   "cell_type": "markdown",
   "metadata": {},
   "source": [
    "## Steifigkeitsmatrix $\\mathbf{K}$\n",
    "\n",
    "Zur Bestimmung der Steifigkeitsmatrix ist das System an jedem Freiheitsgrad auszulenken, wie in @fig-steifigkeit dargestellt ist.\n",
    "\n",
    "![Auslenkung der Freiheitsgrade zur Bestimmung der Steifigkeit](pictures/steifigkeit_mms2.jpg){#fig-steifigkeit}\n",
    "\n",
    "Wichtig dabei sind die Richtungen der Kräfte. Als Denkstütze gilt folgendes:\n",
    "- Der Auslenkung um $u$ wirkt die Federkraft entgegen, welche $k u$ entspricht.\n",
    "- Zusätzlich wirkt die Trägheitskraft der Auslenkung entgegen, welche $m u''$ entspricht.\n",
    "- Nach der Betrachtung des ausgelenkten Punkts, kann mittels *Actio-Reactio*-Prinzip das \"*Stockwerk*\" ins Gleichgewicht gebracht werden.\n",
    "- Vorzeichen sind gegen der Bewegungsrichtig positiv."
   ]
  },
  {
   "attachments": {},
   "cell_type": "markdown",
   "metadata": {},
   "source": [
    "### Horizontale Steifigkeit\n",
    "\n",
    "Die horizontale Steifigkeit des Systems lässt sich mittels der Formel für Rahmen bestimmen.\n",
    "\n",
    "$$k_{Stütze} = \\frac{12EI_{Stütze}}{H^3}$$\n",
    "\n",
    "Diese gilt für eine einzelne Stütze."
   ]
  },
  {
   "cell_type": "code",
   "execution_count": 4,
   "metadata": {},
   "outputs": [
    {
     "data": {
      "text/latex": [
       "$\\displaystyle K = \\left[\\begin{matrix}k_{1} + k_{2} & - k_{2}\\\\- k_{2} & k_{2}\\end{matrix}\\right]$"
      ],
      "text/plain": [
       "Eq(K, Matrix([\n",
       "[k_1 + k_2, -k_2],\n",
       "[     -k_2,  k_2]]))"
      ]
     },
     "metadata": {},
     "output_type": "display_data"
    },
    {
     "data": {
      "text/latex": [
       "$\\displaystyle K = \\left[\\begin{matrix}\\frac{1.31836 \\cdot 10^{8} \\text{N}}{\\text{m}} & - \\frac{4.39453 \\cdot 10^{7} \\text{N}}{\\text{m}}\\\\- \\frac{4.39453 \\cdot 10^{7} \\text{N}}{\\text{m}} & \\frac{4.39453 \\cdot 10^{7} \\text{N}}{\\text{m}}\\end{matrix}\\right]$"
      ],
      "text/plain": [
       "Eq(K, Matrix([\n",
       "[ 1.31836e+8*newton/meter, -4.39453e+7*newton/meter],\n",
       "[-4.39453e+7*newton/meter,  4.39453e+7*newton/meter]]))"
      ]
     },
     "metadata": {},
     "output_type": "display_data"
    }
   ],
   "source": [
    "k_1, k_2 = sp.symbols('k_1, k_2')\n",
    "\n",
    "params['k_1'] = 2*(12 * 2*E*I / H**3).subs(params).simplify().evalf(6)\n",
    "params['k_2'] = 2*(12 * E*I / H**3).subs(params).simplify().evalf(6)\n",
    "K = sp.Matrix([[k_1 + k_2, -k_2],[-k_2, k_2]])\n",
    "\n",
    "\n",
    "render.eq_display(sp.MatrixSymbol('K', 2,2), K,\n",
    "                  sp.MatrixSymbol('K', 2,2), K.subs(params),\n",
    "                  )"
   ]
  },
  {
   "attachments": {},
   "cell_type": "markdown",
   "metadata": {},
   "source": [
    "## Eigenvektoren\n",
    "### Massenmatrix $\\mathbf{M}$ \n",
    "\n",
    "Die Massenmatrix folgt dem gleichen Aufbau wie die Steifigkeitsmatrix. Es gelten die gleichen Vorzeichenregelungen."
   ]
  },
  {
   "cell_type": "code",
   "execution_count": 5,
   "metadata": {},
   "outputs": [
    {
     "data": {
      "text/latex": [
       "$\\displaystyle M = \\left[\\begin{matrix}m_{1} & 0\\\\0 & m_{2}\\end{matrix}\\right]$"
      ],
      "text/plain": [
       "Eq(M, Matrix([\n",
       "[m_1,   0],\n",
       "[  0, m_2]]))"
      ]
     },
     "metadata": {},
     "output_type": "display_data"
    },
    {
     "data": {
      "text/latex": [
       "$\\displaystyle M = \\left[\\begin{matrix}\\frac{40000 \\text{N} \\text{s}^{2}}{\\text{m}} & 0\\\\0 & \\frac{20000 \\text{N} \\text{s}^{2}}{\\text{m}}\\end{matrix}\\right]$"
      ],
      "text/plain": [
       "Eq(M, Matrix([\n",
       "[40000*newton*second**2/meter,                            0],\n",
       "[                           0, 20000*newton*second**2/meter]]))"
      ]
     },
     "metadata": {},
     "output_type": "display_data"
    }
   ],
   "source": [
    "m_1, m_2 = sp.symbols('m_1, m_2')\n",
    "M = sp.Matrix([[m_1, 0],[0, m_2]])\n",
    "\n",
    "render.eq_display(sp.MatrixSymbol('M', 2,2), M,\n",
    "                  sp.MatrixSymbol('M', 2,2), M.subs(params))"
   ]
  },
  {
   "attachments": {},
   "cell_type": "markdown",
   "metadata": {},
   "source": [
    "### Eigenkreisfrequenzen \n",
    "Bei einem Mehrmassenschwinger gibt es entsprechend den Freiheitsgraden Eigenkreisfrequenzen $\\omega_n$. Diese lassen sich anhand folgender Gleichung bestimmen:\n",
    "\n",
    "$$\\det{[\\mathbf{K}-\\omega_n^2 \\mathbf{M}]=0}$$"
   ]
  },
  {
   "cell_type": "code",
   "execution_count": 6,
   "metadata": {},
   "outputs": [
    {
     "data": {
      "text/latex": [
       "$\\displaystyle \\omega_{1} = \\frac{33.1}{\\text{s}}$"
      ],
      "text/plain": [
       "Eq(omega_1, 33.1/second)"
      ]
     },
     "metadata": {},
     "output_type": "display_data"
    },
    {
     "data": {
      "text/latex": [
       "$\\displaystyle \\omega_{2} = \\frac{66.3}{\\text{s}}$"
      ],
      "text/plain": [
       "Eq(omega_2, 66.3/second)"
      ]
     },
     "metadata": {},
     "output_type": "display_data"
    }
   ],
   "source": [
    "eq_omega = sp.det(K-omega_n**2*M)\n",
    "\n",
    "omega_n_solve = sp.solve(eq_omega, omega_n)\n",
    "omega_1 = omega_n_solve[1]\n",
    "omega_2 = omega_n_solve[3]\n",
    "\n",
    "render.eq_display('omega_1', omega_1.subs(params).simplify().evalf(3),\n",
    "                  'omega_2', omega_2.subs(params).simplify().evalf(3))"
   ]
  },
  {
   "attachments": {},
   "cell_type": "markdown",
   "metadata": {},
   "source": [
    "### Eigenvektoren $\\phi$"
   ]
  },
  {
   "cell_type": "code",
   "execution_count": 7,
   "metadata": {},
   "outputs": [
    {
     "data": {
      "text/latex": [
       "$\\displaystyle \\left[\\begin{matrix}- k_{2} \\phi_{21} + \\phi_{11} \\left(k_{1} + k_{2} - m_{1} \\left(\\frac{k_{1}}{2 m_{1}} + \\frac{k_{2}}{2 m_{2}} + \\frac{k_{2}}{2 m_{1}} - \\frac{\\sqrt{k_{1}^{2} m_{2}^{2} - 2 k_{1} k_{2} m_{1} m_{2} + 2 k_{1} k_{2} m_{2}^{2} + k_{2}^{2} m_{1}^{2} + 2 k_{2}^{2} m_{1} m_{2} + k_{2}^{2} m_{2}^{2}}}{2 m_{1} m_{2}}\\right)\\right)\\\\- k_{2} \\phi_{11} + \\phi_{21} \\left(k_{2} - m_{2} \\left(\\frac{k_{1}}{2 m_{1}} + \\frac{k_{2}}{2 m_{2}} + \\frac{k_{2}}{2 m_{1}} - \\frac{\\sqrt{k_{1}^{2} m_{2}^{2} - 2 k_{1} k_{2} m_{1} m_{2} + 2 k_{1} k_{2} m_{2}^{2} + k_{2}^{2} m_{1}^{2} + 2 k_{2}^{2} m_{1} m_{2} + k_{2}^{2} m_{2}^{2}}}{2 m_{1} m_{2}}\\right)\\right)\\end{matrix}\\right] = \\left[\\begin{matrix}0\\\\0\\end{matrix}\\right]$"
      ],
      "text/plain": [
       "Eq(Matrix([\n",
       "[-k_2*phi_21 + phi_11*(k_1 + k_2 - m_1*(k_1/(2*m_1) + k_2/(2*m_2) + k_2/(2*m_1) - sqrt(k_1**2*m_2**2 - 2*k_1*k_2*m_1*m_2 + 2*k_1*k_2*m_2**2 + k_2**2*m_1**2 + 2*k_2**2*m_1*m_2 + k_2**2*m_2**2)/(2*m_1*m_2)))],\n",
       "[      -k_2*phi_11 + phi_21*(k_2 - m_2*(k_1/(2*m_1) + k_2/(2*m_2) + k_2/(2*m_1) - sqrt(k_1**2*m_2**2 - 2*k_1*k_2*m_1*m_2 + 2*k_1*k_2*m_2**2 + k_2**2*m_1**2 + 2*k_2**2*m_1*m_2 + k_2**2*m_2**2)/(2*m_1*m_2)))]]), Matrix([\n",
       "[0],\n",
       "[0]]))"
      ]
     },
     "metadata": {},
     "output_type": "display_data"
    },
    {
     "data": {
      "text/latex": [
       "$\\displaystyle \\phi_{1} = \\left[\\begin{matrix}0.5\\\\1.0\\end{matrix}\\right]$"
      ],
      "text/plain": [
       "Eq(phi_1, Matrix([\n",
       "[0.5],\n",
       "[1.0]]))"
      ]
     },
     "metadata": {},
     "output_type": "display_data"
    }
   ],
   "source": [
    "phi_11, phi_21, phi_12, phi_22 = sp.symbols('phi_11, phi_21, phi_12, phi_22')\n",
    "params['phi_21'] = 1\n",
    "\n",
    "phi_1 = sp.Matrix([[phi_11], [phi_21]])\n",
    "\n",
    "phi_11 = list(sp.solve((K-omega_1**2 *M)*phi_1, phi_11).values())[0]\n",
    "\n",
    "params['phi_11'] = phi_11.subs(params).simplify() \n",
    "\n",
    "\n",
    "\n",
    "\n",
    "render.eq_display((K-omega_1**2 *M)*phi_1,sp.Matrix([[0],[0]]),\n",
    "                  sp.MatrixSymbol('phi_1', 2,1),sp.simplify(phi_1.subs(params)).evalf(3))"
   ]
  },
  {
   "cell_type": "code",
   "execution_count": 8,
   "metadata": {},
   "outputs": [
    {
     "data": {
      "text/latex": [
       "$\\displaystyle \\left[\\begin{matrix}- k_{2} \\phi_{22} + \\phi_{12} \\left(k_{1} + k_{2} - m_{1} \\left(\\frac{k_{1}}{2 m_{1}} + \\frac{k_{2}}{2 m_{2}} + \\frac{k_{2}}{2 m_{1}} + \\frac{\\sqrt{k_{1}^{2} m_{2}^{2} - 2 k_{1} k_{2} m_{1} m_{2} + 2 k_{1} k_{2} m_{2}^{2} + k_{2}^{2} m_{1}^{2} + 2 k_{2}^{2} m_{1} m_{2} + k_{2}^{2} m_{2}^{2}}}{2 m_{1} m_{2}}\\right)\\right)\\\\- k_{2} \\phi_{12} + \\phi_{22} \\left(k_{2} - m_{2} \\left(\\frac{k_{1}}{2 m_{1}} + \\frac{k_{2}}{2 m_{2}} + \\frac{k_{2}}{2 m_{1}} + \\frac{\\sqrt{k_{1}^{2} m_{2}^{2} - 2 k_{1} k_{2} m_{1} m_{2} + 2 k_{1} k_{2} m_{2}^{2} + k_{2}^{2} m_{1}^{2} + 2 k_{2}^{2} m_{1} m_{2} + k_{2}^{2} m_{2}^{2}}}{2 m_{1} m_{2}}\\right)\\right)\\end{matrix}\\right] = \\left[\\begin{matrix}0\\\\0\\end{matrix}\\right]$"
      ],
      "text/plain": [
       "Eq(Matrix([\n",
       "[-k_2*phi_22 + phi_12*(k_1 + k_2 - m_1*(k_1/(2*m_1) + k_2/(2*m_2) + k_2/(2*m_1) + sqrt(k_1**2*m_2**2 - 2*k_1*k_2*m_1*m_2 + 2*k_1*k_2*m_2**2 + k_2**2*m_1**2 + 2*k_2**2*m_1*m_2 + k_2**2*m_2**2)/(2*m_1*m_2)))],\n",
       "[      -k_2*phi_12 + phi_22*(k_2 - m_2*(k_1/(2*m_1) + k_2/(2*m_2) + k_2/(2*m_1) + sqrt(k_1**2*m_2**2 - 2*k_1*k_2*m_1*m_2 + 2*k_1*k_2*m_2**2 + k_2**2*m_1**2 + 2*k_2**2*m_1*m_2 + k_2**2*m_2**2)/(2*m_1*m_2)))]]), Matrix([\n",
       "[0],\n",
       "[0]]))"
      ]
     },
     "metadata": {},
     "output_type": "display_data"
    },
    {
     "data": {
      "text/latex": [
       "$\\displaystyle \\phi_{2} = \\left[\\begin{matrix}-1.0\\\\1.0\\end{matrix}\\right]$"
      ],
      "text/plain": [
       "Eq(phi_2, Matrix([\n",
       "[-1.0],\n",
       "[ 1.0]]))"
      ]
     },
     "metadata": {},
     "output_type": "display_data"
    }
   ],
   "source": [
    "params['phi_22'] = 1\n",
    "\n",
    "phi_2 = sp.Matrix([[phi_12], [phi_22]])\n",
    "\n",
    "phi_12 = list(sp.solve((K-omega_2**2 *M)*phi_2, phi_12).values())[0]\n",
    "\n",
    "params['phi_12'] = phi_12.subs(params).simplify() \n",
    "\n",
    "\n",
    "\n",
    "\n",
    "render.eq_display((K-omega_2**2 *M)*phi_2,sp.Matrix([[0],[0]]),\n",
    "                  sp.MatrixSymbol('phi_2', 2,1),sp.simplify(phi_2.subs(params)).evalf(3))"
   ]
  },
  {
   "attachments": {},
   "cell_type": "markdown",
   "metadata": {},
   "source": [
    "### Orthogonalitätsbedingung\n",
    "\n",
    "Zur effektiven Entkoppelung der Gleichungen muss die Orthogonalitätsbedingung eingehalten sein. Dies gilt es für die Massenmatrix zu kontrollieren:\n",
    "\n",
    "$$\\mathbf{\\phi_1^T M \\phi_1 \\neq 0}$$\n",
    "\n",
    "$$\\mathbf{\\phi_2^T M \\phi_2 \\neq 0}$$\n",
    "\n",
    "$$\\mathbf{\\phi_2^T M \\phi_1 = 0}$$\n",
    "\n",
    "Sowohl auch für die Steifigkeitsmatrix:\n",
    "\n",
    "$$\\mathbf{\\phi_1^T K \\phi_1 \\neq 0}$$\n",
    "\n",
    "$$\\mathbf{\\phi_2^T K \\phi_2 \\neq 0}$$\n",
    "\n",
    "$$\\mathbf{\\phi_2^T K \\phi_1 = 0}$$\n",
    "\n"
   ]
  },
  {
   "cell_type": "code",
   "execution_count": 9,
   "metadata": {},
   "outputs": [
    {
     "data": {
      "text/latex": [
       "$\\displaystyle \\phi_{1}^{T} M \\phi_{1} = \\left[\\begin{matrix}\\frac{3.0 \\cdot 10^{4} \\text{N} \\text{s}^{2}}{\\text{m}}\\end{matrix}\\right]$"
      ],
      "text/plain": [
       "Eq(phi_1.T*M*phi_1, Matrix([[3.0e+4*newton*second**2/meter]]))"
      ]
     },
     "metadata": {},
     "output_type": "display_data"
    },
    {
     "data": {
      "text/latex": [
       "$\\displaystyle \\phi_{2}^{T} M \\phi_{2} = \\left[\\begin{matrix}\\frac{6.0 \\cdot 10^{4} \\text{N} \\text{s}^{2}}{\\text{m}}\\end{matrix}\\right]$"
      ],
      "text/plain": [
       "Eq(phi_2.T*M*phi_2, Matrix([[6.0e+4*newton*second**2/meter]]))"
      ]
     },
     "metadata": {},
     "output_type": "display_data"
    },
    {
     "data": {
      "text/latex": [
       "$\\displaystyle \\phi_{2}^{T} M \\phi_{1} = \\left[\\begin{matrix}0\\end{matrix}\\right]$"
      ],
      "text/plain": [
       "Eq(phi_2.T*M*phi_1, Matrix([[0]]))"
      ]
     },
     "metadata": {},
     "output_type": "display_data"
    },
    {
     "data": {
      "text/latex": [
       "$\\displaystyle \\phi_{1}^{T} M \\phi_{2} = \\left[\\begin{matrix}0\\end{matrix}\\right]$"
      ],
      "text/plain": [
       "Eq(phi_1.T*M*phi_2, Matrix([[0]]))"
      ]
     },
     "metadata": {},
     "output_type": "display_data"
    }
   ],
   "source": [
    "render.eq_display(sp.MatrixSymbol('phi_1',2,1).T*sp.MatrixSymbol('M', 2,2)*sp.MatrixSymbol('phi_1',2,1),(phi_1.T*M*phi_1).subs(params).evalf(3),\n",
    "                  \n",
    "                  sp.MatrixSymbol('phi_2',2,1).T*sp.MatrixSymbol('M', 2,2)*sp.MatrixSymbol('phi_2',2,1),(phi_2.T*M*phi_2).subs(params).evalf(3),\n",
    "\n",
    "                  sp.MatrixSymbol('phi_2',2,1).T*sp.MatrixSymbol('M', 2,2)*sp.MatrixSymbol('phi_1',2,1),(phi_2.T*M*phi_1).subs(params).evalf(3),\n",
    "\n",
    "                  sp.MatrixSymbol('phi_1',2,1).T*sp.MatrixSymbol('M', 2,2)*sp.MatrixSymbol('phi_2',2,1),(phi_1.T*M*phi_2).subs(params).evalf(3))"
   ]
  },
  {
   "cell_type": "code",
   "execution_count": 10,
   "metadata": {},
   "outputs": [
    {
     "data": {
      "text/latex": [
       "$\\displaystyle \\phi_{1}^{T} K \\phi_{1} = \\left[\\begin{matrix}\\frac{3.3 \\cdot 10^{7} \\text{N}}{\\text{m}}\\end{matrix}\\right]$"
      ],
      "text/plain": [
       "Eq(phi_1.T*K*phi_1, Matrix([[3.3e+7*newton/meter]]))"
      ]
     },
     "metadata": {},
     "output_type": "display_data"
    },
    {
     "data": {
      "text/latex": [
       "$\\displaystyle \\phi_{2}^{T} K \\phi_{2} = \\left[\\begin{matrix}\\frac{2.64 \\cdot 10^{8} \\text{N}}{\\text{m}}\\end{matrix}\\right]$"
      ],
      "text/plain": [
       "Eq(phi_2.T*K*phi_2, Matrix([[2.64e+8*newton/meter]]))"
      ]
     },
     "metadata": {},
     "output_type": "display_data"
    },
    {
     "data": {
      "text/latex": [
       "$\\displaystyle \\phi_{2}^{T} K \\phi_{1} = \\left[\\begin{matrix}0\\end{matrix}\\right]$"
      ],
      "text/plain": [
       "Eq(phi_2.T*K*phi_1, Matrix([[0]]))"
      ]
     },
     "metadata": {},
     "output_type": "display_data"
    },
    {
     "data": {
      "text/latex": [
       "$\\displaystyle \\phi_{1}^{T} K \\phi_{2} = \\left[\\begin{matrix}0\\end{matrix}\\right]$"
      ],
      "text/plain": [
       "Eq(phi_1.T*K*phi_2, Matrix([[0]]))"
      ]
     },
     "metadata": {},
     "output_type": "display_data"
    }
   ],
   "source": [
    "render.eq_display(sp.MatrixSymbol('phi_1',2,1).T*sp.MatrixSymbol('K', 2,2)*sp.MatrixSymbol('phi_1',2,1),sp.simplify((phi_1.T*K*phi_1).subs(params)).evalf(3),\n",
    "                  \n",
    "                  sp.MatrixSymbol('phi_2',2,1).T*sp.MatrixSymbol('K', 2,2)*sp.MatrixSymbol('phi_2',2,1),sp.simplify((phi_2.T*K*phi_2).subs(params)).evalf(3),\n",
    "\n",
    "                  sp.MatrixSymbol('phi_2',2,1).T*sp.MatrixSymbol('K', 2,2)*sp.MatrixSymbol('phi_1',2,1),sp.simplify((phi_2.T*K*phi_1).subs(params)).evalf(4),\n",
    "                  \n",
    "                  sp.MatrixSymbol('phi_1',2,1).T*sp.MatrixSymbol('K', 2,2)*sp.MatrixSymbol('phi_2',2,1),sp.simplify((phi_1.T*K*phi_2).subs(params)).evalf(4))"
   ]
  },
  {
   "attachments": {},
   "cell_type": "markdown",
   "metadata": {},
   "source": [
    "### Eigenformen\n",
    "\n",
    "![Die beiden Eigenformen skizziert](pictures/eigenformen_mms2.jpg){#fig-eigenformen}"
   ]
  }
 ],
 "metadata": {
  "kernelspec": {
   "display_name": "engineering",
   "language": "python",
   "name": "python3"
  },
  "language_info": {
   "codemirror_mode": {
    "name": "ipython",
    "version": 3
   },
   "file_extension": ".py",
   "mimetype": "text/x-python",
   "name": "python",
   "nbconvert_exporter": "python",
   "pygments_lexer": "ipython3",
   "version": "3.10.10"
  },
  "orig_nbformat": 4
 },
 "nbformat": 4,
 "nbformat_minor": 2
}
