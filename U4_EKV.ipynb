{
 "cells": [
  {
   "cell_type": "code",
   "execution_count": 1,
   "metadata": {},
   "outputs": [],
   "source": [
    "import sympy as sp \n",
    "from sympycalcs import render, convert\n",
    "import sympy.physics.units as unit\n",
    "from sympy.abc import *\n",
    "import numpy as np\n",
    "\n",
    "import matplotlib.pyplot as plt\n",
    "\n",
    "sp.init_printing(use_latex='mathjax', latex_mode='equation*')"
   ]
  },
  {
   "cell_type": "markdown",
   "metadata": {},
   "source": [
    "# Beispiel: Schubmittelpunkt und Stockwerksquerkraft\n",
    "\n",
    "## Aufgabenstellung\n",
    "\n",
    "![Grundriss und Schnitt des Gebäudes mit dem entsprechenden statischen System](bilder/ekv1.jpg){#fig-ekv_system width=80%}\n",
    "\n",
    "\n",
    "![Modellierung als Mehrmassenschwinger](bilder/ekv2.jpg){width=80%}"
   ]
  },
  {
   "cell_type": "markdown",
   "metadata": {},
   "source": [
    "{{< pagebreak >}}\n",
    "\n",
    "## Musterlösung"
   ]
  },
  {
   "cell_type": "code",
   "execution_count": 2,
   "metadata": {},
   "outputs": [
    {
     "data": {
      "text/markdown": [
       "| Parameter |  |\n",
       "|---|---|\n",
       "| $E = \\frac{30000000000 \\text{N}}{\\text{m}^{2}}$ | $d = 0.3 \\text{m}$ |\n",
       "| $l_{w1} = 4 \\text{m}$ | $l_{w2} = 3 \\text{m}$ |\n",
       "| $l_{w3} = 5 \\text{m}$ | $l_{w4} = 3 \\text{m}$ |\n",
       "| $l_{x} = 4 \\text{m}$ | $l_{y} = 5 \\text{m}$ |\n"
      ],
      "text/plain": [
       "<IPython.core.display.Markdown object>"
      ]
     },
     "metadata": {},
     "output_type": "display_data"
    }
   ],
   "source": [
    "#| label: tbl-parameter_ekv1\n",
    "#| tbl-cap: Verwendete Parameter\n",
    "\n",
    "params = {\n",
    "    'E':30000 *10**6 *unit.N/unit.m**2,\n",
    "    'd':0.3*unit.m,\n",
    "    'l_y':5*unit.m, \n",
    "    'l_x':4*unit.m,\n",
    "    'l_w1':4*unit.m,\n",
    "    'l_w2':3*unit.m,\n",
    "    'l_w3':5*unit.m,\n",
    "    'l_w4':3*unit.m, \n",
    "    \n",
    "}\n",
    "\n",
    "render.dict_to_table(params)"
   ]
  },
  {
   "cell_type": "code",
   "execution_count": 3,
   "metadata": {},
   "outputs": [],
   "source": [
    "E, d, l_y, l_x, l_w1, l_w2, l_w3, l_w4 = sp.symbols('E, d, l_y, l_x, l_w1, l_w2, l_w3, l_w4')"
   ]
  },
  {
   "cell_type": "markdown",
   "metadata": {},
   "source": [
    "### Schubmittelpunkt\n",
    "\n",
    "Für die Berechnung des Schubmittelpunktes C wird zunächst angenommen dass sich\n",
    "die Wandscheiben **parallel** in y- bzw. z-Richtungen verschieben.\n",
    "Es findet somit **keine Verdrehung** statt.\n",
    "Die gleichen Verschiebung wird durch die starre Deckenscheibe gewährleistet.\n",
    "Die Wandscheiben können als Biegestäbe (Kragarme) mit der Biegesteifigkeit EI\n",
    "in die jeweilige y- bzw. z-Richtung betrachtet werden. Jede Wandscheibe erfährt\n",
    "bei einer parallelen Verschiebung der starren Deckenscheibe\n",
    "in die jeweilge Richtung die gleiche Kopfverformung (parallel geschaltete Federn).\n",
    "\n"
   ]
  },
  {
   "cell_type": "markdown",
   "metadata": {},
   "source": [
    "#### Abstand vom Koordinatennullpunkt"
   ]
  },
  {
   "cell_type": "code",
   "execution_count": 4,
   "metadata": {},
   "outputs": [
    {
     "data": {
      "text/latex": [
       "\\begin{equation*}x_{1} = - 4.0 \\text{m}\\end{equation*}"
      ],
      "text/plain": [
       "x₁ = -4.0⋅meter"
      ]
     },
     "metadata": {},
     "output_type": "display_data"
    },
    {
     "data": {
      "text/latex": [
       "\\begin{equation*}x_{2} = 4.5 \\text{m}\\end{equation*}"
      ],
      "text/plain": [
       "x₂ = 4.5⋅meter"
      ]
     },
     "metadata": {},
     "output_type": "display_data"
    },
    {
     "data": {
      "text/latex": [
       "\\begin{equation*}x_{3} = - 6.0 \\text{m}\\end{equation*}"
      ],
      "text/plain": [
       "x₃ = -6.0⋅meter"
      ]
     },
     "metadata": {},
     "output_type": "display_data"
    },
    {
     "data": {
      "text/latex": [
       "\\begin{equation*}x_{4} = 10.0 \\text{m}\\end{equation*}"
      ],
      "text/plain": [
       "x₄ = 10.0⋅meter"
      ]
     },
     "metadata": {},
     "output_type": "display_data"
    }
   ],
   "source": [
    "x_i = np.array([\n",
    "       -l_x,\n",
    "       sp.Rational(1.5)*l_x - l_w2/2,\n",
    "       -sp.Rational(1.5)*l_x,\n",
    "       sp.Rational(2.5)*l_x\n",
    "])\n",
    "\n",
    "for x in enumerate(x_i): \n",
    "       render.eq_display(f'x_{x[0]+1}',x[1].subs(params).evalf(2))"
   ]
  },
  {
   "cell_type": "code",
   "execution_count": 5,
   "metadata": {},
   "outputs": [
    {
     "data": {
      "text/latex": [
       "\\begin{equation*}y_{1} = 7.5 \\text{m}\\end{equation*}"
      ],
      "text/plain": [
       "y₁ = 7.5⋅meter"
      ]
     },
     "metadata": {},
     "output_type": "display_data"
    },
    {
     "data": {
      "text/latex": [
       "\\begin{equation*}y_{2} = - 7.5 \\text{m}\\end{equation*}"
      ],
      "text/plain": [
       "y₂ = -7.5⋅meter"
      ]
     },
     "metadata": {},
     "output_type": "display_data"
    },
    {
     "data": {
      "text/latex": [
       "\\begin{equation*}y_{3} = 0\\end{equation*}"
      ],
      "text/plain": [
       "y₃ = 0"
      ]
     },
     "metadata": {},
     "output_type": "display_data"
    },
    {
     "data": {
      "text/latex": [
       "\\begin{equation*}y_{4} = 6.0 \\text{m}\\end{equation*}"
      ],
      "text/plain": [
       "y₄ = 6.0⋅meter"
      ]
     },
     "metadata": {},
     "output_type": "display_data"
    }
   ],
   "source": [
    "y_i = np.array([\n",
    "    sp.Rational(1.5)*l_y,\n",
    "    -sp.Rational(1.5)*l_y,\n",
    "    0*l_y,\n",
    "    sp.Rational(1.5)*l_y - l_w4/2      \n",
    "])\n",
    "\n",
    "for y in enumerate(y_i): \n",
    "    render.eq_display(f'y_{y[0]+1}',y[1].subs(params).evalf(2))"
   ]
  },
  {
   "cell_type": "markdown",
   "metadata": {},
   "source": [
    "#### Wandlängen"
   ]
  },
  {
   "cell_type": "markdown",
   "metadata": {},
   "source": [
    "Wandlängen in $X$-Richtung"
   ]
  },
  {
   "cell_type": "code",
   "execution_count": 6,
   "metadata": {},
   "outputs": [
    {
     "data": {
      "text/latex": [
       "\\begin{equation*}l_{x1} = 4.0 \\text{m}\\end{equation*}"
      ],
      "text/plain": [
       "lₓ₁ = 4.0⋅meter"
      ]
     },
     "metadata": {},
     "output_type": "display_data"
    },
    {
     "data": {
      "text/latex": [
       "\\begin{equation*}l_{x2} = 3.0 \\text{m}\\end{equation*}"
      ],
      "text/plain": [
       "lₓ₂ = 3.0⋅meter"
      ]
     },
     "metadata": {},
     "output_type": "display_data"
    },
    {
     "data": {
      "text/latex": [
       "\\begin{equation*}l_{x3} = 0.3 \\text{m}\\end{equation*}"
      ],
      "text/plain": [
       "lₓ₃ = 0.3⋅meter"
      ]
     },
     "metadata": {},
     "output_type": "display_data"
    },
    {
     "data": {
      "text/latex": [
       "\\begin{equation*}l_{x4} = 0.3 \\text{m}\\end{equation*}"
      ],
      "text/plain": [
       "lₓ₄ = 0.3⋅meter"
      ]
     },
     "metadata": {},
     "output_type": "display_data"
    }
   ],
   "source": [
    "l_x_i = np.array([\n",
    "    l_w1, \n",
    "    l_w2,\n",
    "    d,\n",
    "    d\n",
    "])\n",
    "\n",
    "for x in enumerate(l_x_i): \n",
    "       render.eq_display(f'l_x{x[0]+1}',x[1].subs(params).evalf(2))"
   ]
  },
  {
   "cell_type": "markdown",
   "metadata": {},
   "source": [
    "Wandlängen in $Y$-Richtung"
   ]
  },
  {
   "cell_type": "code",
   "execution_count": 7,
   "metadata": {},
   "outputs": [
    {
     "data": {
      "text/latex": [
       "\\begin{equation*}l_{y1} = 0.3 \\text{m}\\end{equation*}"
      ],
      "text/plain": [
       "l_y1 = 0.3⋅meter"
      ]
     },
     "metadata": {},
     "output_type": "display_data"
    },
    {
     "data": {
      "text/latex": [
       "\\begin{equation*}l_{y2} = 0.3 \\text{m}\\end{equation*}"
      ],
      "text/plain": [
       "l_y2 = 0.3⋅meter"
      ]
     },
     "metadata": {},
     "output_type": "display_data"
    },
    {
     "data": {
      "text/latex": [
       "\\begin{equation*}l_{y3} = 5.0 \\text{m}\\end{equation*}"
      ],
      "text/plain": [
       "l_y3 = 5.0⋅meter"
      ]
     },
     "metadata": {},
     "output_type": "display_data"
    },
    {
     "data": {
      "text/latex": [
       "\\begin{equation*}l_{y4} = 3.0 \\text{m}\\end{equation*}"
      ],
      "text/plain": [
       "l_y4 = 3.0⋅meter"
      ]
     },
     "metadata": {},
     "output_type": "display_data"
    }
   ],
   "source": [
    "l_y_i = np.array([\n",
    "    d,\n",
    "    d,\n",
    "    l_w3,\n",
    "    l_w4\n",
    "])\n",
    "\n",
    "for y in enumerate(l_y_i): \n",
    "       render.eq_display(f'l_y{y[0]+1}',y[1].subs(params).evalf(2))"
   ]
  },
  {
   "cell_type": "markdown",
   "metadata": {},
   "source": [
    "#### Trägheitsmoment\n",
    "\n",
    "Lediglich die Eigenträgheitsmomente sind beschrieben."
   ]
  },
  {
   "cell_type": "code",
   "execution_count": 8,
   "metadata": {},
   "outputs": [
    {
     "data": {
      "text/latex": [
       "\\begin{equation*}I_{x1} = 0.009 \\text{m}^{4}\\end{equation*}"
      ],
      "text/plain": [
       "                 4\n",
       "Iₓ₁ = 0.009⋅meter "
      ]
     },
     "metadata": {},
     "output_type": "display_data"
    },
    {
     "data": {
      "text/latex": [
       "\\begin{equation*}I_{x2} = 0.00675 \\text{m}^{4}\\end{equation*}"
      ],
      "text/plain": [
       "                   4\n",
       "Iₓ₂ = 0.00675⋅meter "
      ]
     },
     "metadata": {},
     "output_type": "display_data"
    },
    {
     "data": {
      "text/latex": [
       "\\begin{equation*}I_{x3} = 3.125 \\text{m}^{4}\\end{equation*}"
      ],
      "text/plain": [
       "                 4\n",
       "Iₓ₃ = 3.125⋅meter "
      ]
     },
     "metadata": {},
     "output_type": "display_data"
    },
    {
     "data": {
      "text/latex": [
       "\\begin{equation*}I_{x4} = 0.675 \\text{m}^{4}\\end{equation*}"
      ],
      "text/plain": [
       "                 4\n",
       "Iₓ₄ = 0.675⋅meter "
      ]
     },
     "metadata": {},
     "output_type": "display_data"
    }
   ],
   "source": [
    "I_x_i = l_y_i**3 * l_x_i / 12 \n",
    "\n",
    "for x in enumerate(I_x_i):\n",
    "    render.eq_display(f'I_x{x[0]+1}', x[1].subs(params))"
   ]
  },
  {
   "cell_type": "code",
   "execution_count": 9,
   "metadata": {},
   "outputs": [
    {
     "data": {
      "text/latex": [
       "\\begin{equation*}I_{y1} = 1.6 \\text{m}^{4}\\end{equation*}"
      ],
      "text/plain": [
       "                4\n",
       "I_y1 = 1.6⋅meter "
      ]
     },
     "metadata": {},
     "output_type": "display_data"
    },
    {
     "data": {
      "text/latex": [
       "\\begin{equation*}I_{y2} = 0.675 \\text{m}^{4}\\end{equation*}"
      ],
      "text/plain": [
       "                  4\n",
       "I_y2 = 0.675⋅meter "
      ]
     },
     "metadata": {},
     "output_type": "display_data"
    },
    {
     "data": {
      "text/latex": [
       "\\begin{equation*}I_{y3} = 0.01125 \\text{m}^{4}\\end{equation*}"
      ],
      "text/plain": [
       "                    4\n",
       "I_y3 = 0.01125⋅meter "
      ]
     },
     "metadata": {},
     "output_type": "display_data"
    },
    {
     "data": {
      "text/latex": [
       "\\begin{equation*}I_{y4} = 0.00675 \\text{m}^{4}\\end{equation*}"
      ],
      "text/plain": [
       "                    4\n",
       "I_y4 = 0.00675⋅meter "
      ]
     },
     "metadata": {},
     "output_type": "display_data"
    }
   ],
   "source": [
    "I_y_i = l_x_i**3 * l_y_i / 12 \n",
    "\n",
    "for y in enumerate(I_y_i):\n",
    "    render.eq_display(f'I_y{y[0]+1}', y[1].subs(params))"
   ]
  },
  {
   "cell_type": "code",
   "execution_count": 10,
   "metadata": {},
   "outputs": [
    {
     "data": {
      "text/latex": [
       "\\begin{equation*}I_{x ersatz} = 3.81575 \\text{m}^{4}\\end{equation*}"
      ],
      "text/plain": [
       "                          4\n",
       "I_x_ersatz = 3.81575⋅meter "
      ]
     },
     "metadata": {},
     "output_type": "display_data"
    },
    {
     "data": {
      "text/latex": [
       "\\begin{equation*}I_{y ersatz} = 2.293 \\text{m}^{4}\\end{equation*}"
      ],
      "text/plain": [
       "                        4\n",
       "I_y_ersatz = 2.293⋅meter "
      ]
     },
     "metadata": {},
     "output_type": "display_data"
    },
    {
     "data": {
      "text/latex": [
       "\\begin{equation*}EI_{x ersatz} = 114472500000.0 \\text{m}^{2} \\text{N}\\end{equation*}"
      ],
      "text/plain": [
       "                                  2       \n",
       "EI_x_ersatz = 114472500000.0⋅meter ⋅newton"
      ]
     },
     "metadata": {},
     "output_type": "display_data"
    },
    {
     "data": {
      "text/latex": [
       "\\begin{equation*}EI_{y ersatz} = 68790000000.0 \\text{m}^{2} \\text{N}\\end{equation*}"
      ],
      "text/plain": [
       "                                 2       \n",
       "EI_y_ersatz = 68790000000.0⋅meter ⋅newton"
      ]
     },
     "metadata": {},
     "output_type": "display_data"
    }
   ],
   "source": [
    "I_x_ersatz = np.sum(I_x_i)\n",
    "I_y_ersatz = np.sum(I_y_i)\n",
    "\n",
    "render.eq_display('I_x_ersatz', I_x_ersatz.subs(params),\n",
    "                  'I_y_ersatz', I_y_ersatz.subs(params),\n",
    "                  'EI_x_ersatz', (E*I_x_ersatz).subs(params),\n",
    "                  'EI_y_ersatz', (E*I_y_ersatz).subs(params))"
   ]
  },
  {
   "cell_type": "markdown",
   "metadata": {},
   "source": [
    "#### Abstände des Schubmittelpunkts zum Massenschwerpunkt\n",
    "\n",
    "$$y_c = \\frac{\\sum_{i=1}^n EI_{y,i}y_i}{\\sum_{i=1}^n EI_{y,i}}$$\n",
    "$$x_c = \\frac{\\sum_{i=1}^n EI_{x,i}x_i}{\\sum_{i=1}^n EI_{x,i}}$$"
   ]
  },
  {
   "cell_type": "code",
   "execution_count": 11,
   "metadata": {},
   "outputs": [
    {
     "data": {
      "text/latex": [
       "\\begin{equation*}y_{c} = 3.04 \\text{m}\\end{equation*}"
      ],
      "text/plain": [
       "y_c = 3.04⋅meter"
      ]
     },
     "metadata": {},
     "output_type": "display_data"
    },
    {
     "data": {
      "text/latex": [
       "\\begin{equation*}x_{c} = - 3.15 \\text{m}\\end{equation*}"
      ],
      "text/plain": [
       "x_c = -3.15⋅meter"
      ]
     },
     "metadata": {},
     "output_type": "display_data"
    }
   ],
   "source": [
    "x_i_0 = np.array([\n",
    "       sp.Rational(1.5)*l_x,\n",
    "       sp.Rational(4)*l_x - l_w2/2,\n",
    "       l_x,\n",
    "       sp.Rational(5)*l_x\n",
    "])\n",
    "\n",
    "y_i_0 = np.array([\n",
    "    sp.Rational(3)*l_y,\n",
    "    0*l_y,\n",
    "    sp.Rational(1.5)*l_y,\n",
    "    sp.Rational(3)*l_y-l_w4/2      \n",
    "])\n",
    "y_c = np.sum(E*I_y_i*y_i) / np.sum(E*I_y_i)\n",
    "x_c = np.sum(E*I_x_i*x_i) / np.sum(E*I_x_i)\n",
    "\n",
    "render.eq_display('y_c', y_c.subs(params).evalf(3),\n",
    "                  'x_c', x_c.subs(params).evalf(3))"
   ]
  },
  {
   "cell_type": "code",
   "execution_count": 12,
   "metadata": {},
   "outputs": [
    {
     "data": {
      "image/png": "[encoded data removed]",
      "text/plain": [
       "<Figure size 640x480 with 1 Axes>"
      ]
     },
     "metadata": {},
     "output_type": "display_data"
    }
   ],
   "source": [
    "#| label: fig-darstellung_berechnung\n",
    "#| fig-cap: \"Grundriss mit Schubmittelpunkt\"\n",
    "\n",
    "\n",
    "##Wandschwerpunkte\n",
    "x_i_plot = [x.subs(params)/unit.m for x in x_i]\n",
    "y_i_plot = [y.subs(params)/unit.m for y in y_i]\n",
    "\n",
    "\n",
    "##Plattenrand\n",
    "platte_x = [-sp.Rational(2.5)*l_x, sp.Rational(2.5)*l_x,\n",
    "            sp.Rational(2.5)*l_x, -sp.Rational(2.5)*l_x,\n",
    "            -sp.Rational(2.5)*l_x]\n",
    "platte_y = [-sp.Rational(1.5)*l_y, -sp.Rational(1.5)*l_y,\n",
    "            sp.Rational(1.5)*l_y, sp.Rational(1.5)*l_y,\n",
    "            -sp.Rational(1.5)*l_y]\n",
    "\n",
    "platte_x_plot = [x.subs(params)/unit.m for x in platte_x]\n",
    "platte_y_plot = [y.subs(params)/unit.m for y in platte_y]\n",
    "\n",
    "\n",
    "##Schubmittelpunkt\n",
    "x_c_plot = x_c.subs(params).evalf(3)/unit.m\n",
    "y_c_plot = y_c.subs(params).evalf(3)/unit.m\n",
    "\n",
    "\n",
    "\n",
    "\n",
    "plt.plot(platte_x_plot, platte_y_plot, color='black', label='Plattenrand', linewidth=0.5)\n",
    "plt.scatter(x_i_plot, y_i_plot, color='red', marker='+', label='Wandschwerpunkt')\n",
    "plt.scatter(0, 0, color='blue', marker='o', label='Massenschwerpunkt')\n",
    "plt.scatter(x_c_plot, y_c_plot, color='darkgreen', marker='o', label='Schubmittelpunkt')\n",
    "plt.annotate(f'\\n x = {x_c_plot}\\n y = {y_c_plot}', xy = [x_c_plot*1, y_c_plot*1.2])\n",
    "plt.legend(loc='upper center', bbox_to_anchor=(0.5, -0.1),\n",
    "          fancybox=True, shadow=True, ncol=2)\n",
    "plt.show()"
   ]
  },
  {
   "cell_type": "markdown",
   "metadata": {},
   "source": [
    "### Stockwerkquerkraft"
   ]
  },
  {
   "cell_type": "markdown",
   "metadata": {},
   "source": [
    "Als Annahme dient eine Stockwerkquerkraft von $100$ kN in $Y$-Richtung. Verschoben in den Schubmittelpunkt resultiert eine Querkraft und ein Torsionsmoment $T$.\n",
    "\n",
    "Des Weiteren wird das Koordinatensystem auf den Schubmittelpunkt geschoben.\n"
   ]
  },
  {
   "cell_type": "code",
   "execution_count": 13,
   "metadata": {},
   "outputs": [
    {
     "data": {
      "text/latex": [
       "\\begin{equation*}V_{y tot} = 1.0 \\cdot 10^{5} \\text{N}\\end{equation*}"
      ],
      "text/plain": [
       "V_y_tot = 1.0e+5⋅newton"
      ]
     },
     "metadata": {},
     "output_type": "display_data"
    },
    {
     "data": {
      "text/latex": [
       "\\begin{equation*}T_{yc} = 3.15 \\cdot 10^{5} \\text{m} \\text{N}\\end{equation*}"
      ],
      "text/plain": [
       "T_yc = 3.15e+5⋅meter⋅newton"
      ]
     },
     "metadata": {},
     "output_type": "display_data"
    }
   ],
   "source": [
    "V_y_tot = 100*10**3*unit.N\n",
    "T_yc = V_y_tot * sp.Abs(x_c)\n",
    "\n",
    "render.eq_display('V_y_tot', V_y_tot.subs(params).evalf(3),\n",
    "                  'T_yc', T_yc.subs(params).evalf(3))"
   ]
  },
  {
   "cell_type": "markdown",
   "metadata": {},
   "source": [
    "#### Wandkoordinaten zum Schubmittelpunkt"
   ]
  },
  {
   "cell_type": "code",
   "execution_count": 14,
   "metadata": {},
   "outputs": [
    {
     "data": {
      "text/latex": [
       "\\begin{equation*}x_{1} = - 0.854 \\text{m}\\end{equation*}"
      ],
      "text/plain": [
       "x₁ = -0.854⋅meter"
      ]
     },
     "metadata": {},
     "output_type": "display_data"
    },
    {
     "data": {
      "text/latex": [
       "\\begin{equation*}x_{2} = 7.65 \\text{m}\\end{equation*}"
      ],
      "text/plain": [
       "x₂ = 7.65⋅meter"
      ]
     },
     "metadata": {},
     "output_type": "display_data"
    },
    {
     "data": {
      "text/latex": [
       "\\begin{equation*}x_{3} = - 2.85 \\text{m}\\end{equation*}"
      ],
      "text/plain": [
       "x₃ = -2.85⋅meter"
      ]
     },
     "metadata": {},
     "output_type": "display_data"
    },
    {
     "data": {
      "text/latex": [
       "\\begin{equation*}x_{4} = 13.1 \\text{m}\\end{equation*}"
      ],
      "text/plain": [
       "x₄ = 13.1⋅meter"
      ]
     },
     "metadata": {},
     "output_type": "display_data"
    }
   ],
   "source": [
    "x_i_star = x_i-x_c\n",
    "\n",
    "for x in enumerate(x_i_star): \n",
    "       render.eq_display(f'x_{x[0]+1}',x[1].subs(params).evalf(3))"
   ]
  },
  {
   "cell_type": "code",
   "execution_count": 15,
   "metadata": {},
   "outputs": [
    {
     "data": {
      "text/latex": [
       "\\begin{equation*}y_{1} = 4.46 \\text{m}\\end{equation*}"
      ],
      "text/plain": [
       "y₁ = 4.46⋅meter"
      ]
     },
     "metadata": {},
     "output_type": "display_data"
    },
    {
     "data": {
      "text/latex": [
       "\\begin{equation*}y_{2} = - 10.5 \\text{m}\\end{equation*}"
      ],
      "text/plain": [
       "y₂ = -10.5⋅meter"
      ]
     },
     "metadata": {},
     "output_type": "display_data"
    },
    {
     "data": {
      "text/latex": [
       "\\begin{equation*}y_{3} = - 3.04 \\text{m}\\end{equation*}"
      ],
      "text/plain": [
       "y₃ = -3.04⋅meter"
      ]
     },
     "metadata": {},
     "output_type": "display_data"
    },
    {
     "data": {
      "text/latex": [
       "\\begin{equation*}y_{4} = 2.96 \\text{m}\\end{equation*}"
      ],
      "text/plain": [
       "y₄ = 2.96⋅meter"
      ]
     },
     "metadata": {},
     "output_type": "display_data"
    }
   ],
   "source": [
    "y_i_star = y_i - y_c\n",
    "\n",
    "for y in enumerate(y_i_star): \n",
    "    render.eq_display(f'y_{y[0]+1}',y[1].subs(params).evalf(3))"
   ]
  },
  {
   "cell_type": "markdown",
   "metadata": {},
   "source": [
    "#### Wandquerkraft\n",
    "\n",
    "Die Kräfte wirken jeweils parallel zur Wandebene."
   ]
  },
  {
   "cell_type": "code",
   "execution_count": 16,
   "metadata": {},
   "outputs": [
    {
     "data": {
      "text/latex": [
       "\\begin{equation*}V_{y1} = 226.0 \\text{N}\\end{equation*}"
      ],
      "text/plain": [
       "V_y1 = 226.0⋅newton"
      ]
     },
     "metadata": {},
     "output_type": "display_data"
    },
    {
     "data": {
      "text/latex": [
       "\\begin{equation*}V_{y2} = 242.0 \\text{N}\\end{equation*}"
      ],
      "text/plain": [
       "V_y2 = 242.0⋅newton"
      ]
     },
     "metadata": {},
     "output_type": "display_data"
    },
    {
     "data": {
      "text/latex": [
       "\\begin{equation*}V_{y3} = 7.07 \\cdot 10^{4} \\text{N}\\end{equation*}"
      ],
      "text/plain": [
       "V_y3 = 7.07e+4⋅newton"
      ]
     },
     "metadata": {},
     "output_type": "display_data"
    },
    {
     "data": {
      "text/latex": [
       "\\begin{equation*}V_{y4} = 2.89 \\cdot 10^{4} \\text{N}\\end{equation*}"
      ],
      "text/plain": [
       "V_y4 = 2.89e+4⋅newton"
      ]
     },
     "metadata": {},
     "output_type": "display_data"
    }
   ],
   "source": [
    "V_yi = (V_y_tot * I_x_i / np.sum(I_x_i)) + (T_yc * (I_x_i*x_i_star)) / np.sum((I_x_i*x_i_star**2)+(I_y_i*y_i_star**2))\n",
    "\n",
    "for V in enumerate(V_yi): \n",
    "    render.eq_display(f'V_y{V[0]+1}',V[1].subs(params).evalf(3))\n"
   ]
  },
  {
   "cell_type": "markdown",
   "metadata": {},
   "source": [
    "![Resultierende Querkräfte in den einzelnen Wänden](bilder/ekv3.jpg){#fig-V_waende}"
   ]
  },
  {
   "cell_type": "markdown",
   "metadata": {},
   "source": [
    "#### Bemerkung zur Norm\n",
    "\n",
    "Nach Norm [@SIA261_2020] 16.5.3.4 ist die Exzentrizität (Schubmittelpunkt zu Massenschwerpunkt) anhand der Gebäudeabmessungen zu erhöhen.\n",
    "\n",
    "$$e_{d,sup} = 1.5\\cdot e+0.05\\cdot b$$\n",
    "$$e_{d,inf} = 0.5\\cdot e-0.05\\cdot b$$\n",
    "\n",
    "$b$ Gebäudebreite in der entsprechenden Kraftrichtung\n",
    "\n",
    "$e$ Exzentrizität\n",
    "\n",
    "Aus den entstehenden 4 Lastfällen ist der ungünstigste massgebend."
   ]
  },
  {
   "cell_type": "code",
   "execution_count": 17,
   "metadata": {},
   "outputs": [
    {
     "data": {
      "text/latex": [
       "\\begin{equation*}e_{dxsup} = 5.72 \\text{m}\\end{equation*}"
      ],
      "text/plain": [
       "e_dxsup = 5.72⋅meter"
      ]
     },
     "metadata": {},
     "output_type": "display_data"
    },
    {
     "data": {
      "text/latex": [
       "\\begin{equation*}e_{dxinf} = 0.573 \\text{m}\\end{equation*}"
      ],
      "text/plain": [
       "e_dxinf = 0.573⋅meter"
      ]
     },
     "metadata": {},
     "output_type": "display_data"
    }
   ],
   "source": [
    "e_d_x_sup = sp.Abs(x_c) * 1.5+0.05*5*l_x\n",
    "e_d_x_inf = sp.Abs(x_c) * 0.5-0.05*5*l_x\n",
    "\n",
    "render.eq_display('e_dxsup', e_d_x_sup.subs(params).evalf(3),\n",
    "                  'e_dxinf', e_d_x_inf.subs(params).evalf(3))"
   ]
  }
 ],
 "metadata": {
  "kernelspec": {
   "display_name": "engineering",
   "language": "python",
   "name": "python3"
  },
  "language_info": {
   "codemirror_mode": {
    "name": "ipython",
    "version": 3
   },
   "file_extension": ".py",
   "mimetype": "text/x-python",
   "name": "python",
   "nbconvert_exporter": "python",
   "pygments_lexer": "ipython3",
   "version": "3.11.3"
  },
  "orig_nbformat": 4
 },
 "nbformat": 4,
 "nbformat_minor": 2
}
