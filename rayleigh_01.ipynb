{
 "cells": [
  {
   "cell_type": "code",
   "execution_count": 1,
   "metadata": {},
   "outputs": [],
   "source": [
    "%run style_and_packages.ipynb"
   ]
  },
  {
   "cell_type": "markdown",
   "metadata": {},
   "source": [
    "# Beispiel: Kragarm mit 2 Punktmassen\n",
    "\n",
    "## Aufgabenstellung\n",
    "\n",
    "Das in @fig-kragarm_2_punkte dargestellte System stellt einen Kragarm mit verteilter Masse und 2 Punktmassen dar. Eine mögliche Formfunktion ist rechts daneben gezeigt.\n",
    "\n",
    "![Kragarm mit verteilter Masse und zwei Punktmassen](bilder/aufgabe_rayleigh_2_massen.svg){#fig-kragarm_2_punkte}\n",
    "\n",
    "Gesucht:\n",
    "\n",
    "- Grundfrequenz (1. Eigenfrequenz $\\omega_1$) des Systems, berechnet mit dem Rayleigh-Quotienten.\n",
    "\n",
    "Gegeben:\n",
    "\n",
    "- Randbedingungen für den Spezialfall: $m_{const} = 0 \\text{ und } m_1 = m_2 = m$\n",
    "- Formfunktion:\n",
    "$$ \\Psi(x) = 1 - \\cos(\\frac{\\pi x}{2L})$$\n"
   ]
  },
  {
   "cell_type": "markdown",
   "metadata": {},
   "source": [
    "{{< pagebreak >}}\n",
    "## Musterlösung{#sec-ml_2punktmassen}\n"
   ]
  },
  {
   "cell_type": "markdown",
   "metadata": {},
   "source": [
    "### Grundfrequenz\n",
    "\n",
    "Mithilfe der in der Vorlesung hergeleiteten Bewegungsgleichung kann anhand der Formfunktion $\\Psi$ die erste Eigenkreisfrequenz ermittelt werden. Der Rayleigh-Quotient ist eine Energiebetrachtung. Er setzt die potenzielle, maximale Energie $E_{pot,max}$ zur kinetischen, maximalen Energie $E_{kin,max}$ ins Verhältnis. Daraus lässt sich die Kreisfrequenz $\\omega_1$ herauslösen.\n",
    "\n",
    "$$\n",
    "u'' \\int_0^L m\\Psi^2 dx + u \\int_0^L (EI(\\Psi'')^2)dx = f(x,t)\n",
    "$${#eq-rayleigh_2pm_bewegungsgleichung}\n",
    "\n",
    "Durch Substitution resultiert die bekannte Bewegungsgleichung:\n",
    "\n",
    "$$\n",
    "m^\\star u'' + k^\\star u  = f(x,t) \n",
    "\\text{ mit } k^\\star = \\int_0^L (EI(\\Psi'')^2)dx \n",
    "\\text{ und } m^\\star = \\int_0^L m\\Psi^2dx\n",
    "$${#eq-rayleigh_2pm_bewegungsgleichung_allg}\n",
    "\n",
    "Aus der Bewegungsgleichung kann die Eigenkreisfrequenz ermittelt werden:\n",
    "\n",
    "$$\n",
    "\\omega_1 = \\sqrt{\\frac{k^\\star}{m^\\star}}\n",
    "$${#eq-rayleigh_2pm_grundfreq}\n",
    "\n"
   ]
  },
  {
   "cell_type": "code",
   "execution_count": 2,
   "metadata": {},
   "outputs": [],
   "source": [
    "from sympy.abc import *\n",
    "\n",
    "L = sp.symbols('L', positive=True)"
   ]
  },
  {
   "cell_type": "markdown",
   "metadata": {},
   "source": [
    "#### Berechnung der Masse\n",
    "\n",
    "Die Masse in @eq-rayleigh_2pm_grundfreq kann mittels der Lösung des Integrals in @eq-rayleigh_2pm_bewegungsgleichung_allg bestimmt werden. Dabei sind die Punktmassen mittels der entsprechenden Deformation an den Stellen $L$ und $\\frac{L}{2}$ zu berücksichtigen, sowie die verteilte Masse über die gesamte Länge.\n"
   ]
  },
  {
   "cell_type": "code",
   "execution_count": 3,
   "metadata": {},
   "outputs": [],
   "source": [
    "m_1, m_2 = sp.symbols('m_1, m_2')"
   ]
  },
  {
   "cell_type": "code",
   "execution_count": 4,
   "metadata": {},
   "outputs": [
    {
     "data": {
      "text/latex": [
       "\\begin{equation}m^{\\star} = \\Psi(x=L)^{2} m_{2} + \\Psi(x=L/2)^{2} m_{1} + \\int\\limits_{0}^{L} \\Psi^{2} m\\, dx\\end{equation}"
      ],
      "text/plain": [
       "                                             L        \n",
       "                                             ⌠        \n",
       "                    2                 2      ⎮  2     \n",
       "m__\\star = \\Psi(x=L) ⋅m₂ + \\Psi(x=L/2) ⋅m₁ + ⎮ Ψ ⋅m dx\n",
       "                                             ⌡        \n",
       "                                             0        "
      ]
     },
     "metadata": {},
     "output_type": "display_data"
    },
    {
     "data": {
      "text/latex": [
       "\\begin{equation}\\Psi(x)^{2} = \\left(1 - \\cos{\\left(\\frac{\\pi x}{2 L} \\right)}\\right)^{2}\\end{equation}"
      ],
      "text/plain": [
       "                         2\n",
       "           ⎛       ⎛π⋅x⎞⎞ \n",
       "\\Psi(x)² = ⎜1 - cos⎜───⎟⎟ \n",
       "           ⎝       ⎝2⋅L⎠⎠ "
      ]
     },
     "metadata": {},
     "output_type": "display_data"
    },
    {
     "data": {
      "text/latex": [
       "\\begin{equation}m^{\\star} = m \\left(- \\frac{4 L}{\\pi} + \\frac{3 L}{2}\\right) + m_{1} \\left(1 - \\frac{\\sqrt{2}}{2}\\right)^{2} + m_{2}\\end{equation}"
      ],
      "text/plain": [
       "                                        2     \n",
       "             ⎛  4⋅L   3⋅L⎞      ⎛    √2⎞      \n",
       "m__\\star = m⋅⎜- ─── + ───⎟ + m₁⋅⎜1 - ──⎟  + m₂\n",
       "             ⎝   π     2 ⎠      ⎝    2 ⎠      "
      ]
     },
     "metadata": {},
     "output_type": "display_data"
    }
   ],
   "source": [
    "Psi_x = 1 - sp.cos(sp.pi*x/(2*L))\n",
    "m_star = sp.integrate(m*Psi_x**2, (x,0,L)) + Psi_x.subs(x,L/2)**2*m_1 + Psi_x.subs(x,L)**2*m_2\n",
    "\n",
    "render.eq_display(sp.Symbol('m^\\star'), \"Integral(m*Psi**2, (x,0,L))+Symbol('\\Psi(x=L/2)')**2*m_1 + Symbol('\\Psi(x=L)')**2*m_2\",\n",
    "                  sp.Symbol('\\Psi(x)^2'), Psi_x**2,\n",
    "                  sp.Symbol('m^\\star'), m_star)"
   ]
  },
  {
   "cell_type": "markdown",
   "metadata": {},
   "source": [
    "#### Berechnung der Steifigkeit \n",
    "Die Steifigkeit in @eq-rayleigh_2pm_grundfreq kann mittels der Lösung des Integrals in @eq-rayleigh_2pm_bewegungsgleichung_allg bestimmt werden. \n",
    "Zur Ermittlung der Steifigkeit $k^\\star$ muss zuerst der Ansatz zweimal nach $x$ abgeleitet werden."
   ]
  },
  {
   "cell_type": "code",
   "execution_count": 5,
   "metadata": {},
   "outputs": [
    {
     "data": {
      "text/latex": [
       "\\begin{equation}\\Psi{\\left(x \\right)} = 1 - \\cos{\\left(\\frac{\\pi x}{2 L} \\right)}\\end{equation}"
      ],
      "text/plain": [
       "              ⎛π⋅x⎞\n",
       "Ψ(x) = 1 - cos⎜───⎟\n",
       "              ⎝2⋅L⎠"
      ]
     },
     "metadata": {},
     "output_type": "display_data"
    },
    {
     "data": {
      "text/latex": [
       "\\begin{equation}\\frac{d}{d x} \\Psi{\\left(x \\right)} = \\frac{\\pi \\sin{\\left(\\frac{\\pi x}{2 L} \\right)}}{2 L}\\end{equation}"
      ],
      "text/plain": [
       "                ⎛π⋅x⎞\n",
       "           π⋅sin⎜───⎟\n",
       "d               ⎝2⋅L⎠\n",
       "──(Ψ(x)) = ──────────\n",
       "dx            2⋅L    "
      ]
     },
     "metadata": {},
     "output_type": "display_data"
    },
    {
     "data": {
      "text/latex": [
       "\\begin{equation}\\frac{d^{2}}{d x^{2}} \\Psi{\\left(x \\right)} = \\frac{\\pi^{2} \\cos{\\left(\\frac{\\pi x}{2 L} \\right)}}{4 L^{2}}\\end{equation}"
      ],
      "text/plain": [
       "             2    ⎛π⋅x⎞\n",
       "  2         π ⋅cos⎜───⎟\n",
       " d                ⎝2⋅L⎠\n",
       "───(Ψ(x)) = ───────────\n",
       "  2                2   \n",
       "dx              4⋅L    "
      ]
     },
     "metadata": {},
     "output_type": "display_data"
    }
   ],
   "source": [
    "Psi_x_diff_1 = sp.diff(Psi_x, x)\n",
    "Psi_x_diff_2 = sp.diff(Psi_x, x,x)\n",
    "\n",
    "\n",
    "render.eq_display('Psi(x)', Psi_x,\n",
    "                  'Derivative(Psi(x),x)', Psi_x_diff_1,\n",
    "                  'Derivative(Psi(x),x,x)', Psi_x_diff_2,)"
   ]
  },
  {
   "cell_type": "markdown",
   "metadata": {},
   "source": [
    "Durch das Einsetzen der zweiten Ableitung in den Anteil für $k^\\star$ aus @eq-rayleigh_2pm_bewegungsgleichung_allg resultiert die Steifigkeit zu:\n",
    "\n",
    "$$\n",
    "k^\\star = (\\frac{\\pi}{2L})^4 \\int_0^L(EI(\\cos(\\frac{\\pi x}{2L})^2)) dx\n",
    "$${#eq-rayleigh_2pm_steifigkeit}\n",
    "\n",
    "Durch die Lösung des Integrals folgt:"
   ]
  },
  {
   "cell_type": "code",
   "execution_count": 6,
   "metadata": {},
   "outputs": [
    {
     "data": {
      "text/latex": [
       "\\begin{equation}k^{\\star} = \\frac{\\pi^{4} E I}{32 L^{3}}\\end{equation}"
      ],
      "text/plain": [
       "            4    \n",
       "           π ⋅E⋅I\n",
       "k__\\star = ──────\n",
       "               3 \n",
       "           32⋅L  "
      ]
     },
     "metadata": {},
     "output_type": "display_data"
    }
   ],
   "source": [
    "k_star = sp.integrate(E*I*Psi_x_diff_2**2,(x,0,L))\n",
    "\n",
    "render.eq_display(sp.Symbol('k^\\star'), k_star)"
   ]
  },
  {
   "cell_type": "markdown",
   "metadata": {},
   "source": [
    "#### Berechnung der Grundfrequenz\n",
    "\n",
    "Durch das Einsetzen der berechneten Werte resultiert die Eigenkreisfrequenz in @eq-rayleigh_2pm_grundfreq zu:"
   ]
  },
  {
   "cell_type": "code",
   "execution_count": 7,
   "metadata": {},
   "outputs": [
    {
     "data": {
      "text/latex": [
       "\\begin{equation}\\omega_{1} = \\sqrt{\\frac{\\pi^{4} E I}{32 L^{3} \\left(m \\left(- \\frac{4 L}{\\pi} + \\frac{3 L}{2}\\right) + m_{1} \\left(1 - \\frac{\\sqrt{2}}{2}\\right)^{2} + m_{2}\\right)}}\\end{equation}"
      ],
      "text/plain": [
       "             _____________________________________________\n",
       "            ╱                     4                       \n",
       "           ╱                     π ⋅E⋅I                   \n",
       "ω₁ =      ╱   ─────────────────────────────────────────── \n",
       "         ╱          ⎛                             2     ⎞ \n",
       "        ╱         3 ⎜  ⎛  4⋅L   3⋅L⎞      ⎛    √2⎞      ⎟ \n",
       "       ╱      32⋅L ⋅⎜m⋅⎜- ─── + ───⎟ + m₁⋅⎜1 - ──⎟  + m₂⎟ \n",
       "     ╲╱             ⎝  ⎝   π     2 ⎠      ⎝    2 ⎠      ⎠ "
      ]
     },
     "metadata": {},
     "output_type": "display_data"
    }
   ],
   "source": [
    "omega_1 = sp.sqrt(k_star / m_star, evaluate=False)\n",
    "\n",
    "render.eq_display('omega_1', omega_1)"
   ]
  },
  {
   "cell_type": "markdown",
   "metadata": {},
   "source": [
    "#### Auswertung des Spezialfalls\n",
    "\n",
    "Mit Hilfe der Randbedingungen für den Spezialfall aus der Aufgabenstellung resultiert die Grundfrequenz zu:"
   ]
  },
  {
   "cell_type": "code",
   "execution_count": 8,
   "metadata": {},
   "outputs": [
    {
     "data": {
      "text/latex": [
       "\\begin{equation}\\omega_{1} = \\frac{\\sqrt{2} \\pi^{2} \\sqrt{\\frac{E I}{M \\left(1 - \\frac{\\sqrt{2}}{2}\\right)^{2} + M}}}{8 L^{\\frac{3}{2}}}\\end{equation}"
      ],
      "text/plain": [
       "                  _________________\n",
       "         2       ╱       E⋅I       \n",
       "     √2⋅π ⋅     ╱  ─────────────── \n",
       "               ╱             2     \n",
       "              ╱      ⎛    √2⎞      \n",
       "             ╱     M⋅⎜1 - ──⎟  + M \n",
       "           ╲╱        ⎝    2 ⎠      \n",
       "ω₁ = ──────────────────────────────\n",
       "                    3/2            \n",
       "                 8⋅L               "
      ]
     },
     "metadata": {},
     "output_type": "display_data"
    },
    {
     "data": {
      "text/latex": [
       "\\begin{equation}\\omega_{1} = \\frac{1.67 \\sqrt{\\frac{E I}{M}}}{L^{\\frac{3}{2}}}\\end{equation}"
      ],
      "text/plain": [
       "              _____\n",
       "             ╱ E⋅I \n",
       "     1.67⋅  ╱  ─── \n",
       "          ╲╱    M  \n",
       "ω₁ = ──────────────\n",
       "           3/2     \n",
       "          L        "
      ]
     },
     "metadata": {},
     "output_type": "display_data"
    }
   ],
   "source": [
    "render.eq_display('omega_1', omega_1.subs([[m_1, M],[m_2,M],[m,0]],evaluate=False),\n",
    "                  'omega_1', omega_1.subs(([[m_1, M],[m_2,M],[m,0]])).evalf(3).subs((E*I/M)**0.5, sp.sqrt((E*I/M))).subs(L**(-1.5), sp.sqrt(L**-3,evaluate=False)))"
   ]
  },
  {
   "cell_type": "markdown",
   "metadata": {},
   "source": [
    "Die exakte erste Eigenfrequenz eines Zweimassenschwingers mit konstanter Steifigkeit und gleichen Massen, mit entsprechenden Randbedingungen gemäss der Aufgabenstellung, ist:\n",
    "\n",
    "$$\n",
    "\\omega_1 \\simeq \\sqrt{\\frac{3.007\\frac{EI}{L^3}}{1.102 M}} = 1.652 \\sqrt{\\frac{EI}{ML^3}} = \\frac{1.652 \\sqrt{\\frac{E I}{M}}}{L^{\\frac{3}{2}}}\n",
    "$${#eq-rayleigh_2pm_exakt}\n",
    "\n",
    "Die Berechnung mit Hilfe des Rayleigh-Quotienten stellt also eine (sehr) gute Abschätzung der ersten Eigenfrequenz dar."
   ]
  }
 ],
 "metadata": {
  "kernelspec": {
   "display_name": "Python 3 (ipykernel)",
   "language": "python",
   "name": "python3"
  },
  "language_info": {
   "codemirror_mode": {
    "name": "ipython",
    "version": 3
   },
   "file_extension": ".py",
   "mimetype": "text/x-python",
   "name": "python",
   "nbconvert_exporter": "python",
   "pygments_lexer": "ipython3",
   "version": "3.10.12"
  }
 },
 "nbformat": 4,
 "nbformat_minor": 4
}
