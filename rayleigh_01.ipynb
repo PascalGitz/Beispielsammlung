{
 "cells": [
  {
   "cell_type": "markdown",
   "metadata": {},
   "source": [
    "# Beispiel: Kragarm mit 2 Punktmassen\n",
    "\n",
    "## Aufgabenstellung\n",
    "\n",
    "Das in @fig-kragarm_2_punkte dargestellte System stellt einen Kragarm mit verteilter Masse und 2 Punktmassen dar. Eine mögliche Formfunktion ist rechts daneben gezeigt.\n",
    "\n",
    "![Kragarm mit verteilter Masse und zwei Punktmassen](bilder/aufgabe_rayleigh_2_massen.svg){#fig-kragarm_2_punkte}\n",
    "\n",
    "Gesucht:\n",
    "\n",
    "- Grundfrequenz (1. Eigenfrequenz $\\omega_n$) des Systems, berechnet mit dem Rayleigh-Quotienten.\n",
    "\n",
    "Gegeben:\n",
    "\n",
    "- Randbedingungen für den Spezialfall: $m = 0 \\text{ und } M_1 = M_2 = M$\n",
    "- Formfunktion:\n",
    "$$ \\psi(x) = 1 - \\cos(\\frac{\\pi x}{2L})$$\n"
   ]
  },
  {
   "cell_type": "markdown",
   "metadata": {},
   "source": [
    "{{< pagebreak >}}\n",
    "## Musterlösung{#sec-ml_2punktmassen}\n"
   ]
  },
  {
   "cell_type": "markdown",
   "metadata": {},
   "source": [
    "### Grundfrequenz\n",
    "\n",
    "Mithilfe der in der Vorlesung hergeleiteten Bewegungsgleichung kann anhand der Formfunktion $\\psi$ die erste Eigenkreisfrequenz ermittelt werden. ERKLÄRUNG DES RAYLEIGH-QUOTIENTS.\n",
    "\n",
    "$$\n",
    "u'' \\int_0^L m\\psi^2 dx + u \\int_0^L (EI(\\psi'')^2)dx = f(x,t)\n",
    "$${#eq-rayleigh_2pm_bewegungsgleichung}\n",
    "\n",
    "Durch Substitution resultiert die bekannte Bewegungsgleichung:\n",
    "\n",
    "$$\n",
    "m^\\star u'' + k^\\star u  = f(x,t) \n",
    "\\text{ mit } k^\\star = \\int_0^L (EI(\\psi'')^2)dx \n",
    "\\text{ und } m^\\star = \\int_0^L m\\psi^2dx\n",
    "$${#eq-rayleigh_2pm_bewegungsgleichung_allg}\n",
    "\n",
    "Aus der Bewegungsgleichung kann die Eigenkreisfrequenz ermittelt werden:\n",
    "\n",
    "$$\n",
    "\\omega_1 = \\sqrt{\\frac{k^\\star}{m^\\star}}\n",
    "$${#eq-rayleigh_2pm_grundfreq}\n",
    "\n"
   ]
  },
  {
   "cell_type": "code",
   "execution_count": 1,
   "metadata": {},
   "outputs": [],
   "source": [
    "%config InlineBackend.figure_formats = ['svg']\n",
    "\n",
    "import sympy as sp \n",
    "from sympycalcs import render, convert\n",
    "import sympy.physics.units as unit\n",
    "sp.init_printing(use_latex='mathjax', latex_mode='equation')\n",
    "import matplotlib.pyplot as plt"
   ]
  },
  {
   "cell_type": "code",
   "execution_count": 2,
   "metadata": {},
   "outputs": [],
   "source": [
    "from sympy.abc import *\n",
    "\n",
    "L = sp.symbols('L', positive=True)"
   ]
  },
  {
   "cell_type": "markdown",
   "metadata": {},
   "source": [
    "#### Berechnung der Masse\n",
    "\n",
    "Die Masse in @eq-rayleigh_2pm_grundfreq kann mittels der Lösung des Integrals in @eq-rayleigh_2pm_bewegungsgleichung_allg bestimmt werden. Dabei sind die Punktmassen mittels der entsprechenden Deformation an den Stellen $L$ und $\\frac{L}{2}$ zu berücksichtigen, sowie die verteilte Masse über die gesamte Länge.\n"
   ]
  },
  {
   "cell_type": "code",
   "execution_count": 3,
   "metadata": {},
   "outputs": [],
   "source": [
    "M_1, M_2 = sp.symbols('M_1, M_2')"
   ]
  },
  {
   "cell_type": "code",
   "execution_count": 4,
   "metadata": {},
   "outputs": [
    {
     "data": {
      "text/latex": [
       "\\begin{equation}m^{\\star} = M_{1} \\psi(x=L/2)^{2} + M_{2} \\psi(x=L)^{2} + \\int\\limits_{0}^{L} m \\psi^{2}\\, dx\\end{equation}"
      ],
      "text/plain": [
       "                                             L        \n",
       "                                             ⌠        \n",
       "                         2               2   ⎮    2   \n",
       "m__\\star = M₁⋅\\psi(x=L/2)  + M₂⋅\\psi(x=L)  + ⎮ m⋅ψ  dx\n",
       "                                             ⌡        \n",
       "                                             0        "
      ]
     },
     "metadata": {},
     "output_type": "display_data"
    },
    {
     "data": {
      "text/latex": [
       "\\begin{equation}\\psi(x)^{2} = \\left(1 - \\cos{\\left(\\frac{\\pi x}{2 L} \\right)}\\right)^{2}\\end{equation}"
      ],
      "text/plain": [
       "                         2\n",
       "           ⎛       ⎛π⋅x⎞⎞ \n",
       "\\psi(x)² = ⎜1 - cos⎜───⎟⎟ \n",
       "           ⎝       ⎝2⋅L⎠⎠ "
      ]
     },
     "metadata": {},
     "output_type": "display_data"
    },
    {
     "data": {
      "text/latex": [
       "\\begin{equation}m^{\\star} = M_{1} \\left(1 - \\frac{\\sqrt{2}}{2}\\right)^{2} + M_{2} + m \\left(- \\frac{4 L}{\\pi} + \\frac{3 L}{2}\\right)\\end{equation}"
      ],
      "text/plain": [
       "                      2                       \n",
       "              ⎛    √2⎞           ⎛  4⋅L   3⋅L⎞\n",
       "m__\\star = M₁⋅⎜1 - ──⎟  + M₂ + m⋅⎜- ─── + ───⎟\n",
       "              ⎝    2 ⎠           ⎝   π     2 ⎠"
      ]
     },
     "metadata": {},
     "output_type": "display_data"
    }
   ],
   "source": [
    "psi_x = 1 - sp.cos(sp.pi*x/(2*L))\n",
    "m_star = sp.integrate(m*psi_x**2, (x,0,L)) + psi_x.subs(x,L/2)**2*M_1 + psi_x.subs(x,L)**2*M_2\n",
    "\n",
    "render.eq_display(sp.Symbol('m^\\star'), \"Integral(m*psi**2, (x,0,L))+Symbol('\\psi(x=L/2)')**2*M_1 + Symbol('\\psi(x=L)')**2*M_2\",\n",
    "                  sp.Symbol('\\psi(x)^2'), psi_x**2,\n",
    "                  sp.Symbol('m^\\star'), m_star)"
   ]
  },
  {
   "cell_type": "markdown",
   "metadata": {},
   "source": [
    "#### Berechnung der Steifigkeit \n",
    "Die Steifigkeit in @eq-rayleigh_2pm_grundfreq kann mittels der Lösung des Integrals in @eq-rayleigh_2pm_bewegungsgleichung_allg bestimmt werden. \n",
    "Zur Ermittlung der Steifigkeit $k^\\star$ muss zuerst der Ansatz zweimal nach $x$ abgeleitet werden."
   ]
  },
  {
   "cell_type": "code",
   "execution_count": 5,
   "metadata": {},
   "outputs": [
    {
     "data": {
      "text/latex": [
       "\\begin{equation}\\psi{\\left(x \\right)} = 1 - \\cos{\\left(\\frac{\\pi x}{2 L} \\right)}\\end{equation}"
      ],
      "text/plain": [
       "              ⎛π⋅x⎞\n",
       "ψ(x) = 1 - cos⎜───⎟\n",
       "              ⎝2⋅L⎠"
      ]
     },
     "metadata": {},
     "output_type": "display_data"
    },
    {
     "data": {
      "text/latex": [
       "\\begin{equation}\\frac{d}{d x} \\psi{\\left(x \\right)} = \\frac{\\pi \\sin{\\left(\\frac{\\pi x}{2 L} \\right)}}{2 L}\\end{equation}"
      ],
      "text/plain": [
       "                ⎛π⋅x⎞\n",
       "           π⋅sin⎜───⎟\n",
       "d               ⎝2⋅L⎠\n",
       "──(ψ(x)) = ──────────\n",
       "dx            2⋅L    "
      ]
     },
     "metadata": {},
     "output_type": "display_data"
    },
    {
     "data": {
      "text/latex": [
       "\\begin{equation}\\frac{d^{2}}{d x^{2}} \\psi{\\left(x \\right)} = \\frac{\\pi^{2} \\cos{\\left(\\frac{\\pi x}{2 L} \\right)}}{4 L^{2}}\\end{equation}"
      ],
      "text/plain": [
       "             2    ⎛π⋅x⎞\n",
       "  2         π ⋅cos⎜───⎟\n",
       " d                ⎝2⋅L⎠\n",
       "───(ψ(x)) = ───────────\n",
       "  2                2   \n",
       "dx              4⋅L    "
      ]
     },
     "metadata": {},
     "output_type": "display_data"
    }
   ],
   "source": [
    "psi_x_diff_1 = sp.diff(psi_x, x)\n",
    "psi_x_diff_2 = sp.diff(psi_x, x,x)\n",
    "\n",
    "\n",
    "render.eq_display('psi(x)', psi_x,\n",
    "                  'Derivative(psi(x),x)', psi_x_diff_1,\n",
    "                  'Derivative(psi(x),x,x)', psi_x_diff_2,)"
   ]
  },
  {
   "cell_type": "markdown",
   "metadata": {},
   "source": [
    "Durch das Einsetzen der zweiten Ableitung in den Anteil für $k^\\star$ aus @eq-rayleigh_2pm_bewegungsgleichung_allg resultiert die Steifigkeit zu:\n",
    "\n",
    "$$\n",
    "k^\\star = (\\frac{\\pi}{2L})^4 \\int_0^L(EI(\\cos(\\frac{\\pi x}{2L})^2)) dx\n",
    "$${#eq-rayleigh_2pm_steifigkeit}\n",
    "\n",
    "Durch die Lösung des Integrals folgt:"
   ]
  },
  {
   "cell_type": "code",
   "execution_count": 6,
   "metadata": {},
   "outputs": [
    {
     "data": {
      "text/latex": [
       "\\begin{equation}k^{\\star} = \\frac{\\pi^{4} E I}{32 L^{3}}\\end{equation}"
      ],
      "text/plain": [
       "            4    \n",
       "           π ⋅E⋅I\n",
       "k__\\star = ──────\n",
       "               3 \n",
       "           32⋅L  "
      ]
     },
     "metadata": {},
     "output_type": "display_data"
    }
   ],
   "source": [
    "k_star = sp.integrate(E*I*psi_x_diff_2**2,(x,0,L))\n",
    "\n",
    "render.eq_display(sp.Symbol('k^\\star'), k_star)"
   ]
  },
  {
   "cell_type": "markdown",
   "metadata": {},
   "source": [
    "#### Berechnung der Grundfrequenz\n",
    "\n",
    "Durch das Einsetzen der berechneten Werte resultiert die Eigenkreisfrequenz in @eq-rayleigh_2pm_grundfreq zu:"
   ]
  },
  {
   "cell_type": "code",
   "execution_count": 7,
   "metadata": {},
   "outputs": [
    {
     "data": {
      "text/latex": [
       "\\begin{equation}\\omega_{1} = \\sqrt{\\frac{\\pi^{4} E I}{32 L^{3} \\left(M_{1} \\left(1 - \\frac{\\sqrt{2}}{2}\\right)^{2} + M_{2} + m \\left(- \\frac{4 L}{\\pi} + \\frac{3 L}{2}\\right)\\right)}}\\end{equation}"
      ],
      "text/plain": [
       "             _____________________________________________\n",
       "            ╱                     4                       \n",
       "           ╱                     π ⋅E⋅I                   \n",
       "ω₁ =      ╱   ─────────────────────────────────────────── \n",
       "         ╱          ⎛           2                       ⎞ \n",
       "        ╱         3 ⎜   ⎛    √2⎞           ⎛  4⋅L   3⋅L⎞⎟ \n",
       "       ╱      32⋅L ⋅⎜M₁⋅⎜1 - ──⎟  + M₂ + m⋅⎜- ─── + ───⎟⎟ \n",
       "     ╲╱             ⎝   ⎝    2 ⎠           ⎝   π     2 ⎠⎠ "
      ]
     },
     "metadata": {},
     "output_type": "display_data"
    }
   ],
   "source": [
    "omega_1 = sp.sqrt(k_star / m_star, evaluate=False)\n",
    "\n",
    "render.eq_display('omega_1', omega_1)"
   ]
  },
  {
   "cell_type": "markdown",
   "metadata": {},
   "source": [
    "#### Auswertung des Spezialfalls\n",
    "\n",
    "Mit Hilfe der Randbedingungen für den Spezialfall aus der Aufgabenstellung resultiert die Grundfrequenz zu:"
   ]
  },
  {
   "cell_type": "code",
   "execution_count": 8,
   "metadata": {},
   "outputs": [
    {
     "data": {
      "text/latex": [
       "\\begin{equation}\\omega_{1} = \\frac{\\sqrt{2} \\pi^{2} \\sqrt{\\frac{E I}{M \\left(1 - \\frac{\\sqrt{2}}{2}\\right)^{2} + M}}}{8 L^{\\frac{3}{2}}}\\end{equation}"
      ],
      "text/plain": [
       "                  _________________\n",
       "         2       ╱       E⋅I       \n",
       "     √2⋅π ⋅     ╱  ─────────────── \n",
       "               ╱             2     \n",
       "              ╱      ⎛    √2⎞      \n",
       "             ╱     M⋅⎜1 - ──⎟  + M \n",
       "           ╲╱        ⎝    2 ⎠      \n",
       "ω₁ = ──────────────────────────────\n",
       "                    3/2            \n",
       "                 8⋅L               "
      ]
     },
     "metadata": {},
     "output_type": "display_data"
    },
    {
     "data": {
      "text/latex": [
       "\\begin{equation}\\omega_{1} = \\frac{1.67 \\sqrt{\\frac{E I}{M}}}{L^{\\frac{3}{2}}}\\end{equation}"
      ],
      "text/plain": [
       "              _____\n",
       "             ╱ E⋅I \n",
       "     1.67⋅  ╱  ─── \n",
       "          ╲╱    M  \n",
       "ω₁ = ──────────────\n",
       "           3/2     \n",
       "          L        "
      ]
     },
     "metadata": {},
     "output_type": "display_data"
    }
   ],
   "source": [
    "render.eq_display('omega_1', omega_1.subs([[M_1, M],[M_2,M],[m,0]],evaluate=False),\n",
    "                  'omega_1', omega_1.subs(([[M_1, M],[M_2,M],[m,0]])).evalf(3).subs((E*I/M)**0.5, sp.sqrt((E*I/M))).subs(L**(-1.5), sp.sqrt(L**-3,evaluate=False)))"
   ]
  },
  {
   "cell_type": "markdown",
   "metadata": {},
   "source": [
    "Die exakte erste Eigenfrequenz eines Zweimassenschwingers mit konstanter Steifigkeit und gleichen Massen, mit enstsprechenden Randbedingungen gemäss der Aufgabenstellung, ist:\n",
    "\n",
    "$$\n",
    "\\omega_1 \\simeq \\sqrt{\\frac{3.007\\frac{EI}{L^3}}{1.102 M}} = 1.652 \\sqrt{\\frac{EI}{ML^3}} = \\frac{1.652 \\sqrt{\\frac{E I}{M}}}{L^{\\frac{3}{2}}}\n",
    "$${#eq-rayleigh_2pm_exakt}\n",
    "\n",
    "Die Berechnung mit Hilfe des Rayleigh-Quotienten stellt also eine (sehr) gute Abschätzung der ersten Eigenfrequenz dar."
   ]
  }
 ],
 "metadata": {
  "kernelspec": {
   "display_name": "Python 3 (ipykernel)",
   "language": "python",
   "name": "python3"
  },
  "language_info": {
   "codemirror_mode": {
    "name": "ipython",
    "version": 3
   },
   "file_extension": ".py",
   "mimetype": "text/x-python",
   "name": "python",
   "nbconvert_exporter": "python",
   "pygments_lexer": "ipython3",
   "version": "3.11.3"
  }
 },
 "nbformat": 4,
 "nbformat_minor": 4
}
