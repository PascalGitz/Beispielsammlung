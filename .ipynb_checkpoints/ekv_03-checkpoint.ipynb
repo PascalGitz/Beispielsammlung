{
 "cells": [
  {
   "cell_type": "code",
   "execution_count": 1,
   "id": "90c6ee46-c229-4a6b-8942-fc6a35962af6",
   "metadata": {},
   "outputs": [],
   "source": [
    "%run style_and_packages.ipynb"
   ]
  },
  {
   "cell_type": "markdown",
   "id": "4c8a9291-e669-4dd4-942a-daff6871dbba",
   "metadata": {},
   "source": [
    "# Beispiel: Rayleigh-Quotient an einem Sechsmassenschwinger beim Ersatzkraftverfahren\n",
    "## Aufgabenstellung\n",
    "\n",
    "Das Beispiel ist aus @Dupraz2004 Seite 77 entnommen. Die Lastermittlung wird übernommen. Es wird vom vereinfachten Modell in @fig-ekv_6_modell ausgegangen. Der Fokus liegt auf der Bestimmung der Grundfrequenz.\n",
    "\n",
    "![Vereinfachtes Modell für einen Mehrmassenschwinger](bilder/aufgabe_ekv_sieben_biege.svg){#fig-ekv_6_modell}\n",
    "\n",
    "Gesucht:\n",
    "\n",
    "- Erstelle die Nachgiebigkeitsmatrix (Verwende das Bildungsgesetz)\n",
    "- Grundschwingzeit\n",
    "\n",
    "Gegeben:\n",
    "\n",
    "\n"
   ]
  },
  {
   "cell_type": "code",
   "execution_count": 2,
   "id": "bddfe7f3-62a8-4099-bf2a-e68968c4141b",
   "metadata": {},
   "outputs": [],
   "source": [
    "H_i, m_i,  I, I_x, I_y, f= sp.symbols('H_i, m_i  I  I_x I_y f')\n",
    "n = 6 # n-Massenschwinger\n",
    "F = sp.MatrixSymbol('F', n,1)\n",
    "u = sp.MatrixSymbol('u', n,1)\n",
    "f_hat = sp.MatrixSymbol('\\hat{f}', n,n)\n",
    "M = sp.MatrixSymbol('M', n,1)\n"
   ]
  },
  {
   "cell_type": "code",
   "execution_count": 3,
   "id": "a4332fac-78e0-419f-9f45-915c5135cfae",
   "metadata": {},
   "outputs": [
    {
     "data": {
      "text/markdown": [
       "|   |   |\n",
       "|---|---|\n",
       "| $E = \\frac{27000000000 \\text{N}}{\\text{m}^{2}}$ | $H_{i} = 3.105 \\text{m}$ |\n",
       "| $I_{x} = 14.89 \\text{m}^{4}$ | $I_{y} = 28.27 \\text{m}^{4}$ |\n",
       "| $g = \\frac{10 \\text{m}}{\\text{s}^{2}}$ | $m_{i} = \\frac{1278000 \\text{N} \\text{s}^{2}}{\\text{m}}$ |\n"
      ],
      "text/plain": [
       "<IPython.core.display.Markdown object>"
      ]
     },
     "metadata": {},
     "output_type": "display_data"
    }
   ],
   "source": [
    "params={\n",
    "    E: 27*10**9*unit.N/ unit.m**2,\n",
    "    H_i: 3.105*unit.m,\n",
    "    m_i: 1278*10**3*unit.N*unit.second**2 /unit.m,\n",
    "    I_x: 14.89*unit.m**4,\n",
    "    I_y: 28.27*unit.m**4,\n",
    "    g : 10 *unit.m /unit.second**2\n",
    "}\n",
    "\n",
    "params_plot = convert.param_value(params)\n",
    "\n",
    "render.dict_to_table(params)"
   ]
  },
  {
   "cell_type": "markdown",
   "id": "c2fcf94e-274b-482b-baed-2d36671a5f3a",
   "metadata": {},
   "source": [
    "{{< pagebreak >}}\n",
    "\n",
    "## Musterlösung"
   ]
  },
  {
   "cell_type": "markdown",
   "id": "c6d4a5cf-9af5-458e-828d-d21fc3cecf17",
   "metadata": {},
   "source": [
    "### Rayleigh-Quotient"
   ]
  },
  {
   "cell_type": "code",
   "execution_count": 4,
   "id": "edb7995a-b2dd-4b09-a7be-527f9f123305",
   "metadata": {},
   "outputs": [],
   "source": [
    "rl_eqs={\n",
    "    \n",
    "}"
   ]
  },
  {
   "cell_type": "code",
   "execution_count": 5,
   "id": "b9b26568-cbbc-4cd2-bff7-c716ae6ccd99",
   "metadata": {},
   "outputs": [],
   "source": [
    "def nachgiebigkeitsmatrix_nach_bildungsgesetz(n):\n",
    "    \"\"\"\n",
    "    Erstellt die Nachgiebigkeitsmatrix nach dem Bildungsgesetz. Dieses ist nur zulässig für gleichmässige Stockwerkshöhen, sowie gleichbleibenden Stockwerkssteifigkeiten.\n",
    "    Dies muss abschliessend mit h^3/(6*E*I) mutlipliziert werden.\n",
    "    \"\"\"\n",
    "    from sympy import symbols, zeros\n",
    "\n",
    "    \n",
    "    def bildungsgesetz(i,j):\n",
    "        return j**2*(3*i-j)\n",
    "\n",
    "    matrix = sp.zeros(n, n)\n",
    "    matrix_symbols =sp.zeros(n,n)\n",
    "    matrix_unsymm = sp.zeros(n, n)\n",
    "    \n",
    "    for i in range(1,n+1):\n",
    "        for j in range(1,n+1):\n",
    "            if i >=j:\n",
    "                matrix[i-1,j-1] = bildungsgesetz(i,j)\n",
    "                matrix_symbols[i-1,j-1] = sp.Symbol(f'f_{i,j}')\n",
    "                matrix_unsymm[i-1,j-1] = bildungsgesetz(i,j)\n",
    "\n",
    "            if j>i:\n",
    "                matrix[i-1, j-1] = bildungsgesetz(j,i)\n",
    "                matrix_symbols[i-1,j-1] = sp.Symbol(f'f_{i,j}')\n",
    "\n",
    "    \n",
    "    return matrix, matrix_symbols, matrix_unsymm\n",
    "            \n"
   ]
  },
  {
   "cell_type": "code",
   "execution_count": 6,
   "id": "048be53d-e957-40d8-9553-b8f628e91970",
   "metadata": {},
   "outputs": [],
   "source": [
    "rl_eqs[f_hat] = sp.UnevaluatedExpr(H_i**3/(6*E*I))*nachgiebigkeitsmatrix_nach_bildungsgesetz(n)[0]\n",
    "\n",
    "rl_eqs[F] = sp.Matrix(list(range(1, n+1)))\n",
    "rl_eqs[u] = f_hat * F"
   ]
  },
  {
   "cell_type": "code",
   "execution_count": 7,
   "id": "2c357f1c-4b26-47ab-8c2f-80a462c0ae29",
   "metadata": {},
   "outputs": [],
   "source": [
    "rl_eqs[M] = sp.ones(n,1)*m_i\n"
   ]
  },
  {
   "cell_type": "code",
   "execution_count": 8,
   "id": "47fffeb8-effc-46bf-8c27-76e3311142ea",
   "metadata": {},
   "outputs": [],
   "source": [
    "rl_eqs[f] = sp.Mul(sp.UnevaluatedExpr(1 / (2*sp.pi)),sp.sqrt(sp.Sum(sp.HadamardProduct(F, u)[i,0], (i, 0, F.shape[0]-1)) / sp.Sum(sp.HadamardProduct(M,u.applyfunc(lambda x:x**2))[i,0],(i,0,M.shape[0]-1))), evaluate=False)\n",
    "\n",
    "rl_eqs[T] = 1 / f"
   ]
  },
  {
   "cell_type": "markdown",
   "id": "1db25ac2-f737-4262-af34-67cb766507f8",
   "metadata": {},
   "source": [
    "Mittels dem Rayleigh-Quotient für das vereinfachte Modell lässt sich die Grundfrequenz direkt bestimmen."
   ]
  },
  {
   "cell_type": "code",
   "execution_count": 9,
   "id": "ee61354f-9f3f-40a4-bfc9-e114223f6e12",
   "metadata": {},
   "outputs": [
    {
     "data": {
      "text/latex": [
       "\\begin{equation}f = \\frac{1}{2 \\pi} \\sqrt{\\frac{\\sum_{i=0}^{5} \\mathbf{F}_{i, 0} \\mathbf{u}_{i, 0}}{\\sum_{i=0}^{5} \\mathbf{M}_{i, 0} \\mathbf{u}_{i, 0}^{2}}}\\end{equation}"
      ],
      "text/plain": [
       "                          ____________________________\n",
       "                         ╱   5                        \n",
       "                        ╱   ___                       \n",
       "                       ╱    ╲                         \n",
       "                      ╱      ╲                        \n",
       "                     ╱       ╱   (F)[i, 0]⋅(u)[i, 0]  \n",
       "                    ╱       ╱                         \n",
       "                   ╱        ‾‾‾                       \n",
       "     1            ╱        i = 0                      \n",
       "f = ───⋅         ╱         ────────────────────────── \n",
       "    2⋅π         ╱            5                        \n",
       "               ╱            ___                       \n",
       "              ╱             ╲                         \n",
       "             ╱               ╲                2       \n",
       "            ╱                ╱   (M)[i, 0]⋅(u) [i, 0] \n",
       "           ╱                ╱                         \n",
       "          ╱                 ‾‾‾                       \n",
       "        ╲╱                 i = 0                      "
      ]
     },
     "metadata": {},
     "output_type": "display_data"
    },
    {
     "data": {
      "text/latex": [
       "\\begin{equation}\\mathbf{F} = \\left[\\begin{matrix}1\\\\2\\\\3\\\\4\\\\5\\\\6\\end{matrix}\\right]\\end{equation}"
      ],
      "text/plain": [
       "    ⎡1⎤\n",
       "    ⎢ ⎥\n",
       "    ⎢2⎥\n",
       "    ⎢ ⎥\n",
       "    ⎢3⎥\n",
       "F = ⎢ ⎥\n",
       "    ⎢4⎥\n",
       "    ⎢ ⎥\n",
       "    ⎢5⎥\n",
       "    ⎢ ⎥\n",
       "    ⎣6⎦"
      ]
     },
     "metadata": {},
     "output_type": "display_data"
    },
    {
     "data": {
      "text/latex": [
       "\\begin{equation}\\mathbf{M} = \\left[\\begin{matrix}m_{i}\\\\m_{i}\\\\m_{i}\\\\m_{i}\\\\m_{i}\\\\m_{i}\\end{matrix}\\right]\\end{equation}"
      ],
      "text/plain": [
       "    ⎡mᵢ⎤\n",
       "    ⎢  ⎥\n",
       "    ⎢mᵢ⎥\n",
       "    ⎢  ⎥\n",
       "    ⎢mᵢ⎥\n",
       "M = ⎢  ⎥\n",
       "    ⎢mᵢ⎥\n",
       "    ⎢  ⎥\n",
       "    ⎢mᵢ⎥\n",
       "    ⎢  ⎥\n",
       "    ⎣mᵢ⎦"
      ]
     },
     "metadata": {},
     "output_type": "display_data"
    },
    {
     "data": {
      "text/latex": [
       "\\begin{equation}T = \\frac{1}{f}\\end{equation}"
      ],
      "text/plain": [
       "    1\n",
       "T = ─\n",
       "    f"
      ]
     },
     "metadata": {},
     "output_type": "display_data"
    }
   ],
   "source": [
    "render.eq_display(\n",
    "    f,rl_eqs[f],\n",
    "    F, rl_eqs[F],\n",
    "    M, rl_eqs[M],\n",
    "    T, rl_eqs[T],\n",
    ")"
   ]
  },
  {
   "cell_type": "markdown",
   "id": "c50298e3-40c8-45b2-a15b-8577fc47a9b8",
   "metadata": {},
   "source": [
    "Dabei entspricht $\\mathbf{u}$ dem Verschiebungsvektor infolge des Kraftvektors $\\mathbf{F}$. Der Verschiebungsvektor kann mittels Nachgiebigkeitsmatrix bestimmt werden.\n",
    "\n",
    "#### Nachgiebigkeitsmatrix\n",
    "\n",
    "Für gleichbleibende Geschosshöhen und Geschosssteifigkeiten lässt sich die Nachgiebigkeitsmatrix leicht mittels dem Bildungsgesetz in @eq-ekv_6_bildungsgesetz ermitteln.\n",
    "\n",
    "$$\n",
    "\\hat{f}_{i,j} = \\frac{H^3}{6EI} \\cdot j^2(3i-j) \\text{ für } i\\geq j\n",
    "$${#eq-ekv_6_bildungsgesetz}\n",
    "\n",
    "$\\hat{\\mathbf{f}}$ entspricht der Nachgiebigkeitsmatrix mit den Einträgen $\\hat{f}_{i,j}$.\n",
    "\n",
    "Beachte dabei, dass die @eq-ekv_6_bildungsgesetz nur für $i\\geq j$ gilt. Die Einträge entsprechen folgendem Schema:"
   ]
  },
  {
   "cell_type": "code",
   "execution_count": 10,
   "id": "6b6e8491-8051-4ddf-8a19-c038ed6b6abf",
   "metadata": {},
   "outputs": [
    {
     "data": {
      "text/latex": [
       "\\begin{equation}\\left[\\begin{matrix}f_{(1, 1)} & f_{(1, 2)} & f_{(1, 3)} & f_{(1, 4)} & f_{(1, 5)} & f_{(1, 6)}\\\\f_{(2, 1)} & f_{(2, 2)} & f_{(2, 3)} & f_{(2, 4)} & f_{(2, 5)} & f_{(2, 6)}\\\\f_{(3, 1)} & f_{(3, 2)} & f_{(3, 3)} & f_{(3, 4)} & f_{(3, 5)} & f_{(3, 6)}\\\\f_{(4, 1)} & f_{(4, 2)} & f_{(4, 3)} & f_{(4, 4)} & f_{(4, 5)} & f_{(4, 6)}\\\\f_{(5, 1)} & f_{(5, 2)} & f_{(5, 3)} & f_{(5, 4)} & f_{(5, 5)} & f_{(5, 6)}\\\\f_{(6, 1)} & f_{(6, 2)} & f_{(6, 3)} & f_{(6, 4)} & f_{(6, 5)} & f_{(6, 6)}\\end{matrix}\\right]\\end{equation}"
      ],
      "text/plain": [
       "⎡f_(1, 1)  f_(1, 2)  f_(1, 3)  f_(1, 4)  f_(1, 5)  f_(1, 6)⎤\n",
       "⎢                                                          ⎥\n",
       "⎢f_(2, 1)  f_(2, 2)  f_(2, 3)  f_(2, 4)  f_(2, 5)  f_(2, 6)⎥\n",
       "⎢                                                          ⎥\n",
       "⎢f_(3, 1)  f_(3, 2)  f_(3, 3)  f_(3, 4)  f_(3, 5)  f_(3, 6)⎥\n",
       "⎢                                                          ⎥\n",
       "⎢f_(4, 1)  f_(4, 2)  f_(4, 3)  f_(4, 4)  f_(4, 5)  f_(4, 6)⎥\n",
       "⎢                                                          ⎥\n",
       "⎢f_(5, 1)  f_(5, 2)  f_(5, 3)  f_(5, 4)  f_(5, 5)  f_(5, 6)⎥\n",
       "⎢                                                          ⎥\n",
       "⎣f_(6, 1)  f_(6, 2)  f_(6, 3)  f_(6, 4)  f_(6, 5)  f_(6, 6)⎦"
      ]
     },
     "metadata": {},
     "output_type": "display_data"
    }
   ],
   "source": [
    "display(nachgiebigkeitsmatrix_nach_bildungsgesetz(n)[1])"
   ]
  },
  {
   "cell_type": "markdown",
   "id": "bb154dae-f97b-4b6c-99f9-83edbc68a20f",
   "metadata": {},
   "source": [
    "Unter strikter Anwendung von @eq-ekv_6_bildungsgesetz folgt daraus:"
   ]
  },
  {
   "cell_type": "code",
   "execution_count": 11,
   "id": "321884ea-5413-4d23-8c0f-48c1b448c9f3",
   "metadata": {},
   "outputs": [
    {
     "data": {
      "text/latex": [
       "\\begin{equation}\\left[\\begin{matrix}2 & 0 & 0 & 0 & 0 & 0\\\\5 & 16 & 0 & 0 & 0 & 0\\\\8 & 28 & 54 & 0 & 0 & 0\\\\11 & 40 & 81 & 128 & 0 & 0\\\\14 & 52 & 108 & 176 & 250 & 0\\\\17 & 64 & 135 & 224 & 325 & 432\\end{matrix}\\right]\\end{equation}"
      ],
      "text/plain": [
       "⎡2   0    0    0    0    0 ⎤\n",
       "⎢                          ⎥\n",
       "⎢5   16   0    0    0    0 ⎥\n",
       "⎢                          ⎥\n",
       "⎢8   28  54    0    0    0 ⎥\n",
       "⎢                          ⎥\n",
       "⎢11  40  81   128   0    0 ⎥\n",
       "⎢                          ⎥\n",
       "⎢14  52  108  176  250   0 ⎥\n",
       "⎢                          ⎥\n",
       "⎣17  64  135  224  325  432⎦"
      ]
     },
     "metadata": {},
     "output_type": "display_data"
    }
   ],
   "source": [
    "display(nachgiebigkeitsmatrix_nach_bildungsgesetz(n)[2])"
   ]
  },
  {
   "cell_type": "markdown",
   "id": "f14da70a-9b32-4d1b-98e0-60182413888b",
   "metadata": {},
   "source": [
    "Aufgrund von Symmetrie kann diese abschliessend über die Diagonale gespiegelt werden:"
   ]
  },
  {
   "cell_type": "code",
   "execution_count": 12,
   "id": "4e0a2854-c4ca-4e1e-b086-75231d87d8c2",
   "metadata": {},
   "outputs": [
    {
     "data": {
      "text/latex": [
       "\\begin{equation}\\frac{6 E I}{H_{i}^{3}} \\mathbf{\\hat{f}} = \\left[\\begin{matrix}2 & 5 & 8 & 11 & 14 & 17\\\\5 & 16 & 28 & 40 & 52 & 64\\\\8 & 28 & 54 & 81 & 108 & 135\\\\11 & 40 & 81 & 128 & 176 & 224\\\\14 & 52 & 108 & 176 & 250 & 325\\\\17 & 64 & 135 & 224 & 325 & 432\\end{matrix}\\right]\\end{equation}"
      ],
      "text/plain": [
       "                ⎡2   5    8   11   14   17 ⎤\n",
       "                ⎢                          ⎥\n",
       "                ⎢5   16  28   40   52   64 ⎥\n",
       "                ⎢                          ⎥\n",
       "6⋅E⋅I           ⎢8   28  54   81   108  135⎥\n",
       "─────⋅\\hat{f} = ⎢                          ⎥\n",
       "   3            ⎢11  40  81   128  176  224⎥\n",
       " Hᵢ             ⎢                          ⎥\n",
       "                ⎢14  52  108  176  250  325⎥\n",
       "                ⎢                          ⎥\n",
       "                ⎣17  64  135  224  325  432⎦"
      ]
     },
     "metadata": {},
     "output_type": "display_data"
    }
   ],
   "source": [
    "render.eq_display(f_hat/sp.UnevaluatedExpr(H_i**3 /(6*E*I)), nachgiebigkeitsmatrix_nach_bildungsgesetz(n)[0])"
   ]
  },
  {
   "cell_type": "markdown",
   "id": "f2b42712-9666-4f5c-8bcf-26809ef6850c",
   "metadata": {},
   "source": [
    "Durch Multiplikation der *Nachgiebigkeit* mit der *Einwirkung* resultiert die Deformation."
   ]
  },
  {
   "cell_type": "code",
   "execution_count": 13,
   "id": "890e7157-029b-4fb7-828c-1da7af6d425c",
   "metadata": {},
   "outputs": [
    {
     "data": {
      "text/latex": [
       "\\begin{equation}\\mathbf{u} = \\mathbf{\\hat{f}} \\mathbf{F}\\end{equation}"
      ],
      "text/plain": [
       "u = \\hat{f}⋅F"
      ]
     },
     "metadata": {},
     "output_type": "display_data"
    },
    {
     "data": {
      "text/latex": [
       "\\begin{equation}\\mathbf{u} = \\left[\\begin{matrix}2 \\frac{H_{i}^{3}}{6 E I} & 5 \\frac{H_{i}^{3}}{6 E I} & 8 \\frac{H_{i}^{3}}{6 E I} & 11 \\frac{H_{i}^{3}}{6 E I} & 14 \\frac{H_{i}^{3}}{6 E I} & 17 \\frac{H_{i}^{3}}{6 E I}\\\\5 \\frac{H_{i}^{3}}{6 E I} & 16 \\frac{H_{i}^{3}}{6 E I} & 28 \\frac{H_{i}^{3}}{6 E I} & 40 \\frac{H_{i}^{3}}{6 E I} & 52 \\frac{H_{i}^{3}}{6 E I} & 64 \\frac{H_{i}^{3}}{6 E I}\\\\8 \\frac{H_{i}^{3}}{6 E I} & 28 \\frac{H_{i}^{3}}{6 E I} & 54 \\frac{H_{i}^{3}}{6 E I} & 81 \\frac{H_{i}^{3}}{6 E I} & 108 \\frac{H_{i}^{3}}{6 E I} & 135 \\frac{H_{i}^{3}}{6 E I}\\\\11 \\frac{H_{i}^{3}}{6 E I} & 40 \\frac{H_{i}^{3}}{6 E I} & 81 \\frac{H_{i}^{3}}{6 E I} & 128 \\frac{H_{i}^{3}}{6 E I} & 176 \\frac{H_{i}^{3}}{6 E I} & 224 \\frac{H_{i}^{3}}{6 E I}\\\\14 \\frac{H_{i}^{3}}{6 E I} & 52 \\frac{H_{i}^{3}}{6 E I} & 108 \\frac{H_{i}^{3}}{6 E I} & 176 \\frac{H_{i}^{3}}{6 E I} & 250 \\frac{H_{i}^{3}}{6 E I} & 325 \\frac{H_{i}^{3}}{6 E I}\\\\17 \\frac{H_{i}^{3}}{6 E I} & 64 \\frac{H_{i}^{3}}{6 E I} & 135 \\frac{H_{i}^{3}}{6 E I} & 224 \\frac{H_{i}^{3}}{6 E I} & 325 \\frac{H_{i}^{3}}{6 E I} & 432 \\frac{H_{i}^{3}}{6 E I}\\end{matrix}\\right] \\left[\\begin{matrix}1\\\\2\\\\3\\\\4\\\\5\\\\6\\end{matrix}\\right]\\end{equation}"
      ],
      "text/plain": [
       "    ⎡     3         3          3          3          3          3  ⎤    \n",
       "    ⎢   Hᵢ        Hᵢ         Hᵢ         Hᵢ         Hᵢ         Hᵢ   ⎥    \n",
       "    ⎢2⋅─────   5⋅─────    8⋅─────   11⋅─────   14⋅─────   17⋅───── ⎥    \n",
       "    ⎢  6⋅E⋅I     6⋅E⋅I      6⋅E⋅I      6⋅E⋅I      6⋅E⋅I      6⋅E⋅I ⎥    \n",
       "    ⎢                                                              ⎥    \n",
       "    ⎢     3          3         3          3          3          3  ⎥    \n",
       "    ⎢   Hᵢ         Hᵢ        Hᵢ         Hᵢ         Hᵢ         Hᵢ   ⎥    \n",
       "    ⎢5⋅─────   16⋅─────  28⋅─────   40⋅─────   52⋅─────   64⋅───── ⎥    \n",
       "    ⎢  6⋅E⋅I      6⋅E⋅I     6⋅E⋅I      6⋅E⋅I      6⋅E⋅I      6⋅E⋅I ⎥    \n",
       "    ⎢                                                              ⎥ ⎡1⎤\n",
       "    ⎢     3          3         3          3           3          3 ⎥ ⎢ ⎥\n",
       "    ⎢   Hᵢ         Hᵢ        Hᵢ         Hᵢ          Hᵢ         Hᵢ  ⎥ ⎢2⎥\n",
       "    ⎢8⋅─────   28⋅─────  54⋅─────   81⋅─────   108⋅─────  135⋅─────⎥ ⎢ ⎥\n",
       "    ⎢  6⋅E⋅I      6⋅E⋅I     6⋅E⋅I      6⋅E⋅I       6⋅E⋅I      6⋅E⋅I⎥ ⎢3⎥\n",
       "u = ⎢                                                              ⎥⋅⎢ ⎥\n",
       "    ⎢      3         3         3           3          3          3 ⎥ ⎢4⎥\n",
       "    ⎢    Hᵢ        Hᵢ        Hᵢ          Hᵢ         Hᵢ         Hᵢ  ⎥ ⎢ ⎥\n",
       "    ⎢11⋅─────  40⋅─────  81⋅─────   128⋅─────  176⋅─────  224⋅─────⎥ ⎢5⎥\n",
       "    ⎢   6⋅E⋅I     6⋅E⋅I     6⋅E⋅I       6⋅E⋅I      6⋅E⋅I      6⋅E⋅I⎥ ⎢ ⎥\n",
       "    ⎢                                                              ⎥ ⎣6⎦\n",
       "    ⎢      3         3          3          3          3          3 ⎥    \n",
       "    ⎢    Hᵢ        Hᵢ         Hᵢ         Hᵢ         Hᵢ         Hᵢ  ⎥    \n",
       "    ⎢14⋅─────  52⋅─────  108⋅─────  176⋅─────  250⋅─────  325⋅─────⎥    \n",
       "    ⎢   6⋅E⋅I     6⋅E⋅I      6⋅E⋅I      6⋅E⋅I      6⋅E⋅I      6⋅E⋅I⎥    \n",
       "    ⎢                                                              ⎥    \n",
       "    ⎢      3         3          3          3          3          3 ⎥    \n",
       "    ⎢    Hᵢ        Hᵢ         Hᵢ         Hᵢ         Hᵢ         Hᵢ  ⎥    \n",
       "    ⎢17⋅─────  64⋅─────  135⋅─────  224⋅─────  325⋅─────  432⋅─────⎥    \n",
       "    ⎣   6⋅E⋅I     6⋅E⋅I      6⋅E⋅I      6⋅E⋅I      6⋅E⋅I      6⋅E⋅I⎦    "
      ]
     },
     "metadata": {},
     "output_type": "display_data"
    },
    {
     "data": {
      "text/latex": [
       "\\begin{equation}\\mathbf{u} = \\left[\\begin{matrix}\\frac{42 H_{i}^{3}}{E I}\\\\\\frac{925 H_{i}^{3}}{6 E I}\\\\\\frac{950 H_{i}^{3}}{3 E I}\\\\\\frac{1535 H_{i}^{3}}{3 E I}\\\\\\frac{2173 H_{i}^{3}}{3 E I}\\\\\\frac{5663 H_{i}^{3}}{6 E I}\\end{matrix}\\right]\\end{equation}"
      ],
      "text/plain": [
       "    ⎡      3 ⎤\n",
       "    ⎢ 42⋅Hᵢ  ⎥\n",
       "    ⎢ ────── ⎥\n",
       "    ⎢  E⋅I   ⎥\n",
       "    ⎢        ⎥\n",
       "    ⎢      3 ⎥\n",
       "    ⎢925⋅Hᵢ  ⎥\n",
       "    ⎢─────── ⎥\n",
       "    ⎢ 6⋅E⋅I  ⎥\n",
       "    ⎢        ⎥\n",
       "    ⎢      3 ⎥\n",
       "    ⎢950⋅Hᵢ  ⎥\n",
       "    ⎢─────── ⎥\n",
       "    ⎢ 3⋅E⋅I  ⎥\n",
       "u = ⎢        ⎥\n",
       "    ⎢       3⎥\n",
       "    ⎢1535⋅Hᵢ ⎥\n",
       "    ⎢────────⎥\n",
       "    ⎢ 3⋅E⋅I  ⎥\n",
       "    ⎢        ⎥\n",
       "    ⎢       3⎥\n",
       "    ⎢2173⋅Hᵢ ⎥\n",
       "    ⎢────────⎥\n",
       "    ⎢ 3⋅E⋅I  ⎥\n",
       "    ⎢        ⎥\n",
       "    ⎢       3⎥\n",
       "    ⎢5663⋅Hᵢ ⎥\n",
       "    ⎢────────⎥\n",
       "    ⎣ 6⋅E⋅I  ⎦"
      ]
     },
     "metadata": {},
     "output_type": "display_data"
    }
   ],
   "source": [
    "render.eq_display(u, rl_eqs[u],\n",
    "                 u, calcs.subs_recursive(u, rl_eqs),\n",
    "                 u, calcs.subs_recursive(u, rl_eqs).doit())"
   ]
  },
  {
   "cell_type": "markdown",
   "id": "62dd726b-1046-4c0f-86fa-765e27b363fa",
   "metadata": {},
   "source": [
    "Durch Einsetzen der bestimmten Verformung in die Gleichung der Eigenfrequenz folgt:"
   ]
  },
  {
   "cell_type": "code",
   "execution_count": 14,
   "id": "e18d0122-0bd5-4e01-985d-0b1e48dc4fe8",
   "metadata": {},
   "outputs": [
    {
     "data": {
      "text/latex": [
       "\\begin{equation}f = \\frac{\\sqrt{43665341610} \\sqrt{\\frac{E I}{H_{i}^{3} m_{i}}}}{4993178 \\pi}\\end{equation}"
      ],
      "text/plain": [
       "                      ________\n",
       "                     ╱  E⋅I   \n",
       "    √43665341610⋅   ╱  ────── \n",
       "                   ╱     3    \n",
       "                 ╲╱    Hᵢ ⋅mᵢ \n",
       "f = ──────────────────────────\n",
       "            4993178⋅π         "
      ]
     },
     "metadata": {},
     "output_type": "display_data"
    },
    {
     "data": {
      "text/latex": [
       "\\begin{equation}T = \\frac{\\sqrt{43665341610} \\pi}{8745 \\sqrt{\\frac{E I}{H_{i}^{3} m_{i}}}}\\end{equation}"
      ],
      "text/plain": [
       "      √43665341610⋅π  \n",
       "T = ──────────────────\n",
       "              ________\n",
       "             ╱  E⋅I   \n",
       "    8745⋅   ╱  ────── \n",
       "           ╱     3    \n",
       "         ╲╱    Hᵢ ⋅mᵢ "
      ]
     },
     "metadata": {},
     "output_type": "display_data"
    }
   ],
   "source": [
    "render.eq_display(f, calcs.subs_recursive(f, rl_eqs).doit(),\n",
    "                 T, calcs.subs_recursive(T, rl_eqs).doit())"
   ]
  },
  {
   "cell_type": "markdown",
   "id": "2426dd6b-ed61-4471-b7f1-03896fb28e36",
   "metadata": {},
   "source": [
    "### Grundschwingzeit"
   ]
  },
  {
   "cell_type": "markdown",
   "id": "ea5f5a11-c9d3-4cb0-ad2a-fb4601606065",
   "metadata": {},
   "source": [
    "#### X-Richtung\n",
    "\n",
    "Es gilt $I$ mit $I_y$ zu substituieren."
   ]
  },
  {
   "cell_type": "code",
   "execution_count": 15,
   "id": "9530231a-b39e-4dad-b662-2f01f7756e7d",
   "metadata": {},
   "outputs": [
    {
     "data": {
      "text/latex": [
       "\\begin{equation}I_{y} = 28.27 \\text{m}^{4}\\end{equation}"
      ],
      "text/plain": [
       "                 4\n",
       "I_y = 28.27⋅meter "
      ]
     },
     "metadata": {},
     "output_type": "display_data"
    },
    {
     "data": {
      "text/latex": [
       "\\begin{equation}\\mathbf{\\mathbf{u_x}} = \\left[\\begin{matrix}\\frac{42.0 H_{i}^{3}}{E I_{y}}\\\\\\frac{154.0 H_{i}^{3}}{E I_{y}}\\\\\\frac{317.0 H_{i}^{3}}{E I_{y}}\\\\\\frac{512.0 H_{i}^{3}}{E I_{y}}\\\\\\frac{724.0 H_{i}^{3}}{E I_{y}}\\\\\\frac{944.0 H_{i}^{3}}{E I_{y}}\\end{matrix}\\right]\\end{equation}"
      ],
      "text/plain": [
       "               ⎡       3 ⎤\n",
       "               ⎢42.0⋅Hᵢ  ⎥\n",
       "               ⎢──────── ⎥\n",
       "               ⎢ E⋅I_y   ⎥\n",
       "               ⎢         ⎥\n",
       "               ⎢        3⎥\n",
       "               ⎢154.0⋅Hᵢ ⎥\n",
       "               ⎢─────────⎥\n",
       "               ⎢  E⋅I_y  ⎥\n",
       "               ⎢         ⎥\n",
       "               ⎢        3⎥\n",
       "               ⎢317.0⋅Hᵢ ⎥\n",
       "               ⎢─────────⎥\n",
       "               ⎢  E⋅I_y  ⎥\n",
       "\\mathbf{u_x} = ⎢         ⎥\n",
       "               ⎢        3⎥\n",
       "               ⎢512.0⋅Hᵢ ⎥\n",
       "               ⎢─────────⎥\n",
       "               ⎢  E⋅I_y  ⎥\n",
       "               ⎢         ⎥\n",
       "               ⎢        3⎥\n",
       "               ⎢724.0⋅Hᵢ ⎥\n",
       "               ⎢─────────⎥\n",
       "               ⎢  E⋅I_y  ⎥\n",
       "               ⎢         ⎥\n",
       "               ⎢        3⎥\n",
       "               ⎢944.0⋅Hᵢ ⎥\n",
       "               ⎢─────────⎥\n",
       "               ⎣  E⋅I_y  ⎦"
      ]
     },
     "metadata": {},
     "output_type": "display_data"
    },
    {
     "data": {
      "text/latex": [
       "\\begin{equation}\\mathbf{\\mathbf{u_x}} = \\left[\\begin{matrix}\\frac{1.65 \\cdot 10^{-9} \\text{m}}{\\text{N}}\\\\\\frac{6.05 \\cdot 10^{-9} \\text{m}}{\\text{N}}\\\\\\frac{1.24 \\cdot 10^{-8} \\text{m}}{\\text{N}}\\\\\\frac{2.01 \\cdot 10^{-8} \\text{m}}{\\text{N}}\\\\\\frac{2.84 \\cdot 10^{-8} \\text{m}}{\\text{N}}\\\\\\frac{3.7 \\cdot 10^{-8} \\text{m}}{\\text{N}}\\end{matrix}\\right]\\end{equation}"
      ],
      "text/plain": [
       "               ⎡1.65e-9⋅meter⎤\n",
       "               ⎢─────────────⎥\n",
       "               ⎢    newton   ⎥\n",
       "               ⎢             ⎥\n",
       "               ⎢6.05e-9⋅meter⎥\n",
       "               ⎢─────────────⎥\n",
       "               ⎢    newton   ⎥\n",
       "               ⎢             ⎥\n",
       "               ⎢1.24e-8⋅meter⎥\n",
       "               ⎢─────────────⎥\n",
       "               ⎢    newton   ⎥\n",
       "\\mathbf{u_x} = ⎢             ⎥\n",
       "               ⎢2.01e-8⋅meter⎥\n",
       "               ⎢─────────────⎥\n",
       "               ⎢    newton   ⎥\n",
       "               ⎢             ⎥\n",
       "               ⎢2.84e-8⋅meter⎥\n",
       "               ⎢─────────────⎥\n",
       "               ⎢    newton   ⎥\n",
       "               ⎢             ⎥\n",
       "               ⎢3.7e-8⋅meter ⎥\n",
       "               ⎢──────────── ⎥\n",
       "               ⎣   newton    ⎦"
      ]
     },
     "metadata": {},
     "output_type": "display_data"
    }
   ],
   "source": [
    "u_j_x = calcs.subs_recursive(u, rl_eqs).doit().subs(I, I_y)\n",
    "f_x = calcs.subs_recursive(f, rl_eqs).doit().subs(I, I_y)\n",
    "T_x = calcs.subs_recursive(T, rl_eqs).doit().subs(I,I_y)\n",
    "render.eq_display(I_y, I_y.subs(params),\n",
    "                  sp.MatrixSymbol('\\mathbf{u_x}', n,1), u_j_x.evalf(3),\n",
    "                  sp.MatrixSymbol('\\mathbf{u_x}', n,1), u_j_x.subs(params).evalf(3),\n",
    "                 )"
   ]
  },
  {
   "cell_type": "markdown",
   "id": "e512f906-3e98-498b-a96d-75624ec2f426",
   "metadata": {},
   "source": [
    "Und für die Grundfrequenz:"
   ]
  },
  {
   "cell_type": "code",
   "execution_count": 16,
   "id": "4d3e05c4-804c-4979-87c5-a4dc32b65720",
   "metadata": {},
   "outputs": [
    {
     "data": {
      "text/latex": [
       "\\begin{equation}f_{x} = \\frac{1.88}{\\text{s}}\\end{equation}"
      ],
      "text/plain": [
       "      1.88 \n",
       "fₓ = ──────\n",
       "     second"
      ]
     },
     "metadata": {},
     "output_type": "display_data"
    },
    {
     "data": {
      "text/latex": [
       "\\begin{equation}T_{x} = 0.531 \\text{s}\\end{equation}"
      ],
      "text/plain": [
       "Tₓ = 0.531⋅second"
      ]
     },
     "metadata": {},
     "output_type": "display_data"
    }
   ],
   "source": [
    "render.eq_display('f_x', f_x.subs(params).evalf(3),\n",
    "                 'T_x', T_x.subs(params).evalf(3))"
   ]
  },
  {
   "cell_type": "markdown",
   "id": "c8169b14-e956-44a6-aed2-8a045ab561b3",
   "metadata": {},
   "source": [
    "Nach @SIA261_2020 16.5.2.3"
   ]
  },
  {
   "cell_type": "code",
   "execution_count": 22,
   "id": "df2be4f1-0f80-4e4e-9e39-f437781616e4",
   "metadata": {},
   "outputs": [],
   "source": [
    "%%capture\n",
    "\n",
    "# Geschosshöhen\n",
    "hoehen_floats = []\n",
    "for i in range(n+1):\n",
    "    hoehen_floats.append(H_i)\n",
    "for i in range(len(hoehen_floats)):\n",
    "    hoehen_floats[i] = np.float64(i*hoehen_floats[i].subs(params_plot))\n",
    "\n",
    "\n",
    "# Kräfte aus ständigen und quasi ständen Lasten verteilt anhand der Geschosshöhe\n",
    "F_tot = np.float64(((n*m_i)*g).subs(params_plot))\n",
    "\n",
    "kraefte_floats = np.zeros(len(hoehen_floats))\n",
    "for i in range(len(hoehen_floats)):\n",
    "    kraefte_floats[i] = F_tot*hoehen_floats[i] / np.sum(hoehen_floats)\n",
    "\n",
    "\n",
    "# Ersatzsteifigkeit fürs FEM\n",
    "I_y_FEM = np.float64(I_y.subs(params)/unit.m**4)\n",
    "\n",
    "\n",
    "from ekv_1_FEM import FEM_ersatzstab\n",
    "Deformation_x_absolut = FEM_ersatzstab(hoehen_floats, kraefte_floats, I_y_FEM)[0]['displacement_absolute']\n",
    "\n"
   ]
  },
  {
   "cell_type": "code",
   "execution_count": 24,
   "id": "94ab86f5-7a75-4379-8369-2384cfdf884c",
   "metadata": {},
   "outputs": [
    {
     "data": {
      "text/latex": [
       "\\begin{equation}T_{1 x approx} = 0.991 \\text{s}\\end{equation}"
      ],
      "text/plain": [
       "T₁ ₓ ₐₚₚᵣₒₓ = 0.991⋅second"
      ]
     },
     "metadata": {},
     "output_type": "display_data"
    }
   ],
   "source": [
    "T_1_x_approx = 2*sp.sqrt(Deformation_x_absolut)*unit.second\n",
    "render.eq_display('T_1_x_approx', T_1_x_approx.subs(params).evalf(3))"
   ]
  },
  {
   "cell_type": "markdown",
   "id": "008fd7a8-1499-47b6-a70d-ee7c7ab89337",
   "metadata": {},
   "source": [
    "#### Y-Richtung\n",
    "\n",
    "Es gilt $I$ mit $I_x$ zu substituieren."
   ]
  },
  {
   "cell_type": "code",
   "execution_count": 19,
   "id": "7677598a-4607-4b49-a9bc-d21c97006323",
   "metadata": {},
   "outputs": [
    {
     "data": {
      "text/latex": [
       "\\begin{equation}I_{x} = 14.89 \\text{m}^{4}\\end{equation}"
      ],
      "text/plain": [
       "                4\n",
       "Iₓ = 14.89⋅meter "
      ]
     },
     "metadata": {},
     "output_type": "display_data"
    },
    {
     "data": {
      "text/latex": [
       "\\begin{equation}\\mathbf{\\mathbf{u_y}} = \\left[\\begin{matrix}\\frac{42.0 H_{i}^{3}}{E I_{x}}\\\\\\frac{154.0 H_{i}^{3}}{E I_{x}}\\\\\\frac{317.0 H_{i}^{3}}{E I_{x}}\\\\\\frac{512.0 H_{i}^{3}}{E I_{x}}\\\\\\frac{724.0 H_{i}^{3}}{E I_{x}}\\\\\\frac{944.0 H_{i}^{3}}{E I_{x}}\\end{matrix}\\right]\\end{equation}"
      ],
      "text/plain": [
       "               ⎡       3 ⎤\n",
       "               ⎢42.0⋅Hᵢ  ⎥\n",
       "               ⎢──────── ⎥\n",
       "               ⎢  E⋅Iₓ   ⎥\n",
       "               ⎢         ⎥\n",
       "               ⎢        3⎥\n",
       "               ⎢154.0⋅Hᵢ ⎥\n",
       "               ⎢─────────⎥\n",
       "               ⎢   E⋅Iₓ  ⎥\n",
       "               ⎢         ⎥\n",
       "               ⎢        3⎥\n",
       "               ⎢317.0⋅Hᵢ ⎥\n",
       "               ⎢─────────⎥\n",
       "               ⎢   E⋅Iₓ  ⎥\n",
       "\\mathbf{u_y} = ⎢         ⎥\n",
       "               ⎢        3⎥\n",
       "               ⎢512.0⋅Hᵢ ⎥\n",
       "               ⎢─────────⎥\n",
       "               ⎢   E⋅Iₓ  ⎥\n",
       "               ⎢         ⎥\n",
       "               ⎢        3⎥\n",
       "               ⎢724.0⋅Hᵢ ⎥\n",
       "               ⎢─────────⎥\n",
       "               ⎢   E⋅Iₓ  ⎥\n",
       "               ⎢         ⎥\n",
       "               ⎢        3⎥\n",
       "               ⎢944.0⋅Hᵢ ⎥\n",
       "               ⎢─────────⎥\n",
       "               ⎣   E⋅Iₓ  ⎦"
      ]
     },
     "metadata": {},
     "output_type": "display_data"
    },
    {
     "data": {
      "text/latex": [
       "\\begin{equation}\\mathbf{\\mathbf{u_y}} = \\left[\\begin{matrix}\\frac{3.13 \\cdot 10^{-9} \\text{m}}{\\text{N}}\\\\\\frac{1.15 \\cdot 10^{-8} \\text{m}}{\\text{N}}\\\\\\frac{2.36 \\cdot 10^{-8} \\text{m}}{\\text{N}}\\\\\\frac{3.81 \\cdot 10^{-8} \\text{m}}{\\text{N}}\\\\\\frac{5.39 \\cdot 10^{-8} \\text{m}}{\\text{N}}\\\\\\frac{7.03 \\cdot 10^{-8} \\text{m}}{\\text{N}}\\end{matrix}\\right]\\end{equation}"
      ],
      "text/plain": [
       "               ⎡3.13e-9⋅meter⎤\n",
       "               ⎢─────────────⎥\n",
       "               ⎢    newton   ⎥\n",
       "               ⎢             ⎥\n",
       "               ⎢1.15e-8⋅meter⎥\n",
       "               ⎢─────────────⎥\n",
       "               ⎢    newton   ⎥\n",
       "               ⎢             ⎥\n",
       "               ⎢2.36e-8⋅meter⎥\n",
       "               ⎢─────────────⎥\n",
       "               ⎢    newton   ⎥\n",
       "\\mathbf{u_y} = ⎢             ⎥\n",
       "               ⎢3.81e-8⋅meter⎥\n",
       "               ⎢─────────────⎥\n",
       "               ⎢    newton   ⎥\n",
       "               ⎢             ⎥\n",
       "               ⎢5.39e-8⋅meter⎥\n",
       "               ⎢─────────────⎥\n",
       "               ⎢    newton   ⎥\n",
       "               ⎢             ⎥\n",
       "               ⎢7.03e-8⋅meter⎥\n",
       "               ⎢─────────────⎥\n",
       "               ⎣    newton   ⎦"
      ]
     },
     "metadata": {},
     "output_type": "display_data"
    }
   ],
   "source": [
    "u_j_y = calcs.subs_recursive(u, rl_eqs).doit().subs(I, I_x)\n",
    "f_y = calcs.subs_recursive(f, rl_eqs).doit().subs(I, I_x)\n",
    "T_y = calcs.subs_recursive(T, rl_eqs).doit().subs(I,I_x)\n",
    "render.eq_display(I_x, I_x.subs(params),\n",
    "                  sp.MatrixSymbol('\\mathbf{u_y}', n,1), u_j_y.evalf(3),\n",
    "                  sp.MatrixSymbol('\\mathbf{u_y}', n,1), u_j_y.subs(params).evalf(3),\n",
    "                 )"
   ]
  },
  {
   "cell_type": "markdown",
   "id": "2d764f1e-3b15-4d39-ab03-1f14f23d79d2",
   "metadata": {},
   "source": [
    "Und für die Grundfrequenz:"
   ]
  },
  {
   "cell_type": "code",
   "execution_count": 20,
   "id": "f5d0b389-585d-4b96-a252-58f7e0bb67a1",
   "metadata": {},
   "outputs": [
    {
     "data": {
      "text/latex": [
       "\\begin{equation}f_{y} = \\frac{1.37}{\\text{s}}\\end{equation}"
      ],
      "text/plain": [
       "       1.37 \n",
       "f_y = ──────\n",
       "      second"
      ]
     },
     "metadata": {},
     "output_type": "display_data"
    },
    {
     "data": {
      "text/latex": [
       "\\begin{equation}T_{y} = 0.732 \\text{s}\\end{equation}"
      ],
      "text/plain": [
       "T_y = 0.732⋅second"
      ]
     },
     "metadata": {},
     "output_type": "display_data"
    }
   ],
   "source": [
    "render.eq_display('f_y', f_y.subs(params).evalf(3),\n",
    "                 'T_y', T_y.subs(params).evalf(3))"
   ]
  },
  {
   "cell_type": "markdown",
   "id": "b2ce9e0a-ddea-4d7e-af44-3c1159b620c9",
   "metadata": {},
   "source": [
    "Nach @SIA261_2020 16.5.2.3"
   ]
  },
  {
   "cell_type": "code",
   "execution_count": 25,
   "id": "071afa34-9f6e-480b-9a93-6273dc877356",
   "metadata": {},
   "outputs": [],
   "source": [
    "I_x_FEM = np.float64(I_x.subs(params)/unit.m**4)\n",
    "\n",
    "\n",
    "Deformation_y_absolut = FEM_ersatzstab(hoehen_floats, kraefte_floats, I_x_FEM)[0]['displacement_absolute']"
   ]
  },
  {
   "cell_type": "code",
   "execution_count": 26,
   "id": "1ca3b2eb-89bb-4589-a888-3dfd3968b0bc",
   "metadata": {},
   "outputs": [
    {
     "data": {
      "text/latex": [
       "\\begin{equation}T_{1 y approx} = 1.17 \\text{s}\\end{equation}"
      ],
      "text/plain": [
       "T_1_y_approx = 1.17⋅second"
      ]
     },
     "metadata": {},
     "output_type": "display_data"
    }
   ],
   "source": [
    "T_1_y_approx = 2*sp.sqrt(Deformation_y_absolut)*unit.second\n",
    "render.eq_display('T_1_y_approx', T_1_y_approx.subs(params).evalf(3))"
   ]
  },
  {
   "cell_type": "markdown",
   "id": "4e1ef51c-37c7-4479-ab4e-16a4e1560dd2",
   "metadata": {},
   "source": [
    "### Abminderung der Steifigkeit\n",
    "\n",
    "Um die Rissbildung zu berücksichtigen, wird die Steifigkeit auf 30 % abgemindert."
   ]
  },
  {
   "cell_type": "markdown",
   "id": "cd6613c6-abca-42e2-acda-058a2cf42cc1",
   "metadata": {},
   "source": [
    "#### X-Richtung"
   ]
  },
  {
   "cell_type": "code",
   "execution_count": 27,
   "id": "f397e8ee-d299-4514-86c1-57cd2c347fce",
   "metadata": {},
   "outputs": [
    {
     "data": {
      "text/latex": [
       "\\begin{equation}f_{xred} = \\frac{1.03}{\\text{s}}\\end{equation}"
      ],
      "text/plain": [
       "          1.03 \n",
       "f_xred = ──────\n",
       "         second"
      ]
     },
     "metadata": {},
     "output_type": "display_data"
    },
    {
     "data": {
      "text/latex": [
       "\\begin{equation}T_{x red} = 0.97 \\text{s}\\end{equation}"
      ],
      "text/plain": [
       "T_x_red = 0.97⋅second"
      ]
     },
     "metadata": {},
     "output_type": "display_data"
    }
   ],
   "source": [
    "f_x_red = f_x.subs(E,0.3*E)\n",
    "T_x_red = T_x.subs(E,0.3*E)\n",
    "\n",
    "render.eq_display('f_xred', f_x_red.subs(params).evalf(3),\n",
    "                 'T_x_red', T_x_red.subs(params).evalf(3))"
   ]
  },
  {
   "cell_type": "markdown",
   "id": "4c469fcc-ea28-4e98-b310-f201d14d7aad",
   "metadata": {},
   "source": [
    "#### Y-Richtung"
   ]
  },
  {
   "cell_type": "code",
   "execution_count": 28,
   "id": "fb1a4e63-d475-457c-ba0d-7b6fab43779d",
   "metadata": {},
   "outputs": [
    {
     "data": {
      "text/latex": [
       "\\begin{equation}f_{yred} = \\frac{0.748}{\\text{s}}\\end{equation}"
      ],
      "text/plain": [
       "         0.748 \n",
       "f_yred = ──────\n",
       "         second"
      ]
     },
     "metadata": {},
     "output_type": "display_data"
    },
    {
     "data": {
      "text/latex": [
       "\\begin{equation}T_{y red} = 1.34 \\text{s}\\end{equation}"
      ],
      "text/plain": [
       "T_y_red = 1.34⋅second"
      ]
     },
     "metadata": {},
     "output_type": "display_data"
    }
   ],
   "source": [
    "f_y_red = f_y.subs(E,0.3*E)\n",
    "T_y_red = T_y.subs(E,0.3*E)\n",
    "render.eq_display('f_yred', f_y_red.subs(params).evalf(3),\n",
    "                 'T_y_red', T_y_red.subs(params).evalf(3))"
   ]
  }
 ],
 "metadata": {
  "kernelspec": {
   "display_name": "Python 3 (ipykernel)",
   "language": "python",
   "name": "python3"
  },
  "language_info": {
   "codemirror_mode": {
    "name": "ipython",
    "version": 3
   },
   "file_extension": ".py",
   "mimetype": "text/x-python",
   "name": "python",
   "nbconvert_exporter": "python",
   "pygments_lexer": "ipython3",
   "version": "3.10.12"
  }
 },
 "nbformat": 4,
 "nbformat_minor": 5
}
