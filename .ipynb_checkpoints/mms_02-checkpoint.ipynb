{
 "cells": [
  {
   "cell_type": "code",
   "execution_count": 1,
   "metadata": {},
   "outputs": [],
   "source": [
    "%run style_and_packages.ipynb"
   ]
  },
  {
   "cell_type": "markdown",
   "metadata": {
    "jp-MarkdownHeadingCollapsed": true
   },
   "source": [
    "# Beispiel: Eigenvektoren mit direkt bestimmter Steifigkeitsmatrix{#sec-mms_steif}\n",
    "\n",
    "## Aufgabenstellung\n",
    "\n",
    "\n",
    "Das System in @fig-mms_steif_system_mms2 zeigt ein Rahmentragwerk, welches als Zweimassenschwinger modelliert werden kann.\n",
    "\n",
    "![Statisches System des Rahmentragwerks](bilder/aufgabe_mms_steif_system.svg){#fig-mms_steif_system_mms2}\n",
    "\n",
    "Gesucht:\n",
    "\n",
    "-  Eigenkreisfrequenz $\\omega$ \n",
    "-  Eigenformen - Normierung auf \n",
    "$$\\phi_1^T = \n",
    "\\begin{bmatrix}\n",
    " &  1\\\\\n",
    "\\end{bmatrix} $$\n",
    "$$\\phi_2^T =\n",
    "\\begin{bmatrix}\n",
    " &  1\\\\\n",
    "\\end{bmatrix}$$\n",
    "\n",
    "- Skizze der Eigenformen \n",
    "\n",
    "Gegeben:\n",
    "\n",
    "- Dehnsteifigkeit aller Stäbe $E\\cdot A = \\infty$\n"
   ]
  },
  {
   "cell_type": "code",
   "execution_count": 2,
   "metadata": {},
   "outputs": [
    {
     "data": {
      "text/markdown": [
       "| Parameter |  |\n",
       "|---|---|\n",
       "| $E = \\frac{30000 \\text{N}}{\\text{mm}^{2}}$ | $H = 3.2 \\text{m}$ |\n",
       "| $I = 2000000000 \\text{mm}^{4}$ | $m_{1} = \\frac{40000 \\text{N} \\text{s}^{2}}{\\text{m}}$ |\n",
       "| $m_{2} = \\frac{20000 \\text{N} \\text{s}^{2}}{\\text{m}}$ | |\n"
      ],
      "text/plain": [
       "<IPython.core.display.Markdown object>"
      ]
     },
     "metadata": {},
     "output_type": "display_data"
    }
   ],
   "source": [
    "#| label: tbl-parameter_mms2\n",
    "#| tbl-cap: Parameter der Aufgabenstellung\n",
    "\n",
    "params = {'E': 30*10**3 *unit.N/unit.mm**2,\n",
    "          'I':2*10**9*unit.mm**4,\n",
    "          'm_1':2*20000*unit.N*unit.second**2/unit.m,\n",
    "          'm_2':20000*unit.N*unit.second**2/unit.m,\n",
    "          'H':3.2*unit.m,\n",
    "          }\n",
    "\n",
    "\n",
    "render.dict_to_table(params)"
   ]
  },
  {
   "cell_type": "markdown",
   "metadata": {},
   "source": [
    "{{< pagebreak >}}\n",
    "\n",
    "## Musterlösung{#sec-mms_steif_ML}"
   ]
  },
  {
   "cell_type": "code",
   "execution_count": 3,
   "metadata": {},
   "outputs": [],
   "source": [
    "omega, t,  E,I, H = sp.symbols('omega, t,  E, I, H')\n",
    "\n",
    "omega_n = sp.symbols('omega_n')"
   ]
  },
  {
   "cell_type": "markdown",
   "metadata": {},
   "source": [
    "### Eigenkreisfrequenzen\n",
    "#### Steifigkeitsmatrix $\\mathbf{K}${#sec-mms_steif_kmatrix}\n",
    "\n",
    "Zur Bestimmung der Steifigkeitsmatrix ist das System an jedem Freiheitsgrad auszulenken, wie in @fig-mms_steif_steifigkeit dargestellt ist.\n",
    "\n",
    "![Auslenkung der Freiheitsgrade zur Bestimmung der Steifigkeit](bilder/aufgabe_mms_steif_auslenk.svg){#fig-mms_steif_steifigkeit}\n",
    "\n",
    "Wichtig dabei sind die Richtungen der Kräfte. Als Denkstütze gilt folgendes:\n",
    "\n",
    "- Der Auslenkung um $u$ wirkt die Federkraft entgegen, welche $k u$ entspricht.\n",
    "- Zusätzlich wirkt die Trägheitskraft der Auslenkung entgegen, welche $m u''$ entspricht.\n",
    "- Nach der Betrachtung des ausgelenkten Punkts, kann mittels *Actio-Reactio*-Prinzip das \"*Stockwerk*\" ins Gleichgewicht gebracht werden.\n",
    "- Vorzeichen sind gegen der Bewegungsrichtig positiv."
   ]
  },
  {
   "cell_type": "markdown",
   "metadata": {},
   "source": [
    "#### Horizontale Steifigkeit\n",
    "\n",
    "Für entsprechende Anwendungsfälle gibt es fertige Lösungen zur Bestimmung der Steifigkeit. Gemäss @fig-mms_steif_system_mms2 ist die Stütze am Fuss- und Kopfpunkt eingespannt. Somit resultiert die Steifigkeit zu:\n",
    "\n",
    "$$\n",
    "k_{Stuetze} = \\frac{12EI_{Stuetze}}{H^3}\n",
    "$${#eq-mms_steif_steifigkeit}\n",
    "\n",
    "Diese gilt für eine einzelne Stütze. Eingesetzt in die Steifigkeitsmatrix:"
   ]
  },
  {
   "cell_type": "code",
   "execution_count": 4,
   "metadata": {},
   "outputs": [
    {
     "data": {
      "text/latex": [
       "\\begin{equation}k_{1} = \\frac{48 E I}{H^{3}}\\end{equation}"
      ],
      "text/plain": [
       "     48⋅E⋅I\n",
       "k₁ = ──────\n",
       "        3  \n",
       "       H   "
      ]
     },
     "metadata": {},
     "output_type": "display_data"
    },
    {
     "data": {
      "text/latex": [
       "\\begin{equation}k_{2} = \\frac{24 E I}{H^{3}}\\end{equation}"
      ],
      "text/plain": [
       "     24⋅E⋅I\n",
       "k₂ = ──────\n",
       "        3  \n",
       "       H   "
      ]
     },
     "metadata": {},
     "output_type": "display_data"
    },
    {
     "data": {
      "text/latex": [
       "\\begin{equation}K = \\left[\\begin{matrix}k_{1} + k_{2} & - k_{2}\\\\- k_{2} & k_{2}\\end{matrix}\\right]\\end{equation}"
      ],
      "text/plain": [
       "    ⎡k₁ + k₂  -k₂⎤\n",
       "K = ⎢            ⎥\n",
       "    ⎣  -k₂    k₂ ⎦"
      ]
     },
     "metadata": {},
     "output_type": "display_data"
    },
    {
     "data": {
      "text/latex": [
       "\\begin{equation}K = \\left[\\begin{matrix}\\frac{1.31836 \\cdot 10^{8} \\text{N}}{\\text{m}} & - \\frac{4.39453 \\cdot 10^{7} \\text{N}}{\\text{m}}\\\\- \\frac{4.39453 \\cdot 10^{7} \\text{N}}{\\text{m}} & \\frac{4.39453 \\cdot 10^{7} \\text{N}}{\\text{m}}\\end{matrix}\\right]\\end{equation}"
      ],
      "text/plain": [
       "    ⎡ 1.31836e+8⋅newton   -4.39453e+7⋅newton ⎤\n",
       "    ⎢ ─────────────────   ───────────────────⎥\n",
       "    ⎢       meter                meter       ⎥\n",
       "K = ⎢                                        ⎥\n",
       "    ⎢-4.39453e+7⋅newton    4.39453e+7⋅newton ⎥\n",
       "    ⎢───────────────────   ───────────────── ⎥\n",
       "    ⎣       meter                meter       ⎦"
      ]
     },
     "metadata": {},
     "output_type": "display_data"
    }
   ],
   "source": [
    "k_1, k_2 = sp.symbols('k_1, k_2')\n",
    "\n",
    "params['k_1'] = 2*(12 * 2*E*I / H**3).subs(params).simplify().evalf(6)\n",
    "params['k_2'] = 2*(12 * E*I / H**3).subs(params).simplify().evalf(6)\n",
    "K = sp.Matrix([[k_1 + k_2, -k_2],[-k_2, k_2]])\n",
    "\n",
    "\n",
    "render.eq_display('k_1', 2*(12 * 2*E*I / H**3),\n",
    "                  'k_2', 2*(12 * E*I / H**3),\n",
    "                  sp.MatrixSymbol('K', 2,2), K,\n",
    "                  sp.MatrixSymbol('K', 2,2), K.subs(params),\n",
    "                  )"
   ]
  },
  {
   "cell_type": "markdown",
   "metadata": {},
   "source": [
    "### Eigenvektoren\n",
    "#### Massenmatrix $\\mathbf{M}$ \n",
    "\n",
    "Die Massenmatrix folgt dem gleichen Aufbau wie die Steifigkeitsmatrix. Es gelten die gleichen Vorzeichenregelungen."
   ]
  },
  {
   "cell_type": "code",
   "execution_count": 5,
   "metadata": {},
   "outputs": [
    {
     "data": {
      "text/latex": [
       "\\begin{equation}M = \\left[\\begin{matrix}m_{1} & 0\\\\0 & m_{2}\\end{matrix}\\right]\\end{equation}"
      ],
      "text/plain": [
       "    ⎡m₁  0 ⎤\n",
       "M = ⎢      ⎥\n",
       "    ⎣0   m₂⎦"
      ]
     },
     "metadata": {},
     "output_type": "display_data"
    },
    {
     "data": {
      "text/latex": [
       "\\begin{equation}M = \\left[\\begin{matrix}\\frac{40000 \\text{N} \\text{s}^{2}}{\\text{m}} & 0\\\\0 & \\frac{20000 \\text{N} \\text{s}^{2}}{\\text{m}}\\end{matrix}\\right]\\end{equation}"
      ],
      "text/plain": [
       "    ⎡                   2                      ⎤\n",
       "    ⎢40000⋅newton⋅second                       ⎥\n",
       "    ⎢────────────────────           0          ⎥\n",
       "    ⎢       meter                              ⎥\n",
       "M = ⎢                                          ⎥\n",
       "    ⎢                                         2⎥\n",
       "    ⎢                      20000⋅newton⋅second ⎥\n",
       "    ⎢         0            ────────────────────⎥\n",
       "    ⎣                             meter        ⎦"
      ]
     },
     "metadata": {},
     "output_type": "display_data"
    }
   ],
   "source": [
    "m_1, m_2 = sp.symbols('m_1, m_2')\n",
    "M = sp.Matrix([[m_1, 0],[0, m_2]])\n",
    "\n",
    "render.eq_display(sp.MatrixSymbol('M', 2,2), M,\n",
    "                  sp.MatrixSymbol('M', 2,2), M.subs(params))"
   ]
  },
  {
   "cell_type": "markdown",
   "metadata": {},
   "source": [
    "#### Eigenkreisfrequenzen \n",
    "Bei einem Mehrmassenschwinger gibt es entsprechend den Freiheitsgraden Eigenkreisfrequenzen $\\omega_n$. Diese lassen sich anhand folgender Gleichung bestimmen:\n",
    "\n",
    "$$\\det{[\\mathbf{K}-\\omega_n^2 \\mathbf{M}]=0}$$"
   ]
  },
  {
   "cell_type": "code",
   "execution_count": 6,
   "metadata": {},
   "outputs": [
    {
     "data": {
      "text/latex": [
       "\\begin{equation}\\omega_{1} = \\frac{33.1}{\\text{s}}\\end{equation}"
      ],
      "text/plain": [
       "      33.1 \n",
       "ω₁ = ──────\n",
       "     second"
      ]
     },
     "metadata": {},
     "output_type": "display_data"
    },
    {
     "data": {
      "text/latex": [
       "\\begin{equation}\\omega_{2} = \\frac{66.3}{\\text{s}}\\end{equation}"
      ],
      "text/plain": [
       "      66.3 \n",
       "ω₂ = ──────\n",
       "     second"
      ]
     },
     "metadata": {},
     "output_type": "display_data"
    }
   ],
   "source": [
    "eq_omega = sp.det(K-omega_n**2*M)\n",
    "\n",
    "omega_n_solve = sp.solve(eq_omega, omega_n)\n",
    "omega_1 = omega_n_solve[1]\n",
    "omega_2 = omega_n_solve[3]\n",
    "\n",
    "render.eq_display('omega_1', omega_1.subs(params).simplify().evalf(3),\n",
    "                  'omega_2', omega_2.subs(params).simplify().evalf(3))"
   ]
  },
  {
   "cell_type": "markdown",
   "metadata": {},
   "source": [
    "#### Eigenvektoren $\\phi$"
   ]
  },
  {
   "cell_type": "code",
   "execution_count": 7,
   "metadata": {},
   "outputs": [
    {
     "data": {
      "text/latex": [
       "\\begin{equation}\\left[\\begin{matrix}\\frac{- k_{2} m_{2} \\phi_{21} + \\frac{\\phi_{11} \\left(- k_{2} m_{1} + m_{2} \\left(k_{1} + k_{2}\\right) + \\sqrt{k_{1}^{2} m_{2}^{2} - 2 k_{1} k_{2} m_{1} m_{2} + 2 k_{1} k_{2} m_{2}^{2} + k_{2}^{2} m_{1}^{2} + 2 k_{2}^{2} m_{1} m_{2} + k_{2}^{2} m_{2}^{2}}\\right)}{2}}{m_{2}}\\\\\\frac{- k_{2} m_{1} \\phi_{11} + \\frac{\\phi_{21} \\left(k_{2} m_{1} - m_{2} \\left(k_{1} + k_{2}\\right) + \\sqrt{k_{1}^{2} m_{2}^{2} - 2 k_{1} k_{2} m_{1} m_{2} + 2 k_{1} k_{2} m_{2}^{2} + k_{2}^{2} m_{1}^{2} + 2 k_{2}^{2} m_{1} m_{2} + k_{2}^{2} m_{2}^{2}}\\right)}{2}}{m_{1}}\\end{matrix}\\right] = \\left[\\begin{matrix}0\\\\0\\end{matrix}\\right]\\end{equation}"
      ],
      "text/plain": [
       "⎡                 ⎛                           ________________________________\n",
       "⎢                 ⎜                          ╱   2   2                        \n",
       "⎢             φ₁₁⋅⎝-k₂⋅m₁ + m₂⋅(k₁ + k₂) + ╲╱  k₁ ⋅m₂  - 2⋅k₁⋅k₂⋅m₁⋅m₂ + 2⋅k₁⋅\n",
       "⎢-k₂⋅m₂⋅φ₂₁ + ────────────────────────────────────────────────────────────────\n",
       "⎢                                                                 2           \n",
       "⎢─────────────────────────────────────────────────────────────────────────────\n",
       "⎢                                                           m₂                \n",
       "⎢                                                                             \n",
       "⎢                 ⎛                          _________________________________\n",
       "⎢                 ⎜                         ╱   2   2                         \n",
       "⎢             φ₂₁⋅⎝k₂⋅m₁ - m₂⋅(k₁ + k₂) + ╲╱  k₁ ⋅m₂  - 2⋅k₁⋅k₂⋅m₁⋅m₂ + 2⋅k₁⋅k\n",
       "⎢-k₂⋅m₁⋅φ₁₁ + ────────────────────────────────────────────────────────────────\n",
       "⎢                                                                 2           \n",
       "⎢─────────────────────────────────────────────────────────────────────────────\n",
       "⎣                                                          m₁                 \n",
       "\n",
       "_________________________________________⎞⎤      \n",
       "     2     2   2       2           2   2 ⎟⎥      \n",
       "k₂⋅m₂  + k₂ ⋅m₁  + 2⋅k₂ ⋅m₁⋅m₂ + k₂ ⋅m₂  ⎠⎥      \n",
       "──────────────────────────────────────────⎥      \n",
       "                                          ⎥      \n",
       "──────────────────────────────────────────⎥      \n",
       "                                          ⎥   ⎡0⎤\n",
       "                                          ⎥ = ⎢ ⎥\n",
       "________________________________________⎞ ⎥   ⎣0⎦\n",
       "    2     2   2       2           2   2 ⎟ ⎥      \n",
       "₂⋅m₂  + k₂ ⋅m₁  + 2⋅k₂ ⋅m₁⋅m₂ + k₂ ⋅m₂  ⎠ ⎥      \n",
       "───────────────────────────────────────── ⎥      \n",
       "                                          ⎥      \n",
       "───────────────────────────────────────── ⎥      \n",
       "                                          ⎦      "
      ]
     },
     "metadata": {},
     "output_type": "display_data"
    },
    {
     "data": {
      "text/latex": [
       "\\begin{equation}\\phi_{1} = \\left[\\begin{matrix}0.5\\\\1.0\\end{matrix}\\right]\\end{equation}"
      ],
      "text/plain": [
       "     ⎡0.5⎤\n",
       "φ₁ = ⎢   ⎥\n",
       "     ⎣1.0⎦"
      ]
     },
     "metadata": {},
     "output_type": "display_data"
    }
   ],
   "source": [
    "phi_11, phi_21, phi_12, phi_22 = sp.symbols('phi_11, phi_21, phi_12, phi_22')\n",
    "params['phi_21'] = 1\n",
    "\n",
    "phi_1 = sp.Matrix([[phi_11], [phi_21]])\n",
    "\n",
    "phi_11 = list(sp.solve((K-omega_1**2 *M)*phi_1, phi_11).values())[0]\n",
    "\n",
    "params['phi_11'] = phi_11.subs(params).simplify() \n",
    "\n",
    "\n",
    "\n",
    "\n",
    "render.eq_display(sp.simplify((K-omega_1**2 *M)*phi_1),sp.Matrix([[0],[0]]),\n",
    "                  sp.MatrixSymbol('phi_1', 2,1),sp.simplify(phi_1.subs(params)).evalf(3))"
   ]
  },
  {
   "cell_type": "code",
   "execution_count": 8,
   "metadata": {},
   "outputs": [
    {
     "data": {
      "text/latex": [
       "\\begin{equation}\\left[\\begin{matrix}\\frac{- k_{2} m_{2} \\phi_{22} + \\frac{\\phi_{12} \\left(- k_{2} m_{1} + m_{2} \\left(k_{1} + k_{2}\\right) - \\sqrt{k_{1}^{2} m_{2}^{2} - 2 k_{1} k_{2} m_{1} m_{2} + 2 k_{1} k_{2} m_{2}^{2} + k_{2}^{2} m_{1}^{2} + 2 k_{2}^{2} m_{1} m_{2} + k_{2}^{2} m_{2}^{2}}\\right)}{2}}{m_{2}}\\\\\\frac{- k_{2} m_{1} \\phi_{12} + \\frac{\\phi_{22} \\left(k_{2} m_{1} - m_{2} \\left(k_{1} + k_{2}\\right) - \\sqrt{k_{1}^{2} m_{2}^{2} - 2 k_{1} k_{2} m_{1} m_{2} + 2 k_{1} k_{2} m_{2}^{2} + k_{2}^{2} m_{1}^{2} + 2 k_{2}^{2} m_{1} m_{2} + k_{2}^{2} m_{2}^{2}}\\right)}{2}}{m_{1}}\\end{matrix}\\right] = \\left[\\begin{matrix}0\\\\0\\end{matrix}\\right]\\end{equation}"
      ],
      "text/plain": [
       "⎡                 ⎛                           ________________________________\n",
       "⎢                 ⎜                          ╱   2   2                        \n",
       "⎢             φ₁₂⋅⎝-k₂⋅m₁ + m₂⋅(k₁ + k₂) - ╲╱  k₁ ⋅m₂  - 2⋅k₁⋅k₂⋅m₁⋅m₂ + 2⋅k₁⋅\n",
       "⎢-k₂⋅m₂⋅φ₂₂ + ────────────────────────────────────────────────────────────────\n",
       "⎢                                                                 2           \n",
       "⎢─────────────────────────────────────────────────────────────────────────────\n",
       "⎢                                                           m₂                \n",
       "⎢                                                                             \n",
       "⎢                 ⎛                          _________________________________\n",
       "⎢                 ⎜                         ╱   2   2                         \n",
       "⎢             φ₂₂⋅⎝k₂⋅m₁ - m₂⋅(k₁ + k₂) - ╲╱  k₁ ⋅m₂  - 2⋅k₁⋅k₂⋅m₁⋅m₂ + 2⋅k₁⋅k\n",
       "⎢-k₂⋅m₁⋅φ₁₂ + ────────────────────────────────────────────────────────────────\n",
       "⎢                                                                 2           \n",
       "⎢─────────────────────────────────────────────────────────────────────────────\n",
       "⎣                                                          m₁                 \n",
       "\n",
       "_________________________________________⎞⎤      \n",
       "     2     2   2       2           2   2 ⎟⎥      \n",
       "k₂⋅m₂  + k₂ ⋅m₁  + 2⋅k₂ ⋅m₁⋅m₂ + k₂ ⋅m₂  ⎠⎥      \n",
       "──────────────────────────────────────────⎥      \n",
       "                                          ⎥      \n",
       "──────────────────────────────────────────⎥      \n",
       "                                          ⎥   ⎡0⎤\n",
       "                                          ⎥ = ⎢ ⎥\n",
       "________________________________________⎞ ⎥   ⎣0⎦\n",
       "    2     2   2       2           2   2 ⎟ ⎥      \n",
       "₂⋅m₂  + k₂ ⋅m₁  + 2⋅k₂ ⋅m₁⋅m₂ + k₂ ⋅m₂  ⎠ ⎥      \n",
       "───────────────────────────────────────── ⎥      \n",
       "                                          ⎥      \n",
       "───────────────────────────────────────── ⎥      \n",
       "                                          ⎦      "
      ]
     },
     "metadata": {},
     "output_type": "display_data"
    },
    {
     "data": {
      "text/latex": [
       "\\begin{equation}\\phi_{2} = \\left[\\begin{matrix}-1.0\\\\1.0\\end{matrix}\\right]\\end{equation}"
      ],
      "text/plain": [
       "     ⎡-1.0⎤\n",
       "φ₂ = ⎢    ⎥\n",
       "     ⎣1.0 ⎦"
      ]
     },
     "metadata": {},
     "output_type": "display_data"
    }
   ],
   "source": [
    "params['phi_22'] = 1\n",
    "\n",
    "phi_2 = sp.Matrix([[phi_12], [phi_22]])\n",
    "\n",
    "phi_12 = list(sp.solve((K-omega_2**2 *M)*phi_2, phi_12).values())[0]\n",
    "\n",
    "params['phi_12'] = phi_12.subs(params).simplify() \n",
    "\n",
    "\n",
    "\n",
    "\n",
    "render.eq_display(sp.simplify((K-omega_2**2 *M)*phi_2),sp.Matrix([[0],[0]]),\n",
    "                  sp.MatrixSymbol('phi_2', 2,1),sp.simplify(phi_2.subs(params)).evalf(3))"
   ]
  },
  {
   "cell_type": "markdown",
   "metadata": {},
   "source": [
    "#### Orthogonalitätsbedingung \n",
    "\n",
    "Zur Entkoppelung des Systems wird die Orthogonalität der Eigenvektoren kontrolliert. Siehe @sec-mms_nach_ortho für eine ausführliche Erklärung."
   ]
  },
  {
   "cell_type": "code",
   "execution_count": 9,
   "metadata": {},
   "outputs": [
    {
     "data": {
      "text/latex": [
       "\\begin{equation}\\phi_{1}^{T} M \\phi_{1} = \\left[\\begin{matrix}\\frac{3.0 \\cdot 10^{4} \\text{N} \\text{s}^{2}}{\\text{m}}\\end{matrix}\\right]\\end{equation}"
      ],
      "text/plain": [
       "           ⎡                    2⎤\n",
       "  T        ⎢3.0e+4⋅newton⋅second ⎥\n",
       "φ₁ ⋅M⋅φ₁ = ⎢─────────────────────⎥\n",
       "           ⎣        meter        ⎦"
      ]
     },
     "metadata": {},
     "output_type": "display_data"
    },
    {
     "data": {
      "text/latex": [
       "\\begin{equation}\\phi_{2}^{T} M \\phi_{2} = \\left[\\begin{matrix}\\frac{6.0 \\cdot 10^{4} \\text{N} \\text{s}^{2}}{\\text{m}}\\end{matrix}\\right]\\end{equation}"
      ],
      "text/plain": [
       "           ⎡                    2⎤\n",
       "  T        ⎢6.0e+4⋅newton⋅second ⎥\n",
       "φ₂ ⋅M⋅φ₂ = ⎢─────────────────────⎥\n",
       "           ⎣        meter        ⎦"
      ]
     },
     "metadata": {},
     "output_type": "display_data"
    },
    {
     "data": {
      "text/latex": [
       "\\begin{equation}\\phi_{2}^{T} M \\phi_{1} = \\left[\\begin{matrix}0\\end{matrix}\\right]\\end{equation}"
      ],
      "text/plain": [
       "  T           \n",
       "φ₂ ⋅M⋅φ₁ = [0]"
      ]
     },
     "metadata": {},
     "output_type": "display_data"
    },
    {
     "data": {
      "text/latex": [
       "\\begin{equation}\\phi_{1}^{T} M \\phi_{2} = \\left[\\begin{matrix}0\\end{matrix}\\right]\\end{equation}"
      ],
      "text/plain": [
       "  T           \n",
       "φ₁ ⋅M⋅φ₂ = [0]"
      ]
     },
     "metadata": {},
     "output_type": "display_data"
    }
   ],
   "source": [
    "render.eq_display(sp.MatrixSymbol('phi_1',2,1).T*sp.MatrixSymbol('M', 2,2)*sp.MatrixSymbol('phi_1',2,1),(phi_1.T*M*phi_1).subs(params).evalf(3),\n",
    "                  \n",
    "                  sp.MatrixSymbol('phi_2',2,1).T*sp.MatrixSymbol('M', 2,2)*sp.MatrixSymbol('phi_2',2,1),(phi_2.T*M*phi_2).subs(params).evalf(3),\n",
    "\n",
    "                  sp.MatrixSymbol('phi_2',2,1).T*sp.MatrixSymbol('M', 2,2)*sp.MatrixSymbol('phi_1',2,1),(phi_2.T*M*phi_1).subs(params).evalf(3),\n",
    "\n",
    "                  sp.MatrixSymbol('phi_1',2,1).T*sp.MatrixSymbol('M', 2,2)*sp.MatrixSymbol('phi_2',2,1),(phi_1.T*M*phi_2).subs(params).evalf(3))"
   ]
  },
  {
   "cell_type": "markdown",
   "metadata": {},
   "source": [
    "Für die Steifigkeitsmatrix:"
   ]
  },
  {
   "cell_type": "code",
   "execution_count": 10,
   "metadata": {},
   "outputs": [
    {
     "data": {
      "text/latex": [
       "\\begin{equation}\\phi_{1}^{T} K \\phi_{1} = \\left[\\begin{matrix}\\frac{3.3 \\cdot 10^{7} \\text{N}}{\\text{m}}\\end{matrix}\\right]\\end{equation}"
      ],
      "text/plain": [
       "  T        ⎡3.3e+7⋅newton⎤\n",
       "φ₁ ⋅K⋅φ₁ = ⎢─────────────⎥\n",
       "           ⎣    meter    ⎦"
      ]
     },
     "metadata": {},
     "output_type": "display_data"
    },
    {
     "data": {
      "text/latex": [
       "\\begin{equation}\\phi_{2}^{T} K \\phi_{2} = \\left[\\begin{matrix}\\frac{2.64 \\cdot 10^{8} \\text{N}}{\\text{m}}\\end{matrix}\\right]\\end{equation}"
      ],
      "text/plain": [
       "  T        ⎡2.64e+8⋅newton⎤\n",
       "φ₂ ⋅K⋅φ₂ = ⎢──────────────⎥\n",
       "           ⎣    meter     ⎦"
      ]
     },
     "metadata": {},
     "output_type": "display_data"
    },
    {
     "data": {
      "text/latex": [
       "\\begin{equation}\\phi_{2}^{T} K \\phi_{1} = \\left[\\begin{matrix}0\\end{matrix}\\right]\\end{equation}"
      ],
      "text/plain": [
       "  T           \n",
       "φ₂ ⋅K⋅φ₁ = [0]"
      ]
     },
     "metadata": {},
     "output_type": "display_data"
    },
    {
     "data": {
      "text/latex": [
       "\\begin{equation}\\phi_{1}^{T} K \\phi_{2} = \\left[\\begin{matrix}0\\end{matrix}\\right]\\end{equation}"
      ],
      "text/plain": [
       "  T           \n",
       "φ₁ ⋅K⋅φ₂ = [0]"
      ]
     },
     "metadata": {},
     "output_type": "display_data"
    }
   ],
   "source": [
    "render.eq_display(sp.MatrixSymbol('phi_1',2,1).T*sp.MatrixSymbol('K', 2,2)*sp.MatrixSymbol('phi_1',2,1),sp.simplify((phi_1.T*K*phi_1).subs(params)).evalf(3),\n",
    "                  \n",
    "                  sp.MatrixSymbol('phi_2',2,1).T*sp.MatrixSymbol('K', 2,2)*sp.MatrixSymbol('phi_2',2,1),sp.simplify((phi_2.T*K*phi_2).subs(params)).evalf(3),\n",
    "\n",
    "                  sp.MatrixSymbol('phi_2',2,1).T*sp.MatrixSymbol('K', 2,2)*sp.MatrixSymbol('phi_1',2,1),sp.simplify((phi_2.T*K*phi_1).subs(params)).evalf(4),\n",
    "                  \n",
    "                  sp.MatrixSymbol('phi_1',2,1).T*sp.MatrixSymbol('K', 2,2)*sp.MatrixSymbol('phi_2',2,1),sp.simplify((phi_1.T*K*phi_2).subs(params)).evalf(4))"
   ]
  },
  {
   "cell_type": "markdown",
   "metadata": {},
   "source": [
    "### Eigenformen\n",
    "\n",
    "![Die beiden Eigenformen skizziert](bilder/aufgabe_mms_steif_eigenvektoren.svg){#fig-mms_steif_eigenformen}"
   ]
  }
 ],
 "metadata": {
  "kernelspec": {
   "display_name": "Python 3 (ipykernel)",
   "language": "python",
   "name": "python3"
  },
  "language_info": {
   "codemirror_mode": {
    "name": "ipython",
    "version": 3
   },
   "file_extension": ".py",
   "mimetype": "text/x-python",
   "name": "python",
   "nbconvert_exporter": "python",
   "pygments_lexer": "ipython3",
   "version": "3.10.12"
  }
 },
 "nbformat": 4,
 "nbformat_minor": 4
}
