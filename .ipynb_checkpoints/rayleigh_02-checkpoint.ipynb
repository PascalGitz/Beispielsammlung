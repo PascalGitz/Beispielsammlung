{
 "cells": [
  {
   "cell_type": "code",
   "execution_count": 1,
   "metadata": {},
   "outputs": [],
   "source": [
    "%run style_and_packages.ipynb"
   ]
  },
  {
   "cell_type": "markdown",
   "metadata": {},
   "source": [
    "# Beispiel: Kargarm mit 1 Punktmasse\n",
    "\n",
    "## Aufgabenstellung\n",
    "\n",
    "Das in @fig-kragarm_1_punkte dargestellte System stellt einen Kragarm mit verteilter Masse und einer Punktmasse dar. Eine mögliche Formfunktion ist rechts daneben gezeigt.\n",
    "\n",
    "![Kragarm mit verteilter Masse und einer Punktmasse](bilder/aufgabe_rayleigh_1_masse.svg){#fig-kragarm_1_punkte}\n",
    "\n",
    "Gesucht:\n",
    "\n",
    "- Grundfrequenz (1. Eigenfrequenz $\\omega_n$) des Systems in @fig-kragarm_1_punkte, berechnet mit dem Rayleigh-Quotienten.\n",
    "\n",
    "Gegeben:\n",
    "\n",
    "- Ausgewertet für den Spezialfall: $m_{const} = 0 \\text{ und } m = m$\n",
    "- Formfunktion:\n",
    "$$ \\Psi(x) = 1 - \\cos(\\frac{\\pi x}{2L})$$"
   ]
  },
  {
   "cell_type": "markdown",
   "metadata": {},
   "source": [
    "{{< pagebreak >}}\n",
    "## Musterlösung\n",
    "\n",
    "Das Vorgehen entspricht dem Vorgehen in @sec-ml_2punktmassen."
   ]
  },
  {
   "cell_type": "markdown",
   "metadata": {},
   "source": [
    "### Grundfrequenz\n"
   ]
  },
  {
   "cell_type": "code",
   "execution_count": 2,
   "metadata": {},
   "outputs": [],
   "source": [
    "from sympy.abc import *\n",
    "\n",
    "L = sp.symbols('L', positive=True)\n",
    "m_const = sp.symbols('m_const')"
   ]
  },
  {
   "cell_type": "markdown",
   "metadata": {},
   "source": [
    "#### Berechnung der Masse\n",
    "\n",
    "Die Masse in @eq-rayleigh_2pm_grundfreq kann mittels der Lösung des Integrals in @eq-rayleigh_2pm_bewegungsgleichung_allg bestimmt werden. Dabei ist die Punktmasse mittels der entsprechenden Deformation an der Stelle $L$ zu berücksichtigen, sowie die verteilte Masse über die gesamte Länge.\n",
    "\n"
   ]
  },
  {
   "cell_type": "code",
   "execution_count": 3,
   "metadata": {},
   "outputs": [
    {
     "data": {
      "text/latex": [
       "\\begin{equation}m^{\\star} = \\Psi(x=L)^{2} m + \\int\\limits_{0}^{L} \\Psi^{2} m_{const}\\, dx\\end{equation}"
      ],
      "text/plain": [
       "                          L              \n",
       "                          ⌠              \n",
       "                    2     ⎮  2           \n",
       "m__\\star = \\Psi(x=L) ⋅m + ⎮ Ψ ⋅m_const dx\n",
       "                          ⌡              \n",
       "                          0              "
      ]
     },
     "metadata": {},
     "output_type": "display_data"
    },
    {
     "data": {
      "text/latex": [
       "\\begin{equation}\\Psi(x)^{2} = \\left(1 - \\cos{\\left(\\frac{\\pi x}{2 L} \\right)}\\right)^{2}\\end{equation}"
      ],
      "text/plain": [
       "                         2\n",
       "           ⎛       ⎛π⋅x⎞⎞ \n",
       "\\Psi(x)² = ⎜1 - cos⎜───⎟⎟ \n",
       "           ⎝       ⎝2⋅L⎠⎠ "
      ]
     },
     "metadata": {},
     "output_type": "display_data"
    },
    {
     "data": {
      "text/latex": [
       "\\begin{equation}m^{\\star} = m + m_{const} \\left(- \\frac{4 L}{\\pi} + \\frac{3 L}{2}\\right)\\end{equation}"
      ],
      "text/plain": [
       "                       ⎛  4⋅L   3⋅L⎞\n",
       "m__\\star = m + m_const⋅⎜- ─── + ───⎟\n",
       "                       ⎝   π     2 ⎠"
      ]
     },
     "metadata": {},
     "output_type": "display_data"
    }
   ],
   "source": [
    "Psi_x = 1 - sp.cos(sp.pi*x/(2*L))\n",
    "m_star = sp.integrate(m_const*Psi_x**2, (x,0,L)) + Psi_x.subs(x,L)**2*m\n",
    "\n",
    "render.eq_display(sp.Symbol('m^\\star'), \"Integral(m_const*Psi**2, (x,0,L)) + Symbol('\\Psi(x=L)')**2*m\",\n",
    "                  sp.Symbol('\\Psi(x)^2'), Psi_x**2,\n",
    "                  sp.Symbol('m^\\star'), m_star)"
   ]
  },
  {
   "cell_type": "markdown",
   "metadata": {},
   "source": [
    "#### Berechnung der Steifigkeit \n",
    "\n",
    "Die Steifigkeit in @eq-rayleigh_2pm_grundfreq kann mittels der Lösung des Integrals in @eq-rayleigh_2pm_bewegungsgleichung_allg bestimmt werden. \n",
    "Zur Ermittlung der Steifigkeit $k^\\star$ muss zuerst der Ansatz zweimal nach $x$ abgeleitet werden."
   ]
  },
  {
   "cell_type": "code",
   "execution_count": 4,
   "metadata": {},
   "outputs": [
    {
     "data": {
      "text/latex": [
       "\\begin{equation}\\Psi{\\left(x \\right)} = 1 - \\cos{\\left(\\frac{\\pi x}{2 L} \\right)}\\end{equation}"
      ],
      "text/plain": [
       "              ⎛π⋅x⎞\n",
       "Ψ(x) = 1 - cos⎜───⎟\n",
       "              ⎝2⋅L⎠"
      ]
     },
     "metadata": {},
     "output_type": "display_data"
    },
    {
     "data": {
      "text/latex": [
       "\\begin{equation}\\frac{d}{d x} \\Psi{\\left(x \\right)} = \\frac{\\pi \\sin{\\left(\\frac{\\pi x}{2 L} \\right)}}{2 L}\\end{equation}"
      ],
      "text/plain": [
       "                ⎛π⋅x⎞\n",
       "           π⋅sin⎜───⎟\n",
       "d               ⎝2⋅L⎠\n",
       "──(Ψ(x)) = ──────────\n",
       "dx            2⋅L    "
      ]
     },
     "metadata": {},
     "output_type": "display_data"
    },
    {
     "data": {
      "text/latex": [
       "\\begin{equation}\\frac{d^{2}}{d x^{2}} \\Psi{\\left(x \\right)} = \\frac{\\pi^{2} \\cos{\\left(\\frac{\\pi x}{2 L} \\right)}}{4 L^{2}}\\end{equation}"
      ],
      "text/plain": [
       "             2    ⎛π⋅x⎞\n",
       "  2         π ⋅cos⎜───⎟\n",
       " d                ⎝2⋅L⎠\n",
       "───(Ψ(x)) = ───────────\n",
       "  2                2   \n",
       "dx              4⋅L    "
      ]
     },
     "metadata": {},
     "output_type": "display_data"
    }
   ],
   "source": [
    "Psi_x_diff_1 = sp.diff(Psi_x, x)\n",
    "Psi_x_diff_2 = sp.diff(Psi_x, x,x)\n",
    "\n",
    "\n",
    "render.eq_display('Psi(x)', Psi_x,\n",
    "                  'Derivative(Psi(x),x)', Psi_x_diff_1,\n",
    "                  'Derivative(Psi(x),x,x)', Psi_x_diff_2,)"
   ]
  },
  {
   "cell_type": "markdown",
   "metadata": {},
   "source": [
    "Durch das Einsetzen der zweiten Ableitung in den Anteil für $k^\\star$ aus @eq-rayleigh_2pm_bewegungsgleichung_allg resultiert die Steifigkeit zu:\n",
    "\n",
    "$$\n",
    "k^\\star = (\\frac{\\pi}{2L})^4 \\int_0^L(EI(\\cos(\\frac{\\pi x}{2L})^2)) dx\n",
    "$${#eq-rayleigh_1pm_steifigkeit}\n",
    "\n",
    "Durch die Lösung des Integrals folgt:"
   ]
  },
  {
   "cell_type": "code",
   "execution_count": 5,
   "metadata": {},
   "outputs": [
    {
     "data": {
      "text/latex": [
       "\\begin{equation}k^{\\star} = \\frac{\\pi^{4} E I}{32 L^{3}}\\end{equation}"
      ],
      "text/plain": [
       "            4    \n",
       "           π ⋅E⋅I\n",
       "k__\\star = ──────\n",
       "               3 \n",
       "           32⋅L  "
      ]
     },
     "metadata": {},
     "output_type": "display_data"
    }
   ],
   "source": [
    "k_star = sp.integrate(E*I*Psi_x_diff_2**2,(x,0,L))\n",
    "\n",
    "render.eq_display(sp.Symbol('k^\\star'), k_star)"
   ]
  },
  {
   "cell_type": "markdown",
   "metadata": {},
   "source": [
    "#### Berechnung der Grundfrequenz\n",
    "\n",
    "Durch das Einsetzen der berechneten Werte resultiert die Eigenkreisfrequenz in @eq-rayleigh_2pm_grundfreq zu:"
   ]
  },
  {
   "cell_type": "code",
   "execution_count": 6,
   "metadata": {},
   "outputs": [
    {
     "data": {
      "text/latex": [
       "\\begin{equation}\\omega_{1} = \\sqrt{\\frac{\\pi^{4} E I}{32 L^{3} \\left(m + m_{const} \\left(- \\frac{4 L}{\\pi} + \\frac{3 L}{2}\\right)\\right)}}\\end{equation}"
      ],
      "text/plain": [
       "            ___________________________________\n",
       "           ╱                4                  \n",
       "          ╱                π ⋅E⋅I              \n",
       "ω₁ =     ╱   ───────────────────────────────── \n",
       "        ╱        3 ⎛            ⎛  4⋅L   3⋅L⎞⎞ \n",
       "       ╱     32⋅L ⋅⎜m + m_const⋅⎜- ─── + ───⎟⎟ \n",
       "     ╲╱            ⎝            ⎝   π     2 ⎠⎠ "
      ]
     },
     "metadata": {},
     "output_type": "display_data"
    }
   ],
   "source": [
    "omega_1 = sp.sqrt(k_star / m_star, evaluate=False)\n",
    "\n",
    "render.eq_display('omega_1', omega_1)"
   ]
  },
  {
   "cell_type": "markdown",
   "metadata": {},
   "source": [
    "#### Auswertung des Spezialfalls\n",
    "\n",
    "Mit Hilfe der Randbedingungen für den Spezialfall aus der Aufgabenstellung resultiert die Grundfrequenz zu:"
   ]
  },
  {
   "cell_type": "code",
   "execution_count": 7,
   "metadata": {},
   "outputs": [
    {
     "data": {
      "text/latex": [
       "\\begin{equation}\\omega_{1} = \\frac{\\sqrt{2} \\pi^{2} \\sqrt{\\frac{E I}{m}}}{8 L^{\\frac{3}{2}}}\\end{equation}"
      ],
      "text/plain": [
       "               _____\n",
       "         2    ╱ E⋅I \n",
       "     √2⋅π ⋅  ╱  ─── \n",
       "           ╲╱    m  \n",
       "ω₁ = ───────────────\n",
       "             3/2    \n",
       "          8⋅L       "
      ]
     },
     "metadata": {},
     "output_type": "display_data"
    },
    {
     "data": {
      "text/latex": [
       "\\begin{equation}\\omega_{1} = \\frac{1.74 \\sqrt{\\frac{E I}{m}}}{L^{\\frac{3}{2}}}\\end{equation}"
      ],
      "text/plain": [
       "              _____\n",
       "             ╱ E⋅I \n",
       "     1.74⋅  ╱  ─── \n",
       "          ╲╱    m  \n",
       "ω₁ = ──────────────\n",
       "           3/2     \n",
       "          L        "
      ]
     },
     "metadata": {},
     "output_type": "display_data"
    }
   ],
   "source": [
    "render.eq_display('omega_1', omega_1.subs([[m_const,0]],evaluate=False),\n",
    "                  'omega_1', omega_1.subs(([[m_const,0]])).evalf(3).subs((E*I/m)**0.5, sp.sqrt((E*I/m))).subs(L**(-1.5), sp.sqrt(L**-3,evaluate=False)))"
   ]
  }
 ],
 "metadata": {
  "kernelspec": {
   "display_name": "calcs",
   "language": "python",
   "name": "python3"
  },
  "language_info": {
   "codemirror_mode": {
    "name": "ipython",
    "version": 3
   },
   "file_extension": ".py",
   "mimetype": "text/x-python",
   "name": "python",
   "nbconvert_exporter": "python",
   "pygments_lexer": "ipython3",
   "version": "3.10.12"
  }
 },
 "nbformat": 4,
 "nbformat_minor": 2
}
