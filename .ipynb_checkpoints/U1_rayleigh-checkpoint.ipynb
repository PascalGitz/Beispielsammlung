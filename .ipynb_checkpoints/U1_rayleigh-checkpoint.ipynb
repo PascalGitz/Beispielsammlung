{
 "cells": [
  {
   "cell_type": "raw",
   "metadata": {},
   "source": [
    "---\n",
    "title: \"Rayleigh-Quotienten\"\n",
    "---"
   ]
  },
  {
   "cell_type": "markdown",
   "metadata": {},
   "source": [
    "## Beispiel: Kragarm mit 2 Punktmassen\n",
    "\n",
    "Das in @fig-kragarm_2_punkte dargestellte System stellt einen Kragarm mit verteilter Masse und 2 Punktmassen dar. Eine mögliche Formfunktion ist rechts daneben gezeigt.\n",
    "\n",
    "![Kragarm mit verteilter Masse und 2 Punktmassen](bilder\\kragarm_verteilte_masse1.png){#fig-kragarm_2_punkte}\n",
    "\n",
    "Gesucht:\n",
    "\n",
    "- Grundfrequenz (1. Eigenfrequenz $\\omega_n$) des Systems in @fig-kragarm_2_punkte, berechnet mit dem Rayleigh-Quotienten.\n",
    "\n",
    "Gegeben:\n",
    "\n",
    "- Randbedingungen für den Spezialfall:\n",
    "$$m = 0 \\text{ und } M_1 = M_2 = M$$\n",
    "- Formfunktion:\n",
    "$$ \\psi(x) = 1 - \\cos(\\frac{\\pi x}{2L})$$\n"
   ]
  },
  {
   "cell_type": "markdown",
   "metadata": {},
   "source": [
    "{{< pagebreak >}}\n",
    "### Musterlösung{#sec-ml_2punktmassen}"
   ]
  },
  {
   "cell_type": "markdown",
   "metadata": {},
   "source": [
    "#### Grundfrequenz\n",
    "\n",
    "Mithilfe der in der Vorlesung hergeleiteten Bewegungsgleichung mit den Rayleigh-Quotienten kann anhand der Formfunktion $\\psi$ die erste Eigenkreisfrequenz ermittelt werden.\n",
    "\n",
    "$$\n",
    "u'' \\int_0^L m\\psi^2 dx + u \\int_0^L (EI(\\psi'')^2)dx = f(x,t)\n",
    "$${#eq-rayleigh_allg}\n",
    "\n",
    "Durch Substitution resultiert die bekannte Bewegungsgleichung:\n",
    "\n",
    "$$\n",
    "m^\\star u'' + k^\\star u  = f(x,t) \n",
    "\\text{ mit } k^\\star = \\int_0^L (EI(\\psi'')^2)dx \n",
    "\\text{ und } m^\\star = \\int_0^L m\\psi^2dx\n",
    "$${#eq-bewegungsgleichung_allg}\n",
    "\n"
   ]
  },
  {
   "cell_type": "code",
   "execution_count": 1,
   "metadata": {},
   "outputs": [],
   "source": [
    "import sympy as sp \n",
    "from sympycalcs import render, convert\n",
    "import sympy.physics.units as unit\n",
    "sp.init_printing(use_latex='mathjax', latex_mode='equation*')\n",
    "import matplotlib.pyplot as plt"
   ]
  },
  {
   "cell_type": "code",
   "execution_count": 2,
   "metadata": {},
   "outputs": [],
   "source": [
    "from sympy.abc import *\n",
    "\n",
    "L = sp.symbols('L', positive=True)"
   ]
  },
  {
   "cell_type": "markdown",
   "metadata": {},
   "source": [
    "##### Berechnung der Masse\n",
    "Anschliessend können die Integrale für das gegebenen System berechnet werden. Dabei sind die Punktmassen mittels der entsprechenden Deformation an den Stellen $L$ und $\\frac{L}{2}$ zu berücksichtigen.\n"
   ]
  },
  {
   "cell_type": "code",
   "execution_count": 3,
   "metadata": {},
   "outputs": [],
   "source": [
    "M_1, M_2 = sp.symbols('M_1, M_2')"
   ]
  },
  {
   "cell_type": "code",
   "execution_count": 4,
   "metadata": {},
   "outputs": [
    {
     "data": {
      "text/latex": [
       "$\\displaystyle m^{\\star} = M_{1} \\psi(x=L/2)^{2} + M_{2} \\psi(x=L)^{2} + \\int\\limits_{0}^{L} m \\psi^{2}\\, dx$"
      ],
      "text/plain": [
       "Eq(m^\\star, M_1*\\psi(x=L/2)**2 + M_2*\\psi(x=L)**2 + Integral(m*psi**2, (x, 0, L)))"
      ]
     },
     "metadata": {},
     "output_type": "display_data"
    },
    {
     "data": {
      "text/latex": [
       "$\\displaystyle \\psi(x)^{2} = \\left(1 - \\cos{\\left(\\frac{\\pi x}{2 L} \\right)}\\right)^{2}$"
      ],
      "text/plain": [
       "Eq(\\psi(x)^2, (1 - cos(pi*x/(2*L)))**2)"
      ]
     },
     "metadata": {},
     "output_type": "display_data"
    },
    {
     "data": {
      "text/latex": [
       "$\\displaystyle m^{\\star} = M_{1} \\left(1 - \\frac{\\sqrt{2}}{2}\\right)^{2} + M_{2} + m \\left(- \\frac{4 L}{\\pi} + \\frac{3 L}{2}\\right)$"
      ],
      "text/plain": [
       "Eq(m^\\star, M_1*(1 - sqrt(2)/2)**2 + M_2 + m*(-4*L/pi + 3*L/2))"
      ]
     },
     "metadata": {},
     "output_type": "display_data"
    }
   ],
   "source": [
    "psi_x = 1 - sp.cos(sp.pi*x/(2*L))\n",
    "m_star = sp.integrate(m*psi_x**2, (x,0,L)) + psi_x.subs(x,L/2)**2*M_1 + psi_x.subs(x,L)**2*M_2\n",
    "\n",
    "render.eq_display(sp.Symbol('m^\\star'), \"Integral(m*psi**2, (x,0,L))+Symbol('\\psi(x=L/2)')**2*M_1 + Symbol('\\psi(x=L)')**2*M_2\",\n",
    "                  sp.Symbol('\\psi(x)^2'), psi_x**2,\n",
    "                  sp.Symbol('m^\\star'), m_star)"
   ]
  },
  {
   "cell_type": "markdown",
   "metadata": {},
   "source": [
    "##### Berechnung der Steifigkeit \n",
    "Zur Ermittlung der Steifigkeit $k^\\star$ muss zuerst der Ansatz zweimal nach $x$ abgeleitet werden."
   ]
  },
  {
   "cell_type": "code",
   "execution_count": 5,
   "metadata": {},
   "outputs": [
    {
     "data": {
      "text/latex": [
       "$\\displaystyle \\psi{\\left(x \\right)} = 1 - \\cos{\\left(\\frac{\\pi x}{2 L} \\right)}$"
      ],
      "text/plain": [
       "Eq(psi(x), 1 - cos(pi*x/(2*L)))"
      ]
     },
     "metadata": {},
     "output_type": "display_data"
    },
    {
     "data": {
      "text/latex": [
       "$\\displaystyle \\frac{d}{d x} \\psi{\\left(x \\right)} = \\frac{\\pi \\sin{\\left(\\frac{\\pi x}{2 L} \\right)}}{2 L}$"
      ],
      "text/plain": [
       "Eq(Derivative(psi(x), x), pi*sin(pi*x/(2*L))/(2*L))"
      ]
     },
     "metadata": {},
     "output_type": "display_data"
    },
    {
     "data": {
      "text/latex": [
       "$\\displaystyle \\frac{d^{2}}{d x^{2}} \\psi{\\left(x \\right)} = \\frac{\\pi^{2} \\cos{\\left(\\frac{\\pi x}{2 L} \\right)}}{4 L^{2}}$"
      ],
      "text/plain": [
       "Eq(Derivative(psi(x), (x, 2)), pi**2*cos(pi*x/(2*L))/(4*L**2))"
      ]
     },
     "metadata": {},
     "output_type": "display_data"
    }
   ],
   "source": [
    "psi_x_diff_1 = sp.diff(psi_x, x)\n",
    "psi_x_diff_2 = sp.diff(psi_x, x,x)\n",
    "\n",
    "\n",
    "render.eq_display('psi(x)', psi_x,\n",
    "                  'Derivative(psi(x),x)', psi_x_diff_1,\n",
    "                  'Derivative(psi(x),x,x)', psi_x_diff_2,)"
   ]
  },
  {
   "cell_type": "markdown",
   "metadata": {},
   "source": [
    "Nun kann der Rayleigh-Quotient für die Steifigkeit $k^\\star$, wie bei @eq-bewegungsgleichung_allg dargestellt, ermittelt werden:\n",
    "\n",
    "Beachte dabei, dass die Anteile unabhängig von $x$ vor das Integral gebracht werden können.\n",
    "\n",
    "$$k^\\star = (\\frac{\\pi}{2L})^4 \\int_0^L(EI(\\cos(\\frac{\\pi x}{2L})^2)) dx$$\n",
    "\n",
    "Durch die Lösung des Integrals folgt:"
   ]
  },
  {
   "cell_type": "code",
   "execution_count": 6,
   "metadata": {},
   "outputs": [
    {
     "data": {
      "text/latex": [
       "$\\displaystyle k^{\\star} = \\frac{\\pi^{4} E I}{32 L^{3}}$"
      ],
      "text/plain": [
       "Eq(k^\\star, pi**4*E*I/(32*L**3))"
      ]
     },
     "metadata": {},
     "output_type": "display_data"
    }
   ],
   "source": [
    "k_star = sp.integrate(E*I*psi_x_diff_2**2,(x,0,L))\n",
    "\n",
    "render.eq_display(sp.Symbol('k^\\star'), k_star)"
   ]
  },
  {
   "cell_type": "markdown",
   "metadata": {},
   "source": [
    "##### Berechnung der Grundfrequenz\n",
    "\n",
    "Die Grundfrequenz resultiert aus der Wurzel des Verhältnisses zwischen Steifigkeit und Masse.\n",
    "\n",
    "$$\n",
    "\\omega_1 = \\sqrt{\\frac{k^\\star}{m^\\star}}\n",
    "$${#eq-grundfreq_rayleigh}\n",
    "\n",
    "Durch das Einsetzen der berechneten Werte resultiert die Eigenkreisfrequenz zu:"
   ]
  },
  {
   "cell_type": "code",
   "execution_count": 7,
   "metadata": {},
   "outputs": [
    {
     "data": {
      "text/latex": [
       "$\\displaystyle \\omega_{1} = \\sqrt{\\frac{\\pi^{4} E I}{32 L^{3} \\left(M_{1} \\left(1 - \\frac{\\sqrt{2}}{2}\\right)^{2} + M_{2} + m \\left(- \\frac{4 L}{\\pi} + \\frac{3 L}{2}\\right)\\right)}}$"
      ],
      "text/plain": [
       "Eq(omega_1, sqrt(pi**4*E*I/(32*L**3*(M_1*(1 - sqrt(2)/2)**2 + M_2 + m*(-4*L/pi + 3*L/2)))))"
      ]
     },
     "metadata": {},
     "output_type": "display_data"
    }
   ],
   "source": [
    "omega_1 = sp.sqrt(k_star / m_star, evaluate=False)\n",
    "\n",
    "render.eq_display('omega_1', omega_1)"
   ]
  },
  {
   "cell_type": "markdown",
   "metadata": {},
   "source": [
    "##### Auswertung des Spezialfalls\n",
    "\n",
    "Mit Hilfe der Randbedingungen für den Spezialfall aus der Aufgabenstellung resultiert die Grundfrequenz zu:"
   ]
  },
  {
   "cell_type": "code",
   "execution_count": 8,
   "metadata": {},
   "outputs": [
    {
     "data": {
      "text/latex": [
       "$\\displaystyle \\omega_{1} = \\frac{\\sqrt{2} \\pi^{2} \\sqrt{\\frac{E I}{M \\left(1 - \\frac{\\sqrt{2}}{2}\\right)^{2} + M}}}{8 L^{\\frac{3}{2}}}$"
      ],
      "text/plain": [
       "Eq(omega_1, sqrt(2)*pi**2*sqrt(E*I/(M*(1 - sqrt(2)/2)**2 + M))/(8*L**(3/2)))"
      ]
     },
     "metadata": {},
     "output_type": "display_data"
    },
    {
     "data": {
      "text/latex": [
       "$\\displaystyle \\omega_{1} = \\frac{1.67 \\sqrt{\\frac{E I}{M}}}{L^{\\frac{3}{2}}}$"
      ],
      "text/plain": [
       "Eq(omega_1, 1.67*sqrt(E*I/M)/L**(3/2))"
      ]
     },
     "metadata": {},
     "output_type": "display_data"
    }
   ],
   "source": [
    "render.eq_display('omega_1', omega_1.subs([[M_1, M],[M_2,M],[m,0]],evaluate=False),\n",
    "                  'omega_1', omega_1.subs(([[M_1, M],[M_2,M],[m,0]])).evalf(3).subs((E*I/M)**0.5, sp.sqrt((E*I/M))).subs(L**(-1.5), sp.sqrt(L**-3,evaluate=False)))"
   ]
  },
  {
   "cell_type": "markdown",
   "metadata": {},
   "source": [
    "Die genaue erste Eigenfrequenz eines Zweimassenschwingers mit konstanter Steifigkeit und gleichen Massen ist:\n",
    "\n",
    "$$\n",
    "\\omega_1 \\simeq \\sqrt{\\frac{3.007\\frac{EI}{L^3}}{1.102 M}} = 1.652 \\sqrt{\\frac{EI}{ML^3}} = \\frac{1.652 \\sqrt{\\frac{E I}{M}}}{L^{\\frac{3}{2}}}\n",
    "$$\n",
    "\n",
    "Die Berechnung mit Hilfe der Rayleigh-Quotienten stellt also eine (sehr) gute Abschätzung der ersten Eigenfrequenz dar."
   ]
  },
  {
   "cell_type": "markdown",
   "metadata": {},
   "source": [
    "{{< pagebreak >}}\n",
    "## Beispiel: Kargarm mit 1 Punktmasse\n",
    "\n",
    "Das in @fig-kragarm_1_punkte dargestellte System stellt einen Kragarm mit verteilter Masse und einer Punktmasse dar. Eine mögliche Formfunktion ist rechts daneben gezeigt.\n",
    "\n",
    "![Kragarm mit verteilter Masse und 1 Punktmasse](bilder/kragarm_verteilte_masse.png){#fig-kragarm_1_punkte}\n",
    "\n",
    "Gesucht:\n",
    "\n",
    "- Grundfrequenz (1. Eigenfrequenz $\\omega_n$) des Systems in @fig-kragarm_1_punkte, berechnet mit dem Rayleigh-Quotienten.\n",
    "\n",
    "Gegeben:\n",
    "\n",
    "- Ausgewertet für den Spezialfall:\n",
    "$$m = 0 \\text{ und } M = M$$\n",
    "- Formfunktion:\n",
    "$$ \\psi(x) = 1 - \\cos(\\frac{\\pi x}{2L})$$"
   ]
  },
  {
   "cell_type": "markdown",
   "metadata": {},
   "source": [
    "{{< pagebreak >}}\n",
    "### Musterlösung\n",
    "\n",
    "Das Vorgehen entspricht dem Vorgehen in @sec-ml_2punktmassen."
   ]
  },
  {
   "cell_type": "markdown",
   "metadata": {},
   "source": [
    "#### Grundfrequenz\n",
    "Berechnung der Grundfrequenz mit einer Punktmasse."
   ]
  },
  {
   "cell_type": "code",
   "execution_count": 9,
   "metadata": {},
   "outputs": [],
   "source": [
    "from sympy.abc import *\n",
    "\n",
    "L = sp.symbols('L', positive=True)"
   ]
  },
  {
   "cell_type": "markdown",
   "metadata": {},
   "source": [
    "##### Berechnung der Masse\n",
    "Die Integrale für das gegebenen System können berechnet werden. Dabei ist die Punktmasse mittels der entsprechenden Deformation an der Stelle $L$ zu berücksichtigen.\n"
   ]
  },
  {
   "cell_type": "code",
   "execution_count": 10,
   "metadata": {},
   "outputs": [
    {
     "data": {
      "text/latex": [
       "$\\displaystyle m^{\\star} = M \\psi(x=L)^{2} + \\int\\limits_{0}^{L} m \\psi^{2}\\, dx$"
      ],
      "text/plain": [
       "Eq(m^\\star, M*\\psi(x=L)**2 + Integral(m*psi**2, (x, 0, L)))"
      ]
     },
     "metadata": {},
     "output_type": "display_data"
    },
    {
     "data": {
      "text/latex": [
       "$\\displaystyle \\psi(x)^{2} = \\left(1 - \\cos{\\left(\\frac{\\pi x}{2 L} \\right)}\\right)^{2}$"
      ],
      "text/plain": [
       "Eq(\\psi(x)^2, (1 - cos(pi*x/(2*L)))**2)"
      ]
     },
     "metadata": {},
     "output_type": "display_data"
    },
    {
     "data": {
      "text/latex": [
       "$\\displaystyle m^{\\star} = M + m \\left(- \\frac{4 L}{\\pi} + \\frac{3 L}{2}\\right)$"
      ],
      "text/plain": [
       "Eq(m^\\star, M + m*(-4*L/pi + 3*L/2))"
      ]
     },
     "metadata": {},
     "output_type": "display_data"
    }
   ],
   "source": [
    "psi_x = 1 - sp.cos(sp.pi*x/(2*L))\n",
    "m_star = sp.integrate(m*psi_x**2, (x,0,L)) + psi_x.subs(x,L)**2*M\n",
    "\n",
    "render.eq_display(sp.Symbol('m^\\star'), \"Integral(m*psi**2, (x,0,L)) + Symbol('\\psi(x=L)')**2*M\",\n",
    "                  sp.Symbol('\\psi(x)^2'), psi_x**2,\n",
    "                  sp.Symbol('m^\\star'), m_star)"
   ]
  },
  {
   "cell_type": "markdown",
   "metadata": {},
   "source": [
    "##### Berechnung der Steifigkeit \n",
    "\n",
    "Zur Ermittlung der Steifigkeit $k^\\star$ für den Rayleigh-Quotienten muss zuerst der Ansatz zweimal nach $x$ abgeleitet werden."
   ]
  },
  {
   "cell_type": "code",
   "execution_count": 11,
   "metadata": {},
   "outputs": [
    {
     "data": {
      "text/latex": [
       "$\\displaystyle \\psi{\\left(x \\right)} = 1 - \\cos{\\left(\\frac{\\pi x}{2 L} \\right)}$"
      ],
      "text/plain": [
       "Eq(psi(x), 1 - cos(pi*x/(2*L)))"
      ]
     },
     "metadata": {},
     "output_type": "display_data"
    },
    {
     "data": {
      "text/latex": [
       "$\\displaystyle \\frac{d}{d x} \\psi{\\left(x \\right)} = \\frac{\\pi \\sin{\\left(\\frac{\\pi x}{2 L} \\right)}}{2 L}$"
      ],
      "text/plain": [
       "Eq(Derivative(psi(x), x), pi*sin(pi*x/(2*L))/(2*L))"
      ]
     },
     "metadata": {},
     "output_type": "display_data"
    },
    {
     "data": {
      "text/latex": [
       "$\\displaystyle \\frac{d^{2}}{d x^{2}} \\psi{\\left(x \\right)} = \\frac{\\pi^{2} \\cos{\\left(\\frac{\\pi x}{2 L} \\right)}}{4 L^{2}}$"
      ],
      "text/plain": [
       "Eq(Derivative(psi(x), (x, 2)), pi**2*cos(pi*x/(2*L))/(4*L**2))"
      ]
     },
     "metadata": {},
     "output_type": "display_data"
    }
   ],
   "source": [
    "psi_x_diff_1 = sp.diff(psi_x, x)\n",
    "psi_x_diff_2 = sp.diff(psi_x, x,x)\n",
    "\n",
    "\n",
    "render.eq_display('psi(x)', psi_x,\n",
    "                  'Derivative(psi(x),x)', psi_x_diff_1,\n",
    "                  'Derivative(psi(x),x,x)', psi_x_diff_2,)"
   ]
  },
  {
   "cell_type": "markdown",
   "metadata": {},
   "source": [
    "Nun kann der Rayleigh-Quotient für die Steifigkeit $k^\\star$, wie bei @eq-bewegungsgleichung_allg dargestellt, ermittelt werden:\n",
    "\n",
    "Beachte dabei, dass die Anteile unabhängig von $x$ vor das Integral gebracht werden können.\n",
    "\n",
    "$$k^\\star = (\\frac{\\pi}{2L})^4 \\int_0^L(EI(\\cos(\\frac{\\pi x}{2L})^2)) dx$$\n",
    "\n",
    "Durch die Lösung des Integrals folgt:"
   ]
  },
  {
   "cell_type": "code",
   "execution_count": 12,
   "metadata": {},
   "outputs": [
    {
     "data": {
      "text/latex": [
       "$\\displaystyle k^{\\star} = \\frac{\\pi^{4} E I}{32 L^{3}}$"
      ],
      "text/plain": [
       "Eq(k^\\star, pi**4*E*I/(32*L**3))"
      ]
     },
     "metadata": {},
     "output_type": "display_data"
    }
   ],
   "source": [
    "k_star = sp.integrate(E*I*psi_x_diff_2**2,(x,0,L))\n",
    "\n",
    "render.eq_display(sp.Symbol('k^\\star'), k_star)"
   ]
  },
  {
   "cell_type": "markdown",
   "metadata": {},
   "source": [
    "##### Berechnung der Grundfrequenz\n",
    "\n",
    "Die Grundfrequenz resultiert aus der Wurzel des Verhältnisses zwischen Steifigkeit und Masse.\n",
    "\n",
    "$$\n",
    "\\omega_1 = \\sqrt{\\frac{k^\\star}{m^\\star}}\n",
    "$${#eq-grundfreq_rayleigh}\n",
    "\n",
    "Durch das Einsetzen der berechneten Werte resultiert die Eigenkreisfrequenz zu:"
   ]
  },
  {
   "cell_type": "code",
   "execution_count": 13,
   "metadata": {},
   "outputs": [
    {
     "data": {
      "text/latex": [
       "$\\displaystyle \\omega_{1} = \\sqrt{\\frac{\\pi^{4} E I}{32 L^{3} \\left(M + m \\left(- \\frac{4 L}{\\pi} + \\frac{3 L}{2}\\right)\\right)}}$"
      ],
      "text/plain": [
       "Eq(omega_1, sqrt(pi**4*E*I/(32*L**3*(M + m*(-4*L/pi + 3*L/2)))))"
      ]
     },
     "metadata": {},
     "output_type": "display_data"
    }
   ],
   "source": [
    "omega_1 = sp.sqrt(k_star / m_star, evaluate=False)\n",
    "\n",
    "render.eq_display('omega_1', omega_1)"
   ]
  },
  {
   "cell_type": "markdown",
   "metadata": {},
   "source": [
    "##### Auswertung des Spezialfalls\n",
    "\n",
    "Mit Hilfe der Randbedingungen für den Spezialfall aus der Aufgabenstellung resultiert die Grundfrequenz zu:"
   ]
  },
  {
   "cell_type": "code",
   "execution_count": 14,
   "metadata": {},
   "outputs": [
    {
     "data": {
      "text/latex": [
       "$\\displaystyle \\omega_{1} = \\frac{\\sqrt{2} \\pi^{2} \\sqrt{\\frac{E I}{M}}}{8 L^{\\frac{3}{2}}}$"
      ],
      "text/plain": [
       "Eq(omega_1, sqrt(2)*pi**2*sqrt(E*I/M)/(8*L**(3/2)))"
      ]
     },
     "metadata": {},
     "output_type": "display_data"
    },
    {
     "data": {
      "text/latex": [
       "$\\displaystyle \\omega_{1} = \\frac{1.74 \\sqrt{\\frac{E I}{M}}}{L^{\\frac{3}{2}}}$"
      ],
      "text/plain": [
       "Eq(omega_1, 1.74*sqrt(E*I/M)/L**(3/2))"
      ]
     },
     "metadata": {},
     "output_type": "display_data"
    }
   ],
   "source": [
    "render.eq_display('omega_1', omega_1.subs([[m,0]],evaluate=False),\n",
    "                  'omega_1', omega_1.subs(([[m,0]])).evalf(3).subs((E*I/M)**0.5, sp.sqrt((E*I/M))).subs(L**(-1.5), sp.sqrt(L**-3,evaluate=False)))"
   ]
  },
  {
   "cell_type": "markdown",
   "metadata": {},
   "source": [
    "{{< pagebreak >}}\n",
    "## Beispiel: Einfacher Balken mit konstanter Masse\n",
    "\n",
    "Das System in @fig-system_rl3 zeigt einen einfachen Balken mit einer konstanten Streckenlast belastet. \n",
    "\n",
    "![Statisches System des einfachen Balkens](bilder/RL_1.jpg){#fig-system_rl3}\n",
    "\n",
    "Gesucht:\n",
    "\n",
    "- Eigenkreisfrequenz $\\omega_1$ mit Hilfe der analytischen Formfunktion @eq-analy_formfunktion\n",
    "$$\n",
    "\\Psi(x) = \\sin{\\frac{\\pi x}{l}}\n",
    "$${#eq-analy_formfunktion}\n",
    "- Eigenkreisfrequenz $\\omega_1$ mit Hilfe der Biegelinie\n",
    "\n",
    "Gegeben:\n",
    "\n",
    "- Länge des Balkens $l$\n",
    "- Verteilte Masse ist konstant $m_{const}$\n",
    "- Exakte Lösung der Eigenkreisfrequenz gemäss @eq-exakt\n",
    "\n",
    "$$\n",
    "\\omega_1 = \\pi^2 \\cdot \\sqrt{\\frac{E\\cdot I}{m_{const}\\cdot l^4}}\n",
    "$${#eq-exakt}"
   ]
  },
  {
   "cell_type": "markdown",
   "metadata": {},
   "source": [
    "{{< pagebreak >}}\n",
    "### Musterlösung"
   ]
  },
  {
   "cell_type": "markdown",
   "metadata": {},
   "source": [
    "\n",
    "#### Analytische Formfunktion\n",
    "\n",
    "Als Formfunktion wird eine Sinus-Funktion gewählt. Dabei ist sicherzustellen, dass die Formfunktion normiert ist. Das heisst, der maximale Wert der Funktion ist $1$. Dazu sind die kinematischen Randbedingungen einzuhalten. Entsprechend des Systems in @fig-system_rl3 muss die Verformung bei den Lagern $0$ sein. Die gewählte Formfunktion bedingt keine weitere Anpassung zur Normierung."
   ]
  },
  {
   "cell_type": "code",
   "execution_count": 15,
   "metadata": {},
   "outputs": [
    {
     "data": {
      "text/latex": [
       "$\\displaystyle \\Psi{\\left(x \\right)} = \\sin{\\left(\\frac{\\pi x}{l} \\right)}$"
      ],
      "text/plain": [
       "Eq(Psi(x), sin(pi*x/l))"
      ]
     },
     "metadata": {},
     "output_type": "display_data"
    }
   ],
   "source": [
    "x,l = sp.symbols('x l', positive=True)\n",
    "\n",
    "psi_x = sp.sin(sp.pi*x/l)\n",
    "\n",
    "render.eq_display('Psi(x)',psi_x)"
   ]
  },
  {
   "cell_type": "code",
   "execution_count": 16,
   "metadata": {},
   "outputs": [
    {
     "data": {
      "image/png": "[encoded data removed]",
      "text/plain": [
       "<Figure size 590x300 with 1 Axes>"
      ]
     },
     "metadata": {},
     "output_type": "display_data"
    }
   ],
   "source": [
    "#| output: false\n",
    "sp.plot(psi_x.subs(l,1),(x,0,1),size=(5.9,3),show=False).save('bilder/fig-formfunktion.svg')\n"
   ]
  },
  {
   "cell_type": "markdown",
   "metadata": {},
   "source": [
    "![Analytische Formfunktion](bilder/fig-formfunktion.svg){#fig-formfunktion}"
   ]
  },
  {
   "cell_type": "markdown",
   "metadata": {},
   "source": [
    "##### Rayleigh - Quotient\n",
    "\n",
    "Der Rayleigh-Quotient ist eine Energiebetrachtung. Er setzt die potentielle, maximale Energie $E_{pot,max}$ zur kinetischen, maximalen Energie $E_{kin,max}$ ins Verhältnis. Daraus lässt sich die Kreisfrequenz $\\omega_n$ herauslösen.\n",
    "$$E_{pot,max} = E_{kin,max}$$\n",
    "\n",
    "$$\\omega_1^2 = \\frac{\\int_0^L EI[u''(x)]^2 dx}{\\int_0^L m_{const.}[u(x)]^2 dx}$$\n",
    "\n",
    "Dies lässt sich mit entsprechender Formfunktion schreiben:\n",
    "\n",
    "$$\\omega_1^2 = \\frac{\\int_0^L EI[\\Psi''(x)]^2 dx}{\\int_0^L m_{const.}[\\Psi(x)]^2 dx}$$\n"
   ]
  },
  {
   "cell_type": "code",
   "execution_count": 17,
   "metadata": {},
   "outputs": [
    {
     "data": {
      "text/latex": [
       "$\\displaystyle \\omega_{1} = \\frac{\\pi^{2} \\sqrt{\\frac{E I}{m_{const}}}}{l^{2}}$"
      ],
      "text/plain": [
       "Eq(omega_1, pi**2*sqrt(E*I/m_const)/l**2)"
      ]
     },
     "metadata": {},
     "output_type": "display_data"
    }
   ],
   "source": [
    "E, I, m_const = sp.symbols('E I m_const',real=True)\n",
    "omega_1 = sp.sqrt(sp.integrate(E*I*sp.diff(psi_x,x,2)**2, (x,0,l)) /sp.integrate(m_const*psi_x**2, (x,0,l)) )\n",
    "\n",
    "\n",
    "render.eq_display('omega_1', omega_1.doit())"
   ]
  },
  {
   "cell_type": "markdown",
   "metadata": {},
   "source": [
    "Dies entspricht der exakten Lösung! Da die Formfunktion mit Biegelinie übereinstimmt."
   ]
  },
  {
   "cell_type": "markdown",
   "metadata": {},
   "source": [
    "#### Formfunktion aus Biegelinie"
   ]
  },
  {
   "cell_type": "code",
   "execution_count": 18,
   "metadata": {},
   "outputs": [
    {
     "data": {
      "text/latex": [
       "$\\displaystyle \\begin{cases} \\frac{F l^{2} x \\left(\\frac{3}{4} - \\frac{x^{2}}{l^{2}}\\right)}{12 E I} & \\text{for}\\: x \\leq \\frac{l}{2} \\\\\\frac{F \\left(x \\left(3 l^{2} - 4 x^{2}\\right) - \\left(l - 2 x\\right)^{3}\\right)}{48 E I} & \\text{otherwise} \\end{cases}$"
      ],
      "text/plain": [
       "Piecewise((F*l**2*x*(3/4 - x**2/l**2)/(12*E*I), x <= l/2), (F*(x*(3*l**2 - 4*x**2) - (l - 2*x)**3)/(48*E*I), True))"
      ]
     },
     "execution_count": 18,
     "metadata": {},
     "output_type": "execute_result"
    }
   ],
   "source": [
    "a, b,F = sp.symbols('a b F')\n",
    "\n",
    "b = l/2\n",
    "a = b\n",
    "\n",
    "\n",
    "zeta = x/l\n",
    "beta = b/l\n",
    "alpha = a/l\n",
    "\n",
    "w_x_biegelinie_1 = (F*l**3 / 6 *(beta * zeta*(-zeta**2-beta**2+1)))/(E*I)\n",
    "w_x_biegelinie_2 = sp.simplify((F*l**3 / 6 *(beta * zeta*(-zeta**2-beta**2+1)+(zeta-alpha)**3)))/(E*I)\n",
    "\n",
    "w_x_biegelinie = sp.Piecewise((w_x_biegelinie_1,x<=a), (w_x_biegelinie_2,x>a))\n",
    "w_x_biegelinie\n",
    "\n"
   ]
  },
  {
   "cell_type": "code",
   "execution_count": 19,
   "metadata": {},
   "outputs": [
    {
     "data": {
      "image/png": "[encoded data removed]",
      "text/plain": [
       "<Figure size 590x300 with 1 Axes>"
      ]
     },
     "metadata": {},
     "output_type": "display_data"
    }
   ],
   "source": [
    "#| output: false\n",
    "\n",
    "\n",
    "sp.plot(w_x_biegelinie.subs([(l,1),(F,1),(E,1),(I,1)]), (x,0,1),size=(5.9,3),show=False).save('bilder/fig-formfunktion_biege.svg')"
   ]
  },
  {
   "cell_type": "markdown",
   "metadata": {},
   "source": [
    "![Formfunktion aus Biegelinie abgeleitet](bilder/fig-formfunktion_biege.svg){#fig-formfunktion_biege}"
   ]
  },
  {
   "cell_type": "markdown",
   "metadata": {},
   "source": [
    "##### Normierung\n",
    "Es ist ersichtlich, dass die Formfunktion noch eine Normierung benötigt.\n",
    "Dazu wird der Maximalwert zu $1$ gesetzt. Die Randbedingungen sind bereits erfüllt."
   ]
  },
  {
   "cell_type": "code",
   "execution_count": 20,
   "metadata": {},
   "outputs": [],
   "source": [
    "w_x_biegelinie_norm = w_x_biegelinie * w_x_biegelinie.subs(x,l/2)**-1"
   ]
  },
  {
   "cell_type": "code",
   "execution_count": 21,
   "metadata": {},
   "outputs": [
    {
     "data": {
      "image/png": "[encoded data removed]",
      "text/plain": [
       "<Figure size 590x300 with 1 Axes>"
      ]
     },
     "metadata": {},
     "output_type": "display_data"
    }
   ],
   "source": [
    "#| output: false\n",
    "\n",
    "sp.plot(w_x_biegelinie_norm.subs([(l,1),(F,1),(E,1),(I,1)]), (x,0,1),size=(5.9,3),show=False).save('bilder/fig-formfunktion_biege_norm.svg')\n"
   ]
  },
  {
   "cell_type": "markdown",
   "metadata": {},
   "source": [
    "![Formfunktion aus Biegelinie normiert](bilder/fig-formfunktion_biege_norm.svg){#fig-formfunktion_biege_norm}"
   ]
  },
  {
   "cell_type": "markdown",
   "metadata": {},
   "source": [
    "##### Rayleigh - Quotient\n"
   ]
  },
  {
   "cell_type": "code",
   "execution_count": 22,
   "metadata": {},
   "outputs": [
    {
     "data": {
      "text/latex": [
       "$\\displaystyle \\omega_{1 biege} = \\frac{9.94 \\left(\\frac{E I}{m_{const}}\\right)^{0.5}}{l^{2}}$"
      ],
      "text/plain": [
       "Eq(omega_1_biege, 9.94*(E*I/m_const)**0.5/l**2)"
      ]
     },
     "metadata": {},
     "output_type": "display_data"
    }
   ],
   "source": [
    "omega_1_biege = sp.sqrt(sp.integrate(E*I*sp.diff(w_x_biegelinie_norm,x,2)**2, (x,0,l)) /sp.integrate(m_const*w_x_biegelinie_norm**2, (x,0,l)) )\n",
    "\n",
    "\n",
    "render.eq_display('omega_1_biege', omega_1_biege.evalf(3))"
   ]
  },
  {
   "cell_type": "markdown",
   "metadata": {},
   "source": [
    "Die Abweichung zur exakten Lösung ist minimal."
   ]
  },
  {
   "cell_type": "markdown",
   "metadata": {},
   "source": [
    "#### Vergleich beider Lösungen"
   ]
  },
  {
   "cell_type": "code",
   "execution_count": 23,
   "metadata": {},
   "outputs": [
    {
     "data": {
      "text/latex": [
       "$\\displaystyle Abweichung = 0.72 \\%$"
      ],
      "text/plain": [
       "Eq(Abweichung, 0.72*percent)"
      ]
     },
     "metadata": {},
     "output_type": "display_data"
    }
   ],
   "source": [
    "\n",
    "render.eq_display('Abweichung', ((omega_1_biege / omega_1-1)*100).evalf(2)*unit.percent)"
   ]
  },
  {
   "cell_type": "code",
   "execution_count": 24,
   "metadata": {},
   "outputs": [
    {
     "data": {
      "image/png": "[encoded data removed]",
      "text/plain": [
       "<Figure size 590x300 with 1 Axes>"
      ]
     },
     "metadata": {},
     "output_type": "display_data"
    }
   ],
   "source": [
    "#| output: false\n",
    "#| label: fig-formfunktion_vergleich\n",
    "#| fig-cap: \"Überlagerung beider Funktionen\"\n",
    "\n",
    "sp.plot(w_x_biegelinie_norm.subs([(l,1),(F,1),(E,1),(I,1)]),psi_x.subs(l,1), (x,0,1),size=(5.9,3),show=False).save('bilder/fig-formfunktion_vergleich.svg')\n"
   ]
  },
  {
   "cell_type": "markdown",
   "metadata": {},
   "source": [
    "![Überlagerung beider Funktionen](bilder/fig-formfunktion_vergleich.svg){#fig-formfunktion_vergleich}"
   ]
  }
 ],
 "metadata": {
  "kernelspec": {
   "display_name": "Python 3 (ipykernel)",
   "language": "python",
   "name": "python3"
  },
  "language_info": {
   "codemirror_mode": {
    "name": "ipython",
    "version": 3
   },
   "file_extension": ".py",
   "mimetype": "text/x-python",
   "name": "python",
   "nbconvert_exporter": "python",
   "pygments_lexer": "ipython3",
   "version": "3.11.3"
  }
 },
 "nbformat": 4,
 "nbformat_minor": 4
}
