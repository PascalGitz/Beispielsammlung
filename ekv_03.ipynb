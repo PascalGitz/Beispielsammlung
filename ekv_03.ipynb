{
 "cells": [
  {
   "cell_type": "code",
   "execution_count": 1,
   "id": "90c6ee46-c229-4a6b-8942-fc6a35962af6",
   "metadata": {},
   "outputs": [],
   "source": [
    "%run style_and_packages.ipynb"
   ]
  },
  {
   "cell_type": "markdown",
   "id": "4c8a9291-e669-4dd4-942a-daff6871dbba",
   "metadata": {},
   "source": [
    "# Beispiel: Rayleigh-Quotient an einem Siebenmassenschwinger beim Ersatzkraftverfahren\n",
    "## Aufgabenstellung\n",
    "\n",
    "Das Beispiel ist aus @SIA2013_beispiele Seite 77 entnommen. Die Lastermittlung wird übernommen. Es wird vom vereinfachten Modell in @fig-ekv_7_modell ausgegangen. Der Fokus liegt auf der Bestimmung der Grundfrequenz.\n",
    "\n",
    "![Vereinfachtes Modell für einen Mehrmassenschwinger](bilder/aufgabe_ekv_sieben_biege.svg){#fig-ekv_7_modell}"
   ]
  },
  {
   "cell_type": "markdown",
   "id": "935ebf04-e2e7-4441-9062-720073df8361",
   "metadata": {},
   "source": [
    "## Musterlösung"
   ]
  },
  {
   "cell_type": "code",
   "execution_count": null,
   "id": "ab5d337f-455c-449c-a6e7-d23da3ef1185",
   "metadata": {},
   "outputs": [],
   "source": [
    "def pdf_to_svg(dir):\n",
    "    import os\n",
    "    import subprocess\n",
    "    \n",
    "    input_dir = dir\n",
    "    output_dir = dir\n",
    "    \n",
    "def pdf_to_svg(dir):\n",
    "    import os\n",
    "    import subprocess\n",
    "    \n",
    "    input_dir = dir\n",
    "    output_dir = dir\n",
    "\n",
    "    for filename in os.listdir(input_dir):\n",
    "        if filename.endswith(\".pdf\"):\n",
    "            input_file = os.path.join(input_dir, filename)\n",
    "            output_file = os.path.join(output_dir, filename.replace('.pdf', '') + \".svg\")\n",
    "            subprocess.run([inkscape_path, \"--export-type=svg\", \"--pdf-poppler\", \"-l\", output_file, input_file])\n"
   ]
  },
  {
   "cell_type": "code",
   "execution_count": null,
   "id": "64a72858-62f7-4396-912e-39426c4370d5",
   "metadata": {},
   "outputs": [],
   "source": [
    "pdf_to_svg(\"bilder/\")"
   ]
  },
  {
   "cell_type": "code",
   "execution_count": null,
   "id": "a30e10ff-0b2a-40ec-b7c9-ed5493aff93c",
   "metadata": {},
   "outputs": [],
   "source": []
  }
 ],
 "metadata": {
  "kernelspec": {
   "display_name": "Python 3 (ipykernel)",
   "language": "python",
   "name": "python3"
  },
  "language_info": {
   "codemirror_mode": {
    "name": "ipython",
    "version": 3
   },
   "file_extension": ".py",
   "mimetype": "text/x-python",
   "name": "python",
   "nbconvert_exporter": "python",
   "pygments_lexer": "ipython3",
   "version": "3.10.12"
  }
 },
 "nbformat": 4,
 "nbformat_minor": 5
}
