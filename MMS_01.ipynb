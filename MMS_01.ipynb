{
 "cells": [
  {
   "attachments": {},
   "cell_type": "markdown",
   "metadata": {},
   "source": [
    "# Eigenvektoren an Rahmentragwerk mit Nachgiebigkeitsmatrix\n",
    "\n",
    "[Aufgabenstellung](calculations/%C3%9Cbung%201_2_MMS.pdf)\n",
    "\n",
    "![Statisches System des 2-Massenschwingers](pictures/mms1.jpg){#fig-system}"
   ]
  },
  {
   "cell_type": "code",
   "execution_count": 1,
   "metadata": {},
   "outputs": [],
   "source": [
    "import sympy as sp \n",
    "from sympycalcs import render, convert\n",
    "import sympy.physics.units as unit\n",
    "\n",
    "import matplotlib.pyplot as plt"
   ]
  },
  {
   "attachments": {},
   "cell_type": "markdown",
   "metadata": {},
   "source": [
    "## Parameter der Aufgabenstellung\n"
   ]
  },
  {
   "cell_type": "code",
   "execution_count": 2,
   "metadata": {},
   "outputs": [
    {
     "data": {
      "text/latex": [
       "$\\displaystyle EI = 20000000000000 \\text{mm}^{2} \\text{N}$"
      ],
      "text/plain": [
       "Eq(EI, 20000000000000*millimeter**2*newton)"
      ]
     },
     "metadata": {},
     "output_type": "display_data"
    },
    {
     "data": {
      "text/latex": [
       "$\\displaystyle m_{1} = \\frac{1000 \\text{N} \\text{s}^{2}}{\\text{m}}$"
      ],
      "text/plain": [
       "Eq(m_1, 1000*newton*second**2/meter)"
      ]
     },
     "metadata": {},
     "output_type": "display_data"
    },
    {
     "data": {
      "text/latex": [
       "$\\displaystyle m_{2} = \\frac{1000 \\text{N} \\text{s}^{2}}{\\text{m}}$"
      ],
      "text/plain": [
       "Eq(m_2, 1000*newton*second**2/meter)"
      ]
     },
     "metadata": {},
     "output_type": "display_data"
    },
    {
     "data": {
      "text/latex": [
       "$\\displaystyle l = 4 \\text{m}$"
      ],
      "text/plain": [
       "Eq(l, 4*meter)"
      ]
     },
     "metadata": {},
     "output_type": "display_data"
    }
   ],
   "source": [
    "params = {'EI': 20*10**12 *unit.N*unit.mm**2,\n",
    "          'm_1':1000*unit.N*unit.second**2/unit.m,\n",
    "          'm_2':1000*unit.N*unit.second**2/unit.m,\n",
    "          'l':4*unit.m,\n",
    "          }\n",
    "\n",
    "render.dict_render(params)"
   ]
  },
  {
   "cell_type": "code",
   "execution_count": 3,
   "metadata": {},
   "outputs": [],
   "source": [
    "omega, t,  l, m_1, m_2, EI = sp.symbols('omega, t,  l, m_1, m_2, EI')\n",
    "\n",
    "omega_n = sp.symbols('omega_n')"
   ]
  },
  {
   "attachments": {},
   "cell_type": "markdown",
   "metadata": {},
   "source": [
    "## Nachgiebigkeitsmatrix $\\mathbf{D}$ {#sec-nachgiebigkeit}\n",
    "\n",
    "Die Steifigkeitsmatrix lässt sich durch Invertierung der Nachgiebigkeitsmatrix beschreiben. Die Nachgiebigkeitsmatrix $\\mathbf{D}$ beschreibt die Deformation an einem Massenpunkt. Die Einträge der $\\mathbf{D}$ - Matrix beschreiben die Deformationen für unterschiedliche Laststellungen.\n",
    "\n",
    "$$\\mathbf{K} = \\mathbf{D^{-1}}$$\n",
    "\n",
    "![Balken mit 2 Einzelmassen](pictures/bsp_nachgib.jpg){#fig-2mms}\n",
    "\n",
    "Für einen 2-Massenschwinger, wie in @fig-2mms , hat die Nachgiebigkeitsmatrix folgende Form:\n",
    "\n",
    "$$\\mathbf{D} = \\frac{1}{EI}*\\begin{bmatrix}\n",
    "\\delta_{11} & \\delta_{12}\\\\\n",
    "\\delta_{21} & \\delta_{22} \n",
    "\\end{bmatrix}$$\n",
    "\n",
    "wobei gilt:\n",
    "\n",
    "$\\delta_{ab}$ : $a$ ist die Lastsituation, $b$ ist die Masse.\n",
    "\n",
    "\n",
    "### Anwendung \n",
    "\n",
    "![Schnittgrössen für beide Lastfälle zur Bestimmung der Deformation](pictures/rahmen_def.jpg){#fig-schnittgrössen}\n",
    "\n",
    "$$\\delta_{ab} = \\frac{1}{EI}\\int_{0}^{l} M_a\\bar{M_b} \\,dx$$\n",
    "\n",
    "Es werden 2 Laststellungen betrachtet, jeweils an einem Massenpunkt. Dabei ist Beachtung der Einheit der Einwirkung zu schenken. Diese wird einheitslos angesetzt."
   ]
  },
  {
   "cell_type": "code",
   "execution_count": 4,
   "metadata": {},
   "outputs": [
    {
     "data": {
      "text/latex": [
       "$\\displaystyle \\delta_{11} = \\frac{2 l^{3}}{3 EI}$"
      ],
      "text/plain": [
       "Eq(delta_11, 2*l**3/(3*EI))"
      ]
     },
     "metadata": {},
     "output_type": "display_data"
    },
    {
     "data": {
      "text/latex": [
       "$\\displaystyle \\delta_{12} = \\frac{5 l^{3}}{6 EI}$"
      ],
      "text/plain": [
       "Eq(delta_12, 5*l**3/(6*EI))"
      ]
     },
     "metadata": {},
     "output_type": "display_data"
    },
    {
     "data": {
      "text/latex": [
       "$\\displaystyle \\delta_{21} = \\frac{5 l^{3}}{6 EI}$"
      ],
      "text/plain": [
       "Eq(delta_21, 5*l**3/(6*EI))"
      ]
     },
     "metadata": {},
     "output_type": "display_data"
    },
    {
     "data": {
      "text/latex": [
       "$\\displaystyle \\delta_{22} = \\frac{5 l^{3}}{3 EI}$"
      ],
      "text/plain": [
       "Eq(delta_22, 5*l**3/(3*EI))"
      ]
     },
     "metadata": {},
     "output_type": "display_data"
    }
   ],
   "source": [
    "delta_11 = 1/(EI) * (sp.Rational(1,3) * -l*-l*1*l)* 2\n",
    "delta_12 = 1/(EI) * ((sp.Rational(1,3) * -l*-l*1*l) + (sp.Rational(1,2) * -l*-l*1*l))\n",
    "delta_21 = delta_12\n",
    "delta_22 = 1/(EI) * ((sp.Rational(1,3) * -l*-l*1*l)* 2 + -l*-l*1*l)\n",
    "\n",
    "render.eq_display('delta_11', delta_11,\n",
    "                  'delta_12', delta_12,\n",
    "                  'delta_21', delta_21,\n",
    "                  'delta_22', delta_22)\n"
   ]
  },
  {
   "cell_type": "code",
   "execution_count": 5,
   "metadata": {},
   "outputs": [
    {
     "data": {
      "text/latex": [
       "$\\displaystyle D = \\left[\\begin{matrix}\\frac{2 l^{3}}{3 EI} & \\frac{5 l^{3}}{6 EI}\\\\\\frac{5 l^{3}}{6 EI} & \\frac{5 l^{3}}{3 EI}\\end{matrix}\\right]$"
      ],
      "text/plain": [
       "Eq(D, Matrix([\n",
       "[2*l**3/(3*EI), 5*l**3/(6*EI)],\n",
       "[5*l**3/(6*EI), 5*l**3/(3*EI)]]))"
      ]
     },
     "metadata": {},
     "output_type": "display_data"
    },
    {
     "data": {
      "text/latex": [
       "$\\displaystyle K = \\left[\\begin{matrix}\\frac{4 EI}{l^{3}} & - \\frac{2 EI}{l^{3}}\\\\- \\frac{2 EI}{l^{3}} & \\frac{8 EI}{5 l^{3}}\\end{matrix}\\right]$"
      ],
      "text/plain": [
       "Eq(K, Matrix([\n",
       "[ 4*EI/l**3,    -2*EI/l**3],\n",
       "[-2*EI/l**3, 8*EI/(5*l**3)]]))"
      ]
     },
     "metadata": {},
     "output_type": "display_data"
    }
   ],
   "source": [
    "D = sp.Matrix([[delta_11, delta_12],[delta_21, delta_22]])\n",
    "K = D.inv()\n",
    "render.eq_display(sp.MatrixSymbol('D', 2,2), D,\n",
    "                  sp.MatrixSymbol('K', 2,2), K)"
   ]
  },
  {
   "attachments": {},
   "cell_type": "markdown",
   "metadata": {},
   "source": [
    "## Eigenvektoren\n",
    "\n",
    "Die Bewegungsgleichung für einen ungedämpften, frei schwingenden Mehrmassenschwinger lässt sich folgender massen aufstellen:\n",
    "\n",
    "$$\\mathbf{M u''(t) + K u(t)} = 0$$\n",
    "\n",
    "Die Modale Analyse entkoppelt die Gleichungen aus der Matrixschreibweise um diese unabhängig von einander zu lösen."
   ]
  },
  {
   "attachments": {},
   "cell_type": "markdown",
   "metadata": {},
   "source": [
    "### Massenmatrix $\\mathbf{M}$"
   ]
  },
  {
   "cell_type": "code",
   "execution_count": 6,
   "metadata": {},
   "outputs": [
    {
     "data": {
      "text/latex": [
       "$\\displaystyle M = \\left[\\begin{matrix}m_{1} & 0\\\\0 & m_{2}\\end{matrix}\\right]$"
      ],
      "text/plain": [
       "Eq(M, Matrix([\n",
       "[m_1,   0],\n",
       "[  0, m_2]]))"
      ]
     },
     "metadata": {},
     "output_type": "display_data"
    }
   ],
   "source": [
    "M = sp.Matrix([[m_1,0],[0,m_2]])\n",
    "\n",
    "render.eq_display(sp.MatrixSymbol('M',2,2), M)"
   ]
  },
  {
   "attachments": {},
   "cell_type": "markdown",
   "metadata": {},
   "source": [
    "### Eigenkreisfrequenzen \n",
    "Bei einem Mehrmassenschwinger gibt es entsprechend den Freiheitsgraden Eigenkreisfrequenzen $\\omega_n$. Diese lassen sich anhand folgender Gleichung bestimmen:\n",
    "\n",
    "$$\\det{[\\mathbf{K}-\\omega_n^2 \\mathbf{M}]=0}$$"
   ]
  },
  {
   "cell_type": "code",
   "execution_count": 7,
   "metadata": {},
   "outputs": [
    {
     "data": {
      "text/latex": [
       "$\\displaystyle \\omega_{1} = \\frac{12.1}{\\text{s}}$"
      ],
      "text/plain": [
       "Eq(omega_1, 12.1/second)"
      ]
     },
     "metadata": {},
     "output_type": "display_data"
    },
    {
     "data": {
      "text/latex": [
       "$\\displaystyle \\omega_{2} = \\frac{40.0}{\\text{s}}$"
      ],
      "text/plain": [
       "Eq(omega_2, 40.0/second)"
      ]
     },
     "metadata": {},
     "output_type": "display_data"
    }
   ],
   "source": [
    "eq_omega = sp.det(K-omega_n**2*M)\n",
    "\n",
    "omega_n_solve = sp.solve(eq_omega, omega_n)\n",
    "omega_1 = omega_n_solve[1]\n",
    "omega_2 = omega_n_solve[3]\n",
    "\n",
    "render.eq_display('omega_1', omega_1.subs(params).simplify().evalf(3),\n",
    "                  'omega_2', omega_2.subs(params).simplify().evalf(3))"
   ]
  },
  {
   "attachments": {},
   "cell_type": "markdown",
   "metadata": {},
   "source": [
    "### Eigenvektoren $\\mathbf{\\phi}$\n",
    "\n",
    "Dazu ist die entsprechende Normierung aus der Aufgabenstellung zu berücksichtigen."
   ]
  },
  {
   "cell_type": "code",
   "execution_count": 8,
   "metadata": {},
   "outputs": [
    {
     "data": {
      "text/latex": [
       "$\\displaystyle \\left[\\begin{matrix}- \\frac{2 EI \\phi_{21}}{l^{3}} + \\phi_{11} \\cdot \\left(\\frac{4 EI}{l^{3}} - m_{1} \\cdot \\left(\\frac{4 EI}{5 l^{3} m_{2}} + \\frac{2 EI}{l^{3} m_{1}} - \\frac{2 EI \\sqrt{4 m_{1}^{2} + 5 m_{1} m_{2} + 25 m_{2}^{2}}}{5 l^{3} m_{1} m_{2}}\\right)\\right)\\\\- \\frac{2 EI \\phi_{11}}{l^{3}} + \\phi_{21} \\cdot \\left(\\frac{8 EI}{5 l^{3}} - m_{2} \\cdot \\left(\\frac{4 EI}{5 l^{3} m_{2}} + \\frac{2 EI}{l^{3} m_{1}} - \\frac{2 EI \\sqrt{4 m_{1}^{2} + 5 m_{1} m_{2} + 25 m_{2}^{2}}}{5 l^{3} m_{1} m_{2}}\\right)\\right)\\end{matrix}\\right] = \\left[\\begin{matrix}0\\\\0\\end{matrix}\\right]$"
      ],
      "text/plain": [
       "Eq(Matrix([\n",
       "[    -2*EI*phi_21/l**3 + phi_11*(4*EI/l**3 - m_1*(4*EI/(5*l**3*m_2) + 2*EI/(l**3*m_1) - 2*EI*sqrt(4*m_1**2 + 5*m_1*m_2 + 25*m_2**2)/(5*l**3*m_1*m_2)))],\n",
       "[-2*EI*phi_11/l**3 + phi_21*(8*EI/(5*l**3) - m_2*(4*EI/(5*l**3*m_2) + 2*EI/(l**3*m_1) - 2*EI*sqrt(4*m_1**2 + 5*m_1*m_2 + 25*m_2**2)/(5*l**3*m_1*m_2)))]]), Matrix([\n",
       "[0],\n",
       "[0]]))"
      ]
     },
     "metadata": {},
     "output_type": "display_data"
    },
    {
     "data": {
      "text/latex": [
       "$\\displaystyle \\phi_{1} = \\left[\\begin{matrix}1.0\\\\1.77\\end{matrix}\\right]$"
      ],
      "text/plain": [
       "Eq(phi_1, Matrix([\n",
       "[ 1.0],\n",
       "[1.77]]))"
      ]
     },
     "metadata": {},
     "output_type": "display_data"
    }
   ],
   "source": [
    "phi_11, phi_21, phi_12, phi_22 = sp.symbols('phi_11, phi_21, phi_12, phi_22')\n",
    "params['phi_11'] = 1\n",
    "\n",
    "phi_1 = sp.Matrix([[phi_11], [phi_21]])\n",
    "\n",
    "phi_21 = list(sp.solve((K-omega_1**2 *M)*phi_1, phi_21).values())[0]\n",
    "\n",
    "params['phi_21'] = phi_21.subs(params).simplify() \n",
    "\n",
    "\n",
    "\n",
    "\n",
    "render.eq_display((K-omega_1**2 *M)*phi_1,sp.Matrix([[0],[0]]),\n",
    "                  sp.MatrixSymbol('phi_1', 2,1),sp.simplify(phi_1.subs(params)).evalf(3))\n"
   ]
  },
  {
   "cell_type": "code",
   "execution_count": 9,
   "metadata": {},
   "outputs": [
    {
     "data": {
      "text/latex": [
       "$\\displaystyle \\left[\\begin{matrix}- \\frac{2 EI \\phi_{22}}{l^{3}} + \\phi_{12} \\cdot \\left(\\frac{4 EI}{l^{3}} - m_{1} \\cdot \\left(\\frac{4 EI}{5 l^{3} m_{2}} + \\frac{2 EI}{l^{3} m_{1}} + \\frac{2 EI \\sqrt{4 m_{1}^{2} + 5 m_{1} m_{2} + 25 m_{2}^{2}}}{5 l^{3} m_{1} m_{2}}\\right)\\right)\\\\- \\frac{2 EI \\phi_{12}}{l^{3}} + \\phi_{22} \\cdot \\left(\\frac{8 EI}{5 l^{3}} - m_{2} \\cdot \\left(\\frac{4 EI}{5 l^{3} m_{2}} + \\frac{2 EI}{l^{3} m_{1}} + \\frac{2 EI \\sqrt{4 m_{1}^{2} + 5 m_{1} m_{2} + 25 m_{2}^{2}}}{5 l^{3} m_{1} m_{2}}\\right)\\right)\\end{matrix}\\right] = \\left[\\begin{matrix}0\\\\0\\end{matrix}\\right]$"
      ],
      "text/plain": [
       "Eq(Matrix([\n",
       "[    -2*EI*phi_22/l**3 + phi_12*(4*EI/l**3 - m_1*(4*EI/(5*l**3*m_2) + 2*EI/(l**3*m_1) + 2*EI*sqrt(4*m_1**2 + 5*m_1*m_2 + 25*m_2**2)/(5*l**3*m_1*m_2)))],\n",
       "[-2*EI*phi_12/l**3 + phi_22*(8*EI/(5*l**3) - m_2*(4*EI/(5*l**3*m_2) + 2*EI/(l**3*m_1) + 2*EI*sqrt(4*m_1**2 + 5*m_1*m_2 + 25*m_2**2)/(5*l**3*m_1*m_2)))]]), Matrix([\n",
       "[0],\n",
       "[0]]))"
      ]
     },
     "metadata": {},
     "output_type": "display_data"
    },
    {
     "data": {
      "text/latex": [
       "$\\displaystyle \\phi_{2} = \\left[\\begin{matrix}1.0\\\\-0.566\\end{matrix}\\right]$"
      ],
      "text/plain": [
       "Eq(phi_2, Matrix([\n",
       "[   1.0],\n",
       "[-0.566]]))"
      ]
     },
     "metadata": {},
     "output_type": "display_data"
    }
   ],
   "source": [
    "params['phi_12'] = 1\n",
    "\n",
    "phi_2 = sp.Matrix([[phi_12], [phi_22]])\n",
    "\n",
    "phi_22 = list(sp.solve((K-omega_2**2 *M)*phi_2, phi_22).values())[0]\n",
    "\n",
    "params['phi_22'] = phi_22.subs(params).simplify() \n",
    "\n",
    "\n",
    "\n",
    "\n",
    "render.eq_display((K-omega_2**2 *M)*phi_2,sp.Matrix([[0],[0]]),\n",
    "                  sp.MatrixSymbol('phi_2', 2,1),sp.simplify(phi_2.subs(params)).evalf(3))\n"
   ]
  },
  {
   "attachments": {},
   "cell_type": "markdown",
   "metadata": {},
   "source": [
    "### Orthogonalitätsbedingung\n",
    "\n",
    "Zur effektiven Entkoppelung der Gleichungen muss die Orthogonalitätsbedingung eingehalten sein. Dies gilt es für die Massenmatrix zu kontrollieren:\n",
    "\n",
    "$$\\mathbf{\\phi_1^T M \\phi_1 \\neq 0}$$\n",
    "\n",
    "$$\\mathbf{\\phi_2^T M \\phi_2 \\neq 0}$$\n",
    "\n",
    "$$\\mathbf{\\phi_2^T M \\phi_1 = 0}$$\n",
    "\n",
    "Sowohl auch für die Steifigkeitsmatrix:\n",
    "\n",
    "$$\\mathbf{\\phi_1^T K \\phi_1 \\neq 0}$$\n",
    "\n",
    "$$\\mathbf{\\phi_2^T K \\phi_2 \\neq 0}$$\n",
    "\n",
    "$$\\mathbf{\\phi_2^T K \\phi_1 = 0}$$\n",
    "\n"
   ]
  },
  {
   "cell_type": "code",
   "execution_count": 10,
   "metadata": {},
   "outputs": [
    {
     "data": {
      "text/latex": [
       "$\\displaystyle \\phi_{1}^{T} M \\phi_{1} = \\left[\\begin{matrix}\\frac{4.12 \\cdot 10^{3} \\text{N} \\text{s}^{2}}{\\text{m}}\\end{matrix}\\right]$"
      ],
      "text/plain": [
       "Eq(phi_1.T*M*phi_1, Matrix([[4.12e+3*newton*second**2/meter]]))"
      ]
     },
     "metadata": {},
     "output_type": "display_data"
    },
    {
     "data": {
      "text/latex": [
       "$\\displaystyle \\phi_{2}^{T} M \\phi_{2} = \\left[\\begin{matrix}\\frac{1.32 \\cdot 10^{3} \\text{N} \\text{s}^{2}}{\\text{m}}\\end{matrix}\\right]$"
      ],
      "text/plain": [
       "Eq(phi_2.T*M*phi_2, Matrix([[1.32e+3*newton*second**2/meter]]))"
      ]
     },
     "metadata": {},
     "output_type": "display_data"
    },
    {
     "data": {
      "text/latex": [
       "$\\displaystyle \\phi_{2}^{T} M \\phi_{1} = \\left[\\begin{matrix}0\\end{matrix}\\right]$"
      ],
      "text/plain": [
       "Eq(phi_2.T*M*phi_1, Matrix([[0]]))"
      ]
     },
     "metadata": {},
     "output_type": "display_data"
    },
    {
     "data": {
      "text/latex": [
       "$\\displaystyle \\phi_{1}^{T} M \\phi_{2} = \\left[\\begin{matrix}0\\end{matrix}\\right]$"
      ],
      "text/plain": [
       "Eq(phi_1.T*M*phi_2, Matrix([[0]]))"
      ]
     },
     "metadata": {},
     "output_type": "display_data"
    }
   ],
   "source": [
    "render.eq_display(sp.MatrixSymbol('phi_1',2,1).T*sp.MatrixSymbol('M', 2,2)*sp.MatrixSymbol('phi_1',2,1),(phi_1.T*M*phi_1).subs(params).evalf(3),\n",
    "                  \n",
    "                  sp.MatrixSymbol('phi_2',2,1).T*sp.MatrixSymbol('M', 2,2)*sp.MatrixSymbol('phi_2',2,1),(phi_2.T*M*phi_2).subs(params).evalf(3),\n",
    "\n",
    "                  sp.MatrixSymbol('phi_2',2,1).T*sp.MatrixSymbol('M', 2,2)*sp.MatrixSymbol('phi_1',2,1),(phi_2.T*M*phi_1).subs(params).evalf(3),\n",
    "\n",
    "                  sp.MatrixSymbol('phi_1',2,1).T*sp.MatrixSymbol('M', 2,2)*sp.MatrixSymbol('phi_2',2,1),(phi_1.T*M*phi_2).subs(params).evalf(3))"
   ]
  },
  {
   "cell_type": "code",
   "execution_count": 11,
   "metadata": {},
   "outputs": [
    {
     "data": {
      "text/latex": [
       "$\\displaystyle \\phi_{1}^{T} K \\phi_{1} = \\left[\\begin{matrix}\\frac{6.02 \\cdot 10^{5} \\text{N}}{\\text{m}}\\end{matrix}\\right]$"
      ],
      "text/plain": [
       "Eq(phi_1.T*K*phi_1, Matrix([[6.02e+5*newton/meter]]))"
      ]
     },
     "metadata": {},
     "output_type": "display_data"
    },
    {
     "data": {
      "text/latex": [
       "$\\displaystyle \\phi_{2}^{T} K \\phi_{2} = \\left[\\begin{matrix}\\frac{2.12 \\cdot 10^{6} \\text{N}}{\\text{m}}\\end{matrix}\\right]$"
      ],
      "text/plain": [
       "Eq(phi_2.T*K*phi_2, Matrix([[2.12e+6*newton/meter]]))"
      ]
     },
     "metadata": {},
     "output_type": "display_data"
    },
    {
     "data": {
      "text/latex": [
       "$\\displaystyle \\phi_{2}^{T} K \\phi_{1} = \\left[\\begin{matrix}0\\end{matrix}\\right]$"
      ],
      "text/plain": [
       "Eq(phi_2.T*K*phi_1, Matrix([[0]]))"
      ]
     },
     "metadata": {},
     "output_type": "display_data"
    },
    {
     "data": {
      "text/latex": [
       "$\\displaystyle \\phi_{1}^{T} K \\phi_{2} = \\left[\\begin{matrix}0\\end{matrix}\\right]$"
      ],
      "text/plain": [
       "Eq(phi_1.T*K*phi_2, Matrix([[0]]))"
      ]
     },
     "metadata": {},
     "output_type": "display_data"
    }
   ],
   "source": [
    "render.eq_display(sp.MatrixSymbol('phi_1',2,1).T*sp.MatrixSymbol('K', 2,2)*sp.MatrixSymbol('phi_1',2,1),sp.simplify((phi_1.T*K*phi_1).subs(params)).evalf(3),\n",
    "                  \n",
    "                  sp.MatrixSymbol('phi_2',2,1).T*sp.MatrixSymbol('K', 2,2)*sp.MatrixSymbol('phi_2',2,1),sp.simplify((phi_2.T*K*phi_2).subs(params)).evalf(3),\n",
    "\n",
    "                  sp.MatrixSymbol('phi_2',2,1).T*sp.MatrixSymbol('K', 2,2)*sp.MatrixSymbol('phi_1',2,1),sp.simplify((phi_2.T*K*phi_1).subs(params)).evalf(3),\n",
    "                  \n",
    "                  sp.MatrixSymbol('phi_1',2,1).T*sp.MatrixSymbol('K', 2,2)*sp.MatrixSymbol('phi_2',2,1),sp.simplify((phi_1.T*K*phi_2).subs(params)).evalf(3))"
   ]
  },
  {
   "attachments": {},
   "cell_type": "markdown",
   "metadata": {},
   "source": [
    "### Eigenformen\n",
    "\n",
    "![Die beiden Eigenformen skizziert](pictures/eigenformen.jpg){#fig-eigenformen}"
   ]
  }
 ],
 "metadata": {
  "kernelspec": {
   "display_name": "engineering",
   "language": "python",
   "name": "python3"
  },
  "language_info": {
   "codemirror_mode": {
    "name": "ipython",
    "version": 3
   },
   "file_extension": ".py",
   "mimetype": "text/x-python",
   "name": "python",
   "nbconvert_exporter": "python",
   "pygments_lexer": "ipython3",
   "version": "3.10.10"
  },
  "orig_nbformat": 4
 },
 "nbformat": 4,
 "nbformat_minor": 2
}
